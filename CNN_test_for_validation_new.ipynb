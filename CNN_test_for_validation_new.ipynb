{
  "cells": [
    {
      "cell_type": "markdown",
      "metadata": {
        "id": "llXMxW0WA36R"
      },
      "source": [
        "# Import libraries"
      ],
      "id": "llXMxW0WA36R"
    },
    {
      "cell_type": "code",
      "execution_count": 1,
      "metadata": {
        "id": "89d762e3"
      },
      "outputs": [],
      "source": [
        "import matplotlib.pyplot as plt\n",
        "import numpy as np\n",
        "import os\n",
        "import PIL\n",
        "import pathlib\n",
        "import cv2\n",
        "import tensorflow as tf\n",
        "import random \n",
        "\n",
        "from imblearn.over_sampling import SMOTE\n",
        "from sklearn.metrics import confusion_matrix\n",
        "from sklearn.metrics import *\n",
        "\n",
        "from tensorflow import keras\n",
        "from tensorflow.keras import layers\n",
        "from tensorflow.keras.models import Sequential"
      ],
      "id": "89d762e3"
    },
    {
      "cell_type": "markdown",
      "metadata": {
        "id": "5bdde8fa"
      },
      "source": [
        "# Explore the images from image preparation"
      ],
      "id": "5bdde8fa"
    },
    {
      "cell_type": "code",
      "execution_count": 2,
      "metadata": {
        "colab": {
          "base_uri": "https://localhost:8080/"
        },
        "id": "Ye2XYjYFKyCI",
        "outputId": "ca367e7c-8ec4-4834-fa14-3ed6b9053c8e"
      },
      "outputs": [
        {
          "output_type": "stream",
          "name": "stdout",
          "text": [
            "Mounted at /content/gdrive\n"
          ]
        }
      ],
      "source": [
        "from google.colab import drive\n",
        "drive.mount('/content/gdrive')"
      ],
      "id": "Ye2XYjYFKyCI"
    },
    {
      "cell_type": "code",
      "execution_count": 3,
      "metadata": {
        "colab": {
          "base_uri": "https://localhost:8080/"
        },
        "id": "SuIA5iRLK4E5",
        "outputId": "fb4a0449-f116-4ce0-ea2c-4a3830ef2bab"
      },
      "outputs": [
        {
          "output_type": "stream",
          "name": "stdout",
          "text": [
            "gdrive/MyDrive/NewThesis_Poonyawat_Woottisart/val_dataset_filtered\n"
          ]
        }
      ],
      "source": [
        "# img_loc = 'C:/Users/Asus/Documents/Thesis/Me/Dataset'\n",
        "# Root directory of the project\n",
        "ROOT_DIR = os.path.abspath(\"../\")\n",
        "img_loc = \"gdrive/MyDrive/NewThesis_Poonyawat_Woottisart/val_dataset_filtered\"\n",
        "print(img_loc)"
      ],
      "id": "SuIA5iRLK4E5"
    },
    {
      "cell_type": "code",
      "execution_count": 4,
      "metadata": {
        "id": "c1fcb72e"
      },
      "outputs": [],
      "source": [
        "data_dir = pathlib.Path(img_loc)"
      ],
      "id": "c1fcb72e"
    },
    {
      "cell_type": "code",
      "execution_count": 5,
      "metadata": {
        "colab": {
          "base_uri": "https://localhost:8080/"
        },
        "id": "nC-aW96TM5_x",
        "outputId": "93cd42ac-6555-46fe-d42a-e66c745a8b7b"
      },
      "outputs": [
        {
          "output_type": "execute_result",
          "data": {
            "text/plain": [
              "PosixPath('gdrive/MyDrive/NewThesis_Poonyawat_Woottisart/val_dataset_filtered')"
            ]
          },
          "metadata": {},
          "execution_count": 5
        }
      ],
      "source": [
        "data_dir"
      ],
      "id": "nC-aW96TM5_x"
    },
    {
      "cell_type": "code",
      "execution_count": 6,
      "metadata": {
        "id": "183bdaec"
      },
      "outputs": [],
      "source": [
        "# img_eu_loc = img_loc + '/european-street-fashion-output'\n",
        "# img_jp_loc = img_loc + '/harajuku-kawaii-street-fashion-output'\n",
        "# img_th_loc = img_loc + '/thai-street-fashion-output'\n",
        "\n",
        "img_jp_loc = img_loc + '/ha-output/crop'\n",
        "img_th_loc = img_loc + '/th-output/crop'"
      ],
      "id": "183bdaec"
    },
    {
      "cell_type": "code",
      "execution_count": 7,
      "metadata": {
        "colab": {
          "base_uri": "https://localhost:8080/",
          "height": 35
        },
        "id": "247821e6",
        "outputId": "908e82a8-2dfe-4355-e243-f486ce6469ce"
      },
      "outputs": [
        {
          "output_type": "execute_result",
          "data": {
            "text/plain": [
              "'gdrive/MyDrive/NewThesis_Poonyawat_Woottisart/val_dataset_filtered/ha-output/crop'"
            ],
            "application/vnd.google.colaboratory.intrinsic+json": {
              "type": "string"
            }
          },
          "metadata": {},
          "execution_count": 7
        }
      ],
      "source": [
        "img_jp_loc"
      ],
      "id": "247821e6"
    },
    {
      "cell_type": "code",
      "execution_count": 8,
      "metadata": {
        "id": "9bb81c80"
      },
      "outputs": [],
      "source": [
        "dim_i_list = []\n",
        "dim_j_list = []\n",
        "img_list = []\n",
        "label_list = []\n",
        "idx = 0"
      ],
      "id": "9bb81c80"
    },
    {
      "cell_type": "markdown",
      "metadata": {
        "id": "0254cb96"
      },
      "source": [
        "#### THAI"
      ],
      "id": "0254cb96"
    },
    {
      "cell_type": "code",
      "execution_count": 9,
      "metadata": {
        "colab": {
          "base_uri": "https://localhost:8080/"
        },
        "id": "ffb1f37b",
        "outputId": "48aa4773-9840-4e6e-b021-147b8218133d"
      },
      "outputs": [
        {
          "output_type": "stream",
          "name": "stdout",
          "text": [
            "gdrive/MyDrive/NewThesis_Poonyawat_Woottisart/val_dataset_filtered/th-output/crop/test00000.png: (854, 933, 3) - 0\n",
            "gdrive/MyDrive/NewThesis_Poonyawat_Woottisart/val_dataset_filtered/th-output/crop/test00002.png: (470, 248, 3) - 1\n",
            "gdrive/MyDrive/NewThesis_Poonyawat_Woottisart/val_dataset_filtered/th-output/crop/test00001.png: (465, 209, 3) - 2\n",
            "gdrive/MyDrive/NewThesis_Poonyawat_Woottisart/val_dataset_filtered/th-output/crop/test00007.png: (244, 238, 3) - 3\n",
            "gdrive/MyDrive/NewThesis_Poonyawat_Woottisart/val_dataset_filtered/th-output/crop/test00008.png: (266, 245, 3) - 4\n",
            "gdrive/MyDrive/NewThesis_Poonyawat_Woottisart/val_dataset_filtered/th-output/crop/test00004.png: (321, 411, 3) - 5\n",
            "gdrive/MyDrive/NewThesis_Poonyawat_Woottisart/val_dataset_filtered/th-output/crop/test00005.png: (376, 369, 3) - 6\n",
            "gdrive/MyDrive/NewThesis_Poonyawat_Woottisart/val_dataset_filtered/th-output/crop/test00009.png: (447, 251, 3) - 7\n",
            "gdrive/MyDrive/NewThesis_Poonyawat_Woottisart/val_dataset_filtered/th-output/crop/test00010.png: (586, 313, 3) - 8\n",
            "gdrive/MyDrive/NewThesis_Poonyawat_Woottisart/val_dataset_filtered/th-output/crop/test00011.png: (414, 300, 3) - 9\n",
            "gdrive/MyDrive/NewThesis_Poonyawat_Woottisart/val_dataset_filtered/th-output/crop/test00012.png: (687, 623, 3) - 10\n",
            "gdrive/MyDrive/NewThesis_Poonyawat_Woottisart/val_dataset_filtered/th-output/crop/test00014.png: (424, 291, 3) - 11\n",
            "gdrive/MyDrive/NewThesis_Poonyawat_Woottisart/val_dataset_filtered/th-output/crop/test00015.png: (961, 335, 3) - 12\n",
            "gdrive/MyDrive/NewThesis_Poonyawat_Woottisart/val_dataset_filtered/th-output/crop/test00013.png: (436, 297, 3) - 13\n",
            "gdrive/MyDrive/NewThesis_Poonyawat_Woottisart/val_dataset_filtered/th-output/crop/test00018.png: (516, 287, 3) - 14\n",
            "gdrive/MyDrive/NewThesis_Poonyawat_Woottisart/val_dataset_filtered/th-output/crop/test00019.png: (522, 293, 3) - 15\n",
            "gdrive/MyDrive/NewThesis_Poonyawat_Woottisart/val_dataset_filtered/th-output/crop/test00017.png: (331, 269, 3) - 16\n",
            "gdrive/MyDrive/NewThesis_Poonyawat_Woottisart/val_dataset_filtered/th-output/crop/test00021.png: (1013, 660, 3) - 17\n",
            "gdrive/MyDrive/NewThesis_Poonyawat_Woottisart/val_dataset_filtered/th-output/crop/test00045.png: (687, 337, 3) - 18\n",
            "gdrive/MyDrive/NewThesis_Poonyawat_Woottisart/val_dataset_filtered/th-output/crop/test00049.png: (528, 224, 3) - 19\n",
            "gdrive/MyDrive/NewThesis_Poonyawat_Woottisart/val_dataset_filtered/th-output/crop/test00051.png: (946, 576, 3) - 20\n",
            "gdrive/MyDrive/NewThesis_Poonyawat_Woottisart/val_dataset_filtered/th-output/crop/test00058.png: (579, 349, 3) - 21\n",
            "gdrive/MyDrive/NewThesis_Poonyawat_Woottisart/val_dataset_filtered/th-output/crop/test00057.png: (260, 348, 3) - 22\n",
            "gdrive/MyDrive/NewThesis_Poonyawat_Woottisart/val_dataset_filtered/th-output/crop/test00061.png: (822, 287, 3) - 23\n",
            "gdrive/MyDrive/NewThesis_Poonyawat_Woottisart/val_dataset_filtered/th-output/crop/test00059.png: (465, 423, 3) - 24\n",
            "gdrive/MyDrive/NewThesis_Poonyawat_Woottisart/val_dataset_filtered/th-output/crop/test00065.png: (375, 384, 3) - 25\n",
            "gdrive/MyDrive/NewThesis_Poonyawat_Woottisart/val_dataset_filtered/th-output/crop/test00064.png: (540, 434, 3) - 26\n",
            "gdrive/MyDrive/NewThesis_Poonyawat_Woottisart/val_dataset_filtered/th-output/crop/test00070.png: (761, 293, 3) - 27\n",
            "gdrive/MyDrive/NewThesis_Poonyawat_Woottisart/val_dataset_filtered/th-output/crop/test00071.png: (321, 232, 3) - 28\n",
            "gdrive/MyDrive/NewThesis_Poonyawat_Woottisart/val_dataset_filtered/th-output/crop/test00081.png: (508, 276, 3) - 29\n",
            "gdrive/MyDrive/NewThesis_Poonyawat_Woottisart/val_dataset_filtered/th-output/crop/test00082.png: (724, 416, 3) - 30\n",
            "gdrive/MyDrive/NewThesis_Poonyawat_Woottisart/val_dataset_filtered/th-output/crop/test00083.png: (480, 210, 3) - 31\n",
            "gdrive/MyDrive/NewThesis_Poonyawat_Woottisart/val_dataset_filtered/th-output/crop/test00086.png: (741, 464, 3) - 32\n",
            "gdrive/MyDrive/NewThesis_Poonyawat_Woottisart/val_dataset_filtered/th-output/crop/test00088.png: (844, 416, 3) - 33\n",
            "gdrive/MyDrive/NewThesis_Poonyawat_Woottisart/val_dataset_filtered/th-output/crop/test00090.png: (249, 318, 3) - 34\n",
            "gdrive/MyDrive/NewThesis_Poonyawat_Woottisart/val_dataset_filtered/th-output/crop/test00093.png: (457, 236, 3) - 35\n",
            "gdrive/MyDrive/NewThesis_Poonyawat_Woottisart/val_dataset_filtered/th-output/crop/test00096.png: (849, 310, 3) - 36\n",
            "gdrive/MyDrive/NewThesis_Poonyawat_Woottisart/val_dataset_filtered/th-output/crop/test00095.png: (120, 108, 3) - 37\n",
            "gdrive/MyDrive/NewThesis_Poonyawat_Woottisart/val_dataset_filtered/th-output/crop/test00097.png: (313, 337, 3) - 38\n",
            "gdrive/MyDrive/NewThesis_Poonyawat_Woottisart/val_dataset_filtered/th-output/crop/test00094.png: (95, 115, 3) - 39\n",
            "gdrive/MyDrive/NewThesis_Poonyawat_Woottisart/val_dataset_filtered/th-output/crop/test00098.png: (419, 235, 3) - 40\n",
            "gdrive/MyDrive/NewThesis_Poonyawat_Woottisart/val_dataset_filtered/th-output/crop/test00099.png: (261, 315, 3) - 41\n",
            "gdrive/MyDrive/NewThesis_Poonyawat_Woottisart/val_dataset_filtered/th-output/crop/test00101.png: (612, 345, 3) - 42\n",
            "gdrive/MyDrive/NewThesis_Poonyawat_Woottisart/val_dataset_filtered/th-output/crop/test00100.png: (632, 381, 3) - 43\n",
            "gdrive/MyDrive/NewThesis_Poonyawat_Woottisart/val_dataset_filtered/th-output/crop/test00104.png: (331, 302, 3) - 44\n",
            "gdrive/MyDrive/NewThesis_Poonyawat_Woottisart/val_dataset_filtered/th-output/crop/test00103.png: (332, 191, 3) - 45\n",
            "gdrive/MyDrive/NewThesis_Poonyawat_Woottisart/val_dataset_filtered/th-output/crop/test00106.png: (131, 184, 3) - 46\n",
            "gdrive/MyDrive/NewThesis_Poonyawat_Woottisart/val_dataset_filtered/th-output/crop/test00110.png: (874, 553, 3) - 47\n",
            "gdrive/MyDrive/NewThesis_Poonyawat_Woottisart/val_dataset_filtered/th-output/crop/test00109.png: (601, 287, 3) - 48\n",
            "gdrive/MyDrive/NewThesis_Poonyawat_Woottisart/val_dataset_filtered/th-output/crop/test00113.png: (604, 237, 3) - 49\n",
            "gdrive/MyDrive/NewThesis_Poonyawat_Woottisart/val_dataset_filtered/th-output/crop/test00112.png: (673, 303, 3) - 50\n",
            "gdrive/MyDrive/NewThesis_Poonyawat_Woottisart/val_dataset_filtered/th-output/crop/test00111.png: (582, 375, 3) - 51\n",
            "gdrive/MyDrive/NewThesis_Poonyawat_Woottisart/val_dataset_filtered/th-output/crop/test00115.png: (315, 388, 3) - 52\n",
            "gdrive/MyDrive/NewThesis_Poonyawat_Woottisart/val_dataset_filtered/th-output/crop/test00116.png: (861, 421, 3) - 53\n",
            "gdrive/MyDrive/NewThesis_Poonyawat_Woottisart/val_dataset_filtered/th-output/crop/test00120.png: (260, 347, 3) - 54\n",
            "gdrive/MyDrive/NewThesis_Poonyawat_Woottisart/val_dataset_filtered/th-output/crop/test00119.png: (693, 317, 3) - 55\n",
            "gdrive/MyDrive/NewThesis_Poonyawat_Woottisart/val_dataset_filtered/th-output/crop/test00118.png: (667, 281, 3) - 56\n",
            "gdrive/MyDrive/NewThesis_Poonyawat_Woottisart/val_dataset_filtered/th-output/crop/test00121.png: (401, 292, 3) - 57\n",
            "gdrive/MyDrive/NewThesis_Poonyawat_Woottisart/val_dataset_filtered/th-output/crop/test00123.png: (439, 279, 3) - 58\n",
            "gdrive/MyDrive/NewThesis_Poonyawat_Woottisart/val_dataset_filtered/th-output/crop/test00125.png: (249, 424, 3) - 59\n",
            "gdrive/MyDrive/NewThesis_Poonyawat_Woottisart/val_dataset_filtered/th-output/crop/test00129.png: (756, 232, 3) - 60\n",
            "gdrive/MyDrive/NewThesis_Poonyawat_Woottisart/val_dataset_filtered/th-output/crop/test00126.png: (558, 235, 3) - 61\n",
            "gdrive/MyDrive/NewThesis_Poonyawat_Woottisart/val_dataset_filtered/th-output/crop/test00132.png: (753, 706, 3) - 62\n",
            "gdrive/MyDrive/NewThesis_Poonyawat_Woottisart/val_dataset_filtered/th-output/crop/test00136.png: (849, 720, 3) - 63\n",
            "gdrive/MyDrive/NewThesis_Poonyawat_Woottisart/val_dataset_filtered/th-output/crop/test00135.png: (240, 540, 3) - 64\n",
            "gdrive/MyDrive/NewThesis_Poonyawat_Woottisart/val_dataset_filtered/th-output/crop/test00133.png: (446, 261, 3) - 65\n",
            "gdrive/MyDrive/NewThesis_Poonyawat_Woottisart/val_dataset_filtered/th-output/crop/test00137.png: (762, 308, 3) - 66\n",
            "gdrive/MyDrive/NewThesis_Poonyawat_Woottisart/val_dataset_filtered/th-output/crop/test00142.png: (542, 705, 3) - 67\n",
            "gdrive/MyDrive/NewThesis_Poonyawat_Woottisart/val_dataset_filtered/th-output/crop/test00143.png: (481, 280, 3) - 68\n",
            "gdrive/MyDrive/NewThesis_Poonyawat_Woottisart/val_dataset_filtered/th-output/crop/test00145.png: (868, 439, 3) - 69\n",
            "gdrive/MyDrive/NewThesis_Poonyawat_Woottisart/val_dataset_filtered/th-output/crop/test00147.png: (561, 685, 3) - 70\n",
            "gdrive/MyDrive/NewThesis_Poonyawat_Woottisart/val_dataset_filtered/th-output/crop/test00148.png: (757, 303, 3) - 71\n",
            "gdrive/MyDrive/NewThesis_Poonyawat_Woottisart/val_dataset_filtered/th-output/crop/test00149.png: (303, 302, 3) - 72\n",
            "gdrive/MyDrive/NewThesis_Poonyawat_Woottisart/val_dataset_filtered/th-output/crop/test00150.png: (510, 249, 3) - 73\n",
            "gdrive/MyDrive/NewThesis_Poonyawat_Woottisart/val_dataset_filtered/th-output/crop/test00151.png: (800, 444, 3) - 74\n",
            "gdrive/MyDrive/NewThesis_Poonyawat_Woottisart/val_dataset_filtered/th-output/crop/test00155.png: (443, 325, 3) - 75\n",
            "gdrive/MyDrive/NewThesis_Poonyawat_Woottisart/val_dataset_filtered/th-output/crop/test00154.png: (766, 267, 3) - 76\n",
            "gdrive/MyDrive/NewThesis_Poonyawat_Woottisart/val_dataset_filtered/th-output/crop/test00157.png: (774, 272, 3) - 77\n",
            "gdrive/MyDrive/NewThesis_Poonyawat_Woottisart/val_dataset_filtered/th-output/crop/test00158.png: (567, 184, 3) - 78\n",
            "gdrive/MyDrive/NewThesis_Poonyawat_Woottisart/val_dataset_filtered/th-output/crop/test00156.png: (816, 492, 3) - 79\n",
            "gdrive/MyDrive/NewThesis_Poonyawat_Woottisart/val_dataset_filtered/th-output/crop/test00162.png: (711, 437, 3) - 80\n",
            "gdrive/MyDrive/NewThesis_Poonyawat_Woottisart/val_dataset_filtered/th-output/crop/test00160.png: (459, 347, 3) - 81\n",
            "gdrive/MyDrive/NewThesis_Poonyawat_Woottisart/val_dataset_filtered/th-output/crop/test00161.png: (348, 352, 3) - 82\n",
            "gdrive/MyDrive/NewThesis_Poonyawat_Woottisart/val_dataset_filtered/th-output/crop/test00166.png: (171, 162, 3) - 83\n",
            "gdrive/MyDrive/NewThesis_Poonyawat_Woottisart/val_dataset_filtered/th-output/crop/test00163.png: (386, 240, 3) - 84\n",
            "gdrive/MyDrive/NewThesis_Poonyawat_Woottisart/val_dataset_filtered/th-output/crop/test00168.png: (205, 257, 3) - 85\n",
            "gdrive/MyDrive/NewThesis_Poonyawat_Woottisart/val_dataset_filtered/th-output/crop/test00167.png: (558, 288, 3) - 86\n",
            "gdrive/MyDrive/NewThesis_Poonyawat_Woottisart/val_dataset_filtered/th-output/crop/test00164.png: (439, 210, 3) - 87\n",
            "gdrive/MyDrive/NewThesis_Poonyawat_Woottisart/val_dataset_filtered/th-output/crop/test00170.png: (535, 208, 3) - 88\n",
            "gdrive/MyDrive/NewThesis_Poonyawat_Woottisart/val_dataset_filtered/th-output/crop/test00169.png: (1009, 432, 3) - 89\n",
            "gdrive/MyDrive/NewThesis_Poonyawat_Woottisart/val_dataset_filtered/th-output/crop/test00172.png: (554, 178, 3) - 90\n",
            "gdrive/MyDrive/NewThesis_Poonyawat_Woottisart/val_dataset_filtered/th-output/crop/test00173.png: (1011, 515, 3) - 91\n",
            "gdrive/MyDrive/NewThesis_Poonyawat_Woottisart/val_dataset_filtered/th-output/crop/test00175.png: (619, 208, 3) - 92\n",
            "gdrive/MyDrive/NewThesis_Poonyawat_Woottisart/val_dataset_filtered/th-output/crop/test00176.png: (516, 324, 3) - 93\n",
            "gdrive/MyDrive/NewThesis_Poonyawat_Woottisart/val_dataset_filtered/th-output/crop/test00177.png: (844, 537, 3) - 94\n",
            "gdrive/MyDrive/NewThesis_Poonyawat_Woottisart/val_dataset_filtered/th-output/crop/test00178.png: (738, 731, 3) - 95\n",
            "gdrive/MyDrive/NewThesis_Poonyawat_Woottisart/val_dataset_filtered/th-output/crop/test00181.png: (716, 360, 3) - 96\n",
            "gdrive/MyDrive/NewThesis_Poonyawat_Woottisart/val_dataset_filtered/th-output/crop/test00180.png: (476, 222, 3) - 97\n",
            "gdrive/MyDrive/NewThesis_Poonyawat_Woottisart/val_dataset_filtered/th-output/crop/test00179.png: (892, 300, 3) - 98\n",
            "gdrive/MyDrive/NewThesis_Poonyawat_Woottisart/val_dataset_filtered/th-output/crop/test00182.png: (857, 457, 3) - 99\n",
            "gdrive/MyDrive/NewThesis_Poonyawat_Woottisart/val_dataset_filtered/th-output/crop/test00185.png: (723, 471, 3) - 100\n",
            "gdrive/MyDrive/NewThesis_Poonyawat_Woottisart/val_dataset_filtered/th-output/crop/test00187.png: (532, 319, 3) - 101\n",
            "gdrive/MyDrive/NewThesis_Poonyawat_Woottisart/val_dataset_filtered/th-output/crop/test00186.png: (394, 147, 3) - 102\n",
            "gdrive/MyDrive/NewThesis_Poonyawat_Woottisart/val_dataset_filtered/th-output/crop/test00190.png: (362, 131, 3) - 103\n",
            "gdrive/MyDrive/NewThesis_Poonyawat_Woottisart/val_dataset_filtered/th-output/crop/test00192.png: (486, 386, 3) - 104\n",
            "gdrive/MyDrive/NewThesis_Poonyawat_Woottisart/val_dataset_filtered/th-output/crop/test00191.png: (642, 598, 3) - 105\n",
            "gdrive/MyDrive/NewThesis_Poonyawat_Woottisart/val_dataset_filtered/th-output/crop/test00195.png: (416, 186, 3) - 106\n",
            "gdrive/MyDrive/NewThesis_Poonyawat_Woottisart/val_dataset_filtered/th-output/crop/test00194.png: (789, 239, 3) - 107\n",
            "gdrive/MyDrive/NewThesis_Poonyawat_Woottisart/val_dataset_filtered/th-output/crop/test00193.png: (702, 471, 3) - 108\n",
            "gdrive/MyDrive/NewThesis_Poonyawat_Woottisart/val_dataset_filtered/th-output/crop/test00197.png: (792, 501, 3) - 109\n",
            "gdrive/MyDrive/NewThesis_Poonyawat_Woottisart/val_dataset_filtered/th-output/crop/test00198.png: (519, 278, 3) - 110\n",
            "gdrive/MyDrive/NewThesis_Poonyawat_Woottisart/val_dataset_filtered/th-output/crop/test00196.png: (1036, 389, 3) - 111\n",
            "gdrive/MyDrive/NewThesis_Poonyawat_Woottisart/val_dataset_filtered/th-output/crop/test00200.png: (599, 235, 3) - 112\n",
            "gdrive/MyDrive/NewThesis_Poonyawat_Woottisart/val_dataset_filtered/th-output/crop/test00201.png: (964, 508, 3) - 113\n",
            "gdrive/MyDrive/NewThesis_Poonyawat_Woottisart/val_dataset_filtered/th-output/crop/test00202.png: (670, 281, 3) - 114\n",
            "gdrive/MyDrive/NewThesis_Poonyawat_Woottisart/val_dataset_filtered/th-output/crop/test00204.png: (288, 306, 3) - 115\n",
            "gdrive/MyDrive/NewThesis_Poonyawat_Woottisart/val_dataset_filtered/th-output/crop/test00206.png: (723, 589, 3) - 116\n",
            "gdrive/MyDrive/NewThesis_Poonyawat_Woottisart/val_dataset_filtered/th-output/crop/test00208.png: (326, 513, 3) - 117\n",
            "gdrive/MyDrive/NewThesis_Poonyawat_Woottisart/val_dataset_filtered/th-output/crop/test00207.png: (240, 262, 3) - 118\n",
            "gdrive/MyDrive/NewThesis_Poonyawat_Woottisart/val_dataset_filtered/th-output/crop/test00209.png: (246, 251, 3) - 119\n",
            "gdrive/MyDrive/NewThesis_Poonyawat_Woottisart/val_dataset_filtered/th-output/crop/test00210.png: (244, 106, 3) - 120\n",
            "gdrive/MyDrive/NewThesis_Poonyawat_Woottisart/val_dataset_filtered/th-output/crop/test00212.png: (601, 324, 3) - 121\n",
            "gdrive/MyDrive/NewThesis_Poonyawat_Woottisart/val_dataset_filtered/th-output/crop/test00211.png: (230, 246, 3) - 122\n",
            "gdrive/MyDrive/NewThesis_Poonyawat_Woottisart/val_dataset_filtered/th-output/crop/test00213.png: (375, 269, 3) - 123\n",
            "gdrive/MyDrive/NewThesis_Poonyawat_Woottisart/val_dataset_filtered/th-output/crop/test00214.png: (509, 377, 3) - 124\n",
            "gdrive/MyDrive/NewThesis_Poonyawat_Woottisart/val_dataset_filtered/th-output/crop/test00216.png: (449, 268, 3) - 125\n",
            "gdrive/MyDrive/NewThesis_Poonyawat_Woottisart/val_dataset_filtered/th-output/crop/test00215.png: (382, 292, 3) - 126\n",
            "gdrive/MyDrive/NewThesis_Poonyawat_Woottisart/val_dataset_filtered/th-output/crop/test00218.png: (207, 338, 3) - 127\n",
            "gdrive/MyDrive/NewThesis_Poonyawat_Woottisart/val_dataset_filtered/th-output/crop/test00217.png: (318, 196, 3) - 128\n",
            "gdrive/MyDrive/NewThesis_Poonyawat_Woottisart/val_dataset_filtered/th-output/crop/test00221.png: (659, 270, 3) - 129\n",
            "gdrive/MyDrive/NewThesis_Poonyawat_Woottisart/val_dataset_filtered/th-output/crop/test00223.png: (612, 289, 3) - 130\n",
            "gdrive/MyDrive/NewThesis_Poonyawat_Woottisart/val_dataset_filtered/th-output/crop/test00222.png: (560, 336, 3) - 131\n",
            "gdrive/MyDrive/NewThesis_Poonyawat_Woottisart/val_dataset_filtered/th-output/crop/test00235.png: (457, 262, 3) - 132\n",
            "gdrive/MyDrive/NewThesis_Poonyawat_Woottisart/val_dataset_filtered/th-output/crop/test00234.png: (391, 132, 3) - 133\n",
            "gdrive/MyDrive/NewThesis_Poonyawat_Woottisart/val_dataset_filtered/th-output/crop/test00237.png: (491, 292, 3) - 134\n",
            "gdrive/MyDrive/NewThesis_Poonyawat_Woottisart/val_dataset_filtered/th-output/crop/test00239.png: (478, 383, 3) - 135\n",
            "gdrive/MyDrive/NewThesis_Poonyawat_Woottisart/val_dataset_filtered/th-output/crop/test00240.png: (269, 177, 3) - 136\n",
            "gdrive/MyDrive/NewThesis_Poonyawat_Woottisart/val_dataset_filtered/th-output/crop/test00243.png: (726, 268, 3) - 137\n",
            "gdrive/MyDrive/NewThesis_Poonyawat_Woottisart/val_dataset_filtered/th-output/crop/test00242.png: (694, 277, 3) - 138\n",
            "gdrive/MyDrive/NewThesis_Poonyawat_Woottisart/val_dataset_filtered/th-output/crop/test00248.png: (456, 240, 3) - 139\n",
            "gdrive/MyDrive/NewThesis_Poonyawat_Woottisart/val_dataset_filtered/th-output/crop/test00247.png: (258, 159, 3) - 140\n",
            "gdrive/MyDrive/NewThesis_Poonyawat_Woottisart/val_dataset_filtered/th-output/crop/test00246.png: (357, 263, 3) - 141\n",
            "gdrive/MyDrive/NewThesis_Poonyawat_Woottisart/val_dataset_filtered/th-output/crop/test00250.png: (342, 387, 3) - 142\n",
            "gdrive/MyDrive/NewThesis_Poonyawat_Woottisart/val_dataset_filtered/th-output/crop/test00253.png: (670, 274, 3) - 143\n",
            "gdrive/MyDrive/NewThesis_Poonyawat_Woottisart/val_dataset_filtered/th-output/crop/test00258.png: (529, 117, 3) - 144\n",
            "gdrive/MyDrive/NewThesis_Poonyawat_Woottisart/val_dataset_filtered/th-output/crop/test00260.png: (483, 208, 3) - 145\n",
            "gdrive/MyDrive/NewThesis_Poonyawat_Woottisart/val_dataset_filtered/th-output/crop/test00262.png: (307, 280, 3) - 146\n",
            "gdrive/MyDrive/NewThesis_Poonyawat_Woottisart/val_dataset_filtered/th-output/crop/test00261.png: (295, 146, 3) - 147\n",
            "gdrive/MyDrive/NewThesis_Poonyawat_Woottisart/val_dataset_filtered/th-output/crop/test00263.png: (290, 271, 3) - 148\n",
            "gdrive/MyDrive/NewThesis_Poonyawat_Woottisart/val_dataset_filtered/th-output/crop/test00264.png: (737, 273, 3) - 149\n",
            "gdrive/MyDrive/NewThesis_Poonyawat_Woottisart/val_dataset_filtered/th-output/crop/test00266.png: (512, 247, 3) - 150\n",
            "gdrive/MyDrive/NewThesis_Poonyawat_Woottisart/val_dataset_filtered/th-output/crop/test00269.png: (842, 340, 3) - 151\n",
            "gdrive/MyDrive/NewThesis_Poonyawat_Woottisart/val_dataset_filtered/th-output/crop/test00270.png: (534, 345, 3) - 152\n",
            "gdrive/MyDrive/NewThesis_Poonyawat_Woottisart/val_dataset_filtered/th-output/crop/test00268.png: (612, 398, 3) - 153\n",
            "gdrive/MyDrive/NewThesis_Poonyawat_Woottisart/val_dataset_filtered/th-output/crop/test00271.png: (629, 235, 3) - 154\n",
            "gdrive/MyDrive/NewThesis_Poonyawat_Woottisart/val_dataset_filtered/th-output/crop/test00272.png: (276, 202, 3) - 155\n",
            "gdrive/MyDrive/NewThesis_Poonyawat_Woottisart/val_dataset_filtered/th-output/crop/test00273.png: (576, 329, 3) - 156\n",
            "gdrive/MyDrive/NewThesis_Poonyawat_Woottisart/val_dataset_filtered/th-output/crop/test00274.png: (754, 242, 3) - 157\n",
            "gdrive/MyDrive/NewThesis_Poonyawat_Woottisart/val_dataset_filtered/th-output/crop/test00276.png: (719, 418, 3) - 158\n",
            "gdrive/MyDrive/NewThesis_Poonyawat_Woottisart/val_dataset_filtered/th-output/crop/test00278.png: (514, 462, 3) - 159\n",
            "gdrive/MyDrive/NewThesis_Poonyawat_Woottisart/val_dataset_filtered/th-output/crop/test00281.png: (855, 507, 3) - 160\n",
            "gdrive/MyDrive/NewThesis_Poonyawat_Woottisart/val_dataset_filtered/th-output/crop/test00280.png: (748, 353, 3) - 161\n",
            "gdrive/MyDrive/NewThesis_Poonyawat_Woottisart/val_dataset_filtered/th-output/crop/test00285.png: (760, 258, 3) - 162\n",
            "gdrive/MyDrive/NewThesis_Poonyawat_Woottisart/val_dataset_filtered/th-output/crop/test00283.png: (203, 162, 3) - 163\n",
            "gdrive/MyDrive/NewThesis_Poonyawat_Woottisart/val_dataset_filtered/th-output/crop/test00286.png: (775, 529, 3) - 164\n",
            "gdrive/MyDrive/NewThesis_Poonyawat_Woottisart/val_dataset_filtered/th-output/crop/test00287.png: (330, 194, 3) - 165\n",
            "gdrive/MyDrive/NewThesis_Poonyawat_Woottisart/val_dataset_filtered/th-output/crop/test00288.png: (389, 174, 3) - 166\n",
            "gdrive/MyDrive/NewThesis_Poonyawat_Woottisart/val_dataset_filtered/th-output/crop/test00290.png: (228, 223, 3) - 167\n",
            "gdrive/MyDrive/NewThesis_Poonyawat_Woottisart/val_dataset_filtered/th-output/crop/test00292.png: (835, 411, 3) - 168\n",
            "gdrive/MyDrive/NewThesis_Poonyawat_Woottisart/val_dataset_filtered/th-output/crop/test00293.png: (525, 270, 3) - 169\n",
            "gdrive/MyDrive/NewThesis_Poonyawat_Woottisart/val_dataset_filtered/th-output/crop/test00291.png: (250, 270, 3) - 170\n",
            "gdrive/MyDrive/NewThesis_Poonyawat_Woottisart/val_dataset_filtered/th-output/crop/test00297.png: (668, 382, 3) - 171\n",
            "gdrive/MyDrive/NewThesis_Poonyawat_Woottisart/val_dataset_filtered/th-output/crop/test00298.png: (780, 389, 3) - 172\n",
            "gdrive/MyDrive/NewThesis_Poonyawat_Woottisart/val_dataset_filtered/th-output/crop/test00305.png: (649, 225, 3) - 173\n",
            "gdrive/MyDrive/NewThesis_Poonyawat_Woottisart/val_dataset_filtered/th-output/crop/test00303.png: (265, 232, 3) - 174\n",
            "gdrive/MyDrive/NewThesis_Poonyawat_Woottisart/val_dataset_filtered/th-output/crop/test00312.png: (807, 237, 3) - 175\n",
            "gdrive/MyDrive/NewThesis_Poonyawat_Woottisart/val_dataset_filtered/th-output/crop/test00306.png: (490, 194, 3) - 176\n",
            "gdrive/MyDrive/NewThesis_Poonyawat_Woottisart/val_dataset_filtered/th-output/crop/test00311.png: (776, 262, 3) - 177\n",
            "gdrive/MyDrive/NewThesis_Poonyawat_Woottisart/val_dataset_filtered/th-output/crop/test00315.png: (530, 263, 3) - 178\n",
            "gdrive/MyDrive/NewThesis_Poonyawat_Woottisart/val_dataset_filtered/th-output/crop/test00313.png: (343, 274, 3) - 179\n",
            "gdrive/MyDrive/NewThesis_Poonyawat_Woottisart/val_dataset_filtered/th-output/crop/test00314.png: (690, 160, 3) - 180\n",
            "gdrive/MyDrive/NewThesis_Poonyawat_Woottisart/val_dataset_filtered/th-output/crop/test00316.png: (236, 218, 3) - 181\n",
            "gdrive/MyDrive/NewThesis_Poonyawat_Woottisart/val_dataset_filtered/th-output/crop/test00317.png: (257, 172, 3) - 182\n",
            "gdrive/MyDrive/NewThesis_Poonyawat_Woottisart/val_dataset_filtered/th-output/crop/test00318.png: (337, 356, 3) - 183\n",
            "gdrive/MyDrive/NewThesis_Poonyawat_Woottisart/val_dataset_filtered/th-output/crop/test00320.png: (944, 565, 3) - 184\n",
            "gdrive/MyDrive/NewThesis_Poonyawat_Woottisart/val_dataset_filtered/th-output/crop/test00321.png: (743, 359, 3) - 185\n"
          ]
        }
      ],
      "source": [
        "for img_name in list(os.listdir(img_th_loc)):\n",
        "    img_loc = '{}/{}'.format(img_th_loc, img_name)\n",
        "    img = cv2.imread(img_loc)\n",
        "    print('{}: {} - {}'.format(img_loc, img.shape, idx))\n",
        "    dim_i_list.append(img.shape[0])\n",
        "    dim_j_list.append(img.shape[1])\n",
        "    img_list.append(img)\n",
        "    label_list.append(0)\n",
        "    idx = idx+1"
      ],
      "id": "ffb1f37b"
    },
    {
      "cell_type": "markdown",
      "metadata": {
        "id": "810aedca"
      },
      "source": [
        "#### KAWAII"
      ],
      "id": "810aedca"
    },
    {
      "cell_type": "code",
      "execution_count": 10,
      "metadata": {
        "colab": {
          "base_uri": "https://localhost:8080/"
        },
        "id": "a2fc6563",
        "outputId": "8a321ab3-4bc8-4f3d-e6b1-15c15c4b8fcd"
      },
      "outputs": [
        {
          "output_type": "stream",
          "name": "stdout",
          "text": [
            "gdrive/MyDrive/NewThesis_Poonyawat_Woottisart/val_dataset_filtered/ha-output/crop/test00000.png: (234, 120, 3) - 186\n",
            "gdrive/MyDrive/NewThesis_Poonyawat_Woottisart/val_dataset_filtered/ha-output/crop/test00001.png: (388, 267, 3) - 187\n",
            "gdrive/MyDrive/NewThesis_Poonyawat_Woottisart/val_dataset_filtered/ha-output/crop/test00004.png: (582, 238, 3) - 188\n",
            "gdrive/MyDrive/NewThesis_Poonyawat_Woottisart/val_dataset_filtered/ha-output/crop/test00007.png: (476, 399, 3) - 189\n",
            "gdrive/MyDrive/NewThesis_Poonyawat_Woottisart/val_dataset_filtered/ha-output/crop/test00002.png: (622, 278, 3) - 190\n",
            "gdrive/MyDrive/NewThesis_Poonyawat_Woottisart/val_dataset_filtered/ha-output/crop/test00008.png: (498, 309, 3) - 191\n",
            "gdrive/MyDrive/NewThesis_Poonyawat_Woottisart/val_dataset_filtered/ha-output/crop/test00012.png: (313, 252, 3) - 192\n",
            "gdrive/MyDrive/NewThesis_Poonyawat_Woottisart/val_dataset_filtered/ha-output/crop/test00011.png: (191, 277, 3) - 193\n",
            "gdrive/MyDrive/NewThesis_Poonyawat_Woottisart/val_dataset_filtered/ha-output/crop/test00013.png: (260, 182, 3) - 194\n",
            "gdrive/MyDrive/NewThesis_Poonyawat_Woottisart/val_dataset_filtered/ha-output/crop/test00018.png: (617, 244, 3) - 195\n",
            "gdrive/MyDrive/NewThesis_Poonyawat_Woottisart/val_dataset_filtered/ha-output/crop/test00015.png: (446, 305, 3) - 196\n",
            "gdrive/MyDrive/NewThesis_Poonyawat_Woottisart/val_dataset_filtered/ha-output/crop/test00016.png: (539, 270, 3) - 197\n",
            "gdrive/MyDrive/NewThesis_Poonyawat_Woottisart/val_dataset_filtered/ha-output/crop/test00014.png: (617, 244, 3) - 198\n",
            "gdrive/MyDrive/NewThesis_Poonyawat_Woottisart/val_dataset_filtered/ha-output/crop/test00022.png: (476, 260, 3) - 199\n",
            "gdrive/MyDrive/NewThesis_Poonyawat_Woottisart/val_dataset_filtered/ha-output/crop/test00019.png: (550, 281, 3) - 200\n",
            "gdrive/MyDrive/NewThesis_Poonyawat_Woottisart/val_dataset_filtered/ha-output/crop/test00021.png: (248, 263, 3) - 201\n",
            "gdrive/MyDrive/NewThesis_Poonyawat_Woottisart/val_dataset_filtered/ha-output/crop/test00020.png: (350, 342, 3) - 202\n",
            "gdrive/MyDrive/NewThesis_Poonyawat_Woottisart/val_dataset_filtered/ha-output/crop/test00023.png: (425, 291, 3) - 203\n",
            "gdrive/MyDrive/NewThesis_Poonyawat_Woottisart/val_dataset_filtered/ha-output/crop/test00025.png: (486, 279, 3) - 204\n",
            "gdrive/MyDrive/NewThesis_Poonyawat_Woottisart/val_dataset_filtered/ha-output/crop/test00024.png: (486, 279, 3) - 205\n",
            "gdrive/MyDrive/NewThesis_Poonyawat_Woottisart/val_dataset_filtered/ha-output/crop/test00029.png: (351, 220, 3) - 206\n",
            "gdrive/MyDrive/NewThesis_Poonyawat_Woottisart/val_dataset_filtered/ha-output/crop/test00030.png: (531, 267, 3) - 207\n",
            "gdrive/MyDrive/NewThesis_Poonyawat_Woottisart/val_dataset_filtered/ha-output/crop/test00027.png: (686, 254, 3) - 208\n",
            "gdrive/MyDrive/NewThesis_Poonyawat_Woottisart/val_dataset_filtered/ha-output/crop/test00028.png: (434, 249, 3) - 209\n",
            "gdrive/MyDrive/NewThesis_Poonyawat_Woottisart/val_dataset_filtered/ha-output/crop/test00026.png: (529, 251, 3) - 210\n",
            "gdrive/MyDrive/NewThesis_Poonyawat_Woottisart/val_dataset_filtered/ha-output/crop/test00031.png: (367, 233, 3) - 211\n",
            "gdrive/MyDrive/NewThesis_Poonyawat_Woottisart/val_dataset_filtered/ha-output/crop/test00036.png: (647, 215, 3) - 212\n",
            "gdrive/MyDrive/NewThesis_Poonyawat_Woottisart/val_dataset_filtered/ha-output/crop/test00035.png: (603, 228, 3) - 213\n",
            "gdrive/MyDrive/NewThesis_Poonyawat_Woottisart/val_dataset_filtered/ha-output/crop/test00032.png: (660, 251, 3) - 214\n",
            "gdrive/MyDrive/NewThesis_Poonyawat_Woottisart/val_dataset_filtered/ha-output/crop/test00033.png: (512, 268, 3) - 215\n",
            "gdrive/MyDrive/NewThesis_Poonyawat_Woottisart/val_dataset_filtered/ha-output/crop/test00046.png: (364, 197, 3) - 216\n",
            "gdrive/MyDrive/NewThesis_Poonyawat_Woottisart/val_dataset_filtered/ha-output/crop/test00037.png: (440, 250, 3) - 217\n",
            "gdrive/MyDrive/NewThesis_Poonyawat_Woottisart/val_dataset_filtered/ha-output/crop/test00042.png: (495, 322, 3) - 218\n",
            "gdrive/MyDrive/NewThesis_Poonyawat_Woottisart/val_dataset_filtered/ha-output/crop/test00045.png: (213, 155, 3) - 219\n",
            "gdrive/MyDrive/NewThesis_Poonyawat_Woottisart/val_dataset_filtered/ha-output/crop/test00043.png: (343, 327, 3) - 220\n",
            "gdrive/MyDrive/NewThesis_Poonyawat_Woottisart/val_dataset_filtered/ha-output/crop/test00051.png: (419, 289, 3) - 221\n",
            "gdrive/MyDrive/NewThesis_Poonyawat_Woottisart/val_dataset_filtered/ha-output/crop/test00050.png: (640, 297, 3) - 222\n",
            "gdrive/MyDrive/NewThesis_Poonyawat_Woottisart/val_dataset_filtered/ha-output/crop/test00048.png: (511, 315, 3) - 223\n",
            "gdrive/MyDrive/NewThesis_Poonyawat_Woottisart/val_dataset_filtered/ha-output/crop/test00047.png: (501, 228, 3) - 224\n",
            "gdrive/MyDrive/NewThesis_Poonyawat_Woottisart/val_dataset_filtered/ha-output/crop/test00060.png: (340, 254, 3) - 225\n",
            "gdrive/MyDrive/NewThesis_Poonyawat_Woottisart/val_dataset_filtered/ha-output/crop/test00059.png: (446, 475, 3) - 226\n",
            "gdrive/MyDrive/NewThesis_Poonyawat_Woottisart/val_dataset_filtered/ha-output/crop/test00058.png: (561, 304, 3) - 227\n",
            "gdrive/MyDrive/NewThesis_Poonyawat_Woottisart/val_dataset_filtered/ha-output/crop/test00057.png: (494, 244, 3) - 228\n",
            "gdrive/MyDrive/NewThesis_Poonyawat_Woottisart/val_dataset_filtered/ha-output/crop/test00055.png: (351, 251, 3) - 229\n",
            "gdrive/MyDrive/NewThesis_Poonyawat_Woottisart/val_dataset_filtered/ha-output/crop/test00054.png: (607, 325, 3) - 230\n",
            "gdrive/MyDrive/NewThesis_Poonyawat_Woottisart/val_dataset_filtered/ha-output/crop/test00072.png: (623, 275, 3) - 231\n",
            "gdrive/MyDrive/NewThesis_Poonyawat_Woottisart/val_dataset_filtered/ha-output/crop/test00062.png: (370, 185, 3) - 232\n",
            "gdrive/MyDrive/NewThesis_Poonyawat_Woottisart/val_dataset_filtered/ha-output/crop/test00063.png: (501, 225, 3) - 233\n",
            "gdrive/MyDrive/NewThesis_Poonyawat_Woottisart/val_dataset_filtered/ha-output/crop/test00061.png: (305, 247, 3) - 234\n",
            "gdrive/MyDrive/NewThesis_Poonyawat_Woottisart/val_dataset_filtered/ha-output/crop/test00078.png: (390, 325, 3) - 235\n",
            "gdrive/MyDrive/NewThesis_Poonyawat_Woottisart/val_dataset_filtered/ha-output/crop/test00073.png: (573, 265, 3) - 236\n",
            "gdrive/MyDrive/NewThesis_Poonyawat_Woottisart/val_dataset_filtered/ha-output/crop/test00077.png: (482, 249, 3) - 237\n",
            "gdrive/MyDrive/NewThesis_Poonyawat_Woottisart/val_dataset_filtered/ha-output/crop/test00088.png: (521, 275, 3) - 238\n",
            "gdrive/MyDrive/NewThesis_Poonyawat_Woottisart/val_dataset_filtered/ha-output/crop/test00090.png: (236, 176, 3) - 239\n",
            "gdrive/MyDrive/NewThesis_Poonyawat_Woottisart/val_dataset_filtered/ha-output/crop/test00080.png: (584, 222, 3) - 240\n",
            "gdrive/MyDrive/NewThesis_Poonyawat_Woottisart/val_dataset_filtered/ha-output/crop/test00089.png: (602, 256, 3) - 241\n",
            "gdrive/MyDrive/NewThesis_Poonyawat_Woottisart/val_dataset_filtered/ha-output/crop/test00087.png: (499, 232, 3) - 242\n",
            "gdrive/MyDrive/NewThesis_Poonyawat_Woottisart/val_dataset_filtered/ha-output/crop/test00094.png: (455, 260, 3) - 243\n",
            "gdrive/MyDrive/NewThesis_Poonyawat_Woottisart/val_dataset_filtered/ha-output/crop/test00091.png: (561, 331, 3) - 244\n",
            "gdrive/MyDrive/NewThesis_Poonyawat_Woottisart/val_dataset_filtered/ha-output/crop/test00093.png: (347, 291, 3) - 245\n",
            "gdrive/MyDrive/NewThesis_Poonyawat_Woottisart/val_dataset_filtered/ha-output/crop/test00092.png: (544, 306, 3) - 246\n",
            "gdrive/MyDrive/NewThesis_Poonyawat_Woottisart/val_dataset_filtered/ha-output/crop/test00095.png: (545, 300, 3) - 247\n",
            "gdrive/MyDrive/NewThesis_Poonyawat_Woottisart/val_dataset_filtered/ha-output/crop/test00105.png: (581, 234, 3) - 248\n",
            "gdrive/MyDrive/NewThesis_Poonyawat_Woottisart/val_dataset_filtered/ha-output/crop/test00099.png: (438, 299, 3) - 249\n",
            "gdrive/MyDrive/NewThesis_Poonyawat_Woottisart/val_dataset_filtered/ha-output/crop/test00102.png: (685, 254, 3) - 250\n",
            "gdrive/MyDrive/NewThesis_Poonyawat_Woottisart/val_dataset_filtered/ha-output/crop/test00101.png: (649, 277, 3) - 251\n",
            "gdrive/MyDrive/NewThesis_Poonyawat_Woottisart/val_dataset_filtered/ha-output/crop/test00108.png: (578, 306, 3) - 252\n",
            "gdrive/MyDrive/NewThesis_Poonyawat_Woottisart/val_dataset_filtered/ha-output/crop/test00114.png: (401, 264, 3) - 253\n",
            "gdrive/MyDrive/NewThesis_Poonyawat_Woottisart/val_dataset_filtered/ha-output/crop/test00113.png: (531, 340, 3) - 254\n",
            "gdrive/MyDrive/NewThesis_Poonyawat_Woottisart/val_dataset_filtered/ha-output/crop/test00106.png: (414, 294, 3) - 255\n",
            "gdrive/MyDrive/NewThesis_Poonyawat_Woottisart/val_dataset_filtered/ha-output/crop/test00115.png: (237, 226, 3) - 256\n",
            "gdrive/MyDrive/NewThesis_Poonyawat_Woottisart/val_dataset_filtered/ha-output/crop/test00120.png: (544, 218, 3) - 257\n",
            "gdrive/MyDrive/NewThesis_Poonyawat_Woottisart/val_dataset_filtered/ha-output/crop/test00116.png: (372, 204, 3) - 258\n",
            "gdrive/MyDrive/NewThesis_Poonyawat_Woottisart/val_dataset_filtered/ha-output/crop/test00118.png: (489, 237, 3) - 259\n",
            "gdrive/MyDrive/NewThesis_Poonyawat_Woottisart/val_dataset_filtered/ha-output/crop/test00117.png: (578, 239, 3) - 260\n",
            "gdrive/MyDrive/NewThesis_Poonyawat_Woottisart/val_dataset_filtered/ha-output/crop/test00119.png: (673, 228, 3) - 261\n",
            "gdrive/MyDrive/NewThesis_Poonyawat_Woottisart/val_dataset_filtered/ha-output/crop/test00121.png: (477, 266, 3) - 262\n",
            "gdrive/MyDrive/NewThesis_Poonyawat_Woottisart/val_dataset_filtered/ha-output/crop/test00122.png: (618, 295, 3) - 263\n",
            "gdrive/MyDrive/NewThesis_Poonyawat_Woottisart/val_dataset_filtered/ha-output/crop/test00131.png: (395, 314, 3) - 264\n",
            "gdrive/MyDrive/NewThesis_Poonyawat_Woottisart/val_dataset_filtered/ha-output/crop/test00138.png: (516, 248, 3) - 265\n",
            "gdrive/MyDrive/NewThesis_Poonyawat_Woottisart/val_dataset_filtered/ha-output/crop/test00137.png: (512, 312, 3) - 266\n",
            "gdrive/MyDrive/NewThesis_Poonyawat_Woottisart/val_dataset_filtered/ha-output/crop/test00136.png: (323, 338, 3) - 267\n",
            "gdrive/MyDrive/NewThesis_Poonyawat_Woottisart/val_dataset_filtered/ha-output/crop/test00141.png: (571, 246, 3) - 268\n",
            "gdrive/MyDrive/NewThesis_Poonyawat_Woottisart/val_dataset_filtered/ha-output/crop/test00140.png: (145, 188, 3) - 269\n",
            "gdrive/MyDrive/NewThesis_Poonyawat_Woottisart/val_dataset_filtered/ha-output/crop/test00139.png: (521, 275, 3) - 270\n",
            "gdrive/MyDrive/NewThesis_Poonyawat_Woottisart/val_dataset_filtered/ha-output/crop/test00142.png: (591, 276, 3) - 271\n",
            "gdrive/MyDrive/NewThesis_Poonyawat_Woottisart/val_dataset_filtered/ha-output/crop/test00145.png: (271, 210, 3) - 272\n",
            "gdrive/MyDrive/NewThesis_Poonyawat_Woottisart/val_dataset_filtered/ha-output/crop/test00143.png: (382, 262, 3) - 273\n",
            "gdrive/MyDrive/NewThesis_Poonyawat_Woottisart/val_dataset_filtered/ha-output/crop/test00155.png: (637, 272, 3) - 274\n",
            "gdrive/MyDrive/NewThesis_Poonyawat_Woottisart/val_dataset_filtered/ha-output/crop/test00156.png: (673, 401, 3) - 275\n",
            "gdrive/MyDrive/NewThesis_Poonyawat_Woottisart/val_dataset_filtered/ha-output/crop/test00159.png: (460, 274, 3) - 276\n",
            "gdrive/MyDrive/NewThesis_Poonyawat_Woottisart/val_dataset_filtered/ha-output/crop/test00161.png: (441, 166, 3) - 277\n",
            "gdrive/MyDrive/NewThesis_Poonyawat_Woottisart/val_dataset_filtered/ha-output/crop/test00162.png: (531, 233, 3) - 278\n",
            "gdrive/MyDrive/NewThesis_Poonyawat_Woottisart/val_dataset_filtered/ha-output/crop/test00160.png: (473, 259, 3) - 279\n",
            "gdrive/MyDrive/NewThesis_Poonyawat_Woottisart/val_dataset_filtered/ha-output/crop/test00164.png: (342, 290, 3) - 280\n",
            "gdrive/MyDrive/NewThesis_Poonyawat_Woottisart/val_dataset_filtered/ha-output/crop/test00171.png: (594, 237, 3) - 281\n",
            "gdrive/MyDrive/NewThesis_Poonyawat_Woottisart/val_dataset_filtered/ha-output/crop/test00166.png: (578, 282, 3) - 282\n",
            "gdrive/MyDrive/NewThesis_Poonyawat_Woottisart/val_dataset_filtered/ha-output/crop/test00167.png: (504, 323, 3) - 283\n",
            "gdrive/MyDrive/NewThesis_Poonyawat_Woottisart/val_dataset_filtered/ha-output/crop/test00169.png: (571, 292, 3) - 284\n",
            "gdrive/MyDrive/NewThesis_Poonyawat_Woottisart/val_dataset_filtered/ha-output/crop/test00170.png: (483, 285, 3) - 285\n",
            "gdrive/MyDrive/NewThesis_Poonyawat_Woottisart/val_dataset_filtered/ha-output/crop/test00165.png: (347, 250, 3) - 286\n",
            "gdrive/MyDrive/NewThesis_Poonyawat_Woottisart/val_dataset_filtered/ha-output/crop/test00179.png: (551, 256, 3) - 287\n",
            "gdrive/MyDrive/NewThesis_Poonyawat_Woottisart/val_dataset_filtered/ha-output/crop/test00177.png: (519, 305, 3) - 288\n",
            "gdrive/MyDrive/NewThesis_Poonyawat_Woottisart/val_dataset_filtered/ha-output/crop/test00172.png: (637, 272, 3) - 289\n",
            "gdrive/MyDrive/NewThesis_Poonyawat_Woottisart/val_dataset_filtered/ha-output/crop/test00174.png: (500, 246, 3) - 290\n",
            "gdrive/MyDrive/NewThesis_Poonyawat_Woottisart/val_dataset_filtered/ha-output/crop/test00178.png: (338, 270, 3) - 291\n"
          ]
        }
      ],
      "source": [
        "for img_name in list(os.listdir(img_jp_loc)):\n",
        "    img_loc = '{}/{}'.format(img_jp_loc, img_name)\n",
        "    img = cv2.imread(img_loc)\n",
        "    print('{}: {} - {}'.format(img_loc, img.shape, idx))\n",
        "    dim_i_list.append(img.shape[0])\n",
        "    dim_j_list.append(img.shape[1])\n",
        "    img_list.append(img)\n",
        "    label_list.append(1)\n",
        "    idx = idx+1"
      ],
      "id": "a2fc6563"
    },
    {
      "cell_type": "code",
      "execution_count": 11,
      "metadata": {
        "colab": {
          "base_uri": "https://localhost:8080/"
        },
        "id": "44ff630e",
        "outputId": "1e18d050-211a-430e-8445-8435125cecab"
      },
      "outputs": [
        {
          "output_type": "execute_result",
          "data": {
            "text/plain": [
              "(518.472602739726, 190.7206482994075)"
            ]
          },
          "metadata": {},
          "execution_count": 11
        }
      ],
      "source": [
        "np.mean(dim_i_list), np.std(dim_i_list)"
      ],
      "id": "44ff630e"
    },
    {
      "cell_type": "code",
      "execution_count": 12,
      "metadata": {
        "colab": {
          "base_uri": "https://localhost:8080/"
        },
        "id": "82cee4a3",
        "outputId": "4df784ec-8dc8-4125-f7ee-0cc2cd381af8"
      },
      "outputs": [
        {
          "output_type": "execute_result",
          "data": {
            "text/plain": [
              "(303.78767123287673, 113.9774496384425)"
            ]
          },
          "metadata": {},
          "execution_count": 12
        }
      ],
      "source": [
        "np.mean(dim_j_list), np.std(dim_j_list)"
      ],
      "id": "82cee4a3"
    },
    {
      "cell_type": "code",
      "execution_count": 13,
      "metadata": {
        "colab": {
          "base_uri": "https://localhost:8080/"
        },
        "id": "6e8d0821",
        "outputId": "c9e31a7a-ff1a-4b93-d0e0-8d6892e78c95"
      },
      "outputs": [
        {
          "output_type": "execute_result",
          "data": {
            "text/plain": [
              "292"
            ]
          },
          "metadata": {},
          "execution_count": 13
        }
      ],
      "source": [
        "len(dim_i_list)"
      ],
      "id": "6e8d0821"
    },
    {
      "cell_type": "markdown",
      "source": [
        "### From testing set"
      ],
      "metadata": {
        "id": "l-NvwFIywmER"
      },
      "id": "l-NvwFIywmER"
    },
    {
      "cell_type": "code",
      "source": [
        "img_loc = \"gdrive/MyDrive/NewThesis_Poonyawat_Woottisart/Dataset_Filtered_new\"\n",
        "img_eu_loc = img_loc + '/european-street-fashion-output'\n",
        "img_jp_loc = img_loc + '/harajuku-kawaii-street-fashion-output'\n",
        "img_th_loc = img_loc + '/thai-street-fashion-output'"
      ],
      "metadata": {
        "id": "3IzetykDvVf5"
      },
      "id": "3IzetykDvVf5",
      "execution_count": 14,
      "outputs": []
    },
    {
      "cell_type": "code",
      "source": [
        "img_list_test = []\n",
        "# TH\n",
        "img_name = 'test_00066.png'\n",
        "img_loc = '{}/{}'.format(img_th_loc, img_name)\n",
        "img = cv2.imread(img_loc)\n",
        "print('{}'.format(img_loc))\n",
        "img_list_test.append(img)\n",
        "# JP\n",
        "img_name = 'test_00011.png'\n",
        "img_loc = '{}/{}'.format(img_jp_loc, img_name)\n",
        "img = cv2.imread(img_loc)\n",
        "print('{}'.format(img_loc))\n",
        "img_list_test.append(img)\n",
        "# EU\n",
        "img_name = 'test_00000.png'\n",
        "img_loc = '{}/{}'.format(img_eu_loc, img_name)\n",
        "img = cv2.imread(img_loc)\n",
        "print('{}'.format(img_loc))\n",
        "img_list_test.append(img)"
      ],
      "metadata": {
        "colab": {
          "base_uri": "https://localhost:8080/"
        },
        "id": "1mVXEV8dvebw",
        "outputId": "24bf7bc0-2e81-4d8f-d7f6-311c9ebb5f38"
      },
      "id": "1mVXEV8dvebw",
      "execution_count": 15,
      "outputs": [
        {
          "output_type": "stream",
          "name": "stdout",
          "text": [
            "gdrive/MyDrive/NewThesis_Poonyawat_Woottisart/Dataset_Filtered_new/thai-street-fashion-output/test_00066.png\n",
            "gdrive/MyDrive/NewThesis_Poonyawat_Woottisart/Dataset_Filtered_new/harajuku-kawaii-street-fashion-output/test_00011.png\n",
            "gdrive/MyDrive/NewThesis_Poonyawat_Woottisart/Dataset_Filtered_new/european-street-fashion-output/test_00000.png\n"
          ]
        }
      ]
    },
    {
      "cell_type": "markdown",
      "metadata": {
        "id": "ECmk6mpY_Gil"
      },
      "source": [
        "# Image Scaling"
      ],
      "id": "ECmk6mpY_Gil"
    },
    {
      "cell_type": "code",
      "execution_count": 16,
      "metadata": {
        "id": "dfafcd73"
      },
      "outputs": [],
      "source": [
        "h = 400\n",
        "w = 160\n",
        "\n",
        "img_scaling = [np.zeros(shape=(h, w, 3)) for i in range(len(img_list))]\n",
        "img_scaling_test = [np.zeros(shape=(h, w, 3)) for i in range(len(img_list_test))]\n",
        "for i in range(len(img_list)):\n",
        "    img_scaling[i] = cv2.resize(img_list[i], dsize=(w, h), interpolation = cv2.INTER_CUBIC)\n",
        "for i in range(len(img_list_test)):\n",
        "    img_scaling_test[i] = cv2.resize(img_list_test[i], dsize=(w, h), interpolation = cv2.INTER_CUBIC)\n",
        "    "
      ],
      "id": "dfafcd73"
    },
    {
      "cell_type": "code",
      "execution_count": 17,
      "metadata": {
        "colab": {
          "base_uri": "https://localhost:8080/"
        },
        "id": "f4dc8ad9",
        "outputId": "47557bc8-4a15-4ed3-990b-ba64b1338c55"
      },
      "outputs": [
        {
          "output_type": "execute_result",
          "data": {
            "text/plain": [
              "(292, 292)"
            ]
          },
          "metadata": {},
          "execution_count": 17
        }
      ],
      "source": [
        "len(img_scaling), len(label_list)"
      ],
      "id": "f4dc8ad9"
    },
    {
      "cell_type": "code",
      "execution_count": 18,
      "metadata": {
        "id": "JcCewjsVBwQh"
      },
      "outputs": [],
      "source": [
        "sample_test_jp = img_scaling[203]\n",
        "sample_test_th = img_scaling[92]\n",
        "\n",
        "sample_test_th_test = img_scaling[0]\n",
        "sample_test_jp_test = img_scaling[1]\n",
        "sample_test_eu_test = img_scaling[2]"
      ],
      "id": "JcCewjsVBwQh"
    },
    {
      "cell_type": "code",
      "execution_count": 19,
      "metadata": {
        "colab": {
          "base_uri": "https://localhost:8080/"
        },
        "id": "ef89240f",
        "outputId": "1090ce71-e373-4db3-dfb7-39e8c9774c3c"
      },
      "outputs": [
        {
          "output_type": "execute_result",
          "data": {
            "text/plain": [
              "(292, 400, 160, 3)"
            ]
          },
          "metadata": {},
          "execution_count": 19
        }
      ],
      "source": [
        "len(img_scaling), len(img_scaling[0]), len(img_scaling[0][0]), len(img_scaling[0][0][0])"
      ],
      "id": "ef89240f"
    },
    {
      "cell_type": "code",
      "execution_count": 19,
      "metadata": {
        "id": "4ca64f76"
      },
      "outputs": [],
      "source": [
        ""
      ],
      "id": "4ca64f76"
    },
    {
      "cell_type": "markdown",
      "metadata": {
        "id": "KLVNjdGLBqTf"
      },
      "source": [
        "# Functions"
      ],
      "id": "KLVNjdGLBqTf"
    },
    {
      "cell_type": "code",
      "execution_count": 20,
      "metadata": {
        "id": "0fedef05"
      },
      "outputs": [],
      "source": [
        "# network creating from given parameter\n",
        "# input: \n",
        "#       number of layers in network (integer), \n",
        "#       list of infomation for each layer (list of dictionaries), \n",
        "#       list of number of nodes for each dense layer (list of integer(s)), \n",
        "#       (optional) list of pooling type for each layer (list of string)\n",
        "# output: \n",
        "#       network topology\n",
        "\n",
        "def gen_network(n_layers, layers_list, dense_layer_node_list, pooling_set=None): \n",
        "    \n",
        "    # layer_list = list of layers those combined with n_node, padding, activation_fn\n",
        "    \n",
        "    return_network = [layers.Rescaling(1./255, input_shape=(h, w, 3))]\n",
        "    \n",
        "    # Convolutional Neural Network\n",
        "    \n",
        "    for i in range(n_layers):\n",
        "        temp_conv = layers.Conv2D(layers_list[i]['n_node'], 3, padding=layers_list[i]['padding'], activation=layers_list[i]['activ_fn'])\n",
        "        return_network.append(temp_conv)\n",
        "        if(pooling_set==None):\n",
        "            temp_pooling = layers.MaxPooling2D()\n",
        "        return_network.append(temp_pooling)\n",
        "    \n",
        "    # Dense Layer\n",
        "    \n",
        "    return_network.append(layers.Flatten())\n",
        "    \n",
        "    for n_node_dense in dense_layer_node_list:\n",
        "        temp_dense = layers.Dense(n_node_dense, activation='relu')\n",
        "        return_network.append(temp_dense)\n",
        "        \n",
        "    return_network.append(layers.Dense(2))\n",
        "    \n",
        "    return return_network"
      ],
      "id": "0fedef05"
    },
    {
      "cell_type": "code",
      "execution_count": 21,
      "metadata": {
        "id": "UvowazGoatzI"
      },
      "outputs": [],
      "source": [
        "# get model and model parameter from checkpoint\n",
        "# input: filename (string)\n",
        "# output: set of model parameters, model\n",
        "\n",
        "def get_prev_model(filename):\n",
        "\n",
        "    f = open('gdrive/MyDrive/Colab Notebooks/checkpoints_crop/{}.txt'.format(filename), 'r')\n",
        "\n",
        "    paramList = []\n",
        "\n",
        "    for line in f:\n",
        "        tmp = line.replace('\\\\n', '')\n",
        "        paramList.append(line)\n",
        "\n",
        "    f.close()\n",
        "\n",
        "    tmp = paramList[1].strip('][').split(', ')\n",
        "    paramList[1] = [None for i in range(len(tmp))]\n",
        "    for i in range(len(tmp)):\n",
        "        if(i%3==0):\n",
        "            paramList[1][i] = tmp[i].split(': ')[1].replace('}', '')\n",
        "        else:\n",
        "            paramList[1][i] = tmp[i].split(': ')[1].replace('}', '').split('\\'')[1]\n",
        "    paramList[1][-1] = paramList[1][-1].split(']')[0]\n",
        "\n",
        "    tmp = []\n",
        "    idx = 0\n",
        "    while(idx<len(paramList[1])):\n",
        "        tmp.append({'n_node': int(paramList[1][idx]), 'padding': paramList[1][idx+1], 'activ_fn': paramList[1][idx+2]})\n",
        "        idx = idx+3\n",
        "    paramList[1] = tmp.copy()\n",
        "\n",
        "    tmp = paramList[2].strip('][').split(', ')\n",
        "    paramList[2] = []\n",
        "    for i in range(len(tmp)-1):\n",
        "        paramList[2].append(int(tmp[0]))\n",
        "    paramList[2].append(int(tmp[-1].split(']')[0]))\n",
        "\n",
        "    param_prev = np.array([int(paramList[0]), paramList[1], paramList[2]])\n",
        "\n",
        "    net = gen_network(n_layers=int(paramList[0]), layers_list=paramList[1], dense_layer_node_list=paramList[2])\n",
        "    model_prev = Sequential(net)\n",
        "    model_prev.compile(optimizer='adam',\n",
        "                  loss=tf.keras.losses.SparseCategoricalCrossentropy(from_logits=True),\n",
        "                  metrics=['binary_accuracy'])\n",
        "    model_prev.load_weights('gdrive/MyDrive/Colab Notebooks/checkpoints_crop/{}'.format(filename))\n",
        "\n",
        "    return param_prev, model_prev"
      ],
      "id": "UvowazGoatzI"
    },
    {
      "cell_type": "markdown",
      "metadata": {
        "id": "i0wEYLaaUMGU"
      },
      "source": [
        "# Run"
      ],
      "id": "i0wEYLaaUMGU"
    },
    {
      "cell_type": "code",
      "execution_count": 22,
      "metadata": {
        "id": "RbgAWaGKU0m5",
        "colab": {
          "base_uri": "https://localhost:8080/"
        },
        "outputId": "4092972c-00c1-4078-9a9e-b908ebea27b3"
      },
      "outputs": [
        {
          "output_type": "stream",
          "name": "stderr",
          "text": [
            "/usr/local/lib/python3.7/dist-packages/ipykernel_launcher.py:39: VisibleDeprecationWarning: Creating an ndarray from ragged nested sequences (which is a list-or-tuple of lists-or-tuples-or ndarrays with different lengths or shapes) is deprecated. If you meant to do this, you must specify 'dtype=object' when creating the ndarray.\n"
          ]
        }
      ],
      "source": [
        "best_param, best_model = get_prev_model('best_model')"
      ],
      "id": "RbgAWaGKU0m5"
    },
    {
      "cell_type": "markdown",
      "metadata": {
        "id": "g76j9n49U1Qr"
      },
      "source": [
        "# Final Evaluation"
      ],
      "id": "g76j9n49U1Qr"
    },
    {
      "cell_type": "code",
      "execution_count": 23,
      "metadata": {
        "id": "tv8OWj1AVRCZ"
      },
      "outputs": [],
      "source": [
        "# model evaluation process \n",
        "# input: model, list of testing images (list of image arrays), list of labels (list of integers (classes))\n",
        "# output: -\n",
        "\n",
        "def evaluate_final(model, x_test, y_test):\n",
        "    # model.evaluate(x_test, y_test, verbose=2)\n",
        "\n",
        "    probability_model = tf.keras.Sequential([\n",
        "                                             model,\n",
        "                                             tf.keras.layers.Softmax()])\n",
        "    x_test = np.array(x_test, ndmin=4)\n",
        "    pred_prob = probability_model(x_test).numpy()\n",
        "    \n",
        "    pred_class = []\n",
        "    for i in range(len(pred_prob)):\n",
        "        pred_class.append(np.where(pred_prob[i][0]>pred_prob[i][1], 0, 1))\n",
        "        print('Actual: {} | Predicted: {} | Prob class 1: {}'.format(y_test[i], pred_class[i], pred_prob[i][1]))\n",
        "    print(confusion_matrix(y_test, pred_class))\n",
        "    acc_score = accuracy_score(y_test, pred_class)\n",
        "    prec_score = precision_score(y_test, pred_class)\n",
        "    rec_score = recall_score(y_test, pred_class)\n",
        "    print('accuracy_score: {}'.format(acc_score))\n",
        "    print('precision_score: {}'.format(prec_score))\n",
        "    print('recall_score: {}'.format(rec_score))\n",
        "\n",
        "    if((prec_score==0)&(rec_score==0)):\n",
        "        f1_score = 0\n",
        "    else:\n",
        "        f1_score = 2*prec_score*rec_score/(prec_score+rec_score)\n"
      ],
      "id": "tv8OWj1AVRCZ"
    },
    {
      "cell_type": "code",
      "source": [
        "best_model.summary()"
      ],
      "metadata": {
        "colab": {
          "base_uri": "https://localhost:8080/"
        },
        "id": "r4N7dczUCr0j",
        "outputId": "e1a4c087-6f81-4113-9cc7-b2a4542353fa"
      },
      "id": "r4N7dczUCr0j",
      "execution_count": 24,
      "outputs": [
        {
          "output_type": "stream",
          "name": "stdout",
          "text": [
            "Model: \"sequential\"\n",
            "_________________________________________________________________\n",
            " Layer (type)                Output Shape              Param #   \n",
            "=================================================================\n",
            " rescaling (Rescaling)       (None, 400, 160, 3)       0         \n",
            "                                                                 \n",
            " conv2d (Conv2D)             (None, 400, 160, 16)      448       \n",
            "                                                                 \n",
            " max_pooling2d (MaxPooling2D  (None, 200, 80, 16)      0         \n",
            " )                                                               \n",
            "                                                                 \n",
            " conv2d_1 (Conv2D)           (None, 200, 80, 20)       2900      \n",
            "                                                                 \n",
            " max_pooling2d_1 (MaxPooling  (None, 100, 40, 20)      0         \n",
            " 2D)                                                             \n",
            "                                                                 \n",
            " conv2d_2 (Conv2D)           (None, 100, 40, 8)        1448      \n",
            "                                                                 \n",
            " max_pooling2d_2 (MaxPooling  (None, 50, 20, 8)        0         \n",
            " 2D)                                                             \n",
            "                                                                 \n",
            " conv2d_3 (Conv2D)           (None, 50, 20, 16)        1168      \n",
            "                                                                 \n",
            " max_pooling2d_3 (MaxPooling  (None, 25, 10, 16)       0         \n",
            " 2D)                                                             \n",
            "                                                                 \n",
            " flatten (Flatten)           (None, 4000)              0         \n",
            "                                                                 \n",
            " dense (Dense)               (None, 8)                 32008     \n",
            "                                                                 \n",
            " dense_1 (Dense)             (None, 4)                 36        \n",
            "                                                                 \n",
            " dense_2 (Dense)             (None, 2)                 10        \n",
            "                                                                 \n",
            "=================================================================\n",
            "Total params: 38,018\n",
            "Trainable params: 38,018\n",
            "Non-trainable params: 0\n",
            "_________________________________________________________________\n"
          ]
        }
      ]
    },
    {
      "cell_type": "code",
      "execution_count": 25,
      "metadata": {
        "id": "gOoqLKtRfzZ-",
        "colab": {
          "base_uri": "https://localhost:8080/"
        },
        "outputId": "fa5f6196-045d-4fbc-dd27-362db84b26be"
      },
      "outputs": [
        {
          "output_type": "stream",
          "name": "stdout",
          "text": [
            "Actual: 0 | Predicted: 0 | Prob class 1: 0.2236003875732422\n",
            "Actual: 0 | Predicted: 0 | Prob class 1: 0.04416371136903763\n",
            "Actual: 0 | Predicted: 0 | Prob class 1: 0.24403679370880127\n",
            "Actual: 0 | Predicted: 1 | Prob class 1: 0.8884128928184509\n",
            "Actual: 0 | Predicted: 0 | Prob class 1: 0.21783442795276642\n",
            "Actual: 0 | Predicted: 1 | Prob class 1: 0.6560224890708923\n",
            "Actual: 0 | Predicted: 0 | Prob class 1: 0.18902578949928284\n",
            "Actual: 0 | Predicted: 0 | Prob class 1: 0.001608311664313078\n",
            "Actual: 0 | Predicted: 0 | Prob class 1: 0.122255340218544\n",
            "Actual: 0 | Predicted: 0 | Prob class 1: 0.06027277559041977\n",
            "Actual: 0 | Predicted: 0 | Prob class 1: 0.3061928451061249\n",
            "Actual: 0 | Predicted: 0 | Prob class 1: 0.08679146319627762\n",
            "Actual: 0 | Predicted: 0 | Prob class 1: 0.39950722455978394\n",
            "Actual: 0 | Predicted: 0 | Prob class 1: 0.0006467797211371362\n",
            "Actual: 0 | Predicted: 0 | Prob class 1: 0.06902256608009338\n",
            "Actual: 0 | Predicted: 0 | Prob class 1: 0.0762411504983902\n",
            "Actual: 0 | Predicted: 0 | Prob class 1: 0.06459738314151764\n",
            "Actual: 0 | Predicted: 0 | Prob class 1: 0.0571201927959919\n",
            "Actual: 0 | Predicted: 0 | Prob class 1: 0.03127400204539299\n",
            "Actual: 0 | Predicted: 0 | Prob class 1: 0.3846331238746643\n",
            "Actual: 0 | Predicted: 0 | Prob class 1: 0.10761012136936188\n",
            "Actual: 0 | Predicted: 0 | Prob class 1: 0.00041825725929811597\n",
            "Actual: 0 | Predicted: 0 | Prob class 1: 1.8947336755115174e-11\n",
            "Actual: 0 | Predicted: 0 | Prob class 1: 0.05139923468232155\n",
            "Actual: 0 | Predicted: 0 | Prob class 1: 0.2821890711784363\n",
            "Actual: 0 | Predicted: 0 | Prob class 1: 0.07875502109527588\n",
            "Actual: 0 | Predicted: 0 | Prob class 1: 0.3215666711330414\n",
            "Actual: 0 | Predicted: 0 | Prob class 1: 0.24042533338069916\n",
            "Actual: 0 | Predicted: 0 | Prob class 1: 0.15418170392513275\n",
            "Actual: 0 | Predicted: 0 | Prob class 1: 0.48261377215385437\n",
            "Actual: 0 | Predicted: 0 | Prob class 1: 0.3078795075416565\n",
            "Actual: 0 | Predicted: 0 | Prob class 1: 0.4931425452232361\n",
            "Actual: 0 | Predicted: 0 | Prob class 1: 0.450619637966156\n",
            "Actual: 0 | Predicted: 0 | Prob class 1: 4.126617113797693e-06\n",
            "Actual: 0 | Predicted: 1 | Prob class 1: 0.9375789761543274\n",
            "Actual: 0 | Predicted: 0 | Prob class 1: 8.369938768737484e-07\n",
            "Actual: 0 | Predicted: 0 | Prob class 1: 0.2713523209095001\n",
            "Actual: 0 | Predicted: 0 | Prob class 1: 0.024942712858319283\n",
            "Actual: 0 | Predicted: 1 | Prob class 1: 0.8645527362823486\n",
            "Actual: 0 | Predicted: 1 | Prob class 1: 0.9747865200042725\n",
            "Actual: 0 | Predicted: 0 | Prob class 1: 0.121380515396595\n",
            "Actual: 0 | Predicted: 0 | Prob class 1: 0.20697829127311707\n",
            "Actual: 0 | Predicted: 1 | Prob class 1: 0.9171949625015259\n",
            "Actual: 0 | Predicted: 1 | Prob class 1: 0.9112886786460876\n",
            "Actual: 0 | Predicted: 1 | Prob class 1: 0.8563565015792847\n",
            "Actual: 0 | Predicted: 0 | Prob class 1: 0.2261543571949005\n",
            "Actual: 0 | Predicted: 1 | Prob class 1: 0.9947565793991089\n",
            "Actual: 0 | Predicted: 0 | Prob class 1: 0.2987675666809082\n",
            "Actual: 0 | Predicted: 0 | Prob class 1: 0.47593897581100464\n",
            "Actual: 0 | Predicted: 0 | Prob class 1: 0.062064237892627716\n",
            "Actual: 0 | Predicted: 0 | Prob class 1: 8.206756319850683e-06\n",
            "Actual: 0 | Predicted: 0 | Prob class 1: 0.4760136306285858\n",
            "Actual: 0 | Predicted: 0 | Prob class 1: 0.03598027676343918\n",
            "Actual: 0 | Predicted: 0 | Prob class 1: 0.27886518836021423\n",
            "Actual: 0 | Predicted: 0 | Prob class 1: 0.05899472162127495\n",
            "Actual: 0 | Predicted: 0 | Prob class 1: 0.03403894603252411\n",
            "Actual: 0 | Predicted: 0 | Prob class 1: 0.15056464076042175\n",
            "Actual: 0 | Predicted: 0 | Prob class 1: 0.35277190804481506\n",
            "Actual: 0 | Predicted: 0 | Prob class 1: 0.333088219165802\n",
            "Actual: 0 | Predicted: 0 | Prob class 1: 0.28817543387413025\n",
            "Actual: 0 | Predicted: 0 | Prob class 1: 0.44729501008987427\n",
            "Actual: 0 | Predicted: 1 | Prob class 1: 0.5689263343811035\n",
            "Actual: 0 | Predicted: 0 | Prob class 1: 0.0020283956546336412\n",
            "Actual: 0 | Predicted: 0 | Prob class 1: 0.49611255526542664\n",
            "Actual: 0 | Predicted: 0 | Prob class 1: 0.4155559837818146\n",
            "Actual: 0 | Predicted: 0 | Prob class 1: 0.1263040006160736\n",
            "Actual: 0 | Predicted: 1 | Prob class 1: 0.8515751361846924\n",
            "Actual: 0 | Predicted: 0 | Prob class 1: 0.0021879966370761395\n",
            "Actual: 0 | Predicted: 0 | Prob class 1: 0.010597772896289825\n",
            "Actual: 0 | Predicted: 0 | Prob class 1: 0.15950855612754822\n",
            "Actual: 0 | Predicted: 0 | Prob class 1: 0.008219514042139053\n",
            "Actual: 0 | Predicted: 0 | Prob class 1: 0.08255481719970703\n",
            "Actual: 0 | Predicted: 0 | Prob class 1: 0.025052424520254135\n",
            "Actual: 0 | Predicted: 0 | Prob class 1: 3.197711339453235e-05\n",
            "Actual: 0 | Predicted: 0 | Prob class 1: 0.42474856972694397\n",
            "Actual: 0 | Predicted: 0 | Prob class 1: 0.06796421855688095\n",
            "Actual: 0 | Predicted: 0 | Prob class 1: 0.29281067848205566\n",
            "Actual: 0 | Predicted: 1 | Prob class 1: 0.8224952220916748\n",
            "Actual: 0 | Predicted: 0 | Prob class 1: 0.12935040891170502\n",
            "Actual: 0 | Predicted: 0 | Prob class 1: 0.22243015468120575\n",
            "Actual: 0 | Predicted: 1 | Prob class 1: 0.5997191071510315\n",
            "Actual: 0 | Predicted: 0 | Prob class 1: 0.1792219877243042\n",
            "Actual: 0 | Predicted: 0 | Prob class 1: 0.003839610144495964\n",
            "Actual: 0 | Predicted: 1 | Prob class 1: 0.9306392073631287\n",
            "Actual: 0 | Predicted: 1 | Prob class 1: 0.970984160900116\n",
            "Actual: 0 | Predicted: 0 | Prob class 1: 9.167696407530457e-05\n",
            "Actual: 0 | Predicted: 0 | Prob class 1: 0.0361967608332634\n",
            "Actual: 0 | Predicted: 0 | Prob class 1: 7.86850432632491e-05\n",
            "Actual: 0 | Predicted: 0 | Prob class 1: 7.561095844721422e-05\n",
            "Actual: 0 | Predicted: 0 | Prob class 1: 0.18460506200790405\n",
            "Actual: 0 | Predicted: 0 | Prob class 1: 0.18090598285198212\n",
            "Actual: 0 | Predicted: 0 | Prob class 1: 0.4974276125431061\n",
            "Actual: 0 | Predicted: 0 | Prob class 1: 7.870497938711196e-06\n",
            "Actual: 0 | Predicted: 0 | Prob class 1: 0.15757055580615997\n",
            "Actual: 0 | Predicted: 0 | Prob class 1: 0.0023242824245244265\n",
            "Actual: 0 | Predicted: 0 | Prob class 1: 0.06350280344486237\n",
            "Actual: 0 | Predicted: 0 | Prob class 1: 0.050671860575675964\n",
            "Actual: 0 | Predicted: 1 | Prob class 1: 0.8217419385910034\n",
            "Actual: 0 | Predicted: 0 | Prob class 1: 8.079371764324605e-05\n",
            "Actual: 0 | Predicted: 0 | Prob class 1: 0.09734849631786346\n",
            "Actual: 0 | Predicted: 0 | Prob class 1: 0.1268809288740158\n",
            "Actual: 0 | Predicted: 0 | Prob class 1: 1.0789758562168572e-06\n",
            "Actual: 0 | Predicted: 1 | Prob class 1: 0.5312560796737671\n",
            "Actual: 0 | Predicted: 0 | Prob class 1: 0.1187138557434082\n",
            "Actual: 0 | Predicted: 0 | Prob class 1: 6.808387752244016e-06\n",
            "Actual: 0 | Predicted: 0 | Prob class 1: 0.006356974132359028\n",
            "Actual: 0 | Predicted: 1 | Prob class 1: 0.5094722509384155\n",
            "Actual: 0 | Predicted: 0 | Prob class 1: 0.00051234191050753\n",
            "Actual: 0 | Predicted: 0 | Prob class 1: 0.2794170379638672\n",
            "Actual: 0 | Predicted: 0 | Prob class 1: 0.32840290665626526\n",
            "Actual: 0 | Predicted: 1 | Prob class 1: 0.522443950176239\n",
            "Actual: 0 | Predicted: 0 | Prob class 1: 0.03990714251995087\n",
            "Actual: 0 | Predicted: 0 | Prob class 1: 1.348742353002308e-05\n",
            "Actual: 0 | Predicted: 0 | Prob class 1: 0.008906702511012554\n",
            "Actual: 0 | Predicted: 0 | Prob class 1: 0.41152986884117126\n",
            "Actual: 0 | Predicted: 0 | Prob class 1: 2.038255479419604e-05\n",
            "Actual: 0 | Predicted: 1 | Prob class 1: 0.8197566270828247\n",
            "Actual: 0 | Predicted: 0 | Prob class 1: 2.446203325234819e-06\n",
            "Actual: 0 | Predicted: 0 | Prob class 1: 6.607356772292405e-05\n",
            "Actual: 0 | Predicted: 0 | Prob class 1: 0.028112521395087242\n",
            "Actual: 0 | Predicted: 0 | Prob class 1: 0.0019886496011167765\n",
            "Actual: 0 | Predicted: 0 | Prob class 1: 0.026906661689281464\n",
            "Actual: 0 | Predicted: 0 | Prob class 1: 0.30214354395866394\n",
            "Actual: 0 | Predicted: 0 | Prob class 1: 0.09543075412511826\n",
            "Actual: 0 | Predicted: 0 | Prob class 1: 0.09322194755077362\n",
            "Actual: 0 | Predicted: 0 | Prob class 1: 0.0020781406201422215\n",
            "Actual: 0 | Predicted: 0 | Prob class 1: 2.6826372049981728e-05\n",
            "Actual: 0 | Predicted: 0 | Prob class 1: 2.3654265532968566e-06\n",
            "Actual: 0 | Predicted: 0 | Prob class 1: 0.0004048483679071069\n",
            "Actual: 0 | Predicted: 0 | Prob class 1: 0.0004043746739625931\n",
            "Actual: 0 | Predicted: 0 | Prob class 1: 2.8574728275998496e-05\n",
            "Actual: 0 | Predicted: 0 | Prob class 1: 2.444467206430545e-08\n",
            "Actual: 0 | Predicted: 0 | Prob class 1: 3.540338366292417e-05\n",
            "Actual: 0 | Predicted: 0 | Prob class 1: 0.014818214811384678\n",
            "Actual: 0 | Predicted: 0 | Prob class 1: 0.09908024221658707\n",
            "Actual: 0 | Predicted: 0 | Prob class 1: 2.2014476908083225e-09\n",
            "Actual: 0 | Predicted: 0 | Prob class 1: 0.0038702553138136864\n",
            "Actual: 0 | Predicted: 1 | Prob class 1: 0.902367353439331\n",
            "Actual: 0 | Predicted: 0 | Prob class 1: 0.1453608125448227\n",
            "Actual: 0 | Predicted: 0 | Prob class 1: 0.20899510383605957\n",
            "Actual: 0 | Predicted: 0 | Prob class 1: 0.0005936374072916806\n",
            "Actual: 0 | Predicted: 0 | Prob class 1: 0.0017047232249751687\n",
            "Actual: 0 | Predicted: 0 | Prob class 1: 0.241279736161232\n",
            "Actual: 0 | Predicted: 1 | Prob class 1: 0.7981509566307068\n",
            "Actual: 0 | Predicted: 0 | Prob class 1: 0.1664469689130783\n",
            "Actual: 0 | Predicted: 0 | Prob class 1: 0.3520227372646332\n",
            "Actual: 0 | Predicted: 0 | Prob class 1: 0.45192646980285645\n",
            "Actual: 0 | Predicted: 0 | Prob class 1: 0.3692860007286072\n",
            "Actual: 0 | Predicted: 0 | Prob class 1: 0.07559196650981903\n",
            "Actual: 0 | Predicted: 0 | Prob class 1: 0.4221016466617584\n",
            "Actual: 0 | Predicted: 0 | Prob class 1: 0.011789020150899887\n",
            "Actual: 0 | Predicted: 1 | Prob class 1: 0.516709566116333\n",
            "Actual: 0 | Predicted: 0 | Prob class 1: 0.00901302881538868\n",
            "Actual: 0 | Predicted: 0 | Prob class 1: 0.009026129730045795\n",
            "Actual: 0 | Predicted: 1 | Prob class 1: 0.8126928210258484\n",
            "Actual: 0 | Predicted: 0 | Prob class 1: 0.005434803664684296\n",
            "Actual: 0 | Predicted: 0 | Prob class 1: 0.145557701587677\n",
            "Actual: 0 | Predicted: 1 | Prob class 1: 0.8360782265663147\n",
            "Actual: 0 | Predicted: 0 | Prob class 1: 0.40514814853668213\n",
            "Actual: 0 | Predicted: 0 | Prob class 1: 0.0590384416282177\n",
            "Actual: 0 | Predicted: 0 | Prob class 1: 0.01942834071815014\n",
            "Actual: 0 | Predicted: 0 | Prob class 1: 0.0016480765771120787\n",
            "Actual: 0 | Predicted: 0 | Prob class 1: 0.41965314745903015\n",
            "Actual: 0 | Predicted: 0 | Prob class 1: 0.0552389919757843\n",
            "Actual: 0 | Predicted: 0 | Prob class 1: 0.005479285027831793\n",
            "Actual: 0 | Predicted: 1 | Prob class 1: 0.5605723261833191\n",
            "Actual: 0 | Predicted: 0 | Prob class 1: 0.0013150189770385623\n",
            "Actual: 0 | Predicted: 0 | Prob class 1: 0.20762431621551514\n",
            "Actual: 0 | Predicted: 0 | Prob class 1: 0.018326515331864357\n",
            "Actual: 0 | Predicted: 0 | Prob class 1: 0.0030555485282093287\n",
            "Actual: 0 | Predicted: 0 | Prob class 1: 0.10218676924705505\n",
            "Actual: 0 | Predicted: 0 | Prob class 1: 0.34630313515663147\n",
            "Actual: 0 | Predicted: 0 | Prob class 1: 6.647290865657851e-05\n",
            "Actual: 0 | Predicted: 0 | Prob class 1: 0.20356470346450806\n",
            "Actual: 0 | Predicted: 1 | Prob class 1: 0.6901923418045044\n",
            "Actual: 0 | Predicted: 0 | Prob class 1: 0.02100868709385395\n",
            "Actual: 0 | Predicted: 0 | Prob class 1: 0.04546665772795677\n",
            "Actual: 0 | Predicted: 0 | Prob class 1: 0.00819267425686121\n",
            "Actual: 0 | Predicted: 0 | Prob class 1: 0.09017965197563171\n",
            "Actual: 0 | Predicted: 0 | Prob class 1: 0.24493364989757538\n",
            "Actual: 0 | Predicted: 1 | Prob class 1: 0.8292605876922607\n",
            "Actual: 0 | Predicted: 0 | Prob class 1: 0.009567756205797195\n",
            "Actual: 0 | Predicted: 0 | Prob class 1: 0.05022069811820984\n",
            "Actual: 0 | Predicted: 1 | Prob class 1: 0.5998311042785645\n",
            "Actual: 0 | Predicted: 0 | Prob class 1: 0.02391134388744831\n",
            "Actual: 0 | Predicted: 1 | Prob class 1: 0.8220835328102112\n",
            "Actual: 1 | Predicted: 0 | Prob class 1: 0.007900116965174675\n",
            "Actual: 1 | Predicted: 1 | Prob class 1: 0.8604118824005127\n",
            "Actual: 1 | Predicted: 0 | Prob class 1: 0.1454201638698578\n",
            "Actual: 1 | Predicted: 0 | Prob class 1: 0.2024969607591629\n",
            "Actual: 1 | Predicted: 1 | Prob class 1: 0.8402343988418579\n",
            "Actual: 1 | Predicted: 0 | Prob class 1: 0.007998300716280937\n",
            "Actual: 1 | Predicted: 0 | Prob class 1: 0.13537348806858063\n",
            "Actual: 1 | Predicted: 0 | Prob class 1: 0.021342359483242035\n",
            "Actual: 1 | Predicted: 0 | Prob class 1: 1.2639794766400314e-10\n",
            "Actual: 1 | Predicted: 1 | Prob class 1: 0.9956627488136292\n",
            "Actual: 1 | Predicted: 1 | Prob class 1: 0.9991255402565002\n",
            "Actual: 1 | Predicted: 0 | Prob class 1: 0.19345897436141968\n",
            "Actual: 1 | Predicted: 1 | Prob class 1: 0.9956627488136292\n",
            "Actual: 1 | Predicted: 1 | Prob class 1: 0.8889116644859314\n",
            "Actual: 1 | Predicted: 0 | Prob class 1: 0.25141486525535583\n",
            "Actual: 1 | Predicted: 1 | Prob class 1: 0.9936944842338562\n",
            "Actual: 1 | Predicted: 1 | Prob class 1: 0.9997108578681946\n",
            "Actual: 1 | Predicted: 1 | Prob class 1: 0.9971713423728943\n",
            "Actual: 1 | Predicted: 0 | Prob class 1: 0.043089188635349274\n",
            "Actual: 1 | Predicted: 0 | Prob class 1: 0.043089188635349274\n",
            "Actual: 1 | Predicted: 1 | Prob class 1: 0.9999985694885254\n",
            "Actual: 1 | Predicted: 1 | Prob class 1: 0.9631960988044739\n",
            "Actual: 1 | Predicted: 0 | Prob class 1: 0.09791978448629379\n",
            "Actual: 1 | Predicted: 0 | Prob class 1: 0.1547907292842865\n",
            "Actual: 1 | Predicted: 1 | Prob class 1: 0.9996339082717896\n",
            "Actual: 1 | Predicted: 0 | Prob class 1: 1.2474403092710418e-06\n",
            "Actual: 1 | Predicted: 1 | Prob class 1: 0.8133871555328369\n",
            "Actual: 1 | Predicted: 0 | Prob class 1: 0.28607332706451416\n",
            "Actual: 1 | Predicted: 0 | Prob class 1: 0.16281385719776154\n",
            "Actual: 1 | Predicted: 0 | Prob class 1: 1.1735432053683326e-05\n",
            "Actual: 1 | Predicted: 0 | Prob class 1: 7.528693458880298e-06\n",
            "Actual: 1 | Predicted: 1 | Prob class 1: 0.9948559999465942\n",
            "Actual: 1 | Predicted: 0 | Prob class 1: 0.06641114503145218\n",
            "Actual: 1 | Predicted: 1 | Prob class 1: 0.9854314923286438\n",
            "Actual: 1 | Predicted: 0 | Prob class 1: 0.08007660508155823\n",
            "Actual: 1 | Predicted: 1 | Prob class 1: 0.9904868006706238\n",
            "Actual: 1 | Predicted: 0 | Prob class 1: 0.35049062967300415\n",
            "Actual: 1 | Predicted: 1 | Prob class 1: 0.9880571365356445\n",
            "Actual: 1 | Predicted: 0 | Prob class 1: 0.0014969485346227884\n",
            "Actual: 1 | Predicted: 1 | Prob class 1: 0.8832703232765198\n",
            "Actual: 1 | Predicted: 0 | Prob class 1: 0.0006255756015889347\n",
            "Actual: 1 | Predicted: 0 | Prob class 1: 0.11122580617666245\n",
            "Actual: 1 | Predicted: 1 | Prob class 1: 0.9642244577407837\n",
            "Actual: 1 | Predicted: 0 | Prob class 1: 2.082707578665577e-05\n",
            "Actual: 1 | Predicted: 1 | Prob class 1: 0.7556576132774353\n",
            "Actual: 1 | Predicted: 0 | Prob class 1: 3.383181683602743e-05\n",
            "Actual: 1 | Predicted: 1 | Prob class 1: 0.9622505903244019\n",
            "Actual: 1 | Predicted: 1 | Prob class 1: 0.6354101300239563\n",
            "Actual: 1 | Predicted: 1 | Prob class 1: 0.8214375972747803\n",
            "Actual: 1 | Predicted: 0 | Prob class 1: 9.938000584952533e-05\n",
            "Actual: 1 | Predicted: 1 | Prob class 1: 0.993746280670166\n",
            "Actual: 1 | Predicted: 1 | Prob class 1: 0.9996212720870972\n",
            "Actual: 1 | Predicted: 0 | Prob class 1: 0.013551061041653156\n",
            "Actual: 1 | Predicted: 1 | Prob class 1: 0.9999837875366211\n",
            "Actual: 1 | Predicted: 1 | Prob class 1: 0.5689340829849243\n",
            "Actual: 1 | Predicted: 1 | Prob class 1: 0.7906551361083984\n",
            "Actual: 1 | Predicted: 0 | Prob class 1: 0.2765869200229645\n",
            "Actual: 1 | Predicted: 0 | Prob class 1: 0.0027358541265130043\n",
            "Actual: 1 | Predicted: 1 | Prob class 1: 0.9941260814666748\n",
            "Actual: 1 | Predicted: 0 | Prob class 1: 0.2266884595155716\n",
            "Actual: 1 | Predicted: 1 | Prob class 1: 0.995032787322998\n",
            "Actual: 1 | Predicted: 0 | Prob class 1: 0.19636866450309753\n",
            "Actual: 1 | Predicted: 1 | Prob class 1: 0.9842460751533508\n",
            "Actual: 1 | Predicted: 1 | Prob class 1: 0.9932865500450134\n",
            "Actual: 1 | Predicted: 1 | Prob class 1: 0.9995695948600769\n",
            "Actual: 1 | Predicted: 0 | Prob class 1: 8.580757366871694e-07\n",
            "Actual: 1 | Predicted: 1 | Prob class 1: 0.9960173964500427\n",
            "Actual: 1 | Predicted: 1 | Prob class 1: 0.9999879598617554\n",
            "Actual: 1 | Predicted: 0 | Prob class 1: 0.008031546138226986\n",
            "Actual: 1 | Predicted: 0 | Prob class 1: 4.127761349081993e-05\n",
            "Actual: 1 | Predicted: 1 | Prob class 1: 0.9512505531311035\n",
            "Actual: 1 | Predicted: 0 | Prob class 1: 0.16051819920539856\n",
            "Actual: 1 | Predicted: 1 | Prob class 1: 0.5852044224739075\n",
            "Actual: 1 | Predicted: 0 | Prob class 1: 1.4752038168808213e-06\n",
            "Actual: 1 | Predicted: 0 | Prob class 1: 0.11793103814125061\n",
            "Actual: 1 | Predicted: 1 | Prob class 1: 0.9805644154548645\n",
            "Actual: 1 | Predicted: 0 | Prob class 1: 0.0008886775467544794\n",
            "Actual: 1 | Predicted: 0 | Prob class 1: 6.210086667124415e-09\n",
            "Actual: 1 | Predicted: 1 | Prob class 1: 0.7770529389381409\n",
            "Actual: 1 | Predicted: 1 | Prob class 1: 0.854095995426178\n",
            "Actual: 1 | Predicted: 1 | Prob class 1: 0.998994767665863\n",
            "Actual: 1 | Predicted: 0 | Prob class 1: 0.03427131101489067\n",
            "Actual: 1 | Predicted: 1 | Prob class 1: 0.9912588000297546\n",
            "Actual: 1 | Predicted: 1 | Prob class 1: 0.9902812242507935\n",
            "Actual: 1 | Predicted: 0 | Prob class 1: 0.013551061041653156\n",
            "Actual: 1 | Predicted: 1 | Prob class 1: 0.7137460708618164\n",
            "Actual: 1 | Predicted: 1 | Prob class 1: 0.9981216788291931\n",
            "Actual: 1 | Predicted: 0 | Prob class 1: 0.0002784821845125407\n",
            "Actual: 1 | Predicted: 0 | Prob class 1: 2.548749398556538e-05\n",
            "Actual: 1 | Predicted: 1 | Prob class 1: 0.5064997673034668\n",
            "Actual: 1 | Predicted: 0 | Prob class 1: 0.06994976848363876\n",
            "Actual: 1 | Predicted: 0 | Prob class 1: 0.3048846423625946\n",
            "Actual: 1 | Predicted: 0 | Prob class 1: 0.26974329352378845\n",
            "Actual: 1 | Predicted: 1 | Prob class 1: 0.7916854619979858\n",
            "Actual: 1 | Predicted: 0 | Prob class 1: 0.03850637003779411\n",
            "Actual: 1 | Predicted: 1 | Prob class 1: 0.7221789360046387\n",
            "Actual: 1 | Predicted: 0 | Prob class 1: 5.1802762754959986e-05\n",
            "Actual: 1 | Predicted: 1 | Prob class 1: 0.9657487869262695\n",
            "Actual: 1 | Predicted: 1 | Prob class 1: 0.9997836947441101\n",
            "Actual: 1 | Predicted: 1 | Prob class 1: 0.999976396560669\n",
            "Actual: 1 | Predicted: 0 | Prob class 1: 0.39956381916999817\n",
            "Actual: 1 | Predicted: 1 | Prob class 1: 0.9992893934249878\n",
            "Actual: 1 | Predicted: 1 | Prob class 1: 0.9345800280570984\n",
            "Actual: 1 | Predicted: 0 | Prob class 1: 2.548749398556538e-05\n",
            "Actual: 1 | Predicted: 1 | Prob class 1: 0.9603058695793152\n",
            "Actual: 1 | Predicted: 0 | Prob class 1: 0.1325474977493286\n",
            "[[156  30]\n",
            " [ 52  54]]\n",
            "accuracy_score: 0.7191780821917808\n",
            "precision_score: 0.6428571428571429\n",
            "recall_score: 0.5094339622641509\n"
          ]
        }
      ],
      "source": [
        "evaluate_final(best_model, img_scaling, label_list)"
      ],
      "id": "gOoqLKtRfzZ-"
    },
    {
      "cell_type": "markdown",
      "source": [
        "# Example result from model (Testing Set)"
      ],
      "metadata": {
        "id": "G2IImuVvtRqx"
      },
      "id": "G2IImuVvtRqx"
    },
    {
      "cell_type": "code",
      "source": [
        "probability_model = tf.keras.Sequential([\n",
        "                                         best_model,\n",
        "                                         tf.keras.layers.Softmax()])"
      ],
      "metadata": {
        "id": "xD75zhT6taVA"
      },
      "id": "xD75zhT6taVA",
      "execution_count": 26,
      "outputs": []
    },
    {
      "cell_type": "code",
      "source": [
        "prediction_jp_test = probability_model(sample_test_jp_test.reshape(1, h, w, 3)).numpy()\n",
        "prediction_th_test = probability_model(sample_test_th_test.reshape(1, h, w, 3)).numpy()\n",
        "prediction_eu_test = probability_model(sample_test_eu_test.reshape(1, h, w, 3)).numpy()"
      ],
      "metadata": {
        "id": "nAA1hWVWtoov"
      },
      "id": "nAA1hWVWtoov",
      "execution_count": 27,
      "outputs": []
    },
    {
      "cell_type": "code",
      "source": [
        "prediction_jp_test"
      ],
      "metadata": {
        "colab": {
          "base_uri": "https://localhost:8080/"
        },
        "id": "InCVKoGjtY85",
        "outputId": "409102b0-9697-4108-84bf-12ea35739620"
      },
      "id": "InCVKoGjtY85",
      "execution_count": 28,
      "outputs": [
        {
          "output_type": "execute_result",
          "data": {
            "text/plain": [
              "array([[0.95583636, 0.04416369]], dtype=float32)"
            ]
          },
          "metadata": {},
          "execution_count": 28
        }
      ]
    },
    {
      "cell_type": "code",
      "source": [
        "prediction_th_test"
      ],
      "metadata": {
        "colab": {
          "base_uri": "https://localhost:8080/"
        },
        "id": "ivzBbwVKxohT",
        "outputId": "754f9e73-3aac-4ff0-9200-425c9842fd09"
      },
      "id": "ivzBbwVKxohT",
      "execution_count": 29,
      "outputs": [
        {
          "output_type": "execute_result",
          "data": {
            "text/plain": [
              "array([[0.77639973, 0.22360027]], dtype=float32)"
            ]
          },
          "metadata": {},
          "execution_count": 29
        }
      ]
    },
    {
      "cell_type": "code",
      "source": [
        "prediction_eu_test"
      ],
      "metadata": {
        "colab": {
          "base_uri": "https://localhost:8080/"
        },
        "id": "fcfMxFpUxoj7",
        "outputId": "31c9e7dc-e2b1-4310-d27a-2adac3b7a8a7"
      },
      "id": "fcfMxFpUxoj7",
      "execution_count": 30,
      "outputs": [
        {
          "output_type": "execute_result",
          "data": {
            "text/plain": [
              "array([[0.755963  , 0.24403694]], dtype=float32)"
            ]
          },
          "metadata": {},
          "execution_count": 30
        }
      ]
    },
    {
      "cell_type": "markdown",
      "source": [
        "# Example result from model (Validation Set)"
      ],
      "metadata": {
        "id": "BiM5MgA3tLGK"
      },
      "id": "BiM5MgA3tLGK"
    },
    {
      "cell_type": "code",
      "execution_count": 31,
      "metadata": {
        "id": "dI70qgVCHYyG"
      },
      "outputs": [],
      "source": [
        "prediction_jp = probability_model(sample_test_jp.reshape(1, h, w, 3)).numpy()\n",
        "prediction_th = probability_model(sample_test_th.reshape(1, h, w, 3)).numpy()"
      ],
      "id": "dI70qgVCHYyG"
    },
    {
      "cell_type": "code",
      "source": [
        "prediction_jp"
      ],
      "metadata": {
        "colab": {
          "base_uri": "https://localhost:8080/"
        },
        "id": "YI9Rg5LJAP77",
        "outputId": "e17d7ac5-2a01-4ac8-ed31-aa16f43008d7"
      },
      "id": "YI9Rg5LJAP77",
      "execution_count": 32,
      "outputs": [
        {
          "output_type": "execute_result",
          "data": {
            "text/plain": [
              "array([[0.00282872, 0.99717134]], dtype=float32)"
            ]
          },
          "metadata": {},
          "execution_count": 32
        }
      ]
    },
    {
      "cell_type": "code",
      "source": [
        "prediction_th"
      ],
      "metadata": {
        "colab": {
          "base_uri": "https://localhost:8080/"
        },
        "id": "41MLCNU0AP-u",
        "outputId": "741f8667-e846-4fcb-a65e-5223ea171027"
      },
      "id": "41MLCNU0AP-u",
      "execution_count": 33,
      "outputs": [
        {
          "output_type": "execute_result",
          "data": {
            "text/plain": [
              "array([[9.9999213e-01, 7.8705061e-06]], dtype=float32)"
            ]
          },
          "metadata": {},
          "execution_count": 33
        }
      ]
    }
  ],
  "metadata": {
    "accelerator": "GPU",
    "colab": {
      "collapsed_sections": [
        "llXMxW0WA36R"
      ],
      "machine_shape": "hm",
      "name": "CNN_test_for_validation_new.ipynb",
      "provenance": [],
      "toc_visible": true
    },
    "kernelspec": {
      "display_name": "Python 3",
      "language": "python",
      "name": "python3"
    },
    "language_info": {
      "codemirror_mode": {
        "name": "ipython",
        "version": 3
      },
      "file_extension": ".py",
      "mimetype": "text/x-python",
      "name": "python",
      "nbconvert_exporter": "python",
      "pygments_lexer": "ipython3",
      "version": "3.8.8"
    }
  },
  "nbformat": 4,
  "nbformat_minor": 5
}