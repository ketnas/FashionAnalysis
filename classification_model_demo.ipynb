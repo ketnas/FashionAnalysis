{
 "cells": [
  {
   "cell_type": "code",
   "execution_count": 3,
   "id": "53c93b27",
   "metadata": {},
   "outputs": [],
   "source": [
    "import pandas as pd\n",
    "import numpy as np\n",
    "from sklearn.ensemble import GradientBoostingClassifier as GBC\n",
    "from sklearn.ensemble import RandomForestClassifier as RFC \n",
    "from sklearn.model_selection import train_test_split as tts\n",
    "from sklearn.model_selection import KFold\n",
    "from imblearn.over_sampling import SMOTE\n",
    "from sklearn.metrics import *\n",
    "import random"
   ]
  },
  {
   "cell_type": "code",
   "execution_count": 4,
   "id": "195beb5f",
   "metadata": {},
   "outputs": [],
   "source": [
    "df = pd.read_csv('Dataset/rgb_img_dataset_test_colorfulness.csv')"
   ]
  },
  {
   "cell_type": "code",
   "execution_count": 5,
   "id": "0aa0fce4",
   "metadata": {},
   "outputs": [],
   "source": [
    "df = df.drop('filename', axis=1)"
   ]
  },
  {
   "cell_type": "code",
   "execution_count": 6,
   "id": "312ac3e4",
   "metadata": {},
   "outputs": [
    {
     "data": {
      "text/html": [
       "<div>\n",
       "<style scoped>\n",
       "    .dataframe tbody tr th:only-of-type {\n",
       "        vertical-align: middle;\n",
       "    }\n",
       "\n",
       "    .dataframe tbody tr th {\n",
       "        vertical-align: top;\n",
       "    }\n",
       "\n",
       "    .dataframe thead th {\n",
       "        text-align: right;\n",
       "    }\n",
       "</style>\n",
       "<table border=\"1\" class=\"dataframe\">\n",
       "  <thead>\n",
       "    <tr style=\"text-align: right;\">\n",
       "      <th></th>\n",
       "      <th>r_range_1</th>\n",
       "      <th>g_range_1</th>\n",
       "      <th>b_range_1</th>\n",
       "      <th>proportion_1</th>\n",
       "      <th>r_range_2</th>\n",
       "      <th>g_range_2</th>\n",
       "      <th>b_range_2</th>\n",
       "      <th>proportion_2</th>\n",
       "      <th>r_range_3</th>\n",
       "      <th>g_range_3</th>\n",
       "      <th>...</th>\n",
       "      <th>sling</th>\n",
       "      <th>shorts</th>\n",
       "      <th>trousers</th>\n",
       "      <th>skirt</th>\n",
       "      <th>short_sleeved_dress</th>\n",
       "      <th>long_sleeved_dress</th>\n",
       "      <th>vest_dress</th>\n",
       "      <th>sling_dress</th>\n",
       "      <th>colorfulness</th>\n",
       "      <th>label</th>\n",
       "    </tr>\n",
       "  </thead>\n",
       "  <tbody>\n",
       "    <tr>\n",
       "      <th>0</th>\n",
       "      <td>16-31</td>\n",
       "      <td>16-31</td>\n",
       "      <td>16-31</td>\n",
       "      <td>0.303225</td>\n",
       "      <td>0-15</td>\n",
       "      <td>0-15</td>\n",
       "      <td>0-15</td>\n",
       "      <td>0.235109</td>\n",
       "      <td>0-15</td>\n",
       "      <td>0-15</td>\n",
       "      <td>...</td>\n",
       "      <td>0.0</td>\n",
       "      <td>0.0</td>\n",
       "      <td>0.000000</td>\n",
       "      <td>0.887868</td>\n",
       "      <td>0.0</td>\n",
       "      <td>0.0</td>\n",
       "      <td>0.0</td>\n",
       "      <td>0.0</td>\n",
       "      <td>35.539986</td>\n",
       "      <td>0</td>\n",
       "    </tr>\n",
       "    <tr>\n",
       "      <th>1</th>\n",
       "      <td>16-31</td>\n",
       "      <td>16-31</td>\n",
       "      <td>16-31</td>\n",
       "      <td>0.176878</td>\n",
       "      <td>240-255</td>\n",
       "      <td>240-255</td>\n",
       "      <td>240-255</td>\n",
       "      <td>0.091829</td>\n",
       "      <td>224-239</td>\n",
       "      <td>224-239</td>\n",
       "      <td>...</td>\n",
       "      <td>0.0</td>\n",
       "      <td>0.0</td>\n",
       "      <td>0.985530</td>\n",
       "      <td>0.930180</td>\n",
       "      <td>0.0</td>\n",
       "      <td>0.0</td>\n",
       "      <td>0.0</td>\n",
       "      <td>0.0</td>\n",
       "      <td>13.672892</td>\n",
       "      <td>0</td>\n",
       "    </tr>\n",
       "    <tr>\n",
       "      <th>2</th>\n",
       "      <td>224-239</td>\n",
       "      <td>224-239</td>\n",
       "      <td>224-239</td>\n",
       "      <td>0.092203</td>\n",
       "      <td>208-223</td>\n",
       "      <td>208-223</td>\n",
       "      <td>208-223</td>\n",
       "      <td>0.082258</td>\n",
       "      <td>224-239</td>\n",
       "      <td>224-239</td>\n",
       "      <td>...</td>\n",
       "      <td>0.0</td>\n",
       "      <td>0.0</td>\n",
       "      <td>0.894071</td>\n",
       "      <td>0.000000</td>\n",
       "      <td>0.0</td>\n",
       "      <td>0.0</td>\n",
       "      <td>0.0</td>\n",
       "      <td>0.0</td>\n",
       "      <td>9.019223</td>\n",
       "      <td>0</td>\n",
       "    </tr>\n",
       "    <tr>\n",
       "      <th>3</th>\n",
       "      <td>48-63</td>\n",
       "      <td>32-47</td>\n",
       "      <td>32-47</td>\n",
       "      <td>0.063760</td>\n",
       "      <td>112-127</td>\n",
       "      <td>32-47</td>\n",
       "      <td>0-15</td>\n",
       "      <td>0.059953</td>\n",
       "      <td>128-143</td>\n",
       "      <td>48-63</td>\n",
       "      <td>...</td>\n",
       "      <td>0.0</td>\n",
       "      <td>0.0</td>\n",
       "      <td>0.000000</td>\n",
       "      <td>0.939734</td>\n",
       "      <td>0.0</td>\n",
       "      <td>0.0</td>\n",
       "      <td>0.0</td>\n",
       "      <td>0.0</td>\n",
       "      <td>64.195108</td>\n",
       "      <td>0</td>\n",
       "    </tr>\n",
       "    <tr>\n",
       "      <th>4</th>\n",
       "      <td>0-15</td>\n",
       "      <td>0-15</td>\n",
       "      <td>0-15</td>\n",
       "      <td>0.127613</td>\n",
       "      <td>192-207</td>\n",
       "      <td>176-191</td>\n",
       "      <td>160-175</td>\n",
       "      <td>0.112392</td>\n",
       "      <td>192-207</td>\n",
       "      <td>176-191</td>\n",
       "      <td>...</td>\n",
       "      <td>0.0</td>\n",
       "      <td>0.0</td>\n",
       "      <td>0.732579</td>\n",
       "      <td>0.000000</td>\n",
       "      <td>0.0</td>\n",
       "      <td>0.0</td>\n",
       "      <td>0.0</td>\n",
       "      <td>0.0</td>\n",
       "      <td>25.580210</td>\n",
       "      <td>0</td>\n",
       "    </tr>\n",
       "    <tr>\n",
       "      <th>...</th>\n",
       "      <td>...</td>\n",
       "      <td>...</td>\n",
       "      <td>...</td>\n",
       "      <td>...</td>\n",
       "      <td>...</td>\n",
       "      <td>...</td>\n",
       "      <td>...</td>\n",
       "      <td>...</td>\n",
       "      <td>...</td>\n",
       "      <td>...</td>\n",
       "      <td>...</td>\n",
       "      <td>...</td>\n",
       "      <td>...</td>\n",
       "      <td>...</td>\n",
       "      <td>...</td>\n",
       "      <td>...</td>\n",
       "      <td>...</td>\n",
       "      <td>...</td>\n",
       "      <td>...</td>\n",
       "      <td>...</td>\n",
       "      <td>...</td>\n",
       "    </tr>\n",
       "    <tr>\n",
       "      <th>602</th>\n",
       "      <td>0-15</td>\n",
       "      <td>0-15</td>\n",
       "      <td>16-31</td>\n",
       "      <td>0.382456</td>\n",
       "      <td>0-15</td>\n",
       "      <td>16-31</td>\n",
       "      <td>16-31</td>\n",
       "      <td>0.152202</td>\n",
       "      <td>112-127</td>\n",
       "      <td>96-111</td>\n",
       "      <td>...</td>\n",
       "      <td>0.0</td>\n",
       "      <td>0.0</td>\n",
       "      <td>0.000000</td>\n",
       "      <td>0.993711</td>\n",
       "      <td>0.0</td>\n",
       "      <td>0.0</td>\n",
       "      <td>0.0</td>\n",
       "      <td>0.0</td>\n",
       "      <td>21.898130</td>\n",
       "      <td>0</td>\n",
       "    </tr>\n",
       "    <tr>\n",
       "      <th>603</th>\n",
       "      <td>32-47</td>\n",
       "      <td>32-47</td>\n",
       "      <td>32-47</td>\n",
       "      <td>0.196324</td>\n",
       "      <td>192-207</td>\n",
       "      <td>192-207</td>\n",
       "      <td>192-207</td>\n",
       "      <td>0.066635</td>\n",
       "      <td>176-191</td>\n",
       "      <td>176-191</td>\n",
       "      <td>...</td>\n",
       "      <td>0.0</td>\n",
       "      <td>0.0</td>\n",
       "      <td>0.000000</td>\n",
       "      <td>0.000000</td>\n",
       "      <td>0.0</td>\n",
       "      <td>0.0</td>\n",
       "      <td>0.0</td>\n",
       "      <td>0.0</td>\n",
       "      <td>19.477787</td>\n",
       "      <td>0</td>\n",
       "    </tr>\n",
       "    <tr>\n",
       "      <th>604</th>\n",
       "      <td>64-79</td>\n",
       "      <td>112-127</td>\n",
       "      <td>128-143</td>\n",
       "      <td>0.030152</td>\n",
       "      <td>48-63</td>\n",
       "      <td>112-127</td>\n",
       "      <td>144-159</td>\n",
       "      <td>0.028196</td>\n",
       "      <td>64-79</td>\n",
       "      <td>112-127</td>\n",
       "      <td>...</td>\n",
       "      <td>0.0</td>\n",
       "      <td>0.0</td>\n",
       "      <td>0.877317</td>\n",
       "      <td>0.000000</td>\n",
       "      <td>0.0</td>\n",
       "      <td>0.0</td>\n",
       "      <td>0.0</td>\n",
       "      <td>0.0</td>\n",
       "      <td>44.893097</td>\n",
       "      <td>0</td>\n",
       "    </tr>\n",
       "    <tr>\n",
       "      <th>605</th>\n",
       "      <td>32-47</td>\n",
       "      <td>32-47</td>\n",
       "      <td>0-15</td>\n",
       "      <td>0.134387</td>\n",
       "      <td>32-47</td>\n",
       "      <td>32-47</td>\n",
       "      <td>16-31</td>\n",
       "      <td>0.129191</td>\n",
       "      <td>16-31</td>\n",
       "      <td>32-47</td>\n",
       "      <td>...</td>\n",
       "      <td>0.0</td>\n",
       "      <td>0.0</td>\n",
       "      <td>0.999213</td>\n",
       "      <td>0.000000</td>\n",
       "      <td>0.0</td>\n",
       "      <td>0.0</td>\n",
       "      <td>0.0</td>\n",
       "      <td>0.0</td>\n",
       "      <td>38.425786</td>\n",
       "      <td>0</td>\n",
       "    </tr>\n",
       "    <tr>\n",
       "      <th>606</th>\n",
       "      <td>80-95</td>\n",
       "      <td>0-15</td>\n",
       "      <td>0-15</td>\n",
       "      <td>0.086001</td>\n",
       "      <td>64-79</td>\n",
       "      <td>0-15</td>\n",
       "      <td>0-15</td>\n",
       "      <td>0.076244</td>\n",
       "      <td>96-111</td>\n",
       "      <td>0-15</td>\n",
       "      <td>...</td>\n",
       "      <td>0.0</td>\n",
       "      <td>0.0</td>\n",
       "      <td>0.813541</td>\n",
       "      <td>0.000000</td>\n",
       "      <td>0.0</td>\n",
       "      <td>0.0</td>\n",
       "      <td>0.0</td>\n",
       "      <td>0.0</td>\n",
       "      <td>83.378443</td>\n",
       "      <td>0</td>\n",
       "    </tr>\n",
       "  </tbody>\n",
       "</table>\n",
       "<p>607 rows × 43 columns</p>\n",
       "</div>"
      ],
      "text/plain": [
       "    r_range_1 g_range_1 b_range_1  proportion_1 r_range_2 g_range_2 b_range_2  \\\n",
       "0       16-31     16-31     16-31      0.303225      0-15      0-15      0-15   \n",
       "1       16-31     16-31     16-31      0.176878   240-255   240-255   240-255   \n",
       "2     224-239   224-239   224-239      0.092203   208-223   208-223   208-223   \n",
       "3       48-63     32-47     32-47      0.063760   112-127     32-47      0-15   \n",
       "4        0-15      0-15      0-15      0.127613   192-207   176-191   160-175   \n",
       "..        ...       ...       ...           ...       ...       ...       ...   \n",
       "602      0-15      0-15     16-31      0.382456      0-15     16-31     16-31   \n",
       "603     32-47     32-47     32-47      0.196324   192-207   192-207   192-207   \n",
       "604     64-79   112-127   128-143      0.030152     48-63   112-127   144-159   \n",
       "605     32-47     32-47      0-15      0.134387     32-47     32-47     16-31   \n",
       "606     80-95      0-15      0-15      0.086001     64-79      0-15      0-15   \n",
       "\n",
       "     proportion_2 r_range_3 g_range_3  ... sling  shorts  trousers     skirt  \\\n",
       "0        0.235109      0-15      0-15  ...   0.0     0.0  0.000000  0.887868   \n",
       "1        0.091829   224-239   224-239  ...   0.0     0.0  0.985530  0.930180   \n",
       "2        0.082258   224-239   224-239  ...   0.0     0.0  0.894071  0.000000   \n",
       "3        0.059953   128-143     48-63  ...   0.0     0.0  0.000000  0.939734   \n",
       "4        0.112392   192-207   176-191  ...   0.0     0.0  0.732579  0.000000   \n",
       "..            ...       ...       ...  ...   ...     ...       ...       ...   \n",
       "602      0.152202   112-127    96-111  ...   0.0     0.0  0.000000  0.993711   \n",
       "603      0.066635   176-191   176-191  ...   0.0     0.0  0.000000  0.000000   \n",
       "604      0.028196     64-79   112-127  ...   0.0     0.0  0.877317  0.000000   \n",
       "605      0.129191     16-31     32-47  ...   0.0     0.0  0.999213  0.000000   \n",
       "606      0.076244    96-111      0-15  ...   0.0     0.0  0.813541  0.000000   \n",
       "\n",
       "    short_sleeved_dress  long_sleeved_dress vest_dress sling_dress  \\\n",
       "0                   0.0                 0.0        0.0         0.0   \n",
       "1                   0.0                 0.0        0.0         0.0   \n",
       "2                   0.0                 0.0        0.0         0.0   \n",
       "3                   0.0                 0.0        0.0         0.0   \n",
       "4                   0.0                 0.0        0.0         0.0   \n",
       "..                  ...                 ...        ...         ...   \n",
       "602                 0.0                 0.0        0.0         0.0   \n",
       "603                 0.0                 0.0        0.0         0.0   \n",
       "604                 0.0                 0.0        0.0         0.0   \n",
       "605                 0.0                 0.0        0.0         0.0   \n",
       "606                 0.0                 0.0        0.0         0.0   \n",
       "\n",
       "    colorfulness  label  \n",
       "0      35.539986      0  \n",
       "1      13.672892      0  \n",
       "2       9.019223      0  \n",
       "3      64.195108      0  \n",
       "4      25.580210      0  \n",
       "..           ...    ...  \n",
       "602    21.898130      0  \n",
       "603    19.477787      0  \n",
       "604    44.893097      0  \n",
       "605    38.425786      0  \n",
       "606    83.378443      0  \n",
       "\n",
       "[607 rows x 43 columns]"
      ]
     },
     "execution_count": 6,
     "metadata": {},
     "output_type": "execute_result"
    }
   ],
   "source": [
    "df"
   ]
  },
  {
   "cell_type": "code",
   "execution_count": 7,
   "id": "6394f5db",
   "metadata": {},
   "outputs": [],
   "source": [
    "def convert_range_to_order(val):\n",
    "    result = int(val.split('-')[0])/16\n",
    "    return int(result)"
   ]
  },
  {
   "cell_type": "code",
   "execution_count": 8,
   "id": "f6d41e34",
   "metadata": {},
   "outputs": [],
   "source": [
    "for col_name in df.columns:\n",
    "    if('_range_' in col_name):\n",
    "        df[col_name] = df[col_name].apply(lambda x: convert_range_to_order(x))"
   ]
  },
  {
   "cell_type": "raw",
   "id": "fe2934b9",
   "metadata": {},
   "source": [
    "def convert_range_to_order(val, col):\n",
    "    if('h_' in col):\n",
    "        result = int(val.split('-')[0])/15\n",
    "    else:\n",
    "        result = float(val.split('-')[0])/0.05\n",
    "    return int(result)"
   ]
  },
  {
   "cell_type": "raw",
   "id": "e7c1d2cd",
   "metadata": {},
   "source": [
    "for col_name in df.columns:\n",
    "    if('_range_' in col_name):\n",
    "        df[col_name] = df[col_name].apply(lambda x: convert_range_to_order(x, col_name))"
   ]
  },
  {
   "cell_type": "code",
   "execution_count": 9,
   "id": "7eb16d4d",
   "metadata": {},
   "outputs": [
    {
     "data": {
      "text/html": [
       "<div>\n",
       "<style scoped>\n",
       "    .dataframe tbody tr th:only-of-type {\n",
       "        vertical-align: middle;\n",
       "    }\n",
       "\n",
       "    .dataframe tbody tr th {\n",
       "        vertical-align: top;\n",
       "    }\n",
       "\n",
       "    .dataframe thead th {\n",
       "        text-align: right;\n",
       "    }\n",
       "</style>\n",
       "<table border=\"1\" class=\"dataframe\">\n",
       "  <thead>\n",
       "    <tr style=\"text-align: right;\">\n",
       "      <th></th>\n",
       "      <th>r_range_1</th>\n",
       "      <th>g_range_1</th>\n",
       "      <th>b_range_1</th>\n",
       "      <th>proportion_1</th>\n",
       "      <th>r_range_2</th>\n",
       "      <th>g_range_2</th>\n",
       "      <th>b_range_2</th>\n",
       "      <th>proportion_2</th>\n",
       "      <th>r_range_3</th>\n",
       "      <th>g_range_3</th>\n",
       "      <th>...</th>\n",
       "      <th>sling</th>\n",
       "      <th>shorts</th>\n",
       "      <th>trousers</th>\n",
       "      <th>skirt</th>\n",
       "      <th>short_sleeved_dress</th>\n",
       "      <th>long_sleeved_dress</th>\n",
       "      <th>vest_dress</th>\n",
       "      <th>sling_dress</th>\n",
       "      <th>colorfulness</th>\n",
       "      <th>label</th>\n",
       "    </tr>\n",
       "  </thead>\n",
       "  <tbody>\n",
       "    <tr>\n",
       "      <th>0</th>\n",
       "      <td>1</td>\n",
       "      <td>1</td>\n",
       "      <td>1</td>\n",
       "      <td>0.303225</td>\n",
       "      <td>0</td>\n",
       "      <td>0</td>\n",
       "      <td>0</td>\n",
       "      <td>0.235109</td>\n",
       "      <td>0</td>\n",
       "      <td>0</td>\n",
       "      <td>...</td>\n",
       "      <td>0.0</td>\n",
       "      <td>0.0</td>\n",
       "      <td>0.000000</td>\n",
       "      <td>0.887868</td>\n",
       "      <td>0.0</td>\n",
       "      <td>0.0</td>\n",
       "      <td>0.0</td>\n",
       "      <td>0.0</td>\n",
       "      <td>35.539986</td>\n",
       "      <td>0</td>\n",
       "    </tr>\n",
       "    <tr>\n",
       "      <th>1</th>\n",
       "      <td>1</td>\n",
       "      <td>1</td>\n",
       "      <td>1</td>\n",
       "      <td>0.176878</td>\n",
       "      <td>15</td>\n",
       "      <td>15</td>\n",
       "      <td>15</td>\n",
       "      <td>0.091829</td>\n",
       "      <td>14</td>\n",
       "      <td>14</td>\n",
       "      <td>...</td>\n",
       "      <td>0.0</td>\n",
       "      <td>0.0</td>\n",
       "      <td>0.985530</td>\n",
       "      <td>0.930180</td>\n",
       "      <td>0.0</td>\n",
       "      <td>0.0</td>\n",
       "      <td>0.0</td>\n",
       "      <td>0.0</td>\n",
       "      <td>13.672892</td>\n",
       "      <td>0</td>\n",
       "    </tr>\n",
       "    <tr>\n",
       "      <th>2</th>\n",
       "      <td>14</td>\n",
       "      <td>14</td>\n",
       "      <td>14</td>\n",
       "      <td>0.092203</td>\n",
       "      <td>13</td>\n",
       "      <td>13</td>\n",
       "      <td>13</td>\n",
       "      <td>0.082258</td>\n",
       "      <td>14</td>\n",
       "      <td>14</td>\n",
       "      <td>...</td>\n",
       "      <td>0.0</td>\n",
       "      <td>0.0</td>\n",
       "      <td>0.894071</td>\n",
       "      <td>0.000000</td>\n",
       "      <td>0.0</td>\n",
       "      <td>0.0</td>\n",
       "      <td>0.0</td>\n",
       "      <td>0.0</td>\n",
       "      <td>9.019223</td>\n",
       "      <td>0</td>\n",
       "    </tr>\n",
       "    <tr>\n",
       "      <th>3</th>\n",
       "      <td>3</td>\n",
       "      <td>2</td>\n",
       "      <td>2</td>\n",
       "      <td>0.063760</td>\n",
       "      <td>7</td>\n",
       "      <td>2</td>\n",
       "      <td>0</td>\n",
       "      <td>0.059953</td>\n",
       "      <td>8</td>\n",
       "      <td>3</td>\n",
       "      <td>...</td>\n",
       "      <td>0.0</td>\n",
       "      <td>0.0</td>\n",
       "      <td>0.000000</td>\n",
       "      <td>0.939734</td>\n",
       "      <td>0.0</td>\n",
       "      <td>0.0</td>\n",
       "      <td>0.0</td>\n",
       "      <td>0.0</td>\n",
       "      <td>64.195108</td>\n",
       "      <td>0</td>\n",
       "    </tr>\n",
       "    <tr>\n",
       "      <th>4</th>\n",
       "      <td>0</td>\n",
       "      <td>0</td>\n",
       "      <td>0</td>\n",
       "      <td>0.127613</td>\n",
       "      <td>12</td>\n",
       "      <td>11</td>\n",
       "      <td>10</td>\n",
       "      <td>0.112392</td>\n",
       "      <td>12</td>\n",
       "      <td>11</td>\n",
       "      <td>...</td>\n",
       "      <td>0.0</td>\n",
       "      <td>0.0</td>\n",
       "      <td>0.732579</td>\n",
       "      <td>0.000000</td>\n",
       "      <td>0.0</td>\n",
       "      <td>0.0</td>\n",
       "      <td>0.0</td>\n",
       "      <td>0.0</td>\n",
       "      <td>25.580210</td>\n",
       "      <td>0</td>\n",
       "    </tr>\n",
       "    <tr>\n",
       "      <th>...</th>\n",
       "      <td>...</td>\n",
       "      <td>...</td>\n",
       "      <td>...</td>\n",
       "      <td>...</td>\n",
       "      <td>...</td>\n",
       "      <td>...</td>\n",
       "      <td>...</td>\n",
       "      <td>...</td>\n",
       "      <td>...</td>\n",
       "      <td>...</td>\n",
       "      <td>...</td>\n",
       "      <td>...</td>\n",
       "      <td>...</td>\n",
       "      <td>...</td>\n",
       "      <td>...</td>\n",
       "      <td>...</td>\n",
       "      <td>...</td>\n",
       "      <td>...</td>\n",
       "      <td>...</td>\n",
       "      <td>...</td>\n",
       "      <td>...</td>\n",
       "    </tr>\n",
       "    <tr>\n",
       "      <th>602</th>\n",
       "      <td>0</td>\n",
       "      <td>0</td>\n",
       "      <td>1</td>\n",
       "      <td>0.382456</td>\n",
       "      <td>0</td>\n",
       "      <td>1</td>\n",
       "      <td>1</td>\n",
       "      <td>0.152202</td>\n",
       "      <td>7</td>\n",
       "      <td>6</td>\n",
       "      <td>...</td>\n",
       "      <td>0.0</td>\n",
       "      <td>0.0</td>\n",
       "      <td>0.000000</td>\n",
       "      <td>0.993711</td>\n",
       "      <td>0.0</td>\n",
       "      <td>0.0</td>\n",
       "      <td>0.0</td>\n",
       "      <td>0.0</td>\n",
       "      <td>21.898130</td>\n",
       "      <td>0</td>\n",
       "    </tr>\n",
       "    <tr>\n",
       "      <th>603</th>\n",
       "      <td>2</td>\n",
       "      <td>2</td>\n",
       "      <td>2</td>\n",
       "      <td>0.196324</td>\n",
       "      <td>12</td>\n",
       "      <td>12</td>\n",
       "      <td>12</td>\n",
       "      <td>0.066635</td>\n",
       "      <td>11</td>\n",
       "      <td>11</td>\n",
       "      <td>...</td>\n",
       "      <td>0.0</td>\n",
       "      <td>0.0</td>\n",
       "      <td>0.000000</td>\n",
       "      <td>0.000000</td>\n",
       "      <td>0.0</td>\n",
       "      <td>0.0</td>\n",
       "      <td>0.0</td>\n",
       "      <td>0.0</td>\n",
       "      <td>19.477787</td>\n",
       "      <td>0</td>\n",
       "    </tr>\n",
       "    <tr>\n",
       "      <th>604</th>\n",
       "      <td>4</td>\n",
       "      <td>7</td>\n",
       "      <td>8</td>\n",
       "      <td>0.030152</td>\n",
       "      <td>3</td>\n",
       "      <td>7</td>\n",
       "      <td>9</td>\n",
       "      <td>0.028196</td>\n",
       "      <td>4</td>\n",
       "      <td>7</td>\n",
       "      <td>...</td>\n",
       "      <td>0.0</td>\n",
       "      <td>0.0</td>\n",
       "      <td>0.877317</td>\n",
       "      <td>0.000000</td>\n",
       "      <td>0.0</td>\n",
       "      <td>0.0</td>\n",
       "      <td>0.0</td>\n",
       "      <td>0.0</td>\n",
       "      <td>44.893097</td>\n",
       "      <td>0</td>\n",
       "    </tr>\n",
       "    <tr>\n",
       "      <th>605</th>\n",
       "      <td>2</td>\n",
       "      <td>2</td>\n",
       "      <td>0</td>\n",
       "      <td>0.134387</td>\n",
       "      <td>2</td>\n",
       "      <td>2</td>\n",
       "      <td>1</td>\n",
       "      <td>0.129191</td>\n",
       "      <td>1</td>\n",
       "      <td>2</td>\n",
       "      <td>...</td>\n",
       "      <td>0.0</td>\n",
       "      <td>0.0</td>\n",
       "      <td>0.999213</td>\n",
       "      <td>0.000000</td>\n",
       "      <td>0.0</td>\n",
       "      <td>0.0</td>\n",
       "      <td>0.0</td>\n",
       "      <td>0.0</td>\n",
       "      <td>38.425786</td>\n",
       "      <td>0</td>\n",
       "    </tr>\n",
       "    <tr>\n",
       "      <th>606</th>\n",
       "      <td>5</td>\n",
       "      <td>0</td>\n",
       "      <td>0</td>\n",
       "      <td>0.086001</td>\n",
       "      <td>4</td>\n",
       "      <td>0</td>\n",
       "      <td>0</td>\n",
       "      <td>0.076244</td>\n",
       "      <td>6</td>\n",
       "      <td>0</td>\n",
       "      <td>...</td>\n",
       "      <td>0.0</td>\n",
       "      <td>0.0</td>\n",
       "      <td>0.813541</td>\n",
       "      <td>0.000000</td>\n",
       "      <td>0.0</td>\n",
       "      <td>0.0</td>\n",
       "      <td>0.0</td>\n",
       "      <td>0.0</td>\n",
       "      <td>83.378443</td>\n",
       "      <td>0</td>\n",
       "    </tr>\n",
       "  </tbody>\n",
       "</table>\n",
       "<p>607 rows × 43 columns</p>\n",
       "</div>"
      ],
      "text/plain": [
       "     r_range_1  g_range_1  b_range_1  proportion_1  r_range_2  g_range_2  \\\n",
       "0            1          1          1      0.303225          0          0   \n",
       "1            1          1          1      0.176878         15         15   \n",
       "2           14         14         14      0.092203         13         13   \n",
       "3            3          2          2      0.063760          7          2   \n",
       "4            0          0          0      0.127613         12         11   \n",
       "..         ...        ...        ...           ...        ...        ...   \n",
       "602          0          0          1      0.382456          0          1   \n",
       "603          2          2          2      0.196324         12         12   \n",
       "604          4          7          8      0.030152          3          7   \n",
       "605          2          2          0      0.134387          2          2   \n",
       "606          5          0          0      0.086001          4          0   \n",
       "\n",
       "     b_range_2  proportion_2  r_range_3  g_range_3  ...  sling  shorts  \\\n",
       "0            0      0.235109          0          0  ...    0.0     0.0   \n",
       "1           15      0.091829         14         14  ...    0.0     0.0   \n",
       "2           13      0.082258         14         14  ...    0.0     0.0   \n",
       "3            0      0.059953          8          3  ...    0.0     0.0   \n",
       "4           10      0.112392         12         11  ...    0.0     0.0   \n",
       "..         ...           ...        ...        ...  ...    ...     ...   \n",
       "602          1      0.152202          7          6  ...    0.0     0.0   \n",
       "603         12      0.066635         11         11  ...    0.0     0.0   \n",
       "604          9      0.028196          4          7  ...    0.0     0.0   \n",
       "605          1      0.129191          1          2  ...    0.0     0.0   \n",
       "606          0      0.076244          6          0  ...    0.0     0.0   \n",
       "\n",
       "     trousers     skirt  short_sleeved_dress  long_sleeved_dress  vest_dress  \\\n",
       "0    0.000000  0.887868                  0.0                 0.0         0.0   \n",
       "1    0.985530  0.930180                  0.0                 0.0         0.0   \n",
       "2    0.894071  0.000000                  0.0                 0.0         0.0   \n",
       "3    0.000000  0.939734                  0.0                 0.0         0.0   \n",
       "4    0.732579  0.000000                  0.0                 0.0         0.0   \n",
       "..        ...       ...                  ...                 ...         ...   \n",
       "602  0.000000  0.993711                  0.0                 0.0         0.0   \n",
       "603  0.000000  0.000000                  0.0                 0.0         0.0   \n",
       "604  0.877317  0.000000                  0.0                 0.0         0.0   \n",
       "605  0.999213  0.000000                  0.0                 0.0         0.0   \n",
       "606  0.813541  0.000000                  0.0                 0.0         0.0   \n",
       "\n",
       "     sling_dress  colorfulness  label  \n",
       "0            0.0     35.539986      0  \n",
       "1            0.0     13.672892      0  \n",
       "2            0.0      9.019223      0  \n",
       "3            0.0     64.195108      0  \n",
       "4            0.0     25.580210      0  \n",
       "..           ...           ...    ...  \n",
       "602          0.0     21.898130      0  \n",
       "603          0.0     19.477787      0  \n",
       "604          0.0     44.893097      0  \n",
       "605          0.0     38.425786      0  \n",
       "606          0.0     83.378443      0  \n",
       "\n",
       "[607 rows x 43 columns]"
      ]
     },
     "execution_count": 9,
     "metadata": {},
     "output_type": "execute_result"
    }
   ],
   "source": [
    "df"
   ]
  },
  {
   "cell_type": "code",
   "execution_count": 10,
   "id": "6e9345bd",
   "metadata": {},
   "outputs": [
    {
     "data": {
      "text/plain": [
       "0    455\n",
       "1    152\n",
       "Name: label, dtype: int64"
      ]
     },
     "execution_count": 10,
     "metadata": {},
     "output_type": "execute_result"
    }
   ],
   "source": [
    "df['label'].value_counts()"
   ]
  },
  {
   "cell_type": "raw",
   "id": "697f465b",
   "metadata": {},
   "source": [
    "for col in df.columns:\n",
    "    if('proportion' in col):\n",
    "        df = df.drop(col, axis=1)"
   ]
  },
  {
   "cell_type": "raw",
   "id": "334176fd",
   "metadata": {},
   "source": [
    "for col in df.columns:\n",
    "    if('6' in col):\n",
    "        df = df.drop(col, axis=1)\n",
    "    if('7' in col):\n",
    "        df = df.drop(col, axis=1)"
   ]
  },
  {
   "cell_type": "code",
   "execution_count": 27,
   "id": "e01086bc",
   "metadata": {},
   "outputs": [],
   "source": [
    "def model_training(df, training_size, param): \n",
    "    # training_size is ratio of training data for train-test split (float)\n",
    "    # param is set of parameter for model training (dict)\n",
    "    \n",
    "    X = df.drop('label', axis=1)\n",
    "    y = df['label']\n",
    "    X_train, X_test, y_train, y_test = tts(X, y, train_size=training_size, random_state=42)\n",
    "    \n",
    "    sm = SMOTE(sampling_strategy = 1, random_state=42)\n",
    "    X_res, y_res = sm.fit_resample(X_train, y_train.ravel())\n",
    "    \n",
    "    if(param['model']=='GBC'):\n",
    "        clf = GBC(max_depth=param['max_depth'], \n",
    "                  criterion=param['criterion'],\n",
    "                  min_impurity_decrease=param['min_impurity_decrease'],\n",
    "                  min_samples_leaf=param['min_samples_leaf'], random_state=42).fit(X_res, y_res)\n",
    "    elif(param['model']=='RFC'):\n",
    "        clf = RFC(max_depth=param['max_depth'], \n",
    "                  criterion=param['criterion'],\n",
    "                  min_impurity_decrease=param['min_impurity_decrease'],\n",
    "                  min_samples_leaf=param['min_samples_leaf'], random_state=42).fit(X_res, y_res)\n",
    "    # clf = GBC(set_of_parameter)\n",
    "    y_pred = clf.predict(X_test)\n",
    "    \n",
    "    print('Confusion Matrix')\n",
    "    print(confusion_matrix(y_test, y_pred))\n",
    "    print('Accuracy: {:.4f}'.format(accuracy_score(y_test, y_pred)))\n",
    "    print('Precision: {:.4f}'.format(precision_score(y_test, y_pred)))\n",
    "    print('Recall: {:.4f}'.format(recall_score(y_test, y_pred)))\n",
    "    \n",
    "    return clf, accuracy_score(y_test, y_pred), precision_score(y_test, y_pred), recall_score(y_test, y_pred), f1_score(y_test, y_pred) "
   ]
  },
  {
   "cell_type": "code",
   "execution_count": 12,
   "id": "b8241240",
   "metadata": {},
   "outputs": [],
   "source": [
    "def random_parameter(param_name, model_name=None):\n",
    "    \n",
    "    if(param_name=='model'):\n",
    "        tmp = random.randint(1, 2)\n",
    "        if(tmp==1):\n",
    "            return 'GBC'\n",
    "        elif(tmp==2):\n",
    "            return 'RFC'\n",
    "        \n",
    "    if(param_name=='max_depth'):\n",
    "        return random.randint(1, 10)\n",
    "    \n",
    "    if(param_name=='criterion'):\n",
    "        if(model_name=='GBC'):\n",
    "            tmp = random.randint(1, 2)\n",
    "            if(tmp==1):\n",
    "                return 'friedman_mse'\n",
    "            elif(tmp==2):\n",
    "                return 'mae'\n",
    "        elif(model_name=='RFC'):\n",
    "            tmp = random.randint(1, 2)\n",
    "            if(tmp==1):\n",
    "                return 'gini'\n",
    "            elif(tmp==2):\n",
    "                return 'entropy'\n",
    "            \n",
    "    if(param_name=='min_impurity_decrease'):\n",
    "        return random.random()/10\n",
    "    \n",
    "    if(param_name=='min_samples_leaf'):\n",
    "        if(random.random()<0.5):\n",
    "            return random.random()/10\n",
    "        else:\n",
    "            return random.randint(1, 20)"
   ]
  },
  {
   "cell_type": "code",
   "execution_count": 22,
   "id": "34cb589c",
   "metadata": {},
   "outputs": [],
   "source": [
    "model_name = random_parameter('model')\n",
    "param = {'model': model_name,\n",
    "         'max_depth': random_parameter('max_depth'),\n",
    "         'criterion': random_parameter('criterion', model_name),\n",
    "         'min_impurity_decrease': random_parameter('min_impurity_decrease'),\n",
    "         'min_samples_leaf': random_parameter('min_samples_leaf')}"
   ]
  },
  {
   "cell_type": "code",
   "execution_count": 23,
   "id": "31b3934d",
   "metadata": {},
   "outputs": [
    {
     "name": "stdout",
     "output_type": "stream",
     "text": [
      "Confusion Matrix\n",
      "[[103  14]\n",
      " [ 15  20]]\n",
      "Accuracy: 0.8092\n",
      "Precision: 0.5882\n",
      "Recall: 0.5714\n"
     ]
    }
   ],
   "source": [
    "model = model_training(df, 0.75, param)"
   ]
  },
  {
   "cell_type": "code",
   "execution_count": 24,
   "id": "02ff8625",
   "metadata": {},
   "outputs": [
    {
     "data": {
      "text/plain": [
       "{'model': 'GBC',\n",
       " 'max_depth': 7,\n",
       " 'criterion': 'friedman_mse',\n",
       " 'min_impurity_decrease': 0.05083646977292787,\n",
       " 'min_samples_leaf': 17}"
      ]
     },
     "execution_count": 24,
     "metadata": {},
     "output_type": "execute_result"
    }
   ],
   "source": [
    "param"
   ]
  },
  {
   "cell_type": "code",
   "execution_count": 29,
   "id": "d8ca4ac3",
   "metadata": {},
   "outputs": [],
   "source": [
    "def gen_param():\n",
    "    model_name = random_parameter('model')\n",
    "    param = {'model': model_name,\n",
    "             'max_depth': random_parameter('max_depth'),\n",
    "             'criterion': random_parameter('criterion', model_name),\n",
    "             'min_impurity_decrease': random_parameter('min_impurity_decrease'),\n",
    "             'min_samples_leaf': random_parameter('min_samples_leaf')}\n",
    "    return param"
   ]
  },
  {
   "cell_type": "code",
   "execution_count": 74,
   "id": "85012c06",
   "metadata": {},
   "outputs": [],
   "source": [
    "def gen_param_crossover(param):\n",
    "    rand_threshold = 0.3\n",
    "    \n",
    "    if(random.random()<rand_threshold):\n",
    "        model_name = random_parameter('model')\n",
    "    else:\n",
    "        model_name = param['model']\n",
    "        \n",
    "    if(random.random()<rand_threshold):\n",
    "        max_depth = random_parameter('max_depth')\n",
    "    else:\n",
    "        max_depth = param['max_depth']\n",
    "    \n",
    "    if(random.random()<rand_threshold):\n",
    "        criterion = random_parameter('criterion')\n",
    "    else:\n",
    "        criterion = param['criterion']\n",
    "        \n",
    "    if(random.random()<rand_threshold):\n",
    "        min_impurity_decrease = random_parameter('min_impurity_decrease')\n",
    "    else:\n",
    "        min_impurity_decrease = param['min_impurity_decrease']\n",
    "        \n",
    "    if(random.random()<rand_threshold):\n",
    "        min_samples_leaf = random_parameter('min_samples_leaf')\n",
    "    else:\n",
    "        min_samples_leaf = param['min_samples_leaf']\n",
    "        \n",
    "    param = {'model': model_name,\n",
    "             'max_depth': max_depth,\n",
    "             'criterion': criterion,\n",
    "             'min_impurity_decrease': min_impurity_decrease,\n",
    "             'min_samples_leaf': min_samples_leaf}\n",
    "    \n",
    "    return param"
   ]
  },
  {
   "cell_type": "code",
   "execution_count": 75,
   "id": "fb5791d2",
   "metadata": {},
   "outputs": [],
   "source": [
    "def gen_1st(param_prev=None, model_prev=None, eval_prev=None):\n",
    "\n",
    "    if((param_prev is None)&(model_prev is None)):\n",
    "        params = np.array([None])\n",
    "        models = np.array([None for i in range(6)])\n",
    "        eval_val = np.array([0, 0, 0, 0], ndmin=2)\n",
    "        count = 0\n",
    "#     else:\n",
    "#         acc_score, prec_score, rec_score, f1_score = evaluate(model_prev, x_test, y_test)\n",
    "#         eval_val = np.array([acc_score, prec_score, rec_score, f1_score], ndmin=2)\n",
    "#         params = param_prev.copy()\n",
    "#         models = np.array([model_prev])\n",
    "#         count = 1\n",
    "\n",
    "    while(count<5):\n",
    "        try:\n",
    "            param = gen_param()\n",
    "            print('param: {}'.format(param))\n",
    "            model, acc_score, prec_score, rec_score, f1_score = model_training(df, 0.75, param)\n",
    "            eval_val = np.append(eval_val, np.array([acc_score, prec_score, rec_score, f1_score], ndmin=2), axis=0)\n",
    "            params = np.append(params, [param])\n",
    "            # models = np.append(models, [model])\n",
    "            models[count+1] = model\n",
    "            count = count + 1\n",
    "\n",
    "        except:\n",
    "            continue\n",
    "\n",
    "    return params, models, eval_val\n"
   ]
  },
  {
   "cell_type": "code",
   "execution_count": 76,
   "id": "77a0486b",
   "metadata": {},
   "outputs": [],
   "source": [
    "def gen_nth(param_best, model_best, eval_val_best):\n",
    "    # params = np.array([param_best])\n",
    "    # models = np.array([model_best])\n",
    "    models = np.array([None for i in range(5)])\n",
    "    params = param_best.copy()\n",
    "    for i in range(len(model_best)):\n",
    "        models[i] = model_best[i]\n",
    "    # models = model_best.copy()\n",
    "    eval_val = np.array(eval_val_best.copy(), ndmin=2)\n",
    "    count = len(model_best)\n",
    "    for i in range(len(model_best)):\n",
    "        try:\n",
    "            param = gen_param_crossover(params[i])\n",
    "            print('param: {}'.format(param))\n",
    "            network = gen_network(n_layers=n_layer, layers_list=layers_list, dense_layer_node_list=dense_layer_nodes)\n",
    "            model = model_training(network=network, resampled_ds=resampled_ds, epoch=EPOCHS, resampled_steps_per_epoch=resampled_steps_per_epoch, x_test=x_test, y_test=y_test)\n",
    "\n",
    "            acc_score, prec_score, rec_score, f1_score = evaluate(model, x_test, y_test)\n",
    "            eval_val = np.append(eval_val, np.array([acc_score, prec_score, rec_score, f1_score], ndmin=2), axis=0)\n",
    "            params = np.append(params, [n_layer, layers_list, dense_layer_nodes])\n",
    "            models = np.append(models, [model])\n",
    "            count = count + 1\n",
    "        except:\n",
    "            continue\n",
    "\n",
    "\n",
    "    while(count<5):\n",
    "        try:\n",
    "            param = gen_param()\n",
    "            print('param: {}'.format(param))\n",
    "            model, acc_score, prec_score, rec_score, f1_score = model_training(df, 0.75, param)\n",
    "            eval_val = np.append(eval_val, np.array([acc_score, prec_score, rec_score, f1_score], ndmin=2), axis=0)\n",
    "            params = np.append(params, [param])\n",
    "            # models = np.append(models, [model])\n",
    "            models[count] = model\n",
    "            count = count + 1\n",
    "        except:\n",
    "            continue\n",
    "\n",
    "    return params, models, eval_val"
   ]
  },
  {
   "cell_type": "code",
   "execution_count": 77,
   "id": "c98e8d10",
   "metadata": {},
   "outputs": [],
   "source": [
    "def start_from_new(gen=15, n_select_max=3):\n",
    "\n",
    "    print('GEN 1:')\n",
    "    params, models, eval_val = gen_1st()\n",
    "\n",
    "    print('\\n\\n\\nGEN 2:')\n",
    "    tmp_params = params.copy()\n",
    "    tmp_models = models.copy()\n",
    "    tmp_eval_val = eval_val.copy()\n",
    "    \n",
    "    param_best_set = tmp_params[list(np.argsort(tmp_eval_val[:, 3])[::-1])][0:n_select_max]\n",
    "    model_best_set = tmp_models[list(np.argsort(tmp_eval_val[:, 3])[::-1])][0:n_select_max]\n",
    "    eval_val_best_set = tmp_eval_val[np.argsort(tmp_eval_val[:, 3])[::-1]][0:n_select_max]\n",
    "    # model_best_set = list(set(model_best_set))\n",
    "    # eval_val_best_set = list(set(eval_val_best_set))\n",
    "    params_2nd, models_2nd, eval_val_2nd = gen_nth(param_best=param_best_set, model_best=model_best_set, eval_val_best=eval_val_best_set)\n",
    "\n",
    "    print('\\n\\n\\nGEN 3:')\n",
    "    tmp_params = params_2nd.copy()\n",
    "    tmp_models = models_2nd.copy()\n",
    "    tmp_eval_val = eval_val_2nd.copy()\n",
    "    param_best_set = tmp_params[list(np.argsort(tmp_eval_val[:, 3])[::-1])][0:n_select_max]\n",
    "    model_best_set = tmp_models[list(np.argsort(tmp_eval_val[:, 3])[::-1])][0:n_select_max]\n",
    "    eval_val_best_set = tmp_eval_val[np.argsort(tmp_eval_val[:, 3])[::-1]][0:n_select_max]\n",
    "    # model_best_set = list(set(model_best_set))\n",
    "    # eval_val_best_set = list(set(eval_val_best_set))\n",
    "    params_3rd, models_3rd, eval_val_3rd = gen_nth(param_best=param_best_set, model_best=model_best_set, eval_val_best=eval_val_best_set)\n",
    "\n",
    "    params_nth, models_nth, eval_val_nth = params_3rd.copy(), models_3rd.copy(), eval_val_3rd.copy()\n",
    "    for i in range(gen-3):\n",
    "        print('\\n\\n\\nGEN {}:'.format(i+4))\n",
    "        tmp_params = params_nth.copy()\n",
    "        tmp_models = models_nth.copy()\n",
    "        tmp_eval_val = eval_val_nth.copy()\n",
    "        param_best_set = tmp_params[list(np.argsort(tmp_eval_val[:, 3])[::-1])][0:n_select_max]\n",
    "        model_best_set = tmp_models[list(np.argsort(tmp_eval_val[:, 3])[::-1])][0:n_select_max]\n",
    "        eval_val_best_set = tmp_eval_val[np.argsort(tmp_eval_val[:, 3])[::-1]][0:n_select_max]\n",
    "        # model_best_set = list(set(model_best_set))\n",
    "        # eval_val_best_set = list(set(eval_val_best_set))\n",
    "        params_nth, models_nth, eval_val_nth = gen_nth(param_best=param_best_set, model_best=model_best_set, eval_val_best=eval_val_best_set)\n",
    "\n",
    "    return params, models, eval_val, params_2nd, models_2nd, eval_val_2nd, params_3rd, models_3rd, eval_val_3rd, params_nth, models_nth, eval_val_nth"
   ]
  },
  {
   "cell_type": "code",
   "execution_count": 90,
   "id": "1a6704cd",
   "metadata": {
    "scrolled": true
   },
   "outputs": [
    {
     "name": "stdout",
     "output_type": "stream",
     "text": [
      "GEN 1:\n",
      "param: {'model': 'RFC', 'max_depth': 8, 'criterion': 'gini', 'min_impurity_decrease': 0.020922905822125325, 'min_samples_leaf': 9}\n",
      "Confusion Matrix\n",
      "[[85 32]\n",
      " [ 8 27]]\n",
      "Accuracy: 0.7368\n",
      "Precision: 0.4576\n",
      "Recall: 0.7714\n",
      "param: {'model': 'RFC', 'max_depth': 2, 'criterion': 'gini', 'min_impurity_decrease': 0.00018071948458765475, 'min_samples_leaf': 4}\n",
      "Confusion Matrix\n",
      "[[81 36]\n",
      " [ 8 27]]\n",
      "Accuracy: 0.7105\n",
      "Precision: 0.4286\n",
      "Recall: 0.7714\n",
      "param: {'model': 'GBC', 'max_depth': 9, 'criterion': 'friedman_mse', 'min_impurity_decrease': 0.09853563307817649, 'min_samples_leaf': 0.03459015756575724}\n",
      "Confusion Matrix\n",
      "[[99 18]\n",
      " [14 21]]\n",
      "Accuracy: 0.7895\n",
      "Precision: 0.5385\n",
      "Recall: 0.6000\n",
      "param: {'model': 'GBC', 'max_depth': 4, 'criterion': 'friedman_mse', 'min_impurity_decrease': 0.04695794901856417, 'min_samples_leaf': 7}\n",
      "Confusion Matrix\n",
      "[[101  16]\n",
      " [ 13  22]]\n",
      "Accuracy: 0.8092\n",
      "Precision: 0.5789\n",
      "Recall: 0.6286\n",
      "param: {'model': 'RFC', 'max_depth': 10, 'criterion': 'entropy', 'min_impurity_decrease': 0.015737724597368608, 'min_samples_leaf': 7}\n",
      "Confusion Matrix\n",
      "[[91 26]\n",
      " [ 9 26]]\n",
      "Accuracy: 0.7697\n",
      "Precision: 0.5000\n",
      "Recall: 0.7429\n",
      "\n",
      "\n",
      "\n",
      "GEN 2:\n",
      "param: {'model': 'GBC', 'max_depth': 1, 'criterion': None, 'min_impurity_decrease': 0.014091581894956273, 'min_samples_leaf': 7}\n",
      "param: {'model': 'RFC', 'max_depth': 1, 'criterion': 'entropy', 'min_impurity_decrease': 0.004975222676409119, 'min_samples_leaf': 0.06636504299549752}\n",
      "Confusion Matrix\n",
      "[[67 50]\n",
      " [ 9 26]]\n",
      "Accuracy: 0.6118\n",
      "Precision: 0.3421\n",
      "Recall: 0.7429\n",
      "param: {'model': 'GBC', 'max_depth': 4, 'criterion': 'mae', 'min_impurity_decrease': 0.0010575659941088333, 'min_samples_leaf': 4}\n"
     ]
    },
    {
     "name": "stderr",
     "output_type": "stream",
     "text": [
      "C:\\Users\\Asus\\anaconda3\\lib\\site-packages\\sklearn\\ensemble\\_gb.py:1118: FutureWarning: criterion='mae' was deprecated in version 0.24 and will be removed in version 1.1 (renaming of 0.26). Use criterion='friedman_mse' or 'mse' instead, as trees should use a least-square criterion in Gradient Boosting.\n",
      "  warnings.warn(\"criterion='mae' was deprecated in version 0.24 and \"\n"
     ]
    },
    {
     "name": "stdout",
     "output_type": "stream",
     "text": [
      "Confusion Matrix\n",
      "[[90 27]\n",
      " [ 8 27]]\n",
      "Accuracy: 0.7697\n",
      "Precision: 0.5000\n",
      "Recall: 0.7714\n",
      "param: {'model': 'RFC', 'max_depth': 8, 'criterion': 'gini', 'min_impurity_decrease': 0.08174910762111, 'min_samples_leaf': 0.05560749019874389}\n",
      "Confusion Matrix\n",
      "[[65 52]\n",
      " [ 9 26]]\n",
      "Accuracy: 0.5987\n",
      "Precision: 0.3333\n",
      "Recall: 0.7429\n",
      "param: {'model': 'GBC', 'max_depth': 3, 'criterion': 'mae', 'min_impurity_decrease': 0.0484577775082912, 'min_samples_leaf': 0.07630791469258816}\n"
     ]
    },
    {
     "name": "stderr",
     "output_type": "stream",
     "text": [
      "C:\\Users\\Asus\\anaconda3\\lib\\site-packages\\sklearn\\ensemble\\_gb.py:1118: FutureWarning: criterion='mae' was deprecated in version 0.24 and will be removed in version 1.1 (renaming of 0.26). Use criterion='friedman_mse' or 'mse' instead, as trees should use a least-square criterion in Gradient Boosting.\n",
      "  warnings.warn(\"criterion='mae' was deprecated in version 0.24 and \"\n"
     ]
    },
    {
     "name": "stdout",
     "output_type": "stream",
     "text": [
      "Confusion Matrix\n",
      "[[71 46]\n",
      " [ 8 27]]\n",
      "Accuracy: 0.6447\n",
      "Precision: 0.3699\n",
      "Recall: 0.7714\n",
      "\n",
      "\n",
      "\n",
      "GEN 3:\n",
      "param: {'model': 'GBC', 'max_depth': 4, 'criterion': 'mae', 'min_impurity_decrease': 0.0010575659941088333, 'min_samples_leaf': 4}\n",
      "param: {'model': 'GBC', 'max_depth': 1, 'criterion': 'mae', 'min_impurity_decrease': 0.09583726427413683, 'min_samples_leaf': 20}\n"
     ]
    },
    {
     "name": "stderr",
     "output_type": "stream",
     "text": [
      "C:\\Users\\Asus\\anaconda3\\lib\\site-packages\\sklearn\\ensemble\\_gb.py:1118: FutureWarning: criterion='mae' was deprecated in version 0.24 and will be removed in version 1.1 (renaming of 0.26). Use criterion='friedman_mse' or 'mse' instead, as trees should use a least-square criterion in Gradient Boosting.\n",
      "  warnings.warn(\"criterion='mae' was deprecated in version 0.24 and \"\n"
     ]
    },
    {
     "name": "stdout",
     "output_type": "stream",
     "text": [
      "Confusion Matrix\n",
      "[[71 46]\n",
      " [ 8 27]]\n",
      "Accuracy: 0.6447\n",
      "Precision: 0.3699\n",
      "Recall: 0.7714\n",
      "param: {'model': 'GBC', 'max_depth': 4, 'criterion': 'mae', 'min_impurity_decrease': 0.09009556226936269, 'min_samples_leaf': 2}\n"
     ]
    },
    {
     "name": "stderr",
     "output_type": "stream",
     "text": [
      "C:\\Users\\Asus\\anaconda3\\lib\\site-packages\\sklearn\\ensemble\\_gb.py:1118: FutureWarning: criterion='mae' was deprecated in version 0.24 and will be removed in version 1.1 (renaming of 0.26). Use criterion='friedman_mse' or 'mse' instead, as trees should use a least-square criterion in Gradient Boosting.\n",
      "  warnings.warn(\"criterion='mae' was deprecated in version 0.24 and \"\n"
     ]
    },
    {
     "name": "stdout",
     "output_type": "stream",
     "text": [
      "Confusion Matrix\n",
      "[[71 46]\n",
      " [ 8 27]]\n",
      "Accuracy: 0.6447\n",
      "Precision: 0.3699\n",
      "Recall: 0.7714\n",
      "param: {'model': 'GBC', 'max_depth': 3, 'criterion': 'mae', 'min_impurity_decrease': 0.030419141737302736, 'min_samples_leaf': 14}\n"
     ]
    },
    {
     "name": "stderr",
     "output_type": "stream",
     "text": [
      "C:\\Users\\Asus\\anaconda3\\lib\\site-packages\\sklearn\\ensemble\\_gb.py:1118: FutureWarning: criterion='mae' was deprecated in version 0.24 and will be removed in version 1.1 (renaming of 0.26). Use criterion='friedman_mse' or 'mse' instead, as trees should use a least-square criterion in Gradient Boosting.\n",
      "  warnings.warn(\"criterion='mae' was deprecated in version 0.24 and \"\n"
     ]
    },
    {
     "name": "stdout",
     "output_type": "stream",
     "text": [
      "Confusion Matrix\n",
      "[[71 46]\n",
      " [ 8 27]]\n",
      "Accuracy: 0.6447\n",
      "Precision: 0.3699\n",
      "Recall: 0.7714\n",
      "param: {'model': 'RFC', 'max_depth': 9, 'criterion': 'entropy', 'min_impurity_decrease': 0.055124183452580265, 'min_samples_leaf': 4}\n",
      "Confusion Matrix\n",
      "[[73 44]\n",
      " [ 9 26]]\n",
      "Accuracy: 0.6513\n",
      "Precision: 0.3714\n",
      "Recall: 0.7429\n",
      "\n",
      "\n",
      "\n",
      "GEN 4:\n",
      "param: {'model': 'RFC', 'max_depth': 4, 'criterion': 'mae', 'min_impurity_decrease': 0.0010575659941088333, 'min_samples_leaf': 4}\n",
      "param: {'model': 'RFC', 'max_depth': 2, 'criterion': 'entropy', 'min_impurity_decrease': 0.08229312831419724, 'min_samples_leaf': 0.001981024778941165}\n",
      "Confusion Matrix\n",
      "[[66 51]\n",
      " [ 9 26]]\n",
      "Accuracy: 0.6053\n",
      "Precision: 0.3377\n",
      "Recall: 0.7429\n",
      "param: {'model': 'GBC', 'max_depth': 6, 'criterion': 'friedman_mse', 'min_impurity_decrease': 0.06702505724323583, 'min_samples_leaf': 0.0976394083458296}\n",
      "Confusion Matrix\n",
      "[[94 23]\n",
      " [15 20]]\n",
      "Accuracy: 0.7500\n",
      "Precision: 0.4651\n",
      "Recall: 0.5714\n",
      "param: {'model': 'GBC', 'max_depth': 4, 'criterion': 'mae', 'min_impurity_decrease': 0.09307894246582099, 'min_samples_leaf': 0.056809420537306296}\n"
     ]
    },
    {
     "name": "stderr",
     "output_type": "stream",
     "text": [
      "C:\\Users\\Asus\\anaconda3\\lib\\site-packages\\sklearn\\ensemble\\_gb.py:1118: FutureWarning: criterion='mae' was deprecated in version 0.24 and will be removed in version 1.1 (renaming of 0.26). Use criterion='friedman_mse' or 'mse' instead, as trees should use a least-square criterion in Gradient Boosting.\n",
      "  warnings.warn(\"criterion='mae' was deprecated in version 0.24 and \"\n"
     ]
    },
    {
     "name": "stdout",
     "output_type": "stream",
     "text": [
      "Confusion Matrix\n",
      "[[71 46]\n",
      " [ 8 27]]\n",
      "Accuracy: 0.6447\n",
      "Precision: 0.3699\n",
      "Recall: 0.7714\n",
      "param: {'model': 'RFC', 'max_depth': 3, 'criterion': 'entropy', 'min_impurity_decrease': 0.07657484179281324, 'min_samples_leaf': 16}\n",
      "Confusion Matrix\n",
      "[[71 46]\n",
      " [ 9 26]]\n",
      "Accuracy: 0.6382\n",
      "Precision: 0.3611\n",
      "Recall: 0.7429\n",
      "\n",
      "\n",
      "\n",
      "GEN 5:\n",
      "param: {'model': 'GBC', 'max_depth': 8, 'criterion': 'mae', 'min_impurity_decrease': 0.00287763522155271, 'min_samples_leaf': 0.08779080175851911}\n",
      "param: {'model': 'GBC', 'max_depth': 8, 'criterion': 'mae', 'min_impurity_decrease': 0.01998090182254777, 'min_samples_leaf': 11}\n"
     ]
    },
    {
     "name": "stderr",
     "output_type": "stream",
     "text": [
      "C:\\Users\\Asus\\anaconda3\\lib\\site-packages\\sklearn\\ensemble\\_gb.py:1118: FutureWarning: criterion='mae' was deprecated in version 0.24 and will be removed in version 1.1 (renaming of 0.26). Use criterion='friedman_mse' or 'mse' instead, as trees should use a least-square criterion in Gradient Boosting.\n",
      "  warnings.warn(\"criterion='mae' was deprecated in version 0.24 and \"\n"
     ]
    },
    {
     "name": "stdout",
     "output_type": "stream",
     "text": [
      "Confusion Matrix\n",
      "[[71 46]\n",
      " [ 8 27]]\n",
      "Accuracy: 0.6447\n",
      "Precision: 0.3699\n",
      "Recall: 0.7714\n",
      "param: {'model': 'GBC', 'max_depth': 1, 'criterion': 'friedman_mse', 'min_impurity_decrease': 0.06143536572372551, 'min_samples_leaf': 1}\n",
      "Confusion Matrix\n",
      "[[85 32]\n",
      " [12 23]]\n",
      "Accuracy: 0.7105\n",
      "Precision: 0.4182\n",
      "Recall: 0.6571\n",
      "param: {'model': 'RFC', 'max_depth': 10, 'criterion': 'gini', 'min_impurity_decrease': 0.030652191673816543, 'min_samples_leaf': 0.05025176013111948}\n",
      "Confusion Matrix\n",
      "[[76 41]\n",
      " [ 9 26]]\n",
      "Accuracy: 0.6711\n",
      "Precision: 0.3881\n",
      "Recall: 0.7429\n",
      "param: {'model': 'RFC', 'max_depth': 8, 'criterion': 'entropy', 'min_impurity_decrease': 0.01308863504369584, 'min_samples_leaf': 3}\n",
      "Confusion Matrix\n",
      "[[90 27]\n",
      " [ 8 27]]\n",
      "Accuracy: 0.7697\n",
      "Precision: 0.5000\n",
      "Recall: 0.7714\n",
      "\n",
      "\n",
      "\n",
      "GEN 6:\n",
      "param: {'model': 'RFC', 'max_depth': 1, 'criterion': None, 'min_impurity_decrease': 0.01308863504369584, 'min_samples_leaf': 8}\n",
      "param: {'model': 'RFC', 'max_depth': 9, 'criterion': 'entropy', 'min_impurity_decrease': 0.06139091730829414, 'min_samples_leaf': 0.07482419031017004}\n",
      "Confusion Matrix\n",
      "[[70 47]\n",
      " [ 9 26]]\n",
      "Accuracy: 0.6316\n",
      "Precision: 0.3562\n",
      "Recall: 0.7429\n",
      "param: {'model': 'GBC', 'max_depth': 4, 'criterion': 'mae', 'min_impurity_decrease': 0.03689945358733267, 'min_samples_leaf': 2}\n"
     ]
    },
    {
     "name": "stderr",
     "output_type": "stream",
     "text": [
      "C:\\Users\\Asus\\anaconda3\\lib\\site-packages\\sklearn\\ensemble\\_gb.py:1118: FutureWarning: criterion='mae' was deprecated in version 0.24 and will be removed in version 1.1 (renaming of 0.26). Use criterion='friedman_mse' or 'mse' instead, as trees should use a least-square criterion in Gradient Boosting.\n",
      "  warnings.warn(\"criterion='mae' was deprecated in version 0.24 and \"\n"
     ]
    },
    {
     "name": "stdout",
     "output_type": "stream",
     "text": [
      "Confusion Matrix\n",
      "[[71 46]\n",
      " [ 8 27]]\n",
      "Accuracy: 0.6447\n",
      "Precision: 0.3699\n",
      "Recall: 0.7714\n",
      "param: {'model': 'GBC', 'max_depth': 1, 'criterion': 'mae', 'min_impurity_decrease': 0.0990764375921667, 'min_samples_leaf': 2}\n"
     ]
    },
    {
     "name": "stderr",
     "output_type": "stream",
     "text": [
      "C:\\Users\\Asus\\anaconda3\\lib\\site-packages\\sklearn\\ensemble\\_gb.py:1118: FutureWarning: criterion='mae' was deprecated in version 0.24 and will be removed in version 1.1 (renaming of 0.26). Use criterion='friedman_mse' or 'mse' instead, as trees should use a least-square criterion in Gradient Boosting.\n",
      "  warnings.warn(\"criterion='mae' was deprecated in version 0.24 and \"\n"
     ]
    },
    {
     "name": "stdout",
     "output_type": "stream",
     "text": [
      "Confusion Matrix\n",
      "[[71 46]\n",
      " [ 8 27]]\n",
      "Accuracy: 0.6447\n",
      "Precision: 0.3699\n",
      "Recall: 0.7714\n",
      "param: {'model': 'GBC', 'max_depth': 7, 'criterion': 'mae', 'min_impurity_decrease': 0.07381712067115878, 'min_samples_leaf': 0.05060037423346838}\n"
     ]
    },
    {
     "name": "stderr",
     "output_type": "stream",
     "text": [
      "C:\\Users\\Asus\\anaconda3\\lib\\site-packages\\sklearn\\ensemble\\_gb.py:1118: FutureWarning: criterion='mae' was deprecated in version 0.24 and will be removed in version 1.1 (renaming of 0.26). Use criterion='friedman_mse' or 'mse' instead, as trees should use a least-square criterion in Gradient Boosting.\n",
      "  warnings.warn(\"criterion='mae' was deprecated in version 0.24 and \"\n"
     ]
    },
    {
     "name": "stdout",
     "output_type": "stream",
     "text": [
      "Confusion Matrix\n",
      "[[71 46]\n",
      " [ 8 27]]\n",
      "Accuracy: 0.6447\n",
      "Precision: 0.3699\n",
      "Recall: 0.7714\n",
      "\n",
      "\n",
      "\n",
      "GEN 7:\n",
      "param: {'model': 'GBC', 'max_depth': 3, 'criterion': 'entropy', 'min_impurity_decrease': 0.01308863504369584, 'min_samples_leaf': 3}\n",
      "param: {'model': 'RFC', 'max_depth': 9, 'criterion': 'gini', 'min_impurity_decrease': 0.006693627838832849, 'min_samples_leaf': 0.030684953039938144}\n",
      "Confusion Matrix\n",
      "[[89 28]\n",
      " [ 9 26]]\n",
      "Accuracy: 0.7566\n",
      "Precision: 0.4815\n",
      "Recall: 0.7429\n",
      "param: {'model': 'GBC', 'max_depth': 3, 'criterion': 'mae', 'min_impurity_decrease': 0.020675828098175864, 'min_samples_leaf': 19}\n"
     ]
    },
    {
     "name": "stderr",
     "output_type": "stream",
     "text": [
      "C:\\Users\\Asus\\anaconda3\\lib\\site-packages\\sklearn\\ensemble\\_gb.py:1118: FutureWarning: criterion='mae' was deprecated in version 0.24 and will be removed in version 1.1 (renaming of 0.26). Use criterion='friedman_mse' or 'mse' instead, as trees should use a least-square criterion in Gradient Boosting.\n",
      "  warnings.warn(\"criterion='mae' was deprecated in version 0.24 and \"\n"
     ]
    },
    {
     "name": "stdout",
     "output_type": "stream",
     "text": [
      "Confusion Matrix\n",
      "[[71 46]\n",
      " [ 8 27]]\n",
      "Accuracy: 0.6447\n",
      "Precision: 0.3699\n",
      "Recall: 0.7714\n",
      "param: {'model': 'GBC', 'max_depth': 2, 'criterion': 'friedman_mse', 'min_impurity_decrease': 0.0794238527584165, 'min_samples_leaf': 0.01272623462690301}\n",
      "Confusion Matrix\n",
      "[[88 29]\n",
      " [13 22]]\n",
      "Accuracy: 0.7237\n",
      "Precision: 0.4314\n",
      "Recall: 0.6286\n",
      "param: {'model': 'RFC', 'max_depth': 3, 'criterion': 'gini', 'min_impurity_decrease': 0.0870890013836097, 'min_samples_leaf': 10}\n",
      "Confusion Matrix\n",
      "[[55 62]\n",
      " [ 7 28]]\n",
      "Accuracy: 0.5461\n",
      "Precision: 0.3111\n",
      "Recall: 0.8000\n",
      "\n",
      "\n",
      "\n",
      "GEN 8:\n",
      "param: {'model': 'GBC', 'max_depth': 8, 'criterion': 'entropy', 'min_impurity_decrease': 0.01308863504369584, 'min_samples_leaf': 0.09441884129406951}\n",
      "param: {'model': 'RFC', 'max_depth': 2, 'criterion': 'gini', 'min_impurity_decrease': 0.00014843902210016636, 'min_samples_leaf': 0.035792844260010594}\n",
      "Confusion Matrix\n",
      "[[81 36]\n",
      " [ 9 26]]\n",
      "Accuracy: 0.7039\n",
      "Precision: 0.4194\n",
      "Recall: 0.7429\n",
      "param: {'model': 'RFC', 'max_depth': 2, 'criterion': 'entropy', 'min_impurity_decrease': 0.06414456521237273, 'min_samples_leaf': 13}\n",
      "Confusion Matrix\n",
      "[[71 46]\n",
      " [ 9 26]]\n",
      "Accuracy: 0.6382\n",
      "Precision: 0.3611\n",
      "Recall: 0.7429\n",
      "param: {'model': 'RFC', 'max_depth': 7, 'criterion': 'gini', 'min_impurity_decrease': 0.07816319131211599, 'min_samples_leaf': 0.08488665890934856}\n",
      "Confusion Matrix\n",
      "[[65 52]\n",
      " [ 9 26]]\n",
      "Accuracy: 0.5987\n",
      "Precision: 0.3333\n",
      "Recall: 0.7429\n",
      "param: {'model': 'GBC', 'max_depth': 7, 'criterion': 'friedman_mse', 'min_impurity_decrease': 0.05067949565776889, 'min_samples_leaf': 5}\n",
      "Confusion Matrix\n",
      "[[100  17]\n",
      " [ 11  24]]\n",
      "Accuracy: 0.8158\n",
      "Precision: 0.5854\n",
      "Recall: 0.6857\n",
      "\n",
      "\n",
      "\n",
      "GEN 9:\n",
      "param: {'model': 'GBC', 'max_depth': 7, 'criterion': 'friedman_mse', 'min_impurity_decrease': 0.0539443382736029, 'min_samples_leaf': 5}\n",
      "param: {'model': 'GBC', 'max_depth': 2, 'criterion': 'friedman_mse', 'min_impurity_decrease': 0.0008542471569488175, 'min_samples_leaf': 0.08993566484313524}\n",
      "Confusion Matrix\n",
      "[[87 30]\n",
      " [16 19]]\n",
      "Accuracy: 0.6974\n",
      "Precision: 0.3878\n",
      "Recall: 0.5429\n",
      "param: {'model': 'GBC', 'max_depth': 5, 'criterion': 'friedman_mse', 'min_impurity_decrease': 0.028694265208194125, 'min_samples_leaf': 12}\n",
      "Confusion Matrix\n",
      "[[94 23]\n",
      " [15 20]]\n",
      "Accuracy: 0.7500\n",
      "Precision: 0.4651\n",
      "Recall: 0.5714\n",
      "param: {'model': 'RFC', 'max_depth': 10, 'criterion': 'entropy', 'min_impurity_decrease': 0.09547336198807745, 'min_samples_leaf': 3}\n",
      "Confusion Matrix\n",
      "[[67 50]\n",
      " [ 9 26]]\n",
      "Accuracy: 0.6118\n",
      "Precision: 0.3421\n",
      "Recall: 0.7429\n",
      "param: {'model': 'RFC', 'max_depth': 7, 'criterion': 'entropy', 'min_impurity_decrease': 0.07472437604145797, 'min_samples_leaf': 15}\n",
      "Confusion Matrix\n",
      "[[71 46]\n",
      " [ 9 26]]\n",
      "Accuracy: 0.6382\n",
      "Precision: 0.3611\n",
      "Recall: 0.7429\n",
      "\n",
      "\n",
      "\n",
      "GEN 10:\n",
      "param: {'model': 'GBC', 'max_depth': 7, 'criterion': 'friedman_mse', 'min_impurity_decrease': 0.05067949565776889, 'min_samples_leaf': 5}\n",
      "param: {'model': 'RFC', 'max_depth': 6, 'criterion': 'entropy', 'min_impurity_decrease': 0.037795516307422575, 'min_samples_leaf': 7}\n",
      "Confusion Matrix\n",
      "[[83 34]\n",
      " [ 8 27]]\n",
      "Accuracy: 0.7237\n",
      "Precision: 0.4426\n",
      "Recall: 0.7714\n",
      "param: {'model': 'RFC', 'max_depth': 6, 'criterion': 'gini', 'min_impurity_decrease': 0.02781680474705752, 'min_samples_leaf': 0.03777625014600956}\n",
      "Confusion Matrix\n",
      "[[81 36]\n",
      " [ 9 26]]\n",
      "Accuracy: 0.7039\n",
      "Precision: 0.4194\n",
      "Recall: 0.7429\n",
      "param: {'model': 'GBC', 'max_depth': 1, 'criterion': 'friedman_mse', 'min_impurity_decrease': 0.04304177988155161, 'min_samples_leaf': 15}\n",
      "Confusion Matrix\n",
      "[[83 34]\n",
      " [11 24]]\n",
      "Accuracy: 0.7039\n",
      "Precision: 0.4138\n",
      "Recall: 0.6857\n",
      "param: {'model': 'RFC', 'max_depth': 2, 'criterion': 'entropy', 'min_impurity_decrease': 0.08487743423660357, 'min_samples_leaf': 0.04651287615635341}\n",
      "Confusion Matrix\n",
      "[[68 49]\n",
      " [ 9 26]]\n",
      "Accuracy: 0.6184\n",
      "Precision: 0.3467\n",
      "Recall: 0.7429\n"
     ]
    }
   ],
   "source": [
    "params, models, eval_val, params_2nd, models_2nd, eval_val_2nd, params_3rd, models_3rd, eval_val_3rd, params_nth, models_nth, eval_val_nth = start_from_new(gen=10, n_select_max=1)"
   ]
  },
  {
   "cell_type": "code",
   "execution_count": 91,
   "id": "de6782b0",
   "metadata": {
    "scrolled": true
   },
   "outputs": [
    {
     "data": {
      "text/plain": [
       "array([None,\n",
       "       {'model': 'RFC', 'max_depth': 8, 'criterion': 'gini', 'min_impurity_decrease': 0.020922905822125325, 'min_samples_leaf': 9},\n",
       "       {'model': 'RFC', 'max_depth': 2, 'criterion': 'gini', 'min_impurity_decrease': 0.00018071948458765475, 'min_samples_leaf': 4},\n",
       "       {'model': 'GBC', 'max_depth': 9, 'criterion': 'friedman_mse', 'min_impurity_decrease': 0.09853563307817649, 'min_samples_leaf': 0.03459015756575724},\n",
       "       {'model': 'GBC', 'max_depth': 4, 'criterion': 'friedman_mse', 'min_impurity_decrease': 0.04695794901856417, 'min_samples_leaf': 7},\n",
       "       {'model': 'RFC', 'max_depth': 10, 'criterion': 'entropy', 'min_impurity_decrease': 0.015737724597368608, 'min_samples_leaf': 7}],\n",
       "      dtype=object)"
      ]
     },
     "execution_count": 91,
     "metadata": {},
     "output_type": "execute_result"
    }
   ],
   "source": [
    "params"
   ]
  },
  {
   "cell_type": "code",
   "execution_count": 92,
   "id": "bc5d28b4",
   "metadata": {
    "scrolled": true
   },
   "outputs": [
    {
     "data": {
      "text/plain": [
       "array([None,\n",
       "       RandomForestClassifier(max_depth=8, min_impurity_decrease=0.020922905822125325,\n",
       "                              min_samples_leaf=9, random_state=42)                    ,\n",
       "       RandomForestClassifier(max_depth=2,\n",
       "                              min_impurity_decrease=0.00018071948458765475,\n",
       "                              min_samples_leaf=4, random_state=42)         ,\n",
       "       GradientBoostingClassifier(max_depth=9,\n",
       "                                  min_impurity_decrease=0.09853563307817649,\n",
       "                                  min_samples_leaf=0.03459015756575724,\n",
       "                                  random_state=42)                          ,\n",
       "       GradientBoostingClassifier(max_depth=4,\n",
       "                                  min_impurity_decrease=0.04695794901856417,\n",
       "                                  min_samples_leaf=7, random_state=42)      ,\n",
       "       RandomForestClassifier(criterion='entropy', max_depth=10,\n",
       "                              min_impurity_decrease=0.015737724597368608,\n",
       "                              min_samples_leaf=7, random_state=42)       ],\n",
       "      dtype=object)"
      ]
     },
     "execution_count": 92,
     "metadata": {},
     "output_type": "execute_result"
    }
   ],
   "source": [
    "models"
   ]
  },
  {
   "cell_type": "code",
   "execution_count": 93,
   "id": "bf4600f5",
   "metadata": {
    "scrolled": true
   },
   "outputs": [
    {
     "data": {
      "text/plain": [
       "array([[0.        , 0.        , 0.        , 0.        ],\n",
       "       [0.73684211, 0.45762712, 0.77142857, 0.57446809],\n",
       "       [0.71052632, 0.42857143, 0.77142857, 0.55102041],\n",
       "       [0.78947368, 0.53846154, 0.6       , 0.56756757],\n",
       "       [0.80921053, 0.57894737, 0.62857143, 0.60273973],\n",
       "       [0.76973684, 0.5       , 0.74285714, 0.59770115]])"
      ]
     },
     "execution_count": 93,
     "metadata": {},
     "output_type": "execute_result"
    }
   ],
   "source": [
    "eval_val"
   ]
  },
  {
   "cell_type": "code",
   "execution_count": 94,
   "id": "289986d7",
   "metadata": {},
   "outputs": [
    {
     "data": {
      "text/plain": [
       "array([{'model': 'GBC', 'max_depth': 4, 'criterion': 'friedman_mse', 'min_impurity_decrease': 0.04695794901856417, 'min_samples_leaf': 7},\n",
       "       {'model': 'RFC', 'max_depth': 10, 'criterion': 'entropy', 'min_impurity_decrease': 0.015737724597368608, 'min_samples_leaf': 7},\n",
       "       {'model': 'RFC', 'max_depth': 8, 'criterion': 'gini', 'min_impurity_decrease': 0.020922905822125325, 'min_samples_leaf': 9},\n",
       "       {'model': 'GBC', 'max_depth': 9, 'criterion': 'friedman_mse', 'min_impurity_decrease': 0.09853563307817649, 'min_samples_leaf': 0.03459015756575724},\n",
       "       {'model': 'RFC', 'max_depth': 2, 'criterion': 'gini', 'min_impurity_decrease': 0.00018071948458765475, 'min_samples_leaf': 4},\n",
       "       None], dtype=object)"
      ]
     },
     "execution_count": 94,
     "metadata": {},
     "output_type": "execute_result"
    }
   ],
   "source": [
    "params[np.argsort(eval_val[:, 3])[::-1]]"
   ]
  },
  {
   "cell_type": "code",
   "execution_count": 95,
   "id": "052aabf5",
   "metadata": {},
   "outputs": [
    {
     "data": {
      "text/plain": [
       "array([GradientBoostingClassifier(max_depth=4,\n",
       "                                  min_impurity_decrease=0.04695794901856417,\n",
       "                                  min_samples_leaf=7, random_state=42)      ,\n",
       "       RandomForestClassifier(criterion='entropy', max_depth=10,\n",
       "                              min_impurity_decrease=0.015737724597368608,\n",
       "                              min_samples_leaf=7, random_state=42)       ,\n",
       "       RandomForestClassifier(max_depth=8, min_impurity_decrease=0.020922905822125325,\n",
       "                              min_samples_leaf=9, random_state=42)                    ,\n",
       "       GradientBoostingClassifier(max_depth=9,\n",
       "                                  min_impurity_decrease=0.09853563307817649,\n",
       "                                  min_samples_leaf=0.03459015756575724,\n",
       "                                  random_state=42)                          ,\n",
       "       RandomForestClassifier(max_depth=2,\n",
       "                              min_impurity_decrease=0.00018071948458765475,\n",
       "                              min_samples_leaf=4, random_state=42)         ,\n",
       "       None], dtype=object)"
      ]
     },
     "execution_count": 95,
     "metadata": {},
     "output_type": "execute_result"
    }
   ],
   "source": [
    "models[np.argsort(eval_val[:, 3])[::-1]]"
   ]
  },
  {
   "cell_type": "code",
   "execution_count": 96,
   "id": "ac811044",
   "metadata": {
    "scrolled": true
   },
   "outputs": [
    {
     "data": {
      "text/plain": [
       "array([[0.80921053, 0.57894737, 0.62857143, 0.60273973],\n",
       "       [0.76973684, 0.5       , 0.74285714, 0.59770115],\n",
       "       [0.73684211, 0.45762712, 0.77142857, 0.57446809],\n",
       "       [0.78947368, 0.53846154, 0.6       , 0.56756757],\n",
       "       [0.71052632, 0.42857143, 0.77142857, 0.55102041],\n",
       "       [0.        , 0.        , 0.        , 0.        ]])"
      ]
     },
     "execution_count": 96,
     "metadata": {},
     "output_type": "execute_result"
    }
   ],
   "source": [
    "eval_val[np.argsort(eval_val[:, 3])[::-1]]"
   ]
  },
  {
   "cell_type": "code",
   "execution_count": null,
   "id": "3983eb73",
   "metadata": {},
   "outputs": [],
   "source": []
  },
  {
   "cell_type": "code",
   "execution_count": 97,
   "id": "f60d0e0e",
   "metadata": {},
   "outputs": [
    {
     "data": {
      "text/plain": [
       "array([{'model': 'GBC', 'max_depth': 4, 'criterion': 'friedman_mse', 'min_impurity_decrease': 0.04695794901856417, 'min_samples_leaf': 7},\n",
       "       {'model': 'RFC', 'max_depth': 1, 'criterion': 'entropy', 'min_impurity_decrease': 0.004975222676409119, 'min_samples_leaf': 0.06636504299549752},\n",
       "       {'model': 'GBC', 'max_depth': 4, 'criterion': 'mae', 'min_impurity_decrease': 0.0010575659941088333, 'min_samples_leaf': 4},\n",
       "       {'model': 'RFC', 'max_depth': 8, 'criterion': 'gini', 'min_impurity_decrease': 0.08174910762111, 'min_samples_leaf': 0.05560749019874389},\n",
       "       {'model': 'GBC', 'max_depth': 3, 'criterion': 'mae', 'min_impurity_decrease': 0.0484577775082912, 'min_samples_leaf': 0.07630791469258816}],\n",
       "      dtype=object)"
      ]
     },
     "execution_count": 97,
     "metadata": {},
     "output_type": "execute_result"
    }
   ],
   "source": [
    "params_2nd"
   ]
  },
  {
   "cell_type": "code",
   "execution_count": 98,
   "id": "959af066",
   "metadata": {},
   "outputs": [
    {
     "data": {
      "text/plain": [
       "array([GradientBoostingClassifier(max_depth=4,\n",
       "                                  min_impurity_decrease=0.04695794901856417,\n",
       "                                  min_samples_leaf=7, random_state=42)      ,\n",
       "       RandomForestClassifier(criterion='entropy', max_depth=1,\n",
       "                              min_impurity_decrease=0.004975222676409119,\n",
       "                              min_samples_leaf=0.06636504299549752, random_state=42),\n",
       "       GradientBoostingClassifier(criterion='mae', max_depth=4,\n",
       "                                  min_impurity_decrease=0.0010575659941088333,\n",
       "                                  min_samples_leaf=4, random_state=42)        ,\n",
       "       RandomForestClassifier(max_depth=8, min_impurity_decrease=0.08174910762111,\n",
       "                              min_samples_leaf=0.05560749019874389, random_state=42),\n",
       "       GradientBoostingClassifier(criterion='mae',\n",
       "                                  min_impurity_decrease=0.0484577775082912,\n",
       "                                  min_samples_leaf=0.07630791469258816,\n",
       "                                  random_state=42)                         ],\n",
       "      dtype=object)"
      ]
     },
     "execution_count": 98,
     "metadata": {},
     "output_type": "execute_result"
    }
   ],
   "source": [
    "models_2nd"
   ]
  },
  {
   "cell_type": "code",
   "execution_count": 99,
   "id": "1d686185",
   "metadata": {},
   "outputs": [
    {
     "data": {
      "text/plain": [
       "array([[0.80921053, 0.57894737, 0.62857143, 0.60273973],\n",
       "       [0.61184211, 0.34210526, 0.74285714, 0.46846847],\n",
       "       [0.76973684, 0.5       , 0.77142857, 0.60674157],\n",
       "       [0.59868421, 0.33333333, 0.74285714, 0.46017699],\n",
       "       [0.64473684, 0.36986301, 0.77142857, 0.5       ]])"
      ]
     },
     "execution_count": 99,
     "metadata": {},
     "output_type": "execute_result"
    }
   ],
   "source": [
    "eval_val_2nd"
   ]
  },
  {
   "cell_type": "code",
   "execution_count": 100,
   "id": "bc217288",
   "metadata": {},
   "outputs": [
    {
     "data": {
      "text/plain": [
       "array([{'model': 'GBC', 'max_depth': 4, 'criterion': 'mae', 'min_impurity_decrease': 0.0010575659941088333, 'min_samples_leaf': 4},\n",
       "       {'model': 'GBC', 'max_depth': 4, 'criterion': 'friedman_mse', 'min_impurity_decrease': 0.04695794901856417, 'min_samples_leaf': 7},\n",
       "       {'model': 'GBC', 'max_depth': 3, 'criterion': 'mae', 'min_impurity_decrease': 0.0484577775082912, 'min_samples_leaf': 0.07630791469258816},\n",
       "       {'model': 'RFC', 'max_depth': 1, 'criterion': 'entropy', 'min_impurity_decrease': 0.004975222676409119, 'min_samples_leaf': 0.06636504299549752},\n",
       "       {'model': 'RFC', 'max_depth': 8, 'criterion': 'gini', 'min_impurity_decrease': 0.08174910762111, 'min_samples_leaf': 0.05560749019874389}],\n",
       "      dtype=object)"
      ]
     },
     "execution_count": 100,
     "metadata": {},
     "output_type": "execute_result"
    }
   ],
   "source": [
    "params_2nd[np.argsort(eval_val_2nd[:, 3])[::-1]]"
   ]
  },
  {
   "cell_type": "code",
   "execution_count": 101,
   "id": "5d71e258",
   "metadata": {},
   "outputs": [
    {
     "data": {
      "text/plain": [
       "array([GradientBoostingClassifier(criterion='mae', max_depth=4,\n",
       "                                  min_impurity_decrease=0.0010575659941088333,\n",
       "                                  min_samples_leaf=4, random_state=42)        ,\n",
       "       GradientBoostingClassifier(max_depth=4,\n",
       "                                  min_impurity_decrease=0.04695794901856417,\n",
       "                                  min_samples_leaf=7, random_state=42)      ,\n",
       "       GradientBoostingClassifier(criterion='mae',\n",
       "                                  min_impurity_decrease=0.0484577775082912,\n",
       "                                  min_samples_leaf=0.07630791469258816,\n",
       "                                  random_state=42)                         ,\n",
       "       RandomForestClassifier(criterion='entropy', max_depth=1,\n",
       "                              min_impurity_decrease=0.004975222676409119,\n",
       "                              min_samples_leaf=0.06636504299549752, random_state=42),\n",
       "       RandomForestClassifier(max_depth=8, min_impurity_decrease=0.08174910762111,\n",
       "                              min_samples_leaf=0.05560749019874389, random_state=42)],\n",
       "      dtype=object)"
      ]
     },
     "execution_count": 101,
     "metadata": {},
     "output_type": "execute_result"
    }
   ],
   "source": [
    "models_2nd[np.argsort(eval_val_2nd[:, 3])[::-1]]"
   ]
  },
  {
   "cell_type": "code",
   "execution_count": 102,
   "id": "35ebeb8b",
   "metadata": {},
   "outputs": [
    {
     "data": {
      "text/plain": [
       "array([[0.76973684, 0.5       , 0.77142857, 0.60674157],\n",
       "       [0.80921053, 0.57894737, 0.62857143, 0.60273973],\n",
       "       [0.64473684, 0.36986301, 0.77142857, 0.5       ],\n",
       "       [0.61184211, 0.34210526, 0.74285714, 0.46846847],\n",
       "       [0.59868421, 0.33333333, 0.74285714, 0.46017699]])"
      ]
     },
     "execution_count": 102,
     "metadata": {},
     "output_type": "execute_result"
    }
   ],
   "source": [
    "eval_val_2nd[np.argsort(eval_val_2nd[:, 3])[::-1]]"
   ]
  },
  {
   "cell_type": "code",
   "execution_count": null,
   "id": "814ff7fe",
   "metadata": {},
   "outputs": [],
   "source": []
  },
  {
   "cell_type": "code",
   "execution_count": null,
   "id": "e7427ff9",
   "metadata": {},
   "outputs": [],
   "source": []
  },
  {
   "cell_type": "code",
   "execution_count": null,
   "id": "99d1e41a",
   "metadata": {},
   "outputs": [],
   "source": []
  },
  {
   "cell_type": "code",
   "execution_count": 103,
   "id": "7fd31734",
   "metadata": {},
   "outputs": [
    {
     "data": {
      "text/plain": [
       "array([{'model': 'GBC', 'max_depth': 7, 'criterion': 'friedman_mse', 'min_impurity_decrease': 0.05067949565776889, 'min_samples_leaf': 5},\n",
       "       {'model': 'RFC', 'max_depth': 6, 'criterion': 'entropy', 'min_impurity_decrease': 0.037795516307422575, 'min_samples_leaf': 7},\n",
       "       {'model': 'RFC', 'max_depth': 6, 'criterion': 'gini', 'min_impurity_decrease': 0.02781680474705752, 'min_samples_leaf': 0.03777625014600956},\n",
       "       {'model': 'GBC', 'max_depth': 1, 'criterion': 'friedman_mse', 'min_impurity_decrease': 0.04304177988155161, 'min_samples_leaf': 15},\n",
       "       {'model': 'RFC', 'max_depth': 2, 'criterion': 'entropy', 'min_impurity_decrease': 0.08487743423660357, 'min_samples_leaf': 0.04651287615635341}],\n",
       "      dtype=object)"
      ]
     },
     "execution_count": 103,
     "metadata": {},
     "output_type": "execute_result"
    }
   ],
   "source": [
    "params_nth"
   ]
  },
  {
   "cell_type": "code",
   "execution_count": 104,
   "id": "18fd4cca",
   "metadata": {},
   "outputs": [
    {
     "data": {
      "text/plain": [
       "array([GradientBoostingClassifier(max_depth=7,\n",
       "                                  min_impurity_decrease=0.05067949565776889,\n",
       "                                  min_samples_leaf=5, random_state=42)      ,\n",
       "       RandomForestClassifier(criterion='entropy', max_depth=6,\n",
       "                              min_impurity_decrease=0.037795516307422575,\n",
       "                              min_samples_leaf=7, random_state=42)       ,\n",
       "       RandomForestClassifier(max_depth=6, min_impurity_decrease=0.02781680474705752,\n",
       "                              min_samples_leaf=0.03777625014600956, random_state=42) ,\n",
       "       GradientBoostingClassifier(max_depth=1,\n",
       "                                  min_impurity_decrease=0.04304177988155161,\n",
       "                                  min_samples_leaf=15, random_state=42)     ,\n",
       "       RandomForestClassifier(criterion='entropy', max_depth=2,\n",
       "                              min_impurity_decrease=0.08487743423660357,\n",
       "                              min_samples_leaf=0.04651287615635341, random_state=42)],\n",
       "      dtype=object)"
      ]
     },
     "execution_count": 104,
     "metadata": {},
     "output_type": "execute_result"
    }
   ],
   "source": [
    "models_nth"
   ]
  },
  {
   "cell_type": "code",
   "execution_count": 105,
   "id": "0e4e8481",
   "metadata": {},
   "outputs": [
    {
     "data": {
      "text/plain": [
       "array([[0.81578947, 0.58536585, 0.68571429, 0.63157895],\n",
       "       [0.72368421, 0.44262295, 0.77142857, 0.5625    ],\n",
       "       [0.70394737, 0.41935484, 0.74285714, 0.53608247],\n",
       "       [0.70394737, 0.4137931 , 0.68571429, 0.51612903],\n",
       "       [0.61842105, 0.34666667, 0.74285714, 0.47272727]])"
      ]
     },
     "execution_count": 105,
     "metadata": {},
     "output_type": "execute_result"
    }
   ],
   "source": [
    "eval_val_nth"
   ]
  },
  {
   "cell_type": "code",
   "execution_count": null,
   "id": "547f6664",
   "metadata": {},
   "outputs": [],
   "source": []
  },
  {
   "cell_type": "code",
   "execution_count": null,
   "id": "d9319303",
   "metadata": {},
   "outputs": [],
   "source": []
  },
  {
   "cell_type": "code",
   "execution_count": null,
   "id": "a09f99dc",
   "metadata": {},
   "outputs": [],
   "source": []
  },
  {
   "cell_type": "code",
   "execution_count": null,
   "id": "315d2d6f",
   "metadata": {},
   "outputs": [],
   "source": []
  },
  {
   "cell_type": "code",
   "execution_count": null,
   "id": "1020911e",
   "metadata": {},
   "outputs": [],
   "source": []
  },
  {
   "cell_type": "code",
   "execution_count": null,
   "id": "0ebcc00a",
   "metadata": {},
   "outputs": [],
   "source": []
  },
  {
   "cell_type": "code",
   "execution_count": null,
   "id": "a834d6b0",
   "metadata": {},
   "outputs": [],
   "source": []
  },
  {
   "cell_type": "code",
   "execution_count": 47,
   "id": "4b5e0d73",
   "metadata": {},
   "outputs": [
    {
     "name": "stdout",
     "output_type": "stream",
     "text": [
      "Confusion Matrix\n",
      "[[67 50]\n",
      " [ 9 26]]\n",
      "Accuracy: 0.6118\n",
      "Precision: 0.3421\n",
      "Recall: 0.7429\n",
      "Confusion Matrix\n",
      "[[84 33]\n",
      " [12 23]]\n",
      "Accuracy: 0.7039\n",
      "Precision: 0.4107\n",
      "Recall: 0.6571\n",
      "Confusion Matrix\n",
      "[[81 36]\n",
      " [ 8 27]]\n",
      "Accuracy: 0.7105\n",
      "Precision: 0.4286\n",
      "Recall: 0.7714\n",
      "Confusion Matrix\n",
      "[[70 47]\n",
      " [ 9 26]]\n",
      "Accuracy: 0.6316\n",
      "Precision: 0.3562\n",
      "Recall: 0.7429\n",
      "Confusion Matrix\n",
      "[[102  15]\n",
      " [ 14  21]]\n",
      "Accuracy: 0.8092\n",
      "Precision: 0.5833\n",
      "Recall: 0.6000\n"
     ]
    }
   ],
   "source": [
    "paramList = []\n",
    "modelList = []\n",
    "for i in range(5):\n",
    "    \n",
    "    model_name = random_parameter('model')\n",
    "    param = {'model': model_name,\n",
    "             'max_depth': random_parameter('max_depth'),\n",
    "             'criterion': random_parameter('criterion', model_name),\n",
    "             'min_impurity_decrease': random_parameter('min_impurity_decrease'),\n",
    "             'min_samples_leaf': random_parameter('min_samples_leaf')}\n",
    "    paramList.append(param)\n",
    "    model, acc, prec, rec, f1 = model_training(df, 0.75, param)\n",
    "    "
   ]
  },
  {
   "cell_type": "code",
   "execution_count": 48,
   "id": "fe43c85d",
   "metadata": {},
   "outputs": [
    {
     "data": {
      "text/plain": [
       "GradientBoostingClassifier(max_depth=8,\n",
       "                           min_impurity_decrease=0.03448843414870003,\n",
       "                           min_samples_leaf=0.017690285698752705,\n",
       "                           random_state=42)"
      ]
     },
     "execution_count": 48,
     "metadata": {},
     "output_type": "execute_result"
    }
   ],
   "source": [
    "model"
   ]
  },
  {
   "cell_type": "code",
   "execution_count": 26,
   "id": "d8e7917c",
   "metadata": {},
   "outputs": [
    {
     "data": {
      "text/plain": [
       "[{'model': 'GBC',\n",
       "  'max_depth': 5,\n",
       "  'criterion': 'friedman_mse',\n",
       "  'min_impurity_decrease': 0.011872030290903612,\n",
       "  'min_samples_leaf': 16},\n",
       " {'model': 'RFC',\n",
       "  'max_depth': 9,\n",
       "  'criterion': 'entropy',\n",
       "  'min_impurity_decrease': 0.004675507482568342,\n",
       "  'min_samples_leaf': 0.023947207620617326},\n",
       " {'model': 'RFC',\n",
       "  'max_depth': 5,\n",
       "  'criterion': 'entropy',\n",
       "  'min_impurity_decrease': 0.020184089922514192,\n",
       "  'min_samples_leaf': 0.03096172102854059},\n",
       " {'model': 'RFC',\n",
       "  'max_depth': 4,\n",
       "  'criterion': 'entropy',\n",
       "  'min_impurity_decrease': 0.05409431946033868,\n",
       "  'min_samples_leaf': 19},\n",
       " {'model': 'RFC',\n",
       "  'max_depth': 3,\n",
       "  'criterion': 'gini',\n",
       "  'min_impurity_decrease': 0.018054714573187858,\n",
       "  'min_samples_leaf': 17}]"
      ]
     },
     "execution_count": 26,
     "metadata": {},
     "output_type": "execute_result"
    }
   ],
   "source": [
    "paramList"
   ]
  },
  {
   "cell_type": "code",
   "execution_count": null,
   "id": "453e2b81",
   "metadata": {},
   "outputs": [],
   "source": []
  }
 ],
 "metadata": {
  "kernelspec": {
   "display_name": "Python 3",
   "language": "python",
   "name": "python3"
  },
  "language_info": {
   "codemirror_mode": {
    "name": "ipython",
    "version": 3
   },
   "file_extension": ".py",
   "mimetype": "text/x-python",
   "name": "python",
   "nbconvert_exporter": "python",
   "pygments_lexer": "ipython3",
   "version": "3.8.8"
  }
 },
 "nbformat": 4,
 "nbformat_minor": 5
}
