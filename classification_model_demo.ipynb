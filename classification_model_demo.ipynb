{
 "cells": [
  {
   "cell_type": "markdown",
   "id": "a0fd7d75",
   "metadata": {},
   "source": [
    "# Tree-based classification model"
   ]
  },
  {
   "cell_type": "markdown",
   "id": "cb4b1377",
   "metadata": {},
   "source": [
    "### Import libraries"
   ]
  },
  {
   "cell_type": "code",
   "execution_count": 1,
   "id": "53c93b27",
   "metadata": {},
   "outputs": [],
   "source": [
    "import pandas as pd\n",
    "import numpy as np\n",
    "from sklearn.ensemble import GradientBoostingClassifier as GBC\n",
    "from sklearn.ensemble import RandomForestClassifier as RFC \n",
    "from sklearn.model_selection import train_test_split as tts\n",
    "from sklearn.model_selection import KFold\n",
    "from imblearn.over_sampling import SMOTE\n",
    "from sklearn.metrics import *\n",
    "import random\n",
    "import pickle"
   ]
  },
  {
   "cell_type": "markdown",
   "id": "23019520",
   "metadata": {},
   "source": [
    "### Read the dataset"
   ]
  },
  {
   "cell_type": "code",
   "execution_count": 2,
   "id": "195beb5f",
   "metadata": {},
   "outputs": [],
   "source": [
    "df = pd.read_csv('Dataset/rgb_img_dataset_test_colorfulness.csv')"
   ]
  },
  {
   "cell_type": "code",
   "execution_count": 3,
   "id": "0aa0fce4",
   "metadata": {},
   "outputs": [],
   "source": [
    "df = df.drop('filename', axis=1)"
   ]
  },
  {
   "cell_type": "markdown",
   "id": "35d945eb",
   "metadata": {},
   "source": [
    "### Dataset example"
   ]
  },
  {
   "cell_type": "code",
   "execution_count": 4,
   "id": "312ac3e4",
   "metadata": {},
   "outputs": [
    {
     "data": {
      "text/html": [
       "<div>\n",
       "<style scoped>\n",
       "    .dataframe tbody tr th:only-of-type {\n",
       "        vertical-align: middle;\n",
       "    }\n",
       "\n",
       "    .dataframe tbody tr th {\n",
       "        vertical-align: top;\n",
       "    }\n",
       "\n",
       "    .dataframe thead th {\n",
       "        text-align: right;\n",
       "    }\n",
       "</style>\n",
       "<table border=\"1\" class=\"dataframe\">\n",
       "  <thead>\n",
       "    <tr style=\"text-align: right;\">\n",
       "      <th></th>\n",
       "      <th>r_range_1</th>\n",
       "      <th>g_range_1</th>\n",
       "      <th>b_range_1</th>\n",
       "      <th>proportion_1</th>\n",
       "      <th>r_range_2</th>\n",
       "      <th>g_range_2</th>\n",
       "      <th>b_range_2</th>\n",
       "      <th>proportion_2</th>\n",
       "      <th>r_range_3</th>\n",
       "      <th>g_range_3</th>\n",
       "      <th>...</th>\n",
       "      <th>sling</th>\n",
       "      <th>shorts</th>\n",
       "      <th>trousers</th>\n",
       "      <th>skirt</th>\n",
       "      <th>short_sleeved_dress</th>\n",
       "      <th>long_sleeved_dress</th>\n",
       "      <th>vest_dress</th>\n",
       "      <th>sling_dress</th>\n",
       "      <th>colorfulness</th>\n",
       "      <th>label</th>\n",
       "    </tr>\n",
       "  </thead>\n",
       "  <tbody>\n",
       "    <tr>\n",
       "      <th>0</th>\n",
       "      <td>16-31</td>\n",
       "      <td>16-31</td>\n",
       "      <td>16-31</td>\n",
       "      <td>0.303225</td>\n",
       "      <td>0-15</td>\n",
       "      <td>0-15</td>\n",
       "      <td>0-15</td>\n",
       "      <td>0.235109</td>\n",
       "      <td>0-15</td>\n",
       "      <td>0-15</td>\n",
       "      <td>...</td>\n",
       "      <td>0.0</td>\n",
       "      <td>0.0</td>\n",
       "      <td>0.000000</td>\n",
       "      <td>0.887868</td>\n",
       "      <td>0.0</td>\n",
       "      <td>0.0</td>\n",
       "      <td>0.0</td>\n",
       "      <td>0.0</td>\n",
       "      <td>35.539986</td>\n",
       "      <td>0</td>\n",
       "    </tr>\n",
       "    <tr>\n",
       "      <th>1</th>\n",
       "      <td>16-31</td>\n",
       "      <td>16-31</td>\n",
       "      <td>16-31</td>\n",
       "      <td>0.176878</td>\n",
       "      <td>240-255</td>\n",
       "      <td>240-255</td>\n",
       "      <td>240-255</td>\n",
       "      <td>0.091829</td>\n",
       "      <td>224-239</td>\n",
       "      <td>224-239</td>\n",
       "      <td>...</td>\n",
       "      <td>0.0</td>\n",
       "      <td>0.0</td>\n",
       "      <td>0.985530</td>\n",
       "      <td>0.930180</td>\n",
       "      <td>0.0</td>\n",
       "      <td>0.0</td>\n",
       "      <td>0.0</td>\n",
       "      <td>0.0</td>\n",
       "      <td>13.672892</td>\n",
       "      <td>0</td>\n",
       "    </tr>\n",
       "    <tr>\n",
       "      <th>2</th>\n",
       "      <td>224-239</td>\n",
       "      <td>224-239</td>\n",
       "      <td>224-239</td>\n",
       "      <td>0.092203</td>\n",
       "      <td>208-223</td>\n",
       "      <td>208-223</td>\n",
       "      <td>208-223</td>\n",
       "      <td>0.082258</td>\n",
       "      <td>224-239</td>\n",
       "      <td>224-239</td>\n",
       "      <td>...</td>\n",
       "      <td>0.0</td>\n",
       "      <td>0.0</td>\n",
       "      <td>0.894071</td>\n",
       "      <td>0.000000</td>\n",
       "      <td>0.0</td>\n",
       "      <td>0.0</td>\n",
       "      <td>0.0</td>\n",
       "      <td>0.0</td>\n",
       "      <td>9.019223</td>\n",
       "      <td>0</td>\n",
       "    </tr>\n",
       "    <tr>\n",
       "      <th>3</th>\n",
       "      <td>48-63</td>\n",
       "      <td>32-47</td>\n",
       "      <td>32-47</td>\n",
       "      <td>0.063760</td>\n",
       "      <td>112-127</td>\n",
       "      <td>32-47</td>\n",
       "      <td>0-15</td>\n",
       "      <td>0.059953</td>\n",
       "      <td>128-143</td>\n",
       "      <td>48-63</td>\n",
       "      <td>...</td>\n",
       "      <td>0.0</td>\n",
       "      <td>0.0</td>\n",
       "      <td>0.000000</td>\n",
       "      <td>0.939734</td>\n",
       "      <td>0.0</td>\n",
       "      <td>0.0</td>\n",
       "      <td>0.0</td>\n",
       "      <td>0.0</td>\n",
       "      <td>64.195108</td>\n",
       "      <td>0</td>\n",
       "    </tr>\n",
       "    <tr>\n",
       "      <th>4</th>\n",
       "      <td>0-15</td>\n",
       "      <td>0-15</td>\n",
       "      <td>0-15</td>\n",
       "      <td>0.127613</td>\n",
       "      <td>192-207</td>\n",
       "      <td>176-191</td>\n",
       "      <td>160-175</td>\n",
       "      <td>0.112392</td>\n",
       "      <td>192-207</td>\n",
       "      <td>176-191</td>\n",
       "      <td>...</td>\n",
       "      <td>0.0</td>\n",
       "      <td>0.0</td>\n",
       "      <td>0.732579</td>\n",
       "      <td>0.000000</td>\n",
       "      <td>0.0</td>\n",
       "      <td>0.0</td>\n",
       "      <td>0.0</td>\n",
       "      <td>0.0</td>\n",
       "      <td>25.580210</td>\n",
       "      <td>0</td>\n",
       "    </tr>\n",
       "  </tbody>\n",
       "</table>\n",
       "<p>5 rows × 43 columns</p>\n",
       "</div>"
      ],
      "text/plain": [
       "  r_range_1 g_range_1 b_range_1  proportion_1 r_range_2 g_range_2 b_range_2  \\\n",
       "0     16-31     16-31     16-31      0.303225      0-15      0-15      0-15   \n",
       "1     16-31     16-31     16-31      0.176878   240-255   240-255   240-255   \n",
       "2   224-239   224-239   224-239      0.092203   208-223   208-223   208-223   \n",
       "3     48-63     32-47     32-47      0.063760   112-127     32-47      0-15   \n",
       "4      0-15      0-15      0-15      0.127613   192-207   176-191   160-175   \n",
       "\n",
       "   proportion_2 r_range_3 g_range_3  ... sling  shorts  trousers     skirt  \\\n",
       "0      0.235109      0-15      0-15  ...   0.0     0.0  0.000000  0.887868   \n",
       "1      0.091829   224-239   224-239  ...   0.0     0.0  0.985530  0.930180   \n",
       "2      0.082258   224-239   224-239  ...   0.0     0.0  0.894071  0.000000   \n",
       "3      0.059953   128-143     48-63  ...   0.0     0.0  0.000000  0.939734   \n",
       "4      0.112392   192-207   176-191  ...   0.0     0.0  0.732579  0.000000   \n",
       "\n",
       "  short_sleeved_dress  long_sleeved_dress vest_dress sling_dress colorfulness  \\\n",
       "0                 0.0                 0.0        0.0         0.0    35.539986   \n",
       "1                 0.0                 0.0        0.0         0.0    13.672892   \n",
       "2                 0.0                 0.0        0.0         0.0     9.019223   \n",
       "3                 0.0                 0.0        0.0         0.0    64.195108   \n",
       "4                 0.0                 0.0        0.0         0.0    25.580210   \n",
       "\n",
       "   label  \n",
       "0      0  \n",
       "1      0  \n",
       "2      0  \n",
       "3      0  \n",
       "4      0  \n",
       "\n",
       "[5 rows x 43 columns]"
      ]
     },
     "execution_count": 4,
     "metadata": {},
     "output_type": "execute_result"
    }
   ],
   "source": [
    "df.head()"
   ]
  },
  {
   "cell_type": "code",
   "execution_count": null,
   "id": "bb97e517",
   "metadata": {},
   "outputs": [],
   "source": []
  },
  {
   "cell_type": "markdown",
   "id": "ead3e1ef",
   "metadata": {},
   "source": [
    "### Convert the format of each string range-column to integer order"
   ]
  },
  {
   "cell_type": "code",
   "execution_count": 5,
   "id": "6394f5db",
   "metadata": {},
   "outputs": [],
   "source": [
    "# Convert the format of each string range-column to integer order\n",
    "def convert_range_to_order(val):\n",
    "    result = int(val.split('-')[0])/16\n",
    "    return int(result)"
   ]
  },
  {
   "cell_type": "code",
   "execution_count": 6,
   "id": "f6d41e34",
   "metadata": {},
   "outputs": [],
   "source": [
    "for col_name in df.columns:\n",
    "    if('_range_' in col_name):\n",
    "        df[col_name] = df[col_name].apply(lambda x: convert_range_to_order(x))"
   ]
  },
  {
   "cell_type": "markdown",
   "id": "328b9cbd",
   "metadata": {},
   "source": [
    "### Result from convert_range_to_order() function"
   ]
  },
  {
   "cell_type": "code",
   "execution_count": 7,
   "id": "7eb16d4d",
   "metadata": {},
   "outputs": [
    {
     "data": {
      "text/html": [
       "<div>\n",
       "<style scoped>\n",
       "    .dataframe tbody tr th:only-of-type {\n",
       "        vertical-align: middle;\n",
       "    }\n",
       "\n",
       "    .dataframe tbody tr th {\n",
       "        vertical-align: top;\n",
       "    }\n",
       "\n",
       "    .dataframe thead th {\n",
       "        text-align: right;\n",
       "    }\n",
       "</style>\n",
       "<table border=\"1\" class=\"dataframe\">\n",
       "  <thead>\n",
       "    <tr style=\"text-align: right;\">\n",
       "      <th></th>\n",
       "      <th>r_range_1</th>\n",
       "      <th>g_range_1</th>\n",
       "      <th>b_range_1</th>\n",
       "      <th>proportion_1</th>\n",
       "      <th>r_range_2</th>\n",
       "      <th>g_range_2</th>\n",
       "      <th>b_range_2</th>\n",
       "      <th>proportion_2</th>\n",
       "      <th>r_range_3</th>\n",
       "      <th>g_range_3</th>\n",
       "      <th>...</th>\n",
       "      <th>sling</th>\n",
       "      <th>shorts</th>\n",
       "      <th>trousers</th>\n",
       "      <th>skirt</th>\n",
       "      <th>short_sleeved_dress</th>\n",
       "      <th>long_sleeved_dress</th>\n",
       "      <th>vest_dress</th>\n",
       "      <th>sling_dress</th>\n",
       "      <th>colorfulness</th>\n",
       "      <th>label</th>\n",
       "    </tr>\n",
       "  </thead>\n",
       "  <tbody>\n",
       "    <tr>\n",
       "      <th>0</th>\n",
       "      <td>1</td>\n",
       "      <td>1</td>\n",
       "      <td>1</td>\n",
       "      <td>0.303225</td>\n",
       "      <td>0</td>\n",
       "      <td>0</td>\n",
       "      <td>0</td>\n",
       "      <td>0.235109</td>\n",
       "      <td>0</td>\n",
       "      <td>0</td>\n",
       "      <td>...</td>\n",
       "      <td>0.0</td>\n",
       "      <td>0.0</td>\n",
       "      <td>0.000000</td>\n",
       "      <td>0.887868</td>\n",
       "      <td>0.0</td>\n",
       "      <td>0.0</td>\n",
       "      <td>0.0</td>\n",
       "      <td>0.0</td>\n",
       "      <td>35.539986</td>\n",
       "      <td>0</td>\n",
       "    </tr>\n",
       "    <tr>\n",
       "      <th>1</th>\n",
       "      <td>1</td>\n",
       "      <td>1</td>\n",
       "      <td>1</td>\n",
       "      <td>0.176878</td>\n",
       "      <td>15</td>\n",
       "      <td>15</td>\n",
       "      <td>15</td>\n",
       "      <td>0.091829</td>\n",
       "      <td>14</td>\n",
       "      <td>14</td>\n",
       "      <td>...</td>\n",
       "      <td>0.0</td>\n",
       "      <td>0.0</td>\n",
       "      <td>0.985530</td>\n",
       "      <td>0.930180</td>\n",
       "      <td>0.0</td>\n",
       "      <td>0.0</td>\n",
       "      <td>0.0</td>\n",
       "      <td>0.0</td>\n",
       "      <td>13.672892</td>\n",
       "      <td>0</td>\n",
       "    </tr>\n",
       "    <tr>\n",
       "      <th>2</th>\n",
       "      <td>14</td>\n",
       "      <td>14</td>\n",
       "      <td>14</td>\n",
       "      <td>0.092203</td>\n",
       "      <td>13</td>\n",
       "      <td>13</td>\n",
       "      <td>13</td>\n",
       "      <td>0.082258</td>\n",
       "      <td>14</td>\n",
       "      <td>14</td>\n",
       "      <td>...</td>\n",
       "      <td>0.0</td>\n",
       "      <td>0.0</td>\n",
       "      <td>0.894071</td>\n",
       "      <td>0.000000</td>\n",
       "      <td>0.0</td>\n",
       "      <td>0.0</td>\n",
       "      <td>0.0</td>\n",
       "      <td>0.0</td>\n",
       "      <td>9.019223</td>\n",
       "      <td>0</td>\n",
       "    </tr>\n",
       "    <tr>\n",
       "      <th>3</th>\n",
       "      <td>3</td>\n",
       "      <td>2</td>\n",
       "      <td>2</td>\n",
       "      <td>0.063760</td>\n",
       "      <td>7</td>\n",
       "      <td>2</td>\n",
       "      <td>0</td>\n",
       "      <td>0.059953</td>\n",
       "      <td>8</td>\n",
       "      <td>3</td>\n",
       "      <td>...</td>\n",
       "      <td>0.0</td>\n",
       "      <td>0.0</td>\n",
       "      <td>0.000000</td>\n",
       "      <td>0.939734</td>\n",
       "      <td>0.0</td>\n",
       "      <td>0.0</td>\n",
       "      <td>0.0</td>\n",
       "      <td>0.0</td>\n",
       "      <td>64.195108</td>\n",
       "      <td>0</td>\n",
       "    </tr>\n",
       "    <tr>\n",
       "      <th>4</th>\n",
       "      <td>0</td>\n",
       "      <td>0</td>\n",
       "      <td>0</td>\n",
       "      <td>0.127613</td>\n",
       "      <td>12</td>\n",
       "      <td>11</td>\n",
       "      <td>10</td>\n",
       "      <td>0.112392</td>\n",
       "      <td>12</td>\n",
       "      <td>11</td>\n",
       "      <td>...</td>\n",
       "      <td>0.0</td>\n",
       "      <td>0.0</td>\n",
       "      <td>0.732579</td>\n",
       "      <td>0.000000</td>\n",
       "      <td>0.0</td>\n",
       "      <td>0.0</td>\n",
       "      <td>0.0</td>\n",
       "      <td>0.0</td>\n",
       "      <td>25.580210</td>\n",
       "      <td>0</td>\n",
       "    </tr>\n",
       "  </tbody>\n",
       "</table>\n",
       "<p>5 rows × 43 columns</p>\n",
       "</div>"
      ],
      "text/plain": [
       "   r_range_1  g_range_1  b_range_1  proportion_1  r_range_2  g_range_2  \\\n",
       "0          1          1          1      0.303225          0          0   \n",
       "1          1          1          1      0.176878         15         15   \n",
       "2         14         14         14      0.092203         13         13   \n",
       "3          3          2          2      0.063760          7          2   \n",
       "4          0          0          0      0.127613         12         11   \n",
       "\n",
       "   b_range_2  proportion_2  r_range_3  g_range_3  ...  sling  shorts  \\\n",
       "0          0      0.235109          0          0  ...    0.0     0.0   \n",
       "1         15      0.091829         14         14  ...    0.0     0.0   \n",
       "2         13      0.082258         14         14  ...    0.0     0.0   \n",
       "3          0      0.059953          8          3  ...    0.0     0.0   \n",
       "4         10      0.112392         12         11  ...    0.0     0.0   \n",
       "\n",
       "   trousers     skirt  short_sleeved_dress  long_sleeved_dress  vest_dress  \\\n",
       "0  0.000000  0.887868                  0.0                 0.0         0.0   \n",
       "1  0.985530  0.930180                  0.0                 0.0         0.0   \n",
       "2  0.894071  0.000000                  0.0                 0.0         0.0   \n",
       "3  0.000000  0.939734                  0.0                 0.0         0.0   \n",
       "4  0.732579  0.000000                  0.0                 0.0         0.0   \n",
       "\n",
       "   sling_dress  colorfulness  label  \n",
       "0          0.0     35.539986      0  \n",
       "1          0.0     13.672892      0  \n",
       "2          0.0      9.019223      0  \n",
       "3          0.0     64.195108      0  \n",
       "4          0.0     25.580210      0  \n",
       "\n",
       "[5 rows x 43 columns]"
      ]
     },
     "execution_count": 7,
     "metadata": {},
     "output_type": "execute_result"
    }
   ],
   "source": [
    "df.head()"
   ]
  },
  {
   "cell_type": "code",
   "execution_count": 8,
   "id": "6e9345bd",
   "metadata": {},
   "outputs": [
    {
     "data": {
      "text/plain": [
       "0    455\n",
       "1    152\n",
       "Name: label, dtype: int64"
      ]
     },
     "execution_count": 8,
     "metadata": {},
     "output_type": "execute_result"
    }
   ],
   "source": [
    "df['label'].value_counts()"
   ]
  },
  {
   "cell_type": "markdown",
   "id": "f13efa30",
   "metadata": {},
   "source": [
    "### Random split the dataframe into 2 sub-dataframes for training and testing"
   ]
  },
  {
   "cell_type": "code",
   "execution_count": 9,
   "id": "e9daea93",
   "metadata": {},
   "outputs": [],
   "source": [
    "training_rate = 0.75\n",
    "testing_rate = 1-training_rate\n",
    "df_len = len(df)"
   ]
  },
  {
   "cell_type": "code",
   "execution_count": 10,
   "id": "a9301ee7",
   "metadata": {},
   "outputs": [],
   "source": [
    "all_set = set(range(0, df_len))\n",
    "training_set = set(random.sample(range(0, df_len), int(training_rate*df_len)))\n",
    "testing_set = all_set-training_set"
   ]
  },
  {
   "cell_type": "code",
   "execution_count": 11,
   "id": "209b5eb6",
   "metadata": {},
   "outputs": [],
   "source": [
    "training_idx = np.array(list(training_set))\n",
    "testing_idx = np.array(list(testing_set))\n",
    "training_idx.sort()\n",
    "testing_idx.sort()"
   ]
  },
  {
   "cell_type": "code",
   "execution_count": 12,
   "id": "0bd246d3",
   "metadata": {},
   "outputs": [],
   "source": [
    "df_train = df.iloc[training_idx]\n",
    "df_test = df.iloc[testing_idx]"
   ]
  },
  {
   "cell_type": "raw",
   "id": "697f465b",
   "metadata": {},
   "source": [
    "for col in df.columns:\n",
    "    if('proportion' in col):\n",
    "        df = df.drop(col, axis=1)"
   ]
  },
  {
   "cell_type": "raw",
   "id": "334176fd",
   "metadata": {},
   "source": [
    "for col in df.columns:\n",
    "    if('6' in col):\n",
    "        df = df.drop(col, axis=1)\n",
    "    if('7' in col):\n",
    "        df = df.drop(col, axis=1)"
   ]
  },
  {
   "cell_type": "markdown",
   "id": "0b51298d",
   "metadata": {},
   "source": [
    "### Functions"
   ]
  },
  {
   "cell_type": "code",
   "execution_count": 13,
   "id": "e01086bc",
   "metadata": {},
   "outputs": [],
   "source": [
    "# model training process \n",
    "# input: image infomation (dataframe), training_ratio (float), set of model parameters (dictionary)\n",
    "# output: model, score of model (4 floats)\n",
    "\n",
    "def model_training(df, training_size, param): \n",
    "    # training_size is ratio of training data for train-test split (float)\n",
    "    # param is set of parameter for model training (dict)\n",
    "    \n",
    "    X = df.drop('label', axis=1)\n",
    "    y = df['label']\n",
    "    X_train, X_test, y_train, y_test = tts(X, y, train_size=training_size, random_state=42)\n",
    "    \n",
    "    sm = SMOTE(sampling_strategy = 1, random_state=42)\n",
    "    X_res, y_res = sm.fit_resample(X_train, y_train.ravel())\n",
    "    \n",
    "    if(param['model']=='GBC'):\n",
    "        clf = GBC(max_depth=param['max_depth'], \n",
    "                  criterion=param['criterion'],\n",
    "                  min_impurity_decrease=param['min_impurity_decrease'],\n",
    "                  min_samples_leaf=param['min_samples_leaf'], random_state=42).fit(X_res, y_res)\n",
    "    elif(param['model']=='RFC'):\n",
    "        clf = RFC(max_depth=param['max_depth'], \n",
    "                  criterion=param['criterion'],\n",
    "                  min_impurity_decrease=param['min_impurity_decrease'],\n",
    "                  min_samples_leaf=param['min_samples_leaf'], random_state=42).fit(X_res, y_res)\n",
    "    # clf = GBC(set_of_parameter)\n",
    "    y_pred = clf.predict(X_test)\n",
    "    \n",
    "#     print('Confusion Matrix')\n",
    "#     print(confusion_matrix(y_test, y_pred))\n",
    "#     print('Accuracy: {:.4f}'.format(accuracy_score(y_test, y_pred)))\n",
    "#     print('Precision: {:.4f}'.format(precision_score(y_test, y_pred)))\n",
    "#     print('Recall: {:.4f}'.format(recall_score(y_test, y_pred)))\n",
    "    \n",
    "    return clf, accuracy_score(y_test, y_pred), precision_score(y_test, y_pred), recall_score(y_test, y_pred), f1_score(y_test, y_pred) "
   ]
  },
  {
   "cell_type": "code",
   "execution_count": 14,
   "id": "b8241240",
   "metadata": {},
   "outputs": [],
   "source": [
    "# random parameter process for parameter finding with genetic algorithm\n",
    "# input: parameter name (string), model name (string)\n",
    "# output: parameter value\n",
    "\n",
    "def random_parameter(param_name, model_name=None):\n",
    "    \n",
    "    if(param_name=='model'):\n",
    "        tmp = random.randint(1, 2)\n",
    "        if(tmp==1):\n",
    "            return 'GBC'\n",
    "        elif(tmp==2):\n",
    "            return 'RFC'\n",
    "        \n",
    "    if(param_name=='max_depth'):\n",
    "        return random.randint(1, 10)\n",
    "    \n",
    "    if(param_name=='criterion'):\n",
    "        if(model_name=='GBC'):\n",
    "            tmp = random.randint(1, 2)\n",
    "            if(tmp==1):\n",
    "                return 'friedman_mse'\n",
    "            elif(tmp==2):\n",
    "                return 'mae'\n",
    "        elif(model_name=='RFC'):\n",
    "            tmp = random.randint(1, 2)\n",
    "            if(tmp==1):\n",
    "                return 'gini'\n",
    "            elif(tmp==2):\n",
    "                return 'entropy'\n",
    "            \n",
    "    if(param_name=='min_impurity_decrease'):\n",
    "        return random.random()/10\n",
    "    \n",
    "    if(param_name=='min_samples_leaf'):\n",
    "        if(random.random()<0.5):\n",
    "            return random.random()/10\n",
    "        else:\n",
    "            return random.randint(1, 20)"
   ]
  },
  {
   "cell_type": "code",
   "execution_count": 15,
   "id": "d8ca4ac3",
   "metadata": {},
   "outputs": [],
   "source": [
    "# generate the set of parameter for a chromosome\n",
    "# input: -\n",
    "# output: set of parameter (dictionary)\n",
    "\n",
    "def gen_param():\n",
    "    model_name = random_parameter('model')\n",
    "    param = {'model': model_name,\n",
    "             'max_depth': random_parameter('max_depth'),\n",
    "             'criterion': random_parameter('criterion', model_name),\n",
    "             'min_impurity_decrease': random_parameter('min_impurity_decrease'),\n",
    "             'min_samples_leaf': random_parameter('min_samples_leaf')}\n",
    "    return param"
   ]
  },
  {
   "cell_type": "code",
   "execution_count": 16,
   "id": "85012c06",
   "metadata": {},
   "outputs": [],
   "source": [
    "# generate the set of parameter for a chromosome with mutation process\n",
    "# input: set of original parameter (dictionary)\n",
    "# output: set of modified parameter (dictionary)\n",
    "\n",
    "def gen_param_crossover(param):\n",
    "    rand_threshold = 0.3\n",
    "    \n",
    "    if(random.random()<rand_threshold):\n",
    "        model_name = random_parameter('model')\n",
    "    else:\n",
    "        model_name = param['model']\n",
    "        \n",
    "    if(random.random()<rand_threshold):\n",
    "        max_depth = random_parameter('max_depth')\n",
    "    else:\n",
    "        max_depth = param['max_depth']\n",
    "    \n",
    "    if(random.random()<rand_threshold):\n",
    "        criterion = random_parameter('criterion')\n",
    "    else:\n",
    "        criterion = param['criterion']\n",
    "        \n",
    "    if(random.random()<rand_threshold):\n",
    "        min_impurity_decrease = random_parameter('min_impurity_decrease')\n",
    "    else:\n",
    "        min_impurity_decrease = param['min_impurity_decrease']\n",
    "        \n",
    "    if(random.random()<rand_threshold):\n",
    "        min_samples_leaf = random_parameter('min_samples_leaf')\n",
    "    else:\n",
    "        min_samples_leaf = param['min_samples_leaf']\n",
    "        \n",
    "    param = {'model': model_name,\n",
    "             'max_depth': max_depth,\n",
    "             'criterion': criterion,\n",
    "             'min_impurity_decrease': min_impurity_decrease,\n",
    "             'min_samples_leaf': min_samples_leaf}\n",
    "    \n",
    "    return param"
   ]
  },
  {
   "cell_type": "code",
   "execution_count": 17,
   "id": "fb5791d2",
   "metadata": {},
   "outputs": [],
   "source": [
    "# 1st generation of genetic algorithm (without crossover process)\n",
    "# input: (if exists) best set of parameter, model, model evaluation\n",
    "# output: list of set of parameters, list of models, list of model evaluation\n",
    "\n",
    "def gen_1st(param_prev=None, model_prev=None, eval_prev=None):\n",
    "\n",
    "    n_chro = 100\n",
    "    \n",
    "    if((param_prev is None)&(model_prev is None)):\n",
    "        params = np.array([None])\n",
    "        models = np.array([None for i in range(n_chro+1)])\n",
    "        eval_val = np.array([0, 0, 0, 0], ndmin=2)\n",
    "        count = 0\n",
    "#     else:\n",
    "#         acc_score, prec_score, rec_score, f1_score = evaluate(model_prev, x_test, y_test)\n",
    "#         eval_val = np.array([acc_score, prec_score, rec_score, f1_score], ndmin=2)\n",
    "#         params = param_prev.copy()\n",
    "#         models = np.array([model_prev])\n",
    "#         count = 1\n",
    "\n",
    "    while(count<n_chro):\n",
    "        try:\n",
    "            param = gen_param()\n",
    "            print('param: {}'.format(param))\n",
    "            model, acc_score, prec_score, rec_score, f1_score = model_training(df_train, 0.75, param)\n",
    "            eval_val = np.append(eval_val, np.array([acc_score, prec_score, rec_score, f1_score], ndmin=2), axis=0)\n",
    "            params = np.append(params, [param])\n",
    "            # models = np.append(models, [model])\n",
    "            models[count+1] = model\n",
    "            count = count + 1\n",
    "\n",
    "        except:\n",
    "            continue\n",
    "\n",
    "    return params, models, eval_val\n"
   ]
  },
  {
   "cell_type": "code",
   "execution_count": 18,
   "id": "77a0486b",
   "metadata": {},
   "outputs": [],
   "source": [
    "# 1st generation of genetic algorithm (without crossover process)\n",
    "# input: best set of parameter, model, model evaluation from previous generation\n",
    "# output: list of set of parameters, list of models, list of model evaluation\n",
    "\n",
    "def gen_nth(param_best, model_best, eval_val_best):\n",
    "    \n",
    "    n_chro = 100\n",
    "    \n",
    "    # params = np.array([param_best])\n",
    "    # models = np.array([model_best])\n",
    "    models = np.array([None for i in range(n_chro)])\n",
    "    params = param_best.copy()\n",
    "    for i in range(len(model_best)):\n",
    "        models[i] = model_best[i]\n",
    "    # models = model_best.copy()\n",
    "    eval_val = np.array(eval_val_best.copy(), ndmin=2)\n",
    "    count = len(model_best)\n",
    "    for i in range(len(model_best)):\n",
    "        try:\n",
    "            param = gen_param()\n",
    "            print('param: {}'.format(param))\n",
    "            model, acc_score, prec_score, rec_score, f1_score = model_training(df_train, 0.75, param)\n",
    "            eval_val = np.append(eval_val, np.array([acc_score, prec_score, rec_score, f1_score], ndmin=2), axis=0)\n",
    "            params = np.append(params, [param])\n",
    "            # models = np.append(models, [model])\n",
    "            models[count] = model\n",
    "            count = count + 1\n",
    "        except:\n",
    "            continue\n",
    "\n",
    "\n",
    "    while(count<n_chro):\n",
    "        try:\n",
    "            param = gen_param()\n",
    "            print('param: {}'.format(param))\n",
    "            model, acc_score, prec_score, rec_score, f1_score = model_training(df_train, 0.75, param)\n",
    "            eval_val = np.append(eval_val, np.array([acc_score, prec_score, rec_score, f1_score], ndmin=2), axis=0)\n",
    "            params = np.append(params, [param])\n",
    "            # models = np.append(models, [model])\n",
    "            models[count] = model\n",
    "            count = count + 1\n",
    "        except:\n",
    "            continue\n",
    "\n",
    "    return params, models, eval_val"
   ]
  },
  {
   "cell_type": "code",
   "execution_count": 19,
   "id": "93bc85d6",
   "metadata": {},
   "outputs": [],
   "source": [
    "# Save the set of parameters and model evalution\n",
    "# input: generation (integer), list of set of parameters (list of dictionaries), list of model evaluations (list of arrays)\n",
    "# output: -\n",
    "\n",
    "def create_report(gen, params, eval_val):\n",
    "    f = open('checkpoints/report_param_gen{:02d}.txt'.format(gen), 'w')\n",
    "    st_idx = 0\n",
    "    if(gen==1):\n",
    "        st_idx = 1\n",
    "    for i in range(st_idx, params.shape[0]):\n",
    "        f.writelines('{}\\n'.format(params[i]))\n",
    "    f.close()\n",
    "    f = open('checkpoints/report_eval_gen{:02d}.txt'.format(gen), 'w')\n",
    "    for i in range(st_idx, eval_val.shape[0]):\n",
    "        f.writelines('{}\\n'.format(eval_val[i]))\n",
    "    f.close()"
   ]
  },
  {
   "cell_type": "code",
   "execution_count": 20,
   "id": "c98e8d10",
   "metadata": {},
   "outputs": [],
   "source": [
    "# Main function (start without previous model)\n",
    "# input: number of generations (integer), number of best chromosomes be keeping to next generations (integer)\n",
    "# output: list of set of parameters, list of models, list of model evaluations in first 3 and the last generation.\n",
    "\n",
    "def start_from_new(gen=15, n_select_max=3):\n",
    "\n",
    "    print('GEN 1:')\n",
    "    params, models, eval_val = gen_1st()\n",
    "    create_report(1, params, eval_val)\n",
    "\n",
    "    print('\\n\\n\\nGEN 2:')\n",
    "    tmp_params = params.copy()\n",
    "    tmp_models = models.copy()\n",
    "    tmp_eval_val = eval_val.copy()\n",
    "    \n",
    "    param_best_set = tmp_params[list(np.argsort(tmp_eval_val[:, 3])[::-1])][0:n_select_max]\n",
    "    model_best_set = tmp_models[list(np.argsort(tmp_eval_val[:, 3])[::-1])][0:n_select_max]\n",
    "    eval_val_best_set = tmp_eval_val[np.argsort(tmp_eval_val[:, 3])[::-1]][0:n_select_max]\n",
    "    # model_best_set = list(set(model_best_set))\n",
    "    # eval_val_best_set = list(set(eval_val_best_set))\n",
    "    params_2nd, models_2nd, eval_val_2nd = gen_nth(param_best=param_best_set, model_best=model_best_set, eval_val_best=eval_val_best_set)\n",
    "    create_report(2, params_2nd, eval_val_2nd)\n",
    "    \n",
    "    print('\\n\\n\\nGEN 3:')\n",
    "    tmp_params = params_2nd.copy()\n",
    "    tmp_models = models_2nd.copy()\n",
    "    tmp_eval_val = eval_val_2nd.copy()\n",
    "    param_best_set = tmp_params[list(np.argsort(tmp_eval_val[:, 3])[::-1])][0:n_select_max]\n",
    "    model_best_set = tmp_models[list(np.argsort(tmp_eval_val[:, 3])[::-1])][0:n_select_max]\n",
    "    eval_val_best_set = tmp_eval_val[np.argsort(tmp_eval_val[:, 3])[::-1]][0:n_select_max]\n",
    "    # model_best_set = list(set(model_best_set))\n",
    "    # eval_val_best_set = list(set(eval_val_best_set))\n",
    "    params_3rd, models_3rd, eval_val_3rd = gen_nth(param_best=param_best_set, model_best=model_best_set, eval_val_best=eval_val_best_set)\n",
    "    create_report(3, params_3rd, eval_val_3rd)\n",
    "    \n",
    "    params_nth, models_nth, eval_val_nth = params_3rd.copy(), models_3rd.copy(), eval_val_3rd.copy()\n",
    "    for i in range(gen-3):\n",
    "        print('\\n\\n\\nGEN {}:'.format(i+4))\n",
    "        tmp_params = params_nth.copy()\n",
    "        tmp_models = models_nth.copy()\n",
    "        tmp_eval_val = eval_val_nth.copy()\n",
    "        param_best_set = tmp_params[list(np.argsort(tmp_eval_val[:, 3])[::-1])][0:n_select_max]\n",
    "        model_best_set = tmp_models[list(np.argsort(tmp_eval_val[:, 3])[::-1])][0:n_select_max]\n",
    "        eval_val_best_set = tmp_eval_val[np.argsort(tmp_eval_val[:, 3])[::-1]][0:n_select_max]\n",
    "        # model_best_set = list(set(model_best_set))\n",
    "        # eval_val_best_set = list(set(eval_val_best_set))\n",
    "        params_nth, models_nth, eval_val_nth = gen_nth(param_best=param_best_set, model_best=model_best_set, eval_val_best=eval_val_best_set)\n",
    "        create_report(i+4, params_nth, eval_val_nth)\n",
    "        \n",
    "    return params, models, eval_val, params_2nd, models_2nd, eval_val_2nd, params_3rd, models_3rd, eval_val_3rd, params_nth, models_nth, eval_val_nth"
   ]
  },
  {
   "cell_type": "markdown",
   "id": "362ae4c0",
   "metadata": {},
   "source": [
    "### Run"
   ]
  },
  {
   "cell_type": "code",
   "execution_count": 21,
   "id": "1a6704cd",
   "metadata": {
    "scrolled": true
   },
   "outputs": [
    {
     "name": "stdout",
     "output_type": "stream",
     "text": [
      "GEN 1:\n",
      "param: {'model': 'GBC', 'max_depth': 10, 'criterion': 'friedman_mse', 'min_impurity_decrease': 0.015433056947846746, 'min_samples_leaf': 6}\n",
      "param: {'model': 'GBC', 'max_depth': 6, 'criterion': 'friedman_mse', 'min_impurity_decrease': 0.0532351059305781, 'min_samples_leaf': 0.0671876610556841}\n",
      "param: {'model': 'GBC', 'max_depth': 7, 'criterion': 'mae', 'min_impurity_decrease': 0.015236885544546497, 'min_samples_leaf': 0.047382477445048435}\n"
     ]
    },
    {
     "name": "stderr",
     "output_type": "stream",
     "text": [
      "C:\\Users\\Asus\\anaconda3\\lib\\site-packages\\sklearn\\ensemble\\_gb.py:1118: FutureWarning: criterion='mae' was deprecated in version 0.24 and will be removed in version 1.1 (renaming of 0.26). Use criterion='friedman_mse' or 'mse' instead, as trees should use a least-square criterion in Gradient Boosting.\n",
      "  warnings.warn(\"criterion='mae' was deprecated in version 0.24 and \"\n"
     ]
    },
    {
     "name": "stdout",
     "output_type": "stream",
     "text": [
      "param: {'model': 'RFC', 'max_depth': 8, 'criterion': 'entropy', 'min_impurity_decrease': 0.06585243202941282, 'min_samples_leaf': 0.09342866281589692}\n",
      "param: {'model': 'GBC', 'max_depth': 3, 'criterion': 'mae', 'min_impurity_decrease': 0.05233496848248694, 'min_samples_leaf': 0.02856307970814098}\n"
     ]
    },
    {
     "name": "stderr",
     "output_type": "stream",
     "text": [
      "C:\\Users\\Asus\\anaconda3\\lib\\site-packages\\sklearn\\ensemble\\_gb.py:1118: FutureWarning: criterion='mae' was deprecated in version 0.24 and will be removed in version 1.1 (renaming of 0.26). Use criterion='friedman_mse' or 'mse' instead, as trees should use a least-square criterion in Gradient Boosting.\n",
      "  warnings.warn(\"criterion='mae' was deprecated in version 0.24 and \"\n"
     ]
    },
    {
     "name": "stdout",
     "output_type": "stream",
     "text": [
      "param: {'model': 'GBC', 'max_depth': 4, 'criterion': 'mae', 'min_impurity_decrease': 0.022221862399948757, 'min_samples_leaf': 0.029175812622436348}\n"
     ]
    },
    {
     "name": "stderr",
     "output_type": "stream",
     "text": [
      "C:\\Users\\Asus\\anaconda3\\lib\\site-packages\\sklearn\\ensemble\\_gb.py:1118: FutureWarning: criterion='mae' was deprecated in version 0.24 and will be removed in version 1.1 (renaming of 0.26). Use criterion='friedman_mse' or 'mse' instead, as trees should use a least-square criterion in Gradient Boosting.\n",
      "  warnings.warn(\"criterion='mae' was deprecated in version 0.24 and \"\n"
     ]
    },
    {
     "name": "stdout",
     "output_type": "stream",
     "text": [
      "param: {'model': 'RFC', 'max_depth': 4, 'criterion': 'entropy', 'min_impurity_decrease': 0.05699935287712564, 'min_samples_leaf': 0.0417546444612258}\n",
      "param: {'model': 'GBC', 'max_depth': 3, 'criterion': 'friedman_mse', 'min_impurity_decrease': 0.04807324806113913, 'min_samples_leaf': 14}\n",
      "param: {'model': 'RFC', 'max_depth': 8, 'criterion': 'entropy', 'min_impurity_decrease': 0.09943930760248296, 'min_samples_leaf': 0.029203312740148323}\n",
      "param: {'model': 'GBC', 'max_depth': 6, 'criterion': 'mae', 'min_impurity_decrease': 0.09803299871842754, 'min_samples_leaf': 0.05913131125247693}\n"
     ]
    },
    {
     "name": "stderr",
     "output_type": "stream",
     "text": [
      "C:\\Users\\Asus\\anaconda3\\lib\\site-packages\\sklearn\\ensemble\\_gb.py:1118: FutureWarning: criterion='mae' was deprecated in version 0.24 and will be removed in version 1.1 (renaming of 0.26). Use criterion='friedman_mse' or 'mse' instead, as trees should use a least-square criterion in Gradient Boosting.\n",
      "  warnings.warn(\"criterion='mae' was deprecated in version 0.24 and \"\n"
     ]
    },
    {
     "name": "stdout",
     "output_type": "stream",
     "text": [
      "param: {'model': 'GBC', 'max_depth': 5, 'criterion': 'friedman_mse', 'min_impurity_decrease': 0.046296808239257546, 'min_samples_leaf': 7}\n",
      "param: {'model': 'RFC', 'max_depth': 5, 'criterion': 'entropy', 'min_impurity_decrease': 0.09426439885168258, 'min_samples_leaf': 0.028415916668799966}\n",
      "param: {'model': 'RFC', 'max_depth': 8, 'criterion': 'entropy', 'min_impurity_decrease': 0.07657825645270744, 'min_samples_leaf': 15}\n",
      "param: {'model': 'RFC', 'max_depth': 7, 'criterion': 'gini', 'min_impurity_decrease': 0.007989889719185194, 'min_samples_leaf': 5}\n",
      "param: {'model': 'GBC', 'max_depth': 3, 'criterion': 'mae', 'min_impurity_decrease': 0.05451569602112449, 'min_samples_leaf': 16}\n"
     ]
    },
    {
     "name": "stderr",
     "output_type": "stream",
     "text": [
      "C:\\Users\\Asus\\anaconda3\\lib\\site-packages\\sklearn\\ensemble\\_gb.py:1118: FutureWarning: criterion='mae' was deprecated in version 0.24 and will be removed in version 1.1 (renaming of 0.26). Use criterion='friedman_mse' or 'mse' instead, as trees should use a least-square criterion in Gradient Boosting.\n",
      "  warnings.warn(\"criterion='mae' was deprecated in version 0.24 and \"\n"
     ]
    },
    {
     "name": "stdout",
     "output_type": "stream",
     "text": [
      "param: {'model': 'GBC', 'max_depth': 9, 'criterion': 'friedman_mse', 'min_impurity_decrease': 0.05666351669378796, 'min_samples_leaf': 0.007675180804743531}\n",
      "param: {'model': 'RFC', 'max_depth': 9, 'criterion': 'gini', 'min_impurity_decrease': 0.020536759329011743, 'min_samples_leaf': 0.060406252516394435}\n",
      "param: {'model': 'RFC', 'max_depth': 2, 'criterion': 'gini', 'min_impurity_decrease': 0.08006724255320453, 'min_samples_leaf': 2}\n",
      "param: {'model': 'RFC', 'max_depth': 6, 'criterion': 'gini', 'min_impurity_decrease': 0.028921224110944443, 'min_samples_leaf': 0.04590186336618278}\n",
      "param: {'model': 'GBC', 'max_depth': 3, 'criterion': 'friedman_mse', 'min_impurity_decrease': 0.018986936561575497, 'min_samples_leaf': 0.012540040399973928}\n",
      "param: {'model': 'RFC', 'max_depth': 10, 'criterion': 'gini', 'min_impurity_decrease': 0.03300383332182477, 'min_samples_leaf': 0.09534906761778036}\n",
      "param: {'model': 'GBC', 'max_depth': 1, 'criterion': 'friedman_mse', 'min_impurity_decrease': 0.06839390696100697, 'min_samples_leaf': 12}\n",
      "param: {'model': 'RFC', 'max_depth': 7, 'criterion': 'entropy', 'min_impurity_decrease': 0.01218894174982832, 'min_samples_leaf': 0.05335436294993693}\n",
      "param: {'model': 'GBC', 'max_depth': 10, 'criterion': 'mae', 'min_impurity_decrease': 0.06324354357261003, 'min_samples_leaf': 0.03387261011025443}\n"
     ]
    },
    {
     "name": "stderr",
     "output_type": "stream",
     "text": [
      "C:\\Users\\Asus\\anaconda3\\lib\\site-packages\\sklearn\\ensemble\\_gb.py:1118: FutureWarning: criterion='mae' was deprecated in version 0.24 and will be removed in version 1.1 (renaming of 0.26). Use criterion='friedman_mse' or 'mse' instead, as trees should use a least-square criterion in Gradient Boosting.\n",
      "  warnings.warn(\"criterion='mae' was deprecated in version 0.24 and \"\n"
     ]
    },
    {
     "name": "stdout",
     "output_type": "stream",
     "text": [
      "param: {'model': 'RFC', 'max_depth': 8, 'criterion': 'gini', 'min_impurity_decrease': 0.09542019579150353, 'min_samples_leaf': 0.04799790008020244}\n",
      "param: {'model': 'RFC', 'max_depth': 5, 'criterion': 'gini', 'min_impurity_decrease': 0.06607180335650761, 'min_samples_leaf': 0.08256879691534424}\n",
      "param: {'model': 'GBC', 'max_depth': 4, 'criterion': 'friedman_mse', 'min_impurity_decrease': 0.06584697387709901, 'min_samples_leaf': 14}\n",
      "param: {'model': 'GBC', 'max_depth': 2, 'criterion': 'friedman_mse', 'min_impurity_decrease': 0.0017241255317109404, 'min_samples_leaf': 0.031229545068064312}\n",
      "param: {'model': 'GBC', 'max_depth': 10, 'criterion': 'friedman_mse', 'min_impurity_decrease': 0.08610846603492207, 'min_samples_leaf': 0.018225998468967542}\n",
      "param: {'model': 'RFC', 'max_depth': 3, 'criterion': 'entropy', 'min_impurity_decrease': 0.026085742991754434, 'min_samples_leaf': 0.0661751053169085}\n",
      "param: {'model': 'RFC', 'max_depth': 2, 'criterion': 'gini', 'min_impurity_decrease': 0.04055547552792793, 'min_samples_leaf': 0.08291527843689711}\n",
      "param: {'model': 'RFC', 'max_depth': 9, 'criterion': 'gini', 'min_impurity_decrease': 0.08098914173137639, 'min_samples_leaf': 12}\n",
      "param: {'model': 'GBC', 'max_depth': 5, 'criterion': 'mae', 'min_impurity_decrease': 0.06960064383300388, 'min_samples_leaf': 0.017184017844308584}\n"
     ]
    },
    {
     "name": "stderr",
     "output_type": "stream",
     "text": [
      "C:\\Users\\Asus\\anaconda3\\lib\\site-packages\\sklearn\\ensemble\\_gb.py:1118: FutureWarning: criterion='mae' was deprecated in version 0.24 and will be removed in version 1.1 (renaming of 0.26). Use criterion='friedman_mse' or 'mse' instead, as trees should use a least-square criterion in Gradient Boosting.\n",
      "  warnings.warn(\"criterion='mae' was deprecated in version 0.24 and \"\n"
     ]
    },
    {
     "name": "stdout",
     "output_type": "stream",
     "text": [
      "param: {'model': 'GBC', 'max_depth': 5, 'criterion': 'mae', 'min_impurity_decrease': 0.012673060682559467, 'min_samples_leaf': 0.06093928703294257}\n"
     ]
    },
    {
     "name": "stderr",
     "output_type": "stream",
     "text": [
      "C:\\Users\\Asus\\anaconda3\\lib\\site-packages\\sklearn\\ensemble\\_gb.py:1118: FutureWarning: criterion='mae' was deprecated in version 0.24 and will be removed in version 1.1 (renaming of 0.26). Use criterion='friedman_mse' or 'mse' instead, as trees should use a least-square criterion in Gradient Boosting.\n",
      "  warnings.warn(\"criterion='mae' was deprecated in version 0.24 and \"\n"
     ]
    },
    {
     "name": "stdout",
     "output_type": "stream",
     "text": [
      "param: {'model': 'RFC', 'max_depth': 8, 'criterion': 'entropy', 'min_impurity_decrease': 0.04412454820692378, 'min_samples_leaf': 2}\n",
      "param: {'model': 'RFC', 'max_depth': 6, 'criterion': 'gini', 'min_impurity_decrease': 0.014278205064568117, 'min_samples_leaf': 0.06290071319432082}\n",
      "param: {'model': 'RFC', 'max_depth': 2, 'criterion': 'entropy', 'min_impurity_decrease': 0.014011887389787392, 'min_samples_leaf': 0.013480633167493062}\n",
      "param: {'model': 'RFC', 'max_depth': 9, 'criterion': 'entropy', 'min_impurity_decrease': 0.07156525092840954, 'min_samples_leaf': 8}\n",
      "param: {'model': 'RFC', 'max_depth': 7, 'criterion': 'gini', 'min_impurity_decrease': 0.07105080851846443, 'min_samples_leaf': 10}\n",
      "param: {'model': 'GBC', 'max_depth': 4, 'criterion': 'friedman_mse', 'min_impurity_decrease': 0.04775081937714509, 'min_samples_leaf': 0.08389240424194984}\n",
      "param: {'model': 'GBC', 'max_depth': 6, 'criterion': 'mae', 'min_impurity_decrease': 0.0717212024040679, 'min_samples_leaf': 0.01277360277731271}\n"
     ]
    },
    {
     "name": "stderr",
     "output_type": "stream",
     "text": [
      "C:\\Users\\Asus\\anaconda3\\lib\\site-packages\\sklearn\\ensemble\\_gb.py:1118: FutureWarning: criterion='mae' was deprecated in version 0.24 and will be removed in version 1.1 (renaming of 0.26). Use criterion='friedman_mse' or 'mse' instead, as trees should use a least-square criterion in Gradient Boosting.\n",
      "  warnings.warn(\"criterion='mae' was deprecated in version 0.24 and \"\n"
     ]
    },
    {
     "name": "stdout",
     "output_type": "stream",
     "text": [
      "param: {'model': 'RFC', 'max_depth': 5, 'criterion': 'entropy', 'min_impurity_decrease': 0.06019957832518119, 'min_samples_leaf': 14}\n",
      "param: {'model': 'RFC', 'max_depth': 8, 'criterion': 'entropy', 'min_impurity_decrease': 0.06607378269856465, 'min_samples_leaf': 9}\n",
      "param: {'model': 'GBC', 'max_depth': 6, 'criterion': 'mae', 'min_impurity_decrease': 0.02813872065549843, 'min_samples_leaf': 0.03647934664334358}\n"
     ]
    },
    {
     "name": "stderr",
     "output_type": "stream",
     "text": [
      "C:\\Users\\Asus\\anaconda3\\lib\\site-packages\\sklearn\\ensemble\\_gb.py:1118: FutureWarning: criterion='mae' was deprecated in version 0.24 and will be removed in version 1.1 (renaming of 0.26). Use criterion='friedman_mse' or 'mse' instead, as trees should use a least-square criterion in Gradient Boosting.\n",
      "  warnings.warn(\"criterion='mae' was deprecated in version 0.24 and \"\n"
     ]
    },
    {
     "name": "stdout",
     "output_type": "stream",
     "text": [
      "param: {'model': 'GBC', 'max_depth': 3, 'criterion': 'mae', 'min_impurity_decrease': 0.07403767378398932, 'min_samples_leaf': 0.07597010822735005}\n"
     ]
    },
    {
     "name": "stderr",
     "output_type": "stream",
     "text": [
      "C:\\Users\\Asus\\anaconda3\\lib\\site-packages\\sklearn\\ensemble\\_gb.py:1118: FutureWarning: criterion='mae' was deprecated in version 0.24 and will be removed in version 1.1 (renaming of 0.26). Use criterion='friedman_mse' or 'mse' instead, as trees should use a least-square criterion in Gradient Boosting.\n",
      "  warnings.warn(\"criterion='mae' was deprecated in version 0.24 and \"\n"
     ]
    },
    {
     "name": "stdout",
     "output_type": "stream",
     "text": [
      "param: {'model': 'GBC', 'max_depth': 8, 'criterion': 'friedman_mse', 'min_impurity_decrease': 0.009767926496551194, 'min_samples_leaf': 0.055554336698873455}\n",
      "param: {'model': 'RFC', 'max_depth': 4, 'criterion': 'entropy', 'min_impurity_decrease': 0.02330637948290142, 'min_samples_leaf': 6}\n",
      "param: {'model': 'RFC', 'max_depth': 10, 'criterion': 'gini', 'min_impurity_decrease': 0.031933292587132525, 'min_samples_leaf': 0.039355626319636496}\n",
      "param: {'model': 'RFC', 'max_depth': 7, 'criterion': 'gini', 'min_impurity_decrease': 0.039242693115104275, 'min_samples_leaf': 0.013865188379063375}\n",
      "param: {'model': 'RFC', 'max_depth': 4, 'criterion': 'gini', 'min_impurity_decrease': 0.07178581275572296, 'min_samples_leaf': 18}\n",
      "param: {'model': 'GBC', 'max_depth': 1, 'criterion': 'friedman_mse', 'min_impurity_decrease': 0.09845270676894843, 'min_samples_leaf': 0.0008465225794354048}\n",
      "param: {'model': 'RFC', 'max_depth': 9, 'criterion': 'entropy', 'min_impurity_decrease': 0.08048907123471792, 'min_samples_leaf': 0.07247603267558793}\n",
      "param: {'model': 'RFC', 'max_depth': 9, 'criterion': 'gini', 'min_impurity_decrease': 0.09193227876224479, 'min_samples_leaf': 0.061545996798817136}\n",
      "param: {'model': 'GBC', 'max_depth': 1, 'criterion': 'mae', 'min_impurity_decrease': 0.035324128602705805, 'min_samples_leaf': 4}\n"
     ]
    },
    {
     "name": "stderr",
     "output_type": "stream",
     "text": [
      "C:\\Users\\Asus\\anaconda3\\lib\\site-packages\\sklearn\\ensemble\\_gb.py:1118: FutureWarning: criterion='mae' was deprecated in version 0.24 and will be removed in version 1.1 (renaming of 0.26). Use criterion='friedman_mse' or 'mse' instead, as trees should use a least-square criterion in Gradient Boosting.\n",
      "  warnings.warn(\"criterion='mae' was deprecated in version 0.24 and \"\n"
     ]
    },
    {
     "name": "stdout",
     "output_type": "stream",
     "text": [
      "param: {'model': 'RFC', 'max_depth': 4, 'criterion': 'entropy', 'min_impurity_decrease': 0.0863966722037747, 'min_samples_leaf': 7}\n",
      "param: {'model': 'RFC', 'max_depth': 2, 'criterion': 'entropy', 'min_impurity_decrease': 0.026831972084402512, 'min_samples_leaf': 3}\n",
      "param: {'model': 'GBC', 'max_depth': 6, 'criterion': 'mae', 'min_impurity_decrease': 0.050477782998771537, 'min_samples_leaf': 0.08736693369585677}\n"
     ]
    },
    {
     "name": "stderr",
     "output_type": "stream",
     "text": [
      "C:\\Users\\Asus\\anaconda3\\lib\\site-packages\\sklearn\\ensemble\\_gb.py:1118: FutureWarning: criterion='mae' was deprecated in version 0.24 and will be removed in version 1.1 (renaming of 0.26). Use criterion='friedman_mse' or 'mse' instead, as trees should use a least-square criterion in Gradient Boosting.\n",
      "  warnings.warn(\"criterion='mae' was deprecated in version 0.24 and \"\n"
     ]
    },
    {
     "name": "stdout",
     "output_type": "stream",
     "text": [
      "param: {'model': 'RFC', 'max_depth': 4, 'criterion': 'gini', 'min_impurity_decrease': 0.020410011564576357, 'min_samples_leaf': 0.016794987022363917}\n",
      "param: {'model': 'GBC', 'max_depth': 10, 'criterion': 'mae', 'min_impurity_decrease': 0.004503088161940916, 'min_samples_leaf': 0.0426204195933529}\n"
     ]
    },
    {
     "name": "stderr",
     "output_type": "stream",
     "text": [
      "C:\\Users\\Asus\\anaconda3\\lib\\site-packages\\sklearn\\ensemble\\_gb.py:1118: FutureWarning: criterion='mae' was deprecated in version 0.24 and will be removed in version 1.1 (renaming of 0.26). Use criterion='friedman_mse' or 'mse' instead, as trees should use a least-square criterion in Gradient Boosting.\n",
      "  warnings.warn(\"criterion='mae' was deprecated in version 0.24 and \"\n"
     ]
    },
    {
     "name": "stdout",
     "output_type": "stream",
     "text": [
      "param: {'model': 'RFC', 'max_depth': 3, 'criterion': 'entropy', 'min_impurity_decrease': 0.07368112532293296, 'min_samples_leaf': 0.016934675938351695}\n",
      "param: {'model': 'GBC', 'max_depth': 8, 'criterion': 'friedman_mse', 'min_impurity_decrease': 0.03362127725055929, 'min_samples_leaf': 6}\n",
      "param: {'model': 'GBC', 'max_depth': 1, 'criterion': 'mae', 'min_impurity_decrease': 0.06770916871098977, 'min_samples_leaf': 17}\n"
     ]
    },
    {
     "name": "stderr",
     "output_type": "stream",
     "text": [
      "C:\\Users\\Asus\\anaconda3\\lib\\site-packages\\sklearn\\ensemble\\_gb.py:1118: FutureWarning: criterion='mae' was deprecated in version 0.24 and will be removed in version 1.1 (renaming of 0.26). Use criterion='friedman_mse' or 'mse' instead, as trees should use a least-square criterion in Gradient Boosting.\n",
      "  warnings.warn(\"criterion='mae' was deprecated in version 0.24 and \"\n"
     ]
    },
    {
     "name": "stdout",
     "output_type": "stream",
     "text": [
      "param: {'model': 'GBC', 'max_depth': 10, 'criterion': 'friedman_mse', 'min_impurity_decrease': 0.04831794757959327, 'min_samples_leaf': 7}\n",
      "param: {'model': 'GBC', 'max_depth': 2, 'criterion': 'mae', 'min_impurity_decrease': 0.09428754266063151, 'min_samples_leaf': 0.0795395755733944}\n"
     ]
    },
    {
     "name": "stderr",
     "output_type": "stream",
     "text": [
      "C:\\Users\\Asus\\anaconda3\\lib\\site-packages\\sklearn\\ensemble\\_gb.py:1118: FutureWarning: criterion='mae' was deprecated in version 0.24 and will be removed in version 1.1 (renaming of 0.26). Use criterion='friedman_mse' or 'mse' instead, as trees should use a least-square criterion in Gradient Boosting.\n",
      "  warnings.warn(\"criterion='mae' was deprecated in version 0.24 and \"\n"
     ]
    },
    {
     "name": "stdout",
     "output_type": "stream",
     "text": [
      "param: {'model': 'RFC', 'max_depth': 10, 'criterion': 'gini', 'min_impurity_decrease': 0.013279882910072528, 'min_samples_leaf': 0.08297135881349951}\n",
      "param: {'model': 'GBC', 'max_depth': 4, 'criterion': 'friedman_mse', 'min_impurity_decrease': 0.005174591090870384, 'min_samples_leaf': 16}\n",
      "param: {'model': 'RFC', 'max_depth': 5, 'criterion': 'gini', 'min_impurity_decrease': 0.04034261232625526, 'min_samples_leaf': 0.05146128345274829}\n",
      "param: {'model': 'RFC', 'max_depth': 10, 'criterion': 'entropy', 'min_impurity_decrease': 0.04917205243528113, 'min_samples_leaf': 0.03213788764046457}\n",
      "param: {'model': 'RFC', 'max_depth': 6, 'criterion': 'gini', 'min_impurity_decrease': 0.06398331012598099, 'min_samples_leaf': 0.052767551008692515}\n",
      "param: {'model': 'RFC', 'max_depth': 9, 'criterion': 'entropy', 'min_impurity_decrease': 0.03646216551138091, 'min_samples_leaf': 0.057391204220525995}\n",
      "param: {'model': 'GBC', 'max_depth': 3, 'criterion': 'mae', 'min_impurity_decrease': 0.05313601239871426, 'min_samples_leaf': 0.08353196945448219}\n"
     ]
    },
    {
     "name": "stderr",
     "output_type": "stream",
     "text": [
      "C:\\Users\\Asus\\anaconda3\\lib\\site-packages\\sklearn\\ensemble\\_gb.py:1118: FutureWarning: criterion='mae' was deprecated in version 0.24 and will be removed in version 1.1 (renaming of 0.26). Use criterion='friedman_mse' or 'mse' instead, as trees should use a least-square criterion in Gradient Boosting.\n",
      "  warnings.warn(\"criterion='mae' was deprecated in version 0.24 and \"\n"
     ]
    },
    {
     "name": "stdout",
     "output_type": "stream",
     "text": [
      "param: {'model': 'RFC', 'max_depth': 10, 'criterion': 'gini', 'min_impurity_decrease': 0.09615378879112615, 'min_samples_leaf': 12}\n",
      "param: {'model': 'GBC', 'max_depth': 3, 'criterion': 'mae', 'min_impurity_decrease': 0.027245228878777884, 'min_samples_leaf': 0.02352017579350596}\n"
     ]
    },
    {
     "name": "stderr",
     "output_type": "stream",
     "text": [
      "C:\\Users\\Asus\\anaconda3\\lib\\site-packages\\sklearn\\ensemble\\_gb.py:1118: FutureWarning: criterion='mae' was deprecated in version 0.24 and will be removed in version 1.1 (renaming of 0.26). Use criterion='friedman_mse' or 'mse' instead, as trees should use a least-square criterion in Gradient Boosting.\n",
      "  warnings.warn(\"criterion='mae' was deprecated in version 0.24 and \"\n"
     ]
    },
    {
     "name": "stdout",
     "output_type": "stream",
     "text": [
      "param: {'model': 'GBC', 'max_depth': 5, 'criterion': 'mae', 'min_impurity_decrease': 0.04587859031575141, 'min_samples_leaf': 17}\n"
     ]
    },
    {
     "name": "stderr",
     "output_type": "stream",
     "text": [
      "C:\\Users\\Asus\\anaconda3\\lib\\site-packages\\sklearn\\ensemble\\_gb.py:1118: FutureWarning: criterion='mae' was deprecated in version 0.24 and will be removed in version 1.1 (renaming of 0.26). Use criterion='friedman_mse' or 'mse' instead, as trees should use a least-square criterion in Gradient Boosting.\n",
      "  warnings.warn(\"criterion='mae' was deprecated in version 0.24 and \"\n"
     ]
    },
    {
     "name": "stdout",
     "output_type": "stream",
     "text": [
      "param: {'model': 'RFC', 'max_depth': 6, 'criterion': 'gini', 'min_impurity_decrease': 0.09355461116972902, 'min_samples_leaf': 0.060936290592030116}\n",
      "param: {'model': 'GBC', 'max_depth': 4, 'criterion': 'mae', 'min_impurity_decrease': 0.08942085448921089, 'min_samples_leaf': 18}\n"
     ]
    },
    {
     "name": "stderr",
     "output_type": "stream",
     "text": [
      "C:\\Users\\Asus\\anaconda3\\lib\\site-packages\\sklearn\\ensemble\\_gb.py:1118: FutureWarning: criterion='mae' was deprecated in version 0.24 and will be removed in version 1.1 (renaming of 0.26). Use criterion='friedman_mse' or 'mse' instead, as trees should use a least-square criterion in Gradient Boosting.\n",
      "  warnings.warn(\"criterion='mae' was deprecated in version 0.24 and \"\n"
     ]
    },
    {
     "name": "stdout",
     "output_type": "stream",
     "text": [
      "param: {'model': 'RFC', 'max_depth': 5, 'criterion': 'gini', 'min_impurity_decrease': 0.009223448752217523, 'min_samples_leaf': 0.06158967218724963}\n",
      "param: {'model': 'GBC', 'max_depth': 5, 'criterion': 'mae', 'min_impurity_decrease': 0.025429519136002377, 'min_samples_leaf': 4}\n"
     ]
    },
    {
     "name": "stderr",
     "output_type": "stream",
     "text": [
      "C:\\Users\\Asus\\anaconda3\\lib\\site-packages\\sklearn\\ensemble\\_gb.py:1118: FutureWarning: criterion='mae' was deprecated in version 0.24 and will be removed in version 1.1 (renaming of 0.26). Use criterion='friedman_mse' or 'mse' instead, as trees should use a least-square criterion in Gradient Boosting.\n",
      "  warnings.warn(\"criterion='mae' was deprecated in version 0.24 and \"\n"
     ]
    },
    {
     "name": "stdout",
     "output_type": "stream",
     "text": [
      "param: {'model': 'RFC', 'max_depth': 3, 'criterion': 'entropy', 'min_impurity_decrease': 0.03253643133366811, 'min_samples_leaf': 7}\n",
      "param: {'model': 'RFC', 'max_depth': 9, 'criterion': 'entropy', 'min_impurity_decrease': 0.04212942279957008, 'min_samples_leaf': 15}\n",
      "param: {'model': 'GBC', 'max_depth': 5, 'criterion': 'friedman_mse', 'min_impurity_decrease': 0.09133593454821634, 'min_samples_leaf': 17}\n",
      "param: {'model': 'RFC', 'max_depth': 2, 'criterion': 'gini', 'min_impurity_decrease': 0.09581514104818907, 'min_samples_leaf': 0.03425891970526947}\n",
      "param: {'model': 'GBC', 'max_depth': 4, 'criterion': 'mae', 'min_impurity_decrease': 0.07711174332530149, 'min_samples_leaf': 6}\n"
     ]
    },
    {
     "name": "stderr",
     "output_type": "stream",
     "text": [
      "C:\\Users\\Asus\\anaconda3\\lib\\site-packages\\sklearn\\ensemble\\_gb.py:1118: FutureWarning: criterion='mae' was deprecated in version 0.24 and will be removed in version 1.1 (renaming of 0.26). Use criterion='friedman_mse' or 'mse' instead, as trees should use a least-square criterion in Gradient Boosting.\n",
      "  warnings.warn(\"criterion='mae' was deprecated in version 0.24 and \"\n"
     ]
    },
    {
     "name": "stdout",
     "output_type": "stream",
     "text": [
      "param: {'model': 'RFC', 'max_depth': 4, 'criterion': 'gini', 'min_impurity_decrease': 0.08883011389066076, 'min_samples_leaf': 19}\n",
      "param: {'model': 'GBC', 'max_depth': 5, 'criterion': 'friedman_mse', 'min_impurity_decrease': 0.07590440337844669, 'min_samples_leaf': 20}\n",
      "param: {'model': 'RFC', 'max_depth': 1, 'criterion': 'entropy', 'min_impurity_decrease': 0.0276272684660377, 'min_samples_leaf': 0.07646410611954774}\n",
      "param: {'model': 'RFC', 'max_depth': 1, 'criterion': 'entropy', 'min_impurity_decrease': 0.01760807048797406, 'min_samples_leaf': 4}\n",
      "param: {'model': 'RFC', 'max_depth': 6, 'criterion': 'entropy', 'min_impurity_decrease': 0.09351680403628929, 'min_samples_leaf': 13}\n",
      "param: {'model': 'RFC', 'max_depth': 6, 'criterion': 'entropy', 'min_impurity_decrease': 0.019760663558304692, 'min_samples_leaf': 0.09464468923672359}\n",
      "param: {'model': 'GBC', 'max_depth': 4, 'criterion': 'mae', 'min_impurity_decrease': 0.08404147271570743, 'min_samples_leaf': 0.02668490870203789}\n"
     ]
    },
    {
     "name": "stderr",
     "output_type": "stream",
     "text": [
      "C:\\Users\\Asus\\anaconda3\\lib\\site-packages\\sklearn\\ensemble\\_gb.py:1118: FutureWarning: criterion='mae' was deprecated in version 0.24 and will be removed in version 1.1 (renaming of 0.26). Use criterion='friedman_mse' or 'mse' instead, as trees should use a least-square criterion in Gradient Boosting.\n",
      "  warnings.warn(\"criterion='mae' was deprecated in version 0.24 and \"\n"
     ]
    },
    {
     "name": "stdout",
     "output_type": "stream",
     "text": [
      "param: {'model': 'RFC', 'max_depth': 7, 'criterion': 'gini', 'min_impurity_decrease': 0.08392585484235923, 'min_samples_leaf': 4}\n",
      "param: {'model': 'GBC', 'max_depth': 5, 'criterion': 'mae', 'min_impurity_decrease': 0.09894129644230096, 'min_samples_leaf': 15}\n"
     ]
    },
    {
     "name": "stderr",
     "output_type": "stream",
     "text": [
      "C:\\Users\\Asus\\anaconda3\\lib\\site-packages\\sklearn\\ensemble\\_gb.py:1118: FutureWarning: criterion='mae' was deprecated in version 0.24 and will be removed in version 1.1 (renaming of 0.26). Use criterion='friedman_mse' or 'mse' instead, as trees should use a least-square criterion in Gradient Boosting.\n",
      "  warnings.warn(\"criterion='mae' was deprecated in version 0.24 and \"\n"
     ]
    },
    {
     "name": "stdout",
     "output_type": "stream",
     "text": [
      "param: {'model': 'RFC', 'max_depth': 10, 'criterion': 'gini', 'min_impurity_decrease': 0.06712476012740766, 'min_samples_leaf': 13}\n",
      "param: {'model': 'RFC', 'max_depth': 5, 'criterion': 'entropy', 'min_impurity_decrease': 0.08888816338716621, 'min_samples_leaf': 0.016248922624133966}\n",
      "param: {'model': 'RFC', 'max_depth': 1, 'criterion': 'gini', 'min_impurity_decrease': 0.01079747136621625, 'min_samples_leaf': 6}\n",
      "param: {'model': 'RFC', 'max_depth': 4, 'criterion': 'entropy', 'min_impurity_decrease': 0.014350534043386775, 'min_samples_leaf': 2}\n",
      "param: {'model': 'RFC', 'max_depth': 8, 'criterion': 'gini', 'min_impurity_decrease': 0.08794046014802606, 'min_samples_leaf': 2}\n",
      "param: {'model': 'RFC', 'max_depth': 3, 'criterion': 'entropy', 'min_impurity_decrease': 0.08692515113708438, 'min_samples_leaf': 0.0051523715710279135}\n",
      "param: {'model': 'GBC', 'max_depth': 9, 'criterion': 'friedman_mse', 'min_impurity_decrease': 0.09708505096492442, 'min_samples_leaf': 0.07521030220786637}\n",
      "param: {'model': 'RFC', 'max_depth': 5, 'criterion': 'gini', 'min_impurity_decrease': 0.03888556568716267, 'min_samples_leaf': 9}\n",
      "\n",
      "\n",
      "\n",
      "GEN 2:\n",
      "param: {'model': 'RFC', 'max_depth': 8, 'criterion': 'gini', 'min_impurity_decrease': 0.05206795518981237, 'min_samples_leaf': 0.042347291673328416}\n",
      "param: {'model': 'RFC', 'max_depth': 1, 'criterion': 'gini', 'min_impurity_decrease': 0.04317641250300689, 'min_samples_leaf': 3.933259075699081e-05}\n",
      "param: {'model': 'RFC', 'max_depth': 2, 'criterion': 'gini', 'min_impurity_decrease': 0.07844635410960779, 'min_samples_leaf': 0.09215138284617223}\n",
      "param: {'model': 'GBC', 'max_depth': 9, 'criterion': 'mae', 'min_impurity_decrease': 0.09885327070259844, 'min_samples_leaf': 0.012235333519545644}\n"
     ]
    },
    {
     "name": "stderr",
     "output_type": "stream",
     "text": [
      "C:\\Users\\Asus\\anaconda3\\lib\\site-packages\\sklearn\\ensemble\\_gb.py:1118: FutureWarning: criterion='mae' was deprecated in version 0.24 and will be removed in version 1.1 (renaming of 0.26). Use criterion='friedman_mse' or 'mse' instead, as trees should use a least-square criterion in Gradient Boosting.\n",
      "  warnings.warn(\"criterion='mae' was deprecated in version 0.24 and \"\n"
     ]
    },
    {
     "name": "stdout",
     "output_type": "stream",
     "text": [
      "param: {'model': 'RFC', 'max_depth': 7, 'criterion': 'entropy', 'min_impurity_decrease': 0.08275200365616406, 'min_samples_leaf': 10}\n",
      "param: {'model': 'RFC', 'max_depth': 3, 'criterion': 'entropy', 'min_impurity_decrease': 0.018904333492100835, 'min_samples_leaf': 17}\n",
      "param: {'model': 'RFC', 'max_depth': 5, 'criterion': 'gini', 'min_impurity_decrease': 0.05378933098137001, 'min_samples_leaf': 13}\n",
      "param: {'model': 'GBC', 'max_depth': 6, 'criterion': 'mae', 'min_impurity_decrease': 0.07865620857962323, 'min_samples_leaf': 0.003479588697170577}\n"
     ]
    },
    {
     "name": "stderr",
     "output_type": "stream",
     "text": [
      "C:\\Users\\Asus\\anaconda3\\lib\\site-packages\\sklearn\\ensemble\\_gb.py:1118: FutureWarning: criterion='mae' was deprecated in version 0.24 and will be removed in version 1.1 (renaming of 0.26). Use criterion='friedman_mse' or 'mse' instead, as trees should use a least-square criterion in Gradient Boosting.\n",
      "  warnings.warn(\"criterion='mae' was deprecated in version 0.24 and \"\n"
     ]
    },
    {
     "name": "stdout",
     "output_type": "stream",
     "text": [
      "param: {'model': 'RFC', 'max_depth': 3, 'criterion': 'entropy', 'min_impurity_decrease': 0.010401858425894084, 'min_samples_leaf': 0.06783507354779879}\n",
      "param: {'model': 'GBC', 'max_depth': 1, 'criterion': 'mae', 'min_impurity_decrease': 0.014030247083456116, 'min_samples_leaf': 2}\n"
     ]
    },
    {
     "name": "stderr",
     "output_type": "stream",
     "text": [
      "C:\\Users\\Asus\\anaconda3\\lib\\site-packages\\sklearn\\ensemble\\_gb.py:1118: FutureWarning: criterion='mae' was deprecated in version 0.24 and will be removed in version 1.1 (renaming of 0.26). Use criterion='friedman_mse' or 'mse' instead, as trees should use a least-square criterion in Gradient Boosting.\n",
      "  warnings.warn(\"criterion='mae' was deprecated in version 0.24 and \"\n"
     ]
    },
    {
     "name": "stdout",
     "output_type": "stream",
     "text": [
      "param: {'model': 'GBC', 'max_depth': 4, 'criterion': 'friedman_mse', 'min_impurity_decrease': 0.07004518409741259, 'min_samples_leaf': 0.08284370374470876}\n",
      "param: {'model': 'RFC', 'max_depth': 8, 'criterion': 'gini', 'min_impurity_decrease': 0.024511277414069443, 'min_samples_leaf': 0.011365843811333909}\n",
      "param: {'model': 'GBC', 'max_depth': 5, 'criterion': 'mae', 'min_impurity_decrease': 0.06420594902213822, 'min_samples_leaf': 0.07216688268048904}\n"
     ]
    },
    {
     "name": "stderr",
     "output_type": "stream",
     "text": [
      "C:\\Users\\Asus\\anaconda3\\lib\\site-packages\\sklearn\\ensemble\\_gb.py:1118: FutureWarning: criterion='mae' was deprecated in version 0.24 and will be removed in version 1.1 (renaming of 0.26). Use criterion='friedman_mse' or 'mse' instead, as trees should use a least-square criterion in Gradient Boosting.\n",
      "  warnings.warn(\"criterion='mae' was deprecated in version 0.24 and \"\n"
     ]
    },
    {
     "name": "stdout",
     "output_type": "stream",
     "text": [
      "param: {'model': 'RFC', 'max_depth': 8, 'criterion': 'entropy', 'min_impurity_decrease': 0.05361269617964124, 'min_samples_leaf': 9}\n",
      "param: {'model': 'RFC', 'max_depth': 8, 'criterion': 'entropy', 'min_impurity_decrease': 0.07365069492029572, 'min_samples_leaf': 0.01800539693100466}\n",
      "param: {'model': 'RFC', 'max_depth': 2, 'criterion': 'gini', 'min_impurity_decrease': 0.05992063772197222, 'min_samples_leaf': 18}\n",
      "param: {'model': 'RFC', 'max_depth': 10, 'criterion': 'entropy', 'min_impurity_decrease': 0.037029574127614, 'min_samples_leaf': 0.07481523251451656}\n",
      "param: {'model': 'RFC', 'max_depth': 5, 'criterion': 'entropy', 'min_impurity_decrease': 0.033644218484520386, 'min_samples_leaf': 19}\n",
      "param: {'model': 'GBC', 'max_depth': 6, 'criterion': 'friedman_mse', 'min_impurity_decrease': 0.08041775305011287, 'min_samples_leaf': 0.04470388712292476}\n",
      "param: {'model': 'RFC', 'max_depth': 3, 'criterion': 'entropy', 'min_impurity_decrease': 0.03897285758281963, 'min_samples_leaf': 1}\n",
      "param: {'model': 'GBC', 'max_depth': 7, 'criterion': 'friedman_mse', 'min_impurity_decrease': 0.04010417248271934, 'min_samples_leaf': 0.05483935228876169}\n",
      "param: {'model': 'GBC', 'max_depth': 9, 'criterion': 'mae', 'min_impurity_decrease': 0.05299389548574105, 'min_samples_leaf': 5}\n"
     ]
    },
    {
     "name": "stderr",
     "output_type": "stream",
     "text": [
      "C:\\Users\\Asus\\anaconda3\\lib\\site-packages\\sklearn\\ensemble\\_gb.py:1118: FutureWarning: criterion='mae' was deprecated in version 0.24 and will be removed in version 1.1 (renaming of 0.26). Use criterion='friedman_mse' or 'mse' instead, as trees should use a least-square criterion in Gradient Boosting.\n",
      "  warnings.warn(\"criterion='mae' was deprecated in version 0.24 and \"\n"
     ]
    },
    {
     "name": "stdout",
     "output_type": "stream",
     "text": [
      "param: {'model': 'RFC', 'max_depth': 4, 'criterion': 'entropy', 'min_impurity_decrease': 0.006843309771286022, 'min_samples_leaf': 13}\n",
      "param: {'model': 'GBC', 'max_depth': 5, 'criterion': 'friedman_mse', 'min_impurity_decrease': 0.0351922613744601, 'min_samples_leaf': 0.045079046281385114}\n",
      "param: {'model': 'RFC', 'max_depth': 2, 'criterion': 'entropy', 'min_impurity_decrease': 0.025819863852279256, 'min_samples_leaf': 0.0025218655148053657}\n",
      "param: {'model': 'GBC', 'max_depth': 8, 'criterion': 'friedman_mse', 'min_impurity_decrease': 0.08076195171212665, 'min_samples_leaf': 1}\n",
      "param: {'model': 'GBC', 'max_depth': 6, 'criterion': 'mae', 'min_impurity_decrease': 0.00921704472363193, 'min_samples_leaf': 0.05318923313637465}\n"
     ]
    },
    {
     "name": "stderr",
     "output_type": "stream",
     "text": [
      "C:\\Users\\Asus\\anaconda3\\lib\\site-packages\\sklearn\\ensemble\\_gb.py:1118: FutureWarning: criterion='mae' was deprecated in version 0.24 and will be removed in version 1.1 (renaming of 0.26). Use criterion='friedman_mse' or 'mse' instead, as trees should use a least-square criterion in Gradient Boosting.\n",
      "  warnings.warn(\"criterion='mae' was deprecated in version 0.24 and \"\n"
     ]
    },
    {
     "name": "stdout",
     "output_type": "stream",
     "text": [
      "param: {'model': 'GBC', 'max_depth': 10, 'criterion': 'friedman_mse', 'min_impurity_decrease': 0.04130439153496701, 'min_samples_leaf': 11}\n",
      "param: {'model': 'GBC', 'max_depth': 1, 'criterion': 'mae', 'min_impurity_decrease': 0.051134552053791846, 'min_samples_leaf': 14}\n"
     ]
    },
    {
     "name": "stderr",
     "output_type": "stream",
     "text": [
      "C:\\Users\\Asus\\anaconda3\\lib\\site-packages\\sklearn\\ensemble\\_gb.py:1118: FutureWarning: criterion='mae' was deprecated in version 0.24 and will be removed in version 1.1 (renaming of 0.26). Use criterion='friedman_mse' or 'mse' instead, as trees should use a least-square criterion in Gradient Boosting.\n",
      "  warnings.warn(\"criterion='mae' was deprecated in version 0.24 and \"\n"
     ]
    },
    {
     "name": "stdout",
     "output_type": "stream",
     "text": [
      "param: {'model': 'RFC', 'max_depth': 5, 'criterion': 'entropy', 'min_impurity_decrease': 0.0009100358444525947, 'min_samples_leaf': 0.06073065806821217}\n",
      "param: {'model': 'RFC', 'max_depth': 10, 'criterion': 'entropy', 'min_impurity_decrease': 0.09410485618218334, 'min_samples_leaf': 0.018605447433783794}\n",
      "param: {'model': 'GBC', 'max_depth': 9, 'criterion': 'mae', 'min_impurity_decrease': 0.017669507825293484, 'min_samples_leaf': 8}\n"
     ]
    },
    {
     "name": "stderr",
     "output_type": "stream",
     "text": [
      "C:\\Users\\Asus\\anaconda3\\lib\\site-packages\\sklearn\\ensemble\\_gb.py:1118: FutureWarning: criterion='mae' was deprecated in version 0.24 and will be removed in version 1.1 (renaming of 0.26). Use criterion='friedman_mse' or 'mse' instead, as trees should use a least-square criterion in Gradient Boosting.\n",
      "  warnings.warn(\"criterion='mae' was deprecated in version 0.24 and \"\n"
     ]
    },
    {
     "name": "stdout",
     "output_type": "stream",
     "text": [
      "param: {'model': 'RFC', 'max_depth': 3, 'criterion': 'gini', 'min_impurity_decrease': 0.06856996212033509, 'min_samples_leaf': 19}\n",
      "param: {'model': 'GBC', 'max_depth': 4, 'criterion': 'friedman_mse', 'min_impurity_decrease': 0.006164777905273156, 'min_samples_leaf': 15}\n",
      "param: {'model': 'RFC', 'max_depth': 9, 'criterion': 'gini', 'min_impurity_decrease': 0.07916386991347656, 'min_samples_leaf': 0.0028527396473421395}\n",
      "param: {'model': 'GBC', 'max_depth': 9, 'criterion': 'mae', 'min_impurity_decrease': 0.032601338072125285, 'min_samples_leaf': 15}\n"
     ]
    },
    {
     "name": "stderr",
     "output_type": "stream",
     "text": [
      "C:\\Users\\Asus\\anaconda3\\lib\\site-packages\\sklearn\\ensemble\\_gb.py:1118: FutureWarning: criterion='mae' was deprecated in version 0.24 and will be removed in version 1.1 (renaming of 0.26). Use criterion='friedman_mse' or 'mse' instead, as trees should use a least-square criterion in Gradient Boosting.\n",
      "  warnings.warn(\"criterion='mae' was deprecated in version 0.24 and \"\n"
     ]
    },
    {
     "name": "stdout",
     "output_type": "stream",
     "text": [
      "param: {'model': 'GBC', 'max_depth': 10, 'criterion': 'mae', 'min_impurity_decrease': 0.028074349161045443, 'min_samples_leaf': 14}\n"
     ]
    },
    {
     "name": "stderr",
     "output_type": "stream",
     "text": [
      "C:\\Users\\Asus\\anaconda3\\lib\\site-packages\\sklearn\\ensemble\\_gb.py:1118: FutureWarning: criterion='mae' was deprecated in version 0.24 and will be removed in version 1.1 (renaming of 0.26). Use criterion='friedman_mse' or 'mse' instead, as trees should use a least-square criterion in Gradient Boosting.\n",
      "  warnings.warn(\"criterion='mae' was deprecated in version 0.24 and \"\n"
     ]
    },
    {
     "name": "stdout",
     "output_type": "stream",
     "text": [
      "param: {'model': 'GBC', 'max_depth': 9, 'criterion': 'friedman_mse', 'min_impurity_decrease': 0.09782441765152958, 'min_samples_leaf': 6.239628407778142e-06}\n",
      "param: {'model': 'RFC', 'max_depth': 7, 'criterion': 'entropy', 'min_impurity_decrease': 0.053135506749070006, 'min_samples_leaf': 12}\n",
      "param: {'model': 'GBC', 'max_depth': 3, 'criterion': 'friedman_mse', 'min_impurity_decrease': 0.08891775740929234, 'min_samples_leaf': 1}\n",
      "param: {'model': 'GBC', 'max_depth': 9, 'criterion': 'friedman_mse', 'min_impurity_decrease': 0.08314788059640232, 'min_samples_leaf': 13}\n",
      "param: {'model': 'RFC', 'max_depth': 9, 'criterion': 'gini', 'min_impurity_decrease': 0.005013793413319256, 'min_samples_leaf': 0.028150766499790824}\n",
      "param: {'model': 'GBC', 'max_depth': 6, 'criterion': 'friedman_mse', 'min_impurity_decrease': 0.01732524280908867, 'min_samples_leaf': 0.04529814036206405}\n",
      "param: {'model': 'RFC', 'max_depth': 9, 'criterion': 'gini', 'min_impurity_decrease': 0.026243045130343746, 'min_samples_leaf': 13}\n",
      "param: {'model': 'GBC', 'max_depth': 1, 'criterion': 'mae', 'min_impurity_decrease': 0.0046650205680515925, 'min_samples_leaf': 1}\n"
     ]
    },
    {
     "name": "stderr",
     "output_type": "stream",
     "text": [
      "C:\\Users\\Asus\\anaconda3\\lib\\site-packages\\sklearn\\ensemble\\_gb.py:1118: FutureWarning: criterion='mae' was deprecated in version 0.24 and will be removed in version 1.1 (renaming of 0.26). Use criterion='friedman_mse' or 'mse' instead, as trees should use a least-square criterion in Gradient Boosting.\n",
      "  warnings.warn(\"criterion='mae' was deprecated in version 0.24 and \"\n"
     ]
    },
    {
     "name": "stdout",
     "output_type": "stream",
     "text": [
      "param: {'model': 'RFC', 'max_depth': 2, 'criterion': 'entropy', 'min_impurity_decrease': 0.07893229008467256, 'min_samples_leaf': 0.05682472795257857}\n",
      "param: {'model': 'RFC', 'max_depth': 3, 'criterion': 'gini', 'min_impurity_decrease': 0.028518118316533937, 'min_samples_leaf': 0.03840696672803383}\n",
      "param: {'model': 'GBC', 'max_depth': 5, 'criterion': 'friedman_mse', 'min_impurity_decrease': 0.04645371982189543, 'min_samples_leaf': 0.07741993755237}\n",
      "param: {'model': 'RFC', 'max_depth': 4, 'criterion': 'gini', 'min_impurity_decrease': 0.09656167255023476, 'min_samples_leaf': 20}\n",
      "param: {'model': 'GBC', 'max_depth': 6, 'criterion': 'mae', 'min_impurity_decrease': 0.06316773850415898, 'min_samples_leaf': 0.009624358132721157}\n"
     ]
    },
    {
     "name": "stderr",
     "output_type": "stream",
     "text": [
      "C:\\Users\\Asus\\anaconda3\\lib\\site-packages\\sklearn\\ensemble\\_gb.py:1118: FutureWarning: criterion='mae' was deprecated in version 0.24 and will be removed in version 1.1 (renaming of 0.26). Use criterion='friedman_mse' or 'mse' instead, as trees should use a least-square criterion in Gradient Boosting.\n",
      "  warnings.warn(\"criterion='mae' was deprecated in version 0.24 and \"\n"
     ]
    },
    {
     "name": "stdout",
     "output_type": "stream",
     "text": [
      "param: {'model': 'RFC', 'max_depth': 5, 'criterion': 'gini', 'min_impurity_decrease': 0.047104484229768886, 'min_samples_leaf': 0.0033373629324367827}\n",
      "param: {'model': 'GBC', 'max_depth': 1, 'criterion': 'mae', 'min_impurity_decrease': 0.005468318329459832, 'min_samples_leaf': 14}\n"
     ]
    },
    {
     "name": "stderr",
     "output_type": "stream",
     "text": [
      "C:\\Users\\Asus\\anaconda3\\lib\\site-packages\\sklearn\\ensemble\\_gb.py:1118: FutureWarning: criterion='mae' was deprecated in version 0.24 and will be removed in version 1.1 (renaming of 0.26). Use criterion='friedman_mse' or 'mse' instead, as trees should use a least-square criterion in Gradient Boosting.\n",
      "  warnings.warn(\"criterion='mae' was deprecated in version 0.24 and \"\n"
     ]
    },
    {
     "name": "stdout",
     "output_type": "stream",
     "text": [
      "param: {'model': 'GBC', 'max_depth': 3, 'criterion': 'mae', 'min_impurity_decrease': 0.0365474355640377, 'min_samples_leaf': 14}\n"
     ]
    },
    {
     "name": "stderr",
     "output_type": "stream",
     "text": [
      "C:\\Users\\Asus\\anaconda3\\lib\\site-packages\\sklearn\\ensemble\\_gb.py:1118: FutureWarning: criterion='mae' was deprecated in version 0.24 and will be removed in version 1.1 (renaming of 0.26). Use criterion='friedman_mse' or 'mse' instead, as trees should use a least-square criterion in Gradient Boosting.\n",
      "  warnings.warn(\"criterion='mae' was deprecated in version 0.24 and \"\n"
     ]
    },
    {
     "name": "stdout",
     "output_type": "stream",
     "text": [
      "param: {'model': 'RFC', 'max_depth': 3, 'criterion': 'gini', 'min_impurity_decrease': 0.06436377325530376, 'min_samples_leaf': 0.032199256195098405}\n",
      "param: {'model': 'RFC', 'max_depth': 8, 'criterion': 'gini', 'min_impurity_decrease': 0.08792702462335614, 'min_samples_leaf': 12}\n",
      "param: {'model': 'RFC', 'max_depth': 2, 'criterion': 'entropy', 'min_impurity_decrease': 0.07459939797674789, 'min_samples_leaf': 18}\n",
      "param: {'model': 'RFC', 'max_depth': 5, 'criterion': 'entropy', 'min_impurity_decrease': 0.06366703333472938, 'min_samples_leaf': 7}\n",
      "param: {'model': 'RFC', 'max_depth': 7, 'criterion': 'entropy', 'min_impurity_decrease': 0.02814473662085093, 'min_samples_leaf': 12}\n",
      "param: {'model': 'GBC', 'max_depth': 2, 'criterion': 'friedman_mse', 'min_impurity_decrease': 0.02596129467798297, 'min_samples_leaf': 1}\n",
      "param: {'model': 'GBC', 'max_depth': 9, 'criterion': 'mae', 'min_impurity_decrease': 0.09195125623540636, 'min_samples_leaf': 13}\n"
     ]
    },
    {
     "name": "stderr",
     "output_type": "stream",
     "text": [
      "C:\\Users\\Asus\\anaconda3\\lib\\site-packages\\sklearn\\ensemble\\_gb.py:1118: FutureWarning: criterion='mae' was deprecated in version 0.24 and will be removed in version 1.1 (renaming of 0.26). Use criterion='friedman_mse' or 'mse' instead, as trees should use a least-square criterion in Gradient Boosting.\n",
      "  warnings.warn(\"criterion='mae' was deprecated in version 0.24 and \"\n"
     ]
    },
    {
     "name": "stdout",
     "output_type": "stream",
     "text": [
      "param: {'model': 'RFC', 'max_depth': 4, 'criterion': 'entropy', 'min_impurity_decrease': 0.07044162909068447, 'min_samples_leaf': 0.06322904836293843}\n",
      "param: {'model': 'GBC', 'max_depth': 6, 'criterion': 'friedman_mse', 'min_impurity_decrease': 0.0455645613387333, 'min_samples_leaf': 0.01755002955763344}\n",
      "param: {'model': 'GBC', 'max_depth': 9, 'criterion': 'mae', 'min_impurity_decrease': 0.06552161374079146, 'min_samples_leaf': 0.02203994616335936}\n"
     ]
    },
    {
     "name": "stderr",
     "output_type": "stream",
     "text": [
      "C:\\Users\\Asus\\anaconda3\\lib\\site-packages\\sklearn\\ensemble\\_gb.py:1118: FutureWarning: criterion='mae' was deprecated in version 0.24 and will be removed in version 1.1 (renaming of 0.26). Use criterion='friedman_mse' or 'mse' instead, as trees should use a least-square criterion in Gradient Boosting.\n",
      "  warnings.warn(\"criterion='mae' was deprecated in version 0.24 and \"\n"
     ]
    },
    {
     "name": "stdout",
     "output_type": "stream",
     "text": [
      "param: {'model': 'RFC', 'max_depth': 9, 'criterion': 'entropy', 'min_impurity_decrease': 0.06840875229212826, 'min_samples_leaf': 7}\n",
      "param: {'model': 'GBC', 'max_depth': 6, 'criterion': 'friedman_mse', 'min_impurity_decrease': 0.09127381507473738, 'min_samples_leaf': 0.0029305021356782813}\n",
      "param: {'model': 'GBC', 'max_depth': 9, 'criterion': 'mae', 'min_impurity_decrease': 0.07842547224460247, 'min_samples_leaf': 0.07411735789877215}\n"
     ]
    },
    {
     "name": "stderr",
     "output_type": "stream",
     "text": [
      "C:\\Users\\Asus\\anaconda3\\lib\\site-packages\\sklearn\\ensemble\\_gb.py:1118: FutureWarning: criterion='mae' was deprecated in version 0.24 and will be removed in version 1.1 (renaming of 0.26). Use criterion='friedman_mse' or 'mse' instead, as trees should use a least-square criterion in Gradient Boosting.\n",
      "  warnings.warn(\"criterion='mae' was deprecated in version 0.24 and \"\n"
     ]
    },
    {
     "name": "stdout",
     "output_type": "stream",
     "text": [
      "param: {'model': 'GBC', 'max_depth': 1, 'criterion': 'mae', 'min_impurity_decrease': 0.026462033765076554, 'min_samples_leaf': 15}\n"
     ]
    },
    {
     "name": "stderr",
     "output_type": "stream",
     "text": [
      "C:\\Users\\Asus\\anaconda3\\lib\\site-packages\\sklearn\\ensemble\\_gb.py:1118: FutureWarning: criterion='mae' was deprecated in version 0.24 and will be removed in version 1.1 (renaming of 0.26). Use criterion='friedman_mse' or 'mse' instead, as trees should use a least-square criterion in Gradient Boosting.\n",
      "  warnings.warn(\"criterion='mae' was deprecated in version 0.24 and \"\n"
     ]
    },
    {
     "name": "stdout",
     "output_type": "stream",
     "text": [
      "param: {'model': 'RFC', 'max_depth': 7, 'criterion': 'entropy', 'min_impurity_decrease': 0.06887466565348677, 'min_samples_leaf': 6}\n",
      "param: {'model': 'GBC', 'max_depth': 10, 'criterion': 'friedman_mse', 'min_impurity_decrease': 0.09758126071867236, 'min_samples_leaf': 12}\n",
      "param: {'model': 'RFC', 'max_depth': 10, 'criterion': 'gini', 'min_impurity_decrease': 0.03306371890322109, 'min_samples_leaf': 0.03928864623426663}\n",
      "param: {'model': 'RFC', 'max_depth': 1, 'criterion': 'entropy', 'min_impurity_decrease': 0.03802524374706999, 'min_samples_leaf': 0.0683362797911222}\n",
      "param: {'model': 'GBC', 'max_depth': 1, 'criterion': 'mae', 'min_impurity_decrease': 0.07572833035267154, 'min_samples_leaf': 8}\n"
     ]
    },
    {
     "name": "stderr",
     "output_type": "stream",
     "text": [
      "C:\\Users\\Asus\\anaconda3\\lib\\site-packages\\sklearn\\ensemble\\_gb.py:1118: FutureWarning: criterion='mae' was deprecated in version 0.24 and will be removed in version 1.1 (renaming of 0.26). Use criterion='friedman_mse' or 'mse' instead, as trees should use a least-square criterion in Gradient Boosting.\n",
      "  warnings.warn(\"criterion='mae' was deprecated in version 0.24 and \"\n"
     ]
    },
    {
     "name": "stdout",
     "output_type": "stream",
     "text": [
      "param: {'model': 'RFC', 'max_depth': 4, 'criterion': 'gini', 'min_impurity_decrease': 0.004320852989026469, 'min_samples_leaf': 18}\n",
      "param: {'model': 'GBC', 'max_depth': 10, 'criterion': 'friedman_mse', 'min_impurity_decrease': 0.01912167329169857, 'min_samples_leaf': 9}\n",
      "param: {'model': 'RFC', 'max_depth': 10, 'criterion': 'gini', 'min_impurity_decrease': 0.01798833997663122, 'min_samples_leaf': 3}\n",
      "param: {'model': 'GBC', 'max_depth': 6, 'criterion': 'mae', 'min_impurity_decrease': 0.0850382663055901, 'min_samples_leaf': 0.025138355645132338}\n"
     ]
    },
    {
     "name": "stderr",
     "output_type": "stream",
     "text": [
      "C:\\Users\\Asus\\anaconda3\\lib\\site-packages\\sklearn\\ensemble\\_gb.py:1118: FutureWarning: criterion='mae' was deprecated in version 0.24 and will be removed in version 1.1 (renaming of 0.26). Use criterion='friedman_mse' or 'mse' instead, as trees should use a least-square criterion in Gradient Boosting.\n",
      "  warnings.warn(\"criterion='mae' was deprecated in version 0.24 and \"\n"
     ]
    },
    {
     "name": "stdout",
     "output_type": "stream",
     "text": [
      "param: {'model': 'RFC', 'max_depth': 3, 'criterion': 'gini', 'min_impurity_decrease': 0.012269435680717289, 'min_samples_leaf': 14}\n",
      "param: {'model': 'RFC', 'max_depth': 4, 'criterion': 'entropy', 'min_impurity_decrease': 0.07327753722724352, 'min_samples_leaf': 0.03946953735298788}\n",
      "param: {'model': 'GBC', 'max_depth': 10, 'criterion': 'friedman_mse', 'min_impurity_decrease': 0.004050999361580843, 'min_samples_leaf': 0.07416357922397494}\n",
      "param: {'model': 'RFC', 'max_depth': 8, 'criterion': 'gini', 'min_impurity_decrease': 0.018301587069873247, 'min_samples_leaf': 8}\n",
      "param: {'model': 'RFC', 'max_depth': 6, 'criterion': 'gini', 'min_impurity_decrease': 0.09916496847081549, 'min_samples_leaf': 0.04383393150405431}\n",
      "param: {'model': 'GBC', 'max_depth': 6, 'criterion': 'friedman_mse', 'min_impurity_decrease': 0.04488184035530558, 'min_samples_leaf': 16}\n",
      "param: {'model': 'GBC', 'max_depth': 5, 'criterion': 'mae', 'min_impurity_decrease': 0.012932013597442438, 'min_samples_leaf': 3}\n"
     ]
    },
    {
     "name": "stderr",
     "output_type": "stream",
     "text": [
      "C:\\Users\\Asus\\anaconda3\\lib\\site-packages\\sklearn\\ensemble\\_gb.py:1118: FutureWarning: criterion='mae' was deprecated in version 0.24 and will be removed in version 1.1 (renaming of 0.26). Use criterion='friedman_mse' or 'mse' instead, as trees should use a least-square criterion in Gradient Boosting.\n",
      "  warnings.warn(\"criterion='mae' was deprecated in version 0.24 and \"\n"
     ]
    },
    {
     "name": "stdout",
     "output_type": "stream",
     "text": [
      "param: {'model': 'GBC', 'max_depth': 3, 'criterion': 'mae', 'min_impurity_decrease': 0.0580736500439763, 'min_samples_leaf': 8}\n"
     ]
    },
    {
     "name": "stderr",
     "output_type": "stream",
     "text": [
      "C:\\Users\\Asus\\anaconda3\\lib\\site-packages\\sklearn\\ensemble\\_gb.py:1118: FutureWarning: criterion='mae' was deprecated in version 0.24 and will be removed in version 1.1 (renaming of 0.26). Use criterion='friedman_mse' or 'mse' instead, as trees should use a least-square criterion in Gradient Boosting.\n",
      "  warnings.warn(\"criterion='mae' was deprecated in version 0.24 and \"\n"
     ]
    },
    {
     "name": "stdout",
     "output_type": "stream",
     "text": [
      "param: {'model': 'GBC', 'max_depth': 1, 'criterion': 'mae', 'min_impurity_decrease': 0.046309908978135604, 'min_samples_leaf': 0.00515268684457697}\n"
     ]
    },
    {
     "name": "stderr",
     "output_type": "stream",
     "text": [
      "C:\\Users\\Asus\\anaconda3\\lib\\site-packages\\sklearn\\ensemble\\_gb.py:1118: FutureWarning: criterion='mae' was deprecated in version 0.24 and will be removed in version 1.1 (renaming of 0.26). Use criterion='friedman_mse' or 'mse' instead, as trees should use a least-square criterion in Gradient Boosting.\n",
      "  warnings.warn(\"criterion='mae' was deprecated in version 0.24 and \"\n"
     ]
    },
    {
     "name": "stdout",
     "output_type": "stream",
     "text": [
      "param: {'model': 'RFC', 'max_depth': 7, 'criterion': 'gini', 'min_impurity_decrease': 0.08592041407671511, 'min_samples_leaf': 0.05611920223879217}\n",
      "param: {'model': 'GBC', 'max_depth': 3, 'criterion': 'friedman_mse', 'min_impurity_decrease': 0.014829342154513658, 'min_samples_leaf': 2}\n",
      "param: {'model': 'GBC', 'max_depth': 8, 'criterion': 'mae', 'min_impurity_decrease': 0.08669457342002583, 'min_samples_leaf': 18}\n"
     ]
    },
    {
     "name": "stderr",
     "output_type": "stream",
     "text": [
      "C:\\Users\\Asus\\anaconda3\\lib\\site-packages\\sklearn\\ensemble\\_gb.py:1118: FutureWarning: criterion='mae' was deprecated in version 0.24 and will be removed in version 1.1 (renaming of 0.26). Use criterion='friedman_mse' or 'mse' instead, as trees should use a least-square criterion in Gradient Boosting.\n",
      "  warnings.warn(\"criterion='mae' was deprecated in version 0.24 and \"\n"
     ]
    },
    {
     "name": "stdout",
     "output_type": "stream",
     "text": [
      "param: {'model': 'RFC', 'max_depth': 4, 'criterion': 'gini', 'min_impurity_decrease': 0.045890455374495445, 'min_samples_leaf': 19}\n",
      "param: {'model': 'RFC', 'max_depth': 1, 'criterion': 'gini', 'min_impurity_decrease': 0.020747747903182467, 'min_samples_leaf': 0.001400352020185469}\n",
      "\n",
      "\n",
      "\n",
      "GEN 3:\n",
      "param: {'model': 'GBC', 'max_depth': 9, 'criterion': 'friedman_mse', 'min_impurity_decrease': 0.005740134809974018, 'min_samples_leaf': 17}\n",
      "param: {'model': 'RFC', 'max_depth': 5, 'criterion': 'entropy', 'min_impurity_decrease': 0.09697482668949284, 'min_samples_leaf': 0.09557057920811493}\n",
      "param: {'model': 'RFC', 'max_depth': 7, 'criterion': 'entropy', 'min_impurity_decrease': 0.09436772974928218, 'min_samples_leaf': 0.06858442839077925}\n",
      "param: {'model': 'GBC', 'max_depth': 5, 'criterion': 'friedman_mse', 'min_impurity_decrease': 0.08401912662641112, 'min_samples_leaf': 0.06061070074827342}\n",
      "param: {'model': 'GBC', 'max_depth': 8, 'criterion': 'mae', 'min_impurity_decrease': 0.08509213377317645, 'min_samples_leaf': 0.09579174689717454}\n"
     ]
    },
    {
     "name": "stderr",
     "output_type": "stream",
     "text": [
      "C:\\Users\\Asus\\anaconda3\\lib\\site-packages\\sklearn\\ensemble\\_gb.py:1118: FutureWarning: criterion='mae' was deprecated in version 0.24 and will be removed in version 1.1 (renaming of 0.26). Use criterion='friedman_mse' or 'mse' instead, as trees should use a least-square criterion in Gradient Boosting.\n",
      "  warnings.warn(\"criterion='mae' was deprecated in version 0.24 and \"\n"
     ]
    },
    {
     "name": "stdout",
     "output_type": "stream",
     "text": [
      "param: {'model': 'RFC', 'max_depth': 2, 'criterion': 'entropy', 'min_impurity_decrease': 0.09431902297720281, 'min_samples_leaf': 0.042904575020885925}\n",
      "param: {'model': 'RFC', 'max_depth': 4, 'criterion': 'entropy', 'min_impurity_decrease': 0.06363530867024528, 'min_samples_leaf': 0.04955324702012798}\n",
      "param: {'model': 'GBC', 'max_depth': 3, 'criterion': 'mae', 'min_impurity_decrease': 0.08814911998947635, 'min_samples_leaf': 0.08686008728415211}\n"
     ]
    },
    {
     "name": "stderr",
     "output_type": "stream",
     "text": [
      "C:\\Users\\Asus\\anaconda3\\lib\\site-packages\\sklearn\\ensemble\\_gb.py:1118: FutureWarning: criterion='mae' was deprecated in version 0.24 and will be removed in version 1.1 (renaming of 0.26). Use criterion='friedman_mse' or 'mse' instead, as trees should use a least-square criterion in Gradient Boosting.\n",
      "  warnings.warn(\"criterion='mae' was deprecated in version 0.24 and \"\n"
     ]
    },
    {
     "name": "stdout",
     "output_type": "stream",
     "text": [
      "param: {'model': 'RFC', 'max_depth': 6, 'criterion': 'entropy', 'min_impurity_decrease': 0.09609806784783977, 'min_samples_leaf': 0.0690950929861177}\n",
      "param: {'model': 'GBC', 'max_depth': 9, 'criterion': 'mae', 'min_impurity_decrease': 0.04299188088084477, 'min_samples_leaf': 2}\n"
     ]
    },
    {
     "name": "stderr",
     "output_type": "stream",
     "text": [
      "C:\\Users\\Asus\\anaconda3\\lib\\site-packages\\sklearn\\ensemble\\_gb.py:1118: FutureWarning: criterion='mae' was deprecated in version 0.24 and will be removed in version 1.1 (renaming of 0.26). Use criterion='friedman_mse' or 'mse' instead, as trees should use a least-square criterion in Gradient Boosting.\n",
      "  warnings.warn(\"criterion='mae' was deprecated in version 0.24 and \"\n"
     ]
    },
    {
     "name": "stdout",
     "output_type": "stream",
     "text": [
      "param: {'model': 'RFC', 'max_depth': 3, 'criterion': 'entropy', 'min_impurity_decrease': 0.03312266091714914, 'min_samples_leaf': 0.06651615565925137}\n",
      "param: {'model': 'RFC', 'max_depth': 6, 'criterion': 'entropy', 'min_impurity_decrease': 0.037711640706352356, 'min_samples_leaf': 0.07442039053396574}\n",
      "param: {'model': 'RFC', 'max_depth': 6, 'criterion': 'gini', 'min_impurity_decrease': 0.09965905257754751, 'min_samples_leaf': 0.08971837618625446}\n",
      "param: {'model': 'GBC', 'max_depth': 6, 'criterion': 'friedman_mse', 'min_impurity_decrease': 0.06657006315565725, 'min_samples_leaf': 3}\n",
      "param: {'model': 'GBC', 'max_depth': 7, 'criterion': 'friedman_mse', 'min_impurity_decrease': 0.009774375300898652, 'min_samples_leaf': 7}\n",
      "param: {'model': 'RFC', 'max_depth': 2, 'criterion': 'entropy', 'min_impurity_decrease': 0.08514097274895492, 'min_samples_leaf': 0.07400495334415057}\n",
      "param: {'model': 'GBC', 'max_depth': 6, 'criterion': 'friedman_mse', 'min_impurity_decrease': 0.024559849409282998, 'min_samples_leaf': 0.06259765417913901}\n",
      "param: {'model': 'GBC', 'max_depth': 5, 'criterion': 'mae', 'min_impurity_decrease': 0.076226151598771, 'min_samples_leaf': 16}\n"
     ]
    },
    {
     "name": "stderr",
     "output_type": "stream",
     "text": [
      "C:\\Users\\Asus\\anaconda3\\lib\\site-packages\\sklearn\\ensemble\\_gb.py:1118: FutureWarning: criterion='mae' was deprecated in version 0.24 and will be removed in version 1.1 (renaming of 0.26). Use criterion='friedman_mse' or 'mse' instead, as trees should use a least-square criterion in Gradient Boosting.\n",
      "  warnings.warn(\"criterion='mae' was deprecated in version 0.24 and \"\n"
     ]
    },
    {
     "name": "stdout",
     "output_type": "stream",
     "text": [
      "param: {'model': 'GBC', 'max_depth': 5, 'criterion': 'mae', 'min_impurity_decrease': 0.0725834809291506, 'min_samples_leaf': 0.04265406368767667}\n"
     ]
    },
    {
     "name": "stderr",
     "output_type": "stream",
     "text": [
      "C:\\Users\\Asus\\anaconda3\\lib\\site-packages\\sklearn\\ensemble\\_gb.py:1118: FutureWarning: criterion='mae' was deprecated in version 0.24 and will be removed in version 1.1 (renaming of 0.26). Use criterion='friedman_mse' or 'mse' instead, as trees should use a least-square criterion in Gradient Boosting.\n",
      "  warnings.warn(\"criterion='mae' was deprecated in version 0.24 and \"\n"
     ]
    },
    {
     "name": "stdout",
     "output_type": "stream",
     "text": [
      "param: {'model': 'RFC', 'max_depth': 1, 'criterion': 'gini', 'min_impurity_decrease': 0.03611955980452125, 'min_samples_leaf': 0.07203477326672635}\n",
      "param: {'model': 'GBC', 'max_depth': 1, 'criterion': 'friedman_mse', 'min_impurity_decrease': 0.026022934945793975, 'min_samples_leaf': 0.0528167293702229}\n",
      "param: {'model': 'RFC', 'max_depth': 5, 'criterion': 'entropy', 'min_impurity_decrease': 0.06748522221601802, 'min_samples_leaf': 11}\n",
      "param: {'model': 'GBC', 'max_depth': 10, 'criterion': 'mae', 'min_impurity_decrease': 0.0976623840139125, 'min_samples_leaf': 19}\n"
     ]
    },
    {
     "name": "stderr",
     "output_type": "stream",
     "text": [
      "C:\\Users\\Asus\\anaconda3\\lib\\site-packages\\sklearn\\ensemble\\_gb.py:1118: FutureWarning: criterion='mae' was deprecated in version 0.24 and will be removed in version 1.1 (renaming of 0.26). Use criterion='friedman_mse' or 'mse' instead, as trees should use a least-square criterion in Gradient Boosting.\n",
      "  warnings.warn(\"criterion='mae' was deprecated in version 0.24 and \"\n"
     ]
    },
    {
     "name": "stdout",
     "output_type": "stream",
     "text": [
      "param: {'model': 'GBC', 'max_depth': 9, 'criterion': 'friedman_mse', 'min_impurity_decrease': 0.06238479037497021, 'min_samples_leaf': 0.04064475601903049}\n",
      "param: {'model': 'GBC', 'max_depth': 5, 'criterion': 'friedman_mse', 'min_impurity_decrease': 0.06486870654971992, 'min_samples_leaf': 0.05263432013042235}\n",
      "param: {'model': 'RFC', 'max_depth': 3, 'criterion': 'entropy', 'min_impurity_decrease': 0.0940511309648265, 'min_samples_leaf': 0.05113078672176981}\n",
      "param: {'model': 'GBC', 'max_depth': 1, 'criterion': 'friedman_mse', 'min_impurity_decrease': 0.0309938438406547, 'min_samples_leaf': 15}\n",
      "param: {'model': 'GBC', 'max_depth': 2, 'criterion': 'mae', 'min_impurity_decrease': 0.0011502547658469142, 'min_samples_leaf': 0.018327695148251756}\n"
     ]
    },
    {
     "name": "stderr",
     "output_type": "stream",
     "text": [
      "C:\\Users\\Asus\\anaconda3\\lib\\site-packages\\sklearn\\ensemble\\_gb.py:1118: FutureWarning: criterion='mae' was deprecated in version 0.24 and will be removed in version 1.1 (renaming of 0.26). Use criterion='friedman_mse' or 'mse' instead, as trees should use a least-square criterion in Gradient Boosting.\n",
      "  warnings.warn(\"criterion='mae' was deprecated in version 0.24 and \"\n"
     ]
    },
    {
     "name": "stdout",
     "output_type": "stream",
     "text": [
      "param: {'model': 'RFC', 'max_depth': 2, 'criterion': 'entropy', 'min_impurity_decrease': 0.03559385076117984, 'min_samples_leaf': 0.047963396493493085}\n",
      "param: {'model': 'RFC', 'max_depth': 2, 'criterion': 'gini', 'min_impurity_decrease': 0.031187045941290247, 'min_samples_leaf': 13}\n",
      "param: {'model': 'GBC', 'max_depth': 1, 'criterion': 'mae', 'min_impurity_decrease': 0.01420132810735405, 'min_samples_leaf': 15}\n"
     ]
    },
    {
     "name": "stderr",
     "output_type": "stream",
     "text": [
      "C:\\Users\\Asus\\anaconda3\\lib\\site-packages\\sklearn\\ensemble\\_gb.py:1118: FutureWarning: criterion='mae' was deprecated in version 0.24 and will be removed in version 1.1 (renaming of 0.26). Use criterion='friedman_mse' or 'mse' instead, as trees should use a least-square criterion in Gradient Boosting.\n",
      "  warnings.warn(\"criterion='mae' was deprecated in version 0.24 and \"\n"
     ]
    },
    {
     "name": "stdout",
     "output_type": "stream",
     "text": [
      "param: {'model': 'RFC', 'max_depth': 4, 'criterion': 'gini', 'min_impurity_decrease': 0.09190378677040555, 'min_samples_leaf': 0.05090421244481835}\n",
      "param: {'model': 'RFC', 'max_depth': 4, 'criterion': 'entropy', 'min_impurity_decrease': 0.010710654807321408, 'min_samples_leaf': 0.05860693656157899}\n",
      "param: {'model': 'GBC', 'max_depth': 5, 'criterion': 'friedman_mse', 'min_impurity_decrease': 0.09222680458655205, 'min_samples_leaf': 0.0629325916788171}\n",
      "param: {'model': 'RFC', 'max_depth': 3, 'criterion': 'gini', 'min_impurity_decrease': 0.08462660660543138, 'min_samples_leaf': 16}\n",
      "param: {'model': 'RFC', 'max_depth': 3, 'criterion': 'gini', 'min_impurity_decrease': 0.04686514361414549, 'min_samples_leaf': 17}\n",
      "param: {'model': 'RFC', 'max_depth': 10, 'criterion': 'entropy', 'min_impurity_decrease': 0.05190494983957707, 'min_samples_leaf': 9}\n",
      "param: {'model': 'GBC', 'max_depth': 6, 'criterion': 'mae', 'min_impurity_decrease': 0.07920887459324578, 'min_samples_leaf': 17}\n"
     ]
    },
    {
     "name": "stderr",
     "output_type": "stream",
     "text": [
      "C:\\Users\\Asus\\anaconda3\\lib\\site-packages\\sklearn\\ensemble\\_gb.py:1118: FutureWarning: criterion='mae' was deprecated in version 0.24 and will be removed in version 1.1 (renaming of 0.26). Use criterion='friedman_mse' or 'mse' instead, as trees should use a least-square criterion in Gradient Boosting.\n",
      "  warnings.warn(\"criterion='mae' was deprecated in version 0.24 and \"\n"
     ]
    },
    {
     "name": "stdout",
     "output_type": "stream",
     "text": [
      "param: {'model': 'RFC', 'max_depth': 10, 'criterion': 'entropy', 'min_impurity_decrease': 0.026889065367760333, 'min_samples_leaf': 9}\n",
      "param: {'model': 'RFC', 'max_depth': 10, 'criterion': 'entropy', 'min_impurity_decrease': 0.08276393089940512, 'min_samples_leaf': 0.03976510093836505}\n",
      "param: {'model': 'GBC', 'max_depth': 8, 'criterion': 'mae', 'min_impurity_decrease': 0.013171166026860614, 'min_samples_leaf': 0.05115325813963417}\n"
     ]
    },
    {
     "name": "stderr",
     "output_type": "stream",
     "text": [
      "C:\\Users\\Asus\\anaconda3\\lib\\site-packages\\sklearn\\ensemble\\_gb.py:1118: FutureWarning: criterion='mae' was deprecated in version 0.24 and will be removed in version 1.1 (renaming of 0.26). Use criterion='friedman_mse' or 'mse' instead, as trees should use a least-square criterion in Gradient Boosting.\n",
      "  warnings.warn(\"criterion='mae' was deprecated in version 0.24 and \"\n"
     ]
    },
    {
     "name": "stdout",
     "output_type": "stream",
     "text": [
      "param: {'model': 'GBC', 'max_depth': 2, 'criterion': 'mae', 'min_impurity_decrease': 0.045158208683292976, 'min_samples_leaf': 17}\n"
     ]
    },
    {
     "name": "stderr",
     "output_type": "stream",
     "text": [
      "C:\\Users\\Asus\\anaconda3\\lib\\site-packages\\sklearn\\ensemble\\_gb.py:1118: FutureWarning: criterion='mae' was deprecated in version 0.24 and will be removed in version 1.1 (renaming of 0.26). Use criterion='friedman_mse' or 'mse' instead, as trees should use a least-square criterion in Gradient Boosting.\n",
      "  warnings.warn(\"criterion='mae' was deprecated in version 0.24 and \"\n"
     ]
    },
    {
     "name": "stdout",
     "output_type": "stream",
     "text": [
      "param: {'model': 'RFC', 'max_depth': 7, 'criterion': 'entropy', 'min_impurity_decrease': 0.09934611775722005, 'min_samples_leaf': 0.09484984000567884}\n",
      "param: {'model': 'RFC', 'max_depth': 5, 'criterion': 'gini', 'min_impurity_decrease': 0.02955079350531108, 'min_samples_leaf': 0.07690853449474414}\n",
      "param: {'model': 'GBC', 'max_depth': 8, 'criterion': 'mae', 'min_impurity_decrease': 0.01873999906396906, 'min_samples_leaf': 0.016087085669519663}\n"
     ]
    },
    {
     "name": "stderr",
     "output_type": "stream",
     "text": [
      "C:\\Users\\Asus\\anaconda3\\lib\\site-packages\\sklearn\\ensemble\\_gb.py:1118: FutureWarning: criterion='mae' was deprecated in version 0.24 and will be removed in version 1.1 (renaming of 0.26). Use criterion='friedman_mse' or 'mse' instead, as trees should use a least-square criterion in Gradient Boosting.\n",
      "  warnings.warn(\"criterion='mae' was deprecated in version 0.24 and \"\n"
     ]
    },
    {
     "name": "stdout",
     "output_type": "stream",
     "text": [
      "param: {'model': 'RFC', 'max_depth': 1, 'criterion': 'gini', 'min_impurity_decrease': 0.046543589280600525, 'min_samples_leaf': 13}\n",
      "param: {'model': 'GBC', 'max_depth': 2, 'criterion': 'mae', 'min_impurity_decrease': 0.00036417203496080797, 'min_samples_leaf': 17}\n"
     ]
    },
    {
     "name": "stderr",
     "output_type": "stream",
     "text": [
      "C:\\Users\\Asus\\anaconda3\\lib\\site-packages\\sklearn\\ensemble\\_gb.py:1118: FutureWarning: criterion='mae' was deprecated in version 0.24 and will be removed in version 1.1 (renaming of 0.26). Use criterion='friedman_mse' or 'mse' instead, as trees should use a least-square criterion in Gradient Boosting.\n",
      "  warnings.warn(\"criterion='mae' was deprecated in version 0.24 and \"\n"
     ]
    },
    {
     "name": "stdout",
     "output_type": "stream",
     "text": [
      "param: {'model': 'RFC', 'max_depth': 8, 'criterion': 'entropy', 'min_impurity_decrease': 0.02058121388715345, 'min_samples_leaf': 2}\n",
      "param: {'model': 'RFC', 'max_depth': 2, 'criterion': 'entropy', 'min_impurity_decrease': 0.05214456937081073, 'min_samples_leaf': 9}\n",
      "param: {'model': 'RFC', 'max_depth': 4, 'criterion': 'gini', 'min_impurity_decrease': 0.07181086385138592, 'min_samples_leaf': 4}\n",
      "param: {'model': 'RFC', 'max_depth': 2, 'criterion': 'entropy', 'min_impurity_decrease': 0.07055683444003762, 'min_samples_leaf': 5}\n",
      "param: {'model': 'RFC', 'max_depth': 4, 'criterion': 'entropy', 'min_impurity_decrease': 0.07648706432349937, 'min_samples_leaf': 14}\n",
      "param: {'model': 'GBC', 'max_depth': 5, 'criterion': 'friedman_mse', 'min_impurity_decrease': 0.03486527307949542, 'min_samples_leaf': 0.09490649489481087}\n",
      "param: {'model': 'GBC', 'max_depth': 3, 'criterion': 'mae', 'min_impurity_decrease': 0.0135976327573891, 'min_samples_leaf': 18}\n"
     ]
    },
    {
     "name": "stderr",
     "output_type": "stream",
     "text": [
      "C:\\Users\\Asus\\anaconda3\\lib\\site-packages\\sklearn\\ensemble\\_gb.py:1118: FutureWarning: criterion='mae' was deprecated in version 0.24 and will be removed in version 1.1 (renaming of 0.26). Use criterion='friedman_mse' or 'mse' instead, as trees should use a least-square criterion in Gradient Boosting.\n",
      "  warnings.warn(\"criterion='mae' was deprecated in version 0.24 and \"\n"
     ]
    },
    {
     "name": "stdout",
     "output_type": "stream",
     "text": [
      "param: {'model': 'RFC', 'max_depth': 9, 'criterion': 'gini', 'min_impurity_decrease': 0.012394676740435628, 'min_samples_leaf': 8}\n",
      "param: {'model': 'GBC', 'max_depth': 4, 'criterion': 'mae', 'min_impurity_decrease': 0.005344163413092973, 'min_samples_leaf': 0.0802918161020878}\n"
     ]
    },
    {
     "name": "stderr",
     "output_type": "stream",
     "text": [
      "C:\\Users\\Asus\\anaconda3\\lib\\site-packages\\sklearn\\ensemble\\_gb.py:1118: FutureWarning: criterion='mae' was deprecated in version 0.24 and will be removed in version 1.1 (renaming of 0.26). Use criterion='friedman_mse' or 'mse' instead, as trees should use a least-square criterion in Gradient Boosting.\n",
      "  warnings.warn(\"criterion='mae' was deprecated in version 0.24 and \"\n"
     ]
    },
    {
     "name": "stdout",
     "output_type": "stream",
     "text": [
      "param: {'model': 'GBC', 'max_depth': 2, 'criterion': 'mae', 'min_impurity_decrease': 0.0714537593708798, 'min_samples_leaf': 0.06872704732096566}\n"
     ]
    },
    {
     "name": "stderr",
     "output_type": "stream",
     "text": [
      "C:\\Users\\Asus\\anaconda3\\lib\\site-packages\\sklearn\\ensemble\\_gb.py:1118: FutureWarning: criterion='mae' was deprecated in version 0.24 and will be removed in version 1.1 (renaming of 0.26). Use criterion='friedman_mse' or 'mse' instead, as trees should use a least-square criterion in Gradient Boosting.\n",
      "  warnings.warn(\"criterion='mae' was deprecated in version 0.24 and \"\n"
     ]
    },
    {
     "name": "stdout",
     "output_type": "stream",
     "text": [
      "param: {'model': 'GBC', 'max_depth': 7, 'criterion': 'mae', 'min_impurity_decrease': 0.00823308530801269, 'min_samples_leaf': 1}\n"
     ]
    },
    {
     "name": "stderr",
     "output_type": "stream",
     "text": [
      "C:\\Users\\Asus\\anaconda3\\lib\\site-packages\\sklearn\\ensemble\\_gb.py:1118: FutureWarning: criterion='mae' was deprecated in version 0.24 and will be removed in version 1.1 (renaming of 0.26). Use criterion='friedman_mse' or 'mse' instead, as trees should use a least-square criterion in Gradient Boosting.\n",
      "  warnings.warn(\"criterion='mae' was deprecated in version 0.24 and \"\n"
     ]
    },
    {
     "name": "stdout",
     "output_type": "stream",
     "text": [
      "param: {'model': 'RFC', 'max_depth': 4, 'criterion': 'gini', 'min_impurity_decrease': 0.04083780548085679, 'min_samples_leaf': 6}\n",
      "param: {'model': 'RFC', 'max_depth': 4, 'criterion': 'entropy', 'min_impurity_decrease': 0.05162991226993076, 'min_samples_leaf': 0.07992841228978795}\n",
      "param: {'model': 'GBC', 'max_depth': 6, 'criterion': 'mae', 'min_impurity_decrease': 2.523195206856066e-05, 'min_samples_leaf': 0.0817908154978876}\n"
     ]
    },
    {
     "name": "stderr",
     "output_type": "stream",
     "text": [
      "C:\\Users\\Asus\\anaconda3\\lib\\site-packages\\sklearn\\ensemble\\_gb.py:1118: FutureWarning: criterion='mae' was deprecated in version 0.24 and will be removed in version 1.1 (renaming of 0.26). Use criterion='friedman_mse' or 'mse' instead, as trees should use a least-square criterion in Gradient Boosting.\n",
      "  warnings.warn(\"criterion='mae' was deprecated in version 0.24 and \"\n"
     ]
    },
    {
     "name": "stdout",
     "output_type": "stream",
     "text": [
      "param: {'model': 'RFC', 'max_depth': 1, 'criterion': 'entropy', 'min_impurity_decrease': 0.04349961579192173, 'min_samples_leaf': 0.029586511014643768}\n",
      "param: {'model': 'GBC', 'max_depth': 8, 'criterion': 'mae', 'min_impurity_decrease': 0.05841247550665638, 'min_samples_leaf': 10}\n"
     ]
    },
    {
     "name": "stderr",
     "output_type": "stream",
     "text": [
      "C:\\Users\\Asus\\anaconda3\\lib\\site-packages\\sklearn\\ensemble\\_gb.py:1118: FutureWarning: criterion='mae' was deprecated in version 0.24 and will be removed in version 1.1 (renaming of 0.26). Use criterion='friedman_mse' or 'mse' instead, as trees should use a least-square criterion in Gradient Boosting.\n",
      "  warnings.warn(\"criterion='mae' was deprecated in version 0.24 and \"\n"
     ]
    },
    {
     "name": "stdout",
     "output_type": "stream",
     "text": [
      "param: {'model': 'RFC', 'max_depth': 8, 'criterion': 'gini', 'min_impurity_decrease': 0.039377819536721335, 'min_samples_leaf': 0.08127872815070643}\n",
      "param: {'model': 'GBC', 'max_depth': 9, 'criterion': 'friedman_mse', 'min_impurity_decrease': 0.03535384418313906, 'min_samples_leaf': 19}\n",
      "param: {'model': 'GBC', 'max_depth': 1, 'criterion': 'mae', 'min_impurity_decrease': 0.07943195253575105, 'min_samples_leaf': 0.08693471315460673}\n"
     ]
    },
    {
     "name": "stderr",
     "output_type": "stream",
     "text": [
      "C:\\Users\\Asus\\anaconda3\\lib\\site-packages\\sklearn\\ensemble\\_gb.py:1118: FutureWarning: criterion='mae' was deprecated in version 0.24 and will be removed in version 1.1 (renaming of 0.26). Use criterion='friedman_mse' or 'mse' instead, as trees should use a least-square criterion in Gradient Boosting.\n",
      "  warnings.warn(\"criterion='mae' was deprecated in version 0.24 and \"\n"
     ]
    },
    {
     "name": "stdout",
     "output_type": "stream",
     "text": [
      "param: {'model': 'RFC', 'max_depth': 6, 'criterion': 'entropy', 'min_impurity_decrease': 0.013511598381797574, 'min_samples_leaf': 0.004705651459733484}\n",
      "param: {'model': 'RFC', 'max_depth': 9, 'criterion': 'gini', 'min_impurity_decrease': 0.07994937045683971, 'min_samples_leaf': 11}\n",
      "param: {'model': 'RFC', 'max_depth': 6, 'criterion': 'gini', 'min_impurity_decrease': 0.009818136340578376, 'min_samples_leaf': 0.050019608412918484}\n",
      "param: {'model': 'GBC', 'max_depth': 1, 'criterion': 'mae', 'min_impurity_decrease': 0.03183409861523815, 'min_samples_leaf': 0.05030467857950736}\n"
     ]
    },
    {
     "name": "stderr",
     "output_type": "stream",
     "text": [
      "C:\\Users\\Asus\\anaconda3\\lib\\site-packages\\sklearn\\ensemble\\_gb.py:1118: FutureWarning: criterion='mae' was deprecated in version 0.24 and will be removed in version 1.1 (renaming of 0.26). Use criterion='friedman_mse' or 'mse' instead, as trees should use a least-square criterion in Gradient Boosting.\n",
      "  warnings.warn(\"criterion='mae' was deprecated in version 0.24 and \"\n"
     ]
    },
    {
     "name": "stdout",
     "output_type": "stream",
     "text": [
      "param: {'model': 'RFC', 'max_depth': 8, 'criterion': 'gini', 'min_impurity_decrease': 0.0601842707392653, 'min_samples_leaf': 0.016875458900168748}\n",
      "param: {'model': 'RFC', 'max_depth': 10, 'criterion': 'gini', 'min_impurity_decrease': 0.03794238107071022, 'min_samples_leaf': 15}\n",
      "param: {'model': 'RFC', 'max_depth': 1, 'criterion': 'gini', 'min_impurity_decrease': 0.05999532151864297, 'min_samples_leaf': 0.07311058065867224}\n",
      "param: {'model': 'RFC', 'max_depth': 3, 'criterion': 'gini', 'min_impurity_decrease': 0.0310690022272459, 'min_samples_leaf': 0.07382849866297947}\n",
      "param: {'model': 'RFC', 'max_depth': 7, 'criterion': 'gini', 'min_impurity_decrease': 0.06879548509225611, 'min_samples_leaf': 3}\n",
      "param: {'model': 'GBC', 'max_depth': 5, 'criterion': 'friedman_mse', 'min_impurity_decrease': 0.04418860545787545, 'min_samples_leaf': 17}\n",
      "param: {'model': 'GBC', 'max_depth': 5, 'criterion': 'mae', 'min_impurity_decrease': 0.072476422565468, 'min_samples_leaf': 6}\n"
     ]
    },
    {
     "name": "stderr",
     "output_type": "stream",
     "text": [
      "C:\\Users\\Asus\\anaconda3\\lib\\site-packages\\sklearn\\ensemble\\_gb.py:1118: FutureWarning: criterion='mae' was deprecated in version 0.24 and will be removed in version 1.1 (renaming of 0.26). Use criterion='friedman_mse' or 'mse' instead, as trees should use a least-square criterion in Gradient Boosting.\n",
      "  warnings.warn(\"criterion='mae' was deprecated in version 0.24 and \"\n"
     ]
    },
    {
     "name": "stdout",
     "output_type": "stream",
     "text": [
      "param: {'model': 'RFC', 'max_depth': 10, 'criterion': 'gini', 'min_impurity_decrease': 0.016901181735702132, 'min_samples_leaf': 0.05091652319722029}\n",
      "param: {'model': 'RFC', 'max_depth': 2, 'criterion': 'entropy', 'min_impurity_decrease': 0.04460866552267867, 'min_samples_leaf': 0.05950480996521351}\n",
      "param: {'model': 'GBC', 'max_depth': 7, 'criterion': 'friedman_mse', 'min_impurity_decrease': 0.08028829908625627, 'min_samples_leaf': 16}\n",
      "param: {'model': 'RFC', 'max_depth': 7, 'criterion': 'entropy', 'min_impurity_decrease': 0.03895667076073228, 'min_samples_leaf': 19}\n",
      "param: {'model': 'RFC', 'max_depth': 3, 'criterion': 'entropy', 'min_impurity_decrease': 0.050769294172518686, 'min_samples_leaf': 0.08180491246401042}\n",
      "param: {'model': 'GBC', 'max_depth': 4, 'criterion': 'friedman_mse', 'min_impurity_decrease': 0.04537918131773968, 'min_samples_leaf': 0.08672252315350919}\n",
      "param: {'model': 'GBC', 'max_depth': 8, 'criterion': 'friedman_mse', 'min_impurity_decrease': 0.06578732622342719, 'min_samples_leaf': 0.08218584953826097}\n",
      "param: {'model': 'GBC', 'max_depth': 6, 'criterion': 'mae', 'min_impurity_decrease': 0.01729978531337344, 'min_samples_leaf': 6}\n"
     ]
    },
    {
     "name": "stderr",
     "output_type": "stream",
     "text": [
      "C:\\Users\\Asus\\anaconda3\\lib\\site-packages\\sklearn\\ensemble\\_gb.py:1118: FutureWarning: criterion='mae' was deprecated in version 0.24 and will be removed in version 1.1 (renaming of 0.26). Use criterion='friedman_mse' or 'mse' instead, as trees should use a least-square criterion in Gradient Boosting.\n",
      "  warnings.warn(\"criterion='mae' was deprecated in version 0.24 and \"\n"
     ]
    },
    {
     "name": "stdout",
     "output_type": "stream",
     "text": [
      "param: {'model': 'RFC', 'max_depth': 3, 'criterion': 'entropy', 'min_impurity_decrease': 0.08246767014007207, 'min_samples_leaf': 0.009318547490104434}\n",
      "param: {'model': 'RFC', 'max_depth': 4, 'criterion': 'gini', 'min_impurity_decrease': 0.014287217243028894, 'min_samples_leaf': 0.08144613554087694}\n",
      "param: {'model': 'RFC', 'max_depth': 2, 'criterion': 'entropy', 'min_impurity_decrease': 0.011387846821334046, 'min_samples_leaf': 19}\n",
      "param: {'model': 'RFC', 'max_depth': 6, 'criterion': 'gini', 'min_impurity_decrease': 0.007916209651683015, 'min_samples_leaf': 0.05131638904965834}\n",
      "param: {'model': 'GBC', 'max_depth': 8, 'criterion': 'friedman_mse', 'min_impurity_decrease': 0.04462808720447574, 'min_samples_leaf': 0.030956686499467968}\n",
      "\n",
      "\n",
      "\n",
      "GEN 4:\n",
      "param: {'model': 'RFC', 'max_depth': 6, 'criterion': 'entropy', 'min_impurity_decrease': 0.027494859057691955, 'min_samples_leaf': 14}\n",
      "param: {'model': 'RFC', 'max_depth': 9, 'criterion': 'entropy', 'min_impurity_decrease': 0.018847324346830452, 'min_samples_leaf': 11}\n",
      "param: {'model': 'GBC', 'max_depth': 9, 'criterion': 'mae', 'min_impurity_decrease': 0.08036758559592026, 'min_samples_leaf': 0.06593753660002308}\n"
     ]
    },
    {
     "name": "stderr",
     "output_type": "stream",
     "text": [
      "C:\\Users\\Asus\\anaconda3\\lib\\site-packages\\sklearn\\ensemble\\_gb.py:1118: FutureWarning: criterion='mae' was deprecated in version 0.24 and will be removed in version 1.1 (renaming of 0.26). Use criterion='friedman_mse' or 'mse' instead, as trees should use a least-square criterion in Gradient Boosting.\n",
      "  warnings.warn(\"criterion='mae' was deprecated in version 0.24 and \"\n"
     ]
    },
    {
     "name": "stdout",
     "output_type": "stream",
     "text": [
      "param: {'model': 'RFC', 'max_depth': 5, 'criterion': 'gini', 'min_impurity_decrease': 0.08017860356224885, 'min_samples_leaf': 0.051959379664138494}\n",
      "param: {'model': 'GBC', 'max_depth': 3, 'criterion': 'mae', 'min_impurity_decrease': 0.08643411484123273, 'min_samples_leaf': 4}\n"
     ]
    },
    {
     "name": "stderr",
     "output_type": "stream",
     "text": [
      "C:\\Users\\Asus\\anaconda3\\lib\\site-packages\\sklearn\\ensemble\\_gb.py:1118: FutureWarning: criterion='mae' was deprecated in version 0.24 and will be removed in version 1.1 (renaming of 0.26). Use criterion='friedman_mse' or 'mse' instead, as trees should use a least-square criterion in Gradient Boosting.\n",
      "  warnings.warn(\"criterion='mae' was deprecated in version 0.24 and \"\n"
     ]
    },
    {
     "name": "stdout",
     "output_type": "stream",
     "text": [
      "param: {'model': 'RFC', 'max_depth': 7, 'criterion': 'gini', 'min_impurity_decrease': 0.08438752086071596, 'min_samples_leaf': 0.018401585797625762}\n",
      "param: {'model': 'RFC', 'max_depth': 3, 'criterion': 'gini', 'min_impurity_decrease': 0.08136279911336124, 'min_samples_leaf': 0.08226397171803887}\n",
      "param: {'model': 'RFC', 'max_depth': 7, 'criterion': 'gini', 'min_impurity_decrease': 0.07868208986316991, 'min_samples_leaf': 7}\n",
      "param: {'model': 'RFC', 'max_depth': 4, 'criterion': 'gini', 'min_impurity_decrease': 0.07432804851095179, 'min_samples_leaf': 3}\n",
      "param: {'model': 'GBC', 'max_depth': 4, 'criterion': 'friedman_mse', 'min_impurity_decrease': 0.002881629141941644, 'min_samples_leaf': 0.054537427961233696}\n",
      "param: {'model': 'RFC', 'max_depth': 6, 'criterion': 'entropy', 'min_impurity_decrease': 0.011391183963008367, 'min_samples_leaf': 20}\n",
      "param: {'model': 'RFC', 'max_depth': 8, 'criterion': 'entropy', 'min_impurity_decrease': 0.053902421643737, 'min_samples_leaf': 0.04578438990889868}\n",
      "param: {'model': 'GBC', 'max_depth': 7, 'criterion': 'mae', 'min_impurity_decrease': 0.013525117495286242, 'min_samples_leaf': 0.06927751584536189}\n"
     ]
    },
    {
     "name": "stderr",
     "output_type": "stream",
     "text": [
      "C:\\Users\\Asus\\anaconda3\\lib\\site-packages\\sklearn\\ensemble\\_gb.py:1118: FutureWarning: criterion='mae' was deprecated in version 0.24 and will be removed in version 1.1 (renaming of 0.26). Use criterion='friedman_mse' or 'mse' instead, as trees should use a least-square criterion in Gradient Boosting.\n",
      "  warnings.warn(\"criterion='mae' was deprecated in version 0.24 and \"\n"
     ]
    },
    {
     "name": "stdout",
     "output_type": "stream",
     "text": [
      "param: {'model': 'GBC', 'max_depth': 8, 'criterion': 'mae', 'min_impurity_decrease': 0.09223482065564276, 'min_samples_leaf': 0.005490689533809578}\n"
     ]
    },
    {
     "name": "stderr",
     "output_type": "stream",
     "text": [
      "C:\\Users\\Asus\\anaconda3\\lib\\site-packages\\sklearn\\ensemble\\_gb.py:1118: FutureWarning: criterion='mae' was deprecated in version 0.24 and will be removed in version 1.1 (renaming of 0.26). Use criterion='friedman_mse' or 'mse' instead, as trees should use a least-square criterion in Gradient Boosting.\n",
      "  warnings.warn(\"criterion='mae' was deprecated in version 0.24 and \"\n"
     ]
    },
    {
     "name": "stdout",
     "output_type": "stream",
     "text": [
      "param: {'model': 'RFC', 'max_depth': 7, 'criterion': 'entropy', 'min_impurity_decrease': 0.051717048813115715, 'min_samples_leaf': 17}\n",
      "param: {'model': 'RFC', 'max_depth': 6, 'criterion': 'entropy', 'min_impurity_decrease': 0.04610336602386136, 'min_samples_leaf': 0.08679768483574321}\n",
      "param: {'model': 'GBC', 'max_depth': 9, 'criterion': 'mae', 'min_impurity_decrease': 0.07965823910499457, 'min_samples_leaf': 14}\n"
     ]
    },
    {
     "name": "stderr",
     "output_type": "stream",
     "text": [
      "C:\\Users\\Asus\\anaconda3\\lib\\site-packages\\sklearn\\ensemble\\_gb.py:1118: FutureWarning: criterion='mae' was deprecated in version 0.24 and will be removed in version 1.1 (renaming of 0.26). Use criterion='friedman_mse' or 'mse' instead, as trees should use a least-square criterion in Gradient Boosting.\n",
      "  warnings.warn(\"criterion='mae' was deprecated in version 0.24 and \"\n"
     ]
    },
    {
     "name": "stdout",
     "output_type": "stream",
     "text": [
      "param: {'model': 'GBC', 'max_depth': 1, 'criterion': 'mae', 'min_impurity_decrease': 0.06796332113897284, 'min_samples_leaf': 0.06388906412253449}\n"
     ]
    },
    {
     "name": "stderr",
     "output_type": "stream",
     "text": [
      "C:\\Users\\Asus\\anaconda3\\lib\\site-packages\\sklearn\\ensemble\\_gb.py:1118: FutureWarning: criterion='mae' was deprecated in version 0.24 and will be removed in version 1.1 (renaming of 0.26). Use criterion='friedman_mse' or 'mse' instead, as trees should use a least-square criterion in Gradient Boosting.\n",
      "  warnings.warn(\"criterion='mae' was deprecated in version 0.24 and \"\n"
     ]
    },
    {
     "name": "stdout",
     "output_type": "stream",
     "text": [
      "param: {'model': 'GBC', 'max_depth': 3, 'criterion': 'friedman_mse', 'min_impurity_decrease': 0.03217538514833336, 'min_samples_leaf': 17}\n",
      "param: {'model': 'GBC', 'max_depth': 8, 'criterion': 'mae', 'min_impurity_decrease': 0.08468921309390666, 'min_samples_leaf': 14}\n"
     ]
    },
    {
     "name": "stderr",
     "output_type": "stream",
     "text": [
      "C:\\Users\\Asus\\anaconda3\\lib\\site-packages\\sklearn\\ensemble\\_gb.py:1118: FutureWarning: criterion='mae' was deprecated in version 0.24 and will be removed in version 1.1 (renaming of 0.26). Use criterion='friedman_mse' or 'mse' instead, as trees should use a least-square criterion in Gradient Boosting.\n",
      "  warnings.warn(\"criterion='mae' was deprecated in version 0.24 and \"\n"
     ]
    },
    {
     "name": "stdout",
     "output_type": "stream",
     "text": [
      "param: {'model': 'GBC', 'max_depth': 9, 'criterion': 'friedman_mse', 'min_impurity_decrease': 0.09436883065586774, 'min_samples_leaf': 10}\n",
      "param: {'model': 'GBC', 'max_depth': 3, 'criterion': 'mae', 'min_impurity_decrease': 0.06443540859638991, 'min_samples_leaf': 0.08346108544416662}\n"
     ]
    },
    {
     "name": "stderr",
     "output_type": "stream",
     "text": [
      "C:\\Users\\Asus\\anaconda3\\lib\\site-packages\\sklearn\\ensemble\\_gb.py:1118: FutureWarning: criterion='mae' was deprecated in version 0.24 and will be removed in version 1.1 (renaming of 0.26). Use criterion='friedman_mse' or 'mse' instead, as trees should use a least-square criterion in Gradient Boosting.\n",
      "  warnings.warn(\"criterion='mae' was deprecated in version 0.24 and \"\n"
     ]
    },
    {
     "name": "stdout",
     "output_type": "stream",
     "text": [
      "param: {'model': 'RFC', 'max_depth': 8, 'criterion': 'gini', 'min_impurity_decrease': 0.03933801104731678, 'min_samples_leaf': 19}\n",
      "param: {'model': 'GBC', 'max_depth': 5, 'criterion': 'friedman_mse', 'min_impurity_decrease': 0.0687943881362481, 'min_samples_leaf': 20}\n",
      "param: {'model': 'RFC', 'max_depth': 6, 'criterion': 'gini', 'min_impurity_decrease': 0.04590974119988732, 'min_samples_leaf': 10}\n",
      "param: {'model': 'RFC', 'max_depth': 3, 'criterion': 'gini', 'min_impurity_decrease': 0.059721111361060876, 'min_samples_leaf': 15}\n",
      "param: {'model': 'GBC', 'max_depth': 7, 'criterion': 'mae', 'min_impurity_decrease': 0.03737358368943017, 'min_samples_leaf': 20}\n"
     ]
    },
    {
     "name": "stderr",
     "output_type": "stream",
     "text": [
      "C:\\Users\\Asus\\anaconda3\\lib\\site-packages\\sklearn\\ensemble\\_gb.py:1118: FutureWarning: criterion='mae' was deprecated in version 0.24 and will be removed in version 1.1 (renaming of 0.26). Use criterion='friedman_mse' or 'mse' instead, as trees should use a least-square criterion in Gradient Boosting.\n",
      "  warnings.warn(\"criterion='mae' was deprecated in version 0.24 and \"\n"
     ]
    },
    {
     "name": "stdout",
     "output_type": "stream",
     "text": [
      "param: {'model': 'RFC', 'max_depth': 9, 'criterion': 'entropy', 'min_impurity_decrease': 0.06085195600623573, 'min_samples_leaf': 20}\n",
      "param: {'model': 'RFC', 'max_depth': 9, 'criterion': 'entropy', 'min_impurity_decrease': 0.021278450385293947, 'min_samples_leaf': 10}\n",
      "param: {'model': 'RFC', 'max_depth': 5, 'criterion': 'gini', 'min_impurity_decrease': 0.02775808837848035, 'min_samples_leaf': 13}\n",
      "param: {'model': 'GBC', 'max_depth': 7, 'criterion': 'mae', 'min_impurity_decrease': 0.07534235001717722, 'min_samples_leaf': 17}\n"
     ]
    },
    {
     "name": "stderr",
     "output_type": "stream",
     "text": [
      "C:\\Users\\Asus\\anaconda3\\lib\\site-packages\\sklearn\\ensemble\\_gb.py:1118: FutureWarning: criterion='mae' was deprecated in version 0.24 and will be removed in version 1.1 (renaming of 0.26). Use criterion='friedman_mse' or 'mse' instead, as trees should use a least-square criterion in Gradient Boosting.\n",
      "  warnings.warn(\"criterion='mae' was deprecated in version 0.24 and \"\n"
     ]
    },
    {
     "name": "stdout",
     "output_type": "stream",
     "text": [
      "param: {'model': 'GBC', 'max_depth': 7, 'criterion': 'mae', 'min_impurity_decrease': 0.0864516423882441, 'min_samples_leaf': 0.06692361669929663}\n"
     ]
    },
    {
     "name": "stderr",
     "output_type": "stream",
     "text": [
      "C:\\Users\\Asus\\anaconda3\\lib\\site-packages\\sklearn\\ensemble\\_gb.py:1118: FutureWarning: criterion='mae' was deprecated in version 0.24 and will be removed in version 1.1 (renaming of 0.26). Use criterion='friedman_mse' or 'mse' instead, as trees should use a least-square criterion in Gradient Boosting.\n",
      "  warnings.warn(\"criterion='mae' was deprecated in version 0.24 and \"\n"
     ]
    },
    {
     "name": "stdout",
     "output_type": "stream",
     "text": [
      "param: {'model': 'RFC', 'max_depth': 10, 'criterion': 'gini', 'min_impurity_decrease': 0.08120890301073827, 'min_samples_leaf': 0.09225969311859882}\n",
      "param: {'model': 'RFC', 'max_depth': 9, 'criterion': 'gini', 'min_impurity_decrease': 0.03983404332745172, 'min_samples_leaf': 0.0835748143709487}\n",
      "param: {'model': 'RFC', 'max_depth': 1, 'criterion': 'gini', 'min_impurity_decrease': 0.04740974335405116, 'min_samples_leaf': 0.019936675609163734}\n",
      "param: {'model': 'RFC', 'max_depth': 10, 'criterion': 'gini', 'min_impurity_decrease': 0.048790716628448215, 'min_samples_leaf': 16}\n",
      "param: {'model': 'RFC', 'max_depth': 4, 'criterion': 'entropy', 'min_impurity_decrease': 0.020533162359624758, 'min_samples_leaf': 0.07126294460492479}\n",
      "param: {'model': 'RFC', 'max_depth': 9, 'criterion': 'gini', 'min_impurity_decrease': 0.010779572899166279, 'min_samples_leaf': 0.020172705878477394}\n",
      "param: {'model': 'GBC', 'max_depth': 4, 'criterion': 'mae', 'min_impurity_decrease': 0.015774431620949436, 'min_samples_leaf': 0.07651066343111253}\n"
     ]
    },
    {
     "name": "stderr",
     "output_type": "stream",
     "text": [
      "C:\\Users\\Asus\\anaconda3\\lib\\site-packages\\sklearn\\ensemble\\_gb.py:1118: FutureWarning: criterion='mae' was deprecated in version 0.24 and will be removed in version 1.1 (renaming of 0.26). Use criterion='friedman_mse' or 'mse' instead, as trees should use a least-square criterion in Gradient Boosting.\n",
      "  warnings.warn(\"criterion='mae' was deprecated in version 0.24 and \"\n"
     ]
    },
    {
     "name": "stdout",
     "output_type": "stream",
     "text": [
      "param: {'model': 'GBC', 'max_depth': 10, 'criterion': 'friedman_mse', 'min_impurity_decrease': 0.06642277400412204, 'min_samples_leaf': 0.047877482707349185}\n",
      "param: {'model': 'GBC', 'max_depth': 1, 'criterion': 'mae', 'min_impurity_decrease': 0.07914618740232053, 'min_samples_leaf': 0.02984469374649652}\n"
     ]
    },
    {
     "name": "stderr",
     "output_type": "stream",
     "text": [
      "C:\\Users\\Asus\\anaconda3\\lib\\site-packages\\sklearn\\ensemble\\_gb.py:1118: FutureWarning: criterion='mae' was deprecated in version 0.24 and will be removed in version 1.1 (renaming of 0.26). Use criterion='friedman_mse' or 'mse' instead, as trees should use a least-square criterion in Gradient Boosting.\n",
      "  warnings.warn(\"criterion='mae' was deprecated in version 0.24 and \"\n"
     ]
    },
    {
     "name": "stdout",
     "output_type": "stream",
     "text": [
      "param: {'model': 'GBC', 'max_depth': 3, 'criterion': 'friedman_mse', 'min_impurity_decrease': 0.006475320685871366, 'min_samples_leaf': 0.05853620442381395}\n",
      "param: {'model': 'RFC', 'max_depth': 4, 'criterion': 'gini', 'min_impurity_decrease': 0.05679520074805718, 'min_samples_leaf': 0.0848216892148024}\n",
      "param: {'model': 'RFC', 'max_depth': 5, 'criterion': 'entropy', 'min_impurity_decrease': 0.04800958784534095, 'min_samples_leaf': 4}\n",
      "param: {'model': 'GBC', 'max_depth': 3, 'criterion': 'mae', 'min_impurity_decrease': 0.08540343237549272, 'min_samples_leaf': 1}\n"
     ]
    },
    {
     "name": "stderr",
     "output_type": "stream",
     "text": [
      "C:\\Users\\Asus\\anaconda3\\lib\\site-packages\\sklearn\\ensemble\\_gb.py:1118: FutureWarning: criterion='mae' was deprecated in version 0.24 and will be removed in version 1.1 (renaming of 0.26). Use criterion='friedman_mse' or 'mse' instead, as trees should use a least-square criterion in Gradient Boosting.\n",
      "  warnings.warn(\"criterion='mae' was deprecated in version 0.24 and \"\n"
     ]
    },
    {
     "name": "stdout",
     "output_type": "stream",
     "text": [
      "param: {'model': 'GBC', 'max_depth': 7, 'criterion': 'friedman_mse', 'min_impurity_decrease': 0.08318267433199938, 'min_samples_leaf': 0.06172852427102229}\n",
      "param: {'model': 'GBC', 'max_depth': 7, 'criterion': 'mae', 'min_impurity_decrease': 0.013633940930939836, 'min_samples_leaf': 14}\n"
     ]
    },
    {
     "name": "stderr",
     "output_type": "stream",
     "text": [
      "C:\\Users\\Asus\\anaconda3\\lib\\site-packages\\sklearn\\ensemble\\_gb.py:1118: FutureWarning: criterion='mae' was deprecated in version 0.24 and will be removed in version 1.1 (renaming of 0.26). Use criterion='friedman_mse' or 'mse' instead, as trees should use a least-square criterion in Gradient Boosting.\n",
      "  warnings.warn(\"criterion='mae' was deprecated in version 0.24 and \"\n"
     ]
    },
    {
     "name": "stdout",
     "output_type": "stream",
     "text": [
      "param: {'model': 'GBC', 'max_depth': 7, 'criterion': 'friedman_mse', 'min_impurity_decrease': 0.003776923863639392, 'min_samples_leaf': 0.0820950958915049}\n",
      "param: {'model': 'GBC', 'max_depth': 3, 'criterion': 'mae', 'min_impurity_decrease': 0.0996433444427469, 'min_samples_leaf': 9}\n"
     ]
    },
    {
     "name": "stderr",
     "output_type": "stream",
     "text": [
      "C:\\Users\\Asus\\anaconda3\\lib\\site-packages\\sklearn\\ensemble\\_gb.py:1118: FutureWarning: criterion='mae' was deprecated in version 0.24 and will be removed in version 1.1 (renaming of 0.26). Use criterion='friedman_mse' or 'mse' instead, as trees should use a least-square criterion in Gradient Boosting.\n",
      "  warnings.warn(\"criterion='mae' was deprecated in version 0.24 and \"\n"
     ]
    },
    {
     "name": "stdout",
     "output_type": "stream",
     "text": [
      "param: {'model': 'RFC', 'max_depth': 3, 'criterion': 'gini', 'min_impurity_decrease': 0.011327033306331946, 'min_samples_leaf': 11}\n",
      "param: {'model': 'RFC', 'max_depth': 1, 'criterion': 'entropy', 'min_impurity_decrease': 0.04092701328668783, 'min_samples_leaf': 16}\n",
      "param: {'model': 'RFC', 'max_depth': 3, 'criterion': 'entropy', 'min_impurity_decrease': 0.02370630183691319, 'min_samples_leaf': 19}\n",
      "param: {'model': 'GBC', 'max_depth': 2, 'criterion': 'friedman_mse', 'min_impurity_decrease': 0.034477328670132146, 'min_samples_leaf': 6}\n",
      "param: {'model': 'RFC', 'max_depth': 3, 'criterion': 'entropy', 'min_impurity_decrease': 0.03931743078369167, 'min_samples_leaf': 0.07033512945696434}\n",
      "param: {'model': 'RFC', 'max_depth': 2, 'criterion': 'gini', 'min_impurity_decrease': 0.09423313532099754, 'min_samples_leaf': 18}\n",
      "param: {'model': 'RFC', 'max_depth': 2, 'criterion': 'entropy', 'min_impurity_decrease': 0.09862721812860317, 'min_samples_leaf': 0.0975128221960967}\n",
      "param: {'model': 'GBC', 'max_depth': 10, 'criterion': 'mae', 'min_impurity_decrease': 0.03204753471877806, 'min_samples_leaf': 5}\n"
     ]
    },
    {
     "name": "stderr",
     "output_type": "stream",
     "text": [
      "C:\\Users\\Asus\\anaconda3\\lib\\site-packages\\sklearn\\ensemble\\_gb.py:1118: FutureWarning: criterion='mae' was deprecated in version 0.24 and will be removed in version 1.1 (renaming of 0.26). Use criterion='friedman_mse' or 'mse' instead, as trees should use a least-square criterion in Gradient Boosting.\n",
      "  warnings.warn(\"criterion='mae' was deprecated in version 0.24 and \"\n"
     ]
    },
    {
     "name": "stdout",
     "output_type": "stream",
     "text": [
      "param: {'model': 'GBC', 'max_depth': 1, 'criterion': 'mae', 'min_impurity_decrease': 0.04895842179726721, 'min_samples_leaf': 0.049287450423727855}\n"
     ]
    },
    {
     "name": "stderr",
     "output_type": "stream",
     "text": [
      "C:\\Users\\Asus\\anaconda3\\lib\\site-packages\\sklearn\\ensemble\\_gb.py:1118: FutureWarning: criterion='mae' was deprecated in version 0.24 and will be removed in version 1.1 (renaming of 0.26). Use criterion='friedman_mse' or 'mse' instead, as trees should use a least-square criterion in Gradient Boosting.\n",
      "  warnings.warn(\"criterion='mae' was deprecated in version 0.24 and \"\n"
     ]
    },
    {
     "name": "stdout",
     "output_type": "stream",
     "text": [
      "param: {'model': 'RFC', 'max_depth': 9, 'criterion': 'entropy', 'min_impurity_decrease': 0.00991966176838983, 'min_samples_leaf': 15}\n",
      "param: {'model': 'RFC', 'max_depth': 4, 'criterion': 'gini', 'min_impurity_decrease': 0.062099876924340006, 'min_samples_leaf': 3}\n",
      "param: {'model': 'RFC', 'max_depth': 1, 'criterion': 'gini', 'min_impurity_decrease': 0.06831323908147614, 'min_samples_leaf': 7}\n",
      "param: {'model': 'RFC', 'max_depth': 8, 'criterion': 'gini', 'min_impurity_decrease': 0.03285200111822354, 'min_samples_leaf': 0.0650205164053635}\n",
      "param: {'model': 'GBC', 'max_depth': 9, 'criterion': 'mae', 'min_impurity_decrease': 0.033699642845508214, 'min_samples_leaf': 16}\n"
     ]
    },
    {
     "name": "stderr",
     "output_type": "stream",
     "text": [
      "C:\\Users\\Asus\\anaconda3\\lib\\site-packages\\sklearn\\ensemble\\_gb.py:1118: FutureWarning: criterion='mae' was deprecated in version 0.24 and will be removed in version 1.1 (renaming of 0.26). Use criterion='friedman_mse' or 'mse' instead, as trees should use a least-square criterion in Gradient Boosting.\n",
      "  warnings.warn(\"criterion='mae' was deprecated in version 0.24 and \"\n"
     ]
    },
    {
     "name": "stdout",
     "output_type": "stream",
     "text": [
      "param: {'model': 'GBC', 'max_depth': 7, 'criterion': 'friedman_mse', 'min_impurity_decrease': 0.0020940799325612327, 'min_samples_leaf': 9}\n",
      "param: {'model': 'RFC', 'max_depth': 2, 'criterion': 'gini', 'min_impurity_decrease': 0.068014026969713, 'min_samples_leaf': 0.07765632874386873}\n",
      "param: {'model': 'RFC', 'max_depth': 8, 'criterion': 'gini', 'min_impurity_decrease': 0.08406031016636642, 'min_samples_leaf': 11}\n",
      "param: {'model': 'GBC', 'max_depth': 3, 'criterion': 'friedman_mse', 'min_impurity_decrease': 0.07484033761410361, 'min_samples_leaf': 0.002490809601726729}\n",
      "param: {'model': 'RFC', 'max_depth': 1, 'criterion': 'entropy', 'min_impurity_decrease': 0.08387371522482347, 'min_samples_leaf': 9}\n",
      "param: {'model': 'GBC', 'max_depth': 7, 'criterion': 'mae', 'min_impurity_decrease': 0.09205998940461597, 'min_samples_leaf': 19}\n"
     ]
    },
    {
     "name": "stderr",
     "output_type": "stream",
     "text": [
      "C:\\Users\\Asus\\anaconda3\\lib\\site-packages\\sklearn\\ensemble\\_gb.py:1118: FutureWarning: criterion='mae' was deprecated in version 0.24 and will be removed in version 1.1 (renaming of 0.26). Use criterion='friedman_mse' or 'mse' instead, as trees should use a least-square criterion in Gradient Boosting.\n",
      "  warnings.warn(\"criterion='mae' was deprecated in version 0.24 and \"\n"
     ]
    },
    {
     "name": "stdout",
     "output_type": "stream",
     "text": [
      "param: {'model': 'RFC', 'max_depth': 2, 'criterion': 'gini', 'min_impurity_decrease': 0.09216097417285253, 'min_samples_leaf': 6}\n",
      "param: {'model': 'RFC', 'max_depth': 2, 'criterion': 'gini', 'min_impurity_decrease': 0.0271136223408442, 'min_samples_leaf': 0.048545081553007}\n",
      "param: {'model': 'GBC', 'max_depth': 2, 'criterion': 'friedman_mse', 'min_impurity_decrease': 0.048366939152583346, 'min_samples_leaf': 16}\n",
      "param: {'model': 'RFC', 'max_depth': 9, 'criterion': 'gini', 'min_impurity_decrease': 0.09748503093948535, 'min_samples_leaf': 4}\n",
      "param: {'model': 'GBC', 'max_depth': 2, 'criterion': 'mae', 'min_impurity_decrease': 0.046209533672968504, 'min_samples_leaf': 0.01382175725343605}\n"
     ]
    },
    {
     "name": "stderr",
     "output_type": "stream",
     "text": [
      "C:\\Users\\Asus\\anaconda3\\lib\\site-packages\\sklearn\\ensemble\\_gb.py:1118: FutureWarning: criterion='mae' was deprecated in version 0.24 and will be removed in version 1.1 (renaming of 0.26). Use criterion='friedman_mse' or 'mse' instead, as trees should use a least-square criterion in Gradient Boosting.\n",
      "  warnings.warn(\"criterion='mae' was deprecated in version 0.24 and \"\n"
     ]
    },
    {
     "name": "stdout",
     "output_type": "stream",
     "text": [
      "param: {'model': 'RFC', 'max_depth': 6, 'criterion': 'gini', 'min_impurity_decrease': 0.03734097948987737, 'min_samples_leaf': 0.06765617426975146}\n",
      "param: {'model': 'RFC', 'max_depth': 5, 'criterion': 'gini', 'min_impurity_decrease': 0.05368105512793793, 'min_samples_leaf': 6}\n",
      "param: {'model': 'RFC', 'max_depth': 3, 'criterion': 'entropy', 'min_impurity_decrease': 0.023391314088894877, 'min_samples_leaf': 0.09712058839871496}\n",
      "param: {'model': 'RFC', 'max_depth': 6, 'criterion': 'entropy', 'min_impurity_decrease': 0.0711293105295061, 'min_samples_leaf': 0.00789762312290473}\n",
      "param: {'model': 'GBC', 'max_depth': 5, 'criterion': 'mae', 'min_impurity_decrease': 0.024151115721895978, 'min_samples_leaf': 11}\n"
     ]
    },
    {
     "name": "stderr",
     "output_type": "stream",
     "text": [
      "C:\\Users\\Asus\\anaconda3\\lib\\site-packages\\sklearn\\ensemble\\_gb.py:1118: FutureWarning: criterion='mae' was deprecated in version 0.24 and will be removed in version 1.1 (renaming of 0.26). Use criterion='friedman_mse' or 'mse' instead, as trees should use a least-square criterion in Gradient Boosting.\n",
      "  warnings.warn(\"criterion='mae' was deprecated in version 0.24 and \"\n"
     ]
    },
    {
     "name": "stdout",
     "output_type": "stream",
     "text": [
      "param: {'model': 'GBC', 'max_depth': 2, 'criterion': 'mae', 'min_impurity_decrease': 0.031229034774287547, 'min_samples_leaf': 0.07650199251108304}\n"
     ]
    },
    {
     "name": "stderr",
     "output_type": "stream",
     "text": [
      "C:\\Users\\Asus\\anaconda3\\lib\\site-packages\\sklearn\\ensemble\\_gb.py:1118: FutureWarning: criterion='mae' was deprecated in version 0.24 and will be removed in version 1.1 (renaming of 0.26). Use criterion='friedman_mse' or 'mse' instead, as trees should use a least-square criterion in Gradient Boosting.\n",
      "  warnings.warn(\"criterion='mae' was deprecated in version 0.24 and \"\n"
     ]
    },
    {
     "name": "stdout",
     "output_type": "stream",
     "text": [
      "param: {'model': 'GBC', 'max_depth': 9, 'criterion': 'mae', 'min_impurity_decrease': 0.06568383109584339, 'min_samples_leaf': 6}\n"
     ]
    },
    {
     "name": "stderr",
     "output_type": "stream",
     "text": [
      "C:\\Users\\Asus\\anaconda3\\lib\\site-packages\\sklearn\\ensemble\\_gb.py:1118: FutureWarning: criterion='mae' was deprecated in version 0.24 and will be removed in version 1.1 (renaming of 0.26). Use criterion='friedman_mse' or 'mse' instead, as trees should use a least-square criterion in Gradient Boosting.\n",
      "  warnings.warn(\"criterion='mae' was deprecated in version 0.24 and \"\n"
     ]
    },
    {
     "name": "stdout",
     "output_type": "stream",
     "text": [
      "param: {'model': 'GBC', 'max_depth': 10, 'criterion': 'friedman_mse', 'min_impurity_decrease': 0.02598847045408348, 'min_samples_leaf': 0.02488365314540162}\n",
      "param: {'model': 'RFC', 'max_depth': 7, 'criterion': 'gini', 'min_impurity_decrease': 0.03940071390145372, 'min_samples_leaf': 17}\n",
      "param: {'model': 'RFC', 'max_depth': 5, 'criterion': 'entropy', 'min_impurity_decrease': 0.008491090851976812, 'min_samples_leaf': 7}\n",
      "param: {'model': 'GBC', 'max_depth': 8, 'criterion': 'mae', 'min_impurity_decrease': 0.0618939629588516, 'min_samples_leaf': 5}\n"
     ]
    },
    {
     "name": "stderr",
     "output_type": "stream",
     "text": [
      "C:\\Users\\Asus\\anaconda3\\lib\\site-packages\\sklearn\\ensemble\\_gb.py:1118: FutureWarning: criterion='mae' was deprecated in version 0.24 and will be removed in version 1.1 (renaming of 0.26). Use criterion='friedman_mse' or 'mse' instead, as trees should use a least-square criterion in Gradient Boosting.\n",
      "  warnings.warn(\"criterion='mae' was deprecated in version 0.24 and \"\n"
     ]
    },
    {
     "name": "stdout",
     "output_type": "stream",
     "text": [
      "param: {'model': 'GBC', 'max_depth': 5, 'criterion': 'friedman_mse', 'min_impurity_decrease': 0.028151955006174834, 'min_samples_leaf': 20}\n",
      "param: {'model': 'GBC', 'max_depth': 3, 'criterion': 'friedman_mse', 'min_impurity_decrease': 0.03163924151386854, 'min_samples_leaf': 14}\n",
      "param: {'model': 'RFC', 'max_depth': 6, 'criterion': 'entropy', 'min_impurity_decrease': 0.05380685918430671, 'min_samples_leaf': 0.01847413744966845}\n",
      "param: {'model': 'GBC', 'max_depth': 10, 'criterion': 'mae', 'min_impurity_decrease': 0.06783166408994654, 'min_samples_leaf': 9}\n"
     ]
    },
    {
     "name": "stderr",
     "output_type": "stream",
     "text": [
      "C:\\Users\\Asus\\anaconda3\\lib\\site-packages\\sklearn\\ensemble\\_gb.py:1118: FutureWarning: criterion='mae' was deprecated in version 0.24 and will be removed in version 1.1 (renaming of 0.26). Use criterion='friedman_mse' or 'mse' instead, as trees should use a least-square criterion in Gradient Boosting.\n",
      "  warnings.warn(\"criterion='mae' was deprecated in version 0.24 and \"\n"
     ]
    },
    {
     "name": "stdout",
     "output_type": "stream",
     "text": [
      "param: {'model': 'RFC', 'max_depth': 8, 'criterion': 'gini', 'min_impurity_decrease': 0.05881303724057098, 'min_samples_leaf': 0.07207983215550365}\n",
      "\n",
      "\n",
      "\n",
      "GEN 5:\n",
      "param: {'model': 'RFC', 'max_depth': 5, 'criterion': 'entropy', 'min_impurity_decrease': 0.09967314172975314, 'min_samples_leaf': 5}\n",
      "param: {'model': 'GBC', 'max_depth': 8, 'criterion': 'mae', 'min_impurity_decrease': 0.018526216223491987, 'min_samples_leaf': 18}\n"
     ]
    },
    {
     "name": "stderr",
     "output_type": "stream",
     "text": [
      "C:\\Users\\Asus\\anaconda3\\lib\\site-packages\\sklearn\\ensemble\\_gb.py:1118: FutureWarning: criterion='mae' was deprecated in version 0.24 and will be removed in version 1.1 (renaming of 0.26). Use criterion='friedman_mse' or 'mse' instead, as trees should use a least-square criterion in Gradient Boosting.\n",
      "  warnings.warn(\"criterion='mae' was deprecated in version 0.24 and \"\n"
     ]
    },
    {
     "name": "stdout",
     "output_type": "stream",
     "text": [
      "param: {'model': 'RFC', 'max_depth': 3, 'criterion': 'entropy', 'min_impurity_decrease': 0.04572325358379631, 'min_samples_leaf': 19}\n",
      "param: {'model': 'GBC', 'max_depth': 3, 'criterion': 'friedman_mse', 'min_impurity_decrease': 0.05972933008808323, 'min_samples_leaf': 0.021454210316403266}\n",
      "param: {'model': 'GBC', 'max_depth': 8, 'criterion': 'mae', 'min_impurity_decrease': 0.00979043538738058, 'min_samples_leaf': 8}\n"
     ]
    },
    {
     "name": "stderr",
     "output_type": "stream",
     "text": [
      "C:\\Users\\Asus\\anaconda3\\lib\\site-packages\\sklearn\\ensemble\\_gb.py:1118: FutureWarning: criterion='mae' was deprecated in version 0.24 and will be removed in version 1.1 (renaming of 0.26). Use criterion='friedman_mse' or 'mse' instead, as trees should use a least-square criterion in Gradient Boosting.\n",
      "  warnings.warn(\"criterion='mae' was deprecated in version 0.24 and \"\n"
     ]
    },
    {
     "name": "stdout",
     "output_type": "stream",
     "text": [
      "param: {'model': 'GBC', 'max_depth': 6, 'criterion': 'friedman_mse', 'min_impurity_decrease': 0.011170545097360174, 'min_samples_leaf': 0.008355648950918703}\n",
      "param: {'model': 'GBC', 'max_depth': 6, 'criterion': 'mae', 'min_impurity_decrease': 0.005417344105696387, 'min_samples_leaf': 0.04326200004749455}\n"
     ]
    },
    {
     "name": "stderr",
     "output_type": "stream",
     "text": [
      "C:\\Users\\Asus\\anaconda3\\lib\\site-packages\\sklearn\\ensemble\\_gb.py:1118: FutureWarning: criterion='mae' was deprecated in version 0.24 and will be removed in version 1.1 (renaming of 0.26). Use criterion='friedman_mse' or 'mse' instead, as trees should use a least-square criterion in Gradient Boosting.\n",
      "  warnings.warn(\"criterion='mae' was deprecated in version 0.24 and \"\n"
     ]
    },
    {
     "name": "stdout",
     "output_type": "stream",
     "text": [
      "param: {'model': 'GBC', 'max_depth': 3, 'criterion': 'friedman_mse', 'min_impurity_decrease': 0.06566751618136381, 'min_samples_leaf': 0.0862949323524406}\n",
      "param: {'model': 'GBC', 'max_depth': 10, 'criterion': 'friedman_mse', 'min_impurity_decrease': 0.03373110371500313, 'min_samples_leaf': 0.015611144865638027}\n",
      "param: {'model': 'RFC', 'max_depth': 5, 'criterion': 'gini', 'min_impurity_decrease': 0.09744817460286849, 'min_samples_leaf': 16}\n",
      "param: {'model': 'RFC', 'max_depth': 2, 'criterion': 'entropy', 'min_impurity_decrease': 0.08587160508973464, 'min_samples_leaf': 0.04707835036297653}\n",
      "param: {'model': 'GBC', 'max_depth': 2, 'criterion': 'friedman_mse', 'min_impurity_decrease': 0.08089709168910299, 'min_samples_leaf': 0.016985658059974384}\n",
      "param: {'model': 'RFC', 'max_depth': 3, 'criterion': 'entropy', 'min_impurity_decrease': 0.04867819248458012, 'min_samples_leaf': 0.018313394280151184}\n",
      "param: {'model': 'RFC', 'max_depth': 6, 'criterion': 'gini', 'min_impurity_decrease': 0.04737774241775028, 'min_samples_leaf': 0.0005135518436522712}\n",
      "param: {'model': 'GBC', 'max_depth': 9, 'criterion': 'friedman_mse', 'min_impurity_decrease': 0.06150187105425185, 'min_samples_leaf': 0.09346764798876868}\n",
      "param: {'model': 'GBC', 'max_depth': 10, 'criterion': 'mae', 'min_impurity_decrease': 0.012673992597837325, 'min_samples_leaf': 1}\n"
     ]
    },
    {
     "name": "stderr",
     "output_type": "stream",
     "text": [
      "C:\\Users\\Asus\\anaconda3\\lib\\site-packages\\sklearn\\ensemble\\_gb.py:1118: FutureWarning: criterion='mae' was deprecated in version 0.24 and will be removed in version 1.1 (renaming of 0.26). Use criterion='friedman_mse' or 'mse' instead, as trees should use a least-square criterion in Gradient Boosting.\n",
      "  warnings.warn(\"criterion='mae' was deprecated in version 0.24 and \"\n"
     ]
    },
    {
     "name": "stdout",
     "output_type": "stream",
     "text": [
      "param: {'model': 'RFC', 'max_depth': 5, 'criterion': 'entropy', 'min_impurity_decrease': 0.04338477858383447, 'min_samples_leaf': 0.019836028437921503}\n",
      "param: {'model': 'RFC', 'max_depth': 1, 'criterion': 'entropy', 'min_impurity_decrease': 0.08922671701912804, 'min_samples_leaf': 1}\n",
      "param: {'model': 'RFC', 'max_depth': 7, 'criterion': 'entropy', 'min_impurity_decrease': 0.059854616879964594, 'min_samples_leaf': 15}\n",
      "param: {'model': 'GBC', 'max_depth': 5, 'criterion': 'friedman_mse', 'min_impurity_decrease': 0.095835692613543, 'min_samples_leaf': 0.04940893202278296}\n",
      "param: {'model': 'RFC', 'max_depth': 6, 'criterion': 'entropy', 'min_impurity_decrease': 0.027886062694878776, 'min_samples_leaf': 11}\n",
      "param: {'model': 'GBC', 'max_depth': 1, 'criterion': 'mae', 'min_impurity_decrease': 0.027988144816190365, 'min_samples_leaf': 0.0281755415640358}\n"
     ]
    },
    {
     "name": "stderr",
     "output_type": "stream",
     "text": [
      "C:\\Users\\Asus\\anaconda3\\lib\\site-packages\\sklearn\\ensemble\\_gb.py:1118: FutureWarning: criterion='mae' was deprecated in version 0.24 and will be removed in version 1.1 (renaming of 0.26). Use criterion='friedman_mse' or 'mse' instead, as trees should use a least-square criterion in Gradient Boosting.\n",
      "  warnings.warn(\"criterion='mae' was deprecated in version 0.24 and \"\n"
     ]
    },
    {
     "name": "stdout",
     "output_type": "stream",
     "text": [
      "param: {'model': 'RFC', 'max_depth': 3, 'criterion': 'entropy', 'min_impurity_decrease': 0.05000753235240203, 'min_samples_leaf': 0.045440760793165946}\n",
      "param: {'model': 'GBC', 'max_depth': 4, 'criterion': 'friedman_mse', 'min_impurity_decrease': 0.051737987317595005, 'min_samples_leaf': 0.02591145842412177}\n",
      "param: {'model': 'GBC', 'max_depth': 4, 'criterion': 'mae', 'min_impurity_decrease': 0.045251073366388686, 'min_samples_leaf': 15}\n"
     ]
    },
    {
     "name": "stderr",
     "output_type": "stream",
     "text": [
      "C:\\Users\\Asus\\anaconda3\\lib\\site-packages\\sklearn\\ensemble\\_gb.py:1118: FutureWarning: criterion='mae' was deprecated in version 0.24 and will be removed in version 1.1 (renaming of 0.26). Use criterion='friedman_mse' or 'mse' instead, as trees should use a least-square criterion in Gradient Boosting.\n",
      "  warnings.warn(\"criterion='mae' was deprecated in version 0.24 and \"\n"
     ]
    },
    {
     "name": "stdout",
     "output_type": "stream",
     "text": [
      "param: {'model': 'GBC', 'max_depth': 4, 'criterion': 'mae', 'min_impurity_decrease': 0.011472182988841163, 'min_samples_leaf': 0.09891528768247392}\n"
     ]
    },
    {
     "name": "stderr",
     "output_type": "stream",
     "text": [
      "C:\\Users\\Asus\\anaconda3\\lib\\site-packages\\sklearn\\ensemble\\_gb.py:1118: FutureWarning: criterion='mae' was deprecated in version 0.24 and will be removed in version 1.1 (renaming of 0.26). Use criterion='friedman_mse' or 'mse' instead, as trees should use a least-square criterion in Gradient Boosting.\n",
      "  warnings.warn(\"criterion='mae' was deprecated in version 0.24 and \"\n"
     ]
    },
    {
     "name": "stdout",
     "output_type": "stream",
     "text": [
      "param: {'model': 'GBC', 'max_depth': 10, 'criterion': 'friedman_mse', 'min_impurity_decrease': 0.0786780830482694, 'min_samples_leaf': 14}\n",
      "param: {'model': 'GBC', 'max_depth': 6, 'criterion': 'mae', 'min_impurity_decrease': 0.08166798823117546, 'min_samples_leaf': 0.09604098617340566}\n"
     ]
    },
    {
     "name": "stderr",
     "output_type": "stream",
     "text": [
      "C:\\Users\\Asus\\anaconda3\\lib\\site-packages\\sklearn\\ensemble\\_gb.py:1118: FutureWarning: criterion='mae' was deprecated in version 0.24 and will be removed in version 1.1 (renaming of 0.26). Use criterion='friedman_mse' or 'mse' instead, as trees should use a least-square criterion in Gradient Boosting.\n",
      "  warnings.warn(\"criterion='mae' was deprecated in version 0.24 and \"\n"
     ]
    },
    {
     "name": "stdout",
     "output_type": "stream",
     "text": [
      "param: {'model': 'GBC', 'max_depth': 1, 'criterion': 'mae', 'min_impurity_decrease': 0.009008259528715945, 'min_samples_leaf': 13}\n"
     ]
    },
    {
     "name": "stderr",
     "output_type": "stream",
     "text": [
      "C:\\Users\\Asus\\anaconda3\\lib\\site-packages\\sklearn\\ensemble\\_gb.py:1118: FutureWarning: criterion='mae' was deprecated in version 0.24 and will be removed in version 1.1 (renaming of 0.26). Use criterion='friedman_mse' or 'mse' instead, as trees should use a least-square criterion in Gradient Boosting.\n",
      "  warnings.warn(\"criterion='mae' was deprecated in version 0.24 and \"\n"
     ]
    },
    {
     "name": "stdout",
     "output_type": "stream",
     "text": [
      "param: {'model': 'GBC', 'max_depth': 4, 'criterion': 'friedman_mse', 'min_impurity_decrease': 0.09208798813778073, 'min_samples_leaf': 8}\n",
      "param: {'model': 'RFC', 'max_depth': 2, 'criterion': 'gini', 'min_impurity_decrease': 0.06969594766675982, 'min_samples_leaf': 8}\n",
      "param: {'model': 'GBC', 'max_depth': 7, 'criterion': 'friedman_mse', 'min_impurity_decrease': 0.07410636906725837, 'min_samples_leaf': 2}\n",
      "param: {'model': 'GBC', 'max_depth': 5, 'criterion': 'friedman_mse', 'min_impurity_decrease': 0.06790448163264201, 'min_samples_leaf': 0.046660429158962125}\n",
      "param: {'model': 'RFC', 'max_depth': 8, 'criterion': 'gini', 'min_impurity_decrease': 0.051444540143727915, 'min_samples_leaf': 16}\n",
      "param: {'model': 'RFC', 'max_depth': 6, 'criterion': 'entropy', 'min_impurity_decrease': 0.02336007491493124, 'min_samples_leaf': 11}\n",
      "param: {'model': 'GBC', 'max_depth': 3, 'criterion': 'mae', 'min_impurity_decrease': 0.06538605509482961, 'min_samples_leaf': 6}\n"
     ]
    },
    {
     "name": "stderr",
     "output_type": "stream",
     "text": [
      "C:\\Users\\Asus\\anaconda3\\lib\\site-packages\\sklearn\\ensemble\\_gb.py:1118: FutureWarning: criterion='mae' was deprecated in version 0.24 and will be removed in version 1.1 (renaming of 0.26). Use criterion='friedman_mse' or 'mse' instead, as trees should use a least-square criterion in Gradient Boosting.\n",
      "  warnings.warn(\"criterion='mae' was deprecated in version 0.24 and \"\n"
     ]
    },
    {
     "name": "stdout",
     "output_type": "stream",
     "text": [
      "param: {'model': 'RFC', 'max_depth': 1, 'criterion': 'entropy', 'min_impurity_decrease': 0.06383904704909761, 'min_samples_leaf': 13}\n",
      "param: {'model': 'RFC', 'max_depth': 5, 'criterion': 'gini', 'min_impurity_decrease': 0.09601427924460651, 'min_samples_leaf': 0.07250001934076075}\n",
      "param: {'model': 'RFC', 'max_depth': 2, 'criterion': 'entropy', 'min_impurity_decrease': 0.03313196765973284, 'min_samples_leaf': 14}\n",
      "param: {'model': 'GBC', 'max_depth': 6, 'criterion': 'mae', 'min_impurity_decrease': 0.0452028804782408, 'min_samples_leaf': 19}\n"
     ]
    },
    {
     "name": "stderr",
     "output_type": "stream",
     "text": [
      "C:\\Users\\Asus\\anaconda3\\lib\\site-packages\\sklearn\\ensemble\\_gb.py:1118: FutureWarning: criterion='mae' was deprecated in version 0.24 and will be removed in version 1.1 (renaming of 0.26). Use criterion='friedman_mse' or 'mse' instead, as trees should use a least-square criterion in Gradient Boosting.\n",
      "  warnings.warn(\"criterion='mae' was deprecated in version 0.24 and \"\n"
     ]
    },
    {
     "name": "stdout",
     "output_type": "stream",
     "text": [
      "param: {'model': 'GBC', 'max_depth': 3, 'criterion': 'mae', 'min_impurity_decrease': 0.09902536939341619, 'min_samples_leaf': 8}\n"
     ]
    },
    {
     "name": "stderr",
     "output_type": "stream",
     "text": [
      "C:\\Users\\Asus\\anaconda3\\lib\\site-packages\\sklearn\\ensemble\\_gb.py:1118: FutureWarning: criterion='mae' was deprecated in version 0.24 and will be removed in version 1.1 (renaming of 0.26). Use criterion='friedman_mse' or 'mse' instead, as trees should use a least-square criterion in Gradient Boosting.\n",
      "  warnings.warn(\"criterion='mae' was deprecated in version 0.24 and \"\n"
     ]
    },
    {
     "name": "stdout",
     "output_type": "stream",
     "text": [
      "param: {'model': 'GBC', 'max_depth': 10, 'criterion': 'friedman_mse', 'min_impurity_decrease': 0.01479210968488891, 'min_samples_leaf': 0.0709810909644181}\n",
      "param: {'model': 'RFC', 'max_depth': 3, 'criterion': 'gini', 'min_impurity_decrease': 0.09514478723084932, 'min_samples_leaf': 0.09230002977600472}\n",
      "param: {'model': 'GBC', 'max_depth': 6, 'criterion': 'friedman_mse', 'min_impurity_decrease': 0.02859948295792536, 'min_samples_leaf': 0.052941604202770234}\n",
      "param: {'model': 'RFC', 'max_depth': 8, 'criterion': 'gini', 'min_impurity_decrease': 0.09484193518618496, 'min_samples_leaf': 1}\n",
      "param: {'model': 'GBC', 'max_depth': 7, 'criterion': 'friedman_mse', 'min_impurity_decrease': 0.0884020587020143, 'min_samples_leaf': 0.057983679459557666}\n",
      "param: {'model': 'GBC', 'max_depth': 2, 'criterion': 'friedman_mse', 'min_impurity_decrease': 0.06445526676309044, 'min_samples_leaf': 0.019224324317267748}\n",
      "param: {'model': 'GBC', 'max_depth': 4, 'criterion': 'friedman_mse', 'min_impurity_decrease': 0.05546039205319207, 'min_samples_leaf': 13}\n",
      "param: {'model': 'RFC', 'max_depth': 6, 'criterion': 'entropy', 'min_impurity_decrease': 0.04720357485626343, 'min_samples_leaf': 0.05565747780457235}\n",
      "param: {'model': 'RFC', 'max_depth': 4, 'criterion': 'gini', 'min_impurity_decrease': 0.02724001712143178, 'min_samples_leaf': 17}\n",
      "param: {'model': 'RFC', 'max_depth': 1, 'criterion': 'entropy', 'min_impurity_decrease': 0.022866491929758793, 'min_samples_leaf': 11}\n",
      "param: {'model': 'RFC', 'max_depth': 6, 'criterion': 'entropy', 'min_impurity_decrease': 0.057056042789372506, 'min_samples_leaf': 20}\n",
      "param: {'model': 'RFC', 'max_depth': 4, 'criterion': 'gini', 'min_impurity_decrease': 0.03149007441423777, 'min_samples_leaf': 0.06313109630252475}\n",
      "param: {'model': 'RFC', 'max_depth': 5, 'criterion': 'entropy', 'min_impurity_decrease': 0.036575158034293384, 'min_samples_leaf': 0.07613616676941073}\n",
      "param: {'model': 'RFC', 'max_depth': 3, 'criterion': 'entropy', 'min_impurity_decrease': 0.012599220923519006, 'min_samples_leaf': 0.00791267304402975}\n",
      "param: {'model': 'RFC', 'max_depth': 7, 'criterion': 'gini', 'min_impurity_decrease': 0.05986152213346292, 'min_samples_leaf': 0.0949964843930745}\n",
      "param: {'model': 'RFC', 'max_depth': 9, 'criterion': 'entropy', 'min_impurity_decrease': 0.015888818257592585, 'min_samples_leaf': 16}\n",
      "param: {'model': 'GBC', 'max_depth': 4, 'criterion': 'mae', 'min_impurity_decrease': 0.08714647887373178, 'min_samples_leaf': 14}\n"
     ]
    },
    {
     "name": "stderr",
     "output_type": "stream",
     "text": [
      "C:\\Users\\Asus\\anaconda3\\lib\\site-packages\\sklearn\\ensemble\\_gb.py:1118: FutureWarning: criterion='mae' was deprecated in version 0.24 and will be removed in version 1.1 (renaming of 0.26). Use criterion='friedman_mse' or 'mse' instead, as trees should use a least-square criterion in Gradient Boosting.\n",
      "  warnings.warn(\"criterion='mae' was deprecated in version 0.24 and \"\n"
     ]
    },
    {
     "name": "stdout",
     "output_type": "stream",
     "text": [
      "param: {'model': 'RFC', 'max_depth': 4, 'criterion': 'gini', 'min_impurity_decrease': 0.01646790677399399, 'min_samples_leaf': 0.07337220519700446}\n",
      "param: {'model': 'GBC', 'max_depth': 4, 'criterion': 'mae', 'min_impurity_decrease': 0.03345959974567621, 'min_samples_leaf': 0.030190774350711335}\n"
     ]
    },
    {
     "name": "stderr",
     "output_type": "stream",
     "text": [
      "C:\\Users\\Asus\\anaconda3\\lib\\site-packages\\sklearn\\ensemble\\_gb.py:1118: FutureWarning: criterion='mae' was deprecated in version 0.24 and will be removed in version 1.1 (renaming of 0.26). Use criterion='friedman_mse' or 'mse' instead, as trees should use a least-square criterion in Gradient Boosting.\n",
      "  warnings.warn(\"criterion='mae' was deprecated in version 0.24 and \"\n"
     ]
    },
    {
     "name": "stdout",
     "output_type": "stream",
     "text": [
      "param: {'model': 'GBC', 'max_depth': 9, 'criterion': 'friedman_mse', 'min_impurity_decrease': 0.08791517571670827, 'min_samples_leaf': 15}\n",
      "param: {'model': 'GBC', 'max_depth': 9, 'criterion': 'friedman_mse', 'min_impurity_decrease': 0.04162078123126295, 'min_samples_leaf': 0.04339906229540959}\n",
      "param: {'model': 'GBC', 'max_depth': 6, 'criterion': 'friedman_mse', 'min_impurity_decrease': 0.07579191430805524, 'min_samples_leaf': 0.09294565921615114}\n",
      "param: {'model': 'GBC', 'max_depth': 10, 'criterion': 'friedman_mse', 'min_impurity_decrease': 0.03244418379036057, 'min_samples_leaf': 0.09971111710900714}\n",
      "param: {'model': 'RFC', 'max_depth': 7, 'criterion': 'entropy', 'min_impurity_decrease': 0.017070555470614823, 'min_samples_leaf': 17}\n",
      "param: {'model': 'RFC', 'max_depth': 5, 'criterion': 'entropy', 'min_impurity_decrease': 0.028051774766639826, 'min_samples_leaf': 20}\n",
      "param: {'model': 'GBC', 'max_depth': 10, 'criterion': 'mae', 'min_impurity_decrease': 0.053695296337062694, 'min_samples_leaf': 0.0537857933974543}\n"
     ]
    },
    {
     "name": "stderr",
     "output_type": "stream",
     "text": [
      "C:\\Users\\Asus\\anaconda3\\lib\\site-packages\\sklearn\\ensemble\\_gb.py:1118: FutureWarning: criterion='mae' was deprecated in version 0.24 and will be removed in version 1.1 (renaming of 0.26). Use criterion='friedman_mse' or 'mse' instead, as trees should use a least-square criterion in Gradient Boosting.\n",
      "  warnings.warn(\"criterion='mae' was deprecated in version 0.24 and \"\n"
     ]
    },
    {
     "name": "stdout",
     "output_type": "stream",
     "text": [
      "param: {'model': 'GBC', 'max_depth': 9, 'criterion': 'friedman_mse', 'min_impurity_decrease': 0.04202690640917246, 'min_samples_leaf': 10}\n",
      "param: {'model': 'GBC', 'max_depth': 5, 'criterion': 'friedman_mse', 'min_impurity_decrease': 0.09340035893886202, 'min_samples_leaf': 6}\n",
      "param: {'model': 'GBC', 'max_depth': 8, 'criterion': 'mae', 'min_impurity_decrease': 0.08634310791298136, 'min_samples_leaf': 0.03462288664048975}\n"
     ]
    },
    {
     "name": "stderr",
     "output_type": "stream",
     "text": [
      "C:\\Users\\Asus\\anaconda3\\lib\\site-packages\\sklearn\\ensemble\\_gb.py:1118: FutureWarning: criterion='mae' was deprecated in version 0.24 and will be removed in version 1.1 (renaming of 0.26). Use criterion='friedman_mse' or 'mse' instead, as trees should use a least-square criterion in Gradient Boosting.\n",
      "  warnings.warn(\"criterion='mae' was deprecated in version 0.24 and \"\n"
     ]
    },
    {
     "name": "stdout",
     "output_type": "stream",
     "text": [
      "param: {'model': 'GBC', 'max_depth': 4, 'criterion': 'friedman_mse', 'min_impurity_decrease': 0.07854474072556189, 'min_samples_leaf': 0.021188269044595143}\n",
      "param: {'model': 'GBC', 'max_depth': 2, 'criterion': 'friedman_mse', 'min_impurity_decrease': 0.049770328276021625, 'min_samples_leaf': 15}\n",
      "param: {'model': 'RFC', 'max_depth': 2, 'criterion': 'entropy', 'min_impurity_decrease': 0.046662209754865, 'min_samples_leaf': 0.034186488229255685}\n",
      "param: {'model': 'GBC', 'max_depth': 9, 'criterion': 'friedman_mse', 'min_impurity_decrease': 0.08024595373310596, 'min_samples_leaf': 0.020376121519236724}\n",
      "param: {'model': 'GBC', 'max_depth': 6, 'criterion': 'mae', 'min_impurity_decrease': 0.023340383384157504, 'min_samples_leaf': 2}\n"
     ]
    },
    {
     "name": "stderr",
     "output_type": "stream",
     "text": [
      "C:\\Users\\Asus\\anaconda3\\lib\\site-packages\\sklearn\\ensemble\\_gb.py:1118: FutureWarning: criterion='mae' was deprecated in version 0.24 and will be removed in version 1.1 (renaming of 0.26). Use criterion='friedman_mse' or 'mse' instead, as trees should use a least-square criterion in Gradient Boosting.\n",
      "  warnings.warn(\"criterion='mae' was deprecated in version 0.24 and \"\n"
     ]
    },
    {
     "name": "stdout",
     "output_type": "stream",
     "text": [
      "param: {'model': 'GBC', 'max_depth': 6, 'criterion': 'mae', 'min_impurity_decrease': 0.010193408465670762, 'min_samples_leaf': 0.06781257006737598}\n"
     ]
    },
    {
     "name": "stderr",
     "output_type": "stream",
     "text": [
      "C:\\Users\\Asus\\anaconda3\\lib\\site-packages\\sklearn\\ensemble\\_gb.py:1118: FutureWarning: criterion='mae' was deprecated in version 0.24 and will be removed in version 1.1 (renaming of 0.26). Use criterion='friedman_mse' or 'mse' instead, as trees should use a least-square criterion in Gradient Boosting.\n",
      "  warnings.warn(\"criterion='mae' was deprecated in version 0.24 and \"\n"
     ]
    },
    {
     "name": "stdout",
     "output_type": "stream",
     "text": [
      "param: {'model': 'GBC', 'max_depth': 9, 'criterion': 'friedman_mse', 'min_impurity_decrease': 0.03946328675024047, 'min_samples_leaf': 0.08518645055842058}\n",
      "param: {'model': 'RFC', 'max_depth': 5, 'criterion': 'entropy', 'min_impurity_decrease': 0.04915059430086314, 'min_samples_leaf': 18}\n",
      "param: {'model': 'GBC', 'max_depth': 3, 'criterion': 'friedman_mse', 'min_impurity_decrease': 0.04874773936693185, 'min_samples_leaf': 3}\n",
      "param: {'model': 'GBC', 'max_depth': 10, 'criterion': 'mae', 'min_impurity_decrease': 0.027156997297094053, 'min_samples_leaf': 9}\n"
     ]
    },
    {
     "name": "stderr",
     "output_type": "stream",
     "text": [
      "C:\\Users\\Asus\\anaconda3\\lib\\site-packages\\sklearn\\ensemble\\_gb.py:1118: FutureWarning: criterion='mae' was deprecated in version 0.24 and will be removed in version 1.1 (renaming of 0.26). Use criterion='friedman_mse' or 'mse' instead, as trees should use a least-square criterion in Gradient Boosting.\n",
      "  warnings.warn(\"criterion='mae' was deprecated in version 0.24 and \"\n"
     ]
    },
    {
     "name": "stdout",
     "output_type": "stream",
     "text": [
      "param: {'model': 'RFC', 'max_depth': 8, 'criterion': 'gini', 'min_impurity_decrease': 0.060520562327212056, 'min_samples_leaf': 9}\n",
      "param: {'model': 'RFC', 'max_depth': 3, 'criterion': 'entropy', 'min_impurity_decrease': 0.09035921562149815, 'min_samples_leaf': 7}\n",
      "param: {'model': 'GBC', 'max_depth': 3, 'criterion': 'mae', 'min_impurity_decrease': 0.06765751852152331, 'min_samples_leaf': 0.012617316394447863}\n"
     ]
    },
    {
     "name": "stderr",
     "output_type": "stream",
     "text": [
      "C:\\Users\\Asus\\anaconda3\\lib\\site-packages\\sklearn\\ensemble\\_gb.py:1118: FutureWarning: criterion='mae' was deprecated in version 0.24 and will be removed in version 1.1 (renaming of 0.26). Use criterion='friedman_mse' or 'mse' instead, as trees should use a least-square criterion in Gradient Boosting.\n",
      "  warnings.warn(\"criterion='mae' was deprecated in version 0.24 and \"\n"
     ]
    },
    {
     "name": "stdout",
     "output_type": "stream",
     "text": [
      "param: {'model': 'RFC', 'max_depth': 9, 'criterion': 'entropy', 'min_impurity_decrease': 0.05943020286459884, 'min_samples_leaf': 1}\n",
      "param: {'model': 'GBC', 'max_depth': 2, 'criterion': 'friedman_mse', 'min_impurity_decrease': 0.05628045475777482, 'min_samples_leaf': 8}\n",
      "param: {'model': 'RFC', 'max_depth': 4, 'criterion': 'entropy', 'min_impurity_decrease': 0.005128167966892161, 'min_samples_leaf': 10}\n",
      "param: {'model': 'RFC', 'max_depth': 3, 'criterion': 'gini', 'min_impurity_decrease': 0.02700640622875696, 'min_samples_leaf': 0.02392999440768656}\n",
      "param: {'model': 'RFC', 'max_depth': 3, 'criterion': 'gini', 'min_impurity_decrease': 0.09515552032976617, 'min_samples_leaf': 0.05079699891268985}\n",
      "param: {'model': 'GBC', 'max_depth': 5, 'criterion': 'friedman_mse', 'min_impurity_decrease': 0.08577575373945531, 'min_samples_leaf': 0.005192951253851863}\n",
      "param: {'model': 'GBC', 'max_depth': 4, 'criterion': 'mae', 'min_impurity_decrease': 0.09384833644812116, 'min_samples_leaf': 0.09790697388448531}\n"
     ]
    },
    {
     "name": "stderr",
     "output_type": "stream",
     "text": [
      "C:\\Users\\Asus\\anaconda3\\lib\\site-packages\\sklearn\\ensemble\\_gb.py:1118: FutureWarning: criterion='mae' was deprecated in version 0.24 and will be removed in version 1.1 (renaming of 0.26). Use criterion='friedman_mse' or 'mse' instead, as trees should use a least-square criterion in Gradient Boosting.\n",
      "  warnings.warn(\"criterion='mae' was deprecated in version 0.24 and \"\n"
     ]
    },
    {
     "name": "stdout",
     "output_type": "stream",
     "text": [
      "\n",
      "\n",
      "\n",
      "GEN 6:\n",
      "param: {'model': 'GBC', 'max_depth': 6, 'criterion': 'friedman_mse', 'min_impurity_decrease': 0.05370520867212595, 'min_samples_leaf': 4}\n",
      "param: {'model': 'GBC', 'max_depth': 1, 'criterion': 'friedman_mse', 'min_impurity_decrease': 0.07631458008635612, 'min_samples_leaf': 12}\n",
      "param: {'model': 'RFC', 'max_depth': 2, 'criterion': 'gini', 'min_impurity_decrease': 0.05419631602997109, 'min_samples_leaf': 1}\n",
      "param: {'model': 'GBC', 'max_depth': 4, 'criterion': 'mae', 'min_impurity_decrease': 0.04852046509028157, 'min_samples_leaf': 8}\n"
     ]
    },
    {
     "name": "stderr",
     "output_type": "stream",
     "text": [
      "C:\\Users\\Asus\\anaconda3\\lib\\site-packages\\sklearn\\ensemble\\_gb.py:1118: FutureWarning: criterion='mae' was deprecated in version 0.24 and will be removed in version 1.1 (renaming of 0.26). Use criterion='friedman_mse' or 'mse' instead, as trees should use a least-square criterion in Gradient Boosting.\n",
      "  warnings.warn(\"criterion='mae' was deprecated in version 0.24 and \"\n"
     ]
    },
    {
     "name": "stdout",
     "output_type": "stream",
     "text": [
      "param: {'model': 'GBC', 'max_depth': 1, 'criterion': 'friedman_mse', 'min_impurity_decrease': 0.0966674074739024, 'min_samples_leaf': 0.056294060713093806}\n",
      "param: {'model': 'GBC', 'max_depth': 1, 'criterion': 'mae', 'min_impurity_decrease': 0.007324338882737713, 'min_samples_leaf': 0.07805906891429655}\n"
     ]
    },
    {
     "name": "stderr",
     "output_type": "stream",
     "text": [
      "C:\\Users\\Asus\\anaconda3\\lib\\site-packages\\sklearn\\ensemble\\_gb.py:1118: FutureWarning: criterion='mae' was deprecated in version 0.24 and will be removed in version 1.1 (renaming of 0.26). Use criterion='friedman_mse' or 'mse' instead, as trees should use a least-square criterion in Gradient Boosting.\n",
      "  warnings.warn(\"criterion='mae' was deprecated in version 0.24 and \"\n"
     ]
    },
    {
     "name": "stdout",
     "output_type": "stream",
     "text": [
      "param: {'model': 'RFC', 'max_depth': 5, 'criterion': 'gini', 'min_impurity_decrease': 0.0009253131944378489, 'min_samples_leaf': 0.04573202466318198}\n",
      "param: {'model': 'RFC', 'max_depth': 1, 'criterion': 'entropy', 'min_impurity_decrease': 0.004566516241546925, 'min_samples_leaf': 17}\n",
      "param: {'model': 'GBC', 'max_depth': 8, 'criterion': 'friedman_mse', 'min_impurity_decrease': 0.08811007476454699, 'min_samples_leaf': 0.09355694516612204}\n",
      "param: {'model': 'GBC', 'max_depth': 7, 'criterion': 'mae', 'min_impurity_decrease': 0.09033202872805991, 'min_samples_leaf': 11}\n"
     ]
    },
    {
     "name": "stderr",
     "output_type": "stream",
     "text": [
      "C:\\Users\\Asus\\anaconda3\\lib\\site-packages\\sklearn\\ensemble\\_gb.py:1118: FutureWarning: criterion='mae' was deprecated in version 0.24 and will be removed in version 1.1 (renaming of 0.26). Use criterion='friedman_mse' or 'mse' instead, as trees should use a least-square criterion in Gradient Boosting.\n",
      "  warnings.warn(\"criterion='mae' was deprecated in version 0.24 and \"\n"
     ]
    },
    {
     "name": "stdout",
     "output_type": "stream",
     "text": [
      "param: {'model': 'GBC', 'max_depth': 4, 'criterion': 'mae', 'min_impurity_decrease': 0.05038239124049184, 'min_samples_leaf': 16}\n"
     ]
    },
    {
     "name": "stderr",
     "output_type": "stream",
     "text": [
      "C:\\Users\\Asus\\anaconda3\\lib\\site-packages\\sklearn\\ensemble\\_gb.py:1118: FutureWarning: criterion='mae' was deprecated in version 0.24 and will be removed in version 1.1 (renaming of 0.26). Use criterion='friedman_mse' or 'mse' instead, as trees should use a least-square criterion in Gradient Boosting.\n",
      "  warnings.warn(\"criterion='mae' was deprecated in version 0.24 and \"\n"
     ]
    },
    {
     "name": "stdout",
     "output_type": "stream",
     "text": [
      "param: {'model': 'GBC', 'max_depth': 10, 'criterion': 'mae', 'min_impurity_decrease': 0.0644585091369699, 'min_samples_leaf': 0.013529415268478794}\n"
     ]
    },
    {
     "name": "stderr",
     "output_type": "stream",
     "text": [
      "C:\\Users\\Asus\\anaconda3\\lib\\site-packages\\sklearn\\ensemble\\_gb.py:1118: FutureWarning: criterion='mae' was deprecated in version 0.24 and will be removed in version 1.1 (renaming of 0.26). Use criterion='friedman_mse' or 'mse' instead, as trees should use a least-square criterion in Gradient Boosting.\n",
      "  warnings.warn(\"criterion='mae' was deprecated in version 0.24 and \"\n"
     ]
    },
    {
     "name": "stdout",
     "output_type": "stream",
     "text": [
      "param: {'model': 'RFC', 'max_depth': 4, 'criterion': 'gini', 'min_impurity_decrease': 0.08419988385791582, 'min_samples_leaf': 12}\n",
      "param: {'model': 'GBC', 'max_depth': 1, 'criterion': 'friedman_mse', 'min_impurity_decrease': 0.058252958208697005, 'min_samples_leaf': 0.03395676304975868}\n",
      "param: {'model': 'RFC', 'max_depth': 9, 'criterion': 'entropy', 'min_impurity_decrease': 0.019598256960762193, 'min_samples_leaf': 0.05441251050246013}\n",
      "param: {'model': 'RFC', 'max_depth': 4, 'criterion': 'gini', 'min_impurity_decrease': 0.09003612953486104, 'min_samples_leaf': 10}\n",
      "param: {'model': 'GBC', 'max_depth': 7, 'criterion': 'mae', 'min_impurity_decrease': 0.03159505909598685, 'min_samples_leaf': 20}\n"
     ]
    },
    {
     "name": "stderr",
     "output_type": "stream",
     "text": [
      "C:\\Users\\Asus\\anaconda3\\lib\\site-packages\\sklearn\\ensemble\\_gb.py:1118: FutureWarning: criterion='mae' was deprecated in version 0.24 and will be removed in version 1.1 (renaming of 0.26). Use criterion='friedman_mse' or 'mse' instead, as trees should use a least-square criterion in Gradient Boosting.\n",
      "  warnings.warn(\"criterion='mae' was deprecated in version 0.24 and \"\n"
     ]
    },
    {
     "name": "stdout",
     "output_type": "stream",
     "text": [
      "param: {'model': 'GBC', 'max_depth': 9, 'criterion': 'friedman_mse', 'min_impurity_decrease': 0.07378661639154485, 'min_samples_leaf': 12}\n",
      "param: {'model': 'GBC', 'max_depth': 7, 'criterion': 'mae', 'min_impurity_decrease': 0.06359806785506754, 'min_samples_leaf': 8}\n"
     ]
    },
    {
     "name": "stderr",
     "output_type": "stream",
     "text": [
      "C:\\Users\\Asus\\anaconda3\\lib\\site-packages\\sklearn\\ensemble\\_gb.py:1118: FutureWarning: criterion='mae' was deprecated in version 0.24 and will be removed in version 1.1 (renaming of 0.26). Use criterion='friedman_mse' or 'mse' instead, as trees should use a least-square criterion in Gradient Boosting.\n",
      "  warnings.warn(\"criterion='mae' was deprecated in version 0.24 and \"\n"
     ]
    },
    {
     "name": "stdout",
     "output_type": "stream",
     "text": [
      "param: {'model': 'GBC', 'max_depth': 4, 'criterion': 'mae', 'min_impurity_decrease': 0.08727355848543097, 'min_samples_leaf': 8}\n"
     ]
    },
    {
     "name": "stderr",
     "output_type": "stream",
     "text": [
      "C:\\Users\\Asus\\anaconda3\\lib\\site-packages\\sklearn\\ensemble\\_gb.py:1118: FutureWarning: criterion='mae' was deprecated in version 0.24 and will be removed in version 1.1 (renaming of 0.26). Use criterion='friedman_mse' or 'mse' instead, as trees should use a least-square criterion in Gradient Boosting.\n",
      "  warnings.warn(\"criterion='mae' was deprecated in version 0.24 and \"\n"
     ]
    },
    {
     "name": "stdout",
     "output_type": "stream",
     "text": [
      "param: {'model': 'GBC', 'max_depth': 5, 'criterion': 'friedman_mse', 'min_impurity_decrease': 0.08245034981950701, 'min_samples_leaf': 8}\n",
      "param: {'model': 'RFC', 'max_depth': 3, 'criterion': 'gini', 'min_impurity_decrease': 0.004052887709642339, 'min_samples_leaf': 0.004302406929451608}\n",
      "param: {'model': 'RFC', 'max_depth': 1, 'criterion': 'gini', 'min_impurity_decrease': 0.08964135150444548, 'min_samples_leaf': 5}\n",
      "param: {'model': 'RFC', 'max_depth': 9, 'criterion': 'gini', 'min_impurity_decrease': 0.05622337301507907, 'min_samples_leaf': 16}\n",
      "param: {'model': 'GBC', 'max_depth': 5, 'criterion': 'friedman_mse', 'min_impurity_decrease': 0.055454233998840606, 'min_samples_leaf': 16}\n",
      "param: {'model': 'RFC', 'max_depth': 7, 'criterion': 'gini', 'min_impurity_decrease': 0.013932270204691987, 'min_samples_leaf': 13}\n",
      "param: {'model': 'GBC', 'max_depth': 1, 'criterion': 'friedman_mse', 'min_impurity_decrease': 0.06433973026796912, 'min_samples_leaf': 14}\n",
      "param: {'model': 'RFC', 'max_depth': 3, 'criterion': 'gini', 'min_impurity_decrease': 0.018414682861048425, 'min_samples_leaf': 13}\n",
      "param: {'model': 'GBC', 'max_depth': 2, 'criterion': 'mae', 'min_impurity_decrease': 0.06191309581403246, 'min_samples_leaf': 0.03914983573350996}\n"
     ]
    },
    {
     "name": "stderr",
     "output_type": "stream",
     "text": [
      "C:\\Users\\Asus\\anaconda3\\lib\\site-packages\\sklearn\\ensemble\\_gb.py:1118: FutureWarning: criterion='mae' was deprecated in version 0.24 and will be removed in version 1.1 (renaming of 0.26). Use criterion='friedman_mse' or 'mse' instead, as trees should use a least-square criterion in Gradient Boosting.\n",
      "  warnings.warn(\"criterion='mae' was deprecated in version 0.24 and \"\n"
     ]
    },
    {
     "name": "stdout",
     "output_type": "stream",
     "text": [
      "param: {'model': 'GBC', 'max_depth': 10, 'criterion': 'mae', 'min_impurity_decrease': 0.0826146934614741, 'min_samples_leaf': 19}\n"
     ]
    },
    {
     "name": "stderr",
     "output_type": "stream",
     "text": [
      "C:\\Users\\Asus\\anaconda3\\lib\\site-packages\\sklearn\\ensemble\\_gb.py:1118: FutureWarning: criterion='mae' was deprecated in version 0.24 and will be removed in version 1.1 (renaming of 0.26). Use criterion='friedman_mse' or 'mse' instead, as trees should use a least-square criterion in Gradient Boosting.\n",
      "  warnings.warn(\"criterion='mae' was deprecated in version 0.24 and \"\n"
     ]
    },
    {
     "name": "stdout",
     "output_type": "stream",
     "text": [
      "param: {'model': 'GBC', 'max_depth': 4, 'criterion': 'friedman_mse', 'min_impurity_decrease': 0.06501659835776001, 'min_samples_leaf': 0.032142781082282634}\n",
      "param: {'model': 'GBC', 'max_depth': 9, 'criterion': 'mae', 'min_impurity_decrease': 0.031051941488994584, 'min_samples_leaf': 5}\n"
     ]
    },
    {
     "name": "stderr",
     "output_type": "stream",
     "text": [
      "C:\\Users\\Asus\\anaconda3\\lib\\site-packages\\sklearn\\ensemble\\_gb.py:1118: FutureWarning: criterion='mae' was deprecated in version 0.24 and will be removed in version 1.1 (renaming of 0.26). Use criterion='friedman_mse' or 'mse' instead, as trees should use a least-square criterion in Gradient Boosting.\n",
      "  warnings.warn(\"criterion='mae' was deprecated in version 0.24 and \"\n"
     ]
    },
    {
     "name": "stdout",
     "output_type": "stream",
     "text": [
      "param: {'model': 'GBC', 'max_depth': 10, 'criterion': 'mae', 'min_impurity_decrease': 0.02829386485699259, 'min_samples_leaf': 3}\n"
     ]
    },
    {
     "name": "stderr",
     "output_type": "stream",
     "text": [
      "C:\\Users\\Asus\\anaconda3\\lib\\site-packages\\sklearn\\ensemble\\_gb.py:1118: FutureWarning: criterion='mae' was deprecated in version 0.24 and will be removed in version 1.1 (renaming of 0.26). Use criterion='friedman_mse' or 'mse' instead, as trees should use a least-square criterion in Gradient Boosting.\n",
      "  warnings.warn(\"criterion='mae' was deprecated in version 0.24 and \"\n"
     ]
    },
    {
     "name": "stdout",
     "output_type": "stream",
     "text": [
      "param: {'model': 'GBC', 'max_depth': 6, 'criterion': 'mae', 'min_impurity_decrease': 0.041538804141905326, 'min_samples_leaf': 10}\n"
     ]
    },
    {
     "name": "stderr",
     "output_type": "stream",
     "text": [
      "C:\\Users\\Asus\\anaconda3\\lib\\site-packages\\sklearn\\ensemble\\_gb.py:1118: FutureWarning: criterion='mae' was deprecated in version 0.24 and will be removed in version 1.1 (renaming of 0.26). Use criterion='friedman_mse' or 'mse' instead, as trees should use a least-square criterion in Gradient Boosting.\n",
      "  warnings.warn(\"criterion='mae' was deprecated in version 0.24 and \"\n"
     ]
    },
    {
     "name": "stdout",
     "output_type": "stream",
     "text": [
      "param: {'model': 'GBC', 'max_depth': 2, 'criterion': 'friedman_mse', 'min_impurity_decrease': 0.09647198756716142, 'min_samples_leaf': 0.045130983273419537}\n",
      "param: {'model': 'GBC', 'max_depth': 8, 'criterion': 'mae', 'min_impurity_decrease': 0.0446290515659182, 'min_samples_leaf': 19}\n"
     ]
    },
    {
     "name": "stderr",
     "output_type": "stream",
     "text": [
      "C:\\Users\\Asus\\anaconda3\\lib\\site-packages\\sklearn\\ensemble\\_gb.py:1118: FutureWarning: criterion='mae' was deprecated in version 0.24 and will be removed in version 1.1 (renaming of 0.26). Use criterion='friedman_mse' or 'mse' instead, as trees should use a least-square criterion in Gradient Boosting.\n",
      "  warnings.warn(\"criterion='mae' was deprecated in version 0.24 and \"\n"
     ]
    },
    {
     "name": "stdout",
     "output_type": "stream",
     "text": [
      "param: {'model': 'GBC', 'max_depth': 8, 'criterion': 'friedman_mse', 'min_impurity_decrease': 0.0862627607800536, 'min_samples_leaf': 0.004247336049859074}\n",
      "param: {'model': 'RFC', 'max_depth': 10, 'criterion': 'entropy', 'min_impurity_decrease': 0.03914161271743671, 'min_samples_leaf': 0.0763775424656852}\n",
      "param: {'model': 'RFC', 'max_depth': 9, 'criterion': 'entropy', 'min_impurity_decrease': 0.098764430764094, 'min_samples_leaf': 6}\n",
      "param: {'model': 'RFC', 'max_depth': 9, 'criterion': 'gini', 'min_impurity_decrease': 0.07055436109489194, 'min_samples_leaf': 0.09772864295310116}\n",
      "param: {'model': 'RFC', 'max_depth': 8, 'criterion': 'entropy', 'min_impurity_decrease': 0.08938377057275289, 'min_samples_leaf': 11}\n",
      "param: {'model': 'RFC', 'max_depth': 4, 'criterion': 'entropy', 'min_impurity_decrease': 0.08163732248404618, 'min_samples_leaf': 0.03317720967853177}\n",
      "param: {'model': 'RFC', 'max_depth': 8, 'criterion': 'entropy', 'min_impurity_decrease': 0.03402892238583888, 'min_samples_leaf': 0.0702148243567913}\n",
      "param: {'model': 'GBC', 'max_depth': 3, 'criterion': 'friedman_mse', 'min_impurity_decrease': 0.09704415632681886, 'min_samples_leaf': 0.03607885032444198}\n",
      "param: {'model': 'GBC', 'max_depth': 5, 'criterion': 'friedman_mse', 'min_impurity_decrease': 0.021112189363543876, 'min_samples_leaf': 17}\n",
      "param: {'model': 'RFC', 'max_depth': 1, 'criterion': 'gini', 'min_impurity_decrease': 0.01969015496896407, 'min_samples_leaf': 4}\n",
      "param: {'model': 'GBC', 'max_depth': 1, 'criterion': 'mae', 'min_impurity_decrease': 0.033375848081223146, 'min_samples_leaf': 6}\n"
     ]
    },
    {
     "name": "stderr",
     "output_type": "stream",
     "text": [
      "C:\\Users\\Asus\\anaconda3\\lib\\site-packages\\sklearn\\ensemble\\_gb.py:1118: FutureWarning: criterion='mae' was deprecated in version 0.24 and will be removed in version 1.1 (renaming of 0.26). Use criterion='friedman_mse' or 'mse' instead, as trees should use a least-square criterion in Gradient Boosting.\n",
      "  warnings.warn(\"criterion='mae' was deprecated in version 0.24 and \"\n"
     ]
    },
    {
     "name": "stdout",
     "output_type": "stream",
     "text": [
      "param: {'model': 'RFC', 'max_depth': 10, 'criterion': 'gini', 'min_impurity_decrease': 0.045552782458818816, 'min_samples_leaf': 0.06862387886156221}\n",
      "param: {'model': 'GBC', 'max_depth': 2, 'criterion': 'friedman_mse', 'min_impurity_decrease': 0.04307998274909521, 'min_samples_leaf': 20}\n",
      "param: {'model': 'GBC', 'max_depth': 5, 'criterion': 'friedman_mse', 'min_impurity_decrease': 0.0783080855431782, 'min_samples_leaf': 9}\n",
      "param: {'model': 'GBC', 'max_depth': 3, 'criterion': 'mae', 'min_impurity_decrease': 0.029297047678835553, 'min_samples_leaf': 0.07748260860695377}\n"
     ]
    },
    {
     "name": "stderr",
     "output_type": "stream",
     "text": [
      "C:\\Users\\Asus\\anaconda3\\lib\\site-packages\\sklearn\\ensemble\\_gb.py:1118: FutureWarning: criterion='mae' was deprecated in version 0.24 and will be removed in version 1.1 (renaming of 0.26). Use criterion='friedman_mse' or 'mse' instead, as trees should use a least-square criterion in Gradient Boosting.\n",
      "  warnings.warn(\"criterion='mae' was deprecated in version 0.24 and \"\n"
     ]
    },
    {
     "name": "stdout",
     "output_type": "stream",
     "text": [
      "param: {'model': 'RFC', 'max_depth': 8, 'criterion': 'entropy', 'min_impurity_decrease': 0.048406780793346225, 'min_samples_leaf': 14}\n",
      "param: {'model': 'GBC', 'max_depth': 8, 'criterion': 'mae', 'min_impurity_decrease': 0.06216058058214584, 'min_samples_leaf': 2}\n"
     ]
    },
    {
     "name": "stderr",
     "output_type": "stream",
     "text": [
      "C:\\Users\\Asus\\anaconda3\\lib\\site-packages\\sklearn\\ensemble\\_gb.py:1118: FutureWarning: criterion='mae' was deprecated in version 0.24 and will be removed in version 1.1 (renaming of 0.26). Use criterion='friedman_mse' or 'mse' instead, as trees should use a least-square criterion in Gradient Boosting.\n",
      "  warnings.warn(\"criterion='mae' was deprecated in version 0.24 and \"\n"
     ]
    },
    {
     "name": "stdout",
     "output_type": "stream",
     "text": [
      "param: {'model': 'GBC', 'max_depth': 4, 'criterion': 'friedman_mse', 'min_impurity_decrease': 0.029937240563926625, 'min_samples_leaf': 0.03694403603998773}\n",
      "param: {'model': 'RFC', 'max_depth': 7, 'criterion': 'entropy', 'min_impurity_decrease': 0.0037078927445021283, 'min_samples_leaf': 0.03138133209226758}\n",
      "param: {'model': 'RFC', 'max_depth': 10, 'criterion': 'gini', 'min_impurity_decrease': 0.031104307108247787, 'min_samples_leaf': 0.05110346757536936}\n",
      "param: {'model': 'GBC', 'max_depth': 8, 'criterion': 'mae', 'min_impurity_decrease': 0.07133294694127004, 'min_samples_leaf': 0.027948189773613453}\n"
     ]
    },
    {
     "name": "stderr",
     "output_type": "stream",
     "text": [
      "C:\\Users\\Asus\\anaconda3\\lib\\site-packages\\sklearn\\ensemble\\_gb.py:1118: FutureWarning: criterion='mae' was deprecated in version 0.24 and will be removed in version 1.1 (renaming of 0.26). Use criterion='friedman_mse' or 'mse' instead, as trees should use a least-square criterion in Gradient Boosting.\n",
      "  warnings.warn(\"criterion='mae' was deprecated in version 0.24 and \"\n"
     ]
    },
    {
     "name": "stdout",
     "output_type": "stream",
     "text": [
      "param: {'model': 'RFC', 'max_depth': 2, 'criterion': 'entropy', 'min_impurity_decrease': 0.09065787089136443, 'min_samples_leaf': 0.05013193917518931}\n",
      "param: {'model': 'GBC', 'max_depth': 9, 'criterion': 'friedman_mse', 'min_impurity_decrease': 0.008120722198413999, 'min_samples_leaf': 0.024637196024554255}\n",
      "param: {'model': 'GBC', 'max_depth': 4, 'criterion': 'friedman_mse', 'min_impurity_decrease': 0.07794821326731562, 'min_samples_leaf': 7}\n",
      "param: {'model': 'GBC', 'max_depth': 1, 'criterion': 'mae', 'min_impurity_decrease': 0.06275709460358266, 'min_samples_leaf': 18}\n"
     ]
    },
    {
     "name": "stderr",
     "output_type": "stream",
     "text": [
      "C:\\Users\\Asus\\anaconda3\\lib\\site-packages\\sklearn\\ensemble\\_gb.py:1118: FutureWarning: criterion='mae' was deprecated in version 0.24 and will be removed in version 1.1 (renaming of 0.26). Use criterion='friedman_mse' or 'mse' instead, as trees should use a least-square criterion in Gradient Boosting.\n",
      "  warnings.warn(\"criterion='mae' was deprecated in version 0.24 and \"\n"
     ]
    },
    {
     "name": "stdout",
     "output_type": "stream",
     "text": [
      "param: {'model': 'RFC', 'max_depth': 1, 'criterion': 'gini', 'min_impurity_decrease': 0.07140205409003254, 'min_samples_leaf': 2}\n",
      "param: {'model': 'RFC', 'max_depth': 6, 'criterion': 'gini', 'min_impurity_decrease': 0.019178635173148495, 'min_samples_leaf': 0.08554687051238022}\n",
      "param: {'model': 'GBC', 'max_depth': 9, 'criterion': 'friedman_mse', 'min_impurity_decrease': 0.07783709794575575, 'min_samples_leaf': 17}\n",
      "param: {'model': 'GBC', 'max_depth': 7, 'criterion': 'mae', 'min_impurity_decrease': 0.030459871048839647, 'min_samples_leaf': 0.023006217414603493}\n"
     ]
    },
    {
     "name": "stderr",
     "output_type": "stream",
     "text": [
      "C:\\Users\\Asus\\anaconda3\\lib\\site-packages\\sklearn\\ensemble\\_gb.py:1118: FutureWarning: criterion='mae' was deprecated in version 0.24 and will be removed in version 1.1 (renaming of 0.26). Use criterion='friedman_mse' or 'mse' instead, as trees should use a least-square criterion in Gradient Boosting.\n",
      "  warnings.warn(\"criterion='mae' was deprecated in version 0.24 and \"\n"
     ]
    },
    {
     "name": "stdout",
     "output_type": "stream",
     "text": [
      "param: {'model': 'RFC', 'max_depth': 1, 'criterion': 'gini', 'min_impurity_decrease': 0.011957290440331692, 'min_samples_leaf': 19}\n",
      "param: {'model': 'RFC', 'max_depth': 4, 'criterion': 'entropy', 'min_impurity_decrease': 0.014918450373758918, 'min_samples_leaf': 18}\n",
      "param: {'model': 'RFC', 'max_depth': 6, 'criterion': 'gini', 'min_impurity_decrease': 0.021092144620334728, 'min_samples_leaf': 0.09343290002331414}\n",
      "param: {'model': 'RFC', 'max_depth': 8, 'criterion': 'gini', 'min_impurity_decrease': 0.06354560118964216, 'min_samples_leaf': 3}\n",
      "param: {'model': 'GBC', 'max_depth': 9, 'criterion': 'friedman_mse', 'min_impurity_decrease': 0.09776023332883098, 'min_samples_leaf': 0.006316324652847982}\n",
      "param: {'model': 'GBC', 'max_depth': 10, 'criterion': 'mae', 'min_impurity_decrease': 0.076820240647443, 'min_samples_leaf': 1}\n"
     ]
    },
    {
     "name": "stderr",
     "output_type": "stream",
     "text": [
      "C:\\Users\\Asus\\anaconda3\\lib\\site-packages\\sklearn\\ensemble\\_gb.py:1118: FutureWarning: criterion='mae' was deprecated in version 0.24 and will be removed in version 1.1 (renaming of 0.26). Use criterion='friedman_mse' or 'mse' instead, as trees should use a least-square criterion in Gradient Boosting.\n",
      "  warnings.warn(\"criterion='mae' was deprecated in version 0.24 and \"\n"
     ]
    },
    {
     "name": "stdout",
     "output_type": "stream",
     "text": [
      "param: {'model': 'GBC', 'max_depth': 8, 'criterion': 'friedman_mse', 'min_impurity_decrease': 0.039485803727970926, 'min_samples_leaf': 0.07829864319073976}\n",
      "param: {'model': 'RFC', 'max_depth': 1, 'criterion': 'entropy', 'min_impurity_decrease': 0.053556858476548605, 'min_samples_leaf': 0.048483896862639445}\n",
      "param: {'model': 'GBC', 'max_depth': 2, 'criterion': 'mae', 'min_impurity_decrease': 0.05938223413606299, 'min_samples_leaf': 1}\n"
     ]
    },
    {
     "name": "stderr",
     "output_type": "stream",
     "text": [
      "C:\\Users\\Asus\\anaconda3\\lib\\site-packages\\sklearn\\ensemble\\_gb.py:1118: FutureWarning: criterion='mae' was deprecated in version 0.24 and will be removed in version 1.1 (renaming of 0.26). Use criterion='friedman_mse' or 'mse' instead, as trees should use a least-square criterion in Gradient Boosting.\n",
      "  warnings.warn(\"criterion='mae' was deprecated in version 0.24 and \"\n"
     ]
    },
    {
     "name": "stdout",
     "output_type": "stream",
     "text": [
      "param: {'model': 'RFC', 'max_depth': 5, 'criterion': 'entropy', 'min_impurity_decrease': 0.06761924310510649, 'min_samples_leaf': 0.06037807682365602}\n",
      "param: {'model': 'GBC', 'max_depth': 2, 'criterion': 'mae', 'min_impurity_decrease': 0.0487781665901996, 'min_samples_leaf': 0.017739453833810825}\n"
     ]
    },
    {
     "name": "stderr",
     "output_type": "stream",
     "text": [
      "C:\\Users\\Asus\\anaconda3\\lib\\site-packages\\sklearn\\ensemble\\_gb.py:1118: FutureWarning: criterion='mae' was deprecated in version 0.24 and will be removed in version 1.1 (renaming of 0.26). Use criterion='friedman_mse' or 'mse' instead, as trees should use a least-square criterion in Gradient Boosting.\n",
      "  warnings.warn(\"criterion='mae' was deprecated in version 0.24 and \"\n"
     ]
    },
    {
     "name": "stdout",
     "output_type": "stream",
     "text": [
      "param: {'model': 'GBC', 'max_depth': 6, 'criterion': 'friedman_mse', 'min_impurity_decrease': 0.04297356141358351, 'min_samples_leaf': 0.08438970001074203}\n",
      "param: {'model': 'GBC', 'max_depth': 9, 'criterion': 'mae', 'min_impurity_decrease': 0.03135729312076213, 'min_samples_leaf': 0.07734231267802384}\n"
     ]
    },
    {
     "name": "stderr",
     "output_type": "stream",
     "text": [
      "C:\\Users\\Asus\\anaconda3\\lib\\site-packages\\sklearn\\ensemble\\_gb.py:1118: FutureWarning: criterion='mae' was deprecated in version 0.24 and will be removed in version 1.1 (renaming of 0.26). Use criterion='friedman_mse' or 'mse' instead, as trees should use a least-square criterion in Gradient Boosting.\n",
      "  warnings.warn(\"criterion='mae' was deprecated in version 0.24 and \"\n"
     ]
    },
    {
     "name": "stdout",
     "output_type": "stream",
     "text": [
      "param: {'model': 'GBC', 'max_depth': 4, 'criterion': 'friedman_mse', 'min_impurity_decrease': 0.029942235674664586, 'min_samples_leaf': 5}\n",
      "param: {'model': 'GBC', 'max_depth': 9, 'criterion': 'friedman_mse', 'min_impurity_decrease': 0.021587957500325595, 'min_samples_leaf': 0.013890758279953263}\n",
      "param: {'model': 'GBC', 'max_depth': 2, 'criterion': 'mae', 'min_impurity_decrease': 0.03177773303595185, 'min_samples_leaf': 0.05823948729972141}\n"
     ]
    },
    {
     "name": "stderr",
     "output_type": "stream",
     "text": [
      "C:\\Users\\Asus\\anaconda3\\lib\\site-packages\\sklearn\\ensemble\\_gb.py:1118: FutureWarning: criterion='mae' was deprecated in version 0.24 and will be removed in version 1.1 (renaming of 0.26). Use criterion='friedman_mse' or 'mse' instead, as trees should use a least-square criterion in Gradient Boosting.\n",
      "  warnings.warn(\"criterion='mae' was deprecated in version 0.24 and \"\n"
     ]
    },
    {
     "name": "stdout",
     "output_type": "stream",
     "text": [
      "param: {'model': 'GBC', 'max_depth': 1, 'criterion': 'friedman_mse', 'min_impurity_decrease': 0.046440489939501284, 'min_samples_leaf': 15}\n",
      "param: {'model': 'GBC', 'max_depth': 4, 'criterion': 'mae', 'min_impurity_decrease': 0.05909645049950089, 'min_samples_leaf': 18}\n"
     ]
    },
    {
     "name": "stderr",
     "output_type": "stream",
     "text": [
      "C:\\Users\\Asus\\anaconda3\\lib\\site-packages\\sklearn\\ensemble\\_gb.py:1118: FutureWarning: criterion='mae' was deprecated in version 0.24 and will be removed in version 1.1 (renaming of 0.26). Use criterion='friedman_mse' or 'mse' instead, as trees should use a least-square criterion in Gradient Boosting.\n",
      "  warnings.warn(\"criterion='mae' was deprecated in version 0.24 and \"\n"
     ]
    },
    {
     "name": "stdout",
     "output_type": "stream",
     "text": [
      "param: {'model': 'GBC', 'max_depth': 8, 'criterion': 'friedman_mse', 'min_impurity_decrease': 0.06250403684802569, 'min_samples_leaf': 11}\n",
      "param: {'model': 'GBC', 'max_depth': 1, 'criterion': 'friedman_mse', 'min_impurity_decrease': 0.011882911234977367, 'min_samples_leaf': 20}\n",
      "param: {'model': 'GBC', 'max_depth': 3, 'criterion': 'friedman_mse', 'min_impurity_decrease': 0.04280776816549793, 'min_samples_leaf': 0.060140691068393426}\n",
      "param: {'model': 'GBC', 'max_depth': 6, 'criterion': 'friedman_mse', 'min_impurity_decrease': 0.06402862005877384, 'min_samples_leaf': 4}\n",
      "param: {'model': 'RFC', 'max_depth': 1, 'criterion': 'entropy', 'min_impurity_decrease': 0.03171934660890215, 'min_samples_leaf': 0.03935348078014307}\n",
      "param: {'model': 'GBC', 'max_depth': 10, 'criterion': 'friedman_mse', 'min_impurity_decrease': 0.05204316173981004, 'min_samples_leaf': 0.0015708090835906629}\n",
      "param: {'model': 'RFC', 'max_depth': 9, 'criterion': 'entropy', 'min_impurity_decrease': 0.06973022845582907, 'min_samples_leaf': 0.09748841001912642}\n",
      "\n",
      "\n",
      "\n",
      "GEN 7:\n",
      "param: {'model': 'GBC', 'max_depth': 2, 'criterion': 'mae', 'min_impurity_decrease': 0.024972862929631412, 'min_samples_leaf': 11}\n"
     ]
    },
    {
     "name": "stderr",
     "output_type": "stream",
     "text": [
      "C:\\Users\\Asus\\anaconda3\\lib\\site-packages\\sklearn\\ensemble\\_gb.py:1118: FutureWarning: criterion='mae' was deprecated in version 0.24 and will be removed in version 1.1 (renaming of 0.26). Use criterion='friedman_mse' or 'mse' instead, as trees should use a least-square criterion in Gradient Boosting.\n",
      "  warnings.warn(\"criterion='mae' was deprecated in version 0.24 and \"\n"
     ]
    },
    {
     "name": "stdout",
     "output_type": "stream",
     "text": [
      "param: {'model': 'GBC', 'max_depth': 6, 'criterion': 'mae', 'min_impurity_decrease': 0.03919777769096877, 'min_samples_leaf': 0.031113605731334804}\n"
     ]
    },
    {
     "name": "stderr",
     "output_type": "stream",
     "text": [
      "C:\\Users\\Asus\\anaconda3\\lib\\site-packages\\sklearn\\ensemble\\_gb.py:1118: FutureWarning: criterion='mae' was deprecated in version 0.24 and will be removed in version 1.1 (renaming of 0.26). Use criterion='friedman_mse' or 'mse' instead, as trees should use a least-square criterion in Gradient Boosting.\n",
      "  warnings.warn(\"criterion='mae' was deprecated in version 0.24 and \"\n"
     ]
    },
    {
     "name": "stdout",
     "output_type": "stream",
     "text": [
      "param: {'model': 'GBC', 'max_depth': 3, 'criterion': 'friedman_mse', 'min_impurity_decrease': 0.045637296469262165, 'min_samples_leaf': 1}\n",
      "param: {'model': 'RFC', 'max_depth': 1, 'criterion': 'gini', 'min_impurity_decrease': 0.0822692180379188, 'min_samples_leaf': 0.03332487598914787}\n",
      "param: {'model': 'RFC', 'max_depth': 2, 'criterion': 'entropy', 'min_impurity_decrease': 0.05132602904770243, 'min_samples_leaf': 20}\n",
      "param: {'model': 'GBC', 'max_depth': 1, 'criterion': 'mae', 'min_impurity_decrease': 0.09911784844434733, 'min_samples_leaf': 17}\n"
     ]
    },
    {
     "name": "stderr",
     "output_type": "stream",
     "text": [
      "C:\\Users\\Asus\\anaconda3\\lib\\site-packages\\sklearn\\ensemble\\_gb.py:1118: FutureWarning: criterion='mae' was deprecated in version 0.24 and will be removed in version 1.1 (renaming of 0.26). Use criterion='friedman_mse' or 'mse' instead, as trees should use a least-square criterion in Gradient Boosting.\n",
      "  warnings.warn(\"criterion='mae' was deprecated in version 0.24 and \"\n"
     ]
    },
    {
     "name": "stdout",
     "output_type": "stream",
     "text": [
      "param: {'model': 'GBC', 'max_depth': 1, 'criterion': 'friedman_mse', 'min_impurity_decrease': 0.04320113011464449, 'min_samples_leaf': 0.03040641729344735}\n",
      "param: {'model': 'GBC', 'max_depth': 4, 'criterion': 'friedman_mse', 'min_impurity_decrease': 0.011431122245156366, 'min_samples_leaf': 4}\n",
      "param: {'model': 'RFC', 'max_depth': 3, 'criterion': 'entropy', 'min_impurity_decrease': 0.003032924868899667, 'min_samples_leaf': 0.056346315675309476}\n",
      "param: {'model': 'RFC', 'max_depth': 6, 'criterion': 'entropy', 'min_impurity_decrease': 0.048180707085698805, 'min_samples_leaf': 9}\n",
      "param: {'model': 'GBC', 'max_depth': 10, 'criterion': 'mae', 'min_impurity_decrease': 4.4317052500120194e-05, 'min_samples_leaf': 0.002970727058042022}\n"
     ]
    },
    {
     "name": "stderr",
     "output_type": "stream",
     "text": [
      "C:\\Users\\Asus\\anaconda3\\lib\\site-packages\\sklearn\\ensemble\\_gb.py:1118: FutureWarning: criterion='mae' was deprecated in version 0.24 and will be removed in version 1.1 (renaming of 0.26). Use criterion='friedman_mse' or 'mse' instead, as trees should use a least-square criterion in Gradient Boosting.\n",
      "  warnings.warn(\"criterion='mae' was deprecated in version 0.24 and \"\n"
     ]
    },
    {
     "name": "stdout",
     "output_type": "stream",
     "text": [
      "param: {'model': 'RFC', 'max_depth': 4, 'criterion': 'entropy', 'min_impurity_decrease': 0.08997003560484265, 'min_samples_leaf': 19}\n",
      "param: {'model': 'GBC', 'max_depth': 1, 'criterion': 'mae', 'min_impurity_decrease': 0.038543478926860456, 'min_samples_leaf': 0.06470376082533476}\n"
     ]
    },
    {
     "name": "stderr",
     "output_type": "stream",
     "text": [
      "C:\\Users\\Asus\\anaconda3\\lib\\site-packages\\sklearn\\ensemble\\_gb.py:1118: FutureWarning: criterion='mae' was deprecated in version 0.24 and will be removed in version 1.1 (renaming of 0.26). Use criterion='friedman_mse' or 'mse' instead, as trees should use a least-square criterion in Gradient Boosting.\n",
      "  warnings.warn(\"criterion='mae' was deprecated in version 0.24 and \"\n"
     ]
    },
    {
     "name": "stdout",
     "output_type": "stream",
     "text": [
      "param: {'model': 'GBC', 'max_depth': 2, 'criterion': 'mae', 'min_impurity_decrease': 0.05715623750235136, 'min_samples_leaf': 0.08469266487439837}\n"
     ]
    },
    {
     "name": "stderr",
     "output_type": "stream",
     "text": [
      "C:\\Users\\Asus\\anaconda3\\lib\\site-packages\\sklearn\\ensemble\\_gb.py:1118: FutureWarning: criterion='mae' was deprecated in version 0.24 and will be removed in version 1.1 (renaming of 0.26). Use criterion='friedman_mse' or 'mse' instead, as trees should use a least-square criterion in Gradient Boosting.\n",
      "  warnings.warn(\"criterion='mae' was deprecated in version 0.24 and \"\n"
     ]
    },
    {
     "name": "stdout",
     "output_type": "stream",
     "text": [
      "param: {'model': 'RFC', 'max_depth': 1, 'criterion': 'gini', 'min_impurity_decrease': 0.08127145728003109, 'min_samples_leaf': 6}\n",
      "param: {'model': 'GBC', 'max_depth': 2, 'criterion': 'friedman_mse', 'min_impurity_decrease': 0.05920951841010139, 'min_samples_leaf': 9}\n",
      "param: {'model': 'GBC', 'max_depth': 2, 'criterion': 'mae', 'min_impurity_decrease': 0.02912595587610082, 'min_samples_leaf': 9}\n"
     ]
    },
    {
     "name": "stderr",
     "output_type": "stream",
     "text": [
      "C:\\Users\\Asus\\anaconda3\\lib\\site-packages\\sklearn\\ensemble\\_gb.py:1118: FutureWarning: criterion='mae' was deprecated in version 0.24 and will be removed in version 1.1 (renaming of 0.26). Use criterion='friedman_mse' or 'mse' instead, as trees should use a least-square criterion in Gradient Boosting.\n",
      "  warnings.warn(\"criterion='mae' was deprecated in version 0.24 and \"\n"
     ]
    },
    {
     "name": "stdout",
     "output_type": "stream",
     "text": [
      "param: {'model': 'RFC', 'max_depth': 7, 'criterion': 'gini', 'min_impurity_decrease': 0.09015809715743903, 'min_samples_leaf': 0.04090369169418304}\n",
      "param: {'model': 'RFC', 'max_depth': 6, 'criterion': 'gini', 'min_impurity_decrease': 0.031371746434536885, 'min_samples_leaf': 2}\n",
      "param: {'model': 'RFC', 'max_depth': 3, 'criterion': 'gini', 'min_impurity_decrease': 0.07235810162753151, 'min_samples_leaf': 0.07742452281269621}\n",
      "param: {'model': 'GBC', 'max_depth': 10, 'criterion': 'mae', 'min_impurity_decrease': 0.08536536201459186, 'min_samples_leaf': 7}\n"
     ]
    },
    {
     "name": "stderr",
     "output_type": "stream",
     "text": [
      "C:\\Users\\Asus\\anaconda3\\lib\\site-packages\\sklearn\\ensemble\\_gb.py:1118: FutureWarning: criterion='mae' was deprecated in version 0.24 and will be removed in version 1.1 (renaming of 0.26). Use criterion='friedman_mse' or 'mse' instead, as trees should use a least-square criterion in Gradient Boosting.\n",
      "  warnings.warn(\"criterion='mae' was deprecated in version 0.24 and \"\n"
     ]
    },
    {
     "name": "stdout",
     "output_type": "stream",
     "text": [
      "param: {'model': 'GBC', 'max_depth': 9, 'criterion': 'mae', 'min_impurity_decrease': 0.07696303834277766, 'min_samples_leaf': 0.03164571513312779}\n"
     ]
    },
    {
     "name": "stderr",
     "output_type": "stream",
     "text": [
      "C:\\Users\\Asus\\anaconda3\\lib\\site-packages\\sklearn\\ensemble\\_gb.py:1118: FutureWarning: criterion='mae' was deprecated in version 0.24 and will be removed in version 1.1 (renaming of 0.26). Use criterion='friedman_mse' or 'mse' instead, as trees should use a least-square criterion in Gradient Boosting.\n",
      "  warnings.warn(\"criterion='mae' was deprecated in version 0.24 and \"\n"
     ]
    },
    {
     "name": "stdout",
     "output_type": "stream",
     "text": [
      "param: {'model': 'RFC', 'max_depth': 1, 'criterion': 'entropy', 'min_impurity_decrease': 0.03150997539353636, 'min_samples_leaf': 2}\n",
      "param: {'model': 'RFC', 'max_depth': 4, 'criterion': 'gini', 'min_impurity_decrease': 0.06464587460232493, 'min_samples_leaf': 0.0013807079428922342}\n",
      "param: {'model': 'GBC', 'max_depth': 6, 'criterion': 'mae', 'min_impurity_decrease': 0.011835182914574482, 'min_samples_leaf': 1}\n"
     ]
    },
    {
     "name": "stderr",
     "output_type": "stream",
     "text": [
      "C:\\Users\\Asus\\anaconda3\\lib\\site-packages\\sklearn\\ensemble\\_gb.py:1118: FutureWarning: criterion='mae' was deprecated in version 0.24 and will be removed in version 1.1 (renaming of 0.26). Use criterion='friedman_mse' or 'mse' instead, as trees should use a least-square criterion in Gradient Boosting.\n",
      "  warnings.warn(\"criterion='mae' was deprecated in version 0.24 and \"\n"
     ]
    },
    {
     "name": "stdout",
     "output_type": "stream",
     "text": [
      "param: {'model': 'GBC', 'max_depth': 10, 'criterion': 'friedman_mse', 'min_impurity_decrease': 0.040503482313514735, 'min_samples_leaf': 16}\n",
      "param: {'model': 'GBC', 'max_depth': 10, 'criterion': 'mae', 'min_impurity_decrease': 0.038186022304314636, 'min_samples_leaf': 17}\n"
     ]
    },
    {
     "name": "stderr",
     "output_type": "stream",
     "text": [
      "C:\\Users\\Asus\\anaconda3\\lib\\site-packages\\sklearn\\ensemble\\_gb.py:1118: FutureWarning: criterion='mae' was deprecated in version 0.24 and will be removed in version 1.1 (renaming of 0.26). Use criterion='friedman_mse' or 'mse' instead, as trees should use a least-square criterion in Gradient Boosting.\n",
      "  warnings.warn(\"criterion='mae' was deprecated in version 0.24 and \"\n"
     ]
    },
    {
     "name": "stdout",
     "output_type": "stream",
     "text": [
      "param: {'model': 'GBC', 'max_depth': 10, 'criterion': 'mae', 'min_impurity_decrease': 0.022838922874514934, 'min_samples_leaf': 1}\n"
     ]
    },
    {
     "name": "stderr",
     "output_type": "stream",
     "text": [
      "C:\\Users\\Asus\\anaconda3\\lib\\site-packages\\sklearn\\ensemble\\_gb.py:1118: FutureWarning: criterion='mae' was deprecated in version 0.24 and will be removed in version 1.1 (renaming of 0.26). Use criterion='friedman_mse' or 'mse' instead, as trees should use a least-square criterion in Gradient Boosting.\n",
      "  warnings.warn(\"criterion='mae' was deprecated in version 0.24 and \"\n"
     ]
    },
    {
     "name": "stdout",
     "output_type": "stream",
     "text": [
      "param: {'model': 'GBC', 'max_depth': 9, 'criterion': 'friedman_mse', 'min_impurity_decrease': 0.032499461245864614, 'min_samples_leaf': 0.05451325921839054}\n",
      "param: {'model': 'GBC', 'max_depth': 3, 'criterion': 'friedman_mse', 'min_impurity_decrease': 0.035919914419570265, 'min_samples_leaf': 0.0829451584123295}\n",
      "param: {'model': 'GBC', 'max_depth': 7, 'criterion': 'mae', 'min_impurity_decrease': 0.0955707252298106, 'min_samples_leaf': 0.004902446419806095}\n"
     ]
    },
    {
     "name": "stderr",
     "output_type": "stream",
     "text": [
      "C:\\Users\\Asus\\anaconda3\\lib\\site-packages\\sklearn\\ensemble\\_gb.py:1118: FutureWarning: criterion='mae' was deprecated in version 0.24 and will be removed in version 1.1 (renaming of 0.26). Use criterion='friedman_mse' or 'mse' instead, as trees should use a least-square criterion in Gradient Boosting.\n",
      "  warnings.warn(\"criterion='mae' was deprecated in version 0.24 and \"\n"
     ]
    },
    {
     "name": "stdout",
     "output_type": "stream",
     "text": [
      "param: {'model': 'RFC', 'max_depth': 8, 'criterion': 'entropy', 'min_impurity_decrease': 0.03590582716360702, 'min_samples_leaf': 0.08464499950781591}\n",
      "param: {'model': 'RFC', 'max_depth': 5, 'criterion': 'entropy', 'min_impurity_decrease': 0.060468547458122454, 'min_samples_leaf': 11}\n",
      "param: {'model': 'GBC', 'max_depth': 10, 'criterion': 'mae', 'min_impurity_decrease': 0.0707081212927438, 'min_samples_leaf': 0.03438043395999165}\n"
     ]
    },
    {
     "name": "stderr",
     "output_type": "stream",
     "text": [
      "C:\\Users\\Asus\\anaconda3\\lib\\site-packages\\sklearn\\ensemble\\_gb.py:1118: FutureWarning: criterion='mae' was deprecated in version 0.24 and will be removed in version 1.1 (renaming of 0.26). Use criterion='friedman_mse' or 'mse' instead, as trees should use a least-square criterion in Gradient Boosting.\n",
      "  warnings.warn(\"criterion='mae' was deprecated in version 0.24 and \"\n"
     ]
    },
    {
     "name": "stdout",
     "output_type": "stream",
     "text": [
      "param: {'model': 'GBC', 'max_depth': 6, 'criterion': 'friedman_mse', 'min_impurity_decrease': 0.03047552910869955, 'min_samples_leaf': 17}\n",
      "param: {'model': 'RFC', 'max_depth': 5, 'criterion': 'gini', 'min_impurity_decrease': 0.05428648248990318, 'min_samples_leaf': 0.0685781777384473}\n",
      "param: {'model': 'GBC', 'max_depth': 8, 'criterion': 'friedman_mse', 'min_impurity_decrease': 0.05612951375235028, 'min_samples_leaf': 20}\n",
      "param: {'model': 'RFC', 'max_depth': 5, 'criterion': 'entropy', 'min_impurity_decrease': 0.03348655055165489, 'min_samples_leaf': 0.09828002980760768}\n",
      "param: {'model': 'RFC', 'max_depth': 4, 'criterion': 'gini', 'min_impurity_decrease': 0.017063628191924463, 'min_samples_leaf': 20}\n",
      "param: {'model': 'GBC', 'max_depth': 1, 'criterion': 'friedman_mse', 'min_impurity_decrease': 0.08666346637731852, 'min_samples_leaf': 1}\n",
      "param: {'model': 'GBC', 'max_depth': 1, 'criterion': 'mae', 'min_impurity_decrease': 0.02084422819074806, 'min_samples_leaf': 0.09412628159025019}\n"
     ]
    },
    {
     "name": "stderr",
     "output_type": "stream",
     "text": [
      "C:\\Users\\Asus\\anaconda3\\lib\\site-packages\\sklearn\\ensemble\\_gb.py:1118: FutureWarning: criterion='mae' was deprecated in version 0.24 and will be removed in version 1.1 (renaming of 0.26). Use criterion='friedman_mse' or 'mse' instead, as trees should use a least-square criterion in Gradient Boosting.\n",
      "  warnings.warn(\"criterion='mae' was deprecated in version 0.24 and \"\n"
     ]
    },
    {
     "name": "stdout",
     "output_type": "stream",
     "text": [
      "param: {'model': 'GBC', 'max_depth': 3, 'criterion': 'mae', 'min_impurity_decrease': 0.009272524338851363, 'min_samples_leaf': 0.022402418779346102}\n"
     ]
    },
    {
     "name": "stderr",
     "output_type": "stream",
     "text": [
      "C:\\Users\\Asus\\anaconda3\\lib\\site-packages\\sklearn\\ensemble\\_gb.py:1118: FutureWarning: criterion='mae' was deprecated in version 0.24 and will be removed in version 1.1 (renaming of 0.26). Use criterion='friedman_mse' or 'mse' instead, as trees should use a least-square criterion in Gradient Boosting.\n",
      "  warnings.warn(\"criterion='mae' was deprecated in version 0.24 and \"\n"
     ]
    },
    {
     "name": "stdout",
     "output_type": "stream",
     "text": [
      "param: {'model': 'RFC', 'max_depth': 6, 'criterion': 'gini', 'min_impurity_decrease': 0.04393195096367841, 'min_samples_leaf': 13}\n",
      "param: {'model': 'GBC', 'max_depth': 4, 'criterion': 'mae', 'min_impurity_decrease': 0.09610962892905474, 'min_samples_leaf': 0.07520338840979672}\n"
     ]
    },
    {
     "name": "stderr",
     "output_type": "stream",
     "text": [
      "C:\\Users\\Asus\\anaconda3\\lib\\site-packages\\sklearn\\ensemble\\_gb.py:1118: FutureWarning: criterion='mae' was deprecated in version 0.24 and will be removed in version 1.1 (renaming of 0.26). Use criterion='friedman_mse' or 'mse' instead, as trees should use a least-square criterion in Gradient Boosting.\n",
      "  warnings.warn(\"criterion='mae' was deprecated in version 0.24 and \"\n"
     ]
    },
    {
     "name": "stdout",
     "output_type": "stream",
     "text": [
      "param: {'model': 'RFC', 'max_depth': 5, 'criterion': 'entropy', 'min_impurity_decrease': 0.03343557647421526, 'min_samples_leaf': 14}\n",
      "param: {'model': 'GBC', 'max_depth': 8, 'criterion': 'friedman_mse', 'min_impurity_decrease': 0.013240097325913058, 'min_samples_leaf': 1}\n",
      "param: {'model': 'GBC', 'max_depth': 1, 'criterion': 'friedman_mse', 'min_impurity_decrease': 0.08234804829194717, 'min_samples_leaf': 0.08896901356632766}\n",
      "param: {'model': 'GBC', 'max_depth': 4, 'criterion': 'friedman_mse', 'min_impurity_decrease': 0.04342879645031741, 'min_samples_leaf': 10}\n",
      "param: {'model': 'RFC', 'max_depth': 2, 'criterion': 'entropy', 'min_impurity_decrease': 0.030027050658310205, 'min_samples_leaf': 20}\n",
      "param: {'model': 'RFC', 'max_depth': 10, 'criterion': 'gini', 'min_impurity_decrease': 0.08403718472140176, 'min_samples_leaf': 10}\n",
      "param: {'model': 'GBC', 'max_depth': 10, 'criterion': 'mae', 'min_impurity_decrease': 0.04375927551929402, 'min_samples_leaf': 13}\n"
     ]
    },
    {
     "name": "stderr",
     "output_type": "stream",
     "text": [
      "C:\\Users\\Asus\\anaconda3\\lib\\site-packages\\sklearn\\ensemble\\_gb.py:1118: FutureWarning: criterion='mae' was deprecated in version 0.24 and will be removed in version 1.1 (renaming of 0.26). Use criterion='friedman_mse' or 'mse' instead, as trees should use a least-square criterion in Gradient Boosting.\n",
      "  warnings.warn(\"criterion='mae' was deprecated in version 0.24 and \"\n"
     ]
    },
    {
     "name": "stdout",
     "output_type": "stream",
     "text": [
      "param: {'model': 'GBC', 'max_depth': 4, 'criterion': 'mae', 'min_impurity_decrease': 0.09620569093104125, 'min_samples_leaf': 0.07391797210107068}\n"
     ]
    },
    {
     "name": "stderr",
     "output_type": "stream",
     "text": [
      "C:\\Users\\Asus\\anaconda3\\lib\\site-packages\\sklearn\\ensemble\\_gb.py:1118: FutureWarning: criterion='mae' was deprecated in version 0.24 and will be removed in version 1.1 (renaming of 0.26). Use criterion='friedman_mse' or 'mse' instead, as trees should use a least-square criterion in Gradient Boosting.\n",
      "  warnings.warn(\"criterion='mae' was deprecated in version 0.24 and \"\n"
     ]
    },
    {
     "name": "stdout",
     "output_type": "stream",
     "text": [
      "param: {'model': 'GBC', 'max_depth': 7, 'criterion': 'friedman_mse', 'min_impurity_decrease': 0.07726159780438988, 'min_samples_leaf': 10}\n",
      "param: {'model': 'GBC', 'max_depth': 7, 'criterion': 'friedman_mse', 'min_impurity_decrease': 0.030610532432433113, 'min_samples_leaf': 13}\n",
      "param: {'model': 'GBC', 'max_depth': 9, 'criterion': 'friedman_mse', 'min_impurity_decrease': 0.07811318040106066, 'min_samples_leaf': 0.06895594900477683}\n",
      "param: {'model': 'GBC', 'max_depth': 1, 'criterion': 'friedman_mse', 'min_impurity_decrease': 0.05910677898275287, 'min_samples_leaf': 0.01936687054071684}\n",
      "param: {'model': 'RFC', 'max_depth': 3, 'criterion': 'gini', 'min_impurity_decrease': 0.08615536556133507, 'min_samples_leaf': 0.09745338433865405}\n",
      "param: {'model': 'GBC', 'max_depth': 8, 'criterion': 'friedman_mse', 'min_impurity_decrease': 0.09963255281865113, 'min_samples_leaf': 7}\n",
      "param: {'model': 'GBC', 'max_depth': 5, 'criterion': 'mae', 'min_impurity_decrease': 0.012432338312068891, 'min_samples_leaf': 0.05484036059005863}\n"
     ]
    },
    {
     "name": "stderr",
     "output_type": "stream",
     "text": [
      "C:\\Users\\Asus\\anaconda3\\lib\\site-packages\\sklearn\\ensemble\\_gb.py:1118: FutureWarning: criterion='mae' was deprecated in version 0.24 and will be removed in version 1.1 (renaming of 0.26). Use criterion='friedman_mse' or 'mse' instead, as trees should use a least-square criterion in Gradient Boosting.\n",
      "  warnings.warn(\"criterion='mae' was deprecated in version 0.24 and \"\n"
     ]
    },
    {
     "name": "stdout",
     "output_type": "stream",
     "text": [
      "param: {'model': 'GBC', 'max_depth': 10, 'criterion': 'mae', 'min_impurity_decrease': 0.046908169004795094, 'min_samples_leaf': 4}\n"
     ]
    },
    {
     "name": "stderr",
     "output_type": "stream",
     "text": [
      "C:\\Users\\Asus\\anaconda3\\lib\\site-packages\\sklearn\\ensemble\\_gb.py:1118: FutureWarning: criterion='mae' was deprecated in version 0.24 and will be removed in version 1.1 (renaming of 0.26). Use criterion='friedman_mse' or 'mse' instead, as trees should use a least-square criterion in Gradient Boosting.\n",
      "  warnings.warn(\"criterion='mae' was deprecated in version 0.24 and \"\n"
     ]
    },
    {
     "name": "stdout",
     "output_type": "stream",
     "text": [
      "param: {'model': 'GBC', 'max_depth': 2, 'criterion': 'mae', 'min_impurity_decrease': 0.01492848167636246, 'min_samples_leaf': 12}\n"
     ]
    },
    {
     "name": "stderr",
     "output_type": "stream",
     "text": [
      "C:\\Users\\Asus\\anaconda3\\lib\\site-packages\\sklearn\\ensemble\\_gb.py:1118: FutureWarning: criterion='mae' was deprecated in version 0.24 and will be removed in version 1.1 (renaming of 0.26). Use criterion='friedman_mse' or 'mse' instead, as trees should use a least-square criterion in Gradient Boosting.\n",
      "  warnings.warn(\"criterion='mae' was deprecated in version 0.24 and \"\n"
     ]
    },
    {
     "name": "stdout",
     "output_type": "stream",
     "text": [
      "param: {'model': 'GBC', 'max_depth': 3, 'criterion': 'mae', 'min_impurity_decrease': 0.044356664976036034, 'min_samples_leaf': 15}\n"
     ]
    },
    {
     "name": "stderr",
     "output_type": "stream",
     "text": [
      "C:\\Users\\Asus\\anaconda3\\lib\\site-packages\\sklearn\\ensemble\\_gb.py:1118: FutureWarning: criterion='mae' was deprecated in version 0.24 and will be removed in version 1.1 (renaming of 0.26). Use criterion='friedman_mse' or 'mse' instead, as trees should use a least-square criterion in Gradient Boosting.\n",
      "  warnings.warn(\"criterion='mae' was deprecated in version 0.24 and \"\n"
     ]
    },
    {
     "name": "stdout",
     "output_type": "stream",
     "text": [
      "param: {'model': 'RFC', 'max_depth': 2, 'criterion': 'entropy', 'min_impurity_decrease': 0.05924424392605039, 'min_samples_leaf': 2}\n",
      "param: {'model': 'RFC', 'max_depth': 6, 'criterion': 'gini', 'min_impurity_decrease': 0.06298956704055744, 'min_samples_leaf': 9}\n",
      "param: {'model': 'GBC', 'max_depth': 2, 'criterion': 'mae', 'min_impurity_decrease': 0.09468486553772032, 'min_samples_leaf': 0.08149050968138792}\n"
     ]
    },
    {
     "name": "stderr",
     "output_type": "stream",
     "text": [
      "C:\\Users\\Asus\\anaconda3\\lib\\site-packages\\sklearn\\ensemble\\_gb.py:1118: FutureWarning: criterion='mae' was deprecated in version 0.24 and will be removed in version 1.1 (renaming of 0.26). Use criterion='friedman_mse' or 'mse' instead, as trees should use a least-square criterion in Gradient Boosting.\n",
      "  warnings.warn(\"criterion='mae' was deprecated in version 0.24 and \"\n"
     ]
    },
    {
     "name": "stdout",
     "output_type": "stream",
     "text": [
      "param: {'model': 'GBC', 'max_depth': 8, 'criterion': 'mae', 'min_impurity_decrease': 0.01748469170471121, 'min_samples_leaf': 17}\n"
     ]
    },
    {
     "name": "stderr",
     "output_type": "stream",
     "text": [
      "C:\\Users\\Asus\\anaconda3\\lib\\site-packages\\sklearn\\ensemble\\_gb.py:1118: FutureWarning: criterion='mae' was deprecated in version 0.24 and will be removed in version 1.1 (renaming of 0.26). Use criterion='friedman_mse' or 'mse' instead, as trees should use a least-square criterion in Gradient Boosting.\n",
      "  warnings.warn(\"criterion='mae' was deprecated in version 0.24 and \"\n"
     ]
    },
    {
     "name": "stdout",
     "output_type": "stream",
     "text": [
      "param: {'model': 'GBC', 'max_depth': 8, 'criterion': 'friedman_mse', 'min_impurity_decrease': 0.020933442697083682, 'min_samples_leaf': 0.08328292191255056}\n",
      "param: {'model': 'GBC', 'max_depth': 1, 'criterion': 'friedman_mse', 'min_impurity_decrease': 0.02900711368619028, 'min_samples_leaf': 17}\n",
      "param: {'model': 'GBC', 'max_depth': 5, 'criterion': 'mae', 'min_impurity_decrease': 0.08707066170520082, 'min_samples_leaf': 0.0568476940700184}\n"
     ]
    },
    {
     "name": "stderr",
     "output_type": "stream",
     "text": [
      "C:\\Users\\Asus\\anaconda3\\lib\\site-packages\\sklearn\\ensemble\\_gb.py:1118: FutureWarning: criterion='mae' was deprecated in version 0.24 and will be removed in version 1.1 (renaming of 0.26). Use criterion='friedman_mse' or 'mse' instead, as trees should use a least-square criterion in Gradient Boosting.\n",
      "  warnings.warn(\"criterion='mae' was deprecated in version 0.24 and \"\n"
     ]
    },
    {
     "name": "stdout",
     "output_type": "stream",
     "text": [
      "param: {'model': 'GBC', 'max_depth': 8, 'criterion': 'mae', 'min_impurity_decrease': 0.0027287840564062305, 'min_samples_leaf': 7}\n"
     ]
    },
    {
     "name": "stderr",
     "output_type": "stream",
     "text": [
      "C:\\Users\\Asus\\anaconda3\\lib\\site-packages\\sklearn\\ensemble\\_gb.py:1118: FutureWarning: criterion='mae' was deprecated in version 0.24 and will be removed in version 1.1 (renaming of 0.26). Use criterion='friedman_mse' or 'mse' instead, as trees should use a least-square criterion in Gradient Boosting.\n",
      "  warnings.warn(\"criterion='mae' was deprecated in version 0.24 and \"\n"
     ]
    },
    {
     "name": "stdout",
     "output_type": "stream",
     "text": [
      "param: {'model': 'RFC', 'max_depth': 9, 'criterion': 'gini', 'min_impurity_decrease': 0.09245431051778703, 'min_samples_leaf': 0.05665508864736801}\n",
      "param: {'model': 'RFC', 'max_depth': 9, 'criterion': 'entropy', 'min_impurity_decrease': 0.0600862822033158, 'min_samples_leaf': 0.041239564348434656}\n",
      "param: {'model': 'GBC', 'max_depth': 6, 'criterion': 'mae', 'min_impurity_decrease': 0.09785381616319876, 'min_samples_leaf': 0.03391550250649657}\n"
     ]
    },
    {
     "name": "stderr",
     "output_type": "stream",
     "text": [
      "C:\\Users\\Asus\\anaconda3\\lib\\site-packages\\sklearn\\ensemble\\_gb.py:1118: FutureWarning: criterion='mae' was deprecated in version 0.24 and will be removed in version 1.1 (renaming of 0.26). Use criterion='friedman_mse' or 'mse' instead, as trees should use a least-square criterion in Gradient Boosting.\n",
      "  warnings.warn(\"criterion='mae' was deprecated in version 0.24 and \"\n"
     ]
    },
    {
     "name": "stdout",
     "output_type": "stream",
     "text": [
      "param: {'model': 'RFC', 'max_depth': 10, 'criterion': 'gini', 'min_impurity_decrease': 0.00825779037234058, 'min_samples_leaf': 0.01829014648349102}\n",
      "param: {'model': 'GBC', 'max_depth': 2, 'criterion': 'mae', 'min_impurity_decrease': 0.01759574129086442, 'min_samples_leaf': 0.02950112971948643}\n"
     ]
    },
    {
     "name": "stderr",
     "output_type": "stream",
     "text": [
      "C:\\Users\\Asus\\anaconda3\\lib\\site-packages\\sklearn\\ensemble\\_gb.py:1118: FutureWarning: criterion='mae' was deprecated in version 0.24 and will be removed in version 1.1 (renaming of 0.26). Use criterion='friedman_mse' or 'mse' instead, as trees should use a least-square criterion in Gradient Boosting.\n",
      "  warnings.warn(\"criterion='mae' was deprecated in version 0.24 and \"\n"
     ]
    },
    {
     "name": "stdout",
     "output_type": "stream",
     "text": [
      "param: {'model': 'RFC', 'max_depth': 5, 'criterion': 'entropy', 'min_impurity_decrease': 0.021504807438234963, 'min_samples_leaf': 0.09147574175854677}\n",
      "param: {'model': 'RFC', 'max_depth': 5, 'criterion': 'gini', 'min_impurity_decrease': 0.04959141631625502, 'min_samples_leaf': 0.0855968933539097}\n",
      "param: {'model': 'GBC', 'max_depth': 3, 'criterion': 'mae', 'min_impurity_decrease': 0.09814537775043822, 'min_samples_leaf': 11}\n"
     ]
    },
    {
     "name": "stderr",
     "output_type": "stream",
     "text": [
      "C:\\Users\\Asus\\anaconda3\\lib\\site-packages\\sklearn\\ensemble\\_gb.py:1118: FutureWarning: criterion='mae' was deprecated in version 0.24 and will be removed in version 1.1 (renaming of 0.26). Use criterion='friedman_mse' or 'mse' instead, as trees should use a least-square criterion in Gradient Boosting.\n",
      "  warnings.warn(\"criterion='mae' was deprecated in version 0.24 and \"\n"
     ]
    },
    {
     "name": "stdout",
     "output_type": "stream",
     "text": [
      "param: {'model': 'GBC', 'max_depth': 9, 'criterion': 'friedman_mse', 'min_impurity_decrease': 0.015657717645505165, 'min_samples_leaf': 0.04920684555423564}\n",
      "param: {'model': 'RFC', 'max_depth': 3, 'criterion': 'gini', 'min_impurity_decrease': 0.0350842329506144, 'min_samples_leaf': 0.0939368890904873}\n",
      "param: {'model': 'GBC', 'max_depth': 6, 'criterion': 'mae', 'min_impurity_decrease': 0.09632020400467886, 'min_samples_leaf': 0.03267770835116642}\n"
     ]
    },
    {
     "name": "stderr",
     "output_type": "stream",
     "text": [
      "C:\\Users\\Asus\\anaconda3\\lib\\site-packages\\sklearn\\ensemble\\_gb.py:1118: FutureWarning: criterion='mae' was deprecated in version 0.24 and will be removed in version 1.1 (renaming of 0.26). Use criterion='friedman_mse' or 'mse' instead, as trees should use a least-square criterion in Gradient Boosting.\n",
      "  warnings.warn(\"criterion='mae' was deprecated in version 0.24 and \"\n"
     ]
    },
    {
     "name": "stdout",
     "output_type": "stream",
     "text": [
      "param: {'model': 'RFC', 'max_depth': 3, 'criterion': 'entropy', 'min_impurity_decrease': 0.09562947653117468, 'min_samples_leaf': 0.05990839437165496}\n",
      "param: {'model': 'RFC', 'max_depth': 8, 'criterion': 'gini', 'min_impurity_decrease': 0.07870673198121841, 'min_samples_leaf': 0.068616033620569}\n",
      "param: {'model': 'GBC', 'max_depth': 1, 'criterion': 'mae', 'min_impurity_decrease': 0.03353089377559028, 'min_samples_leaf': 0.05212799143504987}\n"
     ]
    },
    {
     "name": "stderr",
     "output_type": "stream",
     "text": [
      "C:\\Users\\Asus\\anaconda3\\lib\\site-packages\\sklearn\\ensemble\\_gb.py:1118: FutureWarning: criterion='mae' was deprecated in version 0.24 and will be removed in version 1.1 (renaming of 0.26). Use criterion='friedman_mse' or 'mse' instead, as trees should use a least-square criterion in Gradient Boosting.\n",
      "  warnings.warn(\"criterion='mae' was deprecated in version 0.24 and \"\n"
     ]
    },
    {
     "name": "stdout",
     "output_type": "stream",
     "text": [
      "param: {'model': 'GBC', 'max_depth': 4, 'criterion': 'friedman_mse', 'min_impurity_decrease': 0.002512909519889317, 'min_samples_leaf': 0.05948669371654338}\n",
      "param: {'model': 'GBC', 'max_depth': 3, 'criterion': 'mae', 'min_impurity_decrease': 0.05582577577549706, 'min_samples_leaf': 9}\n"
     ]
    },
    {
     "name": "stderr",
     "output_type": "stream",
     "text": [
      "C:\\Users\\Asus\\anaconda3\\lib\\site-packages\\sklearn\\ensemble\\_gb.py:1118: FutureWarning: criterion='mae' was deprecated in version 0.24 and will be removed in version 1.1 (renaming of 0.26). Use criterion='friedman_mse' or 'mse' instead, as trees should use a least-square criterion in Gradient Boosting.\n",
      "  warnings.warn(\"criterion='mae' was deprecated in version 0.24 and \"\n"
     ]
    },
    {
     "name": "stdout",
     "output_type": "stream",
     "text": [
      "param: {'model': 'GBC', 'max_depth': 10, 'criterion': 'friedman_mse', 'min_impurity_decrease': 0.0447100583279517, 'min_samples_leaf': 0.03647768646738982}\n",
      "param: {'model': 'RFC', 'max_depth': 10, 'criterion': 'gini', 'min_impurity_decrease': 0.08538914402743696, 'min_samples_leaf': 9}\n",
      "param: {'model': 'RFC', 'max_depth': 5, 'criterion': 'gini', 'min_impurity_decrease': 0.06086735541088101, 'min_samples_leaf': 17}\n",
      "param: {'model': 'RFC', 'max_depth': 2, 'criterion': 'gini', 'min_impurity_decrease': 0.09245518330397653, 'min_samples_leaf': 8}\n",
      "\n",
      "\n",
      "\n",
      "GEN 8:\n",
      "param: {'model': 'GBC', 'max_depth': 5, 'criterion': 'mae', 'min_impurity_decrease': 0.06254149414502722, 'min_samples_leaf': 0.06479519777421147}\n"
     ]
    },
    {
     "name": "stderr",
     "output_type": "stream",
     "text": [
      "C:\\Users\\Asus\\anaconda3\\lib\\site-packages\\sklearn\\ensemble\\_gb.py:1118: FutureWarning: criterion='mae' was deprecated in version 0.24 and will be removed in version 1.1 (renaming of 0.26). Use criterion='friedman_mse' or 'mse' instead, as trees should use a least-square criterion in Gradient Boosting.\n",
      "  warnings.warn(\"criterion='mae' was deprecated in version 0.24 and \"\n"
     ]
    },
    {
     "name": "stdout",
     "output_type": "stream",
     "text": [
      "param: {'model': 'GBC', 'max_depth': 4, 'criterion': 'friedman_mse', 'min_impurity_decrease': 0.04605756542312243, 'min_samples_leaf': 10}\n",
      "param: {'model': 'RFC', 'max_depth': 4, 'criterion': 'entropy', 'min_impurity_decrease': 0.05093643352844973, 'min_samples_leaf': 0.09300029851014421}\n",
      "param: {'model': 'GBC', 'max_depth': 1, 'criterion': 'mae', 'min_impurity_decrease': 0.00446485362815654, 'min_samples_leaf': 15}\n"
     ]
    },
    {
     "name": "stderr",
     "output_type": "stream",
     "text": [
      "C:\\Users\\Asus\\anaconda3\\lib\\site-packages\\sklearn\\ensemble\\_gb.py:1118: FutureWarning: criterion='mae' was deprecated in version 0.24 and will be removed in version 1.1 (renaming of 0.26). Use criterion='friedman_mse' or 'mse' instead, as trees should use a least-square criterion in Gradient Boosting.\n",
      "  warnings.warn(\"criterion='mae' was deprecated in version 0.24 and \"\n"
     ]
    },
    {
     "name": "stdout",
     "output_type": "stream",
     "text": [
      "param: {'model': 'GBC', 'max_depth': 9, 'criterion': 'friedman_mse', 'min_impurity_decrease': 0.06618444551485542, 'min_samples_leaf': 11}\n",
      "param: {'model': 'RFC', 'max_depth': 7, 'criterion': 'gini', 'min_impurity_decrease': 0.053560021173534034, 'min_samples_leaf': 0.007324151711820226}\n",
      "param: {'model': 'RFC', 'max_depth': 10, 'criterion': 'entropy', 'min_impurity_decrease': 0.07893145989130577, 'min_samples_leaf': 1}\n",
      "param: {'model': 'RFC', 'max_depth': 10, 'criterion': 'entropy', 'min_impurity_decrease': 0.09735102006737797, 'min_samples_leaf': 0.003634112214811902}\n",
      "param: {'model': 'GBC', 'max_depth': 4, 'criterion': 'friedman_mse', 'min_impurity_decrease': 0.06819722677240182, 'min_samples_leaf': 0.08785734749617694}\n",
      "param: {'model': 'RFC', 'max_depth': 9, 'criterion': 'entropy', 'min_impurity_decrease': 0.00747782331196154, 'min_samples_leaf': 7}\n",
      "param: {'model': 'RFC', 'max_depth': 6, 'criterion': 'gini', 'min_impurity_decrease': 0.005423847177908036, 'min_samples_leaf': 3}\n",
      "param: {'model': 'GBC', 'max_depth': 9, 'criterion': 'friedman_mse', 'min_impurity_decrease': 0.03746333113973334, 'min_samples_leaf': 10}\n",
      "param: {'model': 'GBC', 'max_depth': 4, 'criterion': 'friedman_mse', 'min_impurity_decrease': 0.004069394742133725, 'min_samples_leaf': 0.0243617747557069}\n",
      "param: {'model': 'RFC', 'max_depth': 8, 'criterion': 'entropy', 'min_impurity_decrease': 0.022192448445293878, 'min_samples_leaf': 0.08659007690118865}\n",
      "param: {'model': 'GBC', 'max_depth': 5, 'criterion': 'mae', 'min_impurity_decrease': 0.022240289756996223, 'min_samples_leaf': 15}\n"
     ]
    },
    {
     "name": "stderr",
     "output_type": "stream",
     "text": [
      "C:\\Users\\Asus\\anaconda3\\lib\\site-packages\\sklearn\\ensemble\\_gb.py:1118: FutureWarning: criterion='mae' was deprecated in version 0.24 and will be removed in version 1.1 (renaming of 0.26). Use criterion='friedman_mse' or 'mse' instead, as trees should use a least-square criterion in Gradient Boosting.\n",
      "  warnings.warn(\"criterion='mae' was deprecated in version 0.24 and \"\n"
     ]
    },
    {
     "name": "stdout",
     "output_type": "stream",
     "text": [
      "param: {'model': 'GBC', 'max_depth': 4, 'criterion': 'friedman_mse', 'min_impurity_decrease': 0.08380340795059323, 'min_samples_leaf': 0.034264274664091446}\n",
      "param: {'model': 'GBC', 'max_depth': 3, 'criterion': 'friedman_mse', 'min_impurity_decrease': 0.020550145719933122, 'min_samples_leaf': 12}\n",
      "param: {'model': 'GBC', 'max_depth': 7, 'criterion': 'mae', 'min_impurity_decrease': 0.007818035747594609, 'min_samples_leaf': 8}\n"
     ]
    },
    {
     "name": "stderr",
     "output_type": "stream",
     "text": [
      "C:\\Users\\Asus\\anaconda3\\lib\\site-packages\\sklearn\\ensemble\\_gb.py:1118: FutureWarning: criterion='mae' was deprecated in version 0.24 and will be removed in version 1.1 (renaming of 0.26). Use criterion='friedman_mse' or 'mse' instead, as trees should use a least-square criterion in Gradient Boosting.\n",
      "  warnings.warn(\"criterion='mae' was deprecated in version 0.24 and \"\n"
     ]
    },
    {
     "name": "stdout",
     "output_type": "stream",
     "text": [
      "param: {'model': 'RFC', 'max_depth': 1, 'criterion': 'gini', 'min_impurity_decrease': 0.08279840064274889, 'min_samples_leaf': 0.00886767149016704}\n",
      "param: {'model': 'GBC', 'max_depth': 6, 'criterion': 'friedman_mse', 'min_impurity_decrease': 0.0483256332942684, 'min_samples_leaf': 19}\n",
      "param: {'model': 'RFC', 'max_depth': 4, 'criterion': 'entropy', 'min_impurity_decrease': 0.04504955374352774, 'min_samples_leaf': 0.09083742367446324}\n",
      "param: {'model': 'GBC', 'max_depth': 9, 'criterion': 'friedman_mse', 'min_impurity_decrease': 0.013466932821130605, 'min_samples_leaf': 0.03561341945598444}\n",
      "param: {'model': 'GBC', 'max_depth': 5, 'criterion': 'friedman_mse', 'min_impurity_decrease': 0.0414483998681743, 'min_samples_leaf': 10}\n",
      "param: {'model': 'RFC', 'max_depth': 2, 'criterion': 'gini', 'min_impurity_decrease': 0.08775350030683104, 'min_samples_leaf': 18}\n",
      "param: {'model': 'RFC', 'max_depth': 3, 'criterion': 'gini', 'min_impurity_decrease': 0.08156775777584283, 'min_samples_leaf': 0.09701491859373448}\n",
      "param: {'model': 'RFC', 'max_depth': 7, 'criterion': 'entropy', 'min_impurity_decrease': 0.08503249126403292, 'min_samples_leaf': 14}\n",
      "param: {'model': 'GBC', 'max_depth': 4, 'criterion': 'friedman_mse', 'min_impurity_decrease': 0.039683000808463875, 'min_samples_leaf': 10}\n",
      "param: {'model': 'RFC', 'max_depth': 7, 'criterion': 'entropy', 'min_impurity_decrease': 0.01957794068102219, 'min_samples_leaf': 15}\n",
      "param: {'model': 'GBC', 'max_depth': 3, 'criterion': 'mae', 'min_impurity_decrease': 0.012194770677583622, 'min_samples_leaf': 12}\n"
     ]
    },
    {
     "name": "stderr",
     "output_type": "stream",
     "text": [
      "C:\\Users\\Asus\\anaconda3\\lib\\site-packages\\sklearn\\ensemble\\_gb.py:1118: FutureWarning: criterion='mae' was deprecated in version 0.24 and will be removed in version 1.1 (renaming of 0.26). Use criterion='friedman_mse' or 'mse' instead, as trees should use a least-square criterion in Gradient Boosting.\n",
      "  warnings.warn(\"criterion='mae' was deprecated in version 0.24 and \"\n"
     ]
    },
    {
     "name": "stdout",
     "output_type": "stream",
     "text": [
      "param: {'model': 'RFC', 'max_depth': 8, 'criterion': 'gini', 'min_impurity_decrease': 0.07798453374079478, 'min_samples_leaf': 0.08855409427441172}\n",
      "param: {'model': 'RFC', 'max_depth': 1, 'criterion': 'gini', 'min_impurity_decrease': 0.083785704685213, 'min_samples_leaf': 13}\n",
      "param: {'model': 'GBC', 'max_depth': 6, 'criterion': 'friedman_mse', 'min_impurity_decrease': 0.027541057074064623, 'min_samples_leaf': 0.060823442808343786}\n",
      "param: {'model': 'RFC', 'max_depth': 2, 'criterion': 'entropy', 'min_impurity_decrease': 0.052053848658330445, 'min_samples_leaf': 6}\n",
      "param: {'model': 'GBC', 'max_depth': 3, 'criterion': 'friedman_mse', 'min_impurity_decrease': 0.016241367118450634, 'min_samples_leaf': 0.03843075807763981}\n",
      "param: {'model': 'GBC', 'max_depth': 5, 'criterion': 'friedman_mse', 'min_impurity_decrease': 0.006991694594903397, 'min_samples_leaf': 12}\n",
      "param: {'model': 'RFC', 'max_depth': 5, 'criterion': 'entropy', 'min_impurity_decrease': 0.07767115757314938, 'min_samples_leaf': 0.02423345228147098}\n",
      "param: {'model': 'GBC', 'max_depth': 5, 'criterion': 'mae', 'min_impurity_decrease': 0.06579729761767976, 'min_samples_leaf': 0.03813678229208332}\n"
     ]
    },
    {
     "name": "stderr",
     "output_type": "stream",
     "text": [
      "C:\\Users\\Asus\\anaconda3\\lib\\site-packages\\sklearn\\ensemble\\_gb.py:1118: FutureWarning: criterion='mae' was deprecated in version 0.24 and will be removed in version 1.1 (renaming of 0.26). Use criterion='friedman_mse' or 'mse' instead, as trees should use a least-square criterion in Gradient Boosting.\n",
      "  warnings.warn(\"criterion='mae' was deprecated in version 0.24 and \"\n"
     ]
    },
    {
     "name": "stdout",
     "output_type": "stream",
     "text": [
      "param: {'model': 'RFC', 'max_depth': 6, 'criterion': 'entropy', 'min_impurity_decrease': 0.013086346632939084, 'min_samples_leaf': 7}\n",
      "param: {'model': 'RFC', 'max_depth': 7, 'criterion': 'gini', 'min_impurity_decrease': 0.007537546653189553, 'min_samples_leaf': 0.06333631791701319}\n",
      "param: {'model': 'RFC', 'max_depth': 5, 'criterion': 'gini', 'min_impurity_decrease': 0.03235333296779571, 'min_samples_leaf': 16}\n",
      "param: {'model': 'RFC', 'max_depth': 8, 'criterion': 'entropy', 'min_impurity_decrease': 0.03415693516076472, 'min_samples_leaf': 0.06044759991639005}\n",
      "param: {'model': 'GBC', 'max_depth': 3, 'criterion': 'friedman_mse', 'min_impurity_decrease': 0.02933871560016389, 'min_samples_leaf': 7}\n",
      "param: {'model': 'RFC', 'max_depth': 5, 'criterion': 'gini', 'min_impurity_decrease': 0.03818543930148967, 'min_samples_leaf': 0.02834369818408179}\n",
      "param: {'model': 'GBC', 'max_depth': 6, 'criterion': 'mae', 'min_impurity_decrease': 0.06545218315121164, 'min_samples_leaf': 10}\n"
     ]
    },
    {
     "name": "stderr",
     "output_type": "stream",
     "text": [
      "C:\\Users\\Asus\\anaconda3\\lib\\site-packages\\sklearn\\ensemble\\_gb.py:1118: FutureWarning: criterion='mae' was deprecated in version 0.24 and will be removed in version 1.1 (renaming of 0.26). Use criterion='friedman_mse' or 'mse' instead, as trees should use a least-square criterion in Gradient Boosting.\n",
      "  warnings.warn(\"criterion='mae' was deprecated in version 0.24 and \"\n"
     ]
    },
    {
     "name": "stdout",
     "output_type": "stream",
     "text": [
      "param: {'model': 'GBC', 'max_depth': 6, 'criterion': 'mae', 'min_impurity_decrease': 0.03074037630156007, 'min_samples_leaf': 14}\n"
     ]
    },
    {
     "name": "stderr",
     "output_type": "stream",
     "text": [
      "C:\\Users\\Asus\\anaconda3\\lib\\site-packages\\sklearn\\ensemble\\_gb.py:1118: FutureWarning: criterion='mae' was deprecated in version 0.24 and will be removed in version 1.1 (renaming of 0.26). Use criterion='friedman_mse' or 'mse' instead, as trees should use a least-square criterion in Gradient Boosting.\n",
      "  warnings.warn(\"criterion='mae' was deprecated in version 0.24 and \"\n"
     ]
    },
    {
     "name": "stdout",
     "output_type": "stream",
     "text": [
      "param: {'model': 'GBC', 'max_depth': 5, 'criterion': 'mae', 'min_impurity_decrease': 0.06431759581956908, 'min_samples_leaf': 0.031899656115701926}\n"
     ]
    },
    {
     "name": "stderr",
     "output_type": "stream",
     "text": [
      "C:\\Users\\Asus\\anaconda3\\lib\\site-packages\\sklearn\\ensemble\\_gb.py:1118: FutureWarning: criterion='mae' was deprecated in version 0.24 and will be removed in version 1.1 (renaming of 0.26). Use criterion='friedman_mse' or 'mse' instead, as trees should use a least-square criterion in Gradient Boosting.\n",
      "  warnings.warn(\"criterion='mae' was deprecated in version 0.24 and \"\n"
     ]
    },
    {
     "name": "stdout",
     "output_type": "stream",
     "text": [
      "param: {'model': 'GBC', 'max_depth': 2, 'criterion': 'mae', 'min_impurity_decrease': 0.03912205619976515, 'min_samples_leaf': 0.07709492746844777}\n"
     ]
    },
    {
     "name": "stderr",
     "output_type": "stream",
     "text": [
      "C:\\Users\\Asus\\anaconda3\\lib\\site-packages\\sklearn\\ensemble\\_gb.py:1118: FutureWarning: criterion='mae' was deprecated in version 0.24 and will be removed in version 1.1 (renaming of 0.26). Use criterion='friedman_mse' or 'mse' instead, as trees should use a least-square criterion in Gradient Boosting.\n",
      "  warnings.warn(\"criterion='mae' was deprecated in version 0.24 and \"\n"
     ]
    },
    {
     "name": "stdout",
     "output_type": "stream",
     "text": [
      "param: {'model': 'RFC', 'max_depth': 6, 'criterion': 'gini', 'min_impurity_decrease': 0.0036091304903810295, 'min_samples_leaf': 0.08586192134979996}\n",
      "param: {'model': 'RFC', 'max_depth': 6, 'criterion': 'gini', 'min_impurity_decrease': 0.017919236157731933, 'min_samples_leaf': 12}\n",
      "param: {'model': 'GBC', 'max_depth': 9, 'criterion': 'friedman_mse', 'min_impurity_decrease': 0.09686734754250419, 'min_samples_leaf': 0.04091448652748262}\n",
      "param: {'model': 'RFC', 'max_depth': 6, 'criterion': 'entropy', 'min_impurity_decrease': 0.022054918724477613, 'min_samples_leaf': 11}\n",
      "param: {'model': 'RFC', 'max_depth': 2, 'criterion': 'entropy', 'min_impurity_decrease': 0.08892403892501513, 'min_samples_leaf': 0.03798626171738628}\n",
      "param: {'model': 'RFC', 'max_depth': 4, 'criterion': 'entropy', 'min_impurity_decrease': 0.031743463852741516, 'min_samples_leaf': 7}\n",
      "param: {'model': 'GBC', 'max_depth': 2, 'criterion': 'friedman_mse', 'min_impurity_decrease': 0.016894982768835644, 'min_samples_leaf': 15}\n",
      "param: {'model': 'RFC', 'max_depth': 8, 'criterion': 'entropy', 'min_impurity_decrease': 0.06973752272557482, 'min_samples_leaf': 0.014186378048850956}\n",
      "param: {'model': 'GBC', 'max_depth': 9, 'criterion': 'friedman_mse', 'min_impurity_decrease': 0.08097853673380336, 'min_samples_leaf': 0.0861430190071078}\n",
      "param: {'model': 'RFC', 'max_depth': 3, 'criterion': 'entropy', 'min_impurity_decrease': 0.05510932004364777, 'min_samples_leaf': 0.0832787933069736}\n",
      "param: {'model': 'GBC', 'max_depth': 10, 'criterion': 'mae', 'min_impurity_decrease': 0.06495027328371507, 'min_samples_leaf': 0.09940335520149121}\n"
     ]
    },
    {
     "name": "stderr",
     "output_type": "stream",
     "text": [
      "C:\\Users\\Asus\\anaconda3\\lib\\site-packages\\sklearn\\ensemble\\_gb.py:1118: FutureWarning: criterion='mae' was deprecated in version 0.24 and will be removed in version 1.1 (renaming of 0.26). Use criterion='friedman_mse' or 'mse' instead, as trees should use a least-square criterion in Gradient Boosting.\n",
      "  warnings.warn(\"criterion='mae' was deprecated in version 0.24 and \"\n"
     ]
    },
    {
     "name": "stdout",
     "output_type": "stream",
     "text": [
      "param: {'model': 'RFC', 'max_depth': 10, 'criterion': 'gini', 'min_impurity_decrease': 0.022596145343223184, 'min_samples_leaf': 0.029316690079109052}\n",
      "param: {'model': 'GBC', 'max_depth': 10, 'criterion': 'friedman_mse', 'min_impurity_decrease': 0.06238890781755167, 'min_samples_leaf': 0.08027043259633092}\n",
      "param: {'model': 'GBC', 'max_depth': 1, 'criterion': 'mae', 'min_impurity_decrease': 0.009169209438319458, 'min_samples_leaf': 0.08175356094563199}\n"
     ]
    },
    {
     "name": "stderr",
     "output_type": "stream",
     "text": [
      "C:\\Users\\Asus\\anaconda3\\lib\\site-packages\\sklearn\\ensemble\\_gb.py:1118: FutureWarning: criterion='mae' was deprecated in version 0.24 and will be removed in version 1.1 (renaming of 0.26). Use criterion='friedman_mse' or 'mse' instead, as trees should use a least-square criterion in Gradient Boosting.\n",
      "  warnings.warn(\"criterion='mae' was deprecated in version 0.24 and \"\n"
     ]
    },
    {
     "name": "stdout",
     "output_type": "stream",
     "text": [
      "param: {'model': 'RFC', 'max_depth': 3, 'criterion': 'entropy', 'min_impurity_decrease': 0.07863247970881647, 'min_samples_leaf': 14}\n",
      "param: {'model': 'RFC', 'max_depth': 7, 'criterion': 'gini', 'min_impurity_decrease': 0.06485544368687665, 'min_samples_leaf': 0.0847345915086852}\n",
      "param: {'model': 'GBC', 'max_depth': 3, 'criterion': 'mae', 'min_impurity_decrease': 0.011449113006551015, 'min_samples_leaf': 0.019298262609073535}\n"
     ]
    },
    {
     "name": "stderr",
     "output_type": "stream",
     "text": [
      "C:\\Users\\Asus\\anaconda3\\lib\\site-packages\\sklearn\\ensemble\\_gb.py:1118: FutureWarning: criterion='mae' was deprecated in version 0.24 and will be removed in version 1.1 (renaming of 0.26). Use criterion='friedman_mse' or 'mse' instead, as trees should use a least-square criterion in Gradient Boosting.\n",
      "  warnings.warn(\"criterion='mae' was deprecated in version 0.24 and \"\n"
     ]
    },
    {
     "name": "stdout",
     "output_type": "stream",
     "text": [
      "param: {'model': 'GBC', 'max_depth': 1, 'criterion': 'friedman_mse', 'min_impurity_decrease': 0.08648538612357246, 'min_samples_leaf': 0.07253799338886979}\n",
      "param: {'model': 'GBC', 'max_depth': 4, 'criterion': 'mae', 'min_impurity_decrease': 0.09836637536478053, 'min_samples_leaf': 0.0986674789648634}\n"
     ]
    },
    {
     "name": "stderr",
     "output_type": "stream",
     "text": [
      "C:\\Users\\Asus\\anaconda3\\lib\\site-packages\\sklearn\\ensemble\\_gb.py:1118: FutureWarning: criterion='mae' was deprecated in version 0.24 and will be removed in version 1.1 (renaming of 0.26). Use criterion='friedman_mse' or 'mse' instead, as trees should use a least-square criterion in Gradient Boosting.\n",
      "  warnings.warn(\"criterion='mae' was deprecated in version 0.24 and \"\n"
     ]
    },
    {
     "name": "stdout",
     "output_type": "stream",
     "text": [
      "param: {'model': 'RFC', 'max_depth': 4, 'criterion': 'gini', 'min_impurity_decrease': 0.04091946980441106, 'min_samples_leaf': 0.08998568679657634}\n",
      "param: {'model': 'GBC', 'max_depth': 4, 'criterion': 'mae', 'min_impurity_decrease': 0.0905443140881154, 'min_samples_leaf': 5}\n"
     ]
    },
    {
     "name": "stderr",
     "output_type": "stream",
     "text": [
      "C:\\Users\\Asus\\anaconda3\\lib\\site-packages\\sklearn\\ensemble\\_gb.py:1118: FutureWarning: criterion='mae' was deprecated in version 0.24 and will be removed in version 1.1 (renaming of 0.26). Use criterion='friedman_mse' or 'mse' instead, as trees should use a least-square criterion in Gradient Boosting.\n",
      "  warnings.warn(\"criterion='mae' was deprecated in version 0.24 and \"\n"
     ]
    },
    {
     "name": "stdout",
     "output_type": "stream",
     "text": [
      "param: {'model': 'GBC', 'max_depth': 6, 'criterion': 'mae', 'min_impurity_decrease': 0.040348122915412746, 'min_samples_leaf': 0.0010488635153072968}\n"
     ]
    },
    {
     "name": "stderr",
     "output_type": "stream",
     "text": [
      "C:\\Users\\Asus\\anaconda3\\lib\\site-packages\\sklearn\\ensemble\\_gb.py:1118: FutureWarning: criterion='mae' was deprecated in version 0.24 and will be removed in version 1.1 (renaming of 0.26). Use criterion='friedman_mse' or 'mse' instead, as trees should use a least-square criterion in Gradient Boosting.\n",
      "  warnings.warn(\"criterion='mae' was deprecated in version 0.24 and \"\n"
     ]
    },
    {
     "name": "stdout",
     "output_type": "stream",
     "text": [
      "param: {'model': 'RFC', 'max_depth': 10, 'criterion': 'entropy', 'min_impurity_decrease': 0.034846585625751804, 'min_samples_leaf': 15}\n",
      "param: {'model': 'RFC', 'max_depth': 8, 'criterion': 'entropy', 'min_impurity_decrease': 0.05693022425094587, 'min_samples_leaf': 7}\n",
      "param: {'model': 'GBC', 'max_depth': 8, 'criterion': 'mae', 'min_impurity_decrease': 0.007616084781620003, 'min_samples_leaf': 5}\n"
     ]
    },
    {
     "name": "stderr",
     "output_type": "stream",
     "text": [
      "C:\\Users\\Asus\\anaconda3\\lib\\site-packages\\sklearn\\ensemble\\_gb.py:1118: FutureWarning: criterion='mae' was deprecated in version 0.24 and will be removed in version 1.1 (renaming of 0.26). Use criterion='friedman_mse' or 'mse' instead, as trees should use a least-square criterion in Gradient Boosting.\n",
      "  warnings.warn(\"criterion='mae' was deprecated in version 0.24 and \"\n"
     ]
    },
    {
     "name": "stdout",
     "output_type": "stream",
     "text": [
      "param: {'model': 'GBC', 'max_depth': 8, 'criterion': 'mae', 'min_impurity_decrease': 0.05370944193487097, 'min_samples_leaf': 19}\n"
     ]
    },
    {
     "name": "stderr",
     "output_type": "stream",
     "text": [
      "C:\\Users\\Asus\\anaconda3\\lib\\site-packages\\sklearn\\ensemble\\_gb.py:1118: FutureWarning: criterion='mae' was deprecated in version 0.24 and will be removed in version 1.1 (renaming of 0.26). Use criterion='friedman_mse' or 'mse' instead, as trees should use a least-square criterion in Gradient Boosting.\n",
      "  warnings.warn(\"criterion='mae' was deprecated in version 0.24 and \"\n"
     ]
    },
    {
     "name": "stdout",
     "output_type": "stream",
     "text": [
      "param: {'model': 'RFC', 'max_depth': 5, 'criterion': 'gini', 'min_impurity_decrease': 0.01634127634332725, 'min_samples_leaf': 3}\n",
      "param: {'model': 'GBC', 'max_depth': 5, 'criterion': 'mae', 'min_impurity_decrease': 0.018795086658431347, 'min_samples_leaf': 10}\n"
     ]
    },
    {
     "name": "stderr",
     "output_type": "stream",
     "text": [
      "C:\\Users\\Asus\\anaconda3\\lib\\site-packages\\sklearn\\ensemble\\_gb.py:1118: FutureWarning: criterion='mae' was deprecated in version 0.24 and will be removed in version 1.1 (renaming of 0.26). Use criterion='friedman_mse' or 'mse' instead, as trees should use a least-square criterion in Gradient Boosting.\n",
      "  warnings.warn(\"criterion='mae' was deprecated in version 0.24 and \"\n"
     ]
    },
    {
     "name": "stdout",
     "output_type": "stream",
     "text": [
      "param: {'model': 'GBC', 'max_depth': 1, 'criterion': 'mae', 'min_impurity_decrease': 0.07778022592972691, 'min_samples_leaf': 0.07756734682162021}\n"
     ]
    },
    {
     "name": "stderr",
     "output_type": "stream",
     "text": [
      "C:\\Users\\Asus\\anaconda3\\lib\\site-packages\\sklearn\\ensemble\\_gb.py:1118: FutureWarning: criterion='mae' was deprecated in version 0.24 and will be removed in version 1.1 (renaming of 0.26). Use criterion='friedman_mse' or 'mse' instead, as trees should use a least-square criterion in Gradient Boosting.\n",
      "  warnings.warn(\"criterion='mae' was deprecated in version 0.24 and \"\n"
     ]
    },
    {
     "name": "stdout",
     "output_type": "stream",
     "text": [
      "param: {'model': 'GBC', 'max_depth': 2, 'criterion': 'friedman_mse', 'min_impurity_decrease': 0.026398592678076194, 'min_samples_leaf': 11}\n",
      "param: {'model': 'GBC', 'max_depth': 3, 'criterion': 'friedman_mse', 'min_impurity_decrease': 0.01077333184588689, 'min_samples_leaf': 1}\n",
      "param: {'model': 'RFC', 'max_depth': 4, 'criterion': 'entropy', 'min_impurity_decrease': 0.024330581137406805, 'min_samples_leaf': 14}\n",
      "param: {'model': 'RFC', 'max_depth': 1, 'criterion': 'entropy', 'min_impurity_decrease': 0.06227903213352631, 'min_samples_leaf': 0.03132399299540568}\n",
      "param: {'model': 'GBC', 'max_depth': 7, 'criterion': 'friedman_mse', 'min_impurity_decrease': 0.037044624619479515, 'min_samples_leaf': 19}\n",
      "param: {'model': 'GBC', 'max_depth': 1, 'criterion': 'mae', 'min_impurity_decrease': 0.01343775235597886, 'min_samples_leaf': 10}\n"
     ]
    },
    {
     "name": "stderr",
     "output_type": "stream",
     "text": [
      "C:\\Users\\Asus\\anaconda3\\lib\\site-packages\\sklearn\\ensemble\\_gb.py:1118: FutureWarning: criterion='mae' was deprecated in version 0.24 and will be removed in version 1.1 (renaming of 0.26). Use criterion='friedman_mse' or 'mse' instead, as trees should use a least-square criterion in Gradient Boosting.\n",
      "  warnings.warn(\"criterion='mae' was deprecated in version 0.24 and \"\n"
     ]
    },
    {
     "name": "stdout",
     "output_type": "stream",
     "text": [
      "param: {'model': 'GBC', 'max_depth': 9, 'criterion': 'friedman_mse', 'min_impurity_decrease': 0.014323388780331714, 'min_samples_leaf': 20}\n",
      "param: {'model': 'RFC', 'max_depth': 2, 'criterion': 'gini', 'min_impurity_decrease': 0.037551014957814766, 'min_samples_leaf': 0.053933222485316054}\n",
      "param: {'model': 'RFC', 'max_depth': 5, 'criterion': 'entropy', 'min_impurity_decrease': 0.056042366793298756, 'min_samples_leaf': 3}\n",
      "param: {'model': 'GBC', 'max_depth': 4, 'criterion': 'friedman_mse', 'min_impurity_decrease': 0.048192955449691585, 'min_samples_leaf': 6}\n",
      "param: {'model': 'GBC', 'max_depth': 7, 'criterion': 'friedman_mse', 'min_impurity_decrease': 0.06803534901844863, 'min_samples_leaf': 0.033500670149596824}\n",
      "param: {'model': 'RFC', 'max_depth': 7, 'criterion': 'entropy', 'min_impurity_decrease': 0.09679969473489383, 'min_samples_leaf': 14}\n",
      "param: {'model': 'GBC', 'max_depth': 1, 'criterion': 'friedman_mse', 'min_impurity_decrease': 0.06618603187714134, 'min_samples_leaf': 0.005412491736069292}\n",
      "param: {'model': 'GBC', 'max_depth': 1, 'criterion': 'mae', 'min_impurity_decrease': 0.07741140070269227, 'min_samples_leaf': 0.008869056688050114}\n"
     ]
    },
    {
     "name": "stderr",
     "output_type": "stream",
     "text": [
      "C:\\Users\\Asus\\anaconda3\\lib\\site-packages\\sklearn\\ensemble\\_gb.py:1118: FutureWarning: criterion='mae' was deprecated in version 0.24 and will be removed in version 1.1 (renaming of 0.26). Use criterion='friedman_mse' or 'mse' instead, as trees should use a least-square criterion in Gradient Boosting.\n",
      "  warnings.warn(\"criterion='mae' was deprecated in version 0.24 and \"\n"
     ]
    },
    {
     "name": "stdout",
     "output_type": "stream",
     "text": [
      "\n",
      "\n",
      "\n",
      "GEN 9:\n",
      "param: {'model': 'GBC', 'max_depth': 10, 'criterion': 'friedman_mse', 'min_impurity_decrease': 0.01987838901338853, 'min_samples_leaf': 0.035096975555033515}\n",
      "param: {'model': 'GBC', 'max_depth': 2, 'criterion': 'friedman_mse', 'min_impurity_decrease': 0.07084896833343936, 'min_samples_leaf': 1}\n",
      "param: {'model': 'GBC', 'max_depth': 4, 'criterion': 'mae', 'min_impurity_decrease': 0.0459083657091706, 'min_samples_leaf': 20}\n"
     ]
    },
    {
     "name": "stderr",
     "output_type": "stream",
     "text": [
      "C:\\Users\\Asus\\anaconda3\\lib\\site-packages\\sklearn\\ensemble\\_gb.py:1118: FutureWarning: criterion='mae' was deprecated in version 0.24 and will be removed in version 1.1 (renaming of 0.26). Use criterion='friedman_mse' or 'mse' instead, as trees should use a least-square criterion in Gradient Boosting.\n",
      "  warnings.warn(\"criterion='mae' was deprecated in version 0.24 and \"\n"
     ]
    },
    {
     "name": "stdout",
     "output_type": "stream",
     "text": [
      "param: {'model': 'GBC', 'max_depth': 5, 'criterion': 'friedman_mse', 'min_impurity_decrease': 0.07313811911212573, 'min_samples_leaf': 0.07496472309830725}\n",
      "param: {'model': 'RFC', 'max_depth': 3, 'criterion': 'gini', 'min_impurity_decrease': 0.07684119504222149, 'min_samples_leaf': 0.08234879888502197}\n",
      "param: {'model': 'RFC', 'max_depth': 6, 'criterion': 'gini', 'min_impurity_decrease': 0.0781198799232134, 'min_samples_leaf': 13}\n",
      "param: {'model': 'RFC', 'max_depth': 2, 'criterion': 'entropy', 'min_impurity_decrease': 0.044725144475868964, 'min_samples_leaf': 11}\n",
      "param: {'model': 'GBC', 'max_depth': 6, 'criterion': 'friedman_mse', 'min_impurity_decrease': 0.05845962212500004, 'min_samples_leaf': 4}\n",
      "param: {'model': 'GBC', 'max_depth': 9, 'criterion': 'mae', 'min_impurity_decrease': 0.0007495830879709842, 'min_samples_leaf': 5}\n"
     ]
    },
    {
     "name": "stderr",
     "output_type": "stream",
     "text": [
      "C:\\Users\\Asus\\anaconda3\\lib\\site-packages\\sklearn\\ensemble\\_gb.py:1118: FutureWarning: criterion='mae' was deprecated in version 0.24 and will be removed in version 1.1 (renaming of 0.26). Use criterion='friedman_mse' or 'mse' instead, as trees should use a least-square criterion in Gradient Boosting.\n",
      "  warnings.warn(\"criterion='mae' was deprecated in version 0.24 and \"\n"
     ]
    },
    {
     "name": "stdout",
     "output_type": "stream",
     "text": [
      "param: {'model': 'RFC', 'max_depth': 3, 'criterion': 'entropy', 'min_impurity_decrease': 0.07984177542157396, 'min_samples_leaf': 0.026843351286518734}\n",
      "param: {'model': 'RFC', 'max_depth': 6, 'criterion': 'gini', 'min_impurity_decrease': 0.06894721287970233, 'min_samples_leaf': 0.05456786183760258}\n",
      "param: {'model': 'GBC', 'max_depth': 3, 'criterion': 'mae', 'min_impurity_decrease': 0.016144789231596922, 'min_samples_leaf': 5}\n"
     ]
    },
    {
     "name": "stderr",
     "output_type": "stream",
     "text": [
      "C:\\Users\\Asus\\anaconda3\\lib\\site-packages\\sklearn\\ensemble\\_gb.py:1118: FutureWarning: criterion='mae' was deprecated in version 0.24 and will be removed in version 1.1 (renaming of 0.26). Use criterion='friedman_mse' or 'mse' instead, as trees should use a least-square criterion in Gradient Boosting.\n",
      "  warnings.warn(\"criterion='mae' was deprecated in version 0.24 and \"\n"
     ]
    },
    {
     "name": "stdout",
     "output_type": "stream",
     "text": [
      "param: {'model': 'GBC', 'max_depth': 10, 'criterion': 'friedman_mse', 'min_impurity_decrease': 0.045982529462131716, 'min_samples_leaf': 5}\n",
      "param: {'model': 'RFC', 'max_depth': 8, 'criterion': 'gini', 'min_impurity_decrease': 0.07606252336640171, 'min_samples_leaf': 3}\n",
      "param: {'model': 'RFC', 'max_depth': 6, 'criterion': 'entropy', 'min_impurity_decrease': 0.009802802071983396, 'min_samples_leaf': 8}\n",
      "param: {'model': 'GBC', 'max_depth': 5, 'criterion': 'mae', 'min_impurity_decrease': 0.051674944811118576, 'min_samples_leaf': 4}\n"
     ]
    },
    {
     "name": "stderr",
     "output_type": "stream",
     "text": [
      "C:\\Users\\Asus\\anaconda3\\lib\\site-packages\\sklearn\\ensemble\\_gb.py:1118: FutureWarning: criterion='mae' was deprecated in version 0.24 and will be removed in version 1.1 (renaming of 0.26). Use criterion='friedman_mse' or 'mse' instead, as trees should use a least-square criterion in Gradient Boosting.\n",
      "  warnings.warn(\"criterion='mae' was deprecated in version 0.24 and \"\n"
     ]
    },
    {
     "name": "stdout",
     "output_type": "stream",
     "text": [
      "param: {'model': 'GBC', 'max_depth': 6, 'criterion': 'mae', 'min_impurity_decrease': 0.0038822616259429734, 'min_samples_leaf': 9}\n"
     ]
    },
    {
     "name": "stderr",
     "output_type": "stream",
     "text": [
      "C:\\Users\\Asus\\anaconda3\\lib\\site-packages\\sklearn\\ensemble\\_gb.py:1118: FutureWarning: criterion='mae' was deprecated in version 0.24 and will be removed in version 1.1 (renaming of 0.26). Use criterion='friedman_mse' or 'mse' instead, as trees should use a least-square criterion in Gradient Boosting.\n",
      "  warnings.warn(\"criterion='mae' was deprecated in version 0.24 and \"\n"
     ]
    },
    {
     "name": "stdout",
     "output_type": "stream",
     "text": [
      "param: {'model': 'GBC', 'max_depth': 1, 'criterion': 'friedman_mse', 'min_impurity_decrease': 0.0060075106749216565, 'min_samples_leaf': 18}\n",
      "param: {'model': 'GBC', 'max_depth': 1, 'criterion': 'mae', 'min_impurity_decrease': 0.09742273482644535, 'min_samples_leaf': 1}\n"
     ]
    },
    {
     "name": "stderr",
     "output_type": "stream",
     "text": [
      "C:\\Users\\Asus\\anaconda3\\lib\\site-packages\\sklearn\\ensemble\\_gb.py:1118: FutureWarning: criterion='mae' was deprecated in version 0.24 and will be removed in version 1.1 (renaming of 0.26). Use criterion='friedman_mse' or 'mse' instead, as trees should use a least-square criterion in Gradient Boosting.\n",
      "  warnings.warn(\"criterion='mae' was deprecated in version 0.24 and \"\n"
     ]
    },
    {
     "name": "stdout",
     "output_type": "stream",
     "text": [
      "param: {'model': 'RFC', 'max_depth': 4, 'criterion': 'entropy', 'min_impurity_decrease': 0.017850738055261127, 'min_samples_leaf': 16}\n",
      "param: {'model': 'GBC', 'max_depth': 9, 'criterion': 'friedman_mse', 'min_impurity_decrease': 0.08462122725186345, 'min_samples_leaf': 0.08724593391489385}\n",
      "param: {'model': 'RFC', 'max_depth': 10, 'criterion': 'entropy', 'min_impurity_decrease': 0.049270080206568964, 'min_samples_leaf': 7}\n",
      "param: {'model': 'RFC', 'max_depth': 9, 'criterion': 'entropy', 'min_impurity_decrease': 0.07747476322046468, 'min_samples_leaf': 20}\n",
      "param: {'model': 'RFC', 'max_depth': 3, 'criterion': 'gini', 'min_impurity_decrease': 0.03601955828695541, 'min_samples_leaf': 4}\n",
      "param: {'model': 'RFC', 'max_depth': 2, 'criterion': 'gini', 'min_impurity_decrease': 0.008090946658050125, 'min_samples_leaf': 13}\n",
      "param: {'model': 'GBC', 'max_depth': 7, 'criterion': 'mae', 'min_impurity_decrease': 0.04158467237400654, 'min_samples_leaf': 0.06879289943742706}\n"
     ]
    },
    {
     "name": "stderr",
     "output_type": "stream",
     "text": [
      "C:\\Users\\Asus\\anaconda3\\lib\\site-packages\\sklearn\\ensemble\\_gb.py:1118: FutureWarning: criterion='mae' was deprecated in version 0.24 and will be removed in version 1.1 (renaming of 0.26). Use criterion='friedman_mse' or 'mse' instead, as trees should use a least-square criterion in Gradient Boosting.\n",
      "  warnings.warn(\"criterion='mae' was deprecated in version 0.24 and \"\n"
     ]
    },
    {
     "name": "stdout",
     "output_type": "stream",
     "text": [
      "param: {'model': 'GBC', 'max_depth': 7, 'criterion': 'mae', 'min_impurity_decrease': 0.06895671199419208, 'min_samples_leaf': 5}\n"
     ]
    },
    {
     "name": "stderr",
     "output_type": "stream",
     "text": [
      "C:\\Users\\Asus\\anaconda3\\lib\\site-packages\\sklearn\\ensemble\\_gb.py:1118: FutureWarning: criterion='mae' was deprecated in version 0.24 and will be removed in version 1.1 (renaming of 0.26). Use criterion='friedman_mse' or 'mse' instead, as trees should use a least-square criterion in Gradient Boosting.\n",
      "  warnings.warn(\"criterion='mae' was deprecated in version 0.24 and \"\n"
     ]
    },
    {
     "name": "stdout",
     "output_type": "stream",
     "text": [
      "param: {'model': 'RFC', 'max_depth': 9, 'criterion': 'entropy', 'min_impurity_decrease': 0.051787797974170546, 'min_samples_leaf': 0.01510417939470592}\n",
      "param: {'model': 'GBC', 'max_depth': 6, 'criterion': 'friedman_mse', 'min_impurity_decrease': 0.058381131810742073, 'min_samples_leaf': 0.05969823115980446}\n",
      "param: {'model': 'RFC', 'max_depth': 5, 'criterion': 'entropy', 'min_impurity_decrease': 0.07662561681248366, 'min_samples_leaf': 0.0931956879333958}\n",
      "param: {'model': 'GBC', 'max_depth': 4, 'criterion': 'friedman_mse', 'min_impurity_decrease': 0.06895807471920849, 'min_samples_leaf': 11}\n",
      "param: {'model': 'RFC', 'max_depth': 10, 'criterion': 'entropy', 'min_impurity_decrease': 0.07742449972743133, 'min_samples_leaf': 20}\n",
      "param: {'model': 'RFC', 'max_depth': 9, 'criterion': 'entropy', 'min_impurity_decrease': 0.02896372281591957, 'min_samples_leaf': 0.058410266102981966}\n",
      "param: {'model': 'GBC', 'max_depth': 9, 'criterion': 'friedman_mse', 'min_impurity_decrease': 0.021618577681801688, 'min_samples_leaf': 15}\n",
      "param: {'model': 'GBC', 'max_depth': 2, 'criterion': 'mae', 'min_impurity_decrease': 0.07280018666217174, 'min_samples_leaf': 16}\n"
     ]
    },
    {
     "name": "stderr",
     "output_type": "stream",
     "text": [
      "C:\\Users\\Asus\\anaconda3\\lib\\site-packages\\sklearn\\ensemble\\_gb.py:1118: FutureWarning: criterion='mae' was deprecated in version 0.24 and will be removed in version 1.1 (renaming of 0.26). Use criterion='friedman_mse' or 'mse' instead, as trees should use a least-square criterion in Gradient Boosting.\n",
      "  warnings.warn(\"criterion='mae' was deprecated in version 0.24 and \"\n"
     ]
    },
    {
     "name": "stdout",
     "output_type": "stream",
     "text": [
      "param: {'model': 'RFC', 'max_depth': 3, 'criterion': 'entropy', 'min_impurity_decrease': 0.06256038294901765, 'min_samples_leaf': 0.012833423106330654}\n",
      "param: {'model': 'RFC', 'max_depth': 4, 'criterion': 'entropy', 'min_impurity_decrease': 0.022341572205335204, 'min_samples_leaf': 13}\n",
      "param: {'model': 'GBC', 'max_depth': 3, 'criterion': 'friedman_mse', 'min_impurity_decrease': 0.0919774263505029, 'min_samples_leaf': 20}\n",
      "param: {'model': 'GBC', 'max_depth': 7, 'criterion': 'mae', 'min_impurity_decrease': 0.049170418538139415, 'min_samples_leaf': 0.04035359282698943}\n"
     ]
    },
    {
     "name": "stderr",
     "output_type": "stream",
     "text": [
      "C:\\Users\\Asus\\anaconda3\\lib\\site-packages\\sklearn\\ensemble\\_gb.py:1118: FutureWarning: criterion='mae' was deprecated in version 0.24 and will be removed in version 1.1 (renaming of 0.26). Use criterion='friedman_mse' or 'mse' instead, as trees should use a least-square criterion in Gradient Boosting.\n",
      "  warnings.warn(\"criterion='mae' was deprecated in version 0.24 and \"\n"
     ]
    },
    {
     "name": "stdout",
     "output_type": "stream",
     "text": [
      "param: {'model': 'RFC', 'max_depth': 7, 'criterion': 'gini', 'min_impurity_decrease': 0.057319823930416826, 'min_samples_leaf': 3}\n",
      "param: {'model': 'GBC', 'max_depth': 8, 'criterion': 'mae', 'min_impurity_decrease': 0.03625899068219588, 'min_samples_leaf': 15}\n"
     ]
    },
    {
     "name": "stderr",
     "output_type": "stream",
     "text": [
      "C:\\Users\\Asus\\anaconda3\\lib\\site-packages\\sklearn\\ensemble\\_gb.py:1118: FutureWarning: criterion='mae' was deprecated in version 0.24 and will be removed in version 1.1 (renaming of 0.26). Use criterion='friedman_mse' or 'mse' instead, as trees should use a least-square criterion in Gradient Boosting.\n",
      "  warnings.warn(\"criterion='mae' was deprecated in version 0.24 and \"\n"
     ]
    },
    {
     "name": "stdout",
     "output_type": "stream",
     "text": [
      "param: {'model': 'RFC', 'max_depth': 2, 'criterion': 'gini', 'min_impurity_decrease': 0.014506433900997295, 'min_samples_leaf': 0.05813235843628069}\n",
      "param: {'model': 'RFC', 'max_depth': 1, 'criterion': 'gini', 'min_impurity_decrease': 0.06465712203981139, 'min_samples_leaf': 0.054895298958084315}\n",
      "param: {'model': 'RFC', 'max_depth': 8, 'criterion': 'gini', 'min_impurity_decrease': 0.08278728620443933, 'min_samples_leaf': 1}\n",
      "param: {'model': 'RFC', 'max_depth': 1, 'criterion': 'entropy', 'min_impurity_decrease': 0.03894503498743336, 'min_samples_leaf': 0.01555808574531774}\n",
      "param: {'model': 'RFC', 'max_depth': 5, 'criterion': 'entropy', 'min_impurity_decrease': 0.021449207978450725, 'min_samples_leaf': 0.06371947395516636}\n",
      "param: {'model': 'GBC', 'max_depth': 4, 'criterion': 'mae', 'min_impurity_decrease': 0.01972869169453014, 'min_samples_leaf': 12}\n"
     ]
    },
    {
     "name": "stderr",
     "output_type": "stream",
     "text": [
      "C:\\Users\\Asus\\anaconda3\\lib\\site-packages\\sklearn\\ensemble\\_gb.py:1118: FutureWarning: criterion='mae' was deprecated in version 0.24 and will be removed in version 1.1 (renaming of 0.26). Use criterion='friedman_mse' or 'mse' instead, as trees should use a least-square criterion in Gradient Boosting.\n",
      "  warnings.warn(\"criterion='mae' was deprecated in version 0.24 and \"\n"
     ]
    },
    {
     "name": "stdout",
     "output_type": "stream",
     "text": [
      "param: {'model': 'GBC', 'max_depth': 7, 'criterion': 'mae', 'min_impurity_decrease': 0.06799345706375413, 'min_samples_leaf': 0.038890037547471626}\n"
     ]
    },
    {
     "name": "stderr",
     "output_type": "stream",
     "text": [
      "C:\\Users\\Asus\\anaconda3\\lib\\site-packages\\sklearn\\ensemble\\_gb.py:1118: FutureWarning: criterion='mae' was deprecated in version 0.24 and will be removed in version 1.1 (renaming of 0.26). Use criterion='friedman_mse' or 'mse' instead, as trees should use a least-square criterion in Gradient Boosting.\n",
      "  warnings.warn(\"criterion='mae' was deprecated in version 0.24 and \"\n"
     ]
    },
    {
     "name": "stdout",
     "output_type": "stream",
     "text": [
      "param: {'model': 'RFC', 'max_depth': 8, 'criterion': 'gini', 'min_impurity_decrease': 0.025854325604056216, 'min_samples_leaf': 7}\n",
      "param: {'model': 'RFC', 'max_depth': 1, 'criterion': 'gini', 'min_impurity_decrease': 0.037805557219685836, 'min_samples_leaf': 5}\n",
      "param: {'model': 'RFC', 'max_depth': 10, 'criterion': 'gini', 'min_impurity_decrease': 0.02857832973001634, 'min_samples_leaf': 5}\n",
      "param: {'model': 'RFC', 'max_depth': 4, 'criterion': 'entropy', 'min_impurity_decrease': 0.005043990322125991, 'min_samples_leaf': 4}\n",
      "param: {'model': 'RFC', 'max_depth': 8, 'criterion': 'gini', 'min_impurity_decrease': 0.036983079896185565, 'min_samples_leaf': 0.08073261436602004}\n",
      "param: {'model': 'GBC', 'max_depth': 7, 'criterion': 'friedman_mse', 'min_impurity_decrease': 0.01975928327956934, 'min_samples_leaf': 13}\n",
      "param: {'model': 'RFC', 'max_depth': 7, 'criterion': 'entropy', 'min_impurity_decrease': 0.004336411338619428, 'min_samples_leaf': 12}\n",
      "param: {'model': 'RFC', 'max_depth': 10, 'criterion': 'entropy', 'min_impurity_decrease': 0.07761264675954058, 'min_samples_leaf': 18}\n",
      "param: {'model': 'GBC', 'max_depth': 7, 'criterion': 'mae', 'min_impurity_decrease': 0.029320751391215972, 'min_samples_leaf': 10}\n"
     ]
    },
    {
     "name": "stderr",
     "output_type": "stream",
     "text": [
      "C:\\Users\\Asus\\anaconda3\\lib\\site-packages\\sklearn\\ensemble\\_gb.py:1118: FutureWarning: criterion='mae' was deprecated in version 0.24 and will be removed in version 1.1 (renaming of 0.26). Use criterion='friedman_mse' or 'mse' instead, as trees should use a least-square criterion in Gradient Boosting.\n",
      "  warnings.warn(\"criterion='mae' was deprecated in version 0.24 and \"\n"
     ]
    },
    {
     "name": "stdout",
     "output_type": "stream",
     "text": [
      "param: {'model': 'RFC', 'max_depth': 4, 'criterion': 'entropy', 'min_impurity_decrease': 0.04940130479220376, 'min_samples_leaf': 14}\n",
      "param: {'model': 'GBC', 'max_depth': 6, 'criterion': 'friedman_mse', 'min_impurity_decrease': 0.04837220168981817, 'min_samples_leaf': 0.07613310954853166}\n",
      "param: {'model': 'RFC', 'max_depth': 4, 'criterion': 'gini', 'min_impurity_decrease': 0.051025929995399434, 'min_samples_leaf': 10}\n",
      "param: {'model': 'RFC', 'max_depth': 7, 'criterion': 'entropy', 'min_impurity_decrease': 0.034273608202133335, 'min_samples_leaf': 9}\n",
      "param: {'model': 'RFC', 'max_depth': 1, 'criterion': 'entropy', 'min_impurity_decrease': 0.011973307770951824, 'min_samples_leaf': 15}\n",
      "param: {'model': 'RFC', 'max_depth': 2, 'criterion': 'entropy', 'min_impurity_decrease': 0.03747098956406654, 'min_samples_leaf': 18}\n",
      "param: {'model': 'GBC', 'max_depth': 7, 'criterion': 'mae', 'min_impurity_decrease': 0.01092062576661148, 'min_samples_leaf': 14}\n"
     ]
    },
    {
     "name": "stderr",
     "output_type": "stream",
     "text": [
      "C:\\Users\\Asus\\anaconda3\\lib\\site-packages\\sklearn\\ensemble\\_gb.py:1118: FutureWarning: criterion='mae' was deprecated in version 0.24 and will be removed in version 1.1 (renaming of 0.26). Use criterion='friedman_mse' or 'mse' instead, as trees should use a least-square criterion in Gradient Boosting.\n",
      "  warnings.warn(\"criterion='mae' was deprecated in version 0.24 and \"\n"
     ]
    },
    {
     "name": "stdout",
     "output_type": "stream",
     "text": [
      "param: {'model': 'RFC', 'max_depth': 3, 'criterion': 'entropy', 'min_impurity_decrease': 0.0952638936837381, 'min_samples_leaf': 0.06410185789833742}\n",
      "param: {'model': 'GBC', 'max_depth': 1, 'criterion': 'friedman_mse', 'min_impurity_decrease': 0.060485490810936404, 'min_samples_leaf': 2}\n",
      "param: {'model': 'GBC', 'max_depth': 9, 'criterion': 'friedman_mse', 'min_impurity_decrease': 0.057965143218949175, 'min_samples_leaf': 0.02074825894541974}\n",
      "param: {'model': 'GBC', 'max_depth': 4, 'criterion': 'mae', 'min_impurity_decrease': 0.0833707790152973, 'min_samples_leaf': 0.06552193023682304}\n"
     ]
    },
    {
     "name": "stderr",
     "output_type": "stream",
     "text": [
      "C:\\Users\\Asus\\anaconda3\\lib\\site-packages\\sklearn\\ensemble\\_gb.py:1118: FutureWarning: criterion='mae' was deprecated in version 0.24 and will be removed in version 1.1 (renaming of 0.26). Use criterion='friedman_mse' or 'mse' instead, as trees should use a least-square criterion in Gradient Boosting.\n",
      "  warnings.warn(\"criterion='mae' was deprecated in version 0.24 and \"\n"
     ]
    },
    {
     "name": "stdout",
     "output_type": "stream",
     "text": [
      "param: {'model': 'GBC', 'max_depth': 10, 'criterion': 'mae', 'min_impurity_decrease': 0.08624323386499308, 'min_samples_leaf': 18}\n"
     ]
    },
    {
     "name": "stderr",
     "output_type": "stream",
     "text": [
      "C:\\Users\\Asus\\anaconda3\\lib\\site-packages\\sklearn\\ensemble\\_gb.py:1118: FutureWarning: criterion='mae' was deprecated in version 0.24 and will be removed in version 1.1 (renaming of 0.26). Use criterion='friedman_mse' or 'mse' instead, as trees should use a least-square criterion in Gradient Boosting.\n",
      "  warnings.warn(\"criterion='mae' was deprecated in version 0.24 and \"\n"
     ]
    },
    {
     "name": "stdout",
     "output_type": "stream",
     "text": [
      "param: {'model': 'RFC', 'max_depth': 5, 'criterion': 'entropy', 'min_impurity_decrease': 0.04009738552874834, 'min_samples_leaf': 0.01224309747368726}\n",
      "param: {'model': 'RFC', 'max_depth': 8, 'criterion': 'gini', 'min_impurity_decrease': 0.008444177974076117, 'min_samples_leaf': 12}\n",
      "param: {'model': 'GBC', 'max_depth': 3, 'criterion': 'friedman_mse', 'min_impurity_decrease': 0.03885361219922927, 'min_samples_leaf': 0.006067113775966593}\n",
      "param: {'model': 'GBC', 'max_depth': 4, 'criterion': 'friedman_mse', 'min_impurity_decrease': 0.028621173691662526, 'min_samples_leaf': 0.06018212870243379}\n",
      "param: {'model': 'RFC', 'max_depth': 1, 'criterion': 'gini', 'min_impurity_decrease': 0.07265882614640748, 'min_samples_leaf': 0.06666307998969112}\n",
      "param: {'model': 'RFC', 'max_depth': 5, 'criterion': 'entropy', 'min_impurity_decrease': 0.09279302898915892, 'min_samples_leaf': 0.0842138864622385}\n",
      "param: {'model': 'RFC', 'max_depth': 5, 'criterion': 'entropy', 'min_impurity_decrease': 0.05819045863559976, 'min_samples_leaf': 0.021962801108457698}\n",
      "param: {'model': 'GBC', 'max_depth': 10, 'criterion': 'friedman_mse', 'min_impurity_decrease': 0.008491159704726825, 'min_samples_leaf': 17}\n",
      "param: {'model': 'RFC', 'max_depth': 4, 'criterion': 'gini', 'min_impurity_decrease': 0.001767508300002263, 'min_samples_leaf': 0.02968457486027327}\n",
      "param: {'model': 'GBC', 'max_depth': 10, 'criterion': 'friedman_mse', 'min_impurity_decrease': 0.04004807996164635, 'min_samples_leaf': 6}\n",
      "param: {'model': 'GBC', 'max_depth': 2, 'criterion': 'friedman_mse', 'min_impurity_decrease': 0.03957705519987671, 'min_samples_leaf': 20}\n",
      "param: {'model': 'GBC', 'max_depth': 4, 'criterion': 'friedman_mse', 'min_impurity_decrease': 0.06166036962417624, 'min_samples_leaf': 0.02999163423531278}\n",
      "param: {'model': 'RFC', 'max_depth': 7, 'criterion': 'entropy', 'min_impurity_decrease': 0.056749877564673576, 'min_samples_leaf': 0.06831471817281368}\n",
      "param: {'model': 'RFC', 'max_depth': 8, 'criterion': 'entropy', 'min_impurity_decrease': 0.08433414138473377, 'min_samples_leaf': 0.08828752351006916}\n",
      "param: {'model': 'GBC', 'max_depth': 6, 'criterion': 'friedman_mse', 'min_impurity_decrease': 0.012919176945360345, 'min_samples_leaf': 0.04796533411879833}\n",
      "param: {'model': 'RFC', 'max_depth': 7, 'criterion': 'gini', 'min_impurity_decrease': 0.020089785837487106, 'min_samples_leaf': 0.03270646397092174}\n",
      "param: {'model': 'GBC', 'max_depth': 10, 'criterion': 'mae', 'min_impurity_decrease': 0.05340873937199536, 'min_samples_leaf': 0.0842174347100179}\n"
     ]
    },
    {
     "name": "stderr",
     "output_type": "stream",
     "text": [
      "C:\\Users\\Asus\\anaconda3\\lib\\site-packages\\sklearn\\ensemble\\_gb.py:1118: FutureWarning: criterion='mae' was deprecated in version 0.24 and will be removed in version 1.1 (renaming of 0.26). Use criterion='friedman_mse' or 'mse' instead, as trees should use a least-square criterion in Gradient Boosting.\n",
      "  warnings.warn(\"criterion='mae' was deprecated in version 0.24 and \"\n"
     ]
    },
    {
     "name": "stdout",
     "output_type": "stream",
     "text": [
      "param: {'model': 'GBC', 'max_depth': 4, 'criterion': 'friedman_mse', 'min_impurity_decrease': 0.0879564498890126, 'min_samples_leaf': 5}\n",
      "param: {'model': 'RFC', 'max_depth': 8, 'criterion': 'gini', 'min_impurity_decrease': 0.05214585167622702, 'min_samples_leaf': 1}\n",
      "param: {'model': 'RFC', 'max_depth': 9, 'criterion': 'gini', 'min_impurity_decrease': 0.04175200514542774, 'min_samples_leaf': 11}\n",
      "param: {'model': 'RFC', 'max_depth': 3, 'criterion': 'gini', 'min_impurity_decrease': 0.09498005584722422, 'min_samples_leaf': 0.08878053693556452}\n",
      "\n",
      "\n",
      "\n",
      "GEN 10:\n",
      "param: {'model': 'GBC', 'max_depth': 1, 'criterion': 'friedman_mse', 'min_impurity_decrease': 0.06703542205326804, 'min_samples_leaf': 14}\n",
      "param: {'model': 'GBC', 'max_depth': 4, 'criterion': 'mae', 'min_impurity_decrease': 0.005792654724016855, 'min_samples_leaf': 16}\n"
     ]
    },
    {
     "name": "stderr",
     "output_type": "stream",
     "text": [
      "C:\\Users\\Asus\\anaconda3\\lib\\site-packages\\sklearn\\ensemble\\_gb.py:1118: FutureWarning: criterion='mae' was deprecated in version 0.24 and will be removed in version 1.1 (renaming of 0.26). Use criterion='friedman_mse' or 'mse' instead, as trees should use a least-square criterion in Gradient Boosting.\n",
      "  warnings.warn(\"criterion='mae' was deprecated in version 0.24 and \"\n"
     ]
    },
    {
     "name": "stdout",
     "output_type": "stream",
     "text": [
      "param: {'model': 'GBC', 'max_depth': 4, 'criterion': 'friedman_mse', 'min_impurity_decrease': 0.009511356847778152, 'min_samples_leaf': 19}\n",
      "param: {'model': 'RFC', 'max_depth': 5, 'criterion': 'entropy', 'min_impurity_decrease': 0.038975841741500594, 'min_samples_leaf': 0.061941507109905515}\n",
      "param: {'model': 'GBC', 'max_depth': 3, 'criterion': 'friedman_mse', 'min_impurity_decrease': 0.06728792642177704, 'min_samples_leaf': 0.023214967336551005}\n",
      "param: {'model': 'RFC', 'max_depth': 2, 'criterion': 'entropy', 'min_impurity_decrease': 0.04529680688263391, 'min_samples_leaf': 8}\n",
      "param: {'model': 'RFC', 'max_depth': 1, 'criterion': 'gini', 'min_impurity_decrease': 0.08818685986969466, 'min_samples_leaf': 0.07981427148679054}\n",
      "param: {'model': 'RFC', 'max_depth': 10, 'criterion': 'entropy', 'min_impurity_decrease': 0.07991949646815034, 'min_samples_leaf': 4}\n",
      "param: {'model': 'GBC', 'max_depth': 6, 'criterion': 'friedman_mse', 'min_impurity_decrease': 0.06296360627401695, 'min_samples_leaf': 9}\n",
      "param: {'model': 'RFC', 'max_depth': 7, 'criterion': 'entropy', 'min_impurity_decrease': 0.08059432671888486, 'min_samples_leaf': 7}\n",
      "param: {'model': 'GBC', 'max_depth': 10, 'criterion': 'mae', 'min_impurity_decrease': 0.035583488587981285, 'min_samples_leaf': 12}\n"
     ]
    },
    {
     "name": "stderr",
     "output_type": "stream",
     "text": [
      "C:\\Users\\Asus\\anaconda3\\lib\\site-packages\\sklearn\\ensemble\\_gb.py:1118: FutureWarning: criterion='mae' was deprecated in version 0.24 and will be removed in version 1.1 (renaming of 0.26). Use criterion='friedman_mse' or 'mse' instead, as trees should use a least-square criterion in Gradient Boosting.\n",
      "  warnings.warn(\"criterion='mae' was deprecated in version 0.24 and \"\n"
     ]
    },
    {
     "name": "stdout",
     "output_type": "stream",
     "text": [
      "param: {'model': 'RFC', 'max_depth': 5, 'criterion': 'gini', 'min_impurity_decrease': 0.06773696413314453, 'min_samples_leaf': 0.03563675208039609}\n",
      "param: {'model': 'RFC', 'max_depth': 4, 'criterion': 'gini', 'min_impurity_decrease': 0.057503428763401934, 'min_samples_leaf': 9}\n",
      "param: {'model': 'GBC', 'max_depth': 7, 'criterion': 'mae', 'min_impurity_decrease': 0.07935961158569656, 'min_samples_leaf': 10}\n"
     ]
    },
    {
     "name": "stderr",
     "output_type": "stream",
     "text": [
      "C:\\Users\\Asus\\anaconda3\\lib\\site-packages\\sklearn\\ensemble\\_gb.py:1118: FutureWarning: criterion='mae' was deprecated in version 0.24 and will be removed in version 1.1 (renaming of 0.26). Use criterion='friedman_mse' or 'mse' instead, as trees should use a least-square criterion in Gradient Boosting.\n",
      "  warnings.warn(\"criterion='mae' was deprecated in version 0.24 and \"\n"
     ]
    },
    {
     "name": "stdout",
     "output_type": "stream",
     "text": [
      "param: {'model': 'RFC', 'max_depth': 8, 'criterion': 'gini', 'min_impurity_decrease': 0.09816800699021268, 'min_samples_leaf': 0.040321055894218194}\n",
      "param: {'model': 'RFC', 'max_depth': 6, 'criterion': 'entropy', 'min_impurity_decrease': 0.037148561589459304, 'min_samples_leaf': 0.0796530222879363}\n",
      "param: {'model': 'RFC', 'max_depth': 2, 'criterion': 'entropy', 'min_impurity_decrease': 0.08547605124477142, 'min_samples_leaf': 0.04790496497052169}\n",
      "param: {'model': 'GBC', 'max_depth': 5, 'criterion': 'mae', 'min_impurity_decrease': 0.04294149527163278, 'min_samples_leaf': 0.09922265406824415}\n"
     ]
    },
    {
     "name": "stderr",
     "output_type": "stream",
     "text": [
      "C:\\Users\\Asus\\anaconda3\\lib\\site-packages\\sklearn\\ensemble\\_gb.py:1118: FutureWarning: criterion='mae' was deprecated in version 0.24 and will be removed in version 1.1 (renaming of 0.26). Use criterion='friedman_mse' or 'mse' instead, as trees should use a least-square criterion in Gradient Boosting.\n",
      "  warnings.warn(\"criterion='mae' was deprecated in version 0.24 and \"\n"
     ]
    },
    {
     "name": "stdout",
     "output_type": "stream",
     "text": [
      "param: {'model': 'GBC', 'max_depth': 3, 'criterion': 'mae', 'min_impurity_decrease': 0.06346652592355677, 'min_samples_leaf': 0.08361219238067649}\n"
     ]
    },
    {
     "name": "stderr",
     "output_type": "stream",
     "text": [
      "C:\\Users\\Asus\\anaconda3\\lib\\site-packages\\sklearn\\ensemble\\_gb.py:1118: FutureWarning: criterion='mae' was deprecated in version 0.24 and will be removed in version 1.1 (renaming of 0.26). Use criterion='friedman_mse' or 'mse' instead, as trees should use a least-square criterion in Gradient Boosting.\n",
      "  warnings.warn(\"criterion='mae' was deprecated in version 0.24 and \"\n"
     ]
    },
    {
     "name": "stdout",
     "output_type": "stream",
     "text": [
      "param: {'model': 'GBC', 'max_depth': 10, 'criterion': 'mae', 'min_impurity_decrease': 0.08027753970510523, 'min_samples_leaf': 9}\n"
     ]
    },
    {
     "name": "stderr",
     "output_type": "stream",
     "text": [
      "C:\\Users\\Asus\\anaconda3\\lib\\site-packages\\sklearn\\ensemble\\_gb.py:1118: FutureWarning: criterion='mae' was deprecated in version 0.24 and will be removed in version 1.1 (renaming of 0.26). Use criterion='friedman_mse' or 'mse' instead, as trees should use a least-square criterion in Gradient Boosting.\n",
      "  warnings.warn(\"criterion='mae' was deprecated in version 0.24 and \"\n"
     ]
    },
    {
     "name": "stdout",
     "output_type": "stream",
     "text": [
      "param: {'model': 'RFC', 'max_depth': 7, 'criterion': 'gini', 'min_impurity_decrease': 0.08389394346484555, 'min_samples_leaf': 13}\n",
      "param: {'model': 'GBC', 'max_depth': 8, 'criterion': 'friedman_mse', 'min_impurity_decrease': 0.01131660407192212, 'min_samples_leaf': 0.007758580066340825}\n",
      "param: {'model': 'RFC', 'max_depth': 9, 'criterion': 'entropy', 'min_impurity_decrease': 0.013647679625374387, 'min_samples_leaf': 10}\n",
      "param: {'model': 'RFC', 'max_depth': 2, 'criterion': 'gini', 'min_impurity_decrease': 0.044482215858403396, 'min_samples_leaf': 3}\n",
      "param: {'model': 'GBC', 'max_depth': 7, 'criterion': 'mae', 'min_impurity_decrease': 0.08159167625393735, 'min_samples_leaf': 0.08197885221900757}\n"
     ]
    },
    {
     "name": "stderr",
     "output_type": "stream",
     "text": [
      "C:\\Users\\Asus\\anaconda3\\lib\\site-packages\\sklearn\\ensemble\\_gb.py:1118: FutureWarning: criterion='mae' was deprecated in version 0.24 and will be removed in version 1.1 (renaming of 0.26). Use criterion='friedman_mse' or 'mse' instead, as trees should use a least-square criterion in Gradient Boosting.\n",
      "  warnings.warn(\"criterion='mae' was deprecated in version 0.24 and \"\n"
     ]
    },
    {
     "name": "stdout",
     "output_type": "stream",
     "text": [
      "param: {'model': 'GBC', 'max_depth': 9, 'criterion': 'friedman_mse', 'min_impurity_decrease': 0.03591047608235566, 'min_samples_leaf': 0.04578156364878262}\n",
      "param: {'model': 'RFC', 'max_depth': 4, 'criterion': 'gini', 'min_impurity_decrease': 0.005044373926795043, 'min_samples_leaf': 0.06541817238750172}\n",
      "param: {'model': 'GBC', 'max_depth': 1, 'criterion': 'mae', 'min_impurity_decrease': 0.06925485403227084, 'min_samples_leaf': 0.06547220584712928}\n"
     ]
    },
    {
     "name": "stderr",
     "output_type": "stream",
     "text": [
      "C:\\Users\\Asus\\anaconda3\\lib\\site-packages\\sklearn\\ensemble\\_gb.py:1118: FutureWarning: criterion='mae' was deprecated in version 0.24 and will be removed in version 1.1 (renaming of 0.26). Use criterion='friedman_mse' or 'mse' instead, as trees should use a least-square criterion in Gradient Boosting.\n",
      "  warnings.warn(\"criterion='mae' was deprecated in version 0.24 and \"\n"
     ]
    },
    {
     "name": "stdout",
     "output_type": "stream",
     "text": [
      "param: {'model': 'GBC', 'max_depth': 10, 'criterion': 'friedman_mse', 'min_impurity_decrease': 0.023715417145091466, 'min_samples_leaf': 0.03155381279385703}\n",
      "param: {'model': 'RFC', 'max_depth': 10, 'criterion': 'entropy', 'min_impurity_decrease': 0.0904945730875157, 'min_samples_leaf': 0.051407095220384336}\n",
      "param: {'model': 'RFC', 'max_depth': 1, 'criterion': 'gini', 'min_impurity_decrease': 0.08393442138261524, 'min_samples_leaf': 0.021401375632229748}\n",
      "param: {'model': 'GBC', 'max_depth': 10, 'criterion': 'friedman_mse', 'min_impurity_decrease': 0.07723928465715009, 'min_samples_leaf': 20}\n",
      "param: {'model': 'RFC', 'max_depth': 9, 'criterion': 'entropy', 'min_impurity_decrease': 0.00160777976702271, 'min_samples_leaf': 0.08234850810398747}\n",
      "param: {'model': 'GBC', 'max_depth': 9, 'criterion': 'friedman_mse', 'min_impurity_decrease': 0.05856777125108327, 'min_samples_leaf': 0.02937529330670676}\n",
      "param: {'model': 'GBC', 'max_depth': 3, 'criterion': 'friedman_mse', 'min_impurity_decrease': 0.019191954736322937, 'min_samples_leaf': 17}\n",
      "param: {'model': 'GBC', 'max_depth': 3, 'criterion': 'friedman_mse', 'min_impurity_decrease': 0.01900526203655243, 'min_samples_leaf': 15}\n",
      "param: {'model': 'GBC', 'max_depth': 2, 'criterion': 'friedman_mse', 'min_impurity_decrease': 0.01587553983996882, 'min_samples_leaf': 0.027415290265725877}\n",
      "param: {'model': 'GBC', 'max_depth': 4, 'criterion': 'friedman_mse', 'min_impurity_decrease': 0.042817200530395796, 'min_samples_leaf': 0.016581316642515796}\n",
      "param: {'model': 'RFC', 'max_depth': 6, 'criterion': 'entropy', 'min_impurity_decrease': 0.08451817739107194, 'min_samples_leaf': 11}\n",
      "param: {'model': 'RFC', 'max_depth': 10, 'criterion': 'gini', 'min_impurity_decrease': 0.04592632558516151, 'min_samples_leaf': 0.014637558387631477}\n",
      "param: {'model': 'RFC', 'max_depth': 5, 'criterion': 'gini', 'min_impurity_decrease': 0.03577768602147711, 'min_samples_leaf': 9}\n",
      "param: {'model': 'GBC', 'max_depth': 4, 'criterion': 'friedman_mse', 'min_impurity_decrease': 0.024567722732142437, 'min_samples_leaf': 15}\n",
      "param: {'model': 'GBC', 'max_depth': 7, 'criterion': 'mae', 'min_impurity_decrease': 0.043901880765928145, 'min_samples_leaf': 0.025242555507729747}\n"
     ]
    },
    {
     "name": "stderr",
     "output_type": "stream",
     "text": [
      "C:\\Users\\Asus\\anaconda3\\lib\\site-packages\\sklearn\\ensemble\\_gb.py:1118: FutureWarning: criterion='mae' was deprecated in version 0.24 and will be removed in version 1.1 (renaming of 0.26). Use criterion='friedman_mse' or 'mse' instead, as trees should use a least-square criterion in Gradient Boosting.\n",
      "  warnings.warn(\"criterion='mae' was deprecated in version 0.24 and \"\n"
     ]
    },
    {
     "name": "stdout",
     "output_type": "stream",
     "text": [
      "param: {'model': 'GBC', 'max_depth': 3, 'criterion': 'mae', 'min_impurity_decrease': 0.02259299187361922, 'min_samples_leaf': 16}\n"
     ]
    },
    {
     "name": "stderr",
     "output_type": "stream",
     "text": [
      "C:\\Users\\Asus\\anaconda3\\lib\\site-packages\\sklearn\\ensemble\\_gb.py:1118: FutureWarning: criterion='mae' was deprecated in version 0.24 and will be removed in version 1.1 (renaming of 0.26). Use criterion='friedman_mse' or 'mse' instead, as trees should use a least-square criterion in Gradient Boosting.\n",
      "  warnings.warn(\"criterion='mae' was deprecated in version 0.24 and \"\n"
     ]
    },
    {
     "name": "stdout",
     "output_type": "stream",
     "text": [
      "param: {'model': 'GBC', 'max_depth': 4, 'criterion': 'mae', 'min_impurity_decrease': 0.020972749196187735, 'min_samples_leaf': 0.03590958679918914}\n"
     ]
    },
    {
     "name": "stderr",
     "output_type": "stream",
     "text": [
      "C:\\Users\\Asus\\anaconda3\\lib\\site-packages\\sklearn\\ensemble\\_gb.py:1118: FutureWarning: criterion='mae' was deprecated in version 0.24 and will be removed in version 1.1 (renaming of 0.26). Use criterion='friedman_mse' or 'mse' instead, as trees should use a least-square criterion in Gradient Boosting.\n",
      "  warnings.warn(\"criterion='mae' was deprecated in version 0.24 and \"\n"
     ]
    },
    {
     "name": "stdout",
     "output_type": "stream",
     "text": [
      "param: {'model': 'GBC', 'max_depth': 9, 'criterion': 'friedman_mse', 'min_impurity_decrease': 0.06499058133010499, 'min_samples_leaf': 0.004018610766471931}\n",
      "param: {'model': 'RFC', 'max_depth': 10, 'criterion': 'entropy', 'min_impurity_decrease': 0.09001252343562524, 'min_samples_leaf': 0.08174865219972303}\n",
      "param: {'model': 'RFC', 'max_depth': 4, 'criterion': 'gini', 'min_impurity_decrease': 0.0325183245376043, 'min_samples_leaf': 4}\n",
      "param: {'model': 'GBC', 'max_depth': 4, 'criterion': 'mae', 'min_impurity_decrease': 0.07325118980458004, 'min_samples_leaf': 4}\n"
     ]
    },
    {
     "name": "stderr",
     "output_type": "stream",
     "text": [
      "C:\\Users\\Asus\\anaconda3\\lib\\site-packages\\sklearn\\ensemble\\_gb.py:1118: FutureWarning: criterion='mae' was deprecated in version 0.24 and will be removed in version 1.1 (renaming of 0.26). Use criterion='friedman_mse' or 'mse' instead, as trees should use a least-square criterion in Gradient Boosting.\n",
      "  warnings.warn(\"criterion='mae' was deprecated in version 0.24 and \"\n"
     ]
    },
    {
     "name": "stdout",
     "output_type": "stream",
     "text": [
      "param: {'model': 'RFC', 'max_depth': 7, 'criterion': 'entropy', 'min_impurity_decrease': 0.08212052185581677, 'min_samples_leaf': 2}\n",
      "param: {'model': 'RFC', 'max_depth': 5, 'criterion': 'entropy', 'min_impurity_decrease': 0.06818277951615631, 'min_samples_leaf': 0.021977947752765403}\n",
      "param: {'model': 'GBC', 'max_depth': 10, 'criterion': 'mae', 'min_impurity_decrease': 0.023164803587315298, 'min_samples_leaf': 4}\n"
     ]
    },
    {
     "name": "stderr",
     "output_type": "stream",
     "text": [
      "C:\\Users\\Asus\\anaconda3\\lib\\site-packages\\sklearn\\ensemble\\_gb.py:1118: FutureWarning: criterion='mae' was deprecated in version 0.24 and will be removed in version 1.1 (renaming of 0.26). Use criterion='friedman_mse' or 'mse' instead, as trees should use a least-square criterion in Gradient Boosting.\n",
      "  warnings.warn(\"criterion='mae' was deprecated in version 0.24 and \"\n"
     ]
    },
    {
     "name": "stdout",
     "output_type": "stream",
     "text": [
      "param: {'model': 'GBC', 'max_depth': 5, 'criterion': 'friedman_mse', 'min_impurity_decrease': 0.08318515051601846, 'min_samples_leaf': 18}\n",
      "param: {'model': 'GBC', 'max_depth': 9, 'criterion': 'mae', 'min_impurity_decrease': 0.09506976358226271, 'min_samples_leaf': 5}\n"
     ]
    },
    {
     "name": "stderr",
     "output_type": "stream",
     "text": [
      "C:\\Users\\Asus\\anaconda3\\lib\\site-packages\\sklearn\\ensemble\\_gb.py:1118: FutureWarning: criterion='mae' was deprecated in version 0.24 and will be removed in version 1.1 (renaming of 0.26). Use criterion='friedman_mse' or 'mse' instead, as trees should use a least-square criterion in Gradient Boosting.\n",
      "  warnings.warn(\"criterion='mae' was deprecated in version 0.24 and \"\n"
     ]
    },
    {
     "name": "stdout",
     "output_type": "stream",
     "text": [
      "param: {'model': 'RFC', 'max_depth': 2, 'criterion': 'gini', 'min_impurity_decrease': 0.052377316817923326, 'min_samples_leaf': 0.021390543385198846}\n",
      "param: {'model': 'RFC', 'max_depth': 9, 'criterion': 'gini', 'min_impurity_decrease': 0.0467560888930197, 'min_samples_leaf': 15}\n",
      "param: {'model': 'GBC', 'max_depth': 2, 'criterion': 'mae', 'min_impurity_decrease': 0.015621101526155845, 'min_samples_leaf': 0.084509437980438}\n"
     ]
    },
    {
     "name": "stderr",
     "output_type": "stream",
     "text": [
      "C:\\Users\\Asus\\anaconda3\\lib\\site-packages\\sklearn\\ensemble\\_gb.py:1118: FutureWarning: criterion='mae' was deprecated in version 0.24 and will be removed in version 1.1 (renaming of 0.26). Use criterion='friedman_mse' or 'mse' instead, as trees should use a least-square criterion in Gradient Boosting.\n",
      "  warnings.warn(\"criterion='mae' was deprecated in version 0.24 and \"\n"
     ]
    },
    {
     "name": "stdout",
     "output_type": "stream",
     "text": [
      "param: {'model': 'GBC', 'max_depth': 2, 'criterion': 'friedman_mse', 'min_impurity_decrease': 0.019935377440842172, 'min_samples_leaf': 0.04022316440873167}\n",
      "param: {'model': 'RFC', 'max_depth': 3, 'criterion': 'gini', 'min_impurity_decrease': 0.020905023421492152, 'min_samples_leaf': 6}\n",
      "param: {'model': 'GBC', 'max_depth': 8, 'criterion': 'mae', 'min_impurity_decrease': 0.06816037196343741, 'min_samples_leaf': 1}\n"
     ]
    },
    {
     "name": "stderr",
     "output_type": "stream",
     "text": [
      "C:\\Users\\Asus\\anaconda3\\lib\\site-packages\\sklearn\\ensemble\\_gb.py:1118: FutureWarning: criterion='mae' was deprecated in version 0.24 and will be removed in version 1.1 (renaming of 0.26). Use criterion='friedman_mse' or 'mse' instead, as trees should use a least-square criterion in Gradient Boosting.\n",
      "  warnings.warn(\"criterion='mae' was deprecated in version 0.24 and \"\n"
     ]
    },
    {
     "name": "stdout",
     "output_type": "stream",
     "text": [
      "param: {'model': 'GBC', 'max_depth': 10, 'criterion': 'mae', 'min_impurity_decrease': 0.05853485935393499, 'min_samples_leaf': 0.04960554374179267}\n"
     ]
    },
    {
     "name": "stderr",
     "output_type": "stream",
     "text": [
      "C:\\Users\\Asus\\anaconda3\\lib\\site-packages\\sklearn\\ensemble\\_gb.py:1118: FutureWarning: criterion='mae' was deprecated in version 0.24 and will be removed in version 1.1 (renaming of 0.26). Use criterion='friedman_mse' or 'mse' instead, as trees should use a least-square criterion in Gradient Boosting.\n",
      "  warnings.warn(\"criterion='mae' was deprecated in version 0.24 and \"\n"
     ]
    },
    {
     "name": "stdout",
     "output_type": "stream",
     "text": [
      "param: {'model': 'RFC', 'max_depth': 6, 'criterion': 'entropy', 'min_impurity_decrease': 0.01869013463463256, 'min_samples_leaf': 0.0031987923933032734}\n",
      "param: {'model': 'GBC', 'max_depth': 2, 'criterion': 'friedman_mse', 'min_impurity_decrease': 0.030652213526415506, 'min_samples_leaf': 0.06597294807543282}\n",
      "param: {'model': 'GBC', 'max_depth': 7, 'criterion': 'friedman_mse', 'min_impurity_decrease': 0.044032502680565314, 'min_samples_leaf': 1}\n",
      "param: {'model': 'GBC', 'max_depth': 5, 'criterion': 'friedman_mse', 'min_impurity_decrease': 0.07062414670004744, 'min_samples_leaf': 1}\n",
      "param: {'model': 'RFC', 'max_depth': 8, 'criterion': 'entropy', 'min_impurity_decrease': 0.08595958552220193, 'min_samples_leaf': 14}\n",
      "param: {'model': 'GBC', 'max_depth': 8, 'criterion': 'friedman_mse', 'min_impurity_decrease': 0.09984709112439483, 'min_samples_leaf': 0.07640372907032772}\n",
      "param: {'model': 'GBC', 'max_depth': 10, 'criterion': 'mae', 'min_impurity_decrease': 0.08490456142354781, 'min_samples_leaf': 18}\n"
     ]
    },
    {
     "name": "stderr",
     "output_type": "stream",
     "text": [
      "C:\\Users\\Asus\\anaconda3\\lib\\site-packages\\sklearn\\ensemble\\_gb.py:1118: FutureWarning: criterion='mae' was deprecated in version 0.24 and will be removed in version 1.1 (renaming of 0.26). Use criterion='friedman_mse' or 'mse' instead, as trees should use a least-square criterion in Gradient Boosting.\n",
      "  warnings.warn(\"criterion='mae' was deprecated in version 0.24 and \"\n"
     ]
    },
    {
     "name": "stdout",
     "output_type": "stream",
     "text": [
      "param: {'model': 'GBC', 'max_depth': 9, 'criterion': 'mae', 'min_impurity_decrease': 0.07743684684892999, 'min_samples_leaf': 0.03307378377539816}\n"
     ]
    },
    {
     "name": "stderr",
     "output_type": "stream",
     "text": [
      "C:\\Users\\Asus\\anaconda3\\lib\\site-packages\\sklearn\\ensemble\\_gb.py:1118: FutureWarning: criterion='mae' was deprecated in version 0.24 and will be removed in version 1.1 (renaming of 0.26). Use criterion='friedman_mse' or 'mse' instead, as trees should use a least-square criterion in Gradient Boosting.\n",
      "  warnings.warn(\"criterion='mae' was deprecated in version 0.24 and \"\n"
     ]
    },
    {
     "name": "stdout",
     "output_type": "stream",
     "text": [
      "param: {'model': 'GBC', 'max_depth': 2, 'criterion': 'mae', 'min_impurity_decrease': 0.044063745750371676, 'min_samples_leaf': 19}\n"
     ]
    },
    {
     "name": "stderr",
     "output_type": "stream",
     "text": [
      "C:\\Users\\Asus\\anaconda3\\lib\\site-packages\\sklearn\\ensemble\\_gb.py:1118: FutureWarning: criterion='mae' was deprecated in version 0.24 and will be removed in version 1.1 (renaming of 0.26). Use criterion='friedman_mse' or 'mse' instead, as trees should use a least-square criterion in Gradient Boosting.\n",
      "  warnings.warn(\"criterion='mae' was deprecated in version 0.24 and \"\n"
     ]
    },
    {
     "name": "stdout",
     "output_type": "stream",
     "text": [
      "param: {'model': 'RFC', 'max_depth': 5, 'criterion': 'gini', 'min_impurity_decrease': 0.08334433254591467, 'min_samples_leaf': 11}\n",
      "param: {'model': 'RFC', 'max_depth': 8, 'criterion': 'gini', 'min_impurity_decrease': 0.09338548876906347, 'min_samples_leaf': 7}\n",
      "param: {'model': 'RFC', 'max_depth': 1, 'criterion': 'entropy', 'min_impurity_decrease': 0.04982153495723053, 'min_samples_leaf': 0.07644785676212819}\n",
      "param: {'model': 'GBC', 'max_depth': 9, 'criterion': 'friedman_mse', 'min_impurity_decrease': 0.06938600133122316, 'min_samples_leaf': 0.09222347520707239}\n",
      "param: {'model': 'GBC', 'max_depth': 9, 'criterion': 'mae', 'min_impurity_decrease': 0.01669068289607839, 'min_samples_leaf': 0.05797697104195347}\n"
     ]
    },
    {
     "name": "stderr",
     "output_type": "stream",
     "text": [
      "C:\\Users\\Asus\\anaconda3\\lib\\site-packages\\sklearn\\ensemble\\_gb.py:1118: FutureWarning: criterion='mae' was deprecated in version 0.24 and will be removed in version 1.1 (renaming of 0.26). Use criterion='friedman_mse' or 'mse' instead, as trees should use a least-square criterion in Gradient Boosting.\n",
      "  warnings.warn(\"criterion='mae' was deprecated in version 0.24 and \"\n"
     ]
    },
    {
     "name": "stdout",
     "output_type": "stream",
     "text": [
      "param: {'model': 'RFC', 'max_depth': 5, 'criterion': 'gini', 'min_impurity_decrease': 0.04137671885468297, 'min_samples_leaf': 20}\n",
      "param: {'model': 'RFC', 'max_depth': 9, 'criterion': 'gini', 'min_impurity_decrease': 0.04649998212421329, 'min_samples_leaf': 0.012818005248830432}\n",
      "param: {'model': 'GBC', 'max_depth': 4, 'criterion': 'mae', 'min_impurity_decrease': 0.004826318485975545, 'min_samples_leaf': 0.0930970572597478}\n"
     ]
    },
    {
     "name": "stderr",
     "output_type": "stream",
     "text": [
      "C:\\Users\\Asus\\anaconda3\\lib\\site-packages\\sklearn\\ensemble\\_gb.py:1118: FutureWarning: criterion='mae' was deprecated in version 0.24 and will be removed in version 1.1 (renaming of 0.26). Use criterion='friedman_mse' or 'mse' instead, as trees should use a least-square criterion in Gradient Boosting.\n",
      "  warnings.warn(\"criterion='mae' was deprecated in version 0.24 and \"\n"
     ]
    },
    {
     "name": "stdout",
     "output_type": "stream",
     "text": [
      "param: {'model': 'RFC', 'max_depth': 7, 'criterion': 'gini', 'min_impurity_decrease': 0.01748283836443352, 'min_samples_leaf': 15}\n",
      "param: {'model': 'RFC', 'max_depth': 7, 'criterion': 'entropy', 'min_impurity_decrease': 0.01086769273618512, 'min_samples_leaf': 0.09747529942922682}\n",
      "param: {'model': 'GBC', 'max_depth': 5, 'criterion': 'friedman_mse', 'min_impurity_decrease': 0.06625640940506024, 'min_samples_leaf': 0.04387313231878215}\n",
      "param: {'model': 'GBC', 'max_depth': 1, 'criterion': 'friedman_mse', 'min_impurity_decrease': 0.08724533570865059, 'min_samples_leaf': 0.08952083913936618}\n",
      "param: {'model': 'GBC', 'max_depth': 4, 'criterion': 'mae', 'min_impurity_decrease': 0.08117346641773895, 'min_samples_leaf': 0.08122720736280106}\n"
     ]
    },
    {
     "name": "stderr",
     "output_type": "stream",
     "text": [
      "C:\\Users\\Asus\\anaconda3\\lib\\site-packages\\sklearn\\ensemble\\_gb.py:1118: FutureWarning: criterion='mae' was deprecated in version 0.24 and will be removed in version 1.1 (renaming of 0.26). Use criterion='friedman_mse' or 'mse' instead, as trees should use a least-square criterion in Gradient Boosting.\n",
      "  warnings.warn(\"criterion='mae' was deprecated in version 0.24 and \"\n"
     ]
    },
    {
     "name": "stdout",
     "output_type": "stream",
     "text": [
      "param: {'model': 'GBC', 'max_depth': 8, 'criterion': 'mae', 'min_impurity_decrease': 0.0695938671749416, 'min_samples_leaf': 0.07131779014292475}\n"
     ]
    },
    {
     "name": "stderr",
     "output_type": "stream",
     "text": [
      "C:\\Users\\Asus\\anaconda3\\lib\\site-packages\\sklearn\\ensemble\\_gb.py:1118: FutureWarning: criterion='mae' was deprecated in version 0.24 and will be removed in version 1.1 (renaming of 0.26). Use criterion='friedman_mse' or 'mse' instead, as trees should use a least-square criterion in Gradient Boosting.\n",
      "  warnings.warn(\"criterion='mae' was deprecated in version 0.24 and \"\n"
     ]
    },
    {
     "name": "stdout",
     "output_type": "stream",
     "text": [
      "param: {'model': 'GBC', 'max_depth': 8, 'criterion': 'friedman_mse', 'min_impurity_decrease': 0.05841245309272597, 'min_samples_leaf': 0.05127644589663836}\n",
      "param: {'model': 'RFC', 'max_depth': 7, 'criterion': 'gini', 'min_impurity_decrease': 0.08632297215060945, 'min_samples_leaf': 14}\n",
      "param: {'model': 'RFC', 'max_depth': 2, 'criterion': 'gini', 'min_impurity_decrease': 0.04099652084803142, 'min_samples_leaf': 2}\n",
      "param: {'model': 'GBC', 'max_depth': 10, 'criterion': 'friedman_mse', 'min_impurity_decrease': 0.09991391920904288, 'min_samples_leaf': 13}\n",
      "param: {'model': 'RFC', 'max_depth': 2, 'criterion': 'gini', 'min_impurity_decrease': 0.05320699225224297, 'min_samples_leaf': 3}\n",
      "param: {'model': 'RFC', 'max_depth': 10, 'criterion': 'gini', 'min_impurity_decrease': 0.08072523791777003, 'min_samples_leaf': 0.02827284020622839}\n",
      "\n",
      "\n",
      "\n",
      "GEN 11:\n",
      "param: {'model': 'RFC', 'max_depth': 8, 'criterion': 'entropy', 'min_impurity_decrease': 0.08040994065487432, 'min_samples_leaf': 18}\n",
      "param: {'model': 'GBC', 'max_depth': 4, 'criterion': 'mae', 'min_impurity_decrease': 0.0803055391323739, 'min_samples_leaf': 2}\n"
     ]
    },
    {
     "name": "stderr",
     "output_type": "stream",
     "text": [
      "C:\\Users\\Asus\\anaconda3\\lib\\site-packages\\sklearn\\ensemble\\_gb.py:1118: FutureWarning: criterion='mae' was deprecated in version 0.24 and will be removed in version 1.1 (renaming of 0.26). Use criterion='friedman_mse' or 'mse' instead, as trees should use a least-square criterion in Gradient Boosting.\n",
      "  warnings.warn(\"criterion='mae' was deprecated in version 0.24 and \"\n"
     ]
    },
    {
     "name": "stdout",
     "output_type": "stream",
     "text": [
      "param: {'model': 'GBC', 'max_depth': 6, 'criterion': 'mae', 'min_impurity_decrease': 0.07892626061011923, 'min_samples_leaf': 13}\n"
     ]
    },
    {
     "name": "stderr",
     "output_type": "stream",
     "text": [
      "C:\\Users\\Asus\\anaconda3\\lib\\site-packages\\sklearn\\ensemble\\_gb.py:1118: FutureWarning: criterion='mae' was deprecated in version 0.24 and will be removed in version 1.1 (renaming of 0.26). Use criterion='friedman_mse' or 'mse' instead, as trees should use a least-square criterion in Gradient Boosting.\n",
      "  warnings.warn(\"criterion='mae' was deprecated in version 0.24 and \"\n"
     ]
    },
    {
     "name": "stdout",
     "output_type": "stream",
     "text": [
      "param: {'model': 'RFC', 'max_depth': 7, 'criterion': 'gini', 'min_impurity_decrease': 0.05741686425020872, 'min_samples_leaf': 6}\n",
      "param: {'model': 'GBC', 'max_depth': 6, 'criterion': 'mae', 'min_impurity_decrease': 0.03237704132256669, 'min_samples_leaf': 14}\n"
     ]
    },
    {
     "name": "stderr",
     "output_type": "stream",
     "text": [
      "C:\\Users\\Asus\\anaconda3\\lib\\site-packages\\sklearn\\ensemble\\_gb.py:1118: FutureWarning: criterion='mae' was deprecated in version 0.24 and will be removed in version 1.1 (renaming of 0.26). Use criterion='friedman_mse' or 'mse' instead, as trees should use a least-square criterion in Gradient Boosting.\n",
      "  warnings.warn(\"criterion='mae' was deprecated in version 0.24 and \"\n"
     ]
    },
    {
     "name": "stdout",
     "output_type": "stream",
     "text": [
      "param: {'model': 'GBC', 'max_depth': 2, 'criterion': 'friedman_mse', 'min_impurity_decrease': 0.07926700000631093, 'min_samples_leaf': 0.01699942979989403}\n",
      "param: {'model': 'GBC', 'max_depth': 5, 'criterion': 'mae', 'min_impurity_decrease': 0.06702395686932103, 'min_samples_leaf': 16}\n"
     ]
    },
    {
     "name": "stderr",
     "output_type": "stream",
     "text": [
      "C:\\Users\\Asus\\anaconda3\\lib\\site-packages\\sklearn\\ensemble\\_gb.py:1118: FutureWarning: criterion='mae' was deprecated in version 0.24 and will be removed in version 1.1 (renaming of 0.26). Use criterion='friedman_mse' or 'mse' instead, as trees should use a least-square criterion in Gradient Boosting.\n",
      "  warnings.warn(\"criterion='mae' was deprecated in version 0.24 and \"\n"
     ]
    },
    {
     "name": "stdout",
     "output_type": "stream",
     "text": [
      "param: {'model': 'GBC', 'max_depth': 9, 'criterion': 'mae', 'min_impurity_decrease': 0.03612430264750664, 'min_samples_leaf': 0.06234776572853461}\n"
     ]
    },
    {
     "name": "stderr",
     "output_type": "stream",
     "text": [
      "C:\\Users\\Asus\\anaconda3\\lib\\site-packages\\sklearn\\ensemble\\_gb.py:1118: FutureWarning: criterion='mae' was deprecated in version 0.24 and will be removed in version 1.1 (renaming of 0.26). Use criterion='friedman_mse' or 'mse' instead, as trees should use a least-square criterion in Gradient Boosting.\n",
      "  warnings.warn(\"criterion='mae' was deprecated in version 0.24 and \"\n"
     ]
    },
    {
     "name": "stdout",
     "output_type": "stream",
     "text": [
      "param: {'model': 'GBC', 'max_depth': 6, 'criterion': 'mae', 'min_impurity_decrease': 0.09034100999534027, 'min_samples_leaf': 12}\n"
     ]
    },
    {
     "name": "stderr",
     "output_type": "stream",
     "text": [
      "C:\\Users\\Asus\\anaconda3\\lib\\site-packages\\sklearn\\ensemble\\_gb.py:1118: FutureWarning: criterion='mae' was deprecated in version 0.24 and will be removed in version 1.1 (renaming of 0.26). Use criterion='friedman_mse' or 'mse' instead, as trees should use a least-square criterion in Gradient Boosting.\n",
      "  warnings.warn(\"criterion='mae' was deprecated in version 0.24 and \"\n"
     ]
    },
    {
     "name": "stdout",
     "output_type": "stream",
     "text": [
      "param: {'model': 'RFC', 'max_depth': 10, 'criterion': 'gini', 'min_impurity_decrease': 0.0760307307925234, 'min_samples_leaf': 20}\n",
      "param: {'model': 'RFC', 'max_depth': 2, 'criterion': 'entropy', 'min_impurity_decrease': 0.04459207354015997, 'min_samples_leaf': 0.034879131179214665}\n",
      "param: {'model': 'GBC', 'max_depth': 10, 'criterion': 'friedman_mse', 'min_impurity_decrease': 0.018644254449121777, 'min_samples_leaf': 0.08111009800973504}\n",
      "param: {'model': 'GBC', 'max_depth': 1, 'criterion': 'friedman_mse', 'min_impurity_decrease': 0.07198743024568924, 'min_samples_leaf': 9}\n",
      "param: {'model': 'RFC', 'max_depth': 1, 'criterion': 'gini', 'min_impurity_decrease': 0.07418692205311504, 'min_samples_leaf': 0.016089960377249236}\n",
      "param: {'model': 'GBC', 'max_depth': 2, 'criterion': 'friedman_mse', 'min_impurity_decrease': 0.021060380785757216, 'min_samples_leaf': 0.0008283441765808086}\n",
      "param: {'model': 'RFC', 'max_depth': 3, 'criterion': 'entropy', 'min_impurity_decrease': 0.07363352155623977, 'min_samples_leaf': 0.05708821475273237}\n",
      "param: {'model': 'RFC', 'max_depth': 1, 'criterion': 'gini', 'min_impurity_decrease': 0.04207243218566083, 'min_samples_leaf': 0.06845712851700288}\n",
      "param: {'model': 'RFC', 'max_depth': 9, 'criterion': 'entropy', 'min_impurity_decrease': 0.045362787750059065, 'min_samples_leaf': 20}\n",
      "param: {'model': 'RFC', 'max_depth': 9, 'criterion': 'gini', 'min_impurity_decrease': 0.004387705998492408, 'min_samples_leaf': 14}\n",
      "param: {'model': 'RFC', 'max_depth': 6, 'criterion': 'entropy', 'min_impurity_decrease': 0.08746905207204547, 'min_samples_leaf': 13}\n",
      "param: {'model': 'RFC', 'max_depth': 1, 'criterion': 'gini', 'min_impurity_decrease': 0.035801531044048485, 'min_samples_leaf': 0.08213701227248273}\n",
      "param: {'model': 'GBC', 'max_depth': 5, 'criterion': 'friedman_mse', 'min_impurity_decrease': 0.09055446394364652, 'min_samples_leaf': 14}\n",
      "param: {'model': 'RFC', 'max_depth': 3, 'criterion': 'gini', 'min_impurity_decrease': 0.015390624602043147, 'min_samples_leaf': 16}\n",
      "param: {'model': 'RFC', 'max_depth': 9, 'criterion': 'gini', 'min_impurity_decrease': 0.018241906188488755, 'min_samples_leaf': 16}\n",
      "param: {'model': 'RFC', 'max_depth': 4, 'criterion': 'entropy', 'min_impurity_decrease': 0.05626607368090687, 'min_samples_leaf': 12}\n",
      "param: {'model': 'RFC', 'max_depth': 6, 'criterion': 'gini', 'min_impurity_decrease': 0.08154140308389704, 'min_samples_leaf': 19}\n",
      "param: {'model': 'RFC', 'max_depth': 3, 'criterion': 'entropy', 'min_impurity_decrease': 0.06423139385601664, 'min_samples_leaf': 0.09480723384096626}\n",
      "param: {'model': 'GBC', 'max_depth': 3, 'criterion': 'mae', 'min_impurity_decrease': 0.06021947300257709, 'min_samples_leaf': 0.0023229800364824695}\n"
     ]
    },
    {
     "name": "stderr",
     "output_type": "stream",
     "text": [
      "C:\\Users\\Asus\\anaconda3\\lib\\site-packages\\sklearn\\ensemble\\_gb.py:1118: FutureWarning: criterion='mae' was deprecated in version 0.24 and will be removed in version 1.1 (renaming of 0.26). Use criterion='friedman_mse' or 'mse' instead, as trees should use a least-square criterion in Gradient Boosting.\n",
      "  warnings.warn(\"criterion='mae' was deprecated in version 0.24 and \"\n"
     ]
    },
    {
     "name": "stdout",
     "output_type": "stream",
     "text": [
      "param: {'model': 'GBC', 'max_depth': 5, 'criterion': 'mae', 'min_impurity_decrease': 0.036401676251630266, 'min_samples_leaf': 12}\n"
     ]
    },
    {
     "name": "stderr",
     "output_type": "stream",
     "text": [
      "C:\\Users\\Asus\\anaconda3\\lib\\site-packages\\sklearn\\ensemble\\_gb.py:1118: FutureWarning: criterion='mae' was deprecated in version 0.24 and will be removed in version 1.1 (renaming of 0.26). Use criterion='friedman_mse' or 'mse' instead, as trees should use a least-square criterion in Gradient Boosting.\n",
      "  warnings.warn(\"criterion='mae' was deprecated in version 0.24 and \"\n"
     ]
    },
    {
     "name": "stdout",
     "output_type": "stream",
     "text": [
      "param: {'model': 'RFC', 'max_depth': 2, 'criterion': 'entropy', 'min_impurity_decrease': 0.04750021479649569, 'min_samples_leaf': 0.020568633370396838}\n",
      "param: {'model': 'GBC', 'max_depth': 5, 'criterion': 'mae', 'min_impurity_decrease': 0.00037273293478758964, 'min_samples_leaf': 0.09196523595063057}\n"
     ]
    },
    {
     "name": "stderr",
     "output_type": "stream",
     "text": [
      "C:\\Users\\Asus\\anaconda3\\lib\\site-packages\\sklearn\\ensemble\\_gb.py:1118: FutureWarning: criterion='mae' was deprecated in version 0.24 and will be removed in version 1.1 (renaming of 0.26). Use criterion='friedman_mse' or 'mse' instead, as trees should use a least-square criterion in Gradient Boosting.\n",
      "  warnings.warn(\"criterion='mae' was deprecated in version 0.24 and \"\n"
     ]
    },
    {
     "name": "stdout",
     "output_type": "stream",
     "text": [
      "param: {'model': 'RFC', 'max_depth': 9, 'criterion': 'gini', 'min_impurity_decrease': 0.07187014534148899, 'min_samples_leaf': 1}\n",
      "param: {'model': 'GBC', 'max_depth': 10, 'criterion': 'mae', 'min_impurity_decrease': 0.04037488470259176, 'min_samples_leaf': 0.060957540626563514}\n"
     ]
    },
    {
     "name": "stderr",
     "output_type": "stream",
     "text": [
      "C:\\Users\\Asus\\anaconda3\\lib\\site-packages\\sklearn\\ensemble\\_gb.py:1118: FutureWarning: criterion='mae' was deprecated in version 0.24 and will be removed in version 1.1 (renaming of 0.26). Use criterion='friedman_mse' or 'mse' instead, as trees should use a least-square criterion in Gradient Boosting.\n",
      "  warnings.warn(\"criterion='mae' was deprecated in version 0.24 and \"\n"
     ]
    },
    {
     "name": "stdout",
     "output_type": "stream",
     "text": [
      "param: {'model': 'RFC', 'max_depth': 3, 'criterion': 'entropy', 'min_impurity_decrease': 0.06560903759733185, 'min_samples_leaf': 0.013928696785999662}\n",
      "param: {'model': 'GBC', 'max_depth': 10, 'criterion': 'friedman_mse', 'min_impurity_decrease': 0.054814790609341676, 'min_samples_leaf': 18}\n",
      "param: {'model': 'RFC', 'max_depth': 3, 'criterion': 'gini', 'min_impurity_decrease': 0.035029389406867104, 'min_samples_leaf': 4}\n",
      "param: {'model': 'RFC', 'max_depth': 8, 'criterion': 'entropy', 'min_impurity_decrease': 0.02986908609666744, 'min_samples_leaf': 7}\n",
      "param: {'model': 'RFC', 'max_depth': 1, 'criterion': 'gini', 'min_impurity_decrease': 0.0943057304183573, 'min_samples_leaf': 18}\n",
      "param: {'model': 'GBC', 'max_depth': 8, 'criterion': 'mae', 'min_impurity_decrease': 0.019804676649030295, 'min_samples_leaf': 0.043286926149864846}\n"
     ]
    },
    {
     "name": "stderr",
     "output_type": "stream",
     "text": [
      "C:\\Users\\Asus\\anaconda3\\lib\\site-packages\\sklearn\\ensemble\\_gb.py:1118: FutureWarning: criterion='mae' was deprecated in version 0.24 and will be removed in version 1.1 (renaming of 0.26). Use criterion='friedman_mse' or 'mse' instead, as trees should use a least-square criterion in Gradient Boosting.\n",
      "  warnings.warn(\"criterion='mae' was deprecated in version 0.24 and \"\n"
     ]
    },
    {
     "name": "stdout",
     "output_type": "stream",
     "text": [
      "param: {'model': 'GBC', 'max_depth': 1, 'criterion': 'friedman_mse', 'min_impurity_decrease': 0.013326160648744822, 'min_samples_leaf': 14}\n",
      "param: {'model': 'GBC', 'max_depth': 4, 'criterion': 'friedman_mse', 'min_impurity_decrease': 0.0023192703670009474, 'min_samples_leaf': 0.093361770378022}\n",
      "param: {'model': 'GBC', 'max_depth': 2, 'criterion': 'friedman_mse', 'min_impurity_decrease': 0.08073980079336722, 'min_samples_leaf': 10}\n",
      "param: {'model': 'RFC', 'max_depth': 3, 'criterion': 'entropy', 'min_impurity_decrease': 0.006772297365261637, 'min_samples_leaf': 0.07415819149311212}\n",
      "param: {'model': 'GBC', 'max_depth': 3, 'criterion': 'mae', 'min_impurity_decrease': 0.09128199512833172, 'min_samples_leaf': 0.08705102424506145}\n"
     ]
    },
    {
     "name": "stderr",
     "output_type": "stream",
     "text": [
      "C:\\Users\\Asus\\anaconda3\\lib\\site-packages\\sklearn\\ensemble\\_gb.py:1118: FutureWarning: criterion='mae' was deprecated in version 0.24 and will be removed in version 1.1 (renaming of 0.26). Use criterion='friedman_mse' or 'mse' instead, as trees should use a least-square criterion in Gradient Boosting.\n",
      "  warnings.warn(\"criterion='mae' was deprecated in version 0.24 and \"\n"
     ]
    },
    {
     "name": "stdout",
     "output_type": "stream",
     "text": [
      "param: {'model': 'RFC', 'max_depth': 4, 'criterion': 'entropy', 'min_impurity_decrease': 0.0446457672280829, 'min_samples_leaf': 0.0964504917807453}\n",
      "param: {'model': 'RFC', 'max_depth': 9, 'criterion': 'gini', 'min_impurity_decrease': 0.050865468069904295, 'min_samples_leaf': 0.076112757703208}\n",
      "param: {'model': 'RFC', 'max_depth': 3, 'criterion': 'entropy', 'min_impurity_decrease': 0.0210459024373126, 'min_samples_leaf': 0.09303543995332617}\n",
      "param: {'model': 'RFC', 'max_depth': 7, 'criterion': 'entropy', 'min_impurity_decrease': 0.08657831224621412, 'min_samples_leaf': 0.08993968204667989}\n",
      "param: {'model': 'GBC', 'max_depth': 1, 'criterion': 'mae', 'min_impurity_decrease': 0.015777152546416384, 'min_samples_leaf': 0.0926961088076729}\n"
     ]
    },
    {
     "name": "stderr",
     "output_type": "stream",
     "text": [
      "C:\\Users\\Asus\\anaconda3\\lib\\site-packages\\sklearn\\ensemble\\_gb.py:1118: FutureWarning: criterion='mae' was deprecated in version 0.24 and will be removed in version 1.1 (renaming of 0.26). Use criterion='friedman_mse' or 'mse' instead, as trees should use a least-square criterion in Gradient Boosting.\n",
      "  warnings.warn(\"criterion='mae' was deprecated in version 0.24 and \"\n"
     ]
    },
    {
     "name": "stdout",
     "output_type": "stream",
     "text": [
      "param: {'model': 'RFC', 'max_depth': 7, 'criterion': 'gini', 'min_impurity_decrease': 0.03524263756419989, 'min_samples_leaf': 0.01698650761106706}\n",
      "param: {'model': 'GBC', 'max_depth': 2, 'criterion': 'mae', 'min_impurity_decrease': 0.08628094874540058, 'min_samples_leaf': 0.08371830170813825}\n"
     ]
    },
    {
     "name": "stderr",
     "output_type": "stream",
     "text": [
      "C:\\Users\\Asus\\anaconda3\\lib\\site-packages\\sklearn\\ensemble\\_gb.py:1118: FutureWarning: criterion='mae' was deprecated in version 0.24 and will be removed in version 1.1 (renaming of 0.26). Use criterion='friedman_mse' or 'mse' instead, as trees should use a least-square criterion in Gradient Boosting.\n",
      "  warnings.warn(\"criterion='mae' was deprecated in version 0.24 and \"\n"
     ]
    },
    {
     "name": "stdout",
     "output_type": "stream",
     "text": [
      "param: {'model': 'GBC', 'max_depth': 4, 'criterion': 'friedman_mse', 'min_impurity_decrease': 0.04711791762930033, 'min_samples_leaf': 0.035286760846033306}\n",
      "param: {'model': 'RFC', 'max_depth': 2, 'criterion': 'gini', 'min_impurity_decrease': 0.08686213500574282, 'min_samples_leaf': 0.07430471038444135}\n",
      "param: {'model': 'RFC', 'max_depth': 5, 'criterion': 'entropy', 'min_impurity_decrease': 0.008410660727792018, 'min_samples_leaf': 15}\n",
      "param: {'model': 'GBC', 'max_depth': 6, 'criterion': 'mae', 'min_impurity_decrease': 0.08135093936192707, 'min_samples_leaf': 0.06314896628718715}\n"
     ]
    },
    {
     "name": "stderr",
     "output_type": "stream",
     "text": [
      "C:\\Users\\Asus\\anaconda3\\lib\\site-packages\\sklearn\\ensemble\\_gb.py:1118: FutureWarning: criterion='mae' was deprecated in version 0.24 and will be removed in version 1.1 (renaming of 0.26). Use criterion='friedman_mse' or 'mse' instead, as trees should use a least-square criterion in Gradient Boosting.\n",
      "  warnings.warn(\"criterion='mae' was deprecated in version 0.24 and \"\n"
     ]
    },
    {
     "name": "stdout",
     "output_type": "stream",
     "text": [
      "param: {'model': 'RFC', 'max_depth': 7, 'criterion': 'entropy', 'min_impurity_decrease': 0.09154638052950606, 'min_samples_leaf': 0.07478233843472963}\n",
      "param: {'model': 'GBC', 'max_depth': 8, 'criterion': 'mae', 'min_impurity_decrease': 0.0861106735203115, 'min_samples_leaf': 0.055028270589881564}\n"
     ]
    },
    {
     "name": "stderr",
     "output_type": "stream",
     "text": [
      "C:\\Users\\Asus\\anaconda3\\lib\\site-packages\\sklearn\\ensemble\\_gb.py:1118: FutureWarning: criterion='mae' was deprecated in version 0.24 and will be removed in version 1.1 (renaming of 0.26). Use criterion='friedman_mse' or 'mse' instead, as trees should use a least-square criterion in Gradient Boosting.\n",
      "  warnings.warn(\"criterion='mae' was deprecated in version 0.24 and \"\n"
     ]
    },
    {
     "name": "stdout",
     "output_type": "stream",
     "text": [
      "param: {'model': 'GBC', 'max_depth': 5, 'criterion': 'friedman_mse', 'min_impurity_decrease': 0.024447326141941183, 'min_samples_leaf': 19}\n",
      "param: {'model': 'GBC', 'max_depth': 3, 'criterion': 'mae', 'min_impurity_decrease': 0.03990491082740296, 'min_samples_leaf': 17}\n"
     ]
    },
    {
     "name": "stderr",
     "output_type": "stream",
     "text": [
      "C:\\Users\\Asus\\anaconda3\\lib\\site-packages\\sklearn\\ensemble\\_gb.py:1118: FutureWarning: criterion='mae' was deprecated in version 0.24 and will be removed in version 1.1 (renaming of 0.26). Use criterion='friedman_mse' or 'mse' instead, as trees should use a least-square criterion in Gradient Boosting.\n",
      "  warnings.warn(\"criterion='mae' was deprecated in version 0.24 and \"\n"
     ]
    },
    {
     "name": "stdout",
     "output_type": "stream",
     "text": [
      "param: {'model': 'RFC', 'max_depth': 4, 'criterion': 'gini', 'min_impurity_decrease': 0.09828530383111554, 'min_samples_leaf': 0.04417352080281556}\n",
      "param: {'model': 'GBC', 'max_depth': 7, 'criterion': 'friedman_mse', 'min_impurity_decrease': 0.09341494769407914, 'min_samples_leaf': 4}\n",
      "param: {'model': 'GBC', 'max_depth': 10, 'criterion': 'mae', 'min_impurity_decrease': 0.022170533036509944, 'min_samples_leaf': 4}\n"
     ]
    },
    {
     "name": "stderr",
     "output_type": "stream",
     "text": [
      "C:\\Users\\Asus\\anaconda3\\lib\\site-packages\\sklearn\\ensemble\\_gb.py:1118: FutureWarning: criterion='mae' was deprecated in version 0.24 and will be removed in version 1.1 (renaming of 0.26). Use criterion='friedman_mse' or 'mse' instead, as trees should use a least-square criterion in Gradient Boosting.\n",
      "  warnings.warn(\"criterion='mae' was deprecated in version 0.24 and \"\n"
     ]
    },
    {
     "name": "stdout",
     "output_type": "stream",
     "text": [
      "param: {'model': 'GBC', 'max_depth': 7, 'criterion': 'friedman_mse', 'min_impurity_decrease': 0.07216701644078662, 'min_samples_leaf': 0.07363554251092477}\n",
      "param: {'model': 'GBC', 'max_depth': 10, 'criterion': 'mae', 'min_impurity_decrease': 0.05804462042419693, 'min_samples_leaf': 0.016236392644568297}\n"
     ]
    },
    {
     "name": "stderr",
     "output_type": "stream",
     "text": [
      "C:\\Users\\Asus\\anaconda3\\lib\\site-packages\\sklearn\\ensemble\\_gb.py:1118: FutureWarning: criterion='mae' was deprecated in version 0.24 and will be removed in version 1.1 (renaming of 0.26). Use criterion='friedman_mse' or 'mse' instead, as trees should use a least-square criterion in Gradient Boosting.\n",
      "  warnings.warn(\"criterion='mae' was deprecated in version 0.24 and \"\n"
     ]
    },
    {
     "name": "stdout",
     "output_type": "stream",
     "text": [
      "param: {'model': 'GBC', 'max_depth': 3, 'criterion': 'friedman_mse', 'min_impurity_decrease': 0.04166807702669799, 'min_samples_leaf': 0.018542469844784516}\n",
      "param: {'model': 'GBC', 'max_depth': 5, 'criterion': 'mae', 'min_impurity_decrease': 0.0017443711876585, 'min_samples_leaf': 8}\n"
     ]
    },
    {
     "name": "stderr",
     "output_type": "stream",
     "text": [
      "C:\\Users\\Asus\\anaconda3\\lib\\site-packages\\sklearn\\ensemble\\_gb.py:1118: FutureWarning: criterion='mae' was deprecated in version 0.24 and will be removed in version 1.1 (renaming of 0.26). Use criterion='friedman_mse' or 'mse' instead, as trees should use a least-square criterion in Gradient Boosting.\n",
      "  warnings.warn(\"criterion='mae' was deprecated in version 0.24 and \"\n"
     ]
    },
    {
     "name": "stdout",
     "output_type": "stream",
     "text": [
      "param: {'model': 'GBC', 'max_depth': 2, 'criterion': 'friedman_mse', 'min_impurity_decrease': 0.06757625617041593, 'min_samples_leaf': 0.07427994917712283}\n",
      "param: {'model': 'RFC', 'max_depth': 9, 'criterion': 'entropy', 'min_impurity_decrease': 0.0020140006645242847, 'min_samples_leaf': 15}\n",
      "param: {'model': 'GBC', 'max_depth': 2, 'criterion': 'friedman_mse', 'min_impurity_decrease': 0.07110507495590987, 'min_samples_leaf': 6}\n",
      "param: {'model': 'GBC', 'max_depth': 10, 'criterion': 'mae', 'min_impurity_decrease': 0.020360837841150337, 'min_samples_leaf': 0.06236045928468276}\n"
     ]
    },
    {
     "name": "stderr",
     "output_type": "stream",
     "text": [
      "C:\\Users\\Asus\\anaconda3\\lib\\site-packages\\sklearn\\ensemble\\_gb.py:1118: FutureWarning: criterion='mae' was deprecated in version 0.24 and will be removed in version 1.1 (renaming of 0.26). Use criterion='friedman_mse' or 'mse' instead, as trees should use a least-square criterion in Gradient Boosting.\n",
      "  warnings.warn(\"criterion='mae' was deprecated in version 0.24 and \"\n"
     ]
    },
    {
     "name": "stdout",
     "output_type": "stream",
     "text": [
      "param: {'model': 'RFC', 'max_depth': 6, 'criterion': 'gini', 'min_impurity_decrease': 0.003267664312433927, 'min_samples_leaf': 16}\n",
      "param: {'model': 'GBC', 'max_depth': 8, 'criterion': 'friedman_mse', 'min_impurity_decrease': 0.006938209393605188, 'min_samples_leaf': 10}\n",
      "param: {'model': 'RFC', 'max_depth': 9, 'criterion': 'entropy', 'min_impurity_decrease': 0.09830885957701888, 'min_samples_leaf': 0.012950293121510314}\n",
      "param: {'model': 'GBC', 'max_depth': 10, 'criterion': 'mae', 'min_impurity_decrease': 0.0029294654609780648, 'min_samples_leaf': 0.08693382944620694}\n"
     ]
    },
    {
     "name": "stderr",
     "output_type": "stream",
     "text": [
      "C:\\Users\\Asus\\anaconda3\\lib\\site-packages\\sklearn\\ensemble\\_gb.py:1118: FutureWarning: criterion='mae' was deprecated in version 0.24 and will be removed in version 1.1 (renaming of 0.26). Use criterion='friedman_mse' or 'mse' instead, as trees should use a least-square criterion in Gradient Boosting.\n",
      "  warnings.warn(\"criterion='mae' was deprecated in version 0.24 and \"\n"
     ]
    },
    {
     "name": "stdout",
     "output_type": "stream",
     "text": [
      "param: {'model': 'GBC', 'max_depth': 8, 'criterion': 'mae', 'min_impurity_decrease': 0.013935107768253251, 'min_samples_leaf': 0.08345599375318132}\n"
     ]
    },
    {
     "name": "stderr",
     "output_type": "stream",
     "text": [
      "C:\\Users\\Asus\\anaconda3\\lib\\site-packages\\sklearn\\ensemble\\_gb.py:1118: FutureWarning: criterion='mae' was deprecated in version 0.24 and will be removed in version 1.1 (renaming of 0.26). Use criterion='friedman_mse' or 'mse' instead, as trees should use a least-square criterion in Gradient Boosting.\n",
      "  warnings.warn(\"criterion='mae' was deprecated in version 0.24 and \"\n"
     ]
    },
    {
     "name": "stdout",
     "output_type": "stream",
     "text": [
      "param: {'model': 'GBC', 'max_depth': 9, 'criterion': 'mae', 'min_impurity_decrease': 0.027465811356247937, 'min_samples_leaf': 10}\n"
     ]
    },
    {
     "name": "stderr",
     "output_type": "stream",
     "text": [
      "C:\\Users\\Asus\\anaconda3\\lib\\site-packages\\sklearn\\ensemble\\_gb.py:1118: FutureWarning: criterion='mae' was deprecated in version 0.24 and will be removed in version 1.1 (renaming of 0.26). Use criterion='friedman_mse' or 'mse' instead, as trees should use a least-square criterion in Gradient Boosting.\n",
      "  warnings.warn(\"criterion='mae' was deprecated in version 0.24 and \"\n"
     ]
    },
    {
     "name": "stdout",
     "output_type": "stream",
     "text": [
      "param: {'model': 'GBC', 'max_depth': 4, 'criterion': 'mae', 'min_impurity_decrease': 0.017548588572868985, 'min_samples_leaf': 0.041180707786040806}\n"
     ]
    },
    {
     "name": "stderr",
     "output_type": "stream",
     "text": [
      "C:\\Users\\Asus\\anaconda3\\lib\\site-packages\\sklearn\\ensemble\\_gb.py:1118: FutureWarning: criterion='mae' was deprecated in version 0.24 and will be removed in version 1.1 (renaming of 0.26). Use criterion='friedman_mse' or 'mse' instead, as trees should use a least-square criterion in Gradient Boosting.\n",
      "  warnings.warn(\"criterion='mae' was deprecated in version 0.24 and \"\n"
     ]
    },
    {
     "name": "stdout",
     "output_type": "stream",
     "text": [
      "param: {'model': 'GBC', 'max_depth': 9, 'criterion': 'mae', 'min_impurity_decrease': 0.09242593386208312, 'min_samples_leaf': 0.08523076800017207}\n"
     ]
    },
    {
     "name": "stderr",
     "output_type": "stream",
     "text": [
      "C:\\Users\\Asus\\anaconda3\\lib\\site-packages\\sklearn\\ensemble\\_gb.py:1118: FutureWarning: criterion='mae' was deprecated in version 0.24 and will be removed in version 1.1 (renaming of 0.26). Use criterion='friedman_mse' or 'mse' instead, as trees should use a least-square criterion in Gradient Boosting.\n",
      "  warnings.warn(\"criterion='mae' was deprecated in version 0.24 and \"\n"
     ]
    },
    {
     "name": "stdout",
     "output_type": "stream",
     "text": [
      "param: {'model': 'RFC', 'max_depth': 9, 'criterion': 'gini', 'min_impurity_decrease': 0.03721760763347224, 'min_samples_leaf': 0.06170073556525367}\n",
      "param: {'model': 'GBC', 'max_depth': 4, 'criterion': 'friedman_mse', 'min_impurity_decrease': 0.05654181468967251, 'min_samples_leaf': 19}\n",
      "param: {'model': 'GBC', 'max_depth': 3, 'criterion': 'friedman_mse', 'min_impurity_decrease': 0.03843088011534697, 'min_samples_leaf': 16}\n",
      "param: {'model': 'RFC', 'max_depth': 6, 'criterion': 'entropy', 'min_impurity_decrease': 0.083312797412158, 'min_samples_leaf': 0.043506028640346917}\n",
      "param: {'model': 'GBC', 'max_depth': 4, 'criterion': 'mae', 'min_impurity_decrease': 0.01951171445929234, 'min_samples_leaf': 2}\n"
     ]
    },
    {
     "name": "stderr",
     "output_type": "stream",
     "text": [
      "C:\\Users\\Asus\\anaconda3\\lib\\site-packages\\sklearn\\ensemble\\_gb.py:1118: FutureWarning: criterion='mae' was deprecated in version 0.24 and will be removed in version 1.1 (renaming of 0.26). Use criterion='friedman_mse' or 'mse' instead, as trees should use a least-square criterion in Gradient Boosting.\n",
      "  warnings.warn(\"criterion='mae' was deprecated in version 0.24 and \"\n"
     ]
    },
    {
     "name": "stdout",
     "output_type": "stream",
     "text": [
      "param: {'model': 'GBC', 'max_depth': 6, 'criterion': 'friedman_mse', 'min_impurity_decrease': 0.058944127695058524, 'min_samples_leaf': 0.04463565375915498}\n",
      "param: {'model': 'RFC', 'max_depth': 8, 'criterion': 'gini', 'min_impurity_decrease': 0.06220893919429741, 'min_samples_leaf': 7.579436590141598e-05}\n",
      "param: {'model': 'RFC', 'max_depth': 9, 'criterion': 'entropy', 'min_impurity_decrease': 0.00989842413816816, 'min_samples_leaf': 0.030304449769694552}\n",
      "param: {'model': 'GBC', 'max_depth': 6, 'criterion': 'friedman_mse', 'min_impurity_decrease': 0.04989013861815239, 'min_samples_leaf': 0.04822718210243369}\n",
      "param: {'model': 'RFC', 'max_depth': 9, 'criterion': 'entropy', 'min_impurity_decrease': 0.011762140595525772, 'min_samples_leaf': 0.06282272087238164}\n",
      "param: {'model': 'GBC', 'max_depth': 8, 'criterion': 'mae', 'min_impurity_decrease': 0.005797835711045252, 'min_samples_leaf': 8}\n"
     ]
    },
    {
     "name": "stderr",
     "output_type": "stream",
     "text": [
      "C:\\Users\\Asus\\anaconda3\\lib\\site-packages\\sklearn\\ensemble\\_gb.py:1118: FutureWarning: criterion='mae' was deprecated in version 0.24 and will be removed in version 1.1 (renaming of 0.26). Use criterion='friedman_mse' or 'mse' instead, as trees should use a least-square criterion in Gradient Boosting.\n",
      "  warnings.warn(\"criterion='mae' was deprecated in version 0.24 and \"\n"
     ]
    },
    {
     "name": "stdout",
     "output_type": "stream",
     "text": [
      "param: {'model': 'GBC', 'max_depth': 2, 'criterion': 'friedman_mse', 'min_impurity_decrease': 0.04423815553317904, 'min_samples_leaf': 18}\n",
      "\n",
      "\n",
      "\n",
      "GEN 12:\n",
      "param: {'model': 'GBC', 'max_depth': 6, 'criterion': 'friedman_mse', 'min_impurity_decrease': 0.05937657764797476, 'min_samples_leaf': 2}\n",
      "param: {'model': 'GBC', 'max_depth': 8, 'criterion': 'mae', 'min_impurity_decrease': 0.09839094637054524, 'min_samples_leaf': 7}\n"
     ]
    },
    {
     "name": "stderr",
     "output_type": "stream",
     "text": [
      "C:\\Users\\Asus\\anaconda3\\lib\\site-packages\\sklearn\\ensemble\\_gb.py:1118: FutureWarning: criterion='mae' was deprecated in version 0.24 and will be removed in version 1.1 (renaming of 0.26). Use criterion='friedman_mse' or 'mse' instead, as trees should use a least-square criterion in Gradient Boosting.\n",
      "  warnings.warn(\"criterion='mae' was deprecated in version 0.24 and \"\n"
     ]
    },
    {
     "name": "stdout",
     "output_type": "stream",
     "text": [
      "param: {'model': 'GBC', 'max_depth': 10, 'criterion': 'mae', 'min_impurity_decrease': 0.018075086695905285, 'min_samples_leaf': 12}\n"
     ]
    },
    {
     "name": "stderr",
     "output_type": "stream",
     "text": [
      "C:\\Users\\Asus\\anaconda3\\lib\\site-packages\\sklearn\\ensemble\\_gb.py:1118: FutureWarning: criterion='mae' was deprecated in version 0.24 and will be removed in version 1.1 (renaming of 0.26). Use criterion='friedman_mse' or 'mse' instead, as trees should use a least-square criterion in Gradient Boosting.\n",
      "  warnings.warn(\"criterion='mae' was deprecated in version 0.24 and \"\n"
     ]
    },
    {
     "name": "stdout",
     "output_type": "stream",
     "text": [
      "param: {'model': 'GBC', 'max_depth': 1, 'criterion': 'friedman_mse', 'min_impurity_decrease': 0.053266142181114515, 'min_samples_leaf': 0.004433972643070938}\n",
      "param: {'model': 'RFC', 'max_depth': 7, 'criterion': 'entropy', 'min_impurity_decrease': 0.013046812448095146, 'min_samples_leaf': 9}\n",
      "param: {'model': 'GBC', 'max_depth': 6, 'criterion': 'friedman_mse', 'min_impurity_decrease': 0.032899311701033454, 'min_samples_leaf': 0.09638662134657398}\n",
      "param: {'model': 'GBC', 'max_depth': 10, 'criterion': 'friedman_mse', 'min_impurity_decrease': 0.04417988747585346, 'min_samples_leaf': 0.019734354570235757}\n",
      "param: {'model': 'GBC', 'max_depth': 2, 'criterion': 'mae', 'min_impurity_decrease': 0.09065311303648958, 'min_samples_leaf': 0.03323906278136014}\n"
     ]
    },
    {
     "name": "stderr",
     "output_type": "stream",
     "text": [
      "C:\\Users\\Asus\\anaconda3\\lib\\site-packages\\sklearn\\ensemble\\_gb.py:1118: FutureWarning: criterion='mae' was deprecated in version 0.24 and will be removed in version 1.1 (renaming of 0.26). Use criterion='friedman_mse' or 'mse' instead, as trees should use a least-square criterion in Gradient Boosting.\n",
      "  warnings.warn(\"criterion='mae' was deprecated in version 0.24 and \"\n"
     ]
    },
    {
     "name": "stdout",
     "output_type": "stream",
     "text": [
      "param: {'model': 'GBC', 'max_depth': 1, 'criterion': 'mae', 'min_impurity_decrease': 0.09097470104777995, 'min_samples_leaf': 8}\n"
     ]
    },
    {
     "name": "stderr",
     "output_type": "stream",
     "text": [
      "C:\\Users\\Asus\\anaconda3\\lib\\site-packages\\sklearn\\ensemble\\_gb.py:1118: FutureWarning: criterion='mae' was deprecated in version 0.24 and will be removed in version 1.1 (renaming of 0.26). Use criterion='friedman_mse' or 'mse' instead, as trees should use a least-square criterion in Gradient Boosting.\n",
      "  warnings.warn(\"criterion='mae' was deprecated in version 0.24 and \"\n"
     ]
    },
    {
     "name": "stdout",
     "output_type": "stream",
     "text": [
      "param: {'model': 'RFC', 'max_depth': 2, 'criterion': 'gini', 'min_impurity_decrease': 0.0024599889548444164, 'min_samples_leaf': 16}\n",
      "param: {'model': 'GBC', 'max_depth': 1, 'criterion': 'mae', 'min_impurity_decrease': 0.07260307568089022, 'min_samples_leaf': 0.051274673299353465}\n"
     ]
    },
    {
     "name": "stderr",
     "output_type": "stream",
     "text": [
      "C:\\Users\\Asus\\anaconda3\\lib\\site-packages\\sklearn\\ensemble\\_gb.py:1118: FutureWarning: criterion='mae' was deprecated in version 0.24 and will be removed in version 1.1 (renaming of 0.26). Use criterion='friedman_mse' or 'mse' instead, as trees should use a least-square criterion in Gradient Boosting.\n",
      "  warnings.warn(\"criterion='mae' was deprecated in version 0.24 and \"\n"
     ]
    },
    {
     "name": "stdout",
     "output_type": "stream",
     "text": [
      "param: {'model': 'RFC', 'max_depth': 8, 'criterion': 'entropy', 'min_impurity_decrease': 0.0554159273204462, 'min_samples_leaf': 12}\n",
      "param: {'model': 'GBC', 'max_depth': 7, 'criterion': 'mae', 'min_impurity_decrease': 0.022299504499224777, 'min_samples_leaf': 0.08042532509698411}\n"
     ]
    },
    {
     "name": "stderr",
     "output_type": "stream",
     "text": [
      "C:\\Users\\Asus\\anaconda3\\lib\\site-packages\\sklearn\\ensemble\\_gb.py:1118: FutureWarning: criterion='mae' was deprecated in version 0.24 and will be removed in version 1.1 (renaming of 0.26). Use criterion='friedman_mse' or 'mse' instead, as trees should use a least-square criterion in Gradient Boosting.\n",
      "  warnings.warn(\"criterion='mae' was deprecated in version 0.24 and \"\n"
     ]
    },
    {
     "name": "stdout",
     "output_type": "stream",
     "text": [
      "param: {'model': 'RFC', 'max_depth': 4, 'criterion': 'entropy', 'min_impurity_decrease': 0.009396956077034047, 'min_samples_leaf': 10}\n",
      "param: {'model': 'GBC', 'max_depth': 1, 'criterion': 'friedman_mse', 'min_impurity_decrease': 0.035650696071866037, 'min_samples_leaf': 0.04765972452457886}\n",
      "param: {'model': 'GBC', 'max_depth': 3, 'criterion': 'mae', 'min_impurity_decrease': 0.0799166261766891, 'min_samples_leaf': 0.09869772314288759}\n"
     ]
    },
    {
     "name": "stderr",
     "output_type": "stream",
     "text": [
      "C:\\Users\\Asus\\anaconda3\\lib\\site-packages\\sklearn\\ensemble\\_gb.py:1118: FutureWarning: criterion='mae' was deprecated in version 0.24 and will be removed in version 1.1 (renaming of 0.26). Use criterion='friedman_mse' or 'mse' instead, as trees should use a least-square criterion in Gradient Boosting.\n",
      "  warnings.warn(\"criterion='mae' was deprecated in version 0.24 and \"\n"
     ]
    },
    {
     "name": "stdout",
     "output_type": "stream",
     "text": [
      "param: {'model': 'RFC', 'max_depth': 3, 'criterion': 'gini', 'min_impurity_decrease': 0.07103612619789582, 'min_samples_leaf': 4}\n",
      "param: {'model': 'RFC', 'max_depth': 10, 'criterion': 'entropy', 'min_impurity_decrease': 0.0705868369384114, 'min_samples_leaf': 10}\n",
      "param: {'model': 'RFC', 'max_depth': 9, 'criterion': 'gini', 'min_impurity_decrease': 0.06623381189708775, 'min_samples_leaf': 0.0018678319969092194}\n",
      "param: {'model': 'GBC', 'max_depth': 9, 'criterion': 'friedman_mse', 'min_impurity_decrease': 0.0966756646261331, 'min_samples_leaf': 0.02038038649627998}\n",
      "param: {'model': 'RFC', 'max_depth': 6, 'criterion': 'entropy', 'min_impurity_decrease': 0.07694889514309537, 'min_samples_leaf': 0.08650460817168837}\n",
      "param: {'model': 'RFC', 'max_depth': 2, 'criterion': 'gini', 'min_impurity_decrease': 0.018685482058380186, 'min_samples_leaf': 13}\n",
      "param: {'model': 'GBC', 'max_depth': 1, 'criterion': 'friedman_mse', 'min_impurity_decrease': 0.0799670731197901, 'min_samples_leaf': 9}\n",
      "param: {'model': 'GBC', 'max_depth': 5, 'criterion': 'friedman_mse', 'min_impurity_decrease': 0.05862642626245048, 'min_samples_leaf': 0.09404155044512386}\n",
      "param: {'model': 'GBC', 'max_depth': 10, 'criterion': 'friedman_mse', 'min_impurity_decrease': 0.09867110276094038, 'min_samples_leaf': 0.04695427679895926}\n",
      "param: {'model': 'RFC', 'max_depth': 5, 'criterion': 'entropy', 'min_impurity_decrease': 0.06619178774001556, 'min_samples_leaf': 7}\n",
      "param: {'model': 'RFC', 'max_depth': 2, 'criterion': 'gini', 'min_impurity_decrease': 0.014785139879503006, 'min_samples_leaf': 0.020403616478294983}\n",
      "param: {'model': 'RFC', 'max_depth': 1, 'criterion': 'entropy', 'min_impurity_decrease': 0.08694719582179057, 'min_samples_leaf': 0.04447309377759838}\n",
      "param: {'model': 'GBC', 'max_depth': 2, 'criterion': 'friedman_mse', 'min_impurity_decrease': 0.06337099327740484, 'min_samples_leaf': 20}\n",
      "param: {'model': 'RFC', 'max_depth': 6, 'criterion': 'entropy', 'min_impurity_decrease': 0.023900861655027018, 'min_samples_leaf': 0.01725813259794392}\n",
      "param: {'model': 'RFC', 'max_depth': 9, 'criterion': 'entropy', 'min_impurity_decrease': 0.030868417012574857, 'min_samples_leaf': 7}\n",
      "param: {'model': 'RFC', 'max_depth': 6, 'criterion': 'gini', 'min_impurity_decrease': 0.05028018408127938, 'min_samples_leaf': 4}\n",
      "param: {'model': 'GBC', 'max_depth': 3, 'criterion': 'mae', 'min_impurity_decrease': 0.00035777116333477463, 'min_samples_leaf': 0.08865532469914414}\n"
     ]
    },
    {
     "name": "stderr",
     "output_type": "stream",
     "text": [
      "C:\\Users\\Asus\\anaconda3\\lib\\site-packages\\sklearn\\ensemble\\_gb.py:1118: FutureWarning: criterion='mae' was deprecated in version 0.24 and will be removed in version 1.1 (renaming of 0.26). Use criterion='friedman_mse' or 'mse' instead, as trees should use a least-square criterion in Gradient Boosting.\n",
      "  warnings.warn(\"criterion='mae' was deprecated in version 0.24 and \"\n"
     ]
    },
    {
     "name": "stdout",
     "output_type": "stream",
     "text": [
      "param: {'model': 'RFC', 'max_depth': 9, 'criterion': 'entropy', 'min_impurity_decrease': 0.06125584505438203, 'min_samples_leaf': 0.090977330556557}\n",
      "param: {'model': 'GBC', 'max_depth': 7, 'criterion': 'friedman_mse', 'min_impurity_decrease': 0.05195184211732169, 'min_samples_leaf': 0.0958299585018625}\n",
      "param: {'model': 'RFC', 'max_depth': 2, 'criterion': 'gini', 'min_impurity_decrease': 0.007047234885954978, 'min_samples_leaf': 0.08297642937164589}\n",
      "param: {'model': 'GBC', 'max_depth': 6, 'criterion': 'mae', 'min_impurity_decrease': 0.05218849057857522, 'min_samples_leaf': 20}\n"
     ]
    },
    {
     "name": "stderr",
     "output_type": "stream",
     "text": [
      "C:\\Users\\Asus\\anaconda3\\lib\\site-packages\\sklearn\\ensemble\\_gb.py:1118: FutureWarning: criterion='mae' was deprecated in version 0.24 and will be removed in version 1.1 (renaming of 0.26). Use criterion='friedman_mse' or 'mse' instead, as trees should use a least-square criterion in Gradient Boosting.\n",
      "  warnings.warn(\"criterion='mae' was deprecated in version 0.24 and \"\n"
     ]
    },
    {
     "name": "stdout",
     "output_type": "stream",
     "text": [
      "param: {'model': 'RFC', 'max_depth': 8, 'criterion': 'gini', 'min_impurity_decrease': 0.0032189554057869274, 'min_samples_leaf': 8}\n",
      "param: {'model': 'RFC', 'max_depth': 6, 'criterion': 'gini', 'min_impurity_decrease': 0.056934491118318484, 'min_samples_leaf': 0.06454146144586964}\n",
      "param: {'model': 'GBC', 'max_depth': 8, 'criterion': 'mae', 'min_impurity_decrease': 0.045914757714392476, 'min_samples_leaf': 0.07483932659882707}\n"
     ]
    },
    {
     "name": "stderr",
     "output_type": "stream",
     "text": [
      "C:\\Users\\Asus\\anaconda3\\lib\\site-packages\\sklearn\\ensemble\\_gb.py:1118: FutureWarning: criterion='mae' was deprecated in version 0.24 and will be removed in version 1.1 (renaming of 0.26). Use criterion='friedman_mse' or 'mse' instead, as trees should use a least-square criterion in Gradient Boosting.\n",
      "  warnings.warn(\"criterion='mae' was deprecated in version 0.24 and \"\n"
     ]
    },
    {
     "name": "stdout",
     "output_type": "stream",
     "text": [
      "param: {'model': 'GBC', 'max_depth': 5, 'criterion': 'friedman_mse', 'min_impurity_decrease': 0.03566926115679826, 'min_samples_leaf': 4}\n",
      "param: {'model': 'RFC', 'max_depth': 2, 'criterion': 'gini', 'min_impurity_decrease': 0.008514659293007088, 'min_samples_leaf': 4}\n",
      "param: {'model': 'GBC', 'max_depth': 6, 'criterion': 'mae', 'min_impurity_decrease': 0.0020768194474135694, 'min_samples_leaf': 3}\n"
     ]
    },
    {
     "name": "stderr",
     "output_type": "stream",
     "text": [
      "C:\\Users\\Asus\\anaconda3\\lib\\site-packages\\sklearn\\ensemble\\_gb.py:1118: FutureWarning: criterion='mae' was deprecated in version 0.24 and will be removed in version 1.1 (renaming of 0.26). Use criterion='friedman_mse' or 'mse' instead, as trees should use a least-square criterion in Gradient Boosting.\n",
      "  warnings.warn(\"criterion='mae' was deprecated in version 0.24 and \"\n"
     ]
    },
    {
     "name": "stdout",
     "output_type": "stream",
     "text": [
      "param: {'model': 'GBC', 'max_depth': 10, 'criterion': 'friedman_mse', 'min_impurity_decrease': 0.09460571522795903, 'min_samples_leaf': 6}\n",
      "param: {'model': 'GBC', 'max_depth': 8, 'criterion': 'friedman_mse', 'min_impurity_decrease': 0.08218784037214416, 'min_samples_leaf': 0.005741986523381204}\n",
      "param: {'model': 'RFC', 'max_depth': 6, 'criterion': 'gini', 'min_impurity_decrease': 0.03918380780364986, 'min_samples_leaf': 0.0768848990438257}\n",
      "param: {'model': 'RFC', 'max_depth': 9, 'criterion': 'gini', 'min_impurity_decrease': 0.08801270357886595, 'min_samples_leaf': 2}\n",
      "param: {'model': 'GBC', 'max_depth': 4, 'criterion': 'mae', 'min_impurity_decrease': 0.08668556950549891, 'min_samples_leaf': 5}\n"
     ]
    },
    {
     "name": "stderr",
     "output_type": "stream",
     "text": [
      "C:\\Users\\Asus\\anaconda3\\lib\\site-packages\\sklearn\\ensemble\\_gb.py:1118: FutureWarning: criterion='mae' was deprecated in version 0.24 and will be removed in version 1.1 (renaming of 0.26). Use criterion='friedman_mse' or 'mse' instead, as trees should use a least-square criterion in Gradient Boosting.\n",
      "  warnings.warn(\"criterion='mae' was deprecated in version 0.24 and \"\n"
     ]
    },
    {
     "name": "stdout",
     "output_type": "stream",
     "text": [
      "param: {'model': 'GBC', 'max_depth': 8, 'criterion': 'friedman_mse', 'min_impurity_decrease': 0.04206898500866444, 'min_samples_leaf': 0.08227101647010948}\n",
      "param: {'model': 'RFC', 'max_depth': 10, 'criterion': 'gini', 'min_impurity_decrease': 0.025295752916969304, 'min_samples_leaf': 0.08199701625547837}\n",
      "param: {'model': 'GBC', 'max_depth': 7, 'criterion': 'friedman_mse', 'min_impurity_decrease': 0.05644370186895574, 'min_samples_leaf': 0.05326430797756049}\n",
      "param: {'model': 'RFC', 'max_depth': 2, 'criterion': 'gini', 'min_impurity_decrease': 0.006890956785199631, 'min_samples_leaf': 16}\n",
      "param: {'model': 'RFC', 'max_depth': 1, 'criterion': 'gini', 'min_impurity_decrease': 0.09905545337866205, 'min_samples_leaf': 18}\n",
      "param: {'model': 'GBC', 'max_depth': 1, 'criterion': 'mae', 'min_impurity_decrease': 0.09974382824362235, 'min_samples_leaf': 0.06896859635010173}\n"
     ]
    },
    {
     "name": "stderr",
     "output_type": "stream",
     "text": [
      "C:\\Users\\Asus\\anaconda3\\lib\\site-packages\\sklearn\\ensemble\\_gb.py:1118: FutureWarning: criterion='mae' was deprecated in version 0.24 and will be removed in version 1.1 (renaming of 0.26). Use criterion='friedman_mse' or 'mse' instead, as trees should use a least-square criterion in Gradient Boosting.\n",
      "  warnings.warn(\"criterion='mae' was deprecated in version 0.24 and \"\n"
     ]
    },
    {
     "name": "stdout",
     "output_type": "stream",
     "text": [
      "param: {'model': 'RFC', 'max_depth': 8, 'criterion': 'entropy', 'min_impurity_decrease': 0.08928771941340502, 'min_samples_leaf': 0.09197728240098801}\n",
      "param: {'model': 'GBC', 'max_depth': 9, 'criterion': 'friedman_mse', 'min_impurity_decrease': 0.0519885158485134, 'min_samples_leaf': 10}\n",
      "param: {'model': 'GBC', 'max_depth': 4, 'criterion': 'friedman_mse', 'min_impurity_decrease': 0.08455620243773372, 'min_samples_leaf': 0.04359844987907037}\n",
      "param: {'model': 'RFC', 'max_depth': 9, 'criterion': 'entropy', 'min_impurity_decrease': 0.029031868189566722, 'min_samples_leaf': 15}\n",
      "param: {'model': 'GBC', 'max_depth': 9, 'criterion': 'mae', 'min_impurity_decrease': 0.016706164766467635, 'min_samples_leaf': 0.02146468520488166}\n"
     ]
    },
    {
     "name": "stderr",
     "output_type": "stream",
     "text": [
      "C:\\Users\\Asus\\anaconda3\\lib\\site-packages\\sklearn\\ensemble\\_gb.py:1118: FutureWarning: criterion='mae' was deprecated in version 0.24 and will be removed in version 1.1 (renaming of 0.26). Use criterion='friedman_mse' or 'mse' instead, as trees should use a least-square criterion in Gradient Boosting.\n",
      "  warnings.warn(\"criterion='mae' was deprecated in version 0.24 and \"\n"
     ]
    },
    {
     "name": "stdout",
     "output_type": "stream",
     "text": [
      "param: {'model': 'RFC', 'max_depth': 2, 'criterion': 'gini', 'min_impurity_decrease': 0.08437325475530918, 'min_samples_leaf': 0.03565172095812139}\n",
      "param: {'model': 'GBC', 'max_depth': 6, 'criterion': 'mae', 'min_impurity_decrease': 0.042333183084240056, 'min_samples_leaf': 0.06523931082769163}\n"
     ]
    },
    {
     "name": "stderr",
     "output_type": "stream",
     "text": [
      "C:\\Users\\Asus\\anaconda3\\lib\\site-packages\\sklearn\\ensemble\\_gb.py:1118: FutureWarning: criterion='mae' was deprecated in version 0.24 and will be removed in version 1.1 (renaming of 0.26). Use criterion='friedman_mse' or 'mse' instead, as trees should use a least-square criterion in Gradient Boosting.\n",
      "  warnings.warn(\"criterion='mae' was deprecated in version 0.24 and \"\n"
     ]
    },
    {
     "name": "stdout",
     "output_type": "stream",
     "text": [
      "param: {'model': 'GBC', 'max_depth': 4, 'criterion': 'mae', 'min_impurity_decrease': 0.03658690259952539, 'min_samples_leaf': 5}\n"
     ]
    },
    {
     "name": "stderr",
     "output_type": "stream",
     "text": [
      "C:\\Users\\Asus\\anaconda3\\lib\\site-packages\\sklearn\\ensemble\\_gb.py:1118: FutureWarning: criterion='mae' was deprecated in version 0.24 and will be removed in version 1.1 (renaming of 0.26). Use criterion='friedman_mse' or 'mse' instead, as trees should use a least-square criterion in Gradient Boosting.\n",
      "  warnings.warn(\"criterion='mae' was deprecated in version 0.24 and \"\n"
     ]
    },
    {
     "name": "stdout",
     "output_type": "stream",
     "text": [
      "param: {'model': 'RFC', 'max_depth': 6, 'criterion': 'entropy', 'min_impurity_decrease': 0.08250349180933533, 'min_samples_leaf': 0.0905824569240293}\n",
      "param: {'model': 'GBC', 'max_depth': 6, 'criterion': 'mae', 'min_impurity_decrease': 0.012125306231436993, 'min_samples_leaf': 0.046463178310964824}\n"
     ]
    },
    {
     "name": "stderr",
     "output_type": "stream",
     "text": [
      "C:\\Users\\Asus\\anaconda3\\lib\\site-packages\\sklearn\\ensemble\\_gb.py:1118: FutureWarning: criterion='mae' was deprecated in version 0.24 and will be removed in version 1.1 (renaming of 0.26). Use criterion='friedman_mse' or 'mse' instead, as trees should use a least-square criterion in Gradient Boosting.\n",
      "  warnings.warn(\"criterion='mae' was deprecated in version 0.24 and \"\n"
     ]
    },
    {
     "name": "stdout",
     "output_type": "stream",
     "text": [
      "param: {'model': 'GBC', 'max_depth': 6, 'criterion': 'mae', 'min_impurity_decrease': 0.02018767616294016, 'min_samples_leaf': 0.028859974292662204}\n"
     ]
    },
    {
     "name": "stderr",
     "output_type": "stream",
     "text": [
      "C:\\Users\\Asus\\anaconda3\\lib\\site-packages\\sklearn\\ensemble\\_gb.py:1118: FutureWarning: criterion='mae' was deprecated in version 0.24 and will be removed in version 1.1 (renaming of 0.26). Use criterion='friedman_mse' or 'mse' instead, as trees should use a least-square criterion in Gradient Boosting.\n",
      "  warnings.warn(\"criterion='mae' was deprecated in version 0.24 and \"\n"
     ]
    },
    {
     "name": "stdout",
     "output_type": "stream",
     "text": [
      "param: {'model': 'RFC', 'max_depth': 9, 'criterion': 'gini', 'min_impurity_decrease': 0.0004046942129144693, 'min_samples_leaf': 0.012416466661894865}\n",
      "param: {'model': 'RFC', 'max_depth': 8, 'criterion': 'gini', 'min_impurity_decrease': 0.03592687391404652, 'min_samples_leaf': 0.03212638826054086}\n",
      "param: {'model': 'GBC', 'max_depth': 9, 'criterion': 'friedman_mse', 'min_impurity_decrease': 0.04599697460451659, 'min_samples_leaf': 11}\n",
      "param: {'model': 'GBC', 'max_depth': 1, 'criterion': 'mae', 'min_impurity_decrease': 0.029768460709808132, 'min_samples_leaf': 7}\n"
     ]
    },
    {
     "name": "stderr",
     "output_type": "stream",
     "text": [
      "C:\\Users\\Asus\\anaconda3\\lib\\site-packages\\sklearn\\ensemble\\_gb.py:1118: FutureWarning: criterion='mae' was deprecated in version 0.24 and will be removed in version 1.1 (renaming of 0.26). Use criterion='friedman_mse' or 'mse' instead, as trees should use a least-square criterion in Gradient Boosting.\n",
      "  warnings.warn(\"criterion='mae' was deprecated in version 0.24 and \"\n"
     ]
    },
    {
     "name": "stdout",
     "output_type": "stream",
     "text": [
      "param: {'model': 'GBC', 'max_depth': 8, 'criterion': 'mae', 'min_impurity_decrease': 0.046084831895369806, 'min_samples_leaf': 14}\n"
     ]
    },
    {
     "name": "stderr",
     "output_type": "stream",
     "text": [
      "C:\\Users\\Asus\\anaconda3\\lib\\site-packages\\sklearn\\ensemble\\_gb.py:1118: FutureWarning: criterion='mae' was deprecated in version 0.24 and will be removed in version 1.1 (renaming of 0.26). Use criterion='friedman_mse' or 'mse' instead, as trees should use a least-square criterion in Gradient Boosting.\n",
      "  warnings.warn(\"criterion='mae' was deprecated in version 0.24 and \"\n"
     ]
    },
    {
     "name": "stdout",
     "output_type": "stream",
     "text": [
      "param: {'model': 'RFC', 'max_depth': 10, 'criterion': 'gini', 'min_impurity_decrease': 0.05947471495771356, 'min_samples_leaf': 7}\n",
      "param: {'model': 'RFC', 'max_depth': 9, 'criterion': 'gini', 'min_impurity_decrease': 0.02243906380932138, 'min_samples_leaf': 3}\n",
      "param: {'model': 'GBC', 'max_depth': 1, 'criterion': 'friedman_mse', 'min_impurity_decrease': 0.021539013059593805, 'min_samples_leaf': 3}\n",
      "param: {'model': 'RFC', 'max_depth': 9, 'criterion': 'entropy', 'min_impurity_decrease': 0.06684335388278113, 'min_samples_leaf': 0.02626586216083887}\n",
      "param: {'model': 'RFC', 'max_depth': 3, 'criterion': 'gini', 'min_impurity_decrease': 0.009101238913438814, 'min_samples_leaf': 5}\n",
      "param: {'model': 'GBC', 'max_depth': 1, 'criterion': 'friedman_mse', 'min_impurity_decrease': 0.004423297859055852, 'min_samples_leaf': 0.044684340584779145}\n",
      "param: {'model': 'RFC', 'max_depth': 10, 'criterion': 'entropy', 'min_impurity_decrease': 0.06489119820265257, 'min_samples_leaf': 0.05772147920968875}\n",
      "param: {'model': 'RFC', 'max_depth': 5, 'criterion': 'gini', 'min_impurity_decrease': 0.030129831037738686, 'min_samples_leaf': 0.02328902804463804}\n",
      "param: {'model': 'GBC', 'max_depth': 4, 'criterion': 'mae', 'min_impurity_decrease': 0.08689693703518889, 'min_samples_leaf': 0.005550985200420055}\n"
     ]
    },
    {
     "name": "stderr",
     "output_type": "stream",
     "text": [
      "C:\\Users\\Asus\\anaconda3\\lib\\site-packages\\sklearn\\ensemble\\_gb.py:1118: FutureWarning: criterion='mae' was deprecated in version 0.24 and will be removed in version 1.1 (renaming of 0.26). Use criterion='friedman_mse' or 'mse' instead, as trees should use a least-square criterion in Gradient Boosting.\n",
      "  warnings.warn(\"criterion='mae' was deprecated in version 0.24 and \"\n"
     ]
    },
    {
     "name": "stdout",
     "output_type": "stream",
     "text": [
      "param: {'model': 'GBC', 'max_depth': 2, 'criterion': 'friedman_mse', 'min_impurity_decrease': 0.050207923355639596, 'min_samples_leaf': 14}\n",
      "param: {'model': 'RFC', 'max_depth': 2, 'criterion': 'gini', 'min_impurity_decrease': 0.011728744835818572, 'min_samples_leaf': 0.09010809398536315}\n",
      "param: {'model': 'RFC', 'max_depth': 6, 'criterion': 'gini', 'min_impurity_decrease': 0.09861142536004064, 'min_samples_leaf': 10}\n",
      "param: {'model': 'RFC', 'max_depth': 6, 'criterion': 'gini', 'min_impurity_decrease': 0.06580042810858519, 'min_samples_leaf': 0.07111462107007205}\n",
      "param: {'model': 'RFC', 'max_depth': 8, 'criterion': 'gini', 'min_impurity_decrease': 0.075785361342999, 'min_samples_leaf': 8}\n",
      "param: {'model': 'GBC', 'max_depth': 7, 'criterion': 'friedman_mse', 'min_impurity_decrease': 0.010913258206387666, 'min_samples_leaf': 5}\n",
      "param: {'model': 'RFC', 'max_depth': 7, 'criterion': 'gini', 'min_impurity_decrease': 0.01385172920702663, 'min_samples_leaf': 10}\n",
      "param: {'model': 'GBC', 'max_depth': 10, 'criterion': 'mae', 'min_impurity_decrease': 0.022436637541375835, 'min_samples_leaf': 0.04602986172041904}\n"
     ]
    },
    {
     "name": "stderr",
     "output_type": "stream",
     "text": [
      "C:\\Users\\Asus\\anaconda3\\lib\\site-packages\\sklearn\\ensemble\\_gb.py:1118: FutureWarning: criterion='mae' was deprecated in version 0.24 and will be removed in version 1.1 (renaming of 0.26). Use criterion='friedman_mse' or 'mse' instead, as trees should use a least-square criterion in Gradient Boosting.\n",
      "  warnings.warn(\"criterion='mae' was deprecated in version 0.24 and \"\n"
     ]
    },
    {
     "name": "stdout",
     "output_type": "stream",
     "text": [
      "param: {'model': 'GBC', 'max_depth': 4, 'criterion': 'friedman_mse', 'min_impurity_decrease': 0.05028699159815404, 'min_samples_leaf': 6}\n",
      "param: {'model': 'RFC', 'max_depth': 4, 'criterion': 'entropy', 'min_impurity_decrease': 0.008157992035793005, 'min_samples_leaf': 1}\n",
      "param: {'model': 'RFC', 'max_depth': 9, 'criterion': 'gini', 'min_impurity_decrease': 0.05747941343031625, 'min_samples_leaf': 0.05477078299889989}\n",
      "\n",
      "\n",
      "\n",
      "GEN 13:\n",
      "param: {'model': 'RFC', 'max_depth': 8, 'criterion': 'entropy', 'min_impurity_decrease': 0.08052701491288042, 'min_samples_leaf': 0.08853781473538551}\n",
      "param: {'model': 'GBC', 'max_depth': 4, 'criterion': 'friedman_mse', 'min_impurity_decrease': 0.015946473103305558, 'min_samples_leaf': 0.036075892763340986}\n",
      "param: {'model': 'RFC', 'max_depth': 3, 'criterion': 'entropy', 'min_impurity_decrease': 0.02166812416802988, 'min_samples_leaf': 11}\n",
      "param: {'model': 'RFC', 'max_depth': 6, 'criterion': 'gini', 'min_impurity_decrease': 0.02961667066180984, 'min_samples_leaf': 0.037833096278996246}\n",
      "param: {'model': 'GBC', 'max_depth': 1, 'criterion': 'mae', 'min_impurity_decrease': 0.0033848331877129436, 'min_samples_leaf': 13}\n"
     ]
    },
    {
     "name": "stderr",
     "output_type": "stream",
     "text": [
      "C:\\Users\\Asus\\anaconda3\\lib\\site-packages\\sklearn\\ensemble\\_gb.py:1118: FutureWarning: criterion='mae' was deprecated in version 0.24 and will be removed in version 1.1 (renaming of 0.26). Use criterion='friedman_mse' or 'mse' instead, as trees should use a least-square criterion in Gradient Boosting.\n",
      "  warnings.warn(\"criterion='mae' was deprecated in version 0.24 and \"\n"
     ]
    },
    {
     "name": "stdout",
     "output_type": "stream",
     "text": [
      "param: {'model': 'GBC', 'max_depth': 2, 'criterion': 'mae', 'min_impurity_decrease': 0.029831575544964673, 'min_samples_leaf': 0.040853974671712756}\n"
     ]
    },
    {
     "name": "stderr",
     "output_type": "stream",
     "text": [
      "C:\\Users\\Asus\\anaconda3\\lib\\site-packages\\sklearn\\ensemble\\_gb.py:1118: FutureWarning: criterion='mae' was deprecated in version 0.24 and will be removed in version 1.1 (renaming of 0.26). Use criterion='friedman_mse' or 'mse' instead, as trees should use a least-square criterion in Gradient Boosting.\n",
      "  warnings.warn(\"criterion='mae' was deprecated in version 0.24 and \"\n"
     ]
    },
    {
     "name": "stdout",
     "output_type": "stream",
     "text": [
      "param: {'model': 'GBC', 'max_depth': 2, 'criterion': 'mae', 'min_impurity_decrease': 0.00896342532082386, 'min_samples_leaf': 0.025644475990861428}\n"
     ]
    },
    {
     "name": "stderr",
     "output_type": "stream",
     "text": [
      "C:\\Users\\Asus\\anaconda3\\lib\\site-packages\\sklearn\\ensemble\\_gb.py:1118: FutureWarning: criterion='mae' was deprecated in version 0.24 and will be removed in version 1.1 (renaming of 0.26). Use criterion='friedman_mse' or 'mse' instead, as trees should use a least-square criterion in Gradient Boosting.\n",
      "  warnings.warn(\"criterion='mae' was deprecated in version 0.24 and \"\n"
     ]
    },
    {
     "name": "stdout",
     "output_type": "stream",
     "text": [
      "param: {'model': 'GBC', 'max_depth': 10, 'criterion': 'friedman_mse', 'min_impurity_decrease': 0.08227229330185501, 'min_samples_leaf': 0.029746333760749966}\n",
      "param: {'model': 'GBC', 'max_depth': 9, 'criterion': 'friedman_mse', 'min_impurity_decrease': 0.07440460212528896, 'min_samples_leaf': 0.08660086103682259}\n",
      "param: {'model': 'RFC', 'max_depth': 1, 'criterion': 'entropy', 'min_impurity_decrease': 0.09719569587986862, 'min_samples_leaf': 0.0251524847156946}\n",
      "param: {'model': 'RFC', 'max_depth': 1, 'criterion': 'gini', 'min_impurity_decrease': 0.08611085195987538, 'min_samples_leaf': 19}\n",
      "param: {'model': 'RFC', 'max_depth': 6, 'criterion': 'gini', 'min_impurity_decrease': 0.07251351412343109, 'min_samples_leaf': 0.09986822188237282}\n",
      "param: {'model': 'RFC', 'max_depth': 1, 'criterion': 'gini', 'min_impurity_decrease': 0.039217796979789964, 'min_samples_leaf': 7}\n",
      "param: {'model': 'GBC', 'max_depth': 4, 'criterion': 'friedman_mse', 'min_impurity_decrease': 0.0328592488263849, 'min_samples_leaf': 9}\n",
      "param: {'model': 'GBC', 'max_depth': 6, 'criterion': 'friedman_mse', 'min_impurity_decrease': 0.0893200955137773, 'min_samples_leaf': 1}\n",
      "param: {'model': 'GBC', 'max_depth': 7, 'criterion': 'mae', 'min_impurity_decrease': 0.04926381877691928, 'min_samples_leaf': 9}\n"
     ]
    },
    {
     "name": "stderr",
     "output_type": "stream",
     "text": [
      "C:\\Users\\Asus\\anaconda3\\lib\\site-packages\\sklearn\\ensemble\\_gb.py:1118: FutureWarning: criterion='mae' was deprecated in version 0.24 and will be removed in version 1.1 (renaming of 0.26). Use criterion='friedman_mse' or 'mse' instead, as trees should use a least-square criterion in Gradient Boosting.\n",
      "  warnings.warn(\"criterion='mae' was deprecated in version 0.24 and \"\n"
     ]
    },
    {
     "name": "stdout",
     "output_type": "stream",
     "text": [
      "param: {'model': 'RFC', 'max_depth': 3, 'criterion': 'gini', 'min_impurity_decrease': 0.05012352412325162, 'min_samples_leaf': 0.04572664337686886}\n",
      "param: {'model': 'GBC', 'max_depth': 10, 'criterion': 'friedman_mse', 'min_impurity_decrease': 0.07536896802277074, 'min_samples_leaf': 0.06582818862621057}\n",
      "param: {'model': 'RFC', 'max_depth': 10, 'criterion': 'gini', 'min_impurity_decrease': 0.030807548712827704, 'min_samples_leaf': 19}\n",
      "param: {'model': 'RFC', 'max_depth': 10, 'criterion': 'entropy', 'min_impurity_decrease': 0.028152451158725944, 'min_samples_leaf': 0.009571118873021821}\n",
      "param: {'model': 'GBC', 'max_depth': 7, 'criterion': 'friedman_mse', 'min_impurity_decrease': 0.09482749515355275, 'min_samples_leaf': 0.04448059530440832}\n",
      "param: {'model': 'GBC', 'max_depth': 3, 'criterion': 'friedman_mse', 'min_impurity_decrease': 0.0491268972845746, 'min_samples_leaf': 10}\n",
      "param: {'model': 'RFC', 'max_depth': 4, 'criterion': 'entropy', 'min_impurity_decrease': 0.03991265324209388, 'min_samples_leaf': 9}\n",
      "param: {'model': 'GBC', 'max_depth': 1, 'criterion': 'mae', 'min_impurity_decrease': 0.016350841906756407, 'min_samples_leaf': 17}\n"
     ]
    },
    {
     "name": "stderr",
     "output_type": "stream",
     "text": [
      "C:\\Users\\Asus\\anaconda3\\lib\\site-packages\\sklearn\\ensemble\\_gb.py:1118: FutureWarning: criterion='mae' was deprecated in version 0.24 and will be removed in version 1.1 (renaming of 0.26). Use criterion='friedman_mse' or 'mse' instead, as trees should use a least-square criterion in Gradient Boosting.\n",
      "  warnings.warn(\"criterion='mae' was deprecated in version 0.24 and \"\n"
     ]
    },
    {
     "name": "stdout",
     "output_type": "stream",
     "text": [
      "param: {'model': 'RFC', 'max_depth': 6, 'criterion': 'entropy', 'min_impurity_decrease': 0.057044342884448186, 'min_samples_leaf': 3}\n",
      "param: {'model': 'GBC', 'max_depth': 9, 'criterion': 'mae', 'min_impurity_decrease': 0.009768609228443813, 'min_samples_leaf': 2}\n"
     ]
    },
    {
     "name": "stderr",
     "output_type": "stream",
     "text": [
      "C:\\Users\\Asus\\anaconda3\\lib\\site-packages\\sklearn\\ensemble\\_gb.py:1118: FutureWarning: criterion='mae' was deprecated in version 0.24 and will be removed in version 1.1 (renaming of 0.26). Use criterion='friedman_mse' or 'mse' instead, as trees should use a least-square criterion in Gradient Boosting.\n",
      "  warnings.warn(\"criterion='mae' was deprecated in version 0.24 and \"\n"
     ]
    },
    {
     "name": "stdout",
     "output_type": "stream",
     "text": [
      "param: {'model': 'RFC', 'max_depth': 1, 'criterion': 'gini', 'min_impurity_decrease': 0.027401198613940338, 'min_samples_leaf': 17}\n",
      "param: {'model': 'RFC', 'max_depth': 7, 'criterion': 'gini', 'min_impurity_decrease': 0.07548260316306424, 'min_samples_leaf': 18}\n",
      "param: {'model': 'GBC', 'max_depth': 10, 'criterion': 'mae', 'min_impurity_decrease': 0.0046202723874586345, 'min_samples_leaf': 0.07739254511755671}\n"
     ]
    },
    {
     "name": "stderr",
     "output_type": "stream",
     "text": [
      "C:\\Users\\Asus\\anaconda3\\lib\\site-packages\\sklearn\\ensemble\\_gb.py:1118: FutureWarning: criterion='mae' was deprecated in version 0.24 and will be removed in version 1.1 (renaming of 0.26). Use criterion='friedman_mse' or 'mse' instead, as trees should use a least-square criterion in Gradient Boosting.\n",
      "  warnings.warn(\"criterion='mae' was deprecated in version 0.24 and \"\n"
     ]
    },
    {
     "name": "stdout",
     "output_type": "stream",
     "text": [
      "param: {'model': 'GBC', 'max_depth': 4, 'criterion': 'mae', 'min_impurity_decrease': 0.0019548290583472293, 'min_samples_leaf': 0.0031551065907266416}\n"
     ]
    },
    {
     "name": "stderr",
     "output_type": "stream",
     "text": [
      "C:\\Users\\Asus\\anaconda3\\lib\\site-packages\\sklearn\\ensemble\\_gb.py:1118: FutureWarning: criterion='mae' was deprecated in version 0.24 and will be removed in version 1.1 (renaming of 0.26). Use criterion='friedman_mse' or 'mse' instead, as trees should use a least-square criterion in Gradient Boosting.\n",
      "  warnings.warn(\"criterion='mae' was deprecated in version 0.24 and \"\n"
     ]
    },
    {
     "name": "stdout",
     "output_type": "stream",
     "text": [
      "param: {'model': 'RFC', 'max_depth': 3, 'criterion': 'entropy', 'min_impurity_decrease': 7.994613251187666e-05, 'min_samples_leaf': 0.08641548518033025}\n",
      "param: {'model': 'RFC', 'max_depth': 9, 'criterion': 'gini', 'min_impurity_decrease': 0.008390754341880913, 'min_samples_leaf': 20}\n",
      "param: {'model': 'RFC', 'max_depth': 10, 'criterion': 'gini', 'min_impurity_decrease': 0.07890938236134802, 'min_samples_leaf': 0.07452368970598754}\n",
      "param: {'model': 'RFC', 'max_depth': 1, 'criterion': 'entropy', 'min_impurity_decrease': 0.08969533248160097, 'min_samples_leaf': 6}\n",
      "param: {'model': 'GBC', 'max_depth': 6, 'criterion': 'mae', 'min_impurity_decrease': 0.020077957484071728, 'min_samples_leaf': 13}\n"
     ]
    },
    {
     "name": "stderr",
     "output_type": "stream",
     "text": [
      "C:\\Users\\Asus\\anaconda3\\lib\\site-packages\\sklearn\\ensemble\\_gb.py:1118: FutureWarning: criterion='mae' was deprecated in version 0.24 and will be removed in version 1.1 (renaming of 0.26). Use criterion='friedman_mse' or 'mse' instead, as trees should use a least-square criterion in Gradient Boosting.\n",
      "  warnings.warn(\"criterion='mae' was deprecated in version 0.24 and \"\n"
     ]
    },
    {
     "name": "stdout",
     "output_type": "stream",
     "text": [
      "param: {'model': 'GBC', 'max_depth': 9, 'criterion': 'friedman_mse', 'min_impurity_decrease': 0.037357108076864445, 'min_samples_leaf': 9}\n",
      "param: {'model': 'GBC', 'max_depth': 10, 'criterion': 'mae', 'min_impurity_decrease': 0.060745727597126174, 'min_samples_leaf': 0.06106601430394112}\n"
     ]
    },
    {
     "name": "stderr",
     "output_type": "stream",
     "text": [
      "C:\\Users\\Asus\\anaconda3\\lib\\site-packages\\sklearn\\ensemble\\_gb.py:1118: FutureWarning: criterion='mae' was deprecated in version 0.24 and will be removed in version 1.1 (renaming of 0.26). Use criterion='friedman_mse' or 'mse' instead, as trees should use a least-square criterion in Gradient Boosting.\n",
      "  warnings.warn(\"criterion='mae' was deprecated in version 0.24 and \"\n"
     ]
    },
    {
     "name": "stdout",
     "output_type": "stream",
     "text": [
      "param: {'model': 'GBC', 'max_depth': 7, 'criterion': 'friedman_mse', 'min_impurity_decrease': 0.0022735604426757706, 'min_samples_leaf': 0.0031518057474908545}\n",
      "param: {'model': 'RFC', 'max_depth': 9, 'criterion': 'gini', 'min_impurity_decrease': 0.07430841034704443, 'min_samples_leaf': 0.040775383301880117}\n",
      "param: {'model': 'RFC', 'max_depth': 7, 'criterion': 'gini', 'min_impurity_decrease': 0.06662151858983881, 'min_samples_leaf': 0.037729974783422396}\n",
      "param: {'model': 'RFC', 'max_depth': 8, 'criterion': 'gini', 'min_impurity_decrease': 0.040550797576200684, 'min_samples_leaf': 11}\n",
      "param: {'model': 'GBC', 'max_depth': 8, 'criterion': 'friedman_mse', 'min_impurity_decrease': 0.03198959013793997, 'min_samples_leaf': 14}\n",
      "param: {'model': 'RFC', 'max_depth': 1, 'criterion': 'entropy', 'min_impurity_decrease': 0.01123861129346485, 'min_samples_leaf': 13}\n",
      "param: {'model': 'RFC', 'max_depth': 7, 'criterion': 'gini', 'min_impurity_decrease': 0.02111284503708317, 'min_samples_leaf': 0.07205307641853118}\n",
      "param: {'model': 'RFC', 'max_depth': 8, 'criterion': 'entropy', 'min_impurity_decrease': 0.0031812028688569917, 'min_samples_leaf': 12}\n",
      "param: {'model': 'RFC', 'max_depth': 10, 'criterion': 'entropy', 'min_impurity_decrease': 0.05470292078870824, 'min_samples_leaf': 5}\n",
      "param: {'model': 'GBC', 'max_depth': 5, 'criterion': 'mae', 'min_impurity_decrease': 0.0956837620518648, 'min_samples_leaf': 0.08728517148754657}\n"
     ]
    },
    {
     "name": "stderr",
     "output_type": "stream",
     "text": [
      "C:\\Users\\Asus\\anaconda3\\lib\\site-packages\\sklearn\\ensemble\\_gb.py:1118: FutureWarning: criterion='mae' was deprecated in version 0.24 and will be removed in version 1.1 (renaming of 0.26). Use criterion='friedman_mse' or 'mse' instead, as trees should use a least-square criterion in Gradient Boosting.\n",
      "  warnings.warn(\"criterion='mae' was deprecated in version 0.24 and \"\n"
     ]
    },
    {
     "name": "stdout",
     "output_type": "stream",
     "text": [
      "param: {'model': 'RFC', 'max_depth': 6, 'criterion': 'gini', 'min_impurity_decrease': 0.021333524701005337, 'min_samples_leaf': 2}\n",
      "param: {'model': 'GBC', 'max_depth': 3, 'criterion': 'mae', 'min_impurity_decrease': 0.08930766017464287, 'min_samples_leaf': 0.04293150207484288}\n"
     ]
    },
    {
     "name": "stderr",
     "output_type": "stream",
     "text": [
      "C:\\Users\\Asus\\anaconda3\\lib\\site-packages\\sklearn\\ensemble\\_gb.py:1118: FutureWarning: criterion='mae' was deprecated in version 0.24 and will be removed in version 1.1 (renaming of 0.26). Use criterion='friedman_mse' or 'mse' instead, as trees should use a least-square criterion in Gradient Boosting.\n",
      "  warnings.warn(\"criterion='mae' was deprecated in version 0.24 and \"\n"
     ]
    },
    {
     "name": "stdout",
     "output_type": "stream",
     "text": [
      "param: {'model': 'GBC', 'max_depth': 3, 'criterion': 'friedman_mse', 'min_impurity_decrease': 0.006973512176001217, 'min_samples_leaf': 0.03114614629801097}\n",
      "param: {'model': 'GBC', 'max_depth': 10, 'criterion': 'friedman_mse', 'min_impurity_decrease': 0.08096816020873496, 'min_samples_leaf': 0.05090743421431976}\n",
      "param: {'model': 'GBC', 'max_depth': 6, 'criterion': 'mae', 'min_impurity_decrease': 0.056329937978157475, 'min_samples_leaf': 0.05289412357855137}\n"
     ]
    },
    {
     "name": "stderr",
     "output_type": "stream",
     "text": [
      "C:\\Users\\Asus\\anaconda3\\lib\\site-packages\\sklearn\\ensemble\\_gb.py:1118: FutureWarning: criterion='mae' was deprecated in version 0.24 and will be removed in version 1.1 (renaming of 0.26). Use criterion='friedman_mse' or 'mse' instead, as trees should use a least-square criterion in Gradient Boosting.\n",
      "  warnings.warn(\"criterion='mae' was deprecated in version 0.24 and \"\n"
     ]
    },
    {
     "name": "stdout",
     "output_type": "stream",
     "text": [
      "param: {'model': 'GBC', 'max_depth': 7, 'criterion': 'mae', 'min_impurity_decrease': 0.08204050362983188, 'min_samples_leaf': 0.09924509029823572}\n"
     ]
    },
    {
     "name": "stderr",
     "output_type": "stream",
     "text": [
      "C:\\Users\\Asus\\anaconda3\\lib\\site-packages\\sklearn\\ensemble\\_gb.py:1118: FutureWarning: criterion='mae' was deprecated in version 0.24 and will be removed in version 1.1 (renaming of 0.26). Use criterion='friedman_mse' or 'mse' instead, as trees should use a least-square criterion in Gradient Boosting.\n",
      "  warnings.warn(\"criterion='mae' was deprecated in version 0.24 and \"\n"
     ]
    },
    {
     "name": "stdout",
     "output_type": "stream",
     "text": [
      "param: {'model': 'GBC', 'max_depth': 5, 'criterion': 'friedman_mse', 'min_impurity_decrease': 0.013731629529867007, 'min_samples_leaf': 0.019360205160856514}\n",
      "param: {'model': 'RFC', 'max_depth': 8, 'criterion': 'entropy', 'min_impurity_decrease': 0.013136529362381511, 'min_samples_leaf': 0.030000171065334126}\n",
      "param: {'model': 'GBC', 'max_depth': 9, 'criterion': 'mae', 'min_impurity_decrease': 0.041962973805232506, 'min_samples_leaf': 10}\n"
     ]
    },
    {
     "name": "stderr",
     "output_type": "stream",
     "text": [
      "C:\\Users\\Asus\\anaconda3\\lib\\site-packages\\sklearn\\ensemble\\_gb.py:1118: FutureWarning: criterion='mae' was deprecated in version 0.24 and will be removed in version 1.1 (renaming of 0.26). Use criterion='friedman_mse' or 'mse' instead, as trees should use a least-square criterion in Gradient Boosting.\n",
      "  warnings.warn(\"criterion='mae' was deprecated in version 0.24 and \"\n"
     ]
    },
    {
     "name": "stdout",
     "output_type": "stream",
     "text": [
      "param: {'model': 'GBC', 'max_depth': 1, 'criterion': 'mae', 'min_impurity_decrease': 0.04401030276777186, 'min_samples_leaf': 0.058973832346957425}\n"
     ]
    },
    {
     "name": "stderr",
     "output_type": "stream",
     "text": [
      "C:\\Users\\Asus\\anaconda3\\lib\\site-packages\\sklearn\\ensemble\\_gb.py:1118: FutureWarning: criterion='mae' was deprecated in version 0.24 and will be removed in version 1.1 (renaming of 0.26). Use criterion='friedman_mse' or 'mse' instead, as trees should use a least-square criterion in Gradient Boosting.\n",
      "  warnings.warn(\"criterion='mae' was deprecated in version 0.24 and \"\n"
     ]
    },
    {
     "name": "stdout",
     "output_type": "stream",
     "text": [
      "param: {'model': 'GBC', 'max_depth': 4, 'criterion': 'mae', 'min_impurity_decrease': 0.08604442288477268, 'min_samples_leaf': 7}\n"
     ]
    },
    {
     "name": "stderr",
     "output_type": "stream",
     "text": [
      "C:\\Users\\Asus\\anaconda3\\lib\\site-packages\\sklearn\\ensemble\\_gb.py:1118: FutureWarning: criterion='mae' was deprecated in version 0.24 and will be removed in version 1.1 (renaming of 0.26). Use criterion='friedman_mse' or 'mse' instead, as trees should use a least-square criterion in Gradient Boosting.\n",
      "  warnings.warn(\"criterion='mae' was deprecated in version 0.24 and \"\n"
     ]
    },
    {
     "name": "stdout",
     "output_type": "stream",
     "text": [
      "param: {'model': 'RFC', 'max_depth': 4, 'criterion': 'gini', 'min_impurity_decrease': 0.06821317700979311, 'min_samples_leaf': 20}\n",
      "param: {'model': 'GBC', 'max_depth': 3, 'criterion': 'mae', 'min_impurity_decrease': 0.0789225637956055, 'min_samples_leaf': 11}\n"
     ]
    },
    {
     "name": "stderr",
     "output_type": "stream",
     "text": [
      "C:\\Users\\Asus\\anaconda3\\lib\\site-packages\\sklearn\\ensemble\\_gb.py:1118: FutureWarning: criterion='mae' was deprecated in version 0.24 and will be removed in version 1.1 (renaming of 0.26). Use criterion='friedman_mse' or 'mse' instead, as trees should use a least-square criterion in Gradient Boosting.\n",
      "  warnings.warn(\"criterion='mae' was deprecated in version 0.24 and \"\n"
     ]
    },
    {
     "name": "stdout",
     "output_type": "stream",
     "text": [
      "param: {'model': 'GBC', 'max_depth': 2, 'criterion': 'mae', 'min_impurity_decrease': 0.0928431570803712, 'min_samples_leaf': 0.07004491939458293}\n"
     ]
    },
    {
     "name": "stderr",
     "output_type": "stream",
     "text": [
      "C:\\Users\\Asus\\anaconda3\\lib\\site-packages\\sklearn\\ensemble\\_gb.py:1118: FutureWarning: criterion='mae' was deprecated in version 0.24 and will be removed in version 1.1 (renaming of 0.26). Use criterion='friedman_mse' or 'mse' instead, as trees should use a least-square criterion in Gradient Boosting.\n",
      "  warnings.warn(\"criterion='mae' was deprecated in version 0.24 and \"\n"
     ]
    },
    {
     "name": "stdout",
     "output_type": "stream",
     "text": [
      "param: {'model': 'RFC', 'max_depth': 3, 'criterion': 'gini', 'min_impurity_decrease': 0.05413163068580044, 'min_samples_leaf': 0.09745916642220123}\n",
      "param: {'model': 'RFC', 'max_depth': 6, 'criterion': 'entropy', 'min_impurity_decrease': 0.016723733967940378, 'min_samples_leaf': 3}\n",
      "param: {'model': 'RFC', 'max_depth': 3, 'criterion': 'gini', 'min_impurity_decrease': 0.030151510790694967, 'min_samples_leaf': 7}\n",
      "param: {'model': 'GBC', 'max_depth': 2, 'criterion': 'friedman_mse', 'min_impurity_decrease': 0.06750229237907797, 'min_samples_leaf': 20}\n",
      "param: {'model': 'GBC', 'max_depth': 3, 'criterion': 'friedman_mse', 'min_impurity_decrease': 0.04501735195368094, 'min_samples_leaf': 0.09153186650120368}\n",
      "param: {'model': 'RFC', 'max_depth': 10, 'criterion': 'gini', 'min_impurity_decrease': 0.06469201244182628, 'min_samples_leaf': 0.0052743283866731995}\n",
      "param: {'model': 'GBC', 'max_depth': 6, 'criterion': 'mae', 'min_impurity_decrease': 0.008162114602317394, 'min_samples_leaf': 15}\n"
     ]
    },
    {
     "name": "stderr",
     "output_type": "stream",
     "text": [
      "C:\\Users\\Asus\\anaconda3\\lib\\site-packages\\sklearn\\ensemble\\_gb.py:1118: FutureWarning: criterion='mae' was deprecated in version 0.24 and will be removed in version 1.1 (renaming of 0.26). Use criterion='friedman_mse' or 'mse' instead, as trees should use a least-square criterion in Gradient Boosting.\n",
      "  warnings.warn(\"criterion='mae' was deprecated in version 0.24 and \"\n"
     ]
    },
    {
     "name": "stdout",
     "output_type": "stream",
     "text": [
      "param: {'model': 'RFC', 'max_depth': 2, 'criterion': 'entropy', 'min_impurity_decrease': 0.08445644687744311, 'min_samples_leaf': 3}\n",
      "param: {'model': 'RFC', 'max_depth': 10, 'criterion': 'entropy', 'min_impurity_decrease': 0.0795832878506798, 'min_samples_leaf': 0.006887124995925265}\n",
      "param: {'model': 'GBC', 'max_depth': 7, 'criterion': 'friedman_mse', 'min_impurity_decrease': 0.07917996827593915, 'min_samples_leaf': 18}\n",
      "param: {'model': 'GBC', 'max_depth': 6, 'criterion': 'friedman_mse', 'min_impurity_decrease': 0.0732149317435314, 'min_samples_leaf': 0.08048368937449622}\n",
      "param: {'model': 'GBC', 'max_depth': 5, 'criterion': 'friedman_mse', 'min_impurity_decrease': 0.016942571707430888, 'min_samples_leaf': 15}\n",
      "param: {'model': 'GBC', 'max_depth': 1, 'criterion': 'friedman_mse', 'min_impurity_decrease': 0.07083253639860815, 'min_samples_leaf': 18}\n",
      "param: {'model': 'RFC', 'max_depth': 5, 'criterion': 'gini', 'min_impurity_decrease': 0.015174641952782574, 'min_samples_leaf': 6}\n",
      "param: {'model': 'RFC', 'max_depth': 4, 'criterion': 'gini', 'min_impurity_decrease': 0.04201887679986414, 'min_samples_leaf': 0.07871477957748077}\n",
      "param: {'model': 'RFC', 'max_depth': 6, 'criterion': 'gini', 'min_impurity_decrease': 0.0018657030710974576, 'min_samples_leaf': 2}\n",
      "param: {'model': 'GBC', 'max_depth': 9, 'criterion': 'friedman_mse', 'min_impurity_decrease': 0.01759601571642373, 'min_samples_leaf': 17}\n",
      "param: {'model': 'RFC', 'max_depth': 5, 'criterion': 'entropy', 'min_impurity_decrease': 0.018368453129478823, 'min_samples_leaf': 0.09684336743377894}\n",
      "param: {'model': 'GBC', 'max_depth': 1, 'criterion': 'mae', 'min_impurity_decrease': 0.0010026149938428097, 'min_samples_leaf': 16}\n"
     ]
    },
    {
     "name": "stderr",
     "output_type": "stream",
     "text": [
      "C:\\Users\\Asus\\anaconda3\\lib\\site-packages\\sklearn\\ensemble\\_gb.py:1118: FutureWarning: criterion='mae' was deprecated in version 0.24 and will be removed in version 1.1 (renaming of 0.26). Use criterion='friedman_mse' or 'mse' instead, as trees should use a least-square criterion in Gradient Boosting.\n",
      "  warnings.warn(\"criterion='mae' was deprecated in version 0.24 and \"\n"
     ]
    },
    {
     "name": "stdout",
     "output_type": "stream",
     "text": [
      "param: {'model': 'GBC', 'max_depth': 5, 'criterion': 'mae', 'min_impurity_decrease': 0.05817463991820333, 'min_samples_leaf': 0.014979727479830885}\n"
     ]
    },
    {
     "name": "stderr",
     "output_type": "stream",
     "text": [
      "C:\\Users\\Asus\\anaconda3\\lib\\site-packages\\sklearn\\ensemble\\_gb.py:1118: FutureWarning: criterion='mae' was deprecated in version 0.24 and will be removed in version 1.1 (renaming of 0.26). Use criterion='friedman_mse' or 'mse' instead, as trees should use a least-square criterion in Gradient Boosting.\n",
      "  warnings.warn(\"criterion='mae' was deprecated in version 0.24 and \"\n"
     ]
    },
    {
     "name": "stdout",
     "output_type": "stream",
     "text": [
      "param: {'model': 'RFC', 'max_depth': 9, 'criterion': 'entropy', 'min_impurity_decrease': 0.06553173160299527, 'min_samples_leaf': 0.006964282950806022}\n",
      "param: {'model': 'GBC', 'max_depth': 9, 'criterion': 'mae', 'min_impurity_decrease': 0.08165202042944185, 'min_samples_leaf': 0.07671866754603282}\n"
     ]
    },
    {
     "name": "stderr",
     "output_type": "stream",
     "text": [
      "C:\\Users\\Asus\\anaconda3\\lib\\site-packages\\sklearn\\ensemble\\_gb.py:1118: FutureWarning: criterion='mae' was deprecated in version 0.24 and will be removed in version 1.1 (renaming of 0.26). Use criterion='friedman_mse' or 'mse' instead, as trees should use a least-square criterion in Gradient Boosting.\n",
      "  warnings.warn(\"criterion='mae' was deprecated in version 0.24 and \"\n"
     ]
    },
    {
     "name": "stdout",
     "output_type": "stream",
     "text": [
      "param: {'model': 'RFC', 'max_depth': 7, 'criterion': 'entropy', 'min_impurity_decrease': 0.0689040997374832, 'min_samples_leaf': 0.03297287342682218}\n",
      "param: {'model': 'GBC', 'max_depth': 4, 'criterion': 'friedman_mse', 'min_impurity_decrease': 0.06879853371311687, 'min_samples_leaf': 0.08140959798714562}\n",
      "param: {'model': 'RFC', 'max_depth': 3, 'criterion': 'entropy', 'min_impurity_decrease': 0.047461231668169145, 'min_samples_leaf': 0.08110348074493709}\n",
      "param: {'model': 'RFC', 'max_depth': 5, 'criterion': 'entropy', 'min_impurity_decrease': 0.09482485742425109, 'min_samples_leaf': 0.031730080183889287}\n",
      "param: {'model': 'GBC', 'max_depth': 8, 'criterion': 'friedman_mse', 'min_impurity_decrease': 0.019811889126716786, 'min_samples_leaf': 13}\n",
      "param: {'model': 'GBC', 'max_depth': 3, 'criterion': 'friedman_mse', 'min_impurity_decrease': 0.02242327173772333, 'min_samples_leaf': 0.031883662295825246}\n",
      "param: {'model': 'RFC', 'max_depth': 4, 'criterion': 'entropy', 'min_impurity_decrease': 0.045570470859484194, 'min_samples_leaf': 7}\n",
      "\n",
      "\n",
      "\n",
      "GEN 14:\n",
      "param: {'model': 'RFC', 'max_depth': 1, 'criterion': 'entropy', 'min_impurity_decrease': 0.011860638284971447, 'min_samples_leaf': 0.09714430093864573}\n",
      "param: {'model': 'GBC', 'max_depth': 3, 'criterion': 'mae', 'min_impurity_decrease': 0.09824765085423441, 'min_samples_leaf': 0.005625934982861003}\n"
     ]
    },
    {
     "name": "stderr",
     "output_type": "stream",
     "text": [
      "C:\\Users\\Asus\\anaconda3\\lib\\site-packages\\sklearn\\ensemble\\_gb.py:1118: FutureWarning: criterion='mae' was deprecated in version 0.24 and will be removed in version 1.1 (renaming of 0.26). Use criterion='friedman_mse' or 'mse' instead, as trees should use a least-square criterion in Gradient Boosting.\n",
      "  warnings.warn(\"criterion='mae' was deprecated in version 0.24 and \"\n"
     ]
    },
    {
     "name": "stdout",
     "output_type": "stream",
     "text": [
      "param: {'model': 'GBC', 'max_depth': 3, 'criterion': 'mae', 'min_impurity_decrease': 0.021759714778621396, 'min_samples_leaf': 0.028186806221152206}\n"
     ]
    },
    {
     "name": "stderr",
     "output_type": "stream",
     "text": [
      "C:\\Users\\Asus\\anaconda3\\lib\\site-packages\\sklearn\\ensemble\\_gb.py:1118: FutureWarning: criterion='mae' was deprecated in version 0.24 and will be removed in version 1.1 (renaming of 0.26). Use criterion='friedman_mse' or 'mse' instead, as trees should use a least-square criterion in Gradient Boosting.\n",
      "  warnings.warn(\"criterion='mae' was deprecated in version 0.24 and \"\n"
     ]
    },
    {
     "name": "stdout",
     "output_type": "stream",
     "text": [
      "param: {'model': 'GBC', 'max_depth': 2, 'criterion': 'mae', 'min_impurity_decrease': 0.06780715878425106, 'min_samples_leaf': 10}\n"
     ]
    },
    {
     "name": "stderr",
     "output_type": "stream",
     "text": [
      "C:\\Users\\Asus\\anaconda3\\lib\\site-packages\\sklearn\\ensemble\\_gb.py:1118: FutureWarning: criterion='mae' was deprecated in version 0.24 and will be removed in version 1.1 (renaming of 0.26). Use criterion='friedman_mse' or 'mse' instead, as trees should use a least-square criterion in Gradient Boosting.\n",
      "  warnings.warn(\"criterion='mae' was deprecated in version 0.24 and \"\n"
     ]
    },
    {
     "name": "stdout",
     "output_type": "stream",
     "text": [
      "param: {'model': 'GBC', 'max_depth': 5, 'criterion': 'friedman_mse', 'min_impurity_decrease': 0.09201039514456562, 'min_samples_leaf': 4}\n",
      "param: {'model': 'GBC', 'max_depth': 6, 'criterion': 'friedman_mse', 'min_impurity_decrease': 0.0049785396284621865, 'min_samples_leaf': 0.07886905273543542}\n",
      "param: {'model': 'RFC', 'max_depth': 3, 'criterion': 'entropy', 'min_impurity_decrease': 0.07356930181076937, 'min_samples_leaf': 0.07769022409662472}\n",
      "param: {'model': 'RFC', 'max_depth': 10, 'criterion': 'entropy', 'min_impurity_decrease': 0.09488948281015, 'min_samples_leaf': 4}\n",
      "param: {'model': 'RFC', 'max_depth': 9, 'criterion': 'gini', 'min_impurity_decrease': 0.08548862769916162, 'min_samples_leaf': 0.05666350592294049}\n",
      "param: {'model': 'RFC', 'max_depth': 10, 'criterion': 'gini', 'min_impurity_decrease': 0.08465723540161009, 'min_samples_leaf': 3}\n",
      "param: {'model': 'RFC', 'max_depth': 9, 'criterion': 'entropy', 'min_impurity_decrease': 0.06049473323352754, 'min_samples_leaf': 0.07352022939867577}\n",
      "param: {'model': 'GBC', 'max_depth': 10, 'criterion': 'friedman_mse', 'min_impurity_decrease': 0.006385327055202861, 'min_samples_leaf': 6}\n",
      "param: {'model': 'RFC', 'max_depth': 5, 'criterion': 'entropy', 'min_impurity_decrease': 0.0916275734948617, 'min_samples_leaf': 2}\n",
      "param: {'model': 'GBC', 'max_depth': 3, 'criterion': 'mae', 'min_impurity_decrease': 0.03126512161898547, 'min_samples_leaf': 0.03982577477794336}\n"
     ]
    },
    {
     "name": "stderr",
     "output_type": "stream",
     "text": [
      "C:\\Users\\Asus\\anaconda3\\lib\\site-packages\\sklearn\\ensemble\\_gb.py:1118: FutureWarning: criterion='mae' was deprecated in version 0.24 and will be removed in version 1.1 (renaming of 0.26). Use criterion='friedman_mse' or 'mse' instead, as trees should use a least-square criterion in Gradient Boosting.\n",
      "  warnings.warn(\"criterion='mae' was deprecated in version 0.24 and \"\n"
     ]
    },
    {
     "name": "stdout",
     "output_type": "stream",
     "text": [
      "param: {'model': 'GBC', 'max_depth': 6, 'criterion': 'mae', 'min_impurity_decrease': 0.018585434816141687, 'min_samples_leaf': 0.061308224038603074}\n"
     ]
    },
    {
     "name": "stderr",
     "output_type": "stream",
     "text": [
      "C:\\Users\\Asus\\anaconda3\\lib\\site-packages\\sklearn\\ensemble\\_gb.py:1118: FutureWarning: criterion='mae' was deprecated in version 0.24 and will be removed in version 1.1 (renaming of 0.26). Use criterion='friedman_mse' or 'mse' instead, as trees should use a least-square criterion in Gradient Boosting.\n",
      "  warnings.warn(\"criterion='mae' was deprecated in version 0.24 and \"\n"
     ]
    },
    {
     "name": "stdout",
     "output_type": "stream",
     "text": [
      "param: {'model': 'GBC', 'max_depth': 9, 'criterion': 'friedman_mse', 'min_impurity_decrease': 0.06770217474214937, 'min_samples_leaf': 0.06201877127609791}\n",
      "param: {'model': 'GBC', 'max_depth': 6, 'criterion': 'friedman_mse', 'min_impurity_decrease': 0.042650190981462666, 'min_samples_leaf': 10}\n",
      "param: {'model': 'RFC', 'max_depth': 3, 'criterion': 'entropy', 'min_impurity_decrease': 0.032250141070054625, 'min_samples_leaf': 20}\n",
      "param: {'model': 'RFC', 'max_depth': 9, 'criterion': 'gini', 'min_impurity_decrease': 0.06889868604028374, 'min_samples_leaf': 16}\n",
      "param: {'model': 'RFC', 'max_depth': 5, 'criterion': 'gini', 'min_impurity_decrease': 0.009427456423104486, 'min_samples_leaf': 0.08430272779880833}\n",
      "param: {'model': 'RFC', 'max_depth': 4, 'criterion': 'gini', 'min_impurity_decrease': 0.054107932186867956, 'min_samples_leaf': 5}\n",
      "param: {'model': 'RFC', 'max_depth': 6, 'criterion': 'gini', 'min_impurity_decrease': 0.011463017217279802, 'min_samples_leaf': 3}\n",
      "param: {'model': 'GBC', 'max_depth': 1, 'criterion': 'friedman_mse', 'min_impurity_decrease': 0.0447603836521752, 'min_samples_leaf': 9}\n",
      "param: {'model': 'GBC', 'max_depth': 3, 'criterion': 'mae', 'min_impurity_decrease': 0.05346321208074628, 'min_samples_leaf': 0.06234395140794737}\n"
     ]
    },
    {
     "name": "stderr",
     "output_type": "stream",
     "text": [
      "C:\\Users\\Asus\\anaconda3\\lib\\site-packages\\sklearn\\ensemble\\_gb.py:1118: FutureWarning: criterion='mae' was deprecated in version 0.24 and will be removed in version 1.1 (renaming of 0.26). Use criterion='friedman_mse' or 'mse' instead, as trees should use a least-square criterion in Gradient Boosting.\n",
      "  warnings.warn(\"criterion='mae' was deprecated in version 0.24 and \"\n"
     ]
    },
    {
     "name": "stdout",
     "output_type": "stream",
     "text": [
      "param: {'model': 'RFC', 'max_depth': 6, 'criterion': 'gini', 'min_impurity_decrease': 0.08503318136949221, 'min_samples_leaf': 0.003517159116977453}\n",
      "param: {'model': 'GBC', 'max_depth': 8, 'criterion': 'friedman_mse', 'min_impurity_decrease': 0.09992008366545764, 'min_samples_leaf': 0.01656164140056906}\n",
      "param: {'model': 'RFC', 'max_depth': 7, 'criterion': 'entropy', 'min_impurity_decrease': 0.00028863081327568096, 'min_samples_leaf': 11}\n",
      "param: {'model': 'RFC', 'max_depth': 7, 'criterion': 'entropy', 'min_impurity_decrease': 0.04879051837776595, 'min_samples_leaf': 4}\n",
      "param: {'model': 'RFC', 'max_depth': 6, 'criterion': 'entropy', 'min_impurity_decrease': 0.09417484698405973, 'min_samples_leaf': 2}\n",
      "param: {'model': 'RFC', 'max_depth': 6, 'criterion': 'entropy', 'min_impurity_decrease': 0.09011004134492778, 'min_samples_leaf': 12}\n",
      "param: {'model': 'RFC', 'max_depth': 10, 'criterion': 'gini', 'min_impurity_decrease': 0.0444263729485594, 'min_samples_leaf': 7}\n",
      "param: {'model': 'RFC', 'max_depth': 9, 'criterion': 'entropy', 'min_impurity_decrease': 0.03973459668417787, 'min_samples_leaf': 13}\n",
      "param: {'model': 'RFC', 'max_depth': 2, 'criterion': 'entropy', 'min_impurity_decrease': 0.08243408048237104, 'min_samples_leaf': 11}\n",
      "param: {'model': 'RFC', 'max_depth': 4, 'criterion': 'entropy', 'min_impurity_decrease': 0.03767709060436738, 'min_samples_leaf': 0.058354579159678455}\n",
      "param: {'model': 'RFC', 'max_depth': 6, 'criterion': 'entropy', 'min_impurity_decrease': 0.0822644312348443, 'min_samples_leaf': 7}\n",
      "param: {'model': 'RFC', 'max_depth': 8, 'criterion': 'entropy', 'min_impurity_decrease': 0.008142710463146375, 'min_samples_leaf': 17}\n",
      "param: {'model': 'GBC', 'max_depth': 3, 'criterion': 'mae', 'min_impurity_decrease': 0.07436411809950112, 'min_samples_leaf': 0.0956126749468654}\n"
     ]
    },
    {
     "name": "stderr",
     "output_type": "stream",
     "text": [
      "C:\\Users\\Asus\\anaconda3\\lib\\site-packages\\sklearn\\ensemble\\_gb.py:1118: FutureWarning: criterion='mae' was deprecated in version 0.24 and will be removed in version 1.1 (renaming of 0.26). Use criterion='friedman_mse' or 'mse' instead, as trees should use a least-square criterion in Gradient Boosting.\n",
      "  warnings.warn(\"criterion='mae' was deprecated in version 0.24 and \"\n"
     ]
    },
    {
     "name": "stdout",
     "output_type": "stream",
     "text": [
      "param: {'model': 'GBC', 'max_depth': 2, 'criterion': 'mae', 'min_impurity_decrease': 2.601335138840977e-06, 'min_samples_leaf': 0.03280301666194655}\n"
     ]
    },
    {
     "name": "stderr",
     "output_type": "stream",
     "text": [
      "C:\\Users\\Asus\\anaconda3\\lib\\site-packages\\sklearn\\ensemble\\_gb.py:1118: FutureWarning: criterion='mae' was deprecated in version 0.24 and will be removed in version 1.1 (renaming of 0.26). Use criterion='friedman_mse' or 'mse' instead, as trees should use a least-square criterion in Gradient Boosting.\n",
      "  warnings.warn(\"criterion='mae' was deprecated in version 0.24 and \"\n"
     ]
    },
    {
     "name": "stdout",
     "output_type": "stream",
     "text": [
      "param: {'model': 'RFC', 'max_depth': 3, 'criterion': 'gini', 'min_impurity_decrease': 0.0739499796077142, 'min_samples_leaf': 1}\n",
      "param: {'model': 'GBC', 'max_depth': 9, 'criterion': 'mae', 'min_impurity_decrease': 0.053255775790606454, 'min_samples_leaf': 13}\n"
     ]
    },
    {
     "name": "stderr",
     "output_type": "stream",
     "text": [
      "C:\\Users\\Asus\\anaconda3\\lib\\site-packages\\sklearn\\ensemble\\_gb.py:1118: FutureWarning: criterion='mae' was deprecated in version 0.24 and will be removed in version 1.1 (renaming of 0.26). Use criterion='friedman_mse' or 'mse' instead, as trees should use a least-square criterion in Gradient Boosting.\n",
      "  warnings.warn(\"criterion='mae' was deprecated in version 0.24 and \"\n"
     ]
    },
    {
     "name": "stdout",
     "output_type": "stream",
     "text": [
      "param: {'model': 'RFC', 'max_depth': 8, 'criterion': 'gini', 'min_impurity_decrease': 0.018965649781664186, 'min_samples_leaf': 0.04934164789100033}\n",
      "param: {'model': 'RFC', 'max_depth': 9, 'criterion': 'entropy', 'min_impurity_decrease': 0.06522648786121181, 'min_samples_leaf': 15}\n",
      "param: {'model': 'RFC', 'max_depth': 2, 'criterion': 'gini', 'min_impurity_decrease': 0.07530301309432078, 'min_samples_leaf': 0.06857586310918459}\n",
      "param: {'model': 'RFC', 'max_depth': 3, 'criterion': 'gini', 'min_impurity_decrease': 0.011662427592384195, 'min_samples_leaf': 0.0527983579435912}\n",
      "param: {'model': 'RFC', 'max_depth': 3, 'criterion': 'entropy', 'min_impurity_decrease': 0.06606271854850043, 'min_samples_leaf': 0.061536179068844364}\n",
      "param: {'model': 'RFC', 'max_depth': 2, 'criterion': 'entropy', 'min_impurity_decrease': 0.08286202282682742, 'min_samples_leaf': 16}\n",
      "param: {'model': 'RFC', 'max_depth': 6, 'criterion': 'gini', 'min_impurity_decrease': 0.06668050355443884, 'min_samples_leaf': 4}\n",
      "param: {'model': 'RFC', 'max_depth': 3, 'criterion': 'entropy', 'min_impurity_decrease': 0.05105145667959506, 'min_samples_leaf': 0.04232861115722436}\n",
      "param: {'model': 'RFC', 'max_depth': 6, 'criterion': 'entropy', 'min_impurity_decrease': 0.0106099262783666, 'min_samples_leaf': 0.042836654989356196}\n",
      "param: {'model': 'GBC', 'max_depth': 10, 'criterion': 'friedman_mse', 'min_impurity_decrease': 0.09853283256910632, 'min_samples_leaf': 0.07079085856212639}\n",
      "param: {'model': 'RFC', 'max_depth': 8, 'criterion': 'entropy', 'min_impurity_decrease': 0.09906023823703267, 'min_samples_leaf': 0.06899034168811702}\n",
      "param: {'model': 'RFC', 'max_depth': 3, 'criterion': 'gini', 'min_impurity_decrease': 0.08754509310199886, 'min_samples_leaf': 0.08624971281339362}\n",
      "param: {'model': 'RFC', 'max_depth': 3, 'criterion': 'gini', 'min_impurity_decrease': 0.050421164301579655, 'min_samples_leaf': 0.07604060706490835}\n",
      "param: {'model': 'GBC', 'max_depth': 6, 'criterion': 'mae', 'min_impurity_decrease': 0.06930682845235163, 'min_samples_leaf': 0.034982152328478525}\n"
     ]
    },
    {
     "name": "stderr",
     "output_type": "stream",
     "text": [
      "C:\\Users\\Asus\\anaconda3\\lib\\site-packages\\sklearn\\ensemble\\_gb.py:1118: FutureWarning: criterion='mae' was deprecated in version 0.24 and will be removed in version 1.1 (renaming of 0.26). Use criterion='friedman_mse' or 'mse' instead, as trees should use a least-square criterion in Gradient Boosting.\n",
      "  warnings.warn(\"criterion='mae' was deprecated in version 0.24 and \"\n"
     ]
    },
    {
     "name": "stdout",
     "output_type": "stream",
     "text": [
      "param: {'model': 'RFC', 'max_depth': 7, 'criterion': 'entropy', 'min_impurity_decrease': 0.007504130681661059, 'min_samples_leaf': 0.052900087173068065}\n",
      "param: {'model': 'GBC', 'max_depth': 2, 'criterion': 'friedman_mse', 'min_impurity_decrease': 0.09590586643204682, 'min_samples_leaf': 12}\n",
      "param: {'model': 'GBC', 'max_depth': 6, 'criterion': 'friedman_mse', 'min_impurity_decrease': 0.02463646095245977, 'min_samples_leaf': 0.06590693865982922}\n",
      "param: {'model': 'RFC', 'max_depth': 2, 'criterion': 'gini', 'min_impurity_decrease': 0.028417908075787958, 'min_samples_leaf': 13}\n",
      "param: {'model': 'RFC', 'max_depth': 4, 'criterion': 'gini', 'min_impurity_decrease': 0.0030191449291275263, 'min_samples_leaf': 4}\n",
      "param: {'model': 'GBC', 'max_depth': 8, 'criterion': 'friedman_mse', 'min_impurity_decrease': 0.0729142217214991, 'min_samples_leaf': 20}\n",
      "param: {'model': 'RFC', 'max_depth': 8, 'criterion': 'entropy', 'min_impurity_decrease': 0.02156425619813588, 'min_samples_leaf': 0.014165022625442647}\n",
      "param: {'model': 'RFC', 'max_depth': 3, 'criterion': 'gini', 'min_impurity_decrease': 0.0831236513546077, 'min_samples_leaf': 11}\n",
      "param: {'model': 'GBC', 'max_depth': 9, 'criterion': 'mae', 'min_impurity_decrease': 0.04595626875480345, 'min_samples_leaf': 14}\n"
     ]
    },
    {
     "name": "stderr",
     "output_type": "stream",
     "text": [
      "C:\\Users\\Asus\\anaconda3\\lib\\site-packages\\sklearn\\ensemble\\_gb.py:1118: FutureWarning: criterion='mae' was deprecated in version 0.24 and will be removed in version 1.1 (renaming of 0.26). Use criterion='friedman_mse' or 'mse' instead, as trees should use a least-square criterion in Gradient Boosting.\n",
      "  warnings.warn(\"criterion='mae' was deprecated in version 0.24 and \"\n"
     ]
    },
    {
     "name": "stdout",
     "output_type": "stream",
     "text": [
      "param: {'model': 'RFC', 'max_depth': 6, 'criterion': 'entropy', 'min_impurity_decrease': 0.07167085022789739, 'min_samples_leaf': 0.09375776851601868}\n",
      "param: {'model': 'RFC', 'max_depth': 6, 'criterion': 'gini', 'min_impurity_decrease': 0.0466428070272671, 'min_samples_leaf': 0.00010098801255385981}\n",
      "param: {'model': 'RFC', 'max_depth': 5, 'criterion': 'gini', 'min_impurity_decrease': 0.0740301383732573, 'min_samples_leaf': 0.08678263217739163}\n",
      "param: {'model': 'GBC', 'max_depth': 1, 'criterion': 'friedman_mse', 'min_impurity_decrease': 0.02204563672397932, 'min_samples_leaf': 14}\n",
      "param: {'model': 'GBC', 'max_depth': 2, 'criterion': 'friedman_mse', 'min_impurity_decrease': 0.05705207020618867, 'min_samples_leaf': 0.005458094656321943}\n",
      "param: {'model': 'RFC', 'max_depth': 1, 'criterion': 'entropy', 'min_impurity_decrease': 0.08294666509673898, 'min_samples_leaf': 2}\n",
      "param: {'model': 'GBC', 'max_depth': 4, 'criterion': 'friedman_mse', 'min_impurity_decrease': 0.030527691897597443, 'min_samples_leaf': 0.062165669884984495}\n",
      "param: {'model': 'GBC', 'max_depth': 9, 'criterion': 'friedman_mse', 'min_impurity_decrease': 0.05250825491603669, 'min_samples_leaf': 11}\n",
      "param: {'model': 'RFC', 'max_depth': 2, 'criterion': 'gini', 'min_impurity_decrease': 0.05024770590699501, 'min_samples_leaf': 15}\n",
      "param: {'model': 'RFC', 'max_depth': 10, 'criterion': 'entropy', 'min_impurity_decrease': 0.011979127096779351, 'min_samples_leaf': 0.014055823902079512}\n",
      "param: {'model': 'GBC', 'max_depth': 7, 'criterion': 'friedman_mse', 'min_impurity_decrease': 0.0708900753408878, 'min_samples_leaf': 17}\n",
      "param: {'model': 'RFC', 'max_depth': 3, 'criterion': 'entropy', 'min_impurity_decrease': 0.05718314269820403, 'min_samples_leaf': 17}\n",
      "param: {'model': 'GBC', 'max_depth': 9, 'criterion': 'friedman_mse', 'min_impurity_decrease': 0.07069729827552121, 'min_samples_leaf': 0.005239184221197535}\n",
      "param: {'model': 'RFC', 'max_depth': 8, 'criterion': 'entropy', 'min_impurity_decrease': 0.09846285991353329, 'min_samples_leaf': 0.0861214154439366}\n",
      "param: {'model': 'RFC', 'max_depth': 1, 'criterion': 'entropy', 'min_impurity_decrease': 0.032293615948242003, 'min_samples_leaf': 11}\n",
      "param: {'model': 'GBC', 'max_depth': 8, 'criterion': 'mae', 'min_impurity_decrease': 0.026244230672116408, 'min_samples_leaf': 0.041927788765536156}\n"
     ]
    },
    {
     "name": "stderr",
     "output_type": "stream",
     "text": [
      "C:\\Users\\Asus\\anaconda3\\lib\\site-packages\\sklearn\\ensemble\\_gb.py:1118: FutureWarning: criterion='mae' was deprecated in version 0.24 and will be removed in version 1.1 (renaming of 0.26). Use criterion='friedman_mse' or 'mse' instead, as trees should use a least-square criterion in Gradient Boosting.\n",
      "  warnings.warn(\"criterion='mae' was deprecated in version 0.24 and \"\n"
     ]
    },
    {
     "name": "stdout",
     "output_type": "stream",
     "text": [
      "param: {'model': 'RFC', 'max_depth': 3, 'criterion': 'gini', 'min_impurity_decrease': 0.04366554485344119, 'min_samples_leaf': 5}\n",
      "param: {'model': 'GBC', 'max_depth': 10, 'criterion': 'friedman_mse', 'min_impurity_decrease': 0.01856268211970441, 'min_samples_leaf': 15}\n",
      "param: {'model': 'GBC', 'max_depth': 8, 'criterion': 'mae', 'min_impurity_decrease': 0.07829574319125163, 'min_samples_leaf': 16}\n"
     ]
    },
    {
     "name": "stderr",
     "output_type": "stream",
     "text": [
      "C:\\Users\\Asus\\anaconda3\\lib\\site-packages\\sklearn\\ensemble\\_gb.py:1118: FutureWarning: criterion='mae' was deprecated in version 0.24 and will be removed in version 1.1 (renaming of 0.26). Use criterion='friedman_mse' or 'mse' instead, as trees should use a least-square criterion in Gradient Boosting.\n",
      "  warnings.warn(\"criterion='mae' was deprecated in version 0.24 and \"\n"
     ]
    },
    {
     "name": "stdout",
     "output_type": "stream",
     "text": [
      "param: {'model': 'RFC', 'max_depth': 6, 'criterion': 'entropy', 'min_impurity_decrease': 0.0749252446475822, 'min_samples_leaf': 0.0747444313812361}\n",
      "param: {'model': 'RFC', 'max_depth': 4, 'criterion': 'entropy', 'min_impurity_decrease': 0.08745585437275999, 'min_samples_leaf': 19}\n",
      "param: {'model': 'GBC', 'max_depth': 4, 'criterion': 'friedman_mse', 'min_impurity_decrease': 0.014239851377884527, 'min_samples_leaf': 3}\n",
      "param: {'model': 'GBC', 'max_depth': 5, 'criterion': 'friedman_mse', 'min_impurity_decrease': 0.056547346036272116, 'min_samples_leaf': 14}\n",
      "param: {'model': 'RFC', 'max_depth': 6, 'criterion': 'gini', 'min_impurity_decrease': 0.09755050133807097, 'min_samples_leaf': 0.05224587326248477}\n",
      "param: {'model': 'RFC', 'max_depth': 3, 'criterion': 'entropy', 'min_impurity_decrease': 0.02119514875634495, 'min_samples_leaf': 0.018377483337455192}\n",
      "param: {'model': 'RFC', 'max_depth': 7, 'criterion': 'entropy', 'min_impurity_decrease': 0.0014944170828121717, 'min_samples_leaf': 0.006798413667999892}\n",
      "param: {'model': 'GBC', 'max_depth': 5, 'criterion': 'friedman_mse', 'min_impurity_decrease': 0.05541465658288652, 'min_samples_leaf': 0.05093716801599}\n",
      "\n",
      "\n",
      "\n",
      "GEN 15:\n",
      "param: {'model': 'RFC', 'max_depth': 9, 'criterion': 'entropy', 'min_impurity_decrease': 0.057683904910041994, 'min_samples_leaf': 0.01608422901225005}\n",
      "param: {'model': 'RFC', 'max_depth': 4, 'criterion': 'entropy', 'min_impurity_decrease': 0.01707546244232181, 'min_samples_leaf': 0.004424922620278271}\n",
      "param: {'model': 'GBC', 'max_depth': 9, 'criterion': 'friedman_mse', 'min_impurity_decrease': 0.05219501730361311, 'min_samples_leaf': 7}\n",
      "param: {'model': 'RFC', 'max_depth': 8, 'criterion': 'gini', 'min_impurity_decrease': 0.027862851317046113, 'min_samples_leaf': 0.016877170252455987}\n",
      "param: {'model': 'RFC', 'max_depth': 4, 'criterion': 'gini', 'min_impurity_decrease': 0.05647495948462561, 'min_samples_leaf': 7}\n",
      "param: {'model': 'GBC', 'max_depth': 10, 'criterion': 'mae', 'min_impurity_decrease': 0.04919267044859673, 'min_samples_leaf': 0.011467589505943999}\n"
     ]
    },
    {
     "name": "stderr",
     "output_type": "stream",
     "text": [
      "C:\\Users\\Asus\\anaconda3\\lib\\site-packages\\sklearn\\ensemble\\_gb.py:1118: FutureWarning: criterion='mae' was deprecated in version 0.24 and will be removed in version 1.1 (renaming of 0.26). Use criterion='friedman_mse' or 'mse' instead, as trees should use a least-square criterion in Gradient Boosting.\n",
      "  warnings.warn(\"criterion='mae' was deprecated in version 0.24 and \"\n"
     ]
    },
    {
     "name": "stdout",
     "output_type": "stream",
     "text": [
      "param: {'model': 'RFC', 'max_depth': 4, 'criterion': 'gini', 'min_impurity_decrease': 0.08290122579125486, 'min_samples_leaf': 4}\n",
      "param: {'model': 'GBC', 'max_depth': 6, 'criterion': 'mae', 'min_impurity_decrease': 0.07077521939788214, 'min_samples_leaf': 13}\n"
     ]
    },
    {
     "name": "stderr",
     "output_type": "stream",
     "text": [
      "C:\\Users\\Asus\\anaconda3\\lib\\site-packages\\sklearn\\ensemble\\_gb.py:1118: FutureWarning: criterion='mae' was deprecated in version 0.24 and will be removed in version 1.1 (renaming of 0.26). Use criterion='friedman_mse' or 'mse' instead, as trees should use a least-square criterion in Gradient Boosting.\n",
      "  warnings.warn(\"criterion='mae' was deprecated in version 0.24 and \"\n"
     ]
    },
    {
     "name": "stdout",
     "output_type": "stream",
     "text": [
      "param: {'model': 'RFC', 'max_depth': 1, 'criterion': 'gini', 'min_impurity_decrease': 0.0946643463226973, 'min_samples_leaf': 16}\n",
      "param: {'model': 'GBC', 'max_depth': 1, 'criterion': 'friedman_mse', 'min_impurity_decrease': 0.09246077384498719, 'min_samples_leaf': 0.03147622785230351}\n",
      "param: {'model': 'RFC', 'max_depth': 9, 'criterion': 'gini', 'min_impurity_decrease': 0.09632786013101348, 'min_samples_leaf': 16}\n",
      "param: {'model': 'GBC', 'max_depth': 9, 'criterion': 'friedman_mse', 'min_impurity_decrease': 0.021228968644600377, 'min_samples_leaf': 7}\n",
      "param: {'model': 'RFC', 'max_depth': 1, 'criterion': 'gini', 'min_impurity_decrease': 0.038830330985473324, 'min_samples_leaf': 0.07353740897297412}\n",
      "param: {'model': 'RFC', 'max_depth': 9, 'criterion': 'gini', 'min_impurity_decrease': 0.0962842579160121, 'min_samples_leaf': 0.0031787400612974027}\n",
      "param: {'model': 'GBC', 'max_depth': 6, 'criterion': 'friedman_mse', 'min_impurity_decrease': 0.016773817764375164, 'min_samples_leaf': 0.039932399651673854}\n",
      "param: {'model': 'GBC', 'max_depth': 7, 'criterion': 'friedman_mse', 'min_impurity_decrease': 0.05143461854586331, 'min_samples_leaf': 0.05736607155047855}\n",
      "param: {'model': 'RFC', 'max_depth': 2, 'criterion': 'gini', 'min_impurity_decrease': 0.0454783118815407, 'min_samples_leaf': 0.039181579397805144}\n",
      "param: {'model': 'RFC', 'max_depth': 7, 'criterion': 'gini', 'min_impurity_decrease': 0.0003536494431689907, 'min_samples_leaf': 2}\n",
      "param: {'model': 'RFC', 'max_depth': 10, 'criterion': 'entropy', 'min_impurity_decrease': 0.018633648606333854, 'min_samples_leaf': 6}\n",
      "param: {'model': 'GBC', 'max_depth': 4, 'criterion': 'friedman_mse', 'min_impurity_decrease': 0.05755336898201778, 'min_samples_leaf': 2}\n",
      "param: {'model': 'RFC', 'max_depth': 1, 'criterion': 'gini', 'min_impurity_decrease': 0.054107883818277136, 'min_samples_leaf': 10}\n",
      "param: {'model': 'RFC', 'max_depth': 5, 'criterion': 'entropy', 'min_impurity_decrease': 0.09991507589114514, 'min_samples_leaf': 0.0011056411477826877}\n",
      "param: {'model': 'RFC', 'max_depth': 10, 'criterion': 'gini', 'min_impurity_decrease': 0.06915798799480037, 'min_samples_leaf': 15}\n",
      "param: {'model': 'GBC', 'max_depth': 3, 'criterion': 'friedman_mse', 'min_impurity_decrease': 0.01201465556245961, 'min_samples_leaf': 0.07548652814298254}\n",
      "param: {'model': 'GBC', 'max_depth': 8, 'criterion': 'mae', 'min_impurity_decrease': 0.04902371840550603, 'min_samples_leaf': 0.035449594036960165}\n"
     ]
    },
    {
     "name": "stderr",
     "output_type": "stream",
     "text": [
      "C:\\Users\\Asus\\anaconda3\\lib\\site-packages\\sklearn\\ensemble\\_gb.py:1118: FutureWarning: criterion='mae' was deprecated in version 0.24 and will be removed in version 1.1 (renaming of 0.26). Use criterion='friedman_mse' or 'mse' instead, as trees should use a least-square criterion in Gradient Boosting.\n",
      "  warnings.warn(\"criterion='mae' was deprecated in version 0.24 and \"\n"
     ]
    },
    {
     "name": "stdout",
     "output_type": "stream",
     "text": [
      "param: {'model': 'GBC', 'max_depth': 2, 'criterion': 'mae', 'min_impurity_decrease': 0.0673598421813924, 'min_samples_leaf': 0.07196544531342068}\n"
     ]
    },
    {
     "name": "stderr",
     "output_type": "stream",
     "text": [
      "C:\\Users\\Asus\\anaconda3\\lib\\site-packages\\sklearn\\ensemble\\_gb.py:1118: FutureWarning: criterion='mae' was deprecated in version 0.24 and will be removed in version 1.1 (renaming of 0.26). Use criterion='friedman_mse' or 'mse' instead, as trees should use a least-square criterion in Gradient Boosting.\n",
      "  warnings.warn(\"criterion='mae' was deprecated in version 0.24 and \"\n"
     ]
    },
    {
     "name": "stdout",
     "output_type": "stream",
     "text": [
      "param: {'model': 'GBC', 'max_depth': 6, 'criterion': 'mae', 'min_impurity_decrease': 0.030355228887999085, 'min_samples_leaf': 0.01985144706506049}\n"
     ]
    },
    {
     "name": "stderr",
     "output_type": "stream",
     "text": [
      "C:\\Users\\Asus\\anaconda3\\lib\\site-packages\\sklearn\\ensemble\\_gb.py:1118: FutureWarning: criterion='mae' was deprecated in version 0.24 and will be removed in version 1.1 (renaming of 0.26). Use criterion='friedman_mse' or 'mse' instead, as trees should use a least-square criterion in Gradient Boosting.\n",
      "  warnings.warn(\"criterion='mae' was deprecated in version 0.24 and \"\n"
     ]
    },
    {
     "name": "stdout",
     "output_type": "stream",
     "text": [
      "param: {'model': 'GBC', 'max_depth': 1, 'criterion': 'friedman_mse', 'min_impurity_decrease': 0.019112375418095785, 'min_samples_leaf': 7}\n",
      "param: {'model': 'GBC', 'max_depth': 6, 'criterion': 'mae', 'min_impurity_decrease': 0.0628903970504745, 'min_samples_leaf': 19}\n"
     ]
    },
    {
     "name": "stderr",
     "output_type": "stream",
     "text": [
      "C:\\Users\\Asus\\anaconda3\\lib\\site-packages\\sklearn\\ensemble\\_gb.py:1118: FutureWarning: criterion='mae' was deprecated in version 0.24 and will be removed in version 1.1 (renaming of 0.26). Use criterion='friedman_mse' or 'mse' instead, as trees should use a least-square criterion in Gradient Boosting.\n",
      "  warnings.warn(\"criterion='mae' was deprecated in version 0.24 and \"\n"
     ]
    },
    {
     "name": "stdout",
     "output_type": "stream",
     "text": [
      "param: {'model': 'GBC', 'max_depth': 4, 'criterion': 'mae', 'min_impurity_decrease': 0.05705064154054794, 'min_samples_leaf': 0.02633357533391615}\n"
     ]
    },
    {
     "name": "stderr",
     "output_type": "stream",
     "text": [
      "C:\\Users\\Asus\\anaconda3\\lib\\site-packages\\sklearn\\ensemble\\_gb.py:1118: FutureWarning: criterion='mae' was deprecated in version 0.24 and will be removed in version 1.1 (renaming of 0.26). Use criterion='friedman_mse' or 'mse' instead, as trees should use a least-square criterion in Gradient Boosting.\n",
      "  warnings.warn(\"criterion='mae' was deprecated in version 0.24 and \"\n"
     ]
    },
    {
     "name": "stdout",
     "output_type": "stream",
     "text": [
      "param: {'model': 'RFC', 'max_depth': 1, 'criterion': 'entropy', 'min_impurity_decrease': 0.04925710895219957, 'min_samples_leaf': 0.022292731027495006}\n",
      "param: {'model': 'GBC', 'max_depth': 6, 'criterion': 'mae', 'min_impurity_decrease': 0.06987612242843536, 'min_samples_leaf': 6}\n"
     ]
    },
    {
     "name": "stderr",
     "output_type": "stream",
     "text": [
      "C:\\Users\\Asus\\anaconda3\\lib\\site-packages\\sklearn\\ensemble\\_gb.py:1118: FutureWarning: criterion='mae' was deprecated in version 0.24 and will be removed in version 1.1 (renaming of 0.26). Use criterion='friedman_mse' or 'mse' instead, as trees should use a least-square criterion in Gradient Boosting.\n",
      "  warnings.warn(\"criterion='mae' was deprecated in version 0.24 and \"\n"
     ]
    },
    {
     "name": "stdout",
     "output_type": "stream",
     "text": [
      "param: {'model': 'RFC', 'max_depth': 6, 'criterion': 'gini', 'min_impurity_decrease': 0.06826257551126974, 'min_samples_leaf': 0.049922297910756384}\n",
      "param: {'model': 'RFC', 'max_depth': 5, 'criterion': 'gini', 'min_impurity_decrease': 0.06490589266803083, 'min_samples_leaf': 20}\n",
      "param: {'model': 'GBC', 'max_depth': 4, 'criterion': 'friedman_mse', 'min_impurity_decrease': 0.07073354713950614, 'min_samples_leaf': 8}\n",
      "param: {'model': 'GBC', 'max_depth': 4, 'criterion': 'friedman_mse', 'min_impurity_decrease': 0.019568974286528318, 'min_samples_leaf': 0.01564499988100626}\n",
      "param: {'model': 'RFC', 'max_depth': 7, 'criterion': 'gini', 'min_impurity_decrease': 0.0777670594625107, 'min_samples_leaf': 0.06719941953324583}\n",
      "param: {'model': 'GBC', 'max_depth': 10, 'criterion': 'mae', 'min_impurity_decrease': 0.07081910269406522, 'min_samples_leaf': 0.08316532216199404}\n"
     ]
    },
    {
     "name": "stderr",
     "output_type": "stream",
     "text": [
      "C:\\Users\\Asus\\anaconda3\\lib\\site-packages\\sklearn\\ensemble\\_gb.py:1118: FutureWarning: criterion='mae' was deprecated in version 0.24 and will be removed in version 1.1 (renaming of 0.26). Use criterion='friedman_mse' or 'mse' instead, as trees should use a least-square criterion in Gradient Boosting.\n",
      "  warnings.warn(\"criterion='mae' was deprecated in version 0.24 and \"\n"
     ]
    },
    {
     "name": "stdout",
     "output_type": "stream",
     "text": [
      "param: {'model': 'RFC', 'max_depth': 2, 'criterion': 'entropy', 'min_impurity_decrease': 0.01251206646740174, 'min_samples_leaf': 3}\n",
      "param: {'model': 'RFC', 'max_depth': 1, 'criterion': 'gini', 'min_impurity_decrease': 0.009292911468684596, 'min_samples_leaf': 4}\n",
      "param: {'model': 'GBC', 'max_depth': 4, 'criterion': 'mae', 'min_impurity_decrease': 0.07895480399966587, 'min_samples_leaf': 0.0978762692589953}\n"
     ]
    },
    {
     "name": "stderr",
     "output_type": "stream",
     "text": [
      "C:\\Users\\Asus\\anaconda3\\lib\\site-packages\\sklearn\\ensemble\\_gb.py:1118: FutureWarning: criterion='mae' was deprecated in version 0.24 and will be removed in version 1.1 (renaming of 0.26). Use criterion='friedman_mse' or 'mse' instead, as trees should use a least-square criterion in Gradient Boosting.\n",
      "  warnings.warn(\"criterion='mae' was deprecated in version 0.24 and \"\n"
     ]
    },
    {
     "name": "stdout",
     "output_type": "stream",
     "text": [
      "param: {'model': 'GBC', 'max_depth': 2, 'criterion': 'friedman_mse', 'min_impurity_decrease': 0.06427360042654827, 'min_samples_leaf': 0.09950412979662249}\n",
      "param: {'model': 'RFC', 'max_depth': 3, 'criterion': 'gini', 'min_impurity_decrease': 0.02219618107425513, 'min_samples_leaf': 0.0816112225184849}\n",
      "param: {'model': 'GBC', 'max_depth': 5, 'criterion': 'mae', 'min_impurity_decrease': 0.06298384165347026, 'min_samples_leaf': 9}\n"
     ]
    },
    {
     "name": "stderr",
     "output_type": "stream",
     "text": [
      "C:\\Users\\Asus\\anaconda3\\lib\\site-packages\\sklearn\\ensemble\\_gb.py:1118: FutureWarning: criterion='mae' was deprecated in version 0.24 and will be removed in version 1.1 (renaming of 0.26). Use criterion='friedman_mse' or 'mse' instead, as trees should use a least-square criterion in Gradient Boosting.\n",
      "  warnings.warn(\"criterion='mae' was deprecated in version 0.24 and \"\n"
     ]
    },
    {
     "name": "stdout",
     "output_type": "stream",
     "text": [
      "param: {'model': 'GBC', 'max_depth': 4, 'criterion': 'friedman_mse', 'min_impurity_decrease': 0.026133759414107595, 'min_samples_leaf': 4}\n",
      "param: {'model': 'RFC', 'max_depth': 9, 'criterion': 'entropy', 'min_impurity_decrease': 0.02097860446224927, 'min_samples_leaf': 4}\n",
      "param: {'model': 'RFC', 'max_depth': 3, 'criterion': 'entropy', 'min_impurity_decrease': 0.09892796229796139, 'min_samples_leaf': 0.030869228314213015}\n",
      "param: {'model': 'GBC', 'max_depth': 5, 'criterion': 'friedman_mse', 'min_impurity_decrease': 0.09442983753581577, 'min_samples_leaf': 14}\n",
      "param: {'model': 'RFC', 'max_depth': 4, 'criterion': 'entropy', 'min_impurity_decrease': 0.011606167703237625, 'min_samples_leaf': 0.025550246652653985}\n",
      "param: {'model': 'RFC', 'max_depth': 6, 'criterion': 'entropy', 'min_impurity_decrease': 0.010207250741183038, 'min_samples_leaf': 0.06909745844893785}\n",
      "param: {'model': 'RFC', 'max_depth': 10, 'criterion': 'entropy', 'min_impurity_decrease': 0.08376068377718951, 'min_samples_leaf': 4}\n",
      "param: {'model': 'GBC', 'max_depth': 6, 'criterion': 'friedman_mse', 'min_impurity_decrease': 0.058088813418717467, 'min_samples_leaf': 9}\n",
      "param: {'model': 'RFC', 'max_depth': 1, 'criterion': 'entropy', 'min_impurity_decrease': 0.08877814343421772, 'min_samples_leaf': 3}\n",
      "param: {'model': 'GBC', 'max_depth': 9, 'criterion': 'mae', 'min_impurity_decrease': 0.0495078970033548, 'min_samples_leaf': 0.004190422683675555}\n"
     ]
    },
    {
     "name": "stderr",
     "output_type": "stream",
     "text": [
      "C:\\Users\\Asus\\anaconda3\\lib\\site-packages\\sklearn\\ensemble\\_gb.py:1118: FutureWarning: criterion='mae' was deprecated in version 0.24 and will be removed in version 1.1 (renaming of 0.26). Use criterion='friedman_mse' or 'mse' instead, as trees should use a least-square criterion in Gradient Boosting.\n",
      "  warnings.warn(\"criterion='mae' was deprecated in version 0.24 and \"\n"
     ]
    },
    {
     "name": "stdout",
     "output_type": "stream",
     "text": [
      "param: {'model': 'GBC', 'max_depth': 1, 'criterion': 'mae', 'min_impurity_decrease': 0.0833118942276663, 'min_samples_leaf': 0.038698325702640424}\n"
     ]
    },
    {
     "name": "stderr",
     "output_type": "stream",
     "text": [
      "C:\\Users\\Asus\\anaconda3\\lib\\site-packages\\sklearn\\ensemble\\_gb.py:1118: FutureWarning: criterion='mae' was deprecated in version 0.24 and will be removed in version 1.1 (renaming of 0.26). Use criterion='friedman_mse' or 'mse' instead, as trees should use a least-square criterion in Gradient Boosting.\n",
      "  warnings.warn(\"criterion='mae' was deprecated in version 0.24 and \"\n"
     ]
    },
    {
     "name": "stdout",
     "output_type": "stream",
     "text": [
      "param: {'model': 'GBC', 'max_depth': 10, 'criterion': 'friedman_mse', 'min_impurity_decrease': 0.05123933184054752, 'min_samples_leaf': 19}\n",
      "param: {'model': 'GBC', 'max_depth': 4, 'criterion': 'friedman_mse', 'min_impurity_decrease': 0.0005013353060594361, 'min_samples_leaf': 13}\n",
      "param: {'model': 'RFC', 'max_depth': 5, 'criterion': 'gini', 'min_impurity_decrease': 0.04974744380006206, 'min_samples_leaf': 8}\n",
      "param: {'model': 'RFC', 'max_depth': 3, 'criterion': 'gini', 'min_impurity_decrease': 0.09719961890126225, 'min_samples_leaf': 5}\n",
      "param: {'model': 'GBC', 'max_depth': 7, 'criterion': 'friedman_mse', 'min_impurity_decrease': 0.0061993519400266985, 'min_samples_leaf': 0.035206706356674576}\n",
      "param: {'model': 'RFC', 'max_depth': 8, 'criterion': 'entropy', 'min_impurity_decrease': 0.019023652162754458, 'min_samples_leaf': 20}\n",
      "param: {'model': 'RFC', 'max_depth': 6, 'criterion': 'gini', 'min_impurity_decrease': 0.016032704907254093, 'min_samples_leaf': 0.023309468007608157}\n",
      "param: {'model': 'RFC', 'max_depth': 3, 'criterion': 'entropy', 'min_impurity_decrease': 0.06268034676097749, 'min_samples_leaf': 15}\n",
      "param: {'model': 'RFC', 'max_depth': 10, 'criterion': 'gini', 'min_impurity_decrease': 0.020707634389461438, 'min_samples_leaf': 2}\n",
      "param: {'model': 'GBC', 'max_depth': 2, 'criterion': 'friedman_mse', 'min_impurity_decrease': 0.054388651202651406, 'min_samples_leaf': 0.0011850291424922888}\n",
      "param: {'model': 'GBC', 'max_depth': 2, 'criterion': 'mae', 'min_impurity_decrease': 0.0469570559358989, 'min_samples_leaf': 0.022613544654531782}\n"
     ]
    },
    {
     "name": "stderr",
     "output_type": "stream",
     "text": [
      "C:\\Users\\Asus\\anaconda3\\lib\\site-packages\\sklearn\\ensemble\\_gb.py:1118: FutureWarning: criterion='mae' was deprecated in version 0.24 and will be removed in version 1.1 (renaming of 0.26). Use criterion='friedman_mse' or 'mse' instead, as trees should use a least-square criterion in Gradient Boosting.\n",
      "  warnings.warn(\"criterion='mae' was deprecated in version 0.24 and \"\n"
     ]
    },
    {
     "name": "stdout",
     "output_type": "stream",
     "text": [
      "param: {'model': 'RFC', 'max_depth': 2, 'criterion': 'entropy', 'min_impurity_decrease': 0.06735219582343223, 'min_samples_leaf': 0.08356040907827827}\n",
      "param: {'model': 'GBC', 'max_depth': 6, 'criterion': 'mae', 'min_impurity_decrease': 0.0958480512803018, 'min_samples_leaf': 0.019322894773290113}\n"
     ]
    },
    {
     "name": "stderr",
     "output_type": "stream",
     "text": [
      "C:\\Users\\Asus\\anaconda3\\lib\\site-packages\\sklearn\\ensemble\\_gb.py:1118: FutureWarning: criterion='mae' was deprecated in version 0.24 and will be removed in version 1.1 (renaming of 0.26). Use criterion='friedman_mse' or 'mse' instead, as trees should use a least-square criterion in Gradient Boosting.\n",
      "  warnings.warn(\"criterion='mae' was deprecated in version 0.24 and \"\n"
     ]
    },
    {
     "name": "stdout",
     "output_type": "stream",
     "text": [
      "param: {'model': 'RFC', 'max_depth': 8, 'criterion': 'gini', 'min_impurity_decrease': 0.04574491884465796, 'min_samples_leaf': 1}\n",
      "param: {'model': 'GBC', 'max_depth': 8, 'criterion': 'mae', 'min_impurity_decrease': 0.09340182515159658, 'min_samples_leaf': 0.047313031682539364}\n"
     ]
    },
    {
     "name": "stderr",
     "output_type": "stream",
     "text": [
      "C:\\Users\\Asus\\anaconda3\\lib\\site-packages\\sklearn\\ensemble\\_gb.py:1118: FutureWarning: criterion='mae' was deprecated in version 0.24 and will be removed in version 1.1 (renaming of 0.26). Use criterion='friedman_mse' or 'mse' instead, as trees should use a least-square criterion in Gradient Boosting.\n",
      "  warnings.warn(\"criterion='mae' was deprecated in version 0.24 and \"\n"
     ]
    },
    {
     "name": "stdout",
     "output_type": "stream",
     "text": [
      "param: {'model': 'GBC', 'max_depth': 5, 'criterion': 'mae', 'min_impurity_decrease': 0.08205758823870286, 'min_samples_leaf': 20}\n"
     ]
    },
    {
     "name": "stderr",
     "output_type": "stream",
     "text": [
      "C:\\Users\\Asus\\anaconda3\\lib\\site-packages\\sklearn\\ensemble\\_gb.py:1118: FutureWarning: criterion='mae' was deprecated in version 0.24 and will be removed in version 1.1 (renaming of 0.26). Use criterion='friedman_mse' or 'mse' instead, as trees should use a least-square criterion in Gradient Boosting.\n",
      "  warnings.warn(\"criterion='mae' was deprecated in version 0.24 and \"\n"
     ]
    },
    {
     "name": "stdout",
     "output_type": "stream",
     "text": [
      "param: {'model': 'GBC', 'max_depth': 9, 'criterion': 'friedman_mse', 'min_impurity_decrease': 0.02261780124492707, 'min_samples_leaf': 0.07728650888416103}\n",
      "param: {'model': 'GBC', 'max_depth': 2, 'criterion': 'mae', 'min_impurity_decrease': 0.03256066606416791, 'min_samples_leaf': 0.03478996402438396}\n"
     ]
    },
    {
     "name": "stderr",
     "output_type": "stream",
     "text": [
      "C:\\Users\\Asus\\anaconda3\\lib\\site-packages\\sklearn\\ensemble\\_gb.py:1118: FutureWarning: criterion='mae' was deprecated in version 0.24 and will be removed in version 1.1 (renaming of 0.26). Use criterion='friedman_mse' or 'mse' instead, as trees should use a least-square criterion in Gradient Boosting.\n",
      "  warnings.warn(\"criterion='mae' was deprecated in version 0.24 and \"\n"
     ]
    },
    {
     "name": "stdout",
     "output_type": "stream",
     "text": [
      "param: {'model': 'RFC', 'max_depth': 9, 'criterion': 'entropy', 'min_impurity_decrease': 0.07328958166672311, 'min_samples_leaf': 11}\n",
      "param: {'model': 'GBC', 'max_depth': 5, 'criterion': 'friedman_mse', 'min_impurity_decrease': 0.04351013442657566, 'min_samples_leaf': 0.03358411806197074}\n",
      "param: {'model': 'GBC', 'max_depth': 9, 'criterion': 'mae', 'min_impurity_decrease': 0.05221239730160095, 'min_samples_leaf': 8}\n"
     ]
    },
    {
     "name": "stderr",
     "output_type": "stream",
     "text": [
      "C:\\Users\\Asus\\anaconda3\\lib\\site-packages\\sklearn\\ensemble\\_gb.py:1118: FutureWarning: criterion='mae' was deprecated in version 0.24 and will be removed in version 1.1 (renaming of 0.26). Use criterion='friedman_mse' or 'mse' instead, as trees should use a least-square criterion in Gradient Boosting.\n",
      "  warnings.warn(\"criterion='mae' was deprecated in version 0.24 and \"\n"
     ]
    },
    {
     "name": "stdout",
     "output_type": "stream",
     "text": [
      "param: {'model': 'GBC', 'max_depth': 4, 'criterion': 'mae', 'min_impurity_decrease': 0.041575958950806846, 'min_samples_leaf': 4}\n"
     ]
    },
    {
     "name": "stderr",
     "output_type": "stream",
     "text": [
      "C:\\Users\\Asus\\anaconda3\\lib\\site-packages\\sklearn\\ensemble\\_gb.py:1118: FutureWarning: criterion='mae' was deprecated in version 0.24 and will be removed in version 1.1 (renaming of 0.26). Use criterion='friedman_mse' or 'mse' instead, as trees should use a least-square criterion in Gradient Boosting.\n",
      "  warnings.warn(\"criterion='mae' was deprecated in version 0.24 and \"\n"
     ]
    },
    {
     "name": "stdout",
     "output_type": "stream",
     "text": [
      "param: {'model': 'RFC', 'max_depth': 4, 'criterion': 'gini', 'min_impurity_decrease': 0.04780375552176014, 'min_samples_leaf': 16}\n",
      "param: {'model': 'RFC', 'max_depth': 2, 'criterion': 'gini', 'min_impurity_decrease': 0.03569503079367724, 'min_samples_leaf': 0.009087960595831047}\n",
      "param: {'model': 'GBC', 'max_depth': 4, 'criterion': 'mae', 'min_impurity_decrease': 0.030526110006200913, 'min_samples_leaf': 6}\n"
     ]
    },
    {
     "name": "stderr",
     "output_type": "stream",
     "text": [
      "C:\\Users\\Asus\\anaconda3\\lib\\site-packages\\sklearn\\ensemble\\_gb.py:1118: FutureWarning: criterion='mae' was deprecated in version 0.24 and will be removed in version 1.1 (renaming of 0.26). Use criterion='friedman_mse' or 'mse' instead, as trees should use a least-square criterion in Gradient Boosting.\n",
      "  warnings.warn(\"criterion='mae' was deprecated in version 0.24 and \"\n"
     ]
    },
    {
     "name": "stdout",
     "output_type": "stream",
     "text": [
      "param: {'model': 'GBC', 'max_depth': 4, 'criterion': 'friedman_mse', 'min_impurity_decrease': 0.030724752820717093, 'min_samples_leaf': 5}\n",
      "param: {'model': 'GBC', 'max_depth': 8, 'criterion': 'mae', 'min_impurity_decrease': 0.030502961090530866, 'min_samples_leaf': 0.06109511233248597}\n"
     ]
    },
    {
     "name": "stderr",
     "output_type": "stream",
     "text": [
      "C:\\Users\\Asus\\anaconda3\\lib\\site-packages\\sklearn\\ensemble\\_gb.py:1118: FutureWarning: criterion='mae' was deprecated in version 0.24 and will be removed in version 1.1 (renaming of 0.26). Use criterion='friedman_mse' or 'mse' instead, as trees should use a least-square criterion in Gradient Boosting.\n",
      "  warnings.warn(\"criterion='mae' was deprecated in version 0.24 and \"\n"
     ]
    },
    {
     "name": "stdout",
     "output_type": "stream",
     "text": [
      "param: {'model': 'GBC', 'max_depth': 10, 'criterion': 'friedman_mse', 'min_impurity_decrease': 0.04636105977688722, 'min_samples_leaf': 0.00188960754119476}\n",
      "param: {'model': 'GBC', 'max_depth': 6, 'criterion': 'friedman_mse', 'min_impurity_decrease': 0.09321567002200175, 'min_samples_leaf': 0.019258795397482008}\n",
      "param: {'model': 'RFC', 'max_depth': 9, 'criterion': 'gini', 'min_impurity_decrease': 0.015641161759620825, 'min_samples_leaf': 0.07441642515090571}\n",
      "param: {'model': 'GBC', 'max_depth': 10, 'criterion': 'friedman_mse', 'min_impurity_decrease': 0.042868183131882384, 'min_samples_leaf': 0.05119986179656407}\n",
      "param: {'model': 'RFC', 'max_depth': 1, 'criterion': 'entropy', 'min_impurity_decrease': 0.03077843896143364, 'min_samples_leaf': 0.003002417957694703}\n",
      "param: {'model': 'RFC', 'max_depth': 2, 'criterion': 'gini', 'min_impurity_decrease': 0.06292971874586129, 'min_samples_leaf': 0.018969997013846218}\n",
      "param: {'model': 'GBC', 'max_depth': 10, 'criterion': 'mae', 'min_impurity_decrease': 0.0046828553853374925, 'min_samples_leaf': 10}\n"
     ]
    },
    {
     "name": "stderr",
     "output_type": "stream",
     "text": [
      "C:\\Users\\Asus\\anaconda3\\lib\\site-packages\\sklearn\\ensemble\\_gb.py:1118: FutureWarning: criterion='mae' was deprecated in version 0.24 and will be removed in version 1.1 (renaming of 0.26). Use criterion='friedman_mse' or 'mse' instead, as trees should use a least-square criterion in Gradient Boosting.\n",
      "  warnings.warn(\"criterion='mae' was deprecated in version 0.24 and \"\n"
     ]
    },
    {
     "name": "stdout",
     "output_type": "stream",
     "text": [
      "param: {'model': 'GBC', 'max_depth': 4, 'criterion': 'mae', 'min_impurity_decrease': 0.08254712851454084, 'min_samples_leaf': 0.07077374700232891}\n"
     ]
    },
    {
     "name": "stderr",
     "output_type": "stream",
     "text": [
      "C:\\Users\\Asus\\anaconda3\\lib\\site-packages\\sklearn\\ensemble\\_gb.py:1118: FutureWarning: criterion='mae' was deprecated in version 0.24 and will be removed in version 1.1 (renaming of 0.26). Use criterion='friedman_mse' or 'mse' instead, as trees should use a least-square criterion in Gradient Boosting.\n",
      "  warnings.warn(\"criterion='mae' was deprecated in version 0.24 and \"\n"
     ]
    },
    {
     "name": "stdout",
     "output_type": "stream",
     "text": [
      "\n",
      "\n",
      "\n",
      "GEN 16:\n",
      "param: {'model': 'RFC', 'max_depth': 5, 'criterion': 'gini', 'min_impurity_decrease': 0.004251888987318042, 'min_samples_leaf': 0.08515481873130258}\n",
      "param: {'model': 'GBC', 'max_depth': 5, 'criterion': 'friedman_mse', 'min_impurity_decrease': 0.0768165164054367, 'min_samples_leaf': 16}\n",
      "param: {'model': 'RFC', 'max_depth': 10, 'criterion': 'gini', 'min_impurity_decrease': 0.0968338473655661, 'min_samples_leaf': 3}\n",
      "param: {'model': 'RFC', 'max_depth': 4, 'criterion': 'gini', 'min_impurity_decrease': 0.0565897342899946, 'min_samples_leaf': 0.027059499930093777}\n",
      "param: {'model': 'GBC', 'max_depth': 7, 'criterion': 'friedman_mse', 'min_impurity_decrease': 0.06254294714114106, 'min_samples_leaf': 11}\n",
      "param: {'model': 'RFC', 'max_depth': 8, 'criterion': 'entropy', 'min_impurity_decrease': 0.03089736215059048, 'min_samples_leaf': 8}\n",
      "param: {'model': 'RFC', 'max_depth': 10, 'criterion': 'entropy', 'min_impurity_decrease': 0.03577754599104703, 'min_samples_leaf': 6}\n",
      "param: {'model': 'RFC', 'max_depth': 2, 'criterion': 'entropy', 'min_impurity_decrease': 0.030810628600522992, 'min_samples_leaf': 1}\n",
      "param: {'model': 'RFC', 'max_depth': 3, 'criterion': 'entropy', 'min_impurity_decrease': 0.05029206078104944, 'min_samples_leaf': 0.060176024419846305}\n",
      "param: {'model': 'RFC', 'max_depth': 10, 'criterion': 'gini', 'min_impurity_decrease': 0.08616939704332646, 'min_samples_leaf': 15}\n",
      "param: {'model': 'GBC', 'max_depth': 2, 'criterion': 'mae', 'min_impurity_decrease': 0.05841240110089897, 'min_samples_leaf': 0.038516493845259604}\n"
     ]
    },
    {
     "name": "stderr",
     "output_type": "stream",
     "text": [
      "C:\\Users\\Asus\\anaconda3\\lib\\site-packages\\sklearn\\ensemble\\_gb.py:1118: FutureWarning: criterion='mae' was deprecated in version 0.24 and will be removed in version 1.1 (renaming of 0.26). Use criterion='friedman_mse' or 'mse' instead, as trees should use a least-square criterion in Gradient Boosting.\n",
      "  warnings.warn(\"criterion='mae' was deprecated in version 0.24 and \"\n"
     ]
    },
    {
     "name": "stdout",
     "output_type": "stream",
     "text": [
      "param: {'model': 'GBC', 'max_depth': 7, 'criterion': 'friedman_mse', 'min_impurity_decrease': 0.033249409508193425, 'min_samples_leaf': 0.05482044114236033}\n",
      "param: {'model': 'GBC', 'max_depth': 9, 'criterion': 'friedman_mse', 'min_impurity_decrease': 0.08718523090209607, 'min_samples_leaf': 17}\n",
      "param: {'model': 'GBC', 'max_depth': 4, 'criterion': 'friedman_mse', 'min_impurity_decrease': 0.08822600746425144, 'min_samples_leaf': 17}\n",
      "param: {'model': 'RFC', 'max_depth': 2, 'criterion': 'entropy', 'min_impurity_decrease': 0.009540653372128883, 'min_samples_leaf': 19}\n",
      "param: {'model': 'RFC', 'max_depth': 5, 'criterion': 'entropy', 'min_impurity_decrease': 0.004262492155342512, 'min_samples_leaf': 0.027306657111627396}\n",
      "param: {'model': 'RFC', 'max_depth': 7, 'criterion': 'entropy', 'min_impurity_decrease': 0.019701751582164962, 'min_samples_leaf': 18}\n",
      "param: {'model': 'GBC', 'max_depth': 9, 'criterion': 'friedman_mse', 'min_impurity_decrease': 0.0998943963510863, 'min_samples_leaf': 0.029863444479672263}\n",
      "param: {'model': 'RFC', 'max_depth': 1, 'criterion': 'gini', 'min_impurity_decrease': 0.09762746272996817, 'min_samples_leaf': 15}\n",
      "param: {'model': 'GBC', 'max_depth': 8, 'criterion': 'friedman_mse', 'min_impurity_decrease': 0.04797244251102063, 'min_samples_leaf': 14}\n",
      "param: {'model': 'RFC', 'max_depth': 10, 'criterion': 'entropy', 'min_impurity_decrease': 0.08550017470511882, 'min_samples_leaf': 13}\n",
      "param: {'model': 'GBC', 'max_depth': 9, 'criterion': 'mae', 'min_impurity_decrease': 0.06469287030738806, 'min_samples_leaf': 7}\n"
     ]
    },
    {
     "name": "stderr",
     "output_type": "stream",
     "text": [
      "C:\\Users\\Asus\\anaconda3\\lib\\site-packages\\sklearn\\ensemble\\_gb.py:1118: FutureWarning: criterion='mae' was deprecated in version 0.24 and will be removed in version 1.1 (renaming of 0.26). Use criterion='friedman_mse' or 'mse' instead, as trees should use a least-square criterion in Gradient Boosting.\n",
      "  warnings.warn(\"criterion='mae' was deprecated in version 0.24 and \"\n"
     ]
    },
    {
     "name": "stdout",
     "output_type": "stream",
     "text": [
      "param: {'model': 'RFC', 'max_depth': 4, 'criterion': 'entropy', 'min_impurity_decrease': 0.01600286522918005, 'min_samples_leaf': 0.06455509585535332}\n",
      "param: {'model': 'GBC', 'max_depth': 5, 'criterion': 'friedman_mse', 'min_impurity_decrease': 0.03614108752708443, 'min_samples_leaf': 9}\n",
      "param: {'model': 'GBC', 'max_depth': 6, 'criterion': 'friedman_mse', 'min_impurity_decrease': 0.024594607084186936, 'min_samples_leaf': 1}\n",
      "param: {'model': 'RFC', 'max_depth': 8, 'criterion': 'entropy', 'min_impurity_decrease': 0.05829777404831862, 'min_samples_leaf': 0.011154638638472603}\n",
      "param: {'model': 'GBC', 'max_depth': 7, 'criterion': 'friedman_mse', 'min_impurity_decrease': 0.053616169063557095, 'min_samples_leaf': 12}\n",
      "param: {'model': 'RFC', 'max_depth': 8, 'criterion': 'entropy', 'min_impurity_decrease': 0.0683428705934428, 'min_samples_leaf': 7}\n",
      "param: {'model': 'RFC', 'max_depth': 4, 'criterion': 'gini', 'min_impurity_decrease': 0.07369291174103093, 'min_samples_leaf': 4}\n",
      "param: {'model': 'GBC', 'max_depth': 9, 'criterion': 'friedman_mse', 'min_impurity_decrease': 0.08668342484974417, 'min_samples_leaf': 19}\n",
      "param: {'model': 'GBC', 'max_depth': 1, 'criterion': 'friedman_mse', 'min_impurity_decrease': 0.09053535441252461, 'min_samples_leaf': 16}\n",
      "param: {'model': 'RFC', 'max_depth': 4, 'criterion': 'gini', 'min_impurity_decrease': 0.027426005618121897, 'min_samples_leaf': 18}\n",
      "param: {'model': 'RFC', 'max_depth': 9, 'criterion': 'gini', 'min_impurity_decrease': 0.07935371973571777, 'min_samples_leaf': 0.07472652024893192}\n",
      "param: {'model': 'GBC', 'max_depth': 2, 'criterion': 'friedman_mse', 'min_impurity_decrease': 0.053022104520009515, 'min_samples_leaf': 6}\n",
      "param: {'model': 'GBC', 'max_depth': 6, 'criterion': 'friedman_mse', 'min_impurity_decrease': 0.0005829098896443452, 'min_samples_leaf': 0.03723523398361047}\n",
      "param: {'model': 'GBC', 'max_depth': 1, 'criterion': 'friedman_mse', 'min_impurity_decrease': 0.03471592891611221, 'min_samples_leaf': 0.026793499308221603}\n",
      "param: {'model': 'GBC', 'max_depth': 7, 'criterion': 'mae', 'min_impurity_decrease': 0.061152257730470096, 'min_samples_leaf': 0.029498602812804066}\n"
     ]
    },
    {
     "name": "stderr",
     "output_type": "stream",
     "text": [
      "C:\\Users\\Asus\\anaconda3\\lib\\site-packages\\sklearn\\ensemble\\_gb.py:1118: FutureWarning: criterion='mae' was deprecated in version 0.24 and will be removed in version 1.1 (renaming of 0.26). Use criterion='friedman_mse' or 'mse' instead, as trees should use a least-square criterion in Gradient Boosting.\n",
      "  warnings.warn(\"criterion='mae' was deprecated in version 0.24 and \"\n"
     ]
    },
    {
     "name": "stdout",
     "output_type": "stream",
     "text": [
      "param: {'model': 'GBC', 'max_depth': 4, 'criterion': 'friedman_mse', 'min_impurity_decrease': 0.07814146062597062, 'min_samples_leaf': 5}\n",
      "param: {'model': 'GBC', 'max_depth': 8, 'criterion': 'friedman_mse', 'min_impurity_decrease': 0.03310674281398298, 'min_samples_leaf': 9}\n",
      "param: {'model': 'RFC', 'max_depth': 4, 'criterion': 'entropy', 'min_impurity_decrease': 0.09064684931234038, 'min_samples_leaf': 9}\n",
      "param: {'model': 'RFC', 'max_depth': 6, 'criterion': 'entropy', 'min_impurity_decrease': 0.08887518034114418, 'min_samples_leaf': 20}\n",
      "param: {'model': 'RFC', 'max_depth': 6, 'criterion': 'entropy', 'min_impurity_decrease': 0.05601100901100927, 'min_samples_leaf': 10}\n",
      "param: {'model': 'RFC', 'max_depth': 8, 'criterion': 'entropy', 'min_impurity_decrease': 0.05080013973511295, 'min_samples_leaf': 4}\n",
      "param: {'model': 'RFC', 'max_depth': 6, 'criterion': 'entropy', 'min_impurity_decrease': 0.09239806005643864, 'min_samples_leaf': 20}\n",
      "param: {'model': 'GBC', 'max_depth': 3, 'criterion': 'mae', 'min_impurity_decrease': 0.07623222703959512, 'min_samples_leaf': 12}\n"
     ]
    },
    {
     "name": "stderr",
     "output_type": "stream",
     "text": [
      "C:\\Users\\Asus\\anaconda3\\lib\\site-packages\\sklearn\\ensemble\\_gb.py:1118: FutureWarning: criterion='mae' was deprecated in version 0.24 and will be removed in version 1.1 (renaming of 0.26). Use criterion='friedman_mse' or 'mse' instead, as trees should use a least-square criterion in Gradient Boosting.\n",
      "  warnings.warn(\"criterion='mae' was deprecated in version 0.24 and \"\n"
     ]
    },
    {
     "name": "stdout",
     "output_type": "stream",
     "text": [
      "param: {'model': 'RFC', 'max_depth': 9, 'criterion': 'gini', 'min_impurity_decrease': 0.07049021659962419, 'min_samples_leaf': 18}\n",
      "param: {'model': 'RFC', 'max_depth': 1, 'criterion': 'gini', 'min_impurity_decrease': 0.053837049087925734, 'min_samples_leaf': 0.04863170742849994}\n",
      "param: {'model': 'RFC', 'max_depth': 4, 'criterion': 'entropy', 'min_impurity_decrease': 0.03948161054756759, 'min_samples_leaf': 0.08157914942703759}\n",
      "param: {'model': 'RFC', 'max_depth': 4, 'criterion': 'entropy', 'min_impurity_decrease': 0.05890769822852467, 'min_samples_leaf': 0.05775955497243353}\n",
      "param: {'model': 'RFC', 'max_depth': 6, 'criterion': 'gini', 'min_impurity_decrease': 0.05126517911266214, 'min_samples_leaf': 0.025343761038897496}\n",
      "param: {'model': 'RFC', 'max_depth': 5, 'criterion': 'gini', 'min_impurity_decrease': 0.016908873650288193, 'min_samples_leaf': 14}\n",
      "param: {'model': 'GBC', 'max_depth': 9, 'criterion': 'friedman_mse', 'min_impurity_decrease': 0.04112952064349068, 'min_samples_leaf': 2}\n",
      "param: {'model': 'GBC', 'max_depth': 5, 'criterion': 'friedman_mse', 'min_impurity_decrease': 0.07292532771768456, 'min_samples_leaf': 13}\n",
      "param: {'model': 'RFC', 'max_depth': 6, 'criterion': 'gini', 'min_impurity_decrease': 0.09447885750516782, 'min_samples_leaf': 0.028207223470589193}\n",
      "param: {'model': 'GBC', 'max_depth': 6, 'criterion': 'friedman_mse', 'min_impurity_decrease': 0.020593351967046425, 'min_samples_leaf': 8}\n",
      "param: {'model': 'RFC', 'max_depth': 3, 'criterion': 'entropy', 'min_impurity_decrease': 0.03123082460926028, 'min_samples_leaf': 2}\n",
      "param: {'model': 'RFC', 'max_depth': 4, 'criterion': 'entropy', 'min_impurity_decrease': 0.04758717120688464, 'min_samples_leaf': 0.05528049829843475}\n",
      "param: {'model': 'RFC', 'max_depth': 8, 'criterion': 'gini', 'min_impurity_decrease': 0.054670827370820387, 'min_samples_leaf': 0.05340115775197903}\n",
      "param: {'model': 'GBC', 'max_depth': 2, 'criterion': 'friedman_mse', 'min_impurity_decrease': 0.08987375035479958, 'min_samples_leaf': 5}\n",
      "param: {'model': 'RFC', 'max_depth': 7, 'criterion': 'gini', 'min_impurity_decrease': 0.013597809162398522, 'min_samples_leaf': 0.048824928262278744}\n",
      "param: {'model': 'RFC', 'max_depth': 8, 'criterion': 'gini', 'min_impurity_decrease': 0.033366590686815, 'min_samples_leaf': 0.06866793374521332}\n",
      "param: {'model': 'RFC', 'max_depth': 8, 'criterion': 'entropy', 'min_impurity_decrease': 0.09733385094101829, 'min_samples_leaf': 0.0028263549883632668}\n",
      "param: {'model': 'RFC', 'max_depth': 7, 'criterion': 'gini', 'min_impurity_decrease': 0.07920219855752869, 'min_samples_leaf': 15}\n",
      "param: {'model': 'RFC', 'max_depth': 5, 'criterion': 'gini', 'min_impurity_decrease': 0.056273423609949726, 'min_samples_leaf': 0.05497654679632734}\n",
      "param: {'model': 'GBC', 'max_depth': 6, 'criterion': 'friedman_mse', 'min_impurity_decrease': 0.0541908008091226, 'min_samples_leaf': 12}\n",
      "param: {'model': 'GBC', 'max_depth': 9, 'criterion': 'friedman_mse', 'min_impurity_decrease': 0.0226013114664677, 'min_samples_leaf': 0.06792363321230302}\n",
      "param: {'model': 'RFC', 'max_depth': 10, 'criterion': 'gini', 'min_impurity_decrease': 0.08741267409204183, 'min_samples_leaf': 19}\n",
      "param: {'model': 'GBC', 'max_depth': 5, 'criterion': 'mae', 'min_impurity_decrease': 0.030753279659309463, 'min_samples_leaf': 0.07045385299292128}\n"
     ]
    },
    {
     "name": "stderr",
     "output_type": "stream",
     "text": [
      "C:\\Users\\Asus\\anaconda3\\lib\\site-packages\\sklearn\\ensemble\\_gb.py:1118: FutureWarning: criterion='mae' was deprecated in version 0.24 and will be removed in version 1.1 (renaming of 0.26). Use criterion='friedman_mse' or 'mse' instead, as trees should use a least-square criterion in Gradient Boosting.\n",
      "  warnings.warn(\"criterion='mae' was deprecated in version 0.24 and \"\n"
     ]
    },
    {
     "name": "stdout",
     "output_type": "stream",
     "text": [
      "param: {'model': 'RFC', 'max_depth': 2, 'criterion': 'entropy', 'min_impurity_decrease': 0.01905777213103028, 'min_samples_leaf': 1}\n",
      "param: {'model': 'RFC', 'max_depth': 2, 'criterion': 'gini', 'min_impurity_decrease': 0.06712355385621945, 'min_samples_leaf': 17}\n",
      "param: {'model': 'GBC', 'max_depth': 4, 'criterion': 'mae', 'min_impurity_decrease': 0.03511538350700104, 'min_samples_leaf': 20}\n"
     ]
    },
    {
     "name": "stderr",
     "output_type": "stream",
     "text": [
      "C:\\Users\\Asus\\anaconda3\\lib\\site-packages\\sklearn\\ensemble\\_gb.py:1118: FutureWarning: criterion='mae' was deprecated in version 0.24 and will be removed in version 1.1 (renaming of 0.26). Use criterion='friedman_mse' or 'mse' instead, as trees should use a least-square criterion in Gradient Boosting.\n",
      "  warnings.warn(\"criterion='mae' was deprecated in version 0.24 and \"\n"
     ]
    },
    {
     "name": "stdout",
     "output_type": "stream",
     "text": [
      "param: {'model': 'RFC', 'max_depth': 5, 'criterion': 'gini', 'min_impurity_decrease': 0.030609051252920183, 'min_samples_leaf': 0.016894401508086042}\n",
      "param: {'model': 'GBC', 'max_depth': 5, 'criterion': 'mae', 'min_impurity_decrease': 0.038568083933703576, 'min_samples_leaf': 16}\n"
     ]
    },
    {
     "name": "stderr",
     "output_type": "stream",
     "text": [
      "C:\\Users\\Asus\\anaconda3\\lib\\site-packages\\sklearn\\ensemble\\_gb.py:1118: FutureWarning: criterion='mae' was deprecated in version 0.24 and will be removed in version 1.1 (renaming of 0.26). Use criterion='friedman_mse' or 'mse' instead, as trees should use a least-square criterion in Gradient Boosting.\n",
      "  warnings.warn(\"criterion='mae' was deprecated in version 0.24 and \"\n"
     ]
    },
    {
     "name": "stdout",
     "output_type": "stream",
     "text": [
      "param: {'model': 'RFC', 'max_depth': 10, 'criterion': 'entropy', 'min_impurity_decrease': 0.04212912697110792, 'min_samples_leaf': 0.05654847867709528}\n",
      "param: {'model': 'RFC', 'max_depth': 10, 'criterion': 'gini', 'min_impurity_decrease': 0.025216669480386634, 'min_samples_leaf': 0.037526688024636524}\n",
      "param: {'model': 'RFC', 'max_depth': 4, 'criterion': 'entropy', 'min_impurity_decrease': 0.0712955659416202, 'min_samples_leaf': 0.05184861006152412}\n",
      "param: {'model': 'GBC', 'max_depth': 7, 'criterion': 'mae', 'min_impurity_decrease': 0.0827500142338008, 'min_samples_leaf': 0.0751963720287643}\n"
     ]
    },
    {
     "name": "stderr",
     "output_type": "stream",
     "text": [
      "C:\\Users\\Asus\\anaconda3\\lib\\site-packages\\sklearn\\ensemble\\_gb.py:1118: FutureWarning: criterion='mae' was deprecated in version 0.24 and will be removed in version 1.1 (renaming of 0.26). Use criterion='friedman_mse' or 'mse' instead, as trees should use a least-square criterion in Gradient Boosting.\n",
      "  warnings.warn(\"criterion='mae' was deprecated in version 0.24 and \"\n"
     ]
    },
    {
     "name": "stdout",
     "output_type": "stream",
     "text": [
      "param: {'model': 'RFC', 'max_depth': 4, 'criterion': 'entropy', 'min_impurity_decrease': 0.021402471935477996, 'min_samples_leaf': 0.02424662234394287}\n",
      "param: {'model': 'RFC', 'max_depth': 6, 'criterion': 'gini', 'min_impurity_decrease': 0.08386434460059514, 'min_samples_leaf': 6}\n",
      "param: {'model': 'GBC', 'max_depth': 9, 'criterion': 'friedman_mse', 'min_impurity_decrease': 0.08109763606911216, 'min_samples_leaf': 7}\n",
      "param: {'model': 'RFC', 'max_depth': 10, 'criterion': 'gini', 'min_impurity_decrease': 0.08435950160876761, 'min_samples_leaf': 0.046449252207023325}\n",
      "param: {'model': 'GBC', 'max_depth': 10, 'criterion': 'mae', 'min_impurity_decrease': 0.03314696491486371, 'min_samples_leaf': 0.0921875096012846}\n"
     ]
    },
    {
     "name": "stderr",
     "output_type": "stream",
     "text": [
      "C:\\Users\\Asus\\anaconda3\\lib\\site-packages\\sklearn\\ensemble\\_gb.py:1118: FutureWarning: criterion='mae' was deprecated in version 0.24 and will be removed in version 1.1 (renaming of 0.26). Use criterion='friedman_mse' or 'mse' instead, as trees should use a least-square criterion in Gradient Boosting.\n",
      "  warnings.warn(\"criterion='mae' was deprecated in version 0.24 and \"\n"
     ]
    },
    {
     "name": "stdout",
     "output_type": "stream",
     "text": [
      "param: {'model': 'RFC', 'max_depth': 8, 'criterion': 'entropy', 'min_impurity_decrease': 0.0585478318702186, 'min_samples_leaf': 0.05230177425882837}\n",
      "param: {'model': 'RFC', 'max_depth': 8, 'criterion': 'entropy', 'min_impurity_decrease': 0.04620618045799344, 'min_samples_leaf': 0.06039110317376659}\n",
      "param: {'model': 'RFC', 'max_depth': 10, 'criterion': 'gini', 'min_impurity_decrease': 0.06574784684478932, 'min_samples_leaf': 0.08998337990981647}\n",
      "param: {'model': 'RFC', 'max_depth': 3, 'criterion': 'gini', 'min_impurity_decrease': 0.005485956920486035, 'min_samples_leaf': 7}\n",
      "param: {'model': 'RFC', 'max_depth': 9, 'criterion': 'entropy', 'min_impurity_decrease': 0.009347934664480518, 'min_samples_leaf': 0.0037974806091898073}\n",
      "param: {'model': 'GBC', 'max_depth': 2, 'criterion': 'mae', 'min_impurity_decrease': 0.07771434654896846, 'min_samples_leaf': 0.036073731730766355}\n"
     ]
    },
    {
     "name": "stderr",
     "output_type": "stream",
     "text": [
      "C:\\Users\\Asus\\anaconda3\\lib\\site-packages\\sklearn\\ensemble\\_gb.py:1118: FutureWarning: criterion='mae' was deprecated in version 0.24 and will be removed in version 1.1 (renaming of 0.26). Use criterion='friedman_mse' or 'mse' instead, as trees should use a least-square criterion in Gradient Boosting.\n",
      "  warnings.warn(\"criterion='mae' was deprecated in version 0.24 and \"\n"
     ]
    },
    {
     "name": "stdout",
     "output_type": "stream",
     "text": [
      "param: {'model': 'RFC', 'max_depth': 5, 'criterion': 'entropy', 'min_impurity_decrease': 0.03394639226156225, 'min_samples_leaf': 2}\n",
      "param: {'model': 'RFC', 'max_depth': 3, 'criterion': 'entropy', 'min_impurity_decrease': 0.09831860014097697, 'min_samples_leaf': 0.03274856715680574}\n",
      "\n",
      "\n",
      "\n",
      "GEN 17:\n",
      "param: {'model': 'RFC', 'max_depth': 6, 'criterion': 'entropy', 'min_impurity_decrease': 0.07979253103781672, 'min_samples_leaf': 1}\n",
      "param: {'model': 'GBC', 'max_depth': 3, 'criterion': 'friedman_mse', 'min_impurity_decrease': 0.07773364563841281, 'min_samples_leaf': 0.08238127744535484}\n",
      "param: {'model': 'RFC', 'max_depth': 2, 'criterion': 'gini', 'min_impurity_decrease': 0.02987915687793229, 'min_samples_leaf': 0.029257889014236003}\n",
      "param: {'model': 'RFC', 'max_depth': 5, 'criterion': 'gini', 'min_impurity_decrease': 0.09075325559643997, 'min_samples_leaf': 0.019102624158400805}\n",
      "param: {'model': 'GBC', 'max_depth': 7, 'criterion': 'mae', 'min_impurity_decrease': 0.0001852857237974237, 'min_samples_leaf': 0.023779984888688398}\n"
     ]
    },
    {
     "name": "stderr",
     "output_type": "stream",
     "text": [
      "C:\\Users\\Asus\\anaconda3\\lib\\site-packages\\sklearn\\ensemble\\_gb.py:1118: FutureWarning: criterion='mae' was deprecated in version 0.24 and will be removed in version 1.1 (renaming of 0.26). Use criterion='friedman_mse' or 'mse' instead, as trees should use a least-square criterion in Gradient Boosting.\n",
      "  warnings.warn(\"criterion='mae' was deprecated in version 0.24 and \"\n"
     ]
    },
    {
     "name": "stdout",
     "output_type": "stream",
     "text": [
      "param: {'model': 'GBC', 'max_depth': 3, 'criterion': 'mae', 'min_impurity_decrease': 0.05827437936569655, 'min_samples_leaf': 20}\n"
     ]
    },
    {
     "name": "stderr",
     "output_type": "stream",
     "text": [
      "C:\\Users\\Asus\\anaconda3\\lib\\site-packages\\sklearn\\ensemble\\_gb.py:1118: FutureWarning: criterion='mae' was deprecated in version 0.24 and will be removed in version 1.1 (renaming of 0.26). Use criterion='friedman_mse' or 'mse' instead, as trees should use a least-square criterion in Gradient Boosting.\n",
      "  warnings.warn(\"criterion='mae' was deprecated in version 0.24 and \"\n"
     ]
    },
    {
     "name": "stdout",
     "output_type": "stream",
     "text": [
      "param: {'model': 'GBC', 'max_depth': 4, 'criterion': 'mae', 'min_impurity_decrease': 0.002469258123375917, 'min_samples_leaf': 3}\n"
     ]
    },
    {
     "name": "stderr",
     "output_type": "stream",
     "text": [
      "C:\\Users\\Asus\\anaconda3\\lib\\site-packages\\sklearn\\ensemble\\_gb.py:1118: FutureWarning: criterion='mae' was deprecated in version 0.24 and will be removed in version 1.1 (renaming of 0.26). Use criterion='friedman_mse' or 'mse' instead, as trees should use a least-square criterion in Gradient Boosting.\n",
      "  warnings.warn(\"criterion='mae' was deprecated in version 0.24 and \"\n"
     ]
    },
    {
     "name": "stdout",
     "output_type": "stream",
     "text": [
      "param: {'model': 'GBC', 'max_depth': 8, 'criterion': 'mae', 'min_impurity_decrease': 0.04551173176576784, 'min_samples_leaf': 15}\n"
     ]
    },
    {
     "name": "stderr",
     "output_type": "stream",
     "text": [
      "C:\\Users\\Asus\\anaconda3\\lib\\site-packages\\sklearn\\ensemble\\_gb.py:1118: FutureWarning: criterion='mae' was deprecated in version 0.24 and will be removed in version 1.1 (renaming of 0.26). Use criterion='friedman_mse' or 'mse' instead, as trees should use a least-square criterion in Gradient Boosting.\n",
      "  warnings.warn(\"criterion='mae' was deprecated in version 0.24 and \"\n"
     ]
    },
    {
     "name": "stdout",
     "output_type": "stream",
     "text": [
      "param: {'model': 'GBC', 'max_depth': 4, 'criterion': 'friedman_mse', 'min_impurity_decrease': 0.04867607812729021, 'min_samples_leaf': 16}\n",
      "param: {'model': 'RFC', 'max_depth': 4, 'criterion': 'gini', 'min_impurity_decrease': 0.059368635444022246, 'min_samples_leaf': 16}\n",
      "param: {'model': 'GBC', 'max_depth': 10, 'criterion': 'friedman_mse', 'min_impurity_decrease': 0.08858332946626991, 'min_samples_leaf': 15}\n",
      "param: {'model': 'GBC', 'max_depth': 7, 'criterion': 'mae', 'min_impurity_decrease': 0.038870405175609454, 'min_samples_leaf': 19}\n"
     ]
    },
    {
     "name": "stderr",
     "output_type": "stream",
     "text": [
      "C:\\Users\\Asus\\anaconda3\\lib\\site-packages\\sklearn\\ensemble\\_gb.py:1118: FutureWarning: criterion='mae' was deprecated in version 0.24 and will be removed in version 1.1 (renaming of 0.26). Use criterion='friedman_mse' or 'mse' instead, as trees should use a least-square criterion in Gradient Boosting.\n",
      "  warnings.warn(\"criterion='mae' was deprecated in version 0.24 and \"\n"
     ]
    },
    {
     "name": "stdout",
     "output_type": "stream",
     "text": [
      "param: {'model': 'RFC', 'max_depth': 4, 'criterion': 'entropy', 'min_impurity_decrease': 0.04496687939940698, 'min_samples_leaf': 0.06734924614339698}\n",
      "param: {'model': 'GBC', 'max_depth': 2, 'criterion': 'mae', 'min_impurity_decrease': 0.03210717380603569, 'min_samples_leaf': 0.0648188646863167}\n"
     ]
    },
    {
     "name": "stderr",
     "output_type": "stream",
     "text": [
      "C:\\Users\\Asus\\anaconda3\\lib\\site-packages\\sklearn\\ensemble\\_gb.py:1118: FutureWarning: criterion='mae' was deprecated in version 0.24 and will be removed in version 1.1 (renaming of 0.26). Use criterion='friedman_mse' or 'mse' instead, as trees should use a least-square criterion in Gradient Boosting.\n",
      "  warnings.warn(\"criterion='mae' was deprecated in version 0.24 and \"\n"
     ]
    },
    {
     "name": "stdout",
     "output_type": "stream",
     "text": [
      "param: {'model': 'RFC', 'max_depth': 2, 'criterion': 'entropy', 'min_impurity_decrease': 0.056732199325536546, 'min_samples_leaf': 5}\n",
      "param: {'model': 'RFC', 'max_depth': 4, 'criterion': 'entropy', 'min_impurity_decrease': 0.061566465592725494, 'min_samples_leaf': 14}\n",
      "param: {'model': 'GBC', 'max_depth': 2, 'criterion': 'mae', 'min_impurity_decrease': 0.028423344878708325, 'min_samples_leaf': 11}\n"
     ]
    },
    {
     "name": "stderr",
     "output_type": "stream",
     "text": [
      "C:\\Users\\Asus\\anaconda3\\lib\\site-packages\\sklearn\\ensemble\\_gb.py:1118: FutureWarning: criterion='mae' was deprecated in version 0.24 and will be removed in version 1.1 (renaming of 0.26). Use criterion='friedman_mse' or 'mse' instead, as trees should use a least-square criterion in Gradient Boosting.\n",
      "  warnings.warn(\"criterion='mae' was deprecated in version 0.24 and \"\n"
     ]
    },
    {
     "name": "stdout",
     "output_type": "stream",
     "text": [
      "param: {'model': 'GBC', 'max_depth': 3, 'criterion': 'friedman_mse', 'min_impurity_decrease': 0.04427126575889397, 'min_samples_leaf': 0.06823948378207492}\n",
      "param: {'model': 'RFC', 'max_depth': 7, 'criterion': 'gini', 'min_impurity_decrease': 0.07155981953056054, 'min_samples_leaf': 0.00045867326335454763}\n",
      "param: {'model': 'GBC', 'max_depth': 2, 'criterion': 'friedman_mse', 'min_impurity_decrease': 0.013121581018725492, 'min_samples_leaf': 17}\n",
      "param: {'model': 'GBC', 'max_depth': 4, 'criterion': 'friedman_mse', 'min_impurity_decrease': 0.07236206316514128, 'min_samples_leaf': 6}\n",
      "param: {'model': 'RFC', 'max_depth': 1, 'criterion': 'gini', 'min_impurity_decrease': 0.06647306703109919, 'min_samples_leaf': 8}\n",
      "param: {'model': 'RFC', 'max_depth': 8, 'criterion': 'entropy', 'min_impurity_decrease': 0.055586274112670434, 'min_samples_leaf': 0.0856645639039276}\n",
      "param: {'model': 'GBC', 'max_depth': 1, 'criterion': 'friedman_mse', 'min_impurity_decrease': 0.05079571906936355, 'min_samples_leaf': 0.06330942664997634}\n",
      "param: {'model': 'RFC', 'max_depth': 10, 'criterion': 'gini', 'min_impurity_decrease': 0.05200065564530274, 'min_samples_leaf': 0.09994745791982625}\n",
      "param: {'model': 'RFC', 'max_depth': 9, 'criterion': 'entropy', 'min_impurity_decrease': 0.09980872831115291, 'min_samples_leaf': 17}\n",
      "param: {'model': 'GBC', 'max_depth': 5, 'criterion': 'friedman_mse', 'min_impurity_decrease': 0.01959215124257696, 'min_samples_leaf': 0.019303152045611872}\n",
      "param: {'model': 'RFC', 'max_depth': 4, 'criterion': 'entropy', 'min_impurity_decrease': 0.07715011373842798, 'min_samples_leaf': 0.011472185156950688}\n",
      "param: {'model': 'GBC', 'max_depth': 1, 'criterion': 'mae', 'min_impurity_decrease': 0.0460949284312146, 'min_samples_leaf': 1}\n"
     ]
    },
    {
     "name": "stderr",
     "output_type": "stream",
     "text": [
      "C:\\Users\\Asus\\anaconda3\\lib\\site-packages\\sklearn\\ensemble\\_gb.py:1118: FutureWarning: criterion='mae' was deprecated in version 0.24 and will be removed in version 1.1 (renaming of 0.26). Use criterion='friedman_mse' or 'mse' instead, as trees should use a least-square criterion in Gradient Boosting.\n",
      "  warnings.warn(\"criterion='mae' was deprecated in version 0.24 and \"\n"
     ]
    },
    {
     "name": "stdout",
     "output_type": "stream",
     "text": [
      "param: {'model': 'GBC', 'max_depth': 6, 'criterion': 'friedman_mse', 'min_impurity_decrease': 0.03632190325455779, 'min_samples_leaf': 0.08017455373540608}\n",
      "param: {'model': 'GBC', 'max_depth': 5, 'criterion': 'friedman_mse', 'min_impurity_decrease': 0.002793216884419225, 'min_samples_leaf': 9}\n",
      "param: {'model': 'RFC', 'max_depth': 7, 'criterion': 'gini', 'min_impurity_decrease': 0.039460586519976734, 'min_samples_leaf': 14}\n",
      "param: {'model': 'GBC', 'max_depth': 7, 'criterion': 'friedman_mse', 'min_impurity_decrease': 0.046107105611029243, 'min_samples_leaf': 0.03569317037464287}\n",
      "param: {'model': 'RFC', 'max_depth': 8, 'criterion': 'gini', 'min_impurity_decrease': 0.04988356085521441, 'min_samples_leaf': 17}\n",
      "param: {'model': 'GBC', 'max_depth': 6, 'criterion': 'friedman_mse', 'min_impurity_decrease': 0.040531666951055235, 'min_samples_leaf': 4}\n",
      "param: {'model': 'RFC', 'max_depth': 7, 'criterion': 'entropy', 'min_impurity_decrease': 0.09030303420997059, 'min_samples_leaf': 0.052821237810073404}\n",
      "param: {'model': 'RFC', 'max_depth': 1, 'criterion': 'gini', 'min_impurity_decrease': 0.051119470203331595, 'min_samples_leaf': 0.001786843828205631}\n",
      "param: {'model': 'GBC', 'max_depth': 10, 'criterion': 'mae', 'min_impurity_decrease': 0.06877963623245664, 'min_samples_leaf': 20}\n"
     ]
    },
    {
     "name": "stderr",
     "output_type": "stream",
     "text": [
      "C:\\Users\\Asus\\anaconda3\\lib\\site-packages\\sklearn\\ensemble\\_gb.py:1118: FutureWarning: criterion='mae' was deprecated in version 0.24 and will be removed in version 1.1 (renaming of 0.26). Use criterion='friedman_mse' or 'mse' instead, as trees should use a least-square criterion in Gradient Boosting.\n",
      "  warnings.warn(\"criterion='mae' was deprecated in version 0.24 and \"\n"
     ]
    },
    {
     "name": "stdout",
     "output_type": "stream",
     "text": [
      "param: {'model': 'GBC', 'max_depth': 8, 'criterion': 'mae', 'min_impurity_decrease': 0.01221469512408071, 'min_samples_leaf': 3}\n"
     ]
    },
    {
     "name": "stderr",
     "output_type": "stream",
     "text": [
      "C:\\Users\\Asus\\anaconda3\\lib\\site-packages\\sklearn\\ensemble\\_gb.py:1118: FutureWarning: criterion='mae' was deprecated in version 0.24 and will be removed in version 1.1 (renaming of 0.26). Use criterion='friedman_mse' or 'mse' instead, as trees should use a least-square criterion in Gradient Boosting.\n",
      "  warnings.warn(\"criterion='mae' was deprecated in version 0.24 and \"\n"
     ]
    },
    {
     "name": "stdout",
     "output_type": "stream",
     "text": [
      "param: {'model': 'RFC', 'max_depth': 10, 'criterion': 'gini', 'min_impurity_decrease': 0.06436575319294566, 'min_samples_leaf': 0.00864461417606377}\n",
      "param: {'model': 'RFC', 'max_depth': 6, 'criterion': 'entropy', 'min_impurity_decrease': 0.008802335539127747, 'min_samples_leaf': 0.028055340869140133}\n",
      "param: {'model': 'RFC', 'max_depth': 5, 'criterion': 'gini', 'min_impurity_decrease': 0.03225203214142086, 'min_samples_leaf': 10}\n",
      "param: {'model': 'GBC', 'max_depth': 7, 'criterion': 'friedman_mse', 'min_impurity_decrease': 0.01779737199886706, 'min_samples_leaf': 2}\n",
      "param: {'model': 'RFC', 'max_depth': 2, 'criterion': 'gini', 'min_impurity_decrease': 0.08311616836309131, 'min_samples_leaf': 20}\n",
      "param: {'model': 'GBC', 'max_depth': 3, 'criterion': 'mae', 'min_impurity_decrease': 0.039672220051489404, 'min_samples_leaf': 0.09295947065213818}\n"
     ]
    },
    {
     "name": "stderr",
     "output_type": "stream",
     "text": [
      "C:\\Users\\Asus\\anaconda3\\lib\\site-packages\\sklearn\\ensemble\\_gb.py:1118: FutureWarning: criterion='mae' was deprecated in version 0.24 and will be removed in version 1.1 (renaming of 0.26). Use criterion='friedman_mse' or 'mse' instead, as trees should use a least-square criterion in Gradient Boosting.\n",
      "  warnings.warn(\"criterion='mae' was deprecated in version 0.24 and \"\n"
     ]
    },
    {
     "name": "stdout",
     "output_type": "stream",
     "text": [
      "param: {'model': 'GBC', 'max_depth': 9, 'criterion': 'mae', 'min_impurity_decrease': 0.040665997572169134, 'min_samples_leaf': 0.08977185206946989}\n"
     ]
    },
    {
     "name": "stderr",
     "output_type": "stream",
     "text": [
      "C:\\Users\\Asus\\anaconda3\\lib\\site-packages\\sklearn\\ensemble\\_gb.py:1118: FutureWarning: criterion='mae' was deprecated in version 0.24 and will be removed in version 1.1 (renaming of 0.26). Use criterion='friedman_mse' or 'mse' instead, as trees should use a least-square criterion in Gradient Boosting.\n",
      "  warnings.warn(\"criterion='mae' was deprecated in version 0.24 and \"\n"
     ]
    },
    {
     "name": "stdout",
     "output_type": "stream",
     "text": [
      "param: {'model': 'RFC', 'max_depth': 5, 'criterion': 'entropy', 'min_impurity_decrease': 0.04398206285249222, 'min_samples_leaf': 3}\n",
      "param: {'model': 'GBC', 'max_depth': 1, 'criterion': 'mae', 'min_impurity_decrease': 0.06226852673640798, 'min_samples_leaf': 0.044133432756456134}\n"
     ]
    },
    {
     "name": "stderr",
     "output_type": "stream",
     "text": [
      "C:\\Users\\Asus\\anaconda3\\lib\\site-packages\\sklearn\\ensemble\\_gb.py:1118: FutureWarning: criterion='mae' was deprecated in version 0.24 and will be removed in version 1.1 (renaming of 0.26). Use criterion='friedman_mse' or 'mse' instead, as trees should use a least-square criterion in Gradient Boosting.\n",
      "  warnings.warn(\"criterion='mae' was deprecated in version 0.24 and \"\n"
     ]
    },
    {
     "name": "stdout",
     "output_type": "stream",
     "text": [
      "param: {'model': 'RFC', 'max_depth': 4, 'criterion': 'gini', 'min_impurity_decrease': 0.06055820415400803, 'min_samples_leaf': 3}\n",
      "param: {'model': 'GBC', 'max_depth': 9, 'criterion': 'mae', 'min_impurity_decrease': 0.004454811861638763, 'min_samples_leaf': 0.09344613776425865}\n"
     ]
    },
    {
     "name": "stderr",
     "output_type": "stream",
     "text": [
      "C:\\Users\\Asus\\anaconda3\\lib\\site-packages\\sklearn\\ensemble\\_gb.py:1118: FutureWarning: criterion='mae' was deprecated in version 0.24 and will be removed in version 1.1 (renaming of 0.26). Use criterion='friedman_mse' or 'mse' instead, as trees should use a least-square criterion in Gradient Boosting.\n",
      "  warnings.warn(\"criterion='mae' was deprecated in version 0.24 and \"\n"
     ]
    },
    {
     "name": "stdout",
     "output_type": "stream",
     "text": [
      "param: {'model': 'GBC', 'max_depth': 9, 'criterion': 'mae', 'min_impurity_decrease': 0.02164852048964607, 'min_samples_leaf': 7}\n"
     ]
    },
    {
     "name": "stderr",
     "output_type": "stream",
     "text": [
      "C:\\Users\\Asus\\anaconda3\\lib\\site-packages\\sklearn\\ensemble\\_gb.py:1118: FutureWarning: criterion='mae' was deprecated in version 0.24 and will be removed in version 1.1 (renaming of 0.26). Use criterion='friedman_mse' or 'mse' instead, as trees should use a least-square criterion in Gradient Boosting.\n",
      "  warnings.warn(\"criterion='mae' was deprecated in version 0.24 and \"\n"
     ]
    },
    {
     "name": "stdout",
     "output_type": "stream",
     "text": [
      "param: {'model': 'RFC', 'max_depth': 3, 'criterion': 'gini', 'min_impurity_decrease': 0.050929508477035555, 'min_samples_leaf': 4}\n",
      "param: {'model': 'RFC', 'max_depth': 1, 'criterion': 'gini', 'min_impurity_decrease': 0.07058804558018908, 'min_samples_leaf': 0.057754983032282846}\n",
      "param: {'model': 'GBC', 'max_depth': 1, 'criterion': 'friedman_mse', 'min_impurity_decrease': 0.05744242339459665, 'min_samples_leaf': 0.046423243338149164}\n",
      "param: {'model': 'RFC', 'max_depth': 3, 'criterion': 'entropy', 'min_impurity_decrease': 0.07991152994194281, 'min_samples_leaf': 2}\n",
      "param: {'model': 'GBC', 'max_depth': 5, 'criterion': 'mae', 'min_impurity_decrease': 0.07943119585288513, 'min_samples_leaf': 9}\n"
     ]
    },
    {
     "name": "stderr",
     "output_type": "stream",
     "text": [
      "C:\\Users\\Asus\\anaconda3\\lib\\site-packages\\sklearn\\ensemble\\_gb.py:1118: FutureWarning: criterion='mae' was deprecated in version 0.24 and will be removed in version 1.1 (renaming of 0.26). Use criterion='friedman_mse' or 'mse' instead, as trees should use a least-square criterion in Gradient Boosting.\n",
      "  warnings.warn(\"criterion='mae' was deprecated in version 0.24 and \"\n"
     ]
    },
    {
     "name": "stdout",
     "output_type": "stream",
     "text": [
      "param: {'model': 'RFC', 'max_depth': 10, 'criterion': 'gini', 'min_impurity_decrease': 0.08553706260318512, 'min_samples_leaf': 0.024969825660205048}\n",
      "param: {'model': 'GBC', 'max_depth': 6, 'criterion': 'friedman_mse', 'min_impurity_decrease': 0.07576279944883064, 'min_samples_leaf': 4}\n",
      "param: {'model': 'GBC', 'max_depth': 10, 'criterion': 'friedman_mse', 'min_impurity_decrease': 0.028454246089764313, 'min_samples_leaf': 13}\n",
      "param: {'model': 'GBC', 'max_depth': 3, 'criterion': 'friedman_mse', 'min_impurity_decrease': 0.08939024624649552, 'min_samples_leaf': 14}\n",
      "param: {'model': 'GBC', 'max_depth': 1, 'criterion': 'mae', 'min_impurity_decrease': 0.07510767670349378, 'min_samples_leaf': 0.03231732354773433}\n"
     ]
    },
    {
     "name": "stderr",
     "output_type": "stream",
     "text": [
      "C:\\Users\\Asus\\anaconda3\\lib\\site-packages\\sklearn\\ensemble\\_gb.py:1118: FutureWarning: criterion='mae' was deprecated in version 0.24 and will be removed in version 1.1 (renaming of 0.26). Use criterion='friedman_mse' or 'mse' instead, as trees should use a least-square criterion in Gradient Boosting.\n",
      "  warnings.warn(\"criterion='mae' was deprecated in version 0.24 and \"\n"
     ]
    },
    {
     "name": "stdout",
     "output_type": "stream",
     "text": [
      "param: {'model': 'GBC', 'max_depth': 3, 'criterion': 'mae', 'min_impurity_decrease': 0.019234729440727894, 'min_samples_leaf': 0.0681951459095425}\n"
     ]
    },
    {
     "name": "stderr",
     "output_type": "stream",
     "text": [
      "C:\\Users\\Asus\\anaconda3\\lib\\site-packages\\sklearn\\ensemble\\_gb.py:1118: FutureWarning: criterion='mae' was deprecated in version 0.24 and will be removed in version 1.1 (renaming of 0.26). Use criterion='friedman_mse' or 'mse' instead, as trees should use a least-square criterion in Gradient Boosting.\n",
      "  warnings.warn(\"criterion='mae' was deprecated in version 0.24 and \"\n"
     ]
    },
    {
     "name": "stdout",
     "output_type": "stream",
     "text": [
      "param: {'model': 'GBC', 'max_depth': 8, 'criterion': 'mae', 'min_impurity_decrease': 0.01106278875341853, 'min_samples_leaf': 20}\n"
     ]
    },
    {
     "name": "stderr",
     "output_type": "stream",
     "text": [
      "C:\\Users\\Asus\\anaconda3\\lib\\site-packages\\sklearn\\ensemble\\_gb.py:1118: FutureWarning: criterion='mae' was deprecated in version 0.24 and will be removed in version 1.1 (renaming of 0.26). Use criterion='friedman_mse' or 'mse' instead, as trees should use a least-square criterion in Gradient Boosting.\n",
      "  warnings.warn(\"criterion='mae' was deprecated in version 0.24 and \"\n"
     ]
    },
    {
     "name": "stdout",
     "output_type": "stream",
     "text": [
      "param: {'model': 'GBC', 'max_depth': 6, 'criterion': 'mae', 'min_impurity_decrease': 0.02801478216486668, 'min_samples_leaf': 0.06163386305619163}\n"
     ]
    },
    {
     "name": "stderr",
     "output_type": "stream",
     "text": [
      "C:\\Users\\Asus\\anaconda3\\lib\\site-packages\\sklearn\\ensemble\\_gb.py:1118: FutureWarning: criterion='mae' was deprecated in version 0.24 and will be removed in version 1.1 (renaming of 0.26). Use criterion='friedman_mse' or 'mse' instead, as trees should use a least-square criterion in Gradient Boosting.\n",
      "  warnings.warn(\"criterion='mae' was deprecated in version 0.24 and \"\n"
     ]
    },
    {
     "name": "stdout",
     "output_type": "stream",
     "text": [
      "param: {'model': 'RFC', 'max_depth': 9, 'criterion': 'gini', 'min_impurity_decrease': 0.09745438430047855, 'min_samples_leaf': 0.02791631017604803}\n",
      "param: {'model': 'RFC', 'max_depth': 9, 'criterion': 'entropy', 'min_impurity_decrease': 0.07281236724246051, 'min_samples_leaf': 17}\n",
      "param: {'model': 'GBC', 'max_depth': 4, 'criterion': 'mae', 'min_impurity_decrease': 0.07962410461744997, 'min_samples_leaf': 0.07137321803276772}\n"
     ]
    },
    {
     "name": "stderr",
     "output_type": "stream",
     "text": [
      "C:\\Users\\Asus\\anaconda3\\lib\\site-packages\\sklearn\\ensemble\\_gb.py:1118: FutureWarning: criterion='mae' was deprecated in version 0.24 and will be removed in version 1.1 (renaming of 0.26). Use criterion='friedman_mse' or 'mse' instead, as trees should use a least-square criterion in Gradient Boosting.\n",
      "  warnings.warn(\"criterion='mae' was deprecated in version 0.24 and \"\n"
     ]
    },
    {
     "name": "stdout",
     "output_type": "stream",
     "text": [
      "param: {'model': 'RFC', 'max_depth': 8, 'criterion': 'entropy', 'min_impurity_decrease': 0.029429989753281316, 'min_samples_leaf': 12}\n",
      "param: {'model': 'RFC', 'max_depth': 1, 'criterion': 'entropy', 'min_impurity_decrease': 0.07199603671344959, 'min_samples_leaf': 19}\n",
      "param: {'model': 'RFC', 'max_depth': 9, 'criterion': 'entropy', 'min_impurity_decrease': 0.0025946239148217807, 'min_samples_leaf': 0.014678027085687528}\n",
      "param: {'model': 'GBC', 'max_depth': 9, 'criterion': 'friedman_mse', 'min_impurity_decrease': 0.08505040315371667, 'min_samples_leaf': 11}\n",
      "param: {'model': 'RFC', 'max_depth': 4, 'criterion': 'gini', 'min_impurity_decrease': 0.015017567028583634, 'min_samples_leaf': 0.07852034478797068}\n",
      "param: {'model': 'GBC', 'max_depth': 8, 'criterion': 'friedman_mse', 'min_impurity_decrease': 0.06001907029212178, 'min_samples_leaf': 0.04304837843728089}\n",
      "param: {'model': 'RFC', 'max_depth': 10, 'criterion': 'gini', 'min_impurity_decrease': 0.00879450291602991, 'min_samples_leaf': 0.03997994060408531}\n",
      "param: {'model': 'RFC', 'max_depth': 1, 'criterion': 'gini', 'min_impurity_decrease': 0.09604192583587925, 'min_samples_leaf': 0.04316209558683596}\n",
      "param: {'model': 'RFC', 'max_depth': 7, 'criterion': 'entropy', 'min_impurity_decrease': 0.00738955447914732, 'min_samples_leaf': 0.06215779663785557}\n",
      "param: {'model': 'RFC', 'max_depth': 9, 'criterion': 'entropy', 'min_impurity_decrease': 0.021503066577376762, 'min_samples_leaf': 0.027843029452086686}\n",
      "param: {'model': 'GBC', 'max_depth': 2, 'criterion': 'mae', 'min_impurity_decrease': 0.06463531564086694, 'min_samples_leaf': 10}\n"
     ]
    },
    {
     "name": "stderr",
     "output_type": "stream",
     "text": [
      "C:\\Users\\Asus\\anaconda3\\lib\\site-packages\\sklearn\\ensemble\\_gb.py:1118: FutureWarning: criterion='mae' was deprecated in version 0.24 and will be removed in version 1.1 (renaming of 0.26). Use criterion='friedman_mse' or 'mse' instead, as trees should use a least-square criterion in Gradient Boosting.\n",
      "  warnings.warn(\"criterion='mae' was deprecated in version 0.24 and \"\n"
     ]
    },
    {
     "name": "stdout",
     "output_type": "stream",
     "text": [
      "param: {'model': 'RFC', 'max_depth': 5, 'criterion': 'gini', 'min_impurity_decrease': 0.04341642198325689, 'min_samples_leaf': 10}\n",
      "param: {'model': 'GBC', 'max_depth': 7, 'criterion': 'mae', 'min_impurity_decrease': 0.07810966639902983, 'min_samples_leaf': 20}\n"
     ]
    },
    {
     "name": "stderr",
     "output_type": "stream",
     "text": [
      "C:\\Users\\Asus\\anaconda3\\lib\\site-packages\\sklearn\\ensemble\\_gb.py:1118: FutureWarning: criterion='mae' was deprecated in version 0.24 and will be removed in version 1.1 (renaming of 0.26). Use criterion='friedman_mse' or 'mse' instead, as trees should use a least-square criterion in Gradient Boosting.\n",
      "  warnings.warn(\"criterion='mae' was deprecated in version 0.24 and \"\n"
     ]
    },
    {
     "name": "stdout",
     "output_type": "stream",
     "text": [
      "param: {'model': 'GBC', 'max_depth': 1, 'criterion': 'mae', 'min_impurity_decrease': 0.01642521600520941, 'min_samples_leaf': 0.013654303241651445}\n"
     ]
    },
    {
     "name": "stderr",
     "output_type": "stream",
     "text": [
      "C:\\Users\\Asus\\anaconda3\\lib\\site-packages\\sklearn\\ensemble\\_gb.py:1118: FutureWarning: criterion='mae' was deprecated in version 0.24 and will be removed in version 1.1 (renaming of 0.26). Use criterion='friedman_mse' or 'mse' instead, as trees should use a least-square criterion in Gradient Boosting.\n",
      "  warnings.warn(\"criterion='mae' was deprecated in version 0.24 and \"\n"
     ]
    },
    {
     "name": "stdout",
     "output_type": "stream",
     "text": [
      "param: {'model': 'RFC', 'max_depth': 4, 'criterion': 'entropy', 'min_impurity_decrease': 0.054412857595010966, 'min_samples_leaf': 0.03706216727303656}\n",
      "param: {'model': 'RFC', 'max_depth': 7, 'criterion': 'entropy', 'min_impurity_decrease': 0.04104442613669933, 'min_samples_leaf': 10}\n",
      "param: {'model': 'RFC', 'max_depth': 10, 'criterion': 'entropy', 'min_impurity_decrease': 0.018430074761699767, 'min_samples_leaf': 0.048156558138815656}\n",
      "param: {'model': 'RFC', 'max_depth': 10, 'criterion': 'gini', 'min_impurity_decrease': 0.07174049230981511, 'min_samples_leaf': 0.08047077375119929}\n",
      "param: {'model': 'GBC', 'max_depth': 5, 'criterion': 'friedman_mse', 'min_impurity_decrease': 0.07978815841256577, 'min_samples_leaf': 0.0817952839466651}\n",
      "param: {'model': 'GBC', 'max_depth': 6, 'criterion': 'mae', 'min_impurity_decrease': 0.04923124789165022, 'min_samples_leaf': 0.0019616190694967672}\n"
     ]
    },
    {
     "name": "stderr",
     "output_type": "stream",
     "text": [
      "C:\\Users\\Asus\\anaconda3\\lib\\site-packages\\sklearn\\ensemble\\_gb.py:1118: FutureWarning: criterion='mae' was deprecated in version 0.24 and will be removed in version 1.1 (renaming of 0.26). Use criterion='friedman_mse' or 'mse' instead, as trees should use a least-square criterion in Gradient Boosting.\n",
      "  warnings.warn(\"criterion='mae' was deprecated in version 0.24 and \"\n"
     ]
    },
    {
     "name": "stdout",
     "output_type": "stream",
     "text": [
      "param: {'model': 'RFC', 'max_depth': 6, 'criterion': 'gini', 'min_impurity_decrease': 0.07763545057862997, 'min_samples_leaf': 0.03915466491918699}\n",
      "param: {'model': 'RFC', 'max_depth': 7, 'criterion': 'entropy', 'min_impurity_decrease': 0.006280607262552307, 'min_samples_leaf': 0.010258366977256284}\n",
      "param: {'model': 'GBC', 'max_depth': 8, 'criterion': 'mae', 'min_impurity_decrease': 0.025131119634280073, 'min_samples_leaf': 0.09745897206950634}\n"
     ]
    },
    {
     "name": "stderr",
     "output_type": "stream",
     "text": [
      "C:\\Users\\Asus\\anaconda3\\lib\\site-packages\\sklearn\\ensemble\\_gb.py:1118: FutureWarning: criterion='mae' was deprecated in version 0.24 and will be removed in version 1.1 (renaming of 0.26). Use criterion='friedman_mse' or 'mse' instead, as trees should use a least-square criterion in Gradient Boosting.\n",
      "  warnings.warn(\"criterion='mae' was deprecated in version 0.24 and \"\n"
     ]
    },
    {
     "name": "stdout",
     "output_type": "stream",
     "text": [
      "\n",
      "\n",
      "\n",
      "GEN 18:\n",
      "param: {'model': 'RFC', 'max_depth': 7, 'criterion': 'entropy', 'min_impurity_decrease': 0.0037858632508147804, 'min_samples_leaf': 0.07641604628740704}\n",
      "param: {'model': 'GBC', 'max_depth': 8, 'criterion': 'mae', 'min_impurity_decrease': 0.025910787353256325, 'min_samples_leaf': 12}\n"
     ]
    },
    {
     "name": "stderr",
     "output_type": "stream",
     "text": [
      "C:\\Users\\Asus\\anaconda3\\lib\\site-packages\\sklearn\\ensemble\\_gb.py:1118: FutureWarning: criterion='mae' was deprecated in version 0.24 and will be removed in version 1.1 (renaming of 0.26). Use criterion='friedman_mse' or 'mse' instead, as trees should use a least-square criterion in Gradient Boosting.\n",
      "  warnings.warn(\"criterion='mae' was deprecated in version 0.24 and \"\n"
     ]
    },
    {
     "name": "stdout",
     "output_type": "stream",
     "text": [
      "param: {'model': 'RFC', 'max_depth': 3, 'criterion': 'entropy', 'min_impurity_decrease': 0.06742534839561795, 'min_samples_leaf': 2}\n",
      "param: {'model': 'GBC', 'max_depth': 10, 'criterion': 'friedman_mse', 'min_impurity_decrease': 0.022985897058982373, 'min_samples_leaf': 2}\n",
      "param: {'model': 'GBC', 'max_depth': 3, 'criterion': 'mae', 'min_impurity_decrease': 0.043502479914893, 'min_samples_leaf': 0.025069150697745856}\n"
     ]
    },
    {
     "name": "stderr",
     "output_type": "stream",
     "text": [
      "C:\\Users\\Asus\\anaconda3\\lib\\site-packages\\sklearn\\ensemble\\_gb.py:1118: FutureWarning: criterion='mae' was deprecated in version 0.24 and will be removed in version 1.1 (renaming of 0.26). Use criterion='friedman_mse' or 'mse' instead, as trees should use a least-square criterion in Gradient Boosting.\n",
      "  warnings.warn(\"criterion='mae' was deprecated in version 0.24 and \"\n"
     ]
    },
    {
     "name": "stdout",
     "output_type": "stream",
     "text": [
      "param: {'model': 'GBC', 'max_depth': 3, 'criterion': 'mae', 'min_impurity_decrease': 0.028314211930005762, 'min_samples_leaf': 0.04494403560222922}\n"
     ]
    },
    {
     "name": "stderr",
     "output_type": "stream",
     "text": [
      "C:\\Users\\Asus\\anaconda3\\lib\\site-packages\\sklearn\\ensemble\\_gb.py:1118: FutureWarning: criterion='mae' was deprecated in version 0.24 and will be removed in version 1.1 (renaming of 0.26). Use criterion='friedman_mse' or 'mse' instead, as trees should use a least-square criterion in Gradient Boosting.\n",
      "  warnings.warn(\"criterion='mae' was deprecated in version 0.24 and \"\n"
     ]
    },
    {
     "name": "stdout",
     "output_type": "stream",
     "text": [
      "param: {'model': 'GBC', 'max_depth': 5, 'criterion': 'friedman_mse', 'min_impurity_decrease': 0.061954245906795026, 'min_samples_leaf': 0.06907359591421608}\n",
      "param: {'model': 'RFC', 'max_depth': 6, 'criterion': 'gini', 'min_impurity_decrease': 0.040778357462494606, 'min_samples_leaf': 0.0015757917475242912}\n",
      "param: {'model': 'GBC', 'max_depth': 2, 'criterion': 'mae', 'min_impurity_decrease': 0.07423405838964411, 'min_samples_leaf': 0.05225828904227022}\n"
     ]
    },
    {
     "name": "stderr",
     "output_type": "stream",
     "text": [
      "C:\\Users\\Asus\\anaconda3\\lib\\site-packages\\sklearn\\ensemble\\_gb.py:1118: FutureWarning: criterion='mae' was deprecated in version 0.24 and will be removed in version 1.1 (renaming of 0.26). Use criterion='friedman_mse' or 'mse' instead, as trees should use a least-square criterion in Gradient Boosting.\n",
      "  warnings.warn(\"criterion='mae' was deprecated in version 0.24 and \"\n"
     ]
    },
    {
     "name": "stdout",
     "output_type": "stream",
     "text": [
      "param: {'model': 'GBC', 'max_depth': 6, 'criterion': 'mae', 'min_impurity_decrease': 0.0696081616316372, 'min_samples_leaf': 20}\n"
     ]
    },
    {
     "name": "stderr",
     "output_type": "stream",
     "text": [
      "C:\\Users\\Asus\\anaconda3\\lib\\site-packages\\sklearn\\ensemble\\_gb.py:1118: FutureWarning: criterion='mae' was deprecated in version 0.24 and will be removed in version 1.1 (renaming of 0.26). Use criterion='friedman_mse' or 'mse' instead, as trees should use a least-square criterion in Gradient Boosting.\n",
      "  warnings.warn(\"criterion='mae' was deprecated in version 0.24 and \"\n"
     ]
    },
    {
     "name": "stdout",
     "output_type": "stream",
     "text": [
      "param: {'model': 'RFC', 'max_depth': 9, 'criterion': 'entropy', 'min_impurity_decrease': 0.02268521778704493, 'min_samples_leaf': 0.09713541088192645}\n",
      "param: {'model': 'RFC', 'max_depth': 3, 'criterion': 'gini', 'min_impurity_decrease': 0.0802497596862381, 'min_samples_leaf': 0.08921915297782285}\n",
      "param: {'model': 'RFC', 'max_depth': 4, 'criterion': 'gini', 'min_impurity_decrease': 0.0538745438213525, 'min_samples_leaf': 19}\n",
      "param: {'model': 'RFC', 'max_depth': 5, 'criterion': 'entropy', 'min_impurity_decrease': 0.0666425139139535, 'min_samples_leaf': 1}\n",
      "param: {'model': 'RFC', 'max_depth': 7, 'criterion': 'entropy', 'min_impurity_decrease': 0.01675323507696842, 'min_samples_leaf': 0.04463447704860476}\n",
      "param: {'model': 'RFC', 'max_depth': 1, 'criterion': 'entropy', 'min_impurity_decrease': 0.009516514155357491, 'min_samples_leaf': 11}\n",
      "param: {'model': 'RFC', 'max_depth': 1, 'criterion': 'entropy', 'min_impurity_decrease': 0.05256360742453407, 'min_samples_leaf': 0.08214919040473154}\n",
      "param: {'model': 'RFC', 'max_depth': 5, 'criterion': 'entropy', 'min_impurity_decrease': 0.0029272096846597708, 'min_samples_leaf': 8}\n",
      "param: {'model': 'RFC', 'max_depth': 5, 'criterion': 'entropy', 'min_impurity_decrease': 0.04876065816611953, 'min_samples_leaf': 0.023677770258087916}\n",
      "param: {'model': 'GBC', 'max_depth': 5, 'criterion': 'mae', 'min_impurity_decrease': 0.04321565625171311, 'min_samples_leaf': 0.016043864727881763}\n"
     ]
    },
    {
     "name": "stderr",
     "output_type": "stream",
     "text": [
      "C:\\Users\\Asus\\anaconda3\\lib\\site-packages\\sklearn\\ensemble\\_gb.py:1118: FutureWarning: criterion='mae' was deprecated in version 0.24 and will be removed in version 1.1 (renaming of 0.26). Use criterion='friedman_mse' or 'mse' instead, as trees should use a least-square criterion in Gradient Boosting.\n",
      "  warnings.warn(\"criterion='mae' was deprecated in version 0.24 and \"\n"
     ]
    },
    {
     "name": "stdout",
     "output_type": "stream",
     "text": [
      "param: {'model': 'GBC', 'max_depth': 6, 'criterion': 'mae', 'min_impurity_decrease': 0.060523342458392734, 'min_samples_leaf': 0.04479934129282417}\n"
     ]
    },
    {
     "name": "stderr",
     "output_type": "stream",
     "text": [
      "C:\\Users\\Asus\\anaconda3\\lib\\site-packages\\sklearn\\ensemble\\_gb.py:1118: FutureWarning: criterion='mae' was deprecated in version 0.24 and will be removed in version 1.1 (renaming of 0.26). Use criterion='friedman_mse' or 'mse' instead, as trees should use a least-square criterion in Gradient Boosting.\n",
      "  warnings.warn(\"criterion='mae' was deprecated in version 0.24 and \"\n"
     ]
    },
    {
     "name": "stdout",
     "output_type": "stream",
     "text": [
      "param: {'model': 'RFC', 'max_depth': 4, 'criterion': 'entropy', 'min_impurity_decrease': 0.05467818069311302, 'min_samples_leaf': 0.06838169226583035}\n",
      "param: {'model': 'RFC', 'max_depth': 7, 'criterion': 'entropy', 'min_impurity_decrease': 0.00466323546708759, 'min_samples_leaf': 8}\n",
      "param: {'model': 'RFC', 'max_depth': 2, 'criterion': 'gini', 'min_impurity_decrease': 0.09720931044781415, 'min_samples_leaf': 0.030064639649795243}\n",
      "param: {'model': 'GBC', 'max_depth': 2, 'criterion': 'friedman_mse', 'min_impurity_decrease': 0.025349607182526723, 'min_samples_leaf': 0.052280642843821154}\n",
      "param: {'model': 'RFC', 'max_depth': 3, 'criterion': 'entropy', 'min_impurity_decrease': 0.06913323149614217, 'min_samples_leaf': 0.05792261653835386}\n",
      "param: {'model': 'RFC', 'max_depth': 6, 'criterion': 'gini', 'min_impurity_decrease': 0.010913059427338723, 'min_samples_leaf': 0.07304768189419146}\n",
      "param: {'model': 'RFC', 'max_depth': 3, 'criterion': 'gini', 'min_impurity_decrease': 0.02483149305547776, 'min_samples_leaf': 0.0310003190257075}\n",
      "param: {'model': 'GBC', 'max_depth': 9, 'criterion': 'friedman_mse', 'min_impurity_decrease': 0.06521519833327852, 'min_samples_leaf': 6}\n",
      "param: {'model': 'RFC', 'max_depth': 10, 'criterion': 'gini', 'min_impurity_decrease': 0.07933184976288149, 'min_samples_leaf': 16}\n",
      "param: {'model': 'GBC', 'max_depth': 1, 'criterion': 'mae', 'min_impurity_decrease': 0.058839966586508016, 'min_samples_leaf': 0.06099631601887049}\n"
     ]
    },
    {
     "name": "stderr",
     "output_type": "stream",
     "text": [
      "C:\\Users\\Asus\\anaconda3\\lib\\site-packages\\sklearn\\ensemble\\_gb.py:1118: FutureWarning: criterion='mae' was deprecated in version 0.24 and will be removed in version 1.1 (renaming of 0.26). Use criterion='friedman_mse' or 'mse' instead, as trees should use a least-square criterion in Gradient Boosting.\n",
      "  warnings.warn(\"criterion='mae' was deprecated in version 0.24 and \"\n"
     ]
    },
    {
     "name": "stdout",
     "output_type": "stream",
     "text": [
      "param: {'model': 'GBC', 'max_depth': 7, 'criterion': 'friedman_mse', 'min_impurity_decrease': 0.08369190479704515, 'min_samples_leaf': 20}\n",
      "param: {'model': 'RFC', 'max_depth': 10, 'criterion': 'gini', 'min_impurity_decrease': 0.07684612046790948, 'min_samples_leaf': 0.07367113028501646}\n",
      "param: {'model': 'RFC', 'max_depth': 2, 'criterion': 'entropy', 'min_impurity_decrease': 0.005536984091812214, 'min_samples_leaf': 0.0458495443294058}\n",
      "param: {'model': 'GBC', 'max_depth': 4, 'criterion': 'friedman_mse', 'min_impurity_decrease': 0.07858392711890458, 'min_samples_leaf': 6}\n",
      "param: {'model': 'GBC', 'max_depth': 1, 'criterion': 'mae', 'min_impurity_decrease': 0.08402192116390299, 'min_samples_leaf': 16}\n"
     ]
    },
    {
     "name": "stderr",
     "output_type": "stream",
     "text": [
      "C:\\Users\\Asus\\anaconda3\\lib\\site-packages\\sklearn\\ensemble\\_gb.py:1118: FutureWarning: criterion='mae' was deprecated in version 0.24 and will be removed in version 1.1 (renaming of 0.26). Use criterion='friedman_mse' or 'mse' instead, as trees should use a least-square criterion in Gradient Boosting.\n",
      "  warnings.warn(\"criterion='mae' was deprecated in version 0.24 and \"\n"
     ]
    },
    {
     "name": "stdout",
     "output_type": "stream",
     "text": [
      "param: {'model': 'RFC', 'max_depth': 6, 'criterion': 'entropy', 'min_impurity_decrease': 0.06974595816792808, 'min_samples_leaf': 7}\n",
      "param: {'model': 'RFC', 'max_depth': 3, 'criterion': 'gini', 'min_impurity_decrease': 0.0850217398722299, 'min_samples_leaf': 0.05855467753634893}\n",
      "param: {'model': 'RFC', 'max_depth': 4, 'criterion': 'entropy', 'min_impurity_decrease': 0.04976635846322577, 'min_samples_leaf': 13}\n",
      "param: {'model': 'GBC', 'max_depth': 1, 'criterion': 'friedman_mse', 'min_impurity_decrease': 0.09423165945952483, 'min_samples_leaf': 12}\n",
      "param: {'model': 'GBC', 'max_depth': 2, 'criterion': 'friedman_mse', 'min_impurity_decrease': 0.030970612488024442, 'min_samples_leaf': 0.035452881504737174}\n",
      "param: {'model': 'GBC', 'max_depth': 6, 'criterion': 'mae', 'min_impurity_decrease': 0.01565464322871333, 'min_samples_leaf': 3}\n"
     ]
    },
    {
     "name": "stderr",
     "output_type": "stream",
     "text": [
      "C:\\Users\\Asus\\anaconda3\\lib\\site-packages\\sklearn\\ensemble\\_gb.py:1118: FutureWarning: criterion='mae' was deprecated in version 0.24 and will be removed in version 1.1 (renaming of 0.26). Use criterion='friedman_mse' or 'mse' instead, as trees should use a least-square criterion in Gradient Boosting.\n",
      "  warnings.warn(\"criterion='mae' was deprecated in version 0.24 and \"\n"
     ]
    },
    {
     "name": "stdout",
     "output_type": "stream",
     "text": [
      "param: {'model': 'RFC', 'max_depth': 7, 'criterion': 'gini', 'min_impurity_decrease': 0.019356311502167232, 'min_samples_leaf': 9}\n",
      "param: {'model': 'GBC', 'max_depth': 5, 'criterion': 'friedman_mse', 'min_impurity_decrease': 0.02892910715413416, 'min_samples_leaf': 0.031809119070973266}\n",
      "param: {'model': 'GBC', 'max_depth': 8, 'criterion': 'friedman_mse', 'min_impurity_decrease': 0.06153530273177562, 'min_samples_leaf': 0.02638607122648865}\n",
      "param: {'model': 'GBC', 'max_depth': 1, 'criterion': 'mae', 'min_impurity_decrease': 0.01793989834065004, 'min_samples_leaf': 8}\n"
     ]
    },
    {
     "name": "stderr",
     "output_type": "stream",
     "text": [
      "C:\\Users\\Asus\\anaconda3\\lib\\site-packages\\sklearn\\ensemble\\_gb.py:1118: FutureWarning: criterion='mae' was deprecated in version 0.24 and will be removed in version 1.1 (renaming of 0.26). Use criterion='friedman_mse' or 'mse' instead, as trees should use a least-square criterion in Gradient Boosting.\n",
      "  warnings.warn(\"criterion='mae' was deprecated in version 0.24 and \"\n"
     ]
    },
    {
     "name": "stdout",
     "output_type": "stream",
     "text": [
      "param: {'model': 'RFC', 'max_depth': 5, 'criterion': 'entropy', 'min_impurity_decrease': 0.06887459154437794, 'min_samples_leaf': 11}\n",
      "param: {'model': 'RFC', 'max_depth': 4, 'criterion': 'entropy', 'min_impurity_decrease': 0.08580063753934583, 'min_samples_leaf': 17}\n",
      "param: {'model': 'GBC', 'max_depth': 6, 'criterion': 'mae', 'min_impurity_decrease': 0.0708815670574938, 'min_samples_leaf': 0.002529971685961607}\n"
     ]
    },
    {
     "name": "stderr",
     "output_type": "stream",
     "text": [
      "C:\\Users\\Asus\\anaconda3\\lib\\site-packages\\sklearn\\ensemble\\_gb.py:1118: FutureWarning: criterion='mae' was deprecated in version 0.24 and will be removed in version 1.1 (renaming of 0.26). Use criterion='friedman_mse' or 'mse' instead, as trees should use a least-square criterion in Gradient Boosting.\n",
      "  warnings.warn(\"criterion='mae' was deprecated in version 0.24 and \"\n"
     ]
    },
    {
     "name": "stdout",
     "output_type": "stream",
     "text": [
      "param: {'model': 'RFC', 'max_depth': 9, 'criterion': 'gini', 'min_impurity_decrease': 0.09440096982433423, 'min_samples_leaf': 0.044918147802673204}\n",
      "param: {'model': 'GBC', 'max_depth': 2, 'criterion': 'mae', 'min_impurity_decrease': 0.035014755502096505, 'min_samples_leaf': 7}\n"
     ]
    },
    {
     "name": "stderr",
     "output_type": "stream",
     "text": [
      "C:\\Users\\Asus\\anaconda3\\lib\\site-packages\\sklearn\\ensemble\\_gb.py:1118: FutureWarning: criterion='mae' was deprecated in version 0.24 and will be removed in version 1.1 (renaming of 0.26). Use criterion='friedman_mse' or 'mse' instead, as trees should use a least-square criterion in Gradient Boosting.\n",
      "  warnings.warn(\"criterion='mae' was deprecated in version 0.24 and \"\n"
     ]
    },
    {
     "name": "stdout",
     "output_type": "stream",
     "text": [
      "param: {'model': 'RFC', 'max_depth': 7, 'criterion': 'gini', 'min_impurity_decrease': 0.04492014252216121, 'min_samples_leaf': 18}\n",
      "param: {'model': 'GBC', 'max_depth': 1, 'criterion': 'friedman_mse', 'min_impurity_decrease': 0.034035898190863535, 'min_samples_leaf': 0.005393411998739472}\n",
      "param: {'model': 'RFC', 'max_depth': 10, 'criterion': 'gini', 'min_impurity_decrease': 0.06705612544741166, 'min_samples_leaf': 0.00873125947909007}\n",
      "param: {'model': 'RFC', 'max_depth': 4, 'criterion': 'entropy', 'min_impurity_decrease': 0.0013423572833080265, 'min_samples_leaf': 0.04734432855799965}\n",
      "param: {'model': 'RFC', 'max_depth': 7, 'criterion': 'entropy', 'min_impurity_decrease': 0.033057194927027266, 'min_samples_leaf': 10}\n",
      "param: {'model': 'RFC', 'max_depth': 6, 'criterion': 'gini', 'min_impurity_decrease': 0.016974627163692402, 'min_samples_leaf': 0.09143989969564427}\n",
      "param: {'model': 'RFC', 'max_depth': 8, 'criterion': 'gini', 'min_impurity_decrease': 0.05667516801002309, 'min_samples_leaf': 0.0037906242170727246}\n",
      "param: {'model': 'RFC', 'max_depth': 5, 'criterion': 'entropy', 'min_impurity_decrease': 0.0938929380152111, 'min_samples_leaf': 0.0978189025018555}\n",
      "param: {'model': 'GBC', 'max_depth': 10, 'criterion': 'mae', 'min_impurity_decrease': 0.09820963813289375, 'min_samples_leaf': 0.025948880194804912}\n"
     ]
    },
    {
     "name": "stderr",
     "output_type": "stream",
     "text": [
      "C:\\Users\\Asus\\anaconda3\\lib\\site-packages\\sklearn\\ensemble\\_gb.py:1118: FutureWarning: criterion='mae' was deprecated in version 0.24 and will be removed in version 1.1 (renaming of 0.26). Use criterion='friedman_mse' or 'mse' instead, as trees should use a least-square criterion in Gradient Boosting.\n",
      "  warnings.warn(\"criterion='mae' was deprecated in version 0.24 and \"\n"
     ]
    },
    {
     "name": "stdout",
     "output_type": "stream",
     "text": [
      "param: {'model': 'RFC', 'max_depth': 4, 'criterion': 'entropy', 'min_impurity_decrease': 0.007330654393531954, 'min_samples_leaf': 0.0782620178300101}\n",
      "param: {'model': 'GBC', 'max_depth': 7, 'criterion': 'mae', 'min_impurity_decrease': 0.08679351961731006, 'min_samples_leaf': 20}\n"
     ]
    },
    {
     "name": "stderr",
     "output_type": "stream",
     "text": [
      "C:\\Users\\Asus\\anaconda3\\lib\\site-packages\\sklearn\\ensemble\\_gb.py:1118: FutureWarning: criterion='mae' was deprecated in version 0.24 and will be removed in version 1.1 (renaming of 0.26). Use criterion='friedman_mse' or 'mse' instead, as trees should use a least-square criterion in Gradient Boosting.\n",
      "  warnings.warn(\"criterion='mae' was deprecated in version 0.24 and \"\n"
     ]
    },
    {
     "name": "stdout",
     "output_type": "stream",
     "text": [
      "param: {'model': 'RFC', 'max_depth': 7, 'criterion': 'gini', 'min_impurity_decrease': 0.027440348964554974, 'min_samples_leaf': 0.06641785087619917}\n",
      "param: {'model': 'GBC', 'max_depth': 3, 'criterion': 'friedman_mse', 'min_impurity_decrease': 0.09281537065318969, 'min_samples_leaf': 0.04440633014170579}\n",
      "param: {'model': 'RFC', 'max_depth': 1, 'criterion': 'entropy', 'min_impurity_decrease': 0.054487561205336134, 'min_samples_leaf': 0.06605354839724448}\n",
      "param: {'model': 'RFC', 'max_depth': 1, 'criterion': 'gini', 'min_impurity_decrease': 0.08320533364880478, 'min_samples_leaf': 3}\n",
      "param: {'model': 'RFC', 'max_depth': 9, 'criterion': 'gini', 'min_impurity_decrease': 0.03180466365959596, 'min_samples_leaf': 4}\n",
      "param: {'model': 'GBC', 'max_depth': 2, 'criterion': 'friedman_mse', 'min_impurity_decrease': 0.00375171824956948, 'min_samples_leaf': 1}\n",
      "param: {'model': 'RFC', 'max_depth': 10, 'criterion': 'entropy', 'min_impurity_decrease': 0.07279613970143753, 'min_samples_leaf': 2}\n",
      "param: {'model': 'GBC', 'max_depth': 1, 'criterion': 'mae', 'min_impurity_decrease': 0.04232984412291679, 'min_samples_leaf': 0.06256132122022512}\n"
     ]
    },
    {
     "name": "stderr",
     "output_type": "stream",
     "text": [
      "C:\\Users\\Asus\\anaconda3\\lib\\site-packages\\sklearn\\ensemble\\_gb.py:1118: FutureWarning: criterion='mae' was deprecated in version 0.24 and will be removed in version 1.1 (renaming of 0.26). Use criterion='friedman_mse' or 'mse' instead, as trees should use a least-square criterion in Gradient Boosting.\n",
      "  warnings.warn(\"criterion='mae' was deprecated in version 0.24 and \"\n"
     ]
    },
    {
     "name": "stdout",
     "output_type": "stream",
     "text": [
      "param: {'model': 'RFC', 'max_depth': 4, 'criterion': 'entropy', 'min_impurity_decrease': 0.057042882494174996, 'min_samples_leaf': 0.07190626983987285}\n",
      "param: {'model': 'GBC', 'max_depth': 6, 'criterion': 'mae', 'min_impurity_decrease': 0.03766714870122516, 'min_samples_leaf': 0.04301748001358814}\n"
     ]
    },
    {
     "name": "stderr",
     "output_type": "stream",
     "text": [
      "C:\\Users\\Asus\\anaconda3\\lib\\site-packages\\sklearn\\ensemble\\_gb.py:1118: FutureWarning: criterion='mae' was deprecated in version 0.24 and will be removed in version 1.1 (renaming of 0.26). Use criterion='friedman_mse' or 'mse' instead, as trees should use a least-square criterion in Gradient Boosting.\n",
      "  warnings.warn(\"criterion='mae' was deprecated in version 0.24 and \"\n"
     ]
    },
    {
     "name": "stdout",
     "output_type": "stream",
     "text": [
      "param: {'model': 'GBC', 'max_depth': 1, 'criterion': 'friedman_mse', 'min_impurity_decrease': 0.04236136306844401, 'min_samples_leaf': 4}\n",
      "param: {'model': 'RFC', 'max_depth': 4, 'criterion': 'gini', 'min_impurity_decrease': 0.08685574656724838, 'min_samples_leaf': 4}\n",
      "param: {'model': 'GBC', 'max_depth': 1, 'criterion': 'friedman_mse', 'min_impurity_decrease': 0.052328594195898005, 'min_samples_leaf': 0.017388733576654204}\n",
      "param: {'model': 'GBC', 'max_depth': 6, 'criterion': 'mae', 'min_impurity_decrease': 0.04737458506274238, 'min_samples_leaf': 0.040696005166086145}\n"
     ]
    },
    {
     "name": "stderr",
     "output_type": "stream",
     "text": [
      "C:\\Users\\Asus\\anaconda3\\lib\\site-packages\\sklearn\\ensemble\\_gb.py:1118: FutureWarning: criterion='mae' was deprecated in version 0.24 and will be removed in version 1.1 (renaming of 0.26). Use criterion='friedman_mse' or 'mse' instead, as trees should use a least-square criterion in Gradient Boosting.\n",
      "  warnings.warn(\"criterion='mae' was deprecated in version 0.24 and \"\n"
     ]
    },
    {
     "name": "stdout",
     "output_type": "stream",
     "text": [
      "param: {'model': 'RFC', 'max_depth': 10, 'criterion': 'gini', 'min_impurity_decrease': 0.032081200237179974, 'min_samples_leaf': 7}\n",
      "param: {'model': 'GBC', 'max_depth': 8, 'criterion': 'mae', 'min_impurity_decrease': 0.05892088830896536, 'min_samples_leaf': 0.055167489633442715}\n"
     ]
    },
    {
     "name": "stderr",
     "output_type": "stream",
     "text": [
      "C:\\Users\\Asus\\anaconda3\\lib\\site-packages\\sklearn\\ensemble\\_gb.py:1118: FutureWarning: criterion='mae' was deprecated in version 0.24 and will be removed in version 1.1 (renaming of 0.26). Use criterion='friedman_mse' or 'mse' instead, as trees should use a least-square criterion in Gradient Boosting.\n",
      "  warnings.warn(\"criterion='mae' was deprecated in version 0.24 and \"\n"
     ]
    },
    {
     "name": "stdout",
     "output_type": "stream",
     "text": [
      "param: {'model': 'RFC', 'max_depth': 4, 'criterion': 'gini', 'min_impurity_decrease': 0.0455978072140578, 'min_samples_leaf': 0.031242474654940934}\n",
      "param: {'model': 'RFC', 'max_depth': 9, 'criterion': 'entropy', 'min_impurity_decrease': 0.08869700915449671, 'min_samples_leaf': 0.05108956276910882}\n",
      "param: {'model': 'GBC', 'max_depth': 4, 'criterion': 'mae', 'min_impurity_decrease': 0.07550372566356965, 'min_samples_leaf': 5}\n"
     ]
    },
    {
     "name": "stderr",
     "output_type": "stream",
     "text": [
      "C:\\Users\\Asus\\anaconda3\\lib\\site-packages\\sklearn\\ensemble\\_gb.py:1118: FutureWarning: criterion='mae' was deprecated in version 0.24 and will be removed in version 1.1 (renaming of 0.26). Use criterion='friedman_mse' or 'mse' instead, as trees should use a least-square criterion in Gradient Boosting.\n",
      "  warnings.warn(\"criterion='mae' was deprecated in version 0.24 and \"\n"
     ]
    },
    {
     "name": "stdout",
     "output_type": "stream",
     "text": [
      "param: {'model': 'GBC', 'max_depth': 10, 'criterion': 'mae', 'min_impurity_decrease': 0.025373772815103068, 'min_samples_leaf': 8}\n"
     ]
    },
    {
     "name": "stderr",
     "output_type": "stream",
     "text": [
      "C:\\Users\\Asus\\anaconda3\\lib\\site-packages\\sklearn\\ensemble\\_gb.py:1118: FutureWarning: criterion='mae' was deprecated in version 0.24 and will be removed in version 1.1 (renaming of 0.26). Use criterion='friedman_mse' or 'mse' instead, as trees should use a least-square criterion in Gradient Boosting.\n",
      "  warnings.warn(\"criterion='mae' was deprecated in version 0.24 and \"\n"
     ]
    },
    {
     "name": "stdout",
     "output_type": "stream",
     "text": [
      "param: {'model': 'GBC', 'max_depth': 1, 'criterion': 'mae', 'min_impurity_decrease': 0.04487467957420982, 'min_samples_leaf': 6}\n"
     ]
    },
    {
     "name": "stderr",
     "output_type": "stream",
     "text": [
      "C:\\Users\\Asus\\anaconda3\\lib\\site-packages\\sklearn\\ensemble\\_gb.py:1118: FutureWarning: criterion='mae' was deprecated in version 0.24 and will be removed in version 1.1 (renaming of 0.26). Use criterion='friedman_mse' or 'mse' instead, as trees should use a least-square criterion in Gradient Boosting.\n",
      "  warnings.warn(\"criterion='mae' was deprecated in version 0.24 and \"\n"
     ]
    },
    {
     "name": "stdout",
     "output_type": "stream",
     "text": [
      "param: {'model': 'GBC', 'max_depth': 1, 'criterion': 'mae', 'min_impurity_decrease': 0.07039689921624295, 'min_samples_leaf': 18}\n"
     ]
    },
    {
     "name": "stderr",
     "output_type": "stream",
     "text": [
      "C:\\Users\\Asus\\anaconda3\\lib\\site-packages\\sklearn\\ensemble\\_gb.py:1118: FutureWarning: criterion='mae' was deprecated in version 0.24 and will be removed in version 1.1 (renaming of 0.26). Use criterion='friedman_mse' or 'mse' instead, as trees should use a least-square criterion in Gradient Boosting.\n",
      "  warnings.warn(\"criterion='mae' was deprecated in version 0.24 and \"\n"
     ]
    },
    {
     "name": "stdout",
     "output_type": "stream",
     "text": [
      "param: {'model': 'GBC', 'max_depth': 2, 'criterion': 'mae', 'min_impurity_decrease': 0.025581300386925198, 'min_samples_leaf': 0.016942930161698656}\n"
     ]
    },
    {
     "name": "stderr",
     "output_type": "stream",
     "text": [
      "C:\\Users\\Asus\\anaconda3\\lib\\site-packages\\sklearn\\ensemble\\_gb.py:1118: FutureWarning: criterion='mae' was deprecated in version 0.24 and will be removed in version 1.1 (renaming of 0.26). Use criterion='friedman_mse' or 'mse' instead, as trees should use a least-square criterion in Gradient Boosting.\n",
      "  warnings.warn(\"criterion='mae' was deprecated in version 0.24 and \"\n"
     ]
    },
    {
     "name": "stdout",
     "output_type": "stream",
     "text": [
      "param: {'model': 'RFC', 'max_depth': 9, 'criterion': 'entropy', 'min_impurity_decrease': 0.007867108802731337, 'min_samples_leaf': 0.035037702139637875}\n",
      "param: {'model': 'RFC', 'max_depth': 6, 'criterion': 'gini', 'min_impurity_decrease': 0.03056898807653541, 'min_samples_leaf': 0.029258320906750068}\n",
      "param: {'model': 'GBC', 'max_depth': 1, 'criterion': 'friedman_mse', 'min_impurity_decrease': 0.03623679258697056, 'min_samples_leaf': 19}\n",
      "param: {'model': 'GBC', 'max_depth': 3, 'criterion': 'friedman_mse', 'min_impurity_decrease': 0.008744052507335643, 'min_samples_leaf': 0.026745625044285005}\n",
      "param: {'model': 'GBC', 'max_depth': 9, 'criterion': 'mae', 'min_impurity_decrease': 0.048887002969140524, 'min_samples_leaf': 9}\n"
     ]
    },
    {
     "name": "stderr",
     "output_type": "stream",
     "text": [
      "C:\\Users\\Asus\\anaconda3\\lib\\site-packages\\sklearn\\ensemble\\_gb.py:1118: FutureWarning: criterion='mae' was deprecated in version 0.24 and will be removed in version 1.1 (renaming of 0.26). Use criterion='friedman_mse' or 'mse' instead, as trees should use a least-square criterion in Gradient Boosting.\n",
      "  warnings.warn(\"criterion='mae' was deprecated in version 0.24 and \"\n"
     ]
    },
    {
     "name": "stdout",
     "output_type": "stream",
     "text": [
      "\n",
      "\n",
      "\n",
      "GEN 19:\n",
      "param: {'model': 'GBC', 'max_depth': 10, 'criterion': 'friedman_mse', 'min_impurity_decrease': 0.00038311613214508933, 'min_samples_leaf': 0.007190747140933218}\n",
      "param: {'model': 'RFC', 'max_depth': 5, 'criterion': 'entropy', 'min_impurity_decrease': 0.011628278906052326, 'min_samples_leaf': 7}\n",
      "param: {'model': 'GBC', 'max_depth': 9, 'criterion': 'friedman_mse', 'min_impurity_decrease': 0.07430636504029477, 'min_samples_leaf': 0.001780630298525454}\n",
      "param: {'model': 'RFC', 'max_depth': 6, 'criterion': 'entropy', 'min_impurity_decrease': 0.035594778973733886, 'min_samples_leaf': 5}\n",
      "param: {'model': 'RFC', 'max_depth': 8, 'criterion': 'gini', 'min_impurity_decrease': 0.016426767390559437, 'min_samples_leaf': 0.011166025597349426}\n",
      "param: {'model': 'GBC', 'max_depth': 4, 'criterion': 'mae', 'min_impurity_decrease': 0.016101075106902174, 'min_samples_leaf': 0.016855582810408644}\n"
     ]
    },
    {
     "name": "stderr",
     "output_type": "stream",
     "text": [
      "C:\\Users\\Asus\\anaconda3\\lib\\site-packages\\sklearn\\ensemble\\_gb.py:1118: FutureWarning: criterion='mae' was deprecated in version 0.24 and will be removed in version 1.1 (renaming of 0.26). Use criterion='friedman_mse' or 'mse' instead, as trees should use a least-square criterion in Gradient Boosting.\n",
      "  warnings.warn(\"criterion='mae' was deprecated in version 0.24 and \"\n"
     ]
    },
    {
     "name": "stdout",
     "output_type": "stream",
     "text": [
      "param: {'model': 'GBC', 'max_depth': 2, 'criterion': 'friedman_mse', 'min_impurity_decrease': 0.0504666206417862, 'min_samples_leaf': 0.09860306006189556}\n",
      "param: {'model': 'RFC', 'max_depth': 7, 'criterion': 'gini', 'min_impurity_decrease': 0.04499260896455463, 'min_samples_leaf': 11}\n",
      "param: {'model': 'RFC', 'max_depth': 1, 'criterion': 'entropy', 'min_impurity_decrease': 0.04537093539695354, 'min_samples_leaf': 1}\n",
      "param: {'model': 'RFC', 'max_depth': 6, 'criterion': 'gini', 'min_impurity_decrease': 0.0735097829093467, 'min_samples_leaf': 14}\n",
      "param: {'model': 'GBC', 'max_depth': 1, 'criterion': 'friedman_mse', 'min_impurity_decrease': 0.03867011698430552, 'min_samples_leaf': 17}\n",
      "param: {'model': 'RFC', 'max_depth': 4, 'criterion': 'entropy', 'min_impurity_decrease': 0.08813992990438177, 'min_samples_leaf': 0.08147435225502538}\n",
      "param: {'model': 'GBC', 'max_depth': 5, 'criterion': 'mae', 'min_impurity_decrease': 0.02777298633745192, 'min_samples_leaf': 12}\n"
     ]
    },
    {
     "name": "stderr",
     "output_type": "stream",
     "text": [
      "C:\\Users\\Asus\\anaconda3\\lib\\site-packages\\sklearn\\ensemble\\_gb.py:1118: FutureWarning: criterion='mae' was deprecated in version 0.24 and will be removed in version 1.1 (renaming of 0.26). Use criterion='friedman_mse' or 'mse' instead, as trees should use a least-square criterion in Gradient Boosting.\n",
      "  warnings.warn(\"criterion='mae' was deprecated in version 0.24 and \"\n"
     ]
    },
    {
     "name": "stdout",
     "output_type": "stream",
     "text": [
      "param: {'model': 'GBC', 'max_depth': 8, 'criterion': 'friedman_mse', 'min_impurity_decrease': 0.06966950715853681, 'min_samples_leaf': 11}\n",
      "param: {'model': 'GBC', 'max_depth': 9, 'criterion': 'friedman_mse', 'min_impurity_decrease': 0.08905897130549213, 'min_samples_leaf': 8}\n",
      "param: {'model': 'RFC', 'max_depth': 4, 'criterion': 'gini', 'min_impurity_decrease': 0.08004246779767557, 'min_samples_leaf': 0.06720131241054136}\n",
      "param: {'model': 'GBC', 'max_depth': 4, 'criterion': 'friedman_mse', 'min_impurity_decrease': 0.04287372809693324, 'min_samples_leaf': 16}\n",
      "param: {'model': 'RFC', 'max_depth': 10, 'criterion': 'gini', 'min_impurity_decrease': 0.07096141234456263, 'min_samples_leaf': 9}\n",
      "param: {'model': 'RFC', 'max_depth': 4, 'criterion': 'entropy', 'min_impurity_decrease': 0.0933585474713352, 'min_samples_leaf': 0.04077411565110857}\n",
      "param: {'model': 'RFC', 'max_depth': 1, 'criterion': 'gini', 'min_impurity_decrease': 0.05598844021486656, 'min_samples_leaf': 0.017782103599968922}\n",
      "param: {'model': 'RFC', 'max_depth': 5, 'criterion': 'gini', 'min_impurity_decrease': 0.06430432948881612, 'min_samples_leaf': 4}\n",
      "param: {'model': 'RFC', 'max_depth': 9, 'criterion': 'entropy', 'min_impurity_decrease': 0.019224038367873307, 'min_samples_leaf': 0.097601561109017}\n",
      "param: {'model': 'RFC', 'max_depth': 9, 'criterion': 'gini', 'min_impurity_decrease': 0.0153822419591375, 'min_samples_leaf': 0.050879311658465154}\n",
      "param: {'model': 'RFC', 'max_depth': 10, 'criterion': 'gini', 'min_impurity_decrease': 0.03580781642279988, 'min_samples_leaf': 0.07976011052028834}\n",
      "param: {'model': 'RFC', 'max_depth': 10, 'criterion': 'entropy', 'min_impurity_decrease': 0.07826294491283978, 'min_samples_leaf': 0.0881567177319157}\n",
      "param: {'model': 'RFC', 'max_depth': 7, 'criterion': 'entropy', 'min_impurity_decrease': 0.05149392200472047, 'min_samples_leaf': 11}\n",
      "param: {'model': 'RFC', 'max_depth': 3, 'criterion': 'gini', 'min_impurity_decrease': 0.020666836198242465, 'min_samples_leaf': 15}\n",
      "param: {'model': 'GBC', 'max_depth': 3, 'criterion': 'mae', 'min_impurity_decrease': 0.03202639767594421, 'min_samples_leaf': 15}\n"
     ]
    },
    {
     "name": "stderr",
     "output_type": "stream",
     "text": [
      "C:\\Users\\Asus\\anaconda3\\lib\\site-packages\\sklearn\\ensemble\\_gb.py:1118: FutureWarning: criterion='mae' was deprecated in version 0.24 and will be removed in version 1.1 (renaming of 0.26). Use criterion='friedman_mse' or 'mse' instead, as trees should use a least-square criterion in Gradient Boosting.\n",
      "  warnings.warn(\"criterion='mae' was deprecated in version 0.24 and \"\n"
     ]
    },
    {
     "name": "stdout",
     "output_type": "stream",
     "text": [
      "param: {'model': 'RFC', 'max_depth': 2, 'criterion': 'gini', 'min_impurity_decrease': 0.06491191154890245, 'min_samples_leaf': 19}\n",
      "param: {'model': 'GBC', 'max_depth': 2, 'criterion': 'friedman_mse', 'min_impurity_decrease': 0.016578524974281982, 'min_samples_leaf': 0.053711552747892945}\n",
      "param: {'model': 'RFC', 'max_depth': 2, 'criterion': 'gini', 'min_impurity_decrease': 0.09878736227020947, 'min_samples_leaf': 0.042115082509366686}\n",
      "param: {'model': 'RFC', 'max_depth': 7, 'criterion': 'gini', 'min_impurity_decrease': 0.016899286175728202, 'min_samples_leaf': 0.04681696339479462}\n",
      "param: {'model': 'GBC', 'max_depth': 3, 'criterion': 'friedman_mse', 'min_impurity_decrease': 0.0533018785907842, 'min_samples_leaf': 0.005233432234320734}\n",
      "param: {'model': 'GBC', 'max_depth': 10, 'criterion': 'mae', 'min_impurity_decrease': 0.06307286300657432, 'min_samples_leaf': 0.0326931011492453}\n"
     ]
    },
    {
     "name": "stderr",
     "output_type": "stream",
     "text": [
      "C:\\Users\\Asus\\anaconda3\\lib\\site-packages\\sklearn\\ensemble\\_gb.py:1118: FutureWarning: criterion='mae' was deprecated in version 0.24 and will be removed in version 1.1 (renaming of 0.26). Use criterion='friedman_mse' or 'mse' instead, as trees should use a least-square criterion in Gradient Boosting.\n",
      "  warnings.warn(\"criterion='mae' was deprecated in version 0.24 and \"\n"
     ]
    },
    {
     "name": "stdout",
     "output_type": "stream",
     "text": [
      "param: {'model': 'GBC', 'max_depth': 6, 'criterion': 'mae', 'min_impurity_decrease': 0.03210951589254281, 'min_samples_leaf': 0.09431987886621516}\n"
     ]
    },
    {
     "name": "stderr",
     "output_type": "stream",
     "text": [
      "C:\\Users\\Asus\\anaconda3\\lib\\site-packages\\sklearn\\ensemble\\_gb.py:1118: FutureWarning: criterion='mae' was deprecated in version 0.24 and will be removed in version 1.1 (renaming of 0.26). Use criterion='friedman_mse' or 'mse' instead, as trees should use a least-square criterion in Gradient Boosting.\n",
      "  warnings.warn(\"criterion='mae' was deprecated in version 0.24 and \"\n"
     ]
    },
    {
     "name": "stdout",
     "output_type": "stream",
     "text": [
      "param: {'model': 'GBC', 'max_depth': 3, 'criterion': 'mae', 'min_impurity_decrease': 0.08330514349284773, 'min_samples_leaf': 0.07885171517579813}\n"
     ]
    },
    {
     "name": "stderr",
     "output_type": "stream",
     "text": [
      "C:\\Users\\Asus\\anaconda3\\lib\\site-packages\\sklearn\\ensemble\\_gb.py:1118: FutureWarning: criterion='mae' was deprecated in version 0.24 and will be removed in version 1.1 (renaming of 0.26). Use criterion='friedman_mse' or 'mse' instead, as trees should use a least-square criterion in Gradient Boosting.\n",
      "  warnings.warn(\"criterion='mae' was deprecated in version 0.24 and \"\n"
     ]
    },
    {
     "name": "stdout",
     "output_type": "stream",
     "text": [
      "param: {'model': 'RFC', 'max_depth': 9, 'criterion': 'entropy', 'min_impurity_decrease': 0.06574329646861846, 'min_samples_leaf': 19}\n",
      "param: {'model': 'GBC', 'max_depth': 3, 'criterion': 'mae', 'min_impurity_decrease': 0.07713993644272699, 'min_samples_leaf': 11}\n"
     ]
    },
    {
     "name": "stderr",
     "output_type": "stream",
     "text": [
      "C:\\Users\\Asus\\anaconda3\\lib\\site-packages\\sklearn\\ensemble\\_gb.py:1118: FutureWarning: criterion='mae' was deprecated in version 0.24 and will be removed in version 1.1 (renaming of 0.26). Use criterion='friedman_mse' or 'mse' instead, as trees should use a least-square criterion in Gradient Boosting.\n",
      "  warnings.warn(\"criterion='mae' was deprecated in version 0.24 and \"\n"
     ]
    },
    {
     "name": "stdout",
     "output_type": "stream",
     "text": [
      "param: {'model': 'RFC', 'max_depth': 4, 'criterion': 'entropy', 'min_impurity_decrease': 0.04511431656260323, 'min_samples_leaf': 0.019799374081680754}\n",
      "param: {'model': 'GBC', 'max_depth': 6, 'criterion': 'mae', 'min_impurity_decrease': 0.041647148291755684, 'min_samples_leaf': 0.0960135231967425}\n"
     ]
    },
    {
     "name": "stderr",
     "output_type": "stream",
     "text": [
      "C:\\Users\\Asus\\anaconda3\\lib\\site-packages\\sklearn\\ensemble\\_gb.py:1118: FutureWarning: criterion='mae' was deprecated in version 0.24 and will be removed in version 1.1 (renaming of 0.26). Use criterion='friedman_mse' or 'mse' instead, as trees should use a least-square criterion in Gradient Boosting.\n",
      "  warnings.warn(\"criterion='mae' was deprecated in version 0.24 and \"\n"
     ]
    },
    {
     "name": "stdout",
     "output_type": "stream",
     "text": [
      "param: {'model': 'GBC', 'max_depth': 4, 'criterion': 'mae', 'min_impurity_decrease': 0.08806743558707407, 'min_samples_leaf': 0.06848087185116422}\n"
     ]
    },
    {
     "name": "stderr",
     "output_type": "stream",
     "text": [
      "C:\\Users\\Asus\\anaconda3\\lib\\site-packages\\sklearn\\ensemble\\_gb.py:1118: FutureWarning: criterion='mae' was deprecated in version 0.24 and will be removed in version 1.1 (renaming of 0.26). Use criterion='friedman_mse' or 'mse' instead, as trees should use a least-square criterion in Gradient Boosting.\n",
      "  warnings.warn(\"criterion='mae' was deprecated in version 0.24 and \"\n"
     ]
    },
    {
     "name": "stdout",
     "output_type": "stream",
     "text": [
      "param: {'model': 'RFC', 'max_depth': 8, 'criterion': 'entropy', 'min_impurity_decrease': 0.07208802966598563, 'min_samples_leaf': 2}\n",
      "param: {'model': 'RFC', 'max_depth': 4, 'criterion': 'entropy', 'min_impurity_decrease': 0.05543830120048543, 'min_samples_leaf': 17}\n",
      "param: {'model': 'GBC', 'max_depth': 10, 'criterion': 'friedman_mse', 'min_impurity_decrease': 0.059026873169080576, 'min_samples_leaf': 0.06633806417520788}\n",
      "param: {'model': 'RFC', 'max_depth': 4, 'criterion': 'gini', 'min_impurity_decrease': 0.04062380157927509, 'min_samples_leaf': 0.010188061063750864}\n",
      "param: {'model': 'RFC', 'max_depth': 7, 'criterion': 'gini', 'min_impurity_decrease': 0.08594165938756768, 'min_samples_leaf': 0.08013161250811919}\n",
      "param: {'model': 'GBC', 'max_depth': 3, 'criterion': 'friedman_mse', 'min_impurity_decrease': 0.05677005325206178, 'min_samples_leaf': 1}\n",
      "param: {'model': 'GBC', 'max_depth': 5, 'criterion': 'mae', 'min_impurity_decrease': 0.022228881815786007, 'min_samples_leaf': 0.08478830996966266}\n"
     ]
    },
    {
     "name": "stderr",
     "output_type": "stream",
     "text": [
      "C:\\Users\\Asus\\anaconda3\\lib\\site-packages\\sklearn\\ensemble\\_gb.py:1118: FutureWarning: criterion='mae' was deprecated in version 0.24 and will be removed in version 1.1 (renaming of 0.26). Use criterion='friedman_mse' or 'mse' instead, as trees should use a least-square criterion in Gradient Boosting.\n",
      "  warnings.warn(\"criterion='mae' was deprecated in version 0.24 and \"\n"
     ]
    },
    {
     "name": "stdout",
     "output_type": "stream",
     "text": [
      "param: {'model': 'GBC', 'max_depth': 3, 'criterion': 'mae', 'min_impurity_decrease': 0.02429994241299771, 'min_samples_leaf': 18}\n"
     ]
    },
    {
     "name": "stderr",
     "output_type": "stream",
     "text": [
      "C:\\Users\\Asus\\anaconda3\\lib\\site-packages\\sklearn\\ensemble\\_gb.py:1118: FutureWarning: criterion='mae' was deprecated in version 0.24 and will be removed in version 1.1 (renaming of 0.26). Use criterion='friedman_mse' or 'mse' instead, as trees should use a least-square criterion in Gradient Boosting.\n",
      "  warnings.warn(\"criterion='mae' was deprecated in version 0.24 and \"\n"
     ]
    },
    {
     "name": "stdout",
     "output_type": "stream",
     "text": [
      "param: {'model': 'RFC', 'max_depth': 10, 'criterion': 'entropy', 'min_impurity_decrease': 0.050784081202143026, 'min_samples_leaf': 15}\n",
      "param: {'model': 'RFC', 'max_depth': 5, 'criterion': 'gini', 'min_impurity_decrease': 0.08990390363395553, 'min_samples_leaf': 19}\n",
      "param: {'model': 'RFC', 'max_depth': 10, 'criterion': 'gini', 'min_impurity_decrease': 0.0521086839351532, 'min_samples_leaf': 0.09057643626750769}\n",
      "param: {'model': 'RFC', 'max_depth': 8, 'criterion': 'entropy', 'min_impurity_decrease': 0.012811267936109372, 'min_samples_leaf': 0.036655244864778246}\n",
      "param: {'model': 'RFC', 'max_depth': 2, 'criterion': 'entropy', 'min_impurity_decrease': 0.05625426056949373, 'min_samples_leaf': 6}\n",
      "param: {'model': 'RFC', 'max_depth': 4, 'criterion': 'gini', 'min_impurity_decrease': 0.08398567913657891, 'min_samples_leaf': 0.05873263557246886}\n",
      "param: {'model': 'GBC', 'max_depth': 2, 'criterion': 'mae', 'min_impurity_decrease': 0.05276414181703184, 'min_samples_leaf': 0.014779542843484438}\n"
     ]
    },
    {
     "name": "stderr",
     "output_type": "stream",
     "text": [
      "C:\\Users\\Asus\\anaconda3\\lib\\site-packages\\sklearn\\ensemble\\_gb.py:1118: FutureWarning: criterion='mae' was deprecated in version 0.24 and will be removed in version 1.1 (renaming of 0.26). Use criterion='friedman_mse' or 'mse' instead, as trees should use a least-square criterion in Gradient Boosting.\n",
      "  warnings.warn(\"criterion='mae' was deprecated in version 0.24 and \"\n"
     ]
    },
    {
     "name": "stdout",
     "output_type": "stream",
     "text": [
      "param: {'model': 'RFC', 'max_depth': 6, 'criterion': 'entropy', 'min_impurity_decrease': 0.013380973911771687, 'min_samples_leaf': 19}\n",
      "param: {'model': 'GBC', 'max_depth': 9, 'criterion': 'mae', 'min_impurity_decrease': 0.04744386018657494, 'min_samples_leaf': 0.056033394347498613}\n"
     ]
    },
    {
     "name": "stderr",
     "output_type": "stream",
     "text": [
      "C:\\Users\\Asus\\anaconda3\\lib\\site-packages\\sklearn\\ensemble\\_gb.py:1118: FutureWarning: criterion='mae' was deprecated in version 0.24 and will be removed in version 1.1 (renaming of 0.26). Use criterion='friedman_mse' or 'mse' instead, as trees should use a least-square criterion in Gradient Boosting.\n",
      "  warnings.warn(\"criterion='mae' was deprecated in version 0.24 and \"\n"
     ]
    },
    {
     "name": "stdout",
     "output_type": "stream",
     "text": [
      "param: {'model': 'RFC', 'max_depth': 8, 'criterion': 'gini', 'min_impurity_decrease': 0.05074836431122285, 'min_samples_leaf': 0.04795948142479141}\n",
      "param: {'model': 'GBC', 'max_depth': 1, 'criterion': 'mae', 'min_impurity_decrease': 0.06062032937149716, 'min_samples_leaf': 16}\n"
     ]
    },
    {
     "name": "stderr",
     "output_type": "stream",
     "text": [
      "C:\\Users\\Asus\\anaconda3\\lib\\site-packages\\sklearn\\ensemble\\_gb.py:1118: FutureWarning: criterion='mae' was deprecated in version 0.24 and will be removed in version 1.1 (renaming of 0.26). Use criterion='friedman_mse' or 'mse' instead, as trees should use a least-square criterion in Gradient Boosting.\n",
      "  warnings.warn(\"criterion='mae' was deprecated in version 0.24 and \"\n"
     ]
    },
    {
     "name": "stdout",
     "output_type": "stream",
     "text": [
      "param: {'model': 'RFC', 'max_depth': 5, 'criterion': 'entropy', 'min_impurity_decrease': 0.0931737090353588, 'min_samples_leaf': 19}\n",
      "param: {'model': 'RFC', 'max_depth': 5, 'criterion': 'gini', 'min_impurity_decrease': 0.0820700091401483, 'min_samples_leaf': 7}\n",
      "param: {'model': 'RFC', 'max_depth': 9, 'criterion': 'gini', 'min_impurity_decrease': 0.008351853332848347, 'min_samples_leaf': 0.06435075913411595}\n",
      "param: {'model': 'GBC', 'max_depth': 4, 'criterion': 'mae', 'min_impurity_decrease': 0.050922711897549065, 'min_samples_leaf': 5}\n"
     ]
    },
    {
     "name": "stderr",
     "output_type": "stream",
     "text": [
      "C:\\Users\\Asus\\anaconda3\\lib\\site-packages\\sklearn\\ensemble\\_gb.py:1118: FutureWarning: criterion='mae' was deprecated in version 0.24 and will be removed in version 1.1 (renaming of 0.26). Use criterion='friedman_mse' or 'mse' instead, as trees should use a least-square criterion in Gradient Boosting.\n",
      "  warnings.warn(\"criterion='mae' was deprecated in version 0.24 and \"\n"
     ]
    },
    {
     "name": "stdout",
     "output_type": "stream",
     "text": [
      "param: {'model': 'GBC', 'max_depth': 3, 'criterion': 'friedman_mse', 'min_impurity_decrease': 0.09362260943314457, 'min_samples_leaf': 0.08177746046382714}\n",
      "param: {'model': 'RFC', 'max_depth': 10, 'criterion': 'gini', 'min_impurity_decrease': 0.07386891587761034, 'min_samples_leaf': 13}\n",
      "param: {'model': 'GBC', 'max_depth': 4, 'criterion': 'friedman_mse', 'min_impurity_decrease': 0.08630080734845966, 'min_samples_leaf': 0.05400487274401853}\n",
      "param: {'model': 'GBC', 'max_depth': 2, 'criterion': 'friedman_mse', 'min_impurity_decrease': 0.09405622142202567, 'min_samples_leaf': 8}\n",
      "param: {'model': 'RFC', 'max_depth': 6, 'criterion': 'entropy', 'min_impurity_decrease': 0.04873443071186624, 'min_samples_leaf': 1}\n",
      "param: {'model': 'RFC', 'max_depth': 1, 'criterion': 'entropy', 'min_impurity_decrease': 0.03682557460876055, 'min_samples_leaf': 0.09897112019088704}\n",
      "param: {'model': 'GBC', 'max_depth': 2, 'criterion': 'mae', 'min_impurity_decrease': 0.08744788089362387, 'min_samples_leaf': 11}\n"
     ]
    },
    {
     "name": "stderr",
     "output_type": "stream",
     "text": [
      "C:\\Users\\Asus\\anaconda3\\lib\\site-packages\\sklearn\\ensemble\\_gb.py:1118: FutureWarning: criterion='mae' was deprecated in version 0.24 and will be removed in version 1.1 (renaming of 0.26). Use criterion='friedman_mse' or 'mse' instead, as trees should use a least-square criterion in Gradient Boosting.\n",
      "  warnings.warn(\"criterion='mae' was deprecated in version 0.24 and \"\n"
     ]
    },
    {
     "name": "stdout",
     "output_type": "stream",
     "text": [
      "param: {'model': 'GBC', 'max_depth': 9, 'criterion': 'friedman_mse', 'min_impurity_decrease': 0.02191379464480152, 'min_samples_leaf': 0.04523904057311705}\n",
      "param: {'model': 'RFC', 'max_depth': 1, 'criterion': 'entropy', 'min_impurity_decrease': 0.030105257901430694, 'min_samples_leaf': 7}\n",
      "param: {'model': 'RFC', 'max_depth': 3, 'criterion': 'gini', 'min_impurity_decrease': 0.008121120219718114, 'min_samples_leaf': 11}\n",
      "param: {'model': 'GBC', 'max_depth': 7, 'criterion': 'friedman_mse', 'min_impurity_decrease': 0.09919909886656891, 'min_samples_leaf': 0.016030410546572338}\n",
      "param: {'model': 'GBC', 'max_depth': 5, 'criterion': 'mae', 'min_impurity_decrease': 0.06652338726673493, 'min_samples_leaf': 0.046464675865781346}\n"
     ]
    },
    {
     "name": "stderr",
     "output_type": "stream",
     "text": [
      "C:\\Users\\Asus\\anaconda3\\lib\\site-packages\\sklearn\\ensemble\\_gb.py:1118: FutureWarning: criterion='mae' was deprecated in version 0.24 and will be removed in version 1.1 (renaming of 0.26). Use criterion='friedman_mse' or 'mse' instead, as trees should use a least-square criterion in Gradient Boosting.\n",
      "  warnings.warn(\"criterion='mae' was deprecated in version 0.24 and \"\n"
     ]
    },
    {
     "name": "stdout",
     "output_type": "stream",
     "text": [
      "param: {'model': 'GBC', 'max_depth': 8, 'criterion': 'friedman_mse', 'min_impurity_decrease': 0.0742732850802391, 'min_samples_leaf': 0.06420532473182725}\n",
      "param: {'model': 'GBC', 'max_depth': 7, 'criterion': 'friedman_mse', 'min_impurity_decrease': 0.019364431218570722, 'min_samples_leaf': 1}\n",
      "param: {'model': 'RFC', 'max_depth': 3, 'criterion': 'entropy', 'min_impurity_decrease': 0.06438607385375536, 'min_samples_leaf': 0.037959604960966564}\n",
      "param: {'model': 'GBC', 'max_depth': 2, 'criterion': 'friedman_mse', 'min_impurity_decrease': 0.0389362657363594, 'min_samples_leaf': 0.004569169708495991}\n",
      "param: {'model': 'GBC', 'max_depth': 7, 'criterion': 'mae', 'min_impurity_decrease': 0.07518872087870086, 'min_samples_leaf': 0.009075011251202103}\n"
     ]
    },
    {
     "name": "stderr",
     "output_type": "stream",
     "text": [
      "C:\\Users\\Asus\\anaconda3\\lib\\site-packages\\sklearn\\ensemble\\_gb.py:1118: FutureWarning: criterion='mae' was deprecated in version 0.24 and will be removed in version 1.1 (renaming of 0.26). Use criterion='friedman_mse' or 'mse' instead, as trees should use a least-square criterion in Gradient Boosting.\n",
      "  warnings.warn(\"criterion='mae' was deprecated in version 0.24 and \"\n"
     ]
    },
    {
     "name": "stdout",
     "output_type": "stream",
     "text": [
      "param: {'model': 'RFC', 'max_depth': 7, 'criterion': 'entropy', 'min_impurity_decrease': 0.06463585233715004, 'min_samples_leaf': 1}\n",
      "param: {'model': 'GBC', 'max_depth': 8, 'criterion': 'mae', 'min_impurity_decrease': 0.0921743198479257, 'min_samples_leaf': 0.07737424831027698}\n"
     ]
    },
    {
     "name": "stderr",
     "output_type": "stream",
     "text": [
      "C:\\Users\\Asus\\anaconda3\\lib\\site-packages\\sklearn\\ensemble\\_gb.py:1118: FutureWarning: criterion='mae' was deprecated in version 0.24 and will be removed in version 1.1 (renaming of 0.26). Use criterion='friedman_mse' or 'mse' instead, as trees should use a least-square criterion in Gradient Boosting.\n",
      "  warnings.warn(\"criterion='mae' was deprecated in version 0.24 and \"\n"
     ]
    },
    {
     "name": "stdout",
     "output_type": "stream",
     "text": [
      "param: {'model': 'GBC', 'max_depth': 3, 'criterion': 'mae', 'min_impurity_decrease': 0.028379003165774897, 'min_samples_leaf': 1}\n"
     ]
    },
    {
     "name": "stderr",
     "output_type": "stream",
     "text": [
      "C:\\Users\\Asus\\anaconda3\\lib\\site-packages\\sklearn\\ensemble\\_gb.py:1118: FutureWarning: criterion='mae' was deprecated in version 0.24 and will be removed in version 1.1 (renaming of 0.26). Use criterion='friedman_mse' or 'mse' instead, as trees should use a least-square criterion in Gradient Boosting.\n",
      "  warnings.warn(\"criterion='mae' was deprecated in version 0.24 and \"\n"
     ]
    },
    {
     "name": "stdout",
     "output_type": "stream",
     "text": [
      "param: {'model': 'RFC', 'max_depth': 7, 'criterion': 'entropy', 'min_impurity_decrease': 0.01341896816033058, 'min_samples_leaf': 0.005877700608384018}\n",
      "param: {'model': 'GBC', 'max_depth': 5, 'criterion': 'friedman_mse', 'min_impurity_decrease': 0.020927410802529623, 'min_samples_leaf': 17}\n",
      "param: {'model': 'RFC', 'max_depth': 3, 'criterion': 'gini', 'min_impurity_decrease': 0.08402934364208012, 'min_samples_leaf': 14}\n",
      "param: {'model': 'RFC', 'max_depth': 3, 'criterion': 'gini', 'min_impurity_decrease': 0.030627600731455974, 'min_samples_leaf': 1}\n",
      "param: {'model': 'RFC', 'max_depth': 7, 'criterion': 'gini', 'min_impurity_decrease': 0.00798842527424981, 'min_samples_leaf': 6}\n",
      "param: {'model': 'GBC', 'max_depth': 5, 'criterion': 'mae', 'min_impurity_decrease': 0.028088680685501865, 'min_samples_leaf': 0.09578059644794126}\n"
     ]
    },
    {
     "name": "stderr",
     "output_type": "stream",
     "text": [
      "C:\\Users\\Asus\\anaconda3\\lib\\site-packages\\sklearn\\ensemble\\_gb.py:1118: FutureWarning: criterion='mae' was deprecated in version 0.24 and will be removed in version 1.1 (renaming of 0.26). Use criterion='friedman_mse' or 'mse' instead, as trees should use a least-square criterion in Gradient Boosting.\n",
      "  warnings.warn(\"criterion='mae' was deprecated in version 0.24 and \"\n"
     ]
    },
    {
     "name": "stdout",
     "output_type": "stream",
     "text": [
      "\n",
      "\n",
      "\n",
      "GEN 20:\n",
      "param: {'model': 'RFC', 'max_depth': 6, 'criterion': 'gini', 'min_impurity_decrease': 0.08427453652476721, 'min_samples_leaf': 5}\n",
      "param: {'model': 'GBC', 'max_depth': 4, 'criterion': 'friedman_mse', 'min_impurity_decrease': 0.0408983128959978, 'min_samples_leaf': 14}\n",
      "param: {'model': 'RFC', 'max_depth': 10, 'criterion': 'gini', 'min_impurity_decrease': 0.018484659820965067, 'min_samples_leaf': 12}\n",
      "param: {'model': 'GBC', 'max_depth': 5, 'criterion': 'mae', 'min_impurity_decrease': 0.061429910435605695, 'min_samples_leaf': 5}\n"
     ]
    },
    {
     "name": "stderr",
     "output_type": "stream",
     "text": [
      "C:\\Users\\Asus\\anaconda3\\lib\\site-packages\\sklearn\\ensemble\\_gb.py:1118: FutureWarning: criterion='mae' was deprecated in version 0.24 and will be removed in version 1.1 (renaming of 0.26). Use criterion='friedman_mse' or 'mse' instead, as trees should use a least-square criterion in Gradient Boosting.\n",
      "  warnings.warn(\"criterion='mae' was deprecated in version 0.24 and \"\n"
     ]
    },
    {
     "name": "stdout",
     "output_type": "stream",
     "text": [
      "param: {'model': 'GBC', 'max_depth': 3, 'criterion': 'mae', 'min_impurity_decrease': 0.05260931149978533, 'min_samples_leaf': 13}\n"
     ]
    },
    {
     "name": "stderr",
     "output_type": "stream",
     "text": [
      "C:\\Users\\Asus\\anaconda3\\lib\\site-packages\\sklearn\\ensemble\\_gb.py:1118: FutureWarning: criterion='mae' was deprecated in version 0.24 and will be removed in version 1.1 (renaming of 0.26). Use criterion='friedman_mse' or 'mse' instead, as trees should use a least-square criterion in Gradient Boosting.\n",
      "  warnings.warn(\"criterion='mae' was deprecated in version 0.24 and \"\n"
     ]
    },
    {
     "name": "stdout",
     "output_type": "stream",
     "text": [
      "param: {'model': 'RFC', 'max_depth': 6, 'criterion': 'gini', 'min_impurity_decrease': 0.055005582830151625, 'min_samples_leaf': 0.04126437127063178}\n",
      "param: {'model': 'RFC', 'max_depth': 10, 'criterion': 'gini', 'min_impurity_decrease': 0.02187511838937728, 'min_samples_leaf': 20}\n",
      "param: {'model': 'GBC', 'max_depth': 9, 'criterion': 'friedman_mse', 'min_impurity_decrease': 0.050043884398391726, 'min_samples_leaf': 0.0176915160432772}\n",
      "param: {'model': 'RFC', 'max_depth': 9, 'criterion': 'gini', 'min_impurity_decrease': 0.07922920638808212, 'min_samples_leaf': 0.09127448908840774}\n",
      "param: {'model': 'RFC', 'max_depth': 2, 'criterion': 'gini', 'min_impurity_decrease': 0.07659482213568435, 'min_samples_leaf': 0.021516552892838305}\n",
      "param: {'model': 'RFC', 'max_depth': 9, 'criterion': 'entropy', 'min_impurity_decrease': 0.05033158437369691, 'min_samples_leaf': 9}\n",
      "param: {'model': 'RFC', 'max_depth': 3, 'criterion': 'gini', 'min_impurity_decrease': 0.06946777355237707, 'min_samples_leaf': 12}\n",
      "param: {'model': 'RFC', 'max_depth': 9, 'criterion': 'gini', 'min_impurity_decrease': 0.06179720229691377, 'min_samples_leaf': 0.09911477474368627}\n",
      "param: {'model': 'RFC', 'max_depth': 3, 'criterion': 'gini', 'min_impurity_decrease': 0.046845003597436076, 'min_samples_leaf': 19}\n",
      "param: {'model': 'GBC', 'max_depth': 3, 'criterion': 'mae', 'min_impurity_decrease': 0.013171149640350354, 'min_samples_leaf': 0.0921944366999175}\n"
     ]
    },
    {
     "name": "stderr",
     "output_type": "stream",
     "text": [
      "C:\\Users\\Asus\\anaconda3\\lib\\site-packages\\sklearn\\ensemble\\_gb.py:1118: FutureWarning: criterion='mae' was deprecated in version 0.24 and will be removed in version 1.1 (renaming of 0.26). Use criterion='friedman_mse' or 'mse' instead, as trees should use a least-square criterion in Gradient Boosting.\n",
      "  warnings.warn(\"criterion='mae' was deprecated in version 0.24 and \"\n"
     ]
    },
    {
     "name": "stdout",
     "output_type": "stream",
     "text": [
      "param: {'model': 'GBC', 'max_depth': 8, 'criterion': 'mae', 'min_impurity_decrease': 0.04566818870551777, 'min_samples_leaf': 0.09472331172175931}\n"
     ]
    },
    {
     "name": "stderr",
     "output_type": "stream",
     "text": [
      "C:\\Users\\Asus\\anaconda3\\lib\\site-packages\\sklearn\\ensemble\\_gb.py:1118: FutureWarning: criterion='mae' was deprecated in version 0.24 and will be removed in version 1.1 (renaming of 0.26). Use criterion='friedman_mse' or 'mse' instead, as trees should use a least-square criterion in Gradient Boosting.\n",
      "  warnings.warn(\"criterion='mae' was deprecated in version 0.24 and \"\n"
     ]
    },
    {
     "name": "stdout",
     "output_type": "stream",
     "text": [
      "param: {'model': 'GBC', 'max_depth': 7, 'criterion': 'friedman_mse', 'min_impurity_decrease': 0.08882240524469076, 'min_samples_leaf': 0.01006008345730206}\n",
      "param: {'model': 'GBC', 'max_depth': 2, 'criterion': 'mae', 'min_impurity_decrease': 0.009395032232542344, 'min_samples_leaf': 0.015075026303399252}\n"
     ]
    },
    {
     "name": "stderr",
     "output_type": "stream",
     "text": [
      "C:\\Users\\Asus\\anaconda3\\lib\\site-packages\\sklearn\\ensemble\\_gb.py:1118: FutureWarning: criterion='mae' was deprecated in version 0.24 and will be removed in version 1.1 (renaming of 0.26). Use criterion='friedman_mse' or 'mse' instead, as trees should use a least-square criterion in Gradient Boosting.\n",
      "  warnings.warn(\"criterion='mae' was deprecated in version 0.24 and \"\n"
     ]
    },
    {
     "name": "stdout",
     "output_type": "stream",
     "text": [
      "param: {'model': 'RFC', 'max_depth': 2, 'criterion': 'entropy', 'min_impurity_decrease': 0.088159729686448, 'min_samples_leaf': 15}\n",
      "param: {'model': 'RFC', 'max_depth': 6, 'criterion': 'entropy', 'min_impurity_decrease': 0.08436842059404528, 'min_samples_leaf': 0.07341382020527885}\n",
      "param: {'model': 'GBC', 'max_depth': 2, 'criterion': 'friedman_mse', 'min_impurity_decrease': 0.035086202829575655, 'min_samples_leaf': 0.0026072864821461315}\n",
      "param: {'model': 'RFC', 'max_depth': 7, 'criterion': 'gini', 'min_impurity_decrease': 0.04938662261489325, 'min_samples_leaf': 16}\n",
      "param: {'model': 'GBC', 'max_depth': 2, 'criterion': 'mae', 'min_impurity_decrease': 0.04822602926598618, 'min_samples_leaf': 3}\n"
     ]
    },
    {
     "name": "stderr",
     "output_type": "stream",
     "text": [
      "C:\\Users\\Asus\\anaconda3\\lib\\site-packages\\sklearn\\ensemble\\_gb.py:1118: FutureWarning: criterion='mae' was deprecated in version 0.24 and will be removed in version 1.1 (renaming of 0.26). Use criterion='friedman_mse' or 'mse' instead, as trees should use a least-square criterion in Gradient Boosting.\n",
      "  warnings.warn(\"criterion='mae' was deprecated in version 0.24 and \"\n"
     ]
    },
    {
     "name": "stdout",
     "output_type": "stream",
     "text": [
      "param: {'model': 'RFC', 'max_depth': 2, 'criterion': 'entropy', 'min_impurity_decrease': 0.07889375692936622, 'min_samples_leaf': 0.00691171363766172}\n",
      "param: {'model': 'RFC', 'max_depth': 5, 'criterion': 'gini', 'min_impurity_decrease': 0.04167221451705033, 'min_samples_leaf': 0.09788737577201881}\n",
      "param: {'model': 'RFC', 'max_depth': 6, 'criterion': 'entropy', 'min_impurity_decrease': 0.06873873638107879, 'min_samples_leaf': 3}\n",
      "param: {'model': 'RFC', 'max_depth': 7, 'criterion': 'entropy', 'min_impurity_decrease': 0.021515813495072388, 'min_samples_leaf': 0.07484664394787352}\n",
      "param: {'model': 'RFC', 'max_depth': 1, 'criterion': 'gini', 'min_impurity_decrease': 0.0765575518672402, 'min_samples_leaf': 0.002786869169499229}\n",
      "param: {'model': 'RFC', 'max_depth': 9, 'criterion': 'gini', 'min_impurity_decrease': 0.0584929509717995, 'min_samples_leaf': 0.08740742307127981}\n",
      "param: {'model': 'RFC', 'max_depth': 9, 'criterion': 'entropy', 'min_impurity_decrease': 0.05904058210802825, 'min_samples_leaf': 16}\n",
      "param: {'model': 'RFC', 'max_depth': 3, 'criterion': 'gini', 'min_impurity_decrease': 0.02983006759679404, 'min_samples_leaf': 14}\n",
      "param: {'model': 'RFC', 'max_depth': 8, 'criterion': 'entropy', 'min_impurity_decrease': 0.0010324653311298837, 'min_samples_leaf': 0.007587970076581829}\n",
      "param: {'model': 'GBC', 'max_depth': 4, 'criterion': 'mae', 'min_impurity_decrease': 0.06843239755922374, 'min_samples_leaf': 7}\n"
     ]
    },
    {
     "name": "stderr",
     "output_type": "stream",
     "text": [
      "C:\\Users\\Asus\\anaconda3\\lib\\site-packages\\sklearn\\ensemble\\_gb.py:1118: FutureWarning: criterion='mae' was deprecated in version 0.24 and will be removed in version 1.1 (renaming of 0.26). Use criterion='friedman_mse' or 'mse' instead, as trees should use a least-square criterion in Gradient Boosting.\n",
      "  warnings.warn(\"criterion='mae' was deprecated in version 0.24 and \"\n"
     ]
    },
    {
     "name": "stdout",
     "output_type": "stream",
     "text": [
      "param: {'model': 'GBC', 'max_depth': 5, 'criterion': 'mae', 'min_impurity_decrease': 0.07186420880163008, 'min_samples_leaf': 14}\n"
     ]
    },
    {
     "name": "stderr",
     "output_type": "stream",
     "text": [
      "C:\\Users\\Asus\\anaconda3\\lib\\site-packages\\sklearn\\ensemble\\_gb.py:1118: FutureWarning: criterion='mae' was deprecated in version 0.24 and will be removed in version 1.1 (renaming of 0.26). Use criterion='friedman_mse' or 'mse' instead, as trees should use a least-square criterion in Gradient Boosting.\n",
      "  warnings.warn(\"criterion='mae' was deprecated in version 0.24 and \"\n"
     ]
    },
    {
     "name": "stdout",
     "output_type": "stream",
     "text": [
      "param: {'model': 'RFC', 'max_depth': 6, 'criterion': 'gini', 'min_impurity_decrease': 0.023257436673541843, 'min_samples_leaf': 0.035902893475029715}\n",
      "param: {'model': 'RFC', 'max_depth': 4, 'criterion': 'gini', 'min_impurity_decrease': 0.0057134542709857735, 'min_samples_leaf': 0.05396642685408402}\n",
      "param: {'model': 'GBC', 'max_depth': 2, 'criterion': 'mae', 'min_impurity_decrease': 0.005789636377472218, 'min_samples_leaf': 0.019232770096208253}\n"
     ]
    },
    {
     "name": "stderr",
     "output_type": "stream",
     "text": [
      "C:\\Users\\Asus\\anaconda3\\lib\\site-packages\\sklearn\\ensemble\\_gb.py:1118: FutureWarning: criterion='mae' was deprecated in version 0.24 and will be removed in version 1.1 (renaming of 0.26). Use criterion='friedman_mse' or 'mse' instead, as trees should use a least-square criterion in Gradient Boosting.\n",
      "  warnings.warn(\"criterion='mae' was deprecated in version 0.24 and \"\n"
     ]
    },
    {
     "name": "stdout",
     "output_type": "stream",
     "text": [
      "param: {'model': 'RFC', 'max_depth': 3, 'criterion': 'gini', 'min_impurity_decrease': 0.01945197448887972, 'min_samples_leaf': 0.09116743622000908}\n",
      "param: {'model': 'GBC', 'max_depth': 3, 'criterion': 'mae', 'min_impurity_decrease': 0.0895372418151616, 'min_samples_leaf': 6}\n"
     ]
    },
    {
     "name": "stderr",
     "output_type": "stream",
     "text": [
      "C:\\Users\\Asus\\anaconda3\\lib\\site-packages\\sklearn\\ensemble\\_gb.py:1118: FutureWarning: criterion='mae' was deprecated in version 0.24 and will be removed in version 1.1 (renaming of 0.26). Use criterion='friedman_mse' or 'mse' instead, as trees should use a least-square criterion in Gradient Boosting.\n",
      "  warnings.warn(\"criterion='mae' was deprecated in version 0.24 and \"\n"
     ]
    },
    {
     "name": "stdout",
     "output_type": "stream",
     "text": [
      "param: {'model': 'GBC', 'max_depth': 4, 'criterion': 'mae', 'min_impurity_decrease': 0.038601703250459904, 'min_samples_leaf': 0.03338720773571143}\n"
     ]
    },
    {
     "name": "stderr",
     "output_type": "stream",
     "text": [
      "C:\\Users\\Asus\\anaconda3\\lib\\site-packages\\sklearn\\ensemble\\_gb.py:1118: FutureWarning: criterion='mae' was deprecated in version 0.24 and will be removed in version 1.1 (renaming of 0.26). Use criterion='friedman_mse' or 'mse' instead, as trees should use a least-square criterion in Gradient Boosting.\n",
      "  warnings.warn(\"criterion='mae' was deprecated in version 0.24 and \"\n"
     ]
    },
    {
     "name": "stdout",
     "output_type": "stream",
     "text": [
      "param: {'model': 'RFC', 'max_depth': 4, 'criterion': 'gini', 'min_impurity_decrease': 0.032009449774565525, 'min_samples_leaf': 0.05034513566136763}\n",
      "param: {'model': 'RFC', 'max_depth': 10, 'criterion': 'gini', 'min_impurity_decrease': 0.09852366225615253, 'min_samples_leaf': 5}\n",
      "param: {'model': 'GBC', 'max_depth': 1, 'criterion': 'mae', 'min_impurity_decrease': 0.07597454615619266, 'min_samples_leaf': 5}\n"
     ]
    },
    {
     "name": "stderr",
     "output_type": "stream",
     "text": [
      "C:\\Users\\Asus\\anaconda3\\lib\\site-packages\\sklearn\\ensemble\\_gb.py:1118: FutureWarning: criterion='mae' was deprecated in version 0.24 and will be removed in version 1.1 (renaming of 0.26). Use criterion='friedman_mse' or 'mse' instead, as trees should use a least-square criterion in Gradient Boosting.\n",
      "  warnings.warn(\"criterion='mae' was deprecated in version 0.24 and \"\n"
     ]
    },
    {
     "name": "stdout",
     "output_type": "stream",
     "text": [
      "param: {'model': 'GBC', 'max_depth': 7, 'criterion': 'mae', 'min_impurity_decrease': 0.09187990218231061, 'min_samples_leaf': 0.07636420416823472}\n"
     ]
    },
    {
     "name": "stderr",
     "output_type": "stream",
     "text": [
      "C:\\Users\\Asus\\anaconda3\\lib\\site-packages\\sklearn\\ensemble\\_gb.py:1118: FutureWarning: criterion='mae' was deprecated in version 0.24 and will be removed in version 1.1 (renaming of 0.26). Use criterion='friedman_mse' or 'mse' instead, as trees should use a least-square criterion in Gradient Boosting.\n",
      "  warnings.warn(\"criterion='mae' was deprecated in version 0.24 and \"\n"
     ]
    },
    {
     "name": "stdout",
     "output_type": "stream",
     "text": [
      "param: {'model': 'RFC', 'max_depth': 2, 'criterion': 'gini', 'min_impurity_decrease': 0.03435357412177899, 'min_samples_leaf': 17}\n",
      "param: {'model': 'RFC', 'max_depth': 7, 'criterion': 'entropy', 'min_impurity_decrease': 0.05094521762943346, 'min_samples_leaf': 0.07305305137537181}\n",
      "param: {'model': 'GBC', 'max_depth': 1, 'criterion': 'mae', 'min_impurity_decrease': 0.09184577170587968, 'min_samples_leaf': 0.014776061969411013}\n"
     ]
    },
    {
     "name": "stderr",
     "output_type": "stream",
     "text": [
      "C:\\Users\\Asus\\anaconda3\\lib\\site-packages\\sklearn\\ensemble\\_gb.py:1118: FutureWarning: criterion='mae' was deprecated in version 0.24 and will be removed in version 1.1 (renaming of 0.26). Use criterion='friedman_mse' or 'mse' instead, as trees should use a least-square criterion in Gradient Boosting.\n",
      "  warnings.warn(\"criterion='mae' was deprecated in version 0.24 and \"\n"
     ]
    },
    {
     "name": "stdout",
     "output_type": "stream",
     "text": [
      "param: {'model': 'GBC', 'max_depth': 3, 'criterion': 'friedman_mse', 'min_impurity_decrease': 0.058026224624177426, 'min_samples_leaf': 0.011626119768218623}\n",
      "param: {'model': 'RFC', 'max_depth': 1, 'criterion': 'gini', 'min_impurity_decrease': 0.05734608784704678, 'min_samples_leaf': 3}\n",
      "param: {'model': 'RFC', 'max_depth': 5, 'criterion': 'entropy', 'min_impurity_decrease': 0.03148645012406872, 'min_samples_leaf': 0.09624598165459199}\n",
      "param: {'model': 'RFC', 'max_depth': 7, 'criterion': 'entropy', 'min_impurity_decrease': 0.02520780123081785, 'min_samples_leaf': 2}\n",
      "param: {'model': 'RFC', 'max_depth': 9, 'criterion': 'gini', 'min_impurity_decrease': 0.03816107188062211, 'min_samples_leaf': 12}\n",
      "param: {'model': 'RFC', 'max_depth': 3, 'criterion': 'gini', 'min_impurity_decrease': 0.03698874897745998, 'min_samples_leaf': 0.007249934943487723}\n",
      "param: {'model': 'GBC', 'max_depth': 2, 'criterion': 'mae', 'min_impurity_decrease': 0.09007747581174966, 'min_samples_leaf': 0.014055871062478109}\n"
     ]
    },
    {
     "name": "stderr",
     "output_type": "stream",
     "text": [
      "C:\\Users\\Asus\\anaconda3\\lib\\site-packages\\sklearn\\ensemble\\_gb.py:1118: FutureWarning: criterion='mae' was deprecated in version 0.24 and will be removed in version 1.1 (renaming of 0.26). Use criterion='friedman_mse' or 'mse' instead, as trees should use a least-square criterion in Gradient Boosting.\n",
      "  warnings.warn(\"criterion='mae' was deprecated in version 0.24 and \"\n"
     ]
    },
    {
     "name": "stdout",
     "output_type": "stream",
     "text": [
      "param: {'model': 'RFC', 'max_depth': 8, 'criterion': 'entropy', 'min_impurity_decrease': 0.0798972282620918, 'min_samples_leaf': 7}\n",
      "param: {'model': 'RFC', 'max_depth': 5, 'criterion': 'entropy', 'min_impurity_decrease': 0.04260283059132082, 'min_samples_leaf': 0.0975972316085588}\n",
      "param: {'model': 'RFC', 'max_depth': 6, 'criterion': 'entropy', 'min_impurity_decrease': 0.029780527136045364, 'min_samples_leaf': 0.005583298877752963}\n",
      "param: {'model': 'RFC', 'max_depth': 3, 'criterion': 'gini', 'min_impurity_decrease': 0.08595708134086784, 'min_samples_leaf': 10}\n",
      "param: {'model': 'GBC', 'max_depth': 2, 'criterion': 'mae', 'min_impurity_decrease': 0.07596523130608432, 'min_samples_leaf': 0.004609410840873129}\n"
     ]
    },
    {
     "name": "stderr",
     "output_type": "stream",
     "text": [
      "C:\\Users\\Asus\\anaconda3\\lib\\site-packages\\sklearn\\ensemble\\_gb.py:1118: FutureWarning: criterion='mae' was deprecated in version 0.24 and will be removed in version 1.1 (renaming of 0.26). Use criterion='friedman_mse' or 'mse' instead, as trees should use a least-square criterion in Gradient Boosting.\n",
      "  warnings.warn(\"criterion='mae' was deprecated in version 0.24 and \"\n"
     ]
    },
    {
     "name": "stdout",
     "output_type": "stream",
     "text": [
      "param: {'model': 'GBC', 'max_depth': 6, 'criterion': 'mae', 'min_impurity_decrease': 0.08455460999729411, 'min_samples_leaf': 1}\n"
     ]
    },
    {
     "name": "stderr",
     "output_type": "stream",
     "text": [
      "C:\\Users\\Asus\\anaconda3\\lib\\site-packages\\sklearn\\ensemble\\_gb.py:1118: FutureWarning: criterion='mae' was deprecated in version 0.24 and will be removed in version 1.1 (renaming of 0.26). Use criterion='friedman_mse' or 'mse' instead, as trees should use a least-square criterion in Gradient Boosting.\n",
      "  warnings.warn(\"criterion='mae' was deprecated in version 0.24 and \"\n"
     ]
    },
    {
     "name": "stdout",
     "output_type": "stream",
     "text": [
      "param: {'model': 'RFC', 'max_depth': 7, 'criterion': 'gini', 'min_impurity_decrease': 0.08996298936263812, 'min_samples_leaf': 5}\n",
      "param: {'model': 'RFC', 'max_depth': 2, 'criterion': 'gini', 'min_impurity_decrease': 0.08200164756557284, 'min_samples_leaf': 0.04428589789590069}\n",
      "param: {'model': 'GBC', 'max_depth': 10, 'criterion': 'mae', 'min_impurity_decrease': 0.012756975249179259, 'min_samples_leaf': 0.0816689698160887}\n"
     ]
    },
    {
     "name": "stderr",
     "output_type": "stream",
     "text": [
      "C:\\Users\\Asus\\anaconda3\\lib\\site-packages\\sklearn\\ensemble\\_gb.py:1118: FutureWarning: criterion='mae' was deprecated in version 0.24 and will be removed in version 1.1 (renaming of 0.26). Use criterion='friedman_mse' or 'mse' instead, as trees should use a least-square criterion in Gradient Boosting.\n",
      "  warnings.warn(\"criterion='mae' was deprecated in version 0.24 and \"\n"
     ]
    },
    {
     "name": "stdout",
     "output_type": "stream",
     "text": [
      "param: {'model': 'GBC', 'max_depth': 2, 'criterion': 'mae', 'min_impurity_decrease': 0.06505956445129697, 'min_samples_leaf': 0.07433574989648019}\n"
     ]
    },
    {
     "name": "stderr",
     "output_type": "stream",
     "text": [
      "C:\\Users\\Asus\\anaconda3\\lib\\site-packages\\sklearn\\ensemble\\_gb.py:1118: FutureWarning: criterion='mae' was deprecated in version 0.24 and will be removed in version 1.1 (renaming of 0.26). Use criterion='friedman_mse' or 'mse' instead, as trees should use a least-square criterion in Gradient Boosting.\n",
      "  warnings.warn(\"criterion='mae' was deprecated in version 0.24 and \"\n"
     ]
    },
    {
     "name": "stdout",
     "output_type": "stream",
     "text": [
      "param: {'model': 'GBC', 'max_depth': 7, 'criterion': 'friedman_mse', 'min_impurity_decrease': 0.01064691468533947, 'min_samples_leaf': 0.030616068760760153}\n",
      "param: {'model': 'GBC', 'max_depth': 8, 'criterion': 'mae', 'min_impurity_decrease': 0.060781790708738806, 'min_samples_leaf': 7}\n"
     ]
    },
    {
     "name": "stderr",
     "output_type": "stream",
     "text": [
      "C:\\Users\\Asus\\anaconda3\\lib\\site-packages\\sklearn\\ensemble\\_gb.py:1118: FutureWarning: criterion='mae' was deprecated in version 0.24 and will be removed in version 1.1 (renaming of 0.26). Use criterion='friedman_mse' or 'mse' instead, as trees should use a least-square criterion in Gradient Boosting.\n",
      "  warnings.warn(\"criterion='mae' was deprecated in version 0.24 and \"\n"
     ]
    },
    {
     "name": "stdout",
     "output_type": "stream",
     "text": [
      "param: {'model': 'RFC', 'max_depth': 10, 'criterion': 'gini', 'min_impurity_decrease': 0.08684593759696062, 'min_samples_leaf': 18}\n",
      "param: {'model': 'GBC', 'max_depth': 9, 'criterion': 'friedman_mse', 'min_impurity_decrease': 0.0090480586108592, 'min_samples_leaf': 15}\n",
      "param: {'model': 'GBC', 'max_depth': 5, 'criterion': 'mae', 'min_impurity_decrease': 0.05464712108806835, 'min_samples_leaf': 0.03275763237961029}\n"
     ]
    },
    {
     "name": "stderr",
     "output_type": "stream",
     "text": [
      "C:\\Users\\Asus\\anaconda3\\lib\\site-packages\\sklearn\\ensemble\\_gb.py:1118: FutureWarning: criterion='mae' was deprecated in version 0.24 and will be removed in version 1.1 (renaming of 0.26). Use criterion='friedman_mse' or 'mse' instead, as trees should use a least-square criterion in Gradient Boosting.\n",
      "  warnings.warn(\"criterion='mae' was deprecated in version 0.24 and \"\n"
     ]
    },
    {
     "name": "stdout",
     "output_type": "stream",
     "text": [
      "param: {'model': 'RFC', 'max_depth': 3, 'criterion': 'entropy', 'min_impurity_decrease': 0.09761916439721396, 'min_samples_leaf': 3}\n",
      "param: {'model': 'RFC', 'max_depth': 1, 'criterion': 'entropy', 'min_impurity_decrease': 0.02003811485701128, 'min_samples_leaf': 0.024365793708187054}\n",
      "param: {'model': 'RFC', 'max_depth': 1, 'criterion': 'entropy', 'min_impurity_decrease': 0.036181764477419234, 'min_samples_leaf': 0.052068847829298416}\n",
      "param: {'model': 'GBC', 'max_depth': 9, 'criterion': 'mae', 'min_impurity_decrease': 0.007652401162686584, 'min_samples_leaf': 0.04913603206950019}\n"
     ]
    },
    {
     "name": "stderr",
     "output_type": "stream",
     "text": [
      "C:\\Users\\Asus\\anaconda3\\lib\\site-packages\\sklearn\\ensemble\\_gb.py:1118: FutureWarning: criterion='mae' was deprecated in version 0.24 and will be removed in version 1.1 (renaming of 0.26). Use criterion='friedman_mse' or 'mse' instead, as trees should use a least-square criterion in Gradient Boosting.\n",
      "  warnings.warn(\"criterion='mae' was deprecated in version 0.24 and \"\n"
     ]
    },
    {
     "name": "stdout",
     "output_type": "stream",
     "text": [
      "param: {'model': 'RFC', 'max_depth': 7, 'criterion': 'entropy', 'min_impurity_decrease': 0.03674592750649834, 'min_samples_leaf': 0.0010608167678894276}\n",
      "param: {'model': 'GBC', 'max_depth': 5, 'criterion': 'friedman_mse', 'min_impurity_decrease': 0.09550374824651428, 'min_samples_leaf': 2}\n",
      "param: {'model': 'GBC', 'max_depth': 1, 'criterion': 'mae', 'min_impurity_decrease': 0.09439998272450437, 'min_samples_leaf': 0.06140101254245574}\n"
     ]
    },
    {
     "name": "stderr",
     "output_type": "stream",
     "text": [
      "C:\\Users\\Asus\\anaconda3\\lib\\site-packages\\sklearn\\ensemble\\_gb.py:1118: FutureWarning: criterion='mae' was deprecated in version 0.24 and will be removed in version 1.1 (renaming of 0.26). Use criterion='friedman_mse' or 'mse' instead, as trees should use a least-square criterion in Gradient Boosting.\n",
      "  warnings.warn(\"criterion='mae' was deprecated in version 0.24 and \"\n"
     ]
    },
    {
     "name": "stdout",
     "output_type": "stream",
     "text": [
      "param: {'model': 'GBC', 'max_depth': 6, 'criterion': 'mae', 'min_impurity_decrease': 0.0851443124254907, 'min_samples_leaf': 0.09005537055530752}\n"
     ]
    },
    {
     "name": "stderr",
     "output_type": "stream",
     "text": [
      "C:\\Users\\Asus\\anaconda3\\lib\\site-packages\\sklearn\\ensemble\\_gb.py:1118: FutureWarning: criterion='mae' was deprecated in version 0.24 and will be removed in version 1.1 (renaming of 0.26). Use criterion='friedman_mse' or 'mse' instead, as trees should use a least-square criterion in Gradient Boosting.\n",
      "  warnings.warn(\"criterion='mae' was deprecated in version 0.24 and \"\n"
     ]
    },
    {
     "name": "stdout",
     "output_type": "stream",
     "text": [
      "param: {'model': 'GBC', 'max_depth': 4, 'criterion': 'friedman_mse', 'min_impurity_decrease': 0.07724373852669028, 'min_samples_leaf': 2}\n",
      "param: {'model': 'RFC', 'max_depth': 3, 'criterion': 'gini', 'min_impurity_decrease': 0.026437209140434858, 'min_samples_leaf': 12}\n",
      "param: {'model': 'GBC', 'max_depth': 5, 'criterion': 'friedman_mse', 'min_impurity_decrease': 0.06970274079792224, 'min_samples_leaf': 16}\n",
      "param: {'model': 'RFC', 'max_depth': 6, 'criterion': 'gini', 'min_impurity_decrease': 0.07624645961430665, 'min_samples_leaf': 16}\n",
      "param: {'model': 'RFC', 'max_depth': 1, 'criterion': 'entropy', 'min_impurity_decrease': 0.06134544630942264, 'min_samples_leaf': 1}\n",
      "param: {'model': 'GBC', 'max_depth': 4, 'criterion': 'friedman_mse', 'min_impurity_decrease': 0.00458417261436066, 'min_samples_leaf': 0.04403981877627565}\n",
      "param: {'model': 'RFC', 'max_depth': 4, 'criterion': 'gini', 'min_impurity_decrease': 0.039578909956194785, 'min_samples_leaf': 0.07138982495718058}\n",
      "param: {'model': 'RFC', 'max_depth': 2, 'criterion': 'gini', 'min_impurity_decrease': 0.08739032986756995, 'min_samples_leaf': 5}\n",
      "param: {'model': 'GBC', 'max_depth': 7, 'criterion': 'mae', 'min_impurity_decrease': 0.08649724810239136, 'min_samples_leaf': 6}\n"
     ]
    },
    {
     "name": "stderr",
     "output_type": "stream",
     "text": [
      "C:\\Users\\Asus\\anaconda3\\lib\\site-packages\\sklearn\\ensemble\\_gb.py:1118: FutureWarning: criterion='mae' was deprecated in version 0.24 and will be removed in version 1.1 (renaming of 0.26). Use criterion='friedman_mse' or 'mse' instead, as trees should use a least-square criterion in Gradient Boosting.\n",
      "  warnings.warn(\"criterion='mae' was deprecated in version 0.24 and \"\n"
     ]
    },
    {
     "name": "stdout",
     "output_type": "stream",
     "text": [
      "param: {'model': 'RFC', 'max_depth': 4, 'criterion': 'entropy', 'min_impurity_decrease': 0.031046391431896515, 'min_samples_leaf': 8}\n",
      "param: {'model': 'GBC', 'max_depth': 5, 'criterion': 'friedman_mse', 'min_impurity_decrease': 0.061018657421711406, 'min_samples_leaf': 0.0184254829570062}\n",
      "param: {'model': 'GBC', 'max_depth': 5, 'criterion': 'friedman_mse', 'min_impurity_decrease': 0.044820431523457514, 'min_samples_leaf': 18}\n",
      "param: {'model': 'GBC', 'max_depth': 10, 'criterion': 'friedman_mse', 'min_impurity_decrease': 0.033128710619956724, 'min_samples_leaf': 0.051087114450934404}\n"
     ]
    }
   ],
   "source": [
    "params, models, eval_val, params_2nd, models_2nd, eval_val_2nd, params_3rd, models_3rd, eval_val_3rd, params_nth, models_nth, eval_val_nth = start_from_new(gen=20, n_select_max=10)"
   ]
  },
  {
   "cell_type": "markdown",
   "id": "6a74c117",
   "metadata": {},
   "source": [
    "### Results"
   ]
  },
  {
   "cell_type": "markdown",
   "id": "dd10849b",
   "metadata": {},
   "source": [
    "#### 1st gen"
   ]
  },
  {
   "cell_type": "code",
   "execution_count": 22,
   "id": "289986d7",
   "metadata": {
    "scrolled": true
   },
   "outputs": [
    {
     "data": {
      "text/plain": [
       "array([{'model': 'RFC', 'max_depth': 2, 'criterion': 'entropy', 'min_impurity_decrease': 0.026831972084402512, 'min_samples_leaf': 3},\n",
       "       {'model': 'RFC', 'max_depth': 2, 'criterion': 'entropy', 'min_impurity_decrease': 0.014011887389787392, 'min_samples_leaf': 0.013480633167493062},\n",
       "       {'model': 'RFC', 'max_depth': 7, 'criterion': 'gini', 'min_impurity_decrease': 0.007989889719185194, 'min_samples_leaf': 5},\n",
       "       {'model': 'RFC', 'max_depth': 3, 'criterion': 'entropy', 'min_impurity_decrease': 0.03253643133366811, 'min_samples_leaf': 7},\n",
       "       {'model': 'RFC', 'max_depth': 10, 'criterion': 'gini', 'min_impurity_decrease': 0.031933292587132525, 'min_samples_leaf': 0.039355626319636496},\n",
       "       {'model': 'RFC', 'max_depth': 6, 'criterion': 'gini', 'min_impurity_decrease': 0.028921224110944443, 'min_samples_leaf': 0.04590186336618278},\n",
       "       {'model': 'RFC', 'max_depth': 10, 'criterion': 'entropy', 'min_impurity_decrease': 0.04917205243528113, 'min_samples_leaf': 0.03213788764046457},\n",
       "       {'model': 'RFC', 'max_depth': 9, 'criterion': 'entropy', 'min_impurity_decrease': 0.04212942279957008, 'min_samples_leaf': 15},\n",
       "       {'model': 'RFC', 'max_depth': 4, 'criterion': 'gini', 'min_impurity_decrease': 0.020410011564576357, 'min_samples_leaf': 0.016794987022363917},\n",
       "       {'model': 'RFC', 'max_depth': 9, 'criterion': 'gini', 'min_impurity_decrease': 0.020536759329011743, 'min_samples_leaf': 0.060406252516394435},\n",
       "       {'model': 'RFC', 'max_depth': 8, 'criterion': 'entropy', 'min_impurity_decrease': 0.04412454820692378, 'min_samples_leaf': 2},\n",
       "       {'model': 'RFC', 'max_depth': 6, 'criterion': 'entropy', 'min_impurity_decrease': 0.019760663558304692, 'min_samples_leaf': 0.09464468923672359},\n",
       "       {'model': 'RFC', 'max_depth': 7, 'criterion': 'entropy', 'min_impurity_decrease': 0.01218894174982832, 'min_samples_leaf': 0.05335436294993693},\n",
       "       {'model': 'RFC', 'max_depth': 3, 'criterion': 'entropy', 'min_impurity_decrease': 0.026085742991754434, 'min_samples_leaf': 0.0661751053169085},\n",
       "       {'model': 'RFC', 'max_depth': 6, 'criterion': 'gini', 'min_impurity_decrease': 0.014278205064568117, 'min_samples_leaf': 0.06290071319432082},\n",
       "       {'model': 'RFC', 'max_depth': 10, 'criterion': 'gini', 'min_impurity_decrease': 0.013279882910072528, 'min_samples_leaf': 0.08297135881349951},\n",
       "       {'model': 'RFC', 'max_depth': 7, 'criterion': 'gini', 'min_impurity_decrease': 0.039242693115104275, 'min_samples_leaf': 0.013865188379063375},\n",
       "       {'model': 'RFC', 'max_depth': 8, 'criterion': 'entropy', 'min_impurity_decrease': 0.09943930760248296, 'min_samples_leaf': 0.029203312740148323},\n",
       "       {'model': 'RFC', 'max_depth': 9, 'criterion': 'entropy', 'min_impurity_decrease': 0.03646216551138091, 'min_samples_leaf': 0.057391204220525995},\n",
       "       {'model': 'RFC', 'max_depth': 4, 'criterion': 'entropy', 'min_impurity_decrease': 0.05699935287712564, 'min_samples_leaf': 0.0417546444612258},\n",
       "       {'model': 'RFC', 'max_depth': 5, 'criterion': 'gini', 'min_impurity_decrease': 0.04034261232625526, 'min_samples_leaf': 0.05146128345274829},\n",
       "       {'model': 'RFC', 'max_depth': 4, 'criterion': 'entropy', 'min_impurity_decrease': 0.02330637948290142, 'min_samples_leaf': 6},\n",
       "       {'model': 'RFC', 'max_depth': 5, 'criterion': 'gini', 'min_impurity_decrease': 0.03888556568716267, 'min_samples_leaf': 9},\n",
       "       {'model': 'RFC', 'max_depth': 10, 'criterion': 'gini', 'min_impurity_decrease': 0.03300383332182477, 'min_samples_leaf': 0.09534906761778036},\n",
       "       {'model': 'RFC', 'max_depth': 8, 'criterion': 'entropy', 'min_impurity_decrease': 0.06585243202941282, 'min_samples_leaf': 0.09342866281589692},\n",
       "       {'model': 'RFC', 'max_depth': 4, 'criterion': 'entropy', 'min_impurity_decrease': 0.014350534043386775, 'min_samples_leaf': 2},\n",
       "       {'model': 'RFC', 'max_depth': 5, 'criterion': 'entropy', 'min_impurity_decrease': 0.06019957832518119, 'min_samples_leaf': 14},\n",
       "       {'model': 'RFC', 'max_depth': 9, 'criterion': 'entropy', 'min_impurity_decrease': 0.07156525092840954, 'min_samples_leaf': 8},\n",
       "       {'model': 'RFC', 'max_depth': 1, 'criterion': 'entropy', 'min_impurity_decrease': 0.0276272684660377, 'min_samples_leaf': 0.07646410611954774},\n",
       "       {'model': 'RFC', 'max_depth': 1, 'criterion': 'entropy', 'min_impurity_decrease': 0.01760807048797406, 'min_samples_leaf': 4},\n",
       "       {'model': 'RFC', 'max_depth': 2, 'criterion': 'gini', 'min_impurity_decrease': 0.04055547552792793, 'min_samples_leaf': 0.08291527843689711},\n",
       "       {'model': 'RFC', 'max_depth': 4, 'criterion': 'gini', 'min_impurity_decrease': 0.07178581275572296, 'min_samples_leaf': 18},\n",
       "       {'model': 'RFC', 'max_depth': 4, 'criterion': 'entropy', 'min_impurity_decrease': 0.0863966722037747, 'min_samples_leaf': 7},\n",
       "       {'model': 'RFC', 'max_depth': 6, 'criterion': 'gini', 'min_impurity_decrease': 0.06398331012598099, 'min_samples_leaf': 0.052767551008692515},\n",
       "       {'model': 'RFC', 'max_depth': 8, 'criterion': 'entropy', 'min_impurity_decrease': 0.06607378269856465, 'min_samples_leaf': 9},\n",
       "       {'model': 'RFC', 'max_depth': 5, 'criterion': 'entropy', 'min_impurity_decrease': 0.09426439885168258, 'min_samples_leaf': 0.028415916668799966},\n",
       "       {'model': 'RFC', 'max_depth': 1, 'criterion': 'gini', 'min_impurity_decrease': 0.01079747136621625, 'min_samples_leaf': 6},\n",
       "       {'model': 'RFC', 'max_depth': 6, 'criterion': 'entropy', 'min_impurity_decrease': 0.09351680403628929, 'min_samples_leaf': 13},\n",
       "       {'model': 'RFC', 'max_depth': 7, 'criterion': 'gini', 'min_impurity_decrease': 0.07105080851846443, 'min_samples_leaf': 10},\n",
       "       {'model': 'GBC', 'max_depth': 4, 'criterion': 'mae', 'min_impurity_decrease': 0.022221862399948757, 'min_samples_leaf': 0.029175812622436348},\n",
       "       {'model': 'GBC', 'max_depth': 5, 'criterion': 'mae', 'min_impurity_decrease': 0.025429519136002377, 'min_samples_leaf': 4},\n",
       "       {'model': 'RFC', 'max_depth': 8, 'criterion': 'entropy', 'min_impurity_decrease': 0.07657825645270744, 'min_samples_leaf': 15},\n",
       "       {'model': 'RFC', 'max_depth': 5, 'criterion': 'entropy', 'min_impurity_decrease': 0.08888816338716621, 'min_samples_leaf': 0.016248922624133966},\n",
       "       {'model': 'RFC', 'max_depth': 5, 'criterion': 'gini', 'min_impurity_decrease': 0.06607180335650761, 'min_samples_leaf': 0.08256879691534424},\n",
       "       {'model': 'RFC', 'max_depth': 10, 'criterion': 'gini', 'min_impurity_decrease': 0.06712476012740766, 'min_samples_leaf': 13},\n",
       "       {'model': 'RFC', 'max_depth': 2, 'criterion': 'gini', 'min_impurity_decrease': 0.08006724255320453, 'min_samples_leaf': 2},\n",
       "       {'model': 'GBC', 'max_depth': 4, 'criterion': 'friedman_mse', 'min_impurity_decrease': 0.06584697387709901, 'min_samples_leaf': 14},\n",
       "       {'model': 'RFC', 'max_depth': 9, 'criterion': 'entropy', 'min_impurity_decrease': 0.08048907123471792, 'min_samples_leaf': 0.07247603267558793},\n",
       "       {'model': 'RFC', 'max_depth': 3, 'criterion': 'entropy', 'min_impurity_decrease': 0.08692515113708438, 'min_samples_leaf': 0.0051523715710279135},\n",
       "       {'model': 'RFC', 'max_depth': 3, 'criterion': 'entropy', 'min_impurity_decrease': 0.07368112532293296, 'min_samples_leaf': 0.016934675938351695},\n",
       "       {'model': 'GBC', 'max_depth': 3, 'criterion': 'friedman_mse', 'min_impurity_decrease': 0.04807324806113913, 'min_samples_leaf': 14},\n",
       "       {'model': 'GBC', 'max_depth': 3, 'criterion': 'friedman_mse', 'min_impurity_decrease': 0.018986936561575497, 'min_samples_leaf': 0.012540040399973928},\n",
       "       {'model': 'GBC', 'max_depth': 6, 'criterion': 'mae', 'min_impurity_decrease': 0.02813872065549843, 'min_samples_leaf': 0.03647934664334358},\n",
       "       {'model': 'GBC', 'max_depth': 3, 'criterion': 'mae', 'min_impurity_decrease': 0.027245228878777884, 'min_samples_leaf': 0.02352017579350596},\n",
       "       {'model': 'RFC', 'max_depth': 5, 'criterion': 'gini', 'min_impurity_decrease': 0.009223448752217523, 'min_samples_leaf': 0.06158967218724963},\n",
       "       {'model': 'GBC', 'max_depth': 8, 'criterion': 'friedman_mse', 'min_impurity_decrease': 0.009767926496551194, 'min_samples_leaf': 0.055554336698873455},\n",
       "       {'model': 'GBC', 'max_depth': 10, 'criterion': 'friedman_mse', 'min_impurity_decrease': 0.08610846603492207, 'min_samples_leaf': 0.018225998468967542},\n",
       "       {'model': 'GBC', 'max_depth': 9, 'criterion': 'friedman_mse', 'min_impurity_decrease': 0.05666351669378796, 'min_samples_leaf': 0.007675180804743531},\n",
       "       {'model': 'GBC', 'max_depth': 5, 'criterion': 'friedman_mse', 'min_impurity_decrease': 0.09133593454821634, 'min_samples_leaf': 17},\n",
       "       {'model': 'GBC', 'max_depth': 10, 'criterion': 'friedman_mse', 'min_impurity_decrease': 0.015433056947846746, 'min_samples_leaf': 6},\n",
       "       {'model': 'GBC', 'max_depth': 8, 'criterion': 'friedman_mse', 'min_impurity_decrease': 0.03362127725055929, 'min_samples_leaf': 6},\n",
       "       {'model': 'GBC', 'max_depth': 4, 'criterion': 'friedman_mse', 'min_impurity_decrease': 0.005174591090870384, 'min_samples_leaf': 16},\n",
       "       {'model': 'GBC', 'max_depth': 10, 'criterion': 'mae', 'min_impurity_decrease': 0.004503088161940916, 'min_samples_leaf': 0.0426204195933529},\n",
       "       {'model': 'GBC', 'max_depth': 7, 'criterion': 'mae', 'min_impurity_decrease': 0.015236885544546497, 'min_samples_leaf': 0.047382477445048435},\n",
       "       {'model': 'GBC', 'max_depth': 10, 'criterion': 'friedman_mse', 'min_impurity_decrease': 0.04831794757959327, 'min_samples_leaf': 7},\n",
       "       {'model': 'RFC', 'max_depth': 7, 'criterion': 'gini', 'min_impurity_decrease': 0.08392585484235923, 'min_samples_leaf': 4},\n",
       "       {'model': 'RFC', 'max_depth': 4, 'criterion': 'gini', 'min_impurity_decrease': 0.08883011389066076, 'min_samples_leaf': 19},\n",
       "       {'model': 'RFC', 'max_depth': 8, 'criterion': 'gini', 'min_impurity_decrease': 0.08794046014802606, 'min_samples_leaf': 2},\n",
       "       {'model': 'GBC', 'max_depth': 5, 'criterion': 'friedman_mse', 'min_impurity_decrease': 0.07590440337844669, 'min_samples_leaf': 20},\n",
       "       {'model': 'GBC', 'max_depth': 5, 'criterion': 'mae', 'min_impurity_decrease': 0.012673060682559467, 'min_samples_leaf': 0.06093928703294257},\n",
       "       {'model': 'GBC', 'max_depth': 5, 'criterion': 'friedman_mse', 'min_impurity_decrease': 0.046296808239257546, 'min_samples_leaf': 7},\n",
       "       {'model': 'GBC', 'max_depth': 3, 'criterion': 'mae', 'min_impurity_decrease': 0.05451569602112449, 'min_samples_leaf': 16},\n",
       "       {'model': 'GBC', 'max_depth': 1, 'criterion': 'mae', 'min_impurity_decrease': 0.035324128602705805, 'min_samples_leaf': 4},\n",
       "       {'model': 'GBC', 'max_depth': 5, 'criterion': 'mae', 'min_impurity_decrease': 0.06960064383300388, 'min_samples_leaf': 0.017184017844308584},\n",
       "       {'model': 'GBC', 'max_depth': 4, 'criterion': 'mae', 'min_impurity_decrease': 0.08942085448921089, 'min_samples_leaf': 18},\n",
       "       {'model': 'GBC', 'max_depth': 3, 'criterion': 'mae', 'min_impurity_decrease': 0.07403767378398932, 'min_samples_leaf': 0.07597010822735005},\n",
       "       {'model': 'GBC', 'max_depth': 6, 'criterion': 'mae', 'min_impurity_decrease': 0.0717212024040679, 'min_samples_leaf': 0.01277360277731271},\n",
       "       {'model': 'GBC', 'max_depth': 5, 'criterion': 'mae', 'min_impurity_decrease': 0.09894129644230096, 'min_samples_leaf': 15},\n",
       "       {'model': 'GBC', 'max_depth': 5, 'criterion': 'mae', 'min_impurity_decrease': 0.04587859031575141, 'min_samples_leaf': 17},\n",
       "       {'model': 'GBC', 'max_depth': 6, 'criterion': 'mae', 'min_impurity_decrease': 0.050477782998771537, 'min_samples_leaf': 0.08736693369585677},\n",
       "       {'model': 'GBC', 'max_depth': 3, 'criterion': 'mae', 'min_impurity_decrease': 0.05233496848248694, 'min_samples_leaf': 0.02856307970814098},\n",
       "       {'model': 'GBC', 'max_depth': 4, 'criterion': 'mae', 'min_impurity_decrease': 0.08404147271570743, 'min_samples_leaf': 0.02668490870203789},\n",
       "       {'model': 'GBC', 'max_depth': 10, 'criterion': 'mae', 'min_impurity_decrease': 0.06324354357261003, 'min_samples_leaf': 0.03387261011025443},\n",
       "       {'model': 'GBC', 'max_depth': 1, 'criterion': 'mae', 'min_impurity_decrease': 0.06770916871098977, 'min_samples_leaf': 17},\n",
       "       {'model': 'GBC', 'max_depth': 4, 'criterion': 'mae', 'min_impurity_decrease': 0.07711174332530149, 'min_samples_leaf': 6},\n",
       "       {'model': 'GBC', 'max_depth': 3, 'criterion': 'mae', 'min_impurity_decrease': 0.05313601239871426, 'min_samples_leaf': 0.08353196945448219},\n",
       "       {'model': 'GBC', 'max_depth': 2, 'criterion': 'mae', 'min_impurity_decrease': 0.09428754266063151, 'min_samples_leaf': 0.0795395755733944},\n",
       "       {'model': 'GBC', 'max_depth': 6, 'criterion': 'mae', 'min_impurity_decrease': 0.09803299871842754, 'min_samples_leaf': 0.05913131125247693},\n",
       "       {'model': 'RFC', 'max_depth': 9, 'criterion': 'gini', 'min_impurity_decrease': 0.08098914173137639, 'min_samples_leaf': 12},\n",
       "       {'model': 'GBC', 'max_depth': 9, 'criterion': 'friedman_mse', 'min_impurity_decrease': 0.09708505096492442, 'min_samples_leaf': 0.07521030220786637},\n",
       "       {'model': 'GBC', 'max_depth': 4, 'criterion': 'friedman_mse', 'min_impurity_decrease': 0.04775081937714509, 'min_samples_leaf': 0.08389240424194984},\n",
       "       {'model': 'GBC', 'max_depth': 6, 'criterion': 'friedman_mse', 'min_impurity_decrease': 0.0532351059305781, 'min_samples_leaf': 0.0671876610556841},\n",
       "       {'model': 'GBC', 'max_depth': 1, 'criterion': 'friedman_mse', 'min_impurity_decrease': 0.06839390696100697, 'min_samples_leaf': 12},\n",
       "       {'model': 'GBC', 'max_depth': 2, 'criterion': 'friedman_mse', 'min_impurity_decrease': 0.0017241255317109404, 'min_samples_leaf': 0.031229545068064312},\n",
       "       {'model': 'GBC', 'max_depth': 1, 'criterion': 'friedman_mse', 'min_impurity_decrease': 0.09845270676894843, 'min_samples_leaf': 0.0008465225794354048},\n",
       "       {'model': 'RFC', 'max_depth': 9, 'criterion': 'gini', 'min_impurity_decrease': 0.09193227876224479, 'min_samples_leaf': 0.061545996798817136},\n",
       "       {'model': 'RFC', 'max_depth': 6, 'criterion': 'gini', 'min_impurity_decrease': 0.09355461116972902, 'min_samples_leaf': 0.060936290592030116},\n",
       "       {'model': 'RFC', 'max_depth': 2, 'criterion': 'gini', 'min_impurity_decrease': 0.09581514104818907, 'min_samples_leaf': 0.03425891970526947},\n",
       "       {'model': 'RFC', 'max_depth': 8, 'criterion': 'gini', 'min_impurity_decrease': 0.09542019579150353, 'min_samples_leaf': 0.04799790008020244},\n",
       "       {'model': 'RFC', 'max_depth': 10, 'criterion': 'gini', 'min_impurity_decrease': 0.09615378879112615, 'min_samples_leaf': 12},\n",
       "       None], dtype=object)"
      ]
     },
     "execution_count": 22,
     "metadata": {},
     "output_type": "execute_result"
    }
   ],
   "source": [
    "params[np.argsort(eval_val[:, 3])[::-1]]"
   ]
  },
  {
   "cell_type": "code",
   "execution_count": 23,
   "id": "052aabf5",
   "metadata": {
    "scrolled": true
   },
   "outputs": [
    {
     "data": {
      "text/plain": [
       "array([RandomForestClassifier(criterion='entropy', max_depth=2,\n",
       "                              min_impurity_decrease=0.026831972084402512,\n",
       "                              min_samples_leaf=3, random_state=42)       ,\n",
       "       RandomForestClassifier(criterion='entropy', max_depth=2,\n",
       "                              min_impurity_decrease=0.014011887389787392,\n",
       "                              min_samples_leaf=0.013480633167493062, random_state=42),\n",
       "       RandomForestClassifier(max_depth=7, min_impurity_decrease=0.007989889719185194,\n",
       "                              min_samples_leaf=5, random_state=42)                    ,\n",
       "       RandomForestClassifier(criterion='entropy', max_depth=3,\n",
       "                              min_impurity_decrease=0.03253643133366811,\n",
       "                              min_samples_leaf=7, random_state=42)      ,\n",
       "       RandomForestClassifier(max_depth=10, min_impurity_decrease=0.031933292587132525,\n",
       "                              min_samples_leaf=0.039355626319636496, random_state=42)  ,\n",
       "       RandomForestClassifier(max_depth=6, min_impurity_decrease=0.028921224110944443,\n",
       "                              min_samples_leaf=0.04590186336618278, random_state=42)  ,\n",
       "       RandomForestClassifier(criterion='entropy', max_depth=10,\n",
       "                              min_impurity_decrease=0.04917205243528113,\n",
       "                              min_samples_leaf=0.03213788764046457, random_state=42),\n",
       "       RandomForestClassifier(criterion='entropy', max_depth=9,\n",
       "                              min_impurity_decrease=0.04212942279957008,\n",
       "                              min_samples_leaf=15, random_state=42)     ,\n",
       "       RandomForestClassifier(max_depth=4, min_impurity_decrease=0.020410011564576357,\n",
       "                              min_samples_leaf=0.016794987022363917, random_state=42) ,\n",
       "       RandomForestClassifier(max_depth=9, min_impurity_decrease=0.020536759329011743,\n",
       "                              min_samples_leaf=0.060406252516394435, random_state=42) ,\n",
       "       RandomForestClassifier(criterion='entropy', max_depth=8,\n",
       "                              min_impurity_decrease=0.04412454820692378,\n",
       "                              min_samples_leaf=2, random_state=42)      ,\n",
       "       RandomForestClassifier(criterion='entropy', max_depth=6,\n",
       "                              min_impurity_decrease=0.019760663558304692,\n",
       "                              min_samples_leaf=0.09464468923672359, random_state=42),\n",
       "       RandomForestClassifier(criterion='entropy', max_depth=7,\n",
       "                              min_impurity_decrease=0.01218894174982832,\n",
       "                              min_samples_leaf=0.05335436294993693, random_state=42),\n",
       "       RandomForestClassifier(criterion='entropy', max_depth=3,\n",
       "                              min_impurity_decrease=0.026085742991754434,\n",
       "                              min_samples_leaf=0.0661751053169085, random_state=42),\n",
       "       RandomForestClassifier(max_depth=6, min_impurity_decrease=0.014278205064568117,\n",
       "                              min_samples_leaf=0.06290071319432082, random_state=42)  ,\n",
       "       RandomForestClassifier(max_depth=10, min_impurity_decrease=0.013279882910072528,\n",
       "                              min_samples_leaf=0.08297135881349951, random_state=42)   ,\n",
       "       RandomForestClassifier(max_depth=7, min_impurity_decrease=0.039242693115104275,\n",
       "                              min_samples_leaf=0.013865188379063375, random_state=42) ,\n",
       "       RandomForestClassifier(criterion='entropy', max_depth=8,\n",
       "                              min_impurity_decrease=0.09943930760248296,\n",
       "                              min_samples_leaf=0.029203312740148323, random_state=42),\n",
       "       RandomForestClassifier(criterion='entropy', max_depth=9,\n",
       "                              min_impurity_decrease=0.03646216551138091,\n",
       "                              min_samples_leaf=0.057391204220525995, random_state=42),\n",
       "       RandomForestClassifier(criterion='entropy', max_depth=4,\n",
       "                              min_impurity_decrease=0.05699935287712564,\n",
       "                              min_samples_leaf=0.0417546444612258, random_state=42),\n",
       "       RandomForestClassifier(max_depth=5, min_impurity_decrease=0.04034261232625526,\n",
       "                              min_samples_leaf=0.05146128345274829, random_state=42) ,\n",
       "       RandomForestClassifier(criterion='entropy', max_depth=4,\n",
       "                              min_impurity_decrease=0.02330637948290142,\n",
       "                              min_samples_leaf=6, random_state=42)      ,\n",
       "       RandomForestClassifier(max_depth=5, min_impurity_decrease=0.03888556568716267,\n",
       "                              min_samples_leaf=9, random_state=42)                   ,\n",
       "       RandomForestClassifier(max_depth=10, min_impurity_decrease=0.03300383332182477,\n",
       "                              min_samples_leaf=0.09534906761778036, random_state=42)  ,\n",
       "       RandomForestClassifier(criterion='entropy', max_depth=8,\n",
       "                              min_impurity_decrease=0.06585243202941282,\n",
       "                              min_samples_leaf=0.09342866281589692, random_state=42),\n",
       "       RandomForestClassifier(criterion='entropy', max_depth=4,\n",
       "                              min_impurity_decrease=0.014350534043386775,\n",
       "                              min_samples_leaf=2, random_state=42)       ,\n",
       "       RandomForestClassifier(criterion='entropy', max_depth=5,\n",
       "                              min_impurity_decrease=0.06019957832518119,\n",
       "                              min_samples_leaf=14, random_state=42)     ,\n",
       "       RandomForestClassifier(criterion='entropy', max_depth=9,\n",
       "                              min_impurity_decrease=0.07156525092840954,\n",
       "                              min_samples_leaf=8, random_state=42)      ,\n",
       "       RandomForestClassifier(criterion='entropy', max_depth=1,\n",
       "                              min_impurity_decrease=0.0276272684660377,\n",
       "                              min_samples_leaf=0.07646410611954774, random_state=42),\n",
       "       RandomForestClassifier(criterion='entropy', max_depth=1,\n",
       "                              min_impurity_decrease=0.01760807048797406,\n",
       "                              min_samples_leaf=4, random_state=42)      ,\n",
       "       RandomForestClassifier(max_depth=2, min_impurity_decrease=0.04055547552792793,\n",
       "                              min_samples_leaf=0.08291527843689711, random_state=42) ,\n",
       "       RandomForestClassifier(max_depth=4, min_impurity_decrease=0.07178581275572296,\n",
       "                              min_samples_leaf=18, random_state=42)                  ,\n",
       "       RandomForestClassifier(criterion='entropy', max_depth=4,\n",
       "                              min_impurity_decrease=0.0863966722037747,\n",
       "                              min_samples_leaf=7, random_state=42)     ,\n",
       "       RandomForestClassifier(max_depth=6, min_impurity_decrease=0.06398331012598099,\n",
       "                              min_samples_leaf=0.052767551008692515, random_state=42),\n",
       "       RandomForestClassifier(criterion='entropy', max_depth=8,\n",
       "                              min_impurity_decrease=0.06607378269856465,\n",
       "                              min_samples_leaf=9, random_state=42)      ,\n",
       "       RandomForestClassifier(criterion='entropy', max_depth=5,\n",
       "                              min_impurity_decrease=0.09426439885168258,\n",
       "                              min_samples_leaf=0.028415916668799966, random_state=42),\n",
       "       RandomForestClassifier(max_depth=1, min_impurity_decrease=0.01079747136621625,\n",
       "                              min_samples_leaf=6, random_state=42)                   ,\n",
       "       RandomForestClassifier(criterion='entropy', max_depth=6,\n",
       "                              min_impurity_decrease=0.09351680403628929,\n",
       "                              min_samples_leaf=13, random_state=42)     ,\n",
       "       RandomForestClassifier(max_depth=7, min_impurity_decrease=0.07105080851846443,\n",
       "                              min_samples_leaf=10, random_state=42)                  ,\n",
       "       GradientBoostingClassifier(criterion='mae', max_depth=4,\n",
       "                                  min_impurity_decrease=0.022221862399948757,\n",
       "                                  min_samples_leaf=0.029175812622436348,\n",
       "                                  random_state=42)                           ,\n",
       "       GradientBoostingClassifier(criterion='mae', max_depth=5,\n",
       "                                  min_impurity_decrease=0.025429519136002377,\n",
       "                                  min_samples_leaf=4, random_state=42)       ,\n",
       "       RandomForestClassifier(criterion='entropy', max_depth=8,\n",
       "                              min_impurity_decrease=0.07657825645270744,\n",
       "                              min_samples_leaf=15, random_state=42)     ,\n",
       "       RandomForestClassifier(criterion='entropy', max_depth=5,\n",
       "                              min_impurity_decrease=0.08888816338716621,\n",
       "                              min_samples_leaf=0.016248922624133966, random_state=42),\n",
       "       RandomForestClassifier(max_depth=5, min_impurity_decrease=0.06607180335650761,\n",
       "                              min_samples_leaf=0.08256879691534424, random_state=42) ,\n",
       "       RandomForestClassifier(max_depth=10, min_impurity_decrease=0.06712476012740766,\n",
       "                              min_samples_leaf=13, random_state=42)                   ,\n",
       "       RandomForestClassifier(max_depth=2, min_impurity_decrease=0.08006724255320453,\n",
       "                              min_samples_leaf=2, random_state=42)                   ,\n",
       "       GradientBoostingClassifier(max_depth=4,\n",
       "                                  min_impurity_decrease=0.06584697387709901,\n",
       "                                  min_samples_leaf=14, random_state=42)     ,\n",
       "       RandomForestClassifier(criterion='entropy', max_depth=9,\n",
       "                              min_impurity_decrease=0.08048907123471792,\n",
       "                              min_samples_leaf=0.07247603267558793, random_state=42),\n",
       "       RandomForestClassifier(criterion='entropy', max_depth=3,\n",
       "                              min_impurity_decrease=0.08692515113708438,\n",
       "                              min_samples_leaf=0.0051523715710279135, random_state=42),\n",
       "       RandomForestClassifier(criterion='entropy', max_depth=3,\n",
       "                              min_impurity_decrease=0.07368112532293296,\n",
       "                              min_samples_leaf=0.016934675938351695, random_state=42),\n",
       "       GradientBoostingClassifier(min_impurity_decrease=0.04807324806113913,\n",
       "                                  min_samples_leaf=14, random_state=42)     ,\n",
       "       GradientBoostingClassifier(min_impurity_decrease=0.018986936561575497,\n",
       "                                  min_samples_leaf=0.012540040399973928,\n",
       "                                  random_state=42)                           ,\n",
       "       GradientBoostingClassifier(criterion='mae', max_depth=6,\n",
       "                                  min_impurity_decrease=0.02813872065549843,\n",
       "                                  min_samples_leaf=0.03647934664334358,\n",
       "                                  random_state=42)                          ,\n",
       "       GradientBoostingClassifier(criterion='mae',\n",
       "                                  min_impurity_decrease=0.027245228878777884,\n",
       "                                  min_samples_leaf=0.02352017579350596,\n",
       "                                  random_state=42)                           ,\n",
       "       RandomForestClassifier(max_depth=5, min_impurity_decrease=0.009223448752217523,\n",
       "                              min_samples_leaf=0.06158967218724963, random_state=42)  ,\n",
       "       GradientBoostingClassifier(max_depth=8,\n",
       "                                  min_impurity_decrease=0.009767926496551194,\n",
       "                                  min_samples_leaf=0.055554336698873455,\n",
       "                                  random_state=42)                           ,\n",
       "       GradientBoostingClassifier(max_depth=10,\n",
       "                                  min_impurity_decrease=0.08610846603492207,\n",
       "                                  min_samples_leaf=0.018225998468967542,\n",
       "                                  random_state=42)                          ,\n",
       "       GradientBoostingClassifier(max_depth=9,\n",
       "                                  min_impurity_decrease=0.05666351669378796,\n",
       "                                  min_samples_leaf=0.007675180804743531,\n",
       "                                  random_state=42)                          ,\n",
       "       GradientBoostingClassifier(max_depth=5,\n",
       "                                  min_impurity_decrease=0.09133593454821634,\n",
       "                                  min_samples_leaf=17, random_state=42)     ,\n",
       "       GradientBoostingClassifier(max_depth=10,\n",
       "                                  min_impurity_decrease=0.015433056947846746,\n",
       "                                  min_samples_leaf=6, random_state=42)       ,\n",
       "       GradientBoostingClassifier(max_depth=8,\n",
       "                                  min_impurity_decrease=0.03362127725055929,\n",
       "                                  min_samples_leaf=6, random_state=42)      ,\n",
       "       GradientBoostingClassifier(max_depth=4,\n",
       "                                  min_impurity_decrease=0.005174591090870384,\n",
       "                                  min_samples_leaf=16, random_state=42)      ,\n",
       "       GradientBoostingClassifier(criterion='mae', max_depth=10,\n",
       "                                  min_impurity_decrease=0.004503088161940916,\n",
       "                                  min_samples_leaf=0.0426204195933529,\n",
       "                                  random_state=42)                           ,\n",
       "       GradientBoostingClassifier(criterion='mae', max_depth=7,\n",
       "                                  min_impurity_decrease=0.015236885544546497,\n",
       "                                  min_samples_leaf=0.047382477445048435,\n",
       "                                  random_state=42)                           ,\n",
       "       GradientBoostingClassifier(max_depth=10,\n",
       "                                  min_impurity_decrease=0.04831794757959327,\n",
       "                                  min_samples_leaf=7, random_state=42)      ,\n",
       "       RandomForestClassifier(max_depth=7, min_impurity_decrease=0.08392585484235923,\n",
       "                              min_samples_leaf=4, random_state=42)                   ,\n",
       "       RandomForestClassifier(max_depth=4, min_impurity_decrease=0.08883011389066076,\n",
       "                              min_samples_leaf=19, random_state=42)                  ,\n",
       "       RandomForestClassifier(max_depth=8, min_impurity_decrease=0.08794046014802606,\n",
       "                              min_samples_leaf=2, random_state=42)                   ,\n",
       "       GradientBoostingClassifier(max_depth=5,\n",
       "                                  min_impurity_decrease=0.07590440337844669,\n",
       "                                  min_samples_leaf=20, random_state=42)     ,\n",
       "       GradientBoostingClassifier(criterion='mae', max_depth=5,\n",
       "                                  min_impurity_decrease=0.012673060682559467,\n",
       "                                  min_samples_leaf=0.06093928703294257,\n",
       "                                  random_state=42)                           ,\n",
       "       GradientBoostingClassifier(max_depth=5,\n",
       "                                  min_impurity_decrease=0.046296808239257546,\n",
       "                                  min_samples_leaf=7, random_state=42)       ,\n",
       "       GradientBoostingClassifier(criterion='mae',\n",
       "                                  min_impurity_decrease=0.05451569602112449,\n",
       "                                  min_samples_leaf=16, random_state=42)     ,\n",
       "       GradientBoostingClassifier(criterion='mae', max_depth=1,\n",
       "                                  min_impurity_decrease=0.035324128602705805,\n",
       "                                  min_samples_leaf=4, random_state=42)       ,\n",
       "       GradientBoostingClassifier(criterion='mae', max_depth=5,\n",
       "                                  min_impurity_decrease=0.06960064383300388,\n",
       "                                  min_samples_leaf=0.017184017844308584,\n",
       "                                  random_state=42)                          ,\n",
       "       GradientBoostingClassifier(criterion='mae', max_depth=4,\n",
       "                                  min_impurity_decrease=0.08942085448921089,\n",
       "                                  min_samples_leaf=18, random_state=42)     ,\n",
       "       GradientBoostingClassifier(criterion='mae',\n",
       "                                  min_impurity_decrease=0.07403767378398932,\n",
       "                                  min_samples_leaf=0.07597010822735005,\n",
       "                                  random_state=42)                          ,\n",
       "       GradientBoostingClassifier(criterion='mae', max_depth=6,\n",
       "                                  min_impurity_decrease=0.0717212024040679,\n",
       "                                  min_samples_leaf=0.01277360277731271,\n",
       "                                  random_state=42)                         ,\n",
       "       GradientBoostingClassifier(criterion='mae', max_depth=5,\n",
       "                                  min_impurity_decrease=0.09894129644230096,\n",
       "                                  min_samples_leaf=15, random_state=42)     ,\n",
       "       GradientBoostingClassifier(criterion='mae', max_depth=5,\n",
       "                                  min_impurity_decrease=0.04587859031575141,\n",
       "                                  min_samples_leaf=17, random_state=42)     ,\n",
       "       GradientBoostingClassifier(criterion='mae', max_depth=6,\n",
       "                                  min_impurity_decrease=0.050477782998771537,\n",
       "                                  min_samples_leaf=0.08736693369585677,\n",
       "                                  random_state=42)                           ,\n",
       "       GradientBoostingClassifier(criterion='mae',\n",
       "                                  min_impurity_decrease=0.05233496848248694,\n",
       "                                  min_samples_leaf=0.02856307970814098,\n",
       "                                  random_state=42)                          ,\n",
       "       GradientBoostingClassifier(criterion='mae', max_depth=4,\n",
       "                                  min_impurity_decrease=0.08404147271570743,\n",
       "                                  min_samples_leaf=0.02668490870203789,\n",
       "                                  random_state=42)                          ,\n",
       "       GradientBoostingClassifier(criterion='mae', max_depth=10,\n",
       "                                  min_impurity_decrease=0.06324354357261003,\n",
       "                                  min_samples_leaf=0.03387261011025443,\n",
       "                                  random_state=42)                          ,\n",
       "       GradientBoostingClassifier(criterion='mae', max_depth=1,\n",
       "                                  min_impurity_decrease=0.06770916871098977,\n",
       "                                  min_samples_leaf=17, random_state=42)     ,\n",
       "       GradientBoostingClassifier(criterion='mae', max_depth=4,\n",
       "                                  min_impurity_decrease=0.07711174332530149,\n",
       "                                  min_samples_leaf=6, random_state=42)      ,\n",
       "       GradientBoostingClassifier(criterion='mae',\n",
       "                                  min_impurity_decrease=0.05313601239871426,\n",
       "                                  min_samples_leaf=0.08353196945448219,\n",
       "                                  random_state=42)                          ,\n",
       "       GradientBoostingClassifier(criterion='mae', max_depth=2,\n",
       "                                  min_impurity_decrease=0.09428754266063151,\n",
       "                                  min_samples_leaf=0.0795395755733944,\n",
       "                                  random_state=42)                          ,\n",
       "       GradientBoostingClassifier(criterion='mae', max_depth=6,\n",
       "                                  min_impurity_decrease=0.09803299871842754,\n",
       "                                  min_samples_leaf=0.05913131125247693,\n",
       "                                  random_state=42)                          ,\n",
       "       RandomForestClassifier(max_depth=9, min_impurity_decrease=0.08098914173137639,\n",
       "                              min_samples_leaf=12, random_state=42)                  ,\n",
       "       GradientBoostingClassifier(max_depth=9,\n",
       "                                  min_impurity_decrease=0.09708505096492442,\n",
       "                                  min_samples_leaf=0.07521030220786637,\n",
       "                                  random_state=42)                          ,\n",
       "       GradientBoostingClassifier(max_depth=4,\n",
       "                                  min_impurity_decrease=0.04775081937714509,\n",
       "                                  min_samples_leaf=0.08389240424194984,\n",
       "                                  random_state=42)                          ,\n",
       "       GradientBoostingClassifier(max_depth=6,\n",
       "                                  min_impurity_decrease=0.0532351059305781,\n",
       "                                  min_samples_leaf=0.0671876610556841,\n",
       "                                  random_state=42)                         ,\n",
       "       GradientBoostingClassifier(max_depth=1,\n",
       "                                  min_impurity_decrease=0.06839390696100697,\n",
       "                                  min_samples_leaf=12, random_state=42)     ,\n",
       "       GradientBoostingClassifier(max_depth=2,\n",
       "                                  min_impurity_decrease=0.0017241255317109404,\n",
       "                                  min_samples_leaf=0.031229545068064312,\n",
       "                                  random_state=42)                            ,\n",
       "       GradientBoostingClassifier(max_depth=1,\n",
       "                                  min_impurity_decrease=0.09845270676894843,\n",
       "                                  min_samples_leaf=0.0008465225794354048,\n",
       "                                  random_state=42)                          ,\n",
       "       RandomForestClassifier(max_depth=9, min_impurity_decrease=0.09193227876224479,\n",
       "                              min_samples_leaf=0.061545996798817136, random_state=42),\n",
       "       RandomForestClassifier(max_depth=6, min_impurity_decrease=0.09355461116972902,\n",
       "                              min_samples_leaf=0.060936290592030116, random_state=42),\n",
       "       RandomForestClassifier(max_depth=2, min_impurity_decrease=0.09581514104818907,\n",
       "                              min_samples_leaf=0.03425891970526947, random_state=42) ,\n",
       "       RandomForestClassifier(max_depth=8, min_impurity_decrease=0.09542019579150353,\n",
       "                              min_samples_leaf=0.04799790008020244, random_state=42) ,\n",
       "       RandomForestClassifier(max_depth=10, min_impurity_decrease=0.09615378879112615,\n",
       "                              min_samples_leaf=12, random_state=42)                   ,\n",
       "       None], dtype=object)"
      ]
     },
     "execution_count": 23,
     "metadata": {},
     "output_type": "execute_result"
    }
   ],
   "source": [
    "models[np.argsort(eval_val[:, 3])[::-1]]"
   ]
  },
  {
   "cell_type": "code",
   "execution_count": 24,
   "id": "ac811044",
   "metadata": {
    "scrolled": true
   },
   "outputs": [
    {
     "data": {
      "text/plain": [
       "array([[0.78947368, 0.51282051, 0.8       , 0.625     ],\n",
       "       [0.78947368, 0.51282051, 0.8       , 0.625     ],\n",
       "       [0.79824561, 0.52777778, 0.76      , 0.62295082],\n",
       "       [0.80701754, 0.54545455, 0.72      , 0.62068966],\n",
       "       [0.78070175, 0.5       , 0.8       , 0.61538462],\n",
       "       [0.78070175, 0.5       , 0.8       , 0.61538462],\n",
       "       [0.78070175, 0.5       , 0.76      , 0.6031746 ],\n",
       "       [0.78947368, 0.51428571, 0.72      , 0.6       ],\n",
       "       [0.78947368, 0.51428571, 0.72      , 0.6       ],\n",
       "       [0.77192982, 0.48717949, 0.76      , 0.59375   ],\n",
       "       [0.78070175, 0.5       , 0.72      , 0.59016393],\n",
       "       [0.76315789, 0.475     , 0.76      , 0.58461538],\n",
       "       [0.76315789, 0.475     , 0.76      , 0.58461538],\n",
       "       [0.75438596, 0.46341463, 0.76      , 0.57575758],\n",
       "       [0.75438596, 0.46341463, 0.76      , 0.57575758],\n",
       "       [0.75438596, 0.46341463, 0.76      , 0.57575758],\n",
       "       [0.73684211, 0.44444444, 0.8       , 0.57142857],\n",
       "       [0.73684211, 0.44444444, 0.8       , 0.57142857],\n",
       "       [0.76315789, 0.47368421, 0.72      , 0.57142857],\n",
       "       [0.72807018, 0.43478261, 0.8       , 0.56338028],\n",
       "       [0.72807018, 0.43478261, 0.8       , 0.56338028],\n",
       "       [0.75438596, 0.46153846, 0.72      , 0.5625    ],\n",
       "       [0.73684211, 0.44186047, 0.76      , 0.55882353],\n",
       "       [0.73684211, 0.44186047, 0.76      , 0.55882353],\n",
       "       [0.73684211, 0.44186047, 0.76      , 0.55882353],\n",
       "       [0.76315789, 0.47222222, 0.68      , 0.55737705],\n",
       "       [0.71929825, 0.42553191, 0.8       , 0.55555556],\n",
       "       [0.71929825, 0.42553191, 0.8       , 0.55555556],\n",
       "       [0.71929825, 0.42553191, 0.8       , 0.55555556],\n",
       "       [0.71929825, 0.42553191, 0.8       , 0.55555556],\n",
       "       [0.71929825, 0.42553191, 0.8       , 0.55555556],\n",
       "       [0.70175439, 0.41176471, 0.84      , 0.55263158],\n",
       "       [0.72807018, 0.43181818, 0.76      , 0.55072464],\n",
       "       [0.71052632, 0.41666667, 0.8       , 0.54794521],\n",
       "       [0.71052632, 0.41666667, 0.8       , 0.54794521],\n",
       "       [0.71052632, 0.41666667, 0.8       , 0.54794521],\n",
       "       [0.71052632, 0.41666667, 0.8       , 0.54794521],\n",
       "       [0.71052632, 0.41666667, 0.8       , 0.54794521],\n",
       "       [0.69298246, 0.40384615, 0.84      , 0.54545455],\n",
       "       [0.6754386 , 0.39285714, 0.88      , 0.54320988],\n",
       "       [0.6754386 , 0.39285714, 0.88      , 0.54320988],\n",
       "       [0.71929825, 0.42222222, 0.76      , 0.54285714],\n",
       "       [0.71929825, 0.42222222, 0.76      , 0.54285714],\n",
       "       [0.70175439, 0.40816327, 0.8       , 0.54054054],\n",
       "       [0.70175439, 0.40816327, 0.8       , 0.54054054],\n",
       "       [0.68421053, 0.39622642, 0.84      , 0.53846154],\n",
       "       [0.77192982, 0.48387097, 0.6       , 0.53571429],\n",
       "       [0.71052632, 0.41304348, 0.76      , 0.53521127],\n",
       "       [0.71052632, 0.41304348, 0.76      , 0.53521127],\n",
       "       [0.71052632, 0.41304348, 0.76      , 0.53521127],\n",
       "       [0.78070175, 0.5       , 0.56      , 0.52830189],\n",
       "       [0.76315789, 0.46875   , 0.6       , 0.52631579],\n",
       "       [0.64912281, 0.37288136, 0.88      , 0.52380952],\n",
       "       [0.64912281, 0.37288136, 0.88      , 0.52380952],\n",
       "       [0.72807018, 0.425     , 0.68      , 0.52307692],\n",
       "       [0.78947368, 0.52      , 0.52      , 0.52      ],\n",
       "       [0.77192982, 0.48275862, 0.56      , 0.51851852],\n",
       "       [0.75438596, 0.45454545, 0.6       , 0.51724138],\n",
       "       [0.78070175, 0.5       , 0.52      , 0.50980392],\n",
       "       [0.78070175, 0.5       , 0.52      , 0.50980392],\n",
       "       [0.78070175, 0.5       , 0.52      , 0.50980392],\n",
       "       [0.77192982, 0.48148148, 0.52      , 0.5       ],\n",
       "       [0.75438596, 0.44827586, 0.52      , 0.48148148],\n",
       "       [0.75438596, 0.44827586, 0.52      , 0.48148148],\n",
       "       [0.77192982, 0.48      , 0.48      , 0.48      ],\n",
       "       [0.59649123, 0.33333333, 0.84      , 0.47727273],\n",
       "       [0.59649123, 0.33333333, 0.84      , 0.47727273],\n",
       "       [0.59649123, 0.33333333, 0.84      , 0.47727273],\n",
       "       [0.76315789, 0.46153846, 0.48      , 0.47058824],\n",
       "       [0.76315789, 0.46153846, 0.48      , 0.47058824],\n",
       "       [0.75438596, 0.44444444, 0.48      , 0.46153846],\n",
       "       [0.54385965, 0.30985915, 0.88      , 0.45833333],\n",
       "       [0.54385965, 0.30985915, 0.88      , 0.45833333],\n",
       "       [0.54385965, 0.30985915, 0.88      , 0.45833333],\n",
       "       [0.54385965, 0.30985915, 0.88      , 0.45833333],\n",
       "       [0.54385965, 0.30985915, 0.88      , 0.45833333],\n",
       "       [0.54385965, 0.30985915, 0.88      , 0.45833333],\n",
       "       [0.54385965, 0.30985915, 0.88      , 0.45833333],\n",
       "       [0.54385965, 0.30985915, 0.88      , 0.45833333],\n",
       "       [0.54385965, 0.30985915, 0.88      , 0.45833333],\n",
       "       [0.54385965, 0.30985915, 0.88      , 0.45833333],\n",
       "       [0.54385965, 0.30985915, 0.88      , 0.45833333],\n",
       "       [0.54385965, 0.30985915, 0.88      , 0.45833333],\n",
       "       [0.54385965, 0.30985915, 0.88      , 0.45833333],\n",
       "       [0.54385965, 0.30985915, 0.88      , 0.45833333],\n",
       "       [0.54385965, 0.30985915, 0.88      , 0.45833333],\n",
       "       [0.54385965, 0.30985915, 0.88      , 0.45833333],\n",
       "       [0.54385965, 0.30985915, 0.88      , 0.45833333],\n",
       "       [0.56140351, 0.31343284, 0.84      , 0.45652174],\n",
       "       [0.72807018, 0.40625   , 0.52      , 0.45614035],\n",
       "       [0.72807018, 0.40625   , 0.52      , 0.45614035],\n",
       "       [0.72807018, 0.40625   , 0.52      , 0.45614035],\n",
       "       [0.65789474, 0.34090909, 0.6       , 0.43478261],\n",
       "       [0.70175439, 0.37142857, 0.52      , 0.43333333],\n",
       "       [0.64912281, 0.3255814 , 0.56      , 0.41176471],\n",
       "       [0.44736842, 0.26829268, 0.88      , 0.41121495],\n",
       "       [0.44736842, 0.26829268, 0.88      , 0.41121495],\n",
       "       [0.44736842, 0.26829268, 0.88      , 0.41121495],\n",
       "       [0.44736842, 0.26829268, 0.88      , 0.41121495],\n",
       "       [0.44736842, 0.26829268, 0.88      , 0.41121495],\n",
       "       [0.        , 0.        , 0.        , 0.        ]])"
      ]
     },
     "execution_count": 24,
     "metadata": {},
     "output_type": "execute_result"
    }
   ],
   "source": [
    "eval_val[np.argsort(eval_val[:, 3])[::-1]]"
   ]
  },
  {
   "cell_type": "markdown",
   "id": "08dfbb0c",
   "metadata": {},
   "source": [
    "#### 2nd gen"
   ]
  },
  {
   "cell_type": "code",
   "execution_count": 25,
   "id": "bc217288",
   "metadata": {
    "scrolled": true
   },
   "outputs": [
    {
     "data": {
      "text/plain": [
       "array([{'model': 'RFC', 'max_depth': 3, 'criterion': 'gini', 'min_impurity_decrease': 0.028518118316533937, 'min_samples_leaf': 0.03840696672803383},\n",
       "       {'model': 'RFC', 'max_depth': 9, 'criterion': 'gini', 'min_impurity_decrease': 0.026243045130343746, 'min_samples_leaf': 13},\n",
       "       {'model': 'RFC', 'max_depth': 8, 'criterion': 'gini', 'min_impurity_decrease': 0.018301587069873247, 'min_samples_leaf': 8},\n",
       "       {'model': 'RFC', 'max_depth': 2, 'criterion': 'entropy', 'min_impurity_decrease': 0.025819863852279256, 'min_samples_leaf': 0.0025218655148053657},\n",
       "       {'model': 'RFC', 'max_depth': 2, 'criterion': 'entropy', 'min_impurity_decrease': 0.026831972084402512, 'min_samples_leaf': 3},\n",
       "       {'model': 'RFC', 'max_depth': 2, 'criterion': 'entropy', 'min_impurity_decrease': 0.014011887389787392, 'min_samples_leaf': 0.013480633167493062},\n",
       "       {'model': 'RFC', 'max_depth': 7, 'criterion': 'gini', 'min_impurity_decrease': 0.007989889719185194, 'min_samples_leaf': 5},\n",
       "       {'model': 'RFC', 'max_depth': 7, 'criterion': 'entropy', 'min_impurity_decrease': 0.02814473662085093, 'min_samples_leaf': 12},\n",
       "       {'model': 'RFC', 'max_depth': 3, 'criterion': 'entropy', 'min_impurity_decrease': 0.03253643133366811, 'min_samples_leaf': 7},\n",
       "       {'model': 'RFC', 'max_depth': 10, 'criterion': 'gini', 'min_impurity_decrease': 0.031933292587132525, 'min_samples_leaf': 0.039355626319636496},\n",
       "       {'model': 'RFC', 'max_depth': 6, 'criterion': 'gini', 'min_impurity_decrease': 0.028921224110944443, 'min_samples_leaf': 0.04590186336618278},\n",
       "       {'model': 'RFC', 'max_depth': 10, 'criterion': 'gini', 'min_impurity_decrease': 0.03306371890322109, 'min_samples_leaf': 0.03928864623426663},\n",
       "       {'model': 'RFC', 'max_depth': 3, 'criterion': 'gini', 'min_impurity_decrease': 0.012269435680717289, 'min_samples_leaf': 14},\n",
       "       {'model': 'RFC', 'max_depth': 4, 'criterion': 'entropy', 'min_impurity_decrease': 0.006843309771286022, 'min_samples_leaf': 13},\n",
       "       {'model': 'RFC', 'max_depth': 8, 'criterion': 'gini', 'min_impurity_decrease': 0.024511277414069443, 'min_samples_leaf': 0.011365843811333909},\n",
       "       {'model': 'RFC', 'max_depth': 10, 'criterion': 'entropy', 'min_impurity_decrease': 0.04917205243528113, 'min_samples_leaf': 0.03213788764046457},\n",
       "       {'model': 'RFC', 'max_depth': 10, 'criterion': 'gini', 'min_impurity_decrease': 0.01798833997663122, 'min_samples_leaf': 3},\n",
       "       {'model': 'RFC', 'max_depth': 9, 'criterion': 'entropy', 'min_impurity_decrease': 0.04212942279957008, 'min_samples_leaf': 15},\n",
       "       {'model': 'RFC', 'max_depth': 3, 'criterion': 'entropy', 'min_impurity_decrease': 0.03897285758281963, 'min_samples_leaf': 1},\n",
       "       {'model': 'RFC', 'max_depth': 4, 'criterion': 'gini', 'min_impurity_decrease': 0.020410011564576357, 'min_samples_leaf': 0.016794987022363917},\n",
       "       {'model': 'RFC', 'max_depth': 9, 'criterion': 'gini', 'min_impurity_decrease': 0.020536759329011743, 'min_samples_leaf': 0.060406252516394435},\n",
       "       {'model': 'RFC', 'max_depth': 3, 'criterion': 'entropy', 'min_impurity_decrease': 0.018904333492100835, 'min_samples_leaf': 17},\n",
       "       {'model': 'RFC', 'max_depth': 5, 'criterion': 'entropy', 'min_impurity_decrease': 0.033644218484520386, 'min_samples_leaf': 19},\n",
       "       {'model': 'RFC', 'max_depth': 7, 'criterion': 'entropy', 'min_impurity_decrease': 0.053135506749070006, 'min_samples_leaf': 12},\n",
       "       {'model': 'RFC', 'max_depth': 8, 'criterion': 'entropy', 'min_impurity_decrease': 0.05361269617964124, 'min_samples_leaf': 9},\n",
       "       {'model': 'RFC', 'max_depth': 4, 'criterion': 'gini', 'min_impurity_decrease': 0.004320852989026469, 'min_samples_leaf': 18},\n",
       "       {'model': 'RFC', 'max_depth': 9, 'criterion': 'gini', 'min_impurity_decrease': 0.005013793413319256, 'min_samples_leaf': 0.028150766499790824},\n",
       "       {'model': 'RFC', 'max_depth': 3, 'criterion': 'entropy', 'min_impurity_decrease': 0.010401858425894084, 'min_samples_leaf': 0.06783507354779879},\n",
       "       {'model': 'GBC', 'max_depth': 5, 'criterion': 'mae', 'min_impurity_decrease': 0.012932013597442438, 'min_samples_leaf': 3},\n",
       "       {'model': 'RFC', 'max_depth': 5, 'criterion': 'entropy', 'min_impurity_decrease': 0.06366703333472938, 'min_samples_leaf': 7},\n",
       "       {'model': 'RFC', 'max_depth': 7, 'criterion': 'entropy', 'min_impurity_decrease': 0.06887466565348677, 'min_samples_leaf': 6},\n",
       "       {'model': 'RFC', 'max_depth': 4, 'criterion': 'entropy', 'min_impurity_decrease': 0.07044162909068447, 'min_samples_leaf': 0.06322904836293843},\n",
       "       {'model': 'RFC', 'max_depth': 3, 'criterion': 'gini', 'min_impurity_decrease': 0.06856996212033509, 'min_samples_leaf': 19},\n",
       "       {'model': 'RFC', 'max_depth': 9, 'criterion': 'entropy', 'min_impurity_decrease': 0.06840875229212826, 'min_samples_leaf': 7},\n",
       "       {'model': 'RFC', 'max_depth': 1, 'criterion': 'entropy', 'min_impurity_decrease': 0.03802524374706999, 'min_samples_leaf': 0.0683362797911222},\n",
       "       {'model': 'RFC', 'max_depth': 7, 'criterion': 'entropy', 'min_impurity_decrease': 0.08275200365616406, 'min_samples_leaf': 10},\n",
       "       {'model': 'RFC', 'max_depth': 10, 'criterion': 'entropy', 'min_impurity_decrease': 0.037029574127614, 'min_samples_leaf': 0.07481523251451656},\n",
       "       {'model': 'RFC', 'max_depth': 10, 'criterion': 'entropy', 'min_impurity_decrease': 0.09410485618218334, 'min_samples_leaf': 0.018605447433783794},\n",
       "       {'model': 'RFC', 'max_depth': 1, 'criterion': 'gini', 'min_impurity_decrease': 0.020747747903182467, 'min_samples_leaf': 0.001400352020185469},\n",
       "       {'model': 'RFC', 'max_depth': 3, 'criterion': 'gini', 'min_impurity_decrease': 0.06436377325530376, 'min_samples_leaf': 0.032199256195098405},\n",
       "       {'model': 'GBC', 'max_depth': 10, 'criterion': 'friedman_mse', 'min_impurity_decrease': 0.09758126071867236, 'min_samples_leaf': 12},\n",
       "       {'model': 'RFC', 'max_depth': 2, 'criterion': 'entropy', 'min_impurity_decrease': 0.07893229008467256, 'min_samples_leaf': 0.05682472795257857},\n",
       "       {'model': 'RFC', 'max_depth': 2, 'criterion': 'entropy', 'min_impurity_decrease': 0.07459939797674789, 'min_samples_leaf': 18},\n",
       "       {'model': 'RFC', 'max_depth': 9, 'criterion': 'gini', 'min_impurity_decrease': 0.07916386991347656, 'min_samples_leaf': 0.0028527396473421395},\n",
       "       {'model': 'RFC', 'max_depth': 5, 'criterion': 'gini', 'min_impurity_decrease': 0.047104484229768886, 'min_samples_leaf': 0.0033373629324367827},\n",
       "       {'model': 'RFC', 'max_depth': 4, 'criterion': 'entropy', 'min_impurity_decrease': 0.07327753722724352, 'min_samples_leaf': 0.03946953735298788},\n",
       "       {'model': 'RFC', 'max_depth': 8, 'criterion': 'entropy', 'min_impurity_decrease': 0.07365069492029572, 'min_samples_leaf': 0.01800539693100466},\n",
       "       {'model': 'RFC', 'max_depth': 2, 'criterion': 'gini', 'min_impurity_decrease': 0.05992063772197222, 'min_samples_leaf': 18},\n",
       "       {'model': 'RFC', 'max_depth': 4, 'criterion': 'gini', 'min_impurity_decrease': 0.045890455374495445, 'min_samples_leaf': 19},\n",
       "       {'model': 'RFC', 'max_depth': 5, 'criterion': 'entropy', 'min_impurity_decrease': 0.0009100358444525947, 'min_samples_leaf': 0.06073065806821217},\n",
       "       {'model': 'GBC', 'max_depth': 4, 'criterion': 'friedman_mse', 'min_impurity_decrease': 0.006164777905273156, 'min_samples_leaf': 15},\n",
       "       {'model': 'RFC', 'max_depth': 1, 'criterion': 'gini', 'min_impurity_decrease': 0.04317641250300689, 'min_samples_leaf': 3.933259075699081e-05},\n",
       "       {'model': 'GBC', 'max_depth': 10, 'criterion': 'mae', 'min_impurity_decrease': 0.028074349161045443, 'min_samples_leaf': 14},\n",
       "       {'model': 'RFC', 'max_depth': 8, 'criterion': 'gini', 'min_impurity_decrease': 0.05206795518981237, 'min_samples_leaf': 0.042347291673328416},\n",
       "       {'model': 'RFC', 'max_depth': 5, 'criterion': 'gini', 'min_impurity_decrease': 0.05378933098137001, 'min_samples_leaf': 13},\n",
       "       {'model': 'GBC', 'max_depth': 7, 'criterion': 'friedman_mse', 'min_impurity_decrease': 0.04010417248271934, 'min_samples_leaf': 0.05483935228876169},\n",
       "       {'model': 'RFC', 'max_depth': 2, 'criterion': 'gini', 'min_impurity_decrease': 0.07844635410960779, 'min_samples_leaf': 0.09215138284617223},\n",
       "       {'model': 'GBC', 'max_depth': 8, 'criterion': 'friedman_mse', 'min_impurity_decrease': 0.08076195171212665, 'min_samples_leaf': 1},\n",
       "       {'model': 'GBC', 'max_depth': 10, 'criterion': 'friedman_mse', 'min_impurity_decrease': 0.01912167329169857, 'min_samples_leaf': 9},\n",
       "       {'model': 'GBC', 'max_depth': 5, 'criterion': 'friedman_mse', 'min_impurity_decrease': 0.0351922613744601, 'min_samples_leaf': 0.045079046281385114},\n",
       "       {'model': 'GBC', 'max_depth': 3, 'criterion': 'friedman_mse', 'min_impurity_decrease': 0.08891775740929234, 'min_samples_leaf': 1},\n",
       "       {'model': 'GBC', 'max_depth': 6, 'criterion': 'mae', 'min_impurity_decrease': 0.00921704472363193, 'min_samples_leaf': 0.05318923313637465},\n",
       "       {'model': 'GBC', 'max_depth': 9, 'criterion': 'mae', 'min_impurity_decrease': 0.017669507825293484, 'min_samples_leaf': 8},\n",
       "       {'model': 'GBC', 'max_depth': 10, 'criterion': 'friedman_mse', 'min_impurity_decrease': 0.004050999361580843, 'min_samples_leaf': 0.07416357922397494},\n",
       "       {'model': 'RFC', 'max_depth': 8, 'criterion': 'gini', 'min_impurity_decrease': 0.08792702462335614, 'min_samples_leaf': 12},\n",
       "       {'model': 'RFC', 'max_depth': 7, 'criterion': 'gini', 'min_impurity_decrease': 0.08592041407671511, 'min_samples_leaf': 0.05611920223879217},\n",
       "       {'model': 'GBC', 'max_depth': 3, 'criterion': 'friedman_mse', 'min_impurity_decrease': 0.014829342154513658, 'min_samples_leaf': 2},\n",
       "       {'model': 'GBC', 'max_depth': 6, 'criterion': 'friedman_mse', 'min_impurity_decrease': 0.09127381507473738, 'min_samples_leaf': 0.0029305021356782813},\n",
       "       {'model': 'GBC', 'max_depth': 6, 'criterion': 'friedman_mse', 'min_impurity_decrease': 0.08041775305011287, 'min_samples_leaf': 0.04470388712292476},\n",
       "       {'model': 'GBC', 'max_depth': 4, 'criterion': 'friedman_mse', 'min_impurity_decrease': 0.07004518409741259, 'min_samples_leaf': 0.08284370374470876},\n",
       "       {'model': 'GBC', 'max_depth': 10, 'criterion': 'friedman_mse', 'min_impurity_decrease': 0.04130439153496701, 'min_samples_leaf': 11},\n",
       "       {'model': 'GBC', 'max_depth': 6, 'criterion': 'friedman_mse', 'min_impurity_decrease': 0.04488184035530558, 'min_samples_leaf': 16},\n",
       "       {'model': 'GBC', 'max_depth': 9, 'criterion': 'mae', 'min_impurity_decrease': 0.09885327070259844, 'min_samples_leaf': 0.012235333519545644},\n",
       "       {'model': 'GBC', 'max_depth': 1, 'criterion': 'mae', 'min_impurity_decrease': 0.0046650205680515925, 'min_samples_leaf': 1},\n",
       "       {'model': 'GBC', 'max_depth': 6, 'criterion': 'mae', 'min_impurity_decrease': 0.0850382663055901, 'min_samples_leaf': 0.025138355645132338},\n",
       "       {'model': 'GBC', 'max_depth': 3, 'criterion': 'mae', 'min_impurity_decrease': 0.0580736500439763, 'min_samples_leaf': 8},\n",
       "       {'model': 'GBC', 'max_depth': 1, 'criterion': 'mae', 'min_impurity_decrease': 0.005468318329459832, 'min_samples_leaf': 14},\n",
       "       {'model': 'GBC', 'max_depth': 1, 'criterion': 'mae', 'min_impurity_decrease': 0.07572833035267154, 'min_samples_leaf': 8},\n",
       "       {'model': 'GBC', 'max_depth': 1, 'criterion': 'mae', 'min_impurity_decrease': 0.046309908978135604, 'min_samples_leaf': 0.00515268684457697},\n",
       "       {'model': 'GBC', 'max_depth': 8, 'criterion': 'mae', 'min_impurity_decrease': 0.08669457342002583, 'min_samples_leaf': 18},\n",
       "       {'model': 'GBC', 'max_depth': 6, 'criterion': 'mae', 'min_impurity_decrease': 0.07865620857962323, 'min_samples_leaf': 0.003479588697170577},\n",
       "       {'model': 'GBC', 'max_depth': 9, 'criterion': 'mae', 'min_impurity_decrease': 0.032601338072125285, 'min_samples_leaf': 15},\n",
       "       {'model': 'GBC', 'max_depth': 1, 'criterion': 'mae', 'min_impurity_decrease': 0.014030247083456116, 'min_samples_leaf': 2},\n",
       "       {'model': 'GBC', 'max_depth': 9, 'criterion': 'mae', 'min_impurity_decrease': 0.07842547224460247, 'min_samples_leaf': 0.07411735789877215},\n",
       "       {'model': 'GBC', 'max_depth': 1, 'criterion': 'mae', 'min_impurity_decrease': 0.051134552053791846, 'min_samples_leaf': 14},\n",
       "       {'model': 'GBC', 'max_depth': 9, 'criterion': 'mae', 'min_impurity_decrease': 0.09195125623540636, 'min_samples_leaf': 13},\n",
       "       {'model': 'GBC', 'max_depth': 9, 'criterion': 'mae', 'min_impurity_decrease': 0.05299389548574105, 'min_samples_leaf': 5},\n",
       "       {'model': 'GBC', 'max_depth': 6, 'criterion': 'mae', 'min_impurity_decrease': 0.06316773850415898, 'min_samples_leaf': 0.009624358132721157},\n",
       "       {'model': 'GBC', 'max_depth': 9, 'criterion': 'mae', 'min_impurity_decrease': 0.06552161374079146, 'min_samples_leaf': 0.02203994616335936},\n",
       "       {'model': 'GBC', 'max_depth': 1, 'criterion': 'mae', 'min_impurity_decrease': 0.026462033765076554, 'min_samples_leaf': 15},\n",
       "       {'model': 'GBC', 'max_depth': 5, 'criterion': 'mae', 'min_impurity_decrease': 0.06420594902213822, 'min_samples_leaf': 0.07216688268048904},\n",
       "       {'model': 'GBC', 'max_depth': 3, 'criterion': 'mae', 'min_impurity_decrease': 0.0365474355640377, 'min_samples_leaf': 14},\n",
       "       {'model': 'GBC', 'max_depth': 5, 'criterion': 'friedman_mse', 'min_impurity_decrease': 0.04645371982189543, 'min_samples_leaf': 0.07741993755237},\n",
       "       {'model': 'GBC', 'max_depth': 6, 'criterion': 'friedman_mse', 'min_impurity_decrease': 0.0455645613387333, 'min_samples_leaf': 0.01755002955763344},\n",
       "       {'model': 'GBC', 'max_depth': 6, 'criterion': 'friedman_mse', 'min_impurity_decrease': 0.01732524280908867, 'min_samples_leaf': 0.04529814036206405},\n",
       "       {'model': 'GBC', 'max_depth': 2, 'criterion': 'friedman_mse', 'min_impurity_decrease': 0.02596129467798297, 'min_samples_leaf': 1},\n",
       "       {'model': 'RFC', 'max_depth': 4, 'criterion': 'gini', 'min_impurity_decrease': 0.09656167255023476, 'min_samples_leaf': 20},\n",
       "       {'model': 'GBC', 'max_depth': 9, 'criterion': 'friedman_mse', 'min_impurity_decrease': 0.08314788059640232, 'min_samples_leaf': 13},\n",
       "       {'model': 'GBC', 'max_depth': 9, 'criterion': 'friedman_mse', 'min_impurity_decrease': 0.09782441765152958, 'min_samples_leaf': 6.239628407778142e-06},\n",
       "       {'model': 'RFC', 'max_depth': 6, 'criterion': 'gini', 'min_impurity_decrease': 0.09916496847081549, 'min_samples_leaf': 0.04383393150405431}],\n",
       "      dtype=object)"
      ]
     },
     "execution_count": 25,
     "metadata": {},
     "output_type": "execute_result"
    }
   ],
   "source": [
    "params_2nd[np.argsort(eval_val_2nd[:, 3])[::-1]]"
   ]
  },
  {
   "cell_type": "code",
   "execution_count": 26,
   "id": "5d71e258",
   "metadata": {},
   "outputs": [
    {
     "data": {
      "text/plain": [
       "array([RandomForestClassifier(max_depth=3, min_impurity_decrease=0.028518118316533937,\n",
       "                              min_samples_leaf=0.03840696672803383, random_state=42)  ,\n",
       "       RandomForestClassifier(max_depth=9, min_impurity_decrease=0.026243045130343746,\n",
       "                              min_samples_leaf=13, random_state=42)                   ,\n",
       "       RandomForestClassifier(max_depth=8, min_impurity_decrease=0.018301587069873247,\n",
       "                              min_samples_leaf=8, random_state=42)                    ,\n",
       "       RandomForestClassifier(criterion='entropy', max_depth=2,\n",
       "                              min_impurity_decrease=0.025819863852279256,\n",
       "                              min_samples_leaf=0.0025218655148053657, random_state=42),\n",
       "       RandomForestClassifier(criterion='entropy', max_depth=2,\n",
       "                              min_impurity_decrease=0.026831972084402512,\n",
       "                              min_samples_leaf=3, random_state=42)       ,\n",
       "       RandomForestClassifier(criterion='entropy', max_depth=2,\n",
       "                              min_impurity_decrease=0.014011887389787392,\n",
       "                              min_samples_leaf=0.013480633167493062, random_state=42),\n",
       "       RandomForestClassifier(max_depth=7, min_impurity_decrease=0.007989889719185194,\n",
       "                              min_samples_leaf=5, random_state=42)                    ,\n",
       "       RandomForestClassifier(criterion='entropy', max_depth=7,\n",
       "                              min_impurity_decrease=0.02814473662085093,\n",
       "                              min_samples_leaf=12, random_state=42)     ,\n",
       "       RandomForestClassifier(criterion='entropy', max_depth=3,\n",
       "                              min_impurity_decrease=0.03253643133366811,\n",
       "                              min_samples_leaf=7, random_state=42)      ,\n",
       "       RandomForestClassifier(max_depth=10, min_impurity_decrease=0.031933292587132525,\n",
       "                              min_samples_leaf=0.039355626319636496, random_state=42)  ,\n",
       "       RandomForestClassifier(max_depth=6, min_impurity_decrease=0.028921224110944443,\n",
       "                              min_samples_leaf=0.04590186336618278, random_state=42)  ,\n",
       "       RandomForestClassifier(max_depth=10, min_impurity_decrease=0.03306371890322109,\n",
       "                              min_samples_leaf=0.03928864623426663, random_state=42)  ,\n",
       "       RandomForestClassifier(max_depth=3, min_impurity_decrease=0.012269435680717289,\n",
       "                              min_samples_leaf=14, random_state=42)                   ,\n",
       "       RandomForestClassifier(criterion='entropy', max_depth=4,\n",
       "                              min_impurity_decrease=0.006843309771286022,\n",
       "                              min_samples_leaf=13, random_state=42)      ,\n",
       "       RandomForestClassifier(max_depth=8, min_impurity_decrease=0.024511277414069443,\n",
       "                              min_samples_leaf=0.011365843811333909, random_state=42) ,\n",
       "       RandomForestClassifier(criterion='entropy', max_depth=10,\n",
       "                              min_impurity_decrease=0.04917205243528113,\n",
       "                              min_samples_leaf=0.03213788764046457, random_state=42),\n",
       "       RandomForestClassifier(max_depth=10, min_impurity_decrease=0.01798833997663122,\n",
       "                              min_samples_leaf=3, random_state=42)                    ,\n",
       "       RandomForestClassifier(criterion='entropy', max_depth=9,\n",
       "                              min_impurity_decrease=0.04212942279957008,\n",
       "                              min_samples_leaf=15, random_state=42)     ,\n",
       "       RandomForestClassifier(criterion='entropy', max_depth=3,\n",
       "                              min_impurity_decrease=0.03897285758281963,\n",
       "                              random_state=42)                          ,\n",
       "       RandomForestClassifier(max_depth=4, min_impurity_decrease=0.020410011564576357,\n",
       "                              min_samples_leaf=0.016794987022363917, random_state=42) ,\n",
       "       RandomForestClassifier(max_depth=9, min_impurity_decrease=0.020536759329011743,\n",
       "                              min_samples_leaf=0.060406252516394435, random_state=42) ,\n",
       "       RandomForestClassifier(criterion='entropy', max_depth=3,\n",
       "                              min_impurity_decrease=0.018904333492100835,\n",
       "                              min_samples_leaf=17, random_state=42)      ,\n",
       "       RandomForestClassifier(criterion='entropy', max_depth=5,\n",
       "                              min_impurity_decrease=0.033644218484520386,\n",
       "                              min_samples_leaf=19, random_state=42)      ,\n",
       "       RandomForestClassifier(criterion='entropy', max_depth=7,\n",
       "                              min_impurity_decrease=0.053135506749070006,\n",
       "                              min_samples_leaf=12, random_state=42)      ,\n",
       "       RandomForestClassifier(criterion='entropy', max_depth=8,\n",
       "                              min_impurity_decrease=0.05361269617964124,\n",
       "                              min_samples_leaf=9, random_state=42)      ,\n",
       "       RandomForestClassifier(max_depth=4, min_impurity_decrease=0.004320852989026469,\n",
       "                              min_samples_leaf=18, random_state=42)                   ,\n",
       "       RandomForestClassifier(max_depth=9, min_impurity_decrease=0.005013793413319256,\n",
       "                              min_samples_leaf=0.028150766499790824, random_state=42) ,\n",
       "       RandomForestClassifier(criterion='entropy', max_depth=3,\n",
       "                              min_impurity_decrease=0.010401858425894084,\n",
       "                              min_samples_leaf=0.06783507354779879, random_state=42),\n",
       "       GradientBoostingClassifier(criterion='mae', max_depth=5,\n",
       "                                  min_impurity_decrease=0.012932013597442438,\n",
       "                                  min_samples_leaf=3, random_state=42)       ,\n",
       "       RandomForestClassifier(criterion='entropy', max_depth=5,\n",
       "                              min_impurity_decrease=0.06366703333472938,\n",
       "                              min_samples_leaf=7, random_state=42)      ,\n",
       "       RandomForestClassifier(criterion='entropy', max_depth=7,\n",
       "                              min_impurity_decrease=0.06887466565348677,\n",
       "                              min_samples_leaf=6, random_state=42)      ,\n",
       "       RandomForestClassifier(criterion='entropy', max_depth=4,\n",
       "                              min_impurity_decrease=0.07044162909068447,\n",
       "                              min_samples_leaf=0.06322904836293843, random_state=42),\n",
       "       RandomForestClassifier(max_depth=3, min_impurity_decrease=0.06856996212033509,\n",
       "                              min_samples_leaf=19, random_state=42)                  ,\n",
       "       RandomForestClassifier(criterion='entropy', max_depth=9,\n",
       "                              min_impurity_decrease=0.06840875229212826,\n",
       "                              min_samples_leaf=7, random_state=42)      ,\n",
       "       RandomForestClassifier(criterion='entropy', max_depth=1,\n",
       "                              min_impurity_decrease=0.03802524374706999,\n",
       "                              min_samples_leaf=0.0683362797911222, random_state=42),\n",
       "       RandomForestClassifier(criterion='entropy', max_depth=7,\n",
       "                              min_impurity_decrease=0.08275200365616406,\n",
       "                              min_samples_leaf=10, random_state=42)     ,\n",
       "       RandomForestClassifier(criterion='entropy', max_depth=10,\n",
       "                              min_impurity_decrease=0.037029574127614,\n",
       "                              min_samples_leaf=0.07481523251451656, random_state=42),\n",
       "       RandomForestClassifier(criterion='entropy', max_depth=10,\n",
       "                              min_impurity_decrease=0.09410485618218334,\n",
       "                              min_samples_leaf=0.018605447433783794, random_state=42),\n",
       "       RandomForestClassifier(max_depth=1, min_impurity_decrease=0.020747747903182467,\n",
       "                              min_samples_leaf=0.001400352020185469, random_state=42) ,\n",
       "       RandomForestClassifier(max_depth=3, min_impurity_decrease=0.06436377325530376,\n",
       "                              min_samples_leaf=0.032199256195098405, random_state=42),\n",
       "       GradientBoostingClassifier(max_depth=10,\n",
       "                                  min_impurity_decrease=0.09758126071867236,\n",
       "                                  min_samples_leaf=12, random_state=42)     ,\n",
       "       RandomForestClassifier(criterion='entropy', max_depth=2,\n",
       "                              min_impurity_decrease=0.07893229008467256,\n",
       "                              min_samples_leaf=0.05682472795257857, random_state=42),\n",
       "       RandomForestClassifier(criterion='entropy', max_depth=2,\n",
       "                              min_impurity_decrease=0.07459939797674789,\n",
       "                              min_samples_leaf=18, random_state=42)     ,\n",
       "       RandomForestClassifier(max_depth=9, min_impurity_decrease=0.07916386991347656,\n",
       "                              min_samples_leaf=0.0028527396473421395, random_state=42),\n",
       "       RandomForestClassifier(max_depth=5, min_impurity_decrease=0.047104484229768886,\n",
       "                              min_samples_leaf=0.0033373629324367827, random_state=42),\n",
       "       RandomForestClassifier(criterion='entropy', max_depth=4,\n",
       "                              min_impurity_decrease=0.07327753722724352,\n",
       "                              min_samples_leaf=0.03946953735298788, random_state=42),\n",
       "       RandomForestClassifier(criterion='entropy', max_depth=8,\n",
       "                              min_impurity_decrease=0.07365069492029572,\n",
       "                              min_samples_leaf=0.01800539693100466, random_state=42),\n",
       "       RandomForestClassifier(max_depth=2, min_impurity_decrease=0.05992063772197222,\n",
       "                              min_samples_leaf=18, random_state=42)                  ,\n",
       "       RandomForestClassifier(max_depth=4, min_impurity_decrease=0.045890455374495445,\n",
       "                              min_samples_leaf=19, random_state=42)                   ,\n",
       "       RandomForestClassifier(criterion='entropy', max_depth=5,\n",
       "                              min_impurity_decrease=0.0009100358444525947,\n",
       "                              min_samples_leaf=0.06073065806821217, random_state=42),\n",
       "       GradientBoostingClassifier(max_depth=4,\n",
       "                                  min_impurity_decrease=0.006164777905273156,\n",
       "                                  min_samples_leaf=15, random_state=42)      ,\n",
       "       RandomForestClassifier(max_depth=1, min_impurity_decrease=0.04317641250300689,\n",
       "                              min_samples_leaf=3.933259075699081e-05, random_state=42),\n",
       "       GradientBoostingClassifier(criterion='mae', max_depth=10,\n",
       "                                  min_impurity_decrease=0.028074349161045443,\n",
       "                                  min_samples_leaf=14, random_state=42)      ,\n",
       "       RandomForestClassifier(max_depth=8, min_impurity_decrease=0.05206795518981237,\n",
       "                              min_samples_leaf=0.042347291673328416, random_state=42),\n",
       "       RandomForestClassifier(max_depth=5, min_impurity_decrease=0.05378933098137001,\n",
       "                              min_samples_leaf=13, random_state=42)                  ,\n",
       "       GradientBoostingClassifier(max_depth=7,\n",
       "                                  min_impurity_decrease=0.04010417248271934,\n",
       "                                  min_samples_leaf=0.05483935228876169,\n",
       "                                  random_state=42)                          ,\n",
       "       RandomForestClassifier(max_depth=2, min_impurity_decrease=0.07844635410960779,\n",
       "                              min_samples_leaf=0.09215138284617223, random_state=42) ,\n",
       "       GradientBoostingClassifier(max_depth=8,\n",
       "                                  min_impurity_decrease=0.08076195171212665,\n",
       "                                  random_state=42)                          ,\n",
       "       GradientBoostingClassifier(max_depth=10,\n",
       "                                  min_impurity_decrease=0.01912167329169857,\n",
       "                                  min_samples_leaf=9, random_state=42)      ,\n",
       "       GradientBoostingClassifier(max_depth=5,\n",
       "                                  min_impurity_decrease=0.0351922613744601,\n",
       "                                  min_samples_leaf=0.045079046281385114,\n",
       "                                  random_state=42)                         ,\n",
       "       GradientBoostingClassifier(min_impurity_decrease=0.08891775740929234,\n",
       "                                  random_state=42)                          ,\n",
       "       GradientBoostingClassifier(criterion='mae', max_depth=6,\n",
       "                                  min_impurity_decrease=0.00921704472363193,\n",
       "                                  min_samples_leaf=0.05318923313637465,\n",
       "                                  random_state=42)                          ,\n",
       "       GradientBoostingClassifier(criterion='mae', max_depth=9,\n",
       "                                  min_impurity_decrease=0.017669507825293484,\n",
       "                                  min_samples_leaf=8, random_state=42)       ,\n",
       "       GradientBoostingClassifier(max_depth=10,\n",
       "                                  min_impurity_decrease=0.004050999361580843,\n",
       "                                  min_samples_leaf=0.07416357922397494,\n",
       "                                  random_state=42)                           ,\n",
       "       RandomForestClassifier(max_depth=8, min_impurity_decrease=0.08792702462335614,\n",
       "                              min_samples_leaf=12, random_state=42)                  ,\n",
       "       RandomForestClassifier(max_depth=7, min_impurity_decrease=0.08592041407671511,\n",
       "                              min_samples_leaf=0.05611920223879217, random_state=42) ,\n",
       "       GradientBoostingClassifier(min_impurity_decrease=0.014829342154513658,\n",
       "                                  min_samples_leaf=2, random_state=42)       ,\n",
       "       GradientBoostingClassifier(max_depth=6,\n",
       "                                  min_impurity_decrease=0.09127381507473738,\n",
       "                                  min_samples_leaf=0.0029305021356782813,\n",
       "                                  random_state=42)                          ,\n",
       "       GradientBoostingClassifier(max_depth=6,\n",
       "                                  min_impurity_decrease=0.08041775305011287,\n",
       "                                  min_samples_leaf=0.04470388712292476,\n",
       "                                  random_state=42)                          ,\n",
       "       GradientBoostingClassifier(max_depth=4,\n",
       "                                  min_impurity_decrease=0.07004518409741259,\n",
       "                                  min_samples_leaf=0.08284370374470876,\n",
       "                                  random_state=42)                          ,\n",
       "       GradientBoostingClassifier(max_depth=10,\n",
       "                                  min_impurity_decrease=0.04130439153496701,\n",
       "                                  min_samples_leaf=11, random_state=42)     ,\n",
       "       GradientBoostingClassifier(max_depth=6,\n",
       "                                  min_impurity_decrease=0.04488184035530558,\n",
       "                                  min_samples_leaf=16, random_state=42)     ,\n",
       "       GradientBoostingClassifier(criterion='mae', max_depth=9,\n",
       "                                  min_impurity_decrease=0.09885327070259844,\n",
       "                                  min_samples_leaf=0.012235333519545644,\n",
       "                                  random_state=42)                          ,\n",
       "       GradientBoostingClassifier(criterion='mae', max_depth=1,\n",
       "                                  min_impurity_decrease=0.0046650205680515925,\n",
       "                                  random_state=42)                            ,\n",
       "       GradientBoostingClassifier(criterion='mae', max_depth=6,\n",
       "                                  min_impurity_decrease=0.0850382663055901,\n",
       "                                  min_samples_leaf=0.025138355645132338,\n",
       "                                  random_state=42)                         ,\n",
       "       GradientBoostingClassifier(criterion='mae',\n",
       "                                  min_impurity_decrease=0.0580736500439763,\n",
       "                                  min_samples_leaf=8, random_state=42)     ,\n",
       "       GradientBoostingClassifier(criterion='mae', max_depth=1,\n",
       "                                  min_impurity_decrease=0.005468318329459832,\n",
       "                                  min_samples_leaf=14, random_state=42)      ,\n",
       "       GradientBoostingClassifier(criterion='mae', max_depth=1,\n",
       "                                  min_impurity_decrease=0.07572833035267154,\n",
       "                                  min_samples_leaf=8, random_state=42)      ,\n",
       "       GradientBoostingClassifier(criterion='mae', max_depth=1,\n",
       "                                  min_impurity_decrease=0.046309908978135604,\n",
       "                                  min_samples_leaf=0.00515268684457697,\n",
       "                                  random_state=42)                           ,\n",
       "       GradientBoostingClassifier(criterion='mae', max_depth=8,\n",
       "                                  min_impurity_decrease=0.08669457342002583,\n",
       "                                  min_samples_leaf=18, random_state=42)     ,\n",
       "       GradientBoostingClassifier(criterion='mae', max_depth=6,\n",
       "                                  min_impurity_decrease=0.07865620857962323,\n",
       "                                  min_samples_leaf=0.003479588697170577,\n",
       "                                  random_state=42)                          ,\n",
       "       GradientBoostingClassifier(criterion='mae', max_depth=9,\n",
       "                                  min_impurity_decrease=0.032601338072125285,\n",
       "                                  min_samples_leaf=15, random_state=42)      ,\n",
       "       GradientBoostingClassifier(criterion='mae', max_depth=1,\n",
       "                                  min_impurity_decrease=0.014030247083456116,\n",
       "                                  min_samples_leaf=2, random_state=42)       ,\n",
       "       GradientBoostingClassifier(criterion='mae', max_depth=9,\n",
       "                                  min_impurity_decrease=0.07842547224460247,\n",
       "                                  min_samples_leaf=0.07411735789877215,\n",
       "                                  random_state=42)                          ,\n",
       "       GradientBoostingClassifier(criterion='mae', max_depth=1,\n",
       "                                  min_impurity_decrease=0.051134552053791846,\n",
       "                                  min_samples_leaf=14, random_state=42)      ,\n",
       "       GradientBoostingClassifier(criterion='mae', max_depth=9,\n",
       "                                  min_impurity_decrease=0.09195125623540636,\n",
       "                                  min_samples_leaf=13, random_state=42)     ,\n",
       "       GradientBoostingClassifier(criterion='mae', max_depth=9,\n",
       "                                  min_impurity_decrease=0.05299389548574105,\n",
       "                                  min_samples_leaf=5, random_state=42)      ,\n",
       "       GradientBoostingClassifier(criterion='mae', max_depth=6,\n",
       "                                  min_impurity_decrease=0.06316773850415898,\n",
       "                                  min_samples_leaf=0.009624358132721157,\n",
       "                                  random_state=42)                          ,\n",
       "       GradientBoostingClassifier(criterion='mae', max_depth=9,\n",
       "                                  min_impurity_decrease=0.06552161374079146,\n",
       "                                  min_samples_leaf=0.02203994616335936,\n",
       "                                  random_state=42)                          ,\n",
       "       GradientBoostingClassifier(criterion='mae', max_depth=1,\n",
       "                                  min_impurity_decrease=0.026462033765076554,\n",
       "                                  min_samples_leaf=15, random_state=42)      ,\n",
       "       GradientBoostingClassifier(criterion='mae', max_depth=5,\n",
       "                                  min_impurity_decrease=0.06420594902213822,\n",
       "                                  min_samples_leaf=0.07216688268048904,\n",
       "                                  random_state=42)                          ,\n",
       "       GradientBoostingClassifier(criterion='mae',\n",
       "                                  min_impurity_decrease=0.0365474355640377,\n",
       "                                  min_samples_leaf=14, random_state=42)    ,\n",
       "       GradientBoostingClassifier(max_depth=5,\n",
       "                                  min_impurity_decrease=0.04645371982189543,\n",
       "                                  min_samples_leaf=0.07741993755237, random_state=42),\n",
       "       GradientBoostingClassifier(max_depth=6,\n",
       "                                  min_impurity_decrease=0.0455645613387333,\n",
       "                                  min_samples_leaf=0.01755002955763344,\n",
       "                                  random_state=42)                         ,\n",
       "       GradientBoostingClassifier(max_depth=6,\n",
       "                                  min_impurity_decrease=0.01732524280908867,\n",
       "                                  min_samples_leaf=0.04529814036206405,\n",
       "                                  random_state=42)                          ,\n",
       "       GradientBoostingClassifier(max_depth=2,\n",
       "                                  min_impurity_decrease=0.02596129467798297,\n",
       "                                  random_state=42)                          ,\n",
       "       RandomForestClassifier(max_depth=4, min_impurity_decrease=0.09656167255023476,\n",
       "                              min_samples_leaf=20, random_state=42)                  ,\n",
       "       GradientBoostingClassifier(max_depth=9,\n",
       "                                  min_impurity_decrease=0.08314788059640232,\n",
       "                                  min_samples_leaf=13, random_state=42)     ,\n",
       "       GradientBoostingClassifier(max_depth=9,\n",
       "                                  min_impurity_decrease=0.09782441765152958,\n",
       "                                  min_samples_leaf=6.239628407778142e-06,\n",
       "                                  random_state=42)                          ,\n",
       "       RandomForestClassifier(max_depth=6, min_impurity_decrease=0.09916496847081549,\n",
       "                              min_samples_leaf=0.04383393150405431, random_state=42) ],\n",
       "      dtype=object)"
      ]
     },
     "execution_count": 26,
     "metadata": {},
     "output_type": "execute_result"
    }
   ],
   "source": [
    "models_2nd[np.argsort(eval_val_2nd[:, 3])[::-1]]"
   ]
  },
  {
   "cell_type": "code",
   "execution_count": 27,
   "id": "35ebeb8b",
   "metadata": {
    "scrolled": true
   },
   "outputs": [
    {
     "data": {
      "text/plain": [
       "array([[0.79824561, 0.52631579, 0.8       , 0.63492063],\n",
       "       [0.80701754, 0.54285714, 0.76      , 0.63333333],\n",
       "       [0.80701754, 0.54285714, 0.76      , 0.63333333],\n",
       "       [0.78947368, 0.51282051, 0.8       , 0.625     ],\n",
       "       [0.78947368, 0.51282051, 0.8       , 0.625     ],\n",
       "       [0.78947368, 0.51282051, 0.8       , 0.625     ],\n",
       "       [0.79824561, 0.52777778, 0.76      , 0.62295082],\n",
       "       [0.79824561, 0.52777778, 0.76      , 0.62295082],\n",
       "       [0.80701754, 0.54545455, 0.72      , 0.62068966],\n",
       "       [0.78070175, 0.5       , 0.8       , 0.61538462],\n",
       "       [0.78070175, 0.5       , 0.8       , 0.61538462],\n",
       "       [0.78070175, 0.5       , 0.8       , 0.61538462],\n",
       "       [0.78947368, 0.51351351, 0.76      , 0.61290323],\n",
       "       [0.78070175, 0.5       , 0.76      , 0.6031746 ],\n",
       "       [0.78070175, 0.5       , 0.76      , 0.6031746 ],\n",
       "       [0.78070175, 0.5       , 0.76      , 0.6031746 ],\n",
       "       [0.78947368, 0.51428571, 0.72      , 0.6       ],\n",
       "       [0.78947368, 0.51428571, 0.72      , 0.6       ],\n",
       "       [0.78947368, 0.51428571, 0.72      , 0.6       ],\n",
       "       [0.78947368, 0.51428571, 0.72      , 0.6       ],\n",
       "       [0.77192982, 0.48717949, 0.76      , 0.59375   ],\n",
       "       [0.77192982, 0.48717949, 0.76      , 0.59375   ],\n",
       "       [0.78070175, 0.5       , 0.72      , 0.59016393],\n",
       "       [0.75438596, 0.46511628, 0.8       , 0.58823529],\n",
       "       [0.75438596, 0.46511628, 0.8       , 0.58823529],\n",
       "       [0.77192982, 0.48648649, 0.72      , 0.58064516],\n",
       "       [0.76315789, 0.47368421, 0.72      , 0.57142857],\n",
       "       [0.74561404, 0.45238095, 0.76      , 0.56716418],\n",
       "       [0.74561404, 0.45238095, 0.76      , 0.56716418],\n",
       "       [0.72807018, 0.43478261, 0.8       , 0.56338028],\n",
       "       [0.72807018, 0.43478261, 0.8       , 0.56338028],\n",
       "       [0.72807018, 0.43478261, 0.8       , 0.56338028],\n",
       "       [0.71929825, 0.42553191, 0.8       , 0.55555556],\n",
       "       [0.71929825, 0.42553191, 0.8       , 0.55555556],\n",
       "       [0.71929825, 0.42553191, 0.8       , 0.55555556],\n",
       "       [0.72807018, 0.43181818, 0.76      , 0.55072464],\n",
       "       [0.75438596, 0.45945946, 0.68      , 0.5483871 ],\n",
       "       [0.71052632, 0.41666667, 0.8       , 0.54794521],\n",
       "       [0.71052632, 0.41666667, 0.8       , 0.54794521],\n",
       "       [0.71052632, 0.41666667, 0.8       , 0.54794521],\n",
       "       [0.78070175, 0.5       , 0.6       , 0.54545455],\n",
       "       [0.71929825, 0.42222222, 0.76      , 0.54285714],\n",
       "       [0.71929825, 0.42222222, 0.76      , 0.54285714],\n",
       "       [0.68421053, 0.39622642, 0.84      , 0.53846154],\n",
       "       [0.71052632, 0.41304348, 0.76      , 0.53521127],\n",
       "       [0.71052632, 0.41304348, 0.76      , 0.53521127],\n",
       "       [0.71052632, 0.41304348, 0.76      , 0.53521127],\n",
       "       [0.71052632, 0.41304348, 0.76      , 0.53521127],\n",
       "       [0.71052632, 0.41304348, 0.76      , 0.53521127],\n",
       "       [0.73684211, 0.43589744, 0.68      , 0.53125   ],\n",
       "       [0.79824561, 0.54166667, 0.52      , 0.53061224],\n",
       "       [0.70175439, 0.40425532, 0.76      , 0.52777778],\n",
       "       [0.64912281, 0.37288136, 0.88      , 0.52380952],\n",
       "       [0.69298246, 0.39583333, 0.76      , 0.52054795],\n",
       "       [0.69298246, 0.39583333, 0.76      , 0.52054795],\n",
       "       [0.78947368, 0.52      , 0.52      , 0.52      ],\n",
       "       [0.64912281, 0.36842105, 0.84      , 0.51219512],\n",
       "       [0.76315789, 0.46666667, 0.56      , 0.50909091],\n",
       "       [0.77192982, 0.48148148, 0.52      , 0.5       ],\n",
       "       [0.78947368, 0.52173913, 0.48      , 0.5       ],\n",
       "       [0.74561404, 0.4375    , 0.56      , 0.49122807],\n",
       "       [0.76315789, 0.46428571, 0.52      , 0.49056604],\n",
       "       [0.75438596, 0.44827586, 0.52      , 0.48148148],\n",
       "       [0.75438596, 0.44827586, 0.52      , 0.48148148],\n",
       "       [0.59649123, 0.33333333, 0.84      , 0.47727273],\n",
       "       [0.59649123, 0.33333333, 0.84      , 0.47727273],\n",
       "       [0.74561404, 0.43333333, 0.52      , 0.47272727],\n",
       "       [0.74561404, 0.43333333, 0.52      , 0.47272727],\n",
       "       [0.76315789, 0.46153846, 0.48      , 0.47058824],\n",
       "       [0.73684211, 0.41935484, 0.52      , 0.46428571],\n",
       "       [0.75438596, 0.44444444, 0.48      , 0.46153846],\n",
       "       [0.75438596, 0.44444444, 0.48      , 0.46153846],\n",
       "       [0.54385965, 0.30985915, 0.88      , 0.45833333],\n",
       "       [0.54385965, 0.30985915, 0.88      , 0.45833333],\n",
       "       [0.54385965, 0.30985915, 0.88      , 0.45833333],\n",
       "       [0.54385965, 0.30985915, 0.88      , 0.45833333],\n",
       "       [0.54385965, 0.30985915, 0.88      , 0.45833333],\n",
       "       [0.54385965, 0.30985915, 0.88      , 0.45833333],\n",
       "       [0.54385965, 0.30985915, 0.88      , 0.45833333],\n",
       "       [0.54385965, 0.30985915, 0.88      , 0.45833333],\n",
       "       [0.54385965, 0.30985915, 0.88      , 0.45833333],\n",
       "       [0.54385965, 0.30985915, 0.88      , 0.45833333],\n",
       "       [0.54385965, 0.30985915, 0.88      , 0.45833333],\n",
       "       [0.54385965, 0.30985915, 0.88      , 0.45833333],\n",
       "       [0.54385965, 0.30985915, 0.88      , 0.45833333],\n",
       "       [0.54385965, 0.30985915, 0.88      , 0.45833333],\n",
       "       [0.54385965, 0.30985915, 0.88      , 0.45833333],\n",
       "       [0.54385965, 0.30985915, 0.88      , 0.45833333],\n",
       "       [0.54385965, 0.30985915, 0.88      , 0.45833333],\n",
       "       [0.54385965, 0.30985915, 0.88      , 0.45833333],\n",
       "       [0.54385965, 0.30985915, 0.88      , 0.45833333],\n",
       "       [0.54385965, 0.30985915, 0.88      , 0.45833333],\n",
       "       [0.74561404, 0.42857143, 0.48      , 0.45283019],\n",
       "       [0.74561404, 0.42857143, 0.48      , 0.45283019],\n",
       "       [0.76315789, 0.45833333, 0.44      , 0.44897959],\n",
       "       [0.71929825, 0.39393939, 0.52      , 0.44827586],\n",
       "       [0.44736842, 0.26829268, 0.88      , 0.41121495],\n",
       "       [0.74561404, 0.41666667, 0.4       , 0.40816327],\n",
       "       [0.71929825, 0.37931034, 0.44      , 0.40740741],\n",
       "       [0.40350877, 0.25842697, 0.92      , 0.40350877]])"
      ]
     },
     "execution_count": 27,
     "metadata": {},
     "output_type": "execute_result"
    }
   ],
   "source": [
    "eval_val_2nd[np.argsort(eval_val_2nd[:, 3])[::-1]]"
   ]
  },
  {
   "cell_type": "markdown",
   "id": "76163a40",
   "metadata": {},
   "source": [
    "#### last gen"
   ]
  },
  {
   "cell_type": "code",
   "execution_count": 28,
   "id": "7fd31734",
   "metadata": {
    "scrolled": true
   },
   "outputs": [
    {
     "data": {
      "text/plain": [
       "array([{'model': 'RFC', 'max_depth': 10, 'criterion': 'gini', 'min_impurity_decrease': 0.02857832973001634, 'min_samples_leaf': 5},\n",
       "       {'model': 'RFC', 'max_depth': 6, 'criterion': 'gini', 'min_impurity_decrease': 0.0018657030710974576, 'min_samples_leaf': 2},\n",
       "       {'model': 'RFC', 'max_depth': 7, 'criterion': 'entropy', 'min_impurity_decrease': 0.0014944170828121717, 'min_samples_leaf': 0.006798413667999892},\n",
       "       {'model': 'RFC', 'max_depth': 10, 'criterion': 'entropy', 'min_impurity_decrease': 0.049270080206568964, 'min_samples_leaf': 7},\n",
       "       {'model': 'RFC', 'max_depth': 3, 'criterion': 'entropy', 'min_impurity_decrease': 0.05000753235240203, 'min_samples_leaf': 0.045440760793165946},\n",
       "       {'model': 'RFC', 'max_depth': 3, 'criterion': 'entropy', 'min_impurity_decrease': 0.05029206078104944, 'min_samples_leaf': 0.060176024419846305},\n",
       "       {'model': 'RFC', 'max_depth': 3, 'criterion': 'gini', 'min_impurity_decrease': 0.028518118316533937, 'min_samples_leaf': 0.03840696672803383},\n",
       "       {'model': 'RFC', 'max_depth': 3, 'criterion': 'gini', 'min_impurity_decrease': 0.030151510790694967, 'min_samples_leaf': 7},\n",
       "       {'model': 'RFC', 'max_depth': 5, 'criterion': 'entropy', 'min_impurity_decrease': 0.04915059430086314, 'min_samples_leaf': 18},\n",
       "       {'model': 'RFC', 'max_depth': 3, 'criterion': 'gini', 'min_impurity_decrease': 0.020666836198242465, 'min_samples_leaf': 15},\n",
       "       {'model': 'RFC', 'max_depth': 3, 'criterion': 'gini', 'min_impurity_decrease': 0.026437209140434858, 'min_samples_leaf': 12},\n",
       "       {'model': 'RFC', 'max_depth': 3, 'criterion': 'gini', 'min_impurity_decrease': 0.02983006759679404, 'min_samples_leaf': 14},\n",
       "       {'model': 'RFC', 'max_depth': 10, 'criterion': 'gini', 'min_impurity_decrease': 0.018484659820965067, 'min_samples_leaf': 12},\n",
       "       {'model': 'RFC', 'max_depth': 4, 'criterion': 'entropy', 'min_impurity_decrease': 0.031046391431896515, 'min_samples_leaf': 8},\n",
       "       {'model': 'RFC', 'max_depth': 6, 'criterion': 'gini', 'min_impurity_decrease': 0.023257436673541843, 'min_samples_leaf': 0.035902893475029715},\n",
       "       {'model': 'RFC', 'max_depth': 10, 'criterion': 'gini', 'min_impurity_decrease': 0.02187511838937728, 'min_samples_leaf': 20},\n",
       "       {'model': 'RFC', 'max_depth': 7, 'criterion': 'entropy', 'min_impurity_decrease': 0.02520780123081785, 'min_samples_leaf': 2},\n",
       "       {'model': 'RFC', 'max_depth': 3, 'criterion': 'gini', 'min_impurity_decrease': 0.01945197448887972, 'min_samples_leaf': 0.09116743622000908},\n",
       "       {'model': 'RFC', 'max_depth': 9, 'criterion': 'entropy', 'min_impurity_decrease': 0.05033158437369691, 'min_samples_leaf': 9},\n",
       "       {'model': 'RFC', 'max_depth': 7, 'criterion': 'entropy', 'min_impurity_decrease': 0.03674592750649834, 'min_samples_leaf': 0.0010608167678894276},\n",
       "       {'model': 'RFC', 'max_depth': 4, 'criterion': 'gini', 'min_impurity_decrease': 0.032009449774565525, 'min_samples_leaf': 0.05034513566136763},\n",
       "       {'model': 'RFC', 'max_depth': 2, 'criterion': 'gini', 'min_impurity_decrease': 0.03435357412177899, 'min_samples_leaf': 17},\n",
       "       {'model': 'RFC', 'max_depth': 5, 'criterion': 'entropy', 'min_impurity_decrease': 0.04260283059132082, 'min_samples_leaf': 0.0975972316085588},\n",
       "       {'model': 'RFC', 'max_depth': 6, 'criterion': 'entropy', 'min_impurity_decrease': 0.029780527136045364, 'min_samples_leaf': 0.005583298877752963},\n",
       "       {'model': 'RFC', 'max_depth': 3, 'criterion': 'gini', 'min_impurity_decrease': 0.03698874897745998, 'min_samples_leaf': 0.007249934943487723},\n",
       "       {'model': 'RFC', 'max_depth': 7, 'criterion': 'entropy', 'min_impurity_decrease': 0.05094521762943346, 'min_samples_leaf': 0.07305305137537181},\n",
       "       {'model': 'GBC', 'max_depth': 3, 'criterion': 'mae', 'min_impurity_decrease': 0.013171149640350354, 'min_samples_leaf': 0.0921944366999175},\n",
       "       {'model': 'RFC', 'max_depth': 6, 'criterion': 'entropy', 'min_impurity_decrease': 0.06873873638107879, 'min_samples_leaf': 3},\n",
       "       {'model': 'RFC', 'max_depth': 3, 'criterion': 'entropy', 'min_impurity_decrease': 0.09761916439721396, 'min_samples_leaf': 3},\n",
       "       {'model': 'RFC', 'max_depth': 5, 'criterion': 'entropy', 'min_impurity_decrease': 0.03148645012406872, 'min_samples_leaf': 0.09624598165459199},\n",
       "       {'model': 'RFC', 'max_depth': 7, 'criterion': 'entropy', 'min_impurity_decrease': 0.021515813495072388, 'min_samples_leaf': 0.07484664394787352},\n",
       "       {'model': 'RFC', 'max_depth': 6, 'criterion': 'entropy', 'min_impurity_decrease': 0.08436842059404528, 'min_samples_leaf': 0.07341382020527885},\n",
       "       {'model': 'RFC', 'max_depth': 1, 'criterion': 'entropy', 'min_impurity_decrease': 0.06134544630942264, 'min_samples_leaf': 1},\n",
       "       {'model': 'RFC', 'max_depth': 1, 'criterion': 'entropy', 'min_impurity_decrease': 0.036181764477419234, 'min_samples_leaf': 0.052068847829298416},\n",
       "       {'model': 'RFC', 'max_depth': 1, 'criterion': 'entropy', 'min_impurity_decrease': 0.02003811485701128, 'min_samples_leaf': 0.024365793708187054},\n",
       "       {'model': 'RFC', 'max_depth': 9, 'criterion': 'entropy', 'min_impurity_decrease': 0.05904058210802825, 'min_samples_leaf': 16},\n",
       "       {'model': 'RFC', 'max_depth': 9, 'criterion': 'gini', 'min_impurity_decrease': 0.03816107188062211, 'min_samples_leaf': 12},\n",
       "       {'model': 'RFC', 'max_depth': 2, 'criterion': 'entropy', 'min_impurity_decrease': 0.088159729686448, 'min_samples_leaf': 15},\n",
       "       {'model': 'RFC', 'max_depth': 8, 'criterion': 'entropy', 'min_impurity_decrease': 0.0010324653311298837, 'min_samples_leaf': 0.007587970076581829},\n",
       "       {'model': 'GBC', 'max_depth': 4, 'criterion': 'friedman_mse', 'min_impurity_decrease': 0.07724373852669028, 'min_samples_leaf': 2},\n",
       "       {'model': 'RFC', 'max_depth': 7, 'criterion': 'gini', 'min_impurity_decrease': 0.04938662261489325, 'min_samples_leaf': 16},\n",
       "       {'model': 'RFC', 'max_depth': 8, 'criterion': 'entropy', 'min_impurity_decrease': 0.0798972282620918, 'min_samples_leaf': 7},\n",
       "       {'model': 'RFC', 'max_depth': 5, 'criterion': 'gini', 'min_impurity_decrease': 0.04167221451705033, 'min_samples_leaf': 0.09788737577201881},\n",
       "       {'model': 'RFC', 'max_depth': 2, 'criterion': 'entropy', 'min_impurity_decrease': 0.07889375692936622, 'min_samples_leaf': 0.00691171363766172},\n",
       "       {'model': 'RFC', 'max_depth': 4, 'criterion': 'gini', 'min_impurity_decrease': 0.039578909956194785, 'min_samples_leaf': 0.07138982495718058},\n",
       "       {'model': 'RFC', 'max_depth': 9, 'criterion': 'gini', 'min_impurity_decrease': 0.06179720229691377, 'min_samples_leaf': 0.09911477474368627},\n",
       "       {'model': 'RFC', 'max_depth': 4, 'criterion': 'gini', 'min_impurity_decrease': 0.0057134542709857735, 'min_samples_leaf': 0.05396642685408402},\n",
       "       {'model': 'RFC', 'max_depth': 9, 'criterion': 'gini', 'min_impurity_decrease': 0.07922920638808212, 'min_samples_leaf': 0.09127448908840774},\n",
       "       {'model': 'GBC', 'max_depth': 5, 'criterion': 'friedman_mse', 'min_impurity_decrease': 0.09550374824651428, 'min_samples_leaf': 2},\n",
       "       {'model': 'RFC', 'max_depth': 3, 'criterion': 'gini', 'min_impurity_decrease': 0.046845003597436076, 'min_samples_leaf': 19},\n",
       "       {'model': 'RFC', 'max_depth': 3, 'criterion': 'gini', 'min_impurity_decrease': 0.06946777355237707, 'min_samples_leaf': 12},\n",
       "       {'model': 'RFC', 'max_depth': 1, 'criterion': 'gini', 'min_impurity_decrease': 0.05734608784704678, 'min_samples_leaf': 3},\n",
       "       {'model': 'RFC', 'max_depth': 9, 'criterion': 'gini', 'min_impurity_decrease': 0.0584929509717995, 'min_samples_leaf': 0.08740742307127981},\n",
       "       {'model': 'RFC', 'max_depth': 6, 'criterion': 'gini', 'min_impurity_decrease': 0.055005582830151625, 'min_samples_leaf': 0.04126437127063178},\n",
       "       {'model': 'GBC', 'max_depth': 5, 'criterion': 'friedman_mse', 'min_impurity_decrease': 0.061018657421711406, 'min_samples_leaf': 0.0184254829570062},\n",
       "       {'model': 'GBC', 'max_depth': 9, 'criterion': 'friedman_mse', 'min_impurity_decrease': 0.0090480586108592, 'min_samples_leaf': 15},\n",
       "       {'model': 'GBC', 'max_depth': 7, 'criterion': 'friedman_mse', 'min_impurity_decrease': 0.01064691468533947, 'min_samples_leaf': 0.030616068760760153},\n",
       "       {'model': 'GBC', 'max_depth': 10, 'criterion': 'mae', 'min_impurity_decrease': 0.012756975249179259, 'min_samples_leaf': 0.0816689698160887},\n",
       "       {'model': 'RFC', 'max_depth': 6, 'criterion': 'gini', 'min_impurity_decrease': 0.07624645961430665, 'min_samples_leaf': 16},\n",
       "       {'model': 'RFC', 'max_depth': 1, 'criterion': 'gini', 'min_impurity_decrease': 0.0765575518672402, 'min_samples_leaf': 0.002786869169499229},\n",
       "       {'model': 'RFC', 'max_depth': 2, 'criterion': 'gini', 'min_impurity_decrease': 0.07659482213568435, 'min_samples_leaf': 0.021516552892838305},\n",
       "       {'model': 'GBC', 'max_depth': 7, 'criterion': 'friedman_mse', 'min_impurity_decrease': 0.08882240524469076, 'min_samples_leaf': 0.01006008345730206},\n",
       "       {'model': 'GBC', 'max_depth': 9, 'criterion': 'friedman_mse', 'min_impurity_decrease': 0.050043884398391726, 'min_samples_leaf': 0.0176915160432772},\n",
       "       {'model': 'GBC', 'max_depth': 2, 'criterion': 'mae', 'min_impurity_decrease': 0.005789636377472218, 'min_samples_leaf': 0.019232770096208253},\n",
       "       {'model': 'GBC', 'max_depth': 9, 'criterion': 'mae', 'min_impurity_decrease': 0.007652401162686584, 'min_samples_leaf': 0.04913603206950019},\n",
       "       {'model': 'GBC', 'max_depth': 2, 'criterion': 'mae', 'min_impurity_decrease': 0.009395032232542344, 'min_samples_leaf': 0.015075026303399252},\n",
       "       {'model': 'RFC', 'max_depth': 2, 'criterion': 'gini', 'min_impurity_decrease': 0.08200164756557284, 'min_samples_leaf': 0.04428589789590069},\n",
       "       {'model': 'RFC', 'max_depth': 2, 'criterion': 'gini', 'min_impurity_decrease': 0.08739032986756995, 'min_samples_leaf': 5},\n",
       "       {'model': 'RFC', 'max_depth': 6, 'criterion': 'gini', 'min_impurity_decrease': 0.08427453652476721, 'min_samples_leaf': 5},\n",
       "       {'model': 'RFC', 'max_depth': 10, 'criterion': 'gini', 'min_impurity_decrease': 0.08684593759696062, 'min_samples_leaf': 18},\n",
       "       {'model': 'RFC', 'max_depth': 3, 'criterion': 'gini', 'min_impurity_decrease': 0.08595708134086784, 'min_samples_leaf': 10},\n",
       "       {'model': 'GBC', 'max_depth': 3, 'criterion': 'friedman_mse', 'min_impurity_decrease': 0.058026224624177426, 'min_samples_leaf': 0.011626119768218623},\n",
       "       {'model': 'GBC', 'max_depth': 4, 'criterion': 'friedman_mse', 'min_impurity_decrease': 0.0408983128959978, 'min_samples_leaf': 14},\n",
       "       {'model': 'GBC', 'max_depth': 10, 'criterion': 'friedman_mse', 'min_impurity_decrease': 0.033128710619956724, 'min_samples_leaf': 0.051087114450934404},\n",
       "       {'model': 'RFC', 'max_depth': 7, 'criterion': 'gini', 'min_impurity_decrease': 0.08996298936263812, 'min_samples_leaf': 5},\n",
       "       {'model': 'GBC', 'max_depth': 8, 'criterion': 'mae', 'min_impurity_decrease': 0.04566818870551777, 'min_samples_leaf': 0.09472331172175931},\n",
       "       {'model': 'GBC', 'max_depth': 5, 'criterion': 'mae', 'min_impurity_decrease': 0.061429910435605695, 'min_samples_leaf': 5},\n",
       "       {'model': 'GBC', 'max_depth': 7, 'criterion': 'mae', 'min_impurity_decrease': 0.08649724810239136, 'min_samples_leaf': 6},\n",
       "       {'model': 'GBC', 'max_depth': 6, 'criterion': 'mae', 'min_impurity_decrease': 0.0851443124254907, 'min_samples_leaf': 0.09005537055530752},\n",
       "       {'model': 'GBC', 'max_depth': 1, 'criterion': 'mae', 'min_impurity_decrease': 0.09439998272450437, 'min_samples_leaf': 0.06140101254245574},\n",
       "       {'model': 'GBC', 'max_depth': 5, 'criterion': 'mae', 'min_impurity_decrease': 0.05464712108806835, 'min_samples_leaf': 0.03275763237961029},\n",
       "       {'model': 'GBC', 'max_depth': 8, 'criterion': 'mae', 'min_impurity_decrease': 0.060781790708738806, 'min_samples_leaf': 7},\n",
       "       {'model': 'GBC', 'max_depth': 2, 'criterion': 'mae', 'min_impurity_decrease': 0.06505956445129697, 'min_samples_leaf': 0.07433574989648019},\n",
       "       {'model': 'GBC', 'max_depth': 6, 'criterion': 'mae', 'min_impurity_decrease': 0.08455460999729411, 'min_samples_leaf': 1},\n",
       "       {'model': 'GBC', 'max_depth': 2, 'criterion': 'mae', 'min_impurity_decrease': 0.07596523130608432, 'min_samples_leaf': 0.004609410840873129},\n",
       "       {'model': 'GBC', 'max_depth': 2, 'criterion': 'mae', 'min_impurity_decrease': 0.09007747581174966, 'min_samples_leaf': 0.014055871062478109},\n",
       "       {'model': 'GBC', 'max_depth': 3, 'criterion': 'mae', 'min_impurity_decrease': 0.05260931149978533, 'min_samples_leaf': 13},\n",
       "       {'model': 'GBC', 'max_depth': 1, 'criterion': 'mae', 'min_impurity_decrease': 0.09184577170587968, 'min_samples_leaf': 0.014776061969411013},\n",
       "       {'model': 'GBC', 'max_depth': 7, 'criterion': 'mae', 'min_impurity_decrease': 0.09187990218231061, 'min_samples_leaf': 0.07636420416823472},\n",
       "       {'model': 'GBC', 'max_depth': 1, 'criterion': 'mae', 'min_impurity_decrease': 0.07597454615619266, 'min_samples_leaf': 5},\n",
       "       {'model': 'GBC', 'max_depth': 3, 'criterion': 'mae', 'min_impurity_decrease': 0.0895372418151616, 'min_samples_leaf': 6},\n",
       "       {'model': 'GBC', 'max_depth': 5, 'criterion': 'mae', 'min_impurity_decrease': 0.07186420880163008, 'min_samples_leaf': 14},\n",
       "       {'model': 'GBC', 'max_depth': 4, 'criterion': 'mae', 'min_impurity_decrease': 0.06843239755922374, 'min_samples_leaf': 7},\n",
       "       {'model': 'GBC', 'max_depth': 2, 'criterion': 'mae', 'min_impurity_decrease': 0.04822602926598618, 'min_samples_leaf': 3},\n",
       "       {'model': 'GBC', 'max_depth': 4, 'criterion': 'mae', 'min_impurity_decrease': 0.038601703250459904, 'min_samples_leaf': 0.03338720773571143},\n",
       "       {'model': 'GBC', 'max_depth': 5, 'criterion': 'friedman_mse', 'min_impurity_decrease': 0.06970274079792224, 'min_samples_leaf': 16},\n",
       "       {'model': 'GBC', 'max_depth': 2, 'criterion': 'friedman_mse', 'min_impurity_decrease': 0.035086202829575655, 'min_samples_leaf': 0.0026072864821461315},\n",
       "       {'model': 'GBC', 'max_depth': 4, 'criterion': 'friedman_mse', 'min_impurity_decrease': 0.00458417261436066, 'min_samples_leaf': 0.04403981877627565},\n",
       "       {'model': 'RFC', 'max_depth': 10, 'criterion': 'gini', 'min_impurity_decrease': 0.09852366225615253, 'min_samples_leaf': 5},\n",
       "       {'model': 'GBC', 'max_depth': 5, 'criterion': 'friedman_mse', 'min_impurity_decrease': 0.044820431523457514, 'min_samples_leaf': 18}],\n",
       "      dtype=object)"
      ]
     },
     "execution_count": 28,
     "metadata": {},
     "output_type": "execute_result"
    }
   ],
   "source": [
    "params_nth[np.argsort(eval_val_nth[:, 3])[::-1]]"
   ]
  },
  {
   "cell_type": "code",
   "execution_count": 29,
   "id": "18fd4cca",
   "metadata": {
    "scrolled": true
   },
   "outputs": [
    {
     "data": {
      "text/plain": [
       "array([RandomForestClassifier(max_depth=10, min_impurity_decrease=0.02857832973001634,\n",
       "                              min_samples_leaf=5, random_state=42)                    ,\n",
       "       RandomForestClassifier(max_depth=6, min_impurity_decrease=0.0018657030710974576,\n",
       "                              min_samples_leaf=2, random_state=42)                     ,\n",
       "       RandomForestClassifier(criterion='entropy', max_depth=7,\n",
       "                              min_impurity_decrease=0.0014944170828121717,\n",
       "                              min_samples_leaf=0.006798413667999892, random_state=42),\n",
       "       RandomForestClassifier(criterion='entropy', max_depth=10,\n",
       "                              min_impurity_decrease=0.049270080206568964,\n",
       "                              min_samples_leaf=7, random_state=42)       ,\n",
       "       RandomForestClassifier(criterion='entropy', max_depth=3,\n",
       "                              min_impurity_decrease=0.05000753235240203,\n",
       "                              min_samples_leaf=0.045440760793165946, random_state=42),\n",
       "       RandomForestClassifier(criterion='entropy', max_depth=3,\n",
       "                              min_impurity_decrease=0.05029206078104944,\n",
       "                              min_samples_leaf=0.060176024419846305, random_state=42),\n",
       "       RandomForestClassifier(max_depth=3, min_impurity_decrease=0.028518118316533937,\n",
       "                              min_samples_leaf=0.03840696672803383, random_state=42)  ,\n",
       "       RandomForestClassifier(max_depth=3, min_impurity_decrease=0.030151510790694967,\n",
       "                              min_samples_leaf=7, random_state=42)                    ,\n",
       "       RandomForestClassifier(criterion='entropy', max_depth=5,\n",
       "                              min_impurity_decrease=0.04915059430086314,\n",
       "                              min_samples_leaf=18, random_state=42)     ,\n",
       "       RandomForestClassifier(max_depth=3, min_impurity_decrease=0.020666836198242465,\n",
       "                              min_samples_leaf=15, random_state=42)                   ,\n",
       "       RandomForestClassifier(max_depth=3, min_impurity_decrease=0.026437209140434858,\n",
       "                              min_samples_leaf=12, random_state=42)                   ,\n",
       "       RandomForestClassifier(max_depth=3, min_impurity_decrease=0.02983006759679404,\n",
       "                              min_samples_leaf=14, random_state=42)                  ,\n",
       "       RandomForestClassifier(max_depth=10, min_impurity_decrease=0.018484659820965067,\n",
       "                              min_samples_leaf=12, random_state=42)                    ,\n",
       "       RandomForestClassifier(criterion='entropy', max_depth=4,\n",
       "                              min_impurity_decrease=0.031046391431896515,\n",
       "                              min_samples_leaf=8, random_state=42)       ,\n",
       "       RandomForestClassifier(max_depth=6, min_impurity_decrease=0.023257436673541843,\n",
       "                              min_samples_leaf=0.035902893475029715, random_state=42) ,\n",
       "       RandomForestClassifier(max_depth=10, min_impurity_decrease=0.02187511838937728,\n",
       "                              min_samples_leaf=20, random_state=42)                   ,\n",
       "       RandomForestClassifier(criterion='entropy', max_depth=7,\n",
       "                              min_impurity_decrease=0.02520780123081785,\n",
       "                              min_samples_leaf=2, random_state=42)      ,\n",
       "       RandomForestClassifier(max_depth=3, min_impurity_decrease=0.01945197448887972,\n",
       "                              min_samples_leaf=0.09116743622000908, random_state=42) ,\n",
       "       RandomForestClassifier(criterion='entropy', max_depth=9,\n",
       "                              min_impurity_decrease=0.05033158437369691,\n",
       "                              min_samples_leaf=9, random_state=42)      ,\n",
       "       RandomForestClassifier(criterion='entropy', max_depth=7,\n",
       "                              min_impurity_decrease=0.03674592750649834,\n",
       "                              min_samples_leaf=0.0010608167678894276, random_state=42),\n",
       "       RandomForestClassifier(max_depth=4, min_impurity_decrease=0.032009449774565525,\n",
       "                              min_samples_leaf=0.05034513566136763, random_state=42)  ,\n",
       "       RandomForestClassifier(max_depth=2, min_impurity_decrease=0.03435357412177899,\n",
       "                              min_samples_leaf=17, random_state=42)                  ,\n",
       "       RandomForestClassifier(criterion='entropy', max_depth=5,\n",
       "                              min_impurity_decrease=0.04260283059132082,\n",
       "                              min_samples_leaf=0.0975972316085588, random_state=42),\n",
       "       RandomForestClassifier(criterion='entropy', max_depth=6,\n",
       "                              min_impurity_decrease=0.029780527136045364,\n",
       "                              min_samples_leaf=0.005583298877752963, random_state=42),\n",
       "       RandomForestClassifier(max_depth=3, min_impurity_decrease=0.03698874897745998,\n",
       "                              min_samples_leaf=0.007249934943487723, random_state=42),\n",
       "       RandomForestClassifier(criterion='entropy', max_depth=7,\n",
       "                              min_impurity_decrease=0.05094521762943346,\n",
       "                              min_samples_leaf=0.07305305137537181, random_state=42),\n",
       "       GradientBoostingClassifier(criterion='mae',\n",
       "                                  min_impurity_decrease=0.013171149640350354,\n",
       "                                  min_samples_leaf=0.0921944366999175,\n",
       "                                  random_state=42)                           ,\n",
       "       RandomForestClassifier(criterion='entropy', max_depth=6,\n",
       "                              min_impurity_decrease=0.06873873638107879,\n",
       "                              min_samples_leaf=3, random_state=42)      ,\n",
       "       RandomForestClassifier(criterion='entropy', max_depth=3,\n",
       "                              min_impurity_decrease=0.09761916439721396,\n",
       "                              min_samples_leaf=3, random_state=42)      ,\n",
       "       RandomForestClassifier(criterion='entropy', max_depth=5,\n",
       "                              min_impurity_decrease=0.03148645012406872,\n",
       "                              min_samples_leaf=0.09624598165459199, random_state=42),\n",
       "       RandomForestClassifier(criterion='entropy', max_depth=7,\n",
       "                              min_impurity_decrease=0.021515813495072388,\n",
       "                              min_samples_leaf=0.07484664394787352, random_state=42),\n",
       "       RandomForestClassifier(criterion='entropy', max_depth=6,\n",
       "                              min_impurity_decrease=0.08436842059404528,\n",
       "                              min_samples_leaf=0.07341382020527885, random_state=42),\n",
       "       RandomForestClassifier(criterion='entropy', max_depth=1,\n",
       "                              min_impurity_decrease=0.06134544630942264,\n",
       "                              random_state=42)                          ,\n",
       "       RandomForestClassifier(criterion='entropy', max_depth=1,\n",
       "                              min_impurity_decrease=0.036181764477419234,\n",
       "                              min_samples_leaf=0.052068847829298416, random_state=42),\n",
       "       RandomForestClassifier(criterion='entropy', max_depth=1,\n",
       "                              min_impurity_decrease=0.02003811485701128,\n",
       "                              min_samples_leaf=0.024365793708187054, random_state=42),\n",
       "       RandomForestClassifier(criterion='entropy', max_depth=9,\n",
       "                              min_impurity_decrease=0.05904058210802825,\n",
       "                              min_samples_leaf=16, random_state=42)     ,\n",
       "       RandomForestClassifier(max_depth=9, min_impurity_decrease=0.03816107188062211,\n",
       "                              min_samples_leaf=12, random_state=42)                  ,\n",
       "       RandomForestClassifier(criterion='entropy', max_depth=2,\n",
       "                              min_impurity_decrease=0.088159729686448,\n",
       "                              min_samples_leaf=15, random_state=42)   ,\n",
       "       RandomForestClassifier(criterion='entropy', max_depth=8,\n",
       "                              min_impurity_decrease=0.0010324653311298837,\n",
       "                              min_samples_leaf=0.007587970076581829, random_state=42),\n",
       "       GradientBoostingClassifier(max_depth=4,\n",
       "                                  min_impurity_decrease=0.07724373852669028,\n",
       "                                  min_samples_leaf=2, random_state=42)      ,\n",
       "       RandomForestClassifier(max_depth=7, min_impurity_decrease=0.04938662261489325,\n",
       "                              min_samples_leaf=16, random_state=42)                  ,\n",
       "       RandomForestClassifier(criterion='entropy', max_depth=8,\n",
       "                              min_impurity_decrease=0.0798972282620918,\n",
       "                              min_samples_leaf=7, random_state=42)     ,\n",
       "       RandomForestClassifier(max_depth=5, min_impurity_decrease=0.04167221451705033,\n",
       "                              min_samples_leaf=0.09788737577201881, random_state=42) ,\n",
       "       RandomForestClassifier(criterion='entropy', max_depth=2,\n",
       "                              min_impurity_decrease=0.07889375692936622,\n",
       "                              min_samples_leaf=0.00691171363766172, random_state=42),\n",
       "       RandomForestClassifier(max_depth=4, min_impurity_decrease=0.039578909956194785,\n",
       "                              min_samples_leaf=0.07138982495718058, random_state=42)  ,\n",
       "       RandomForestClassifier(max_depth=9, min_impurity_decrease=0.06179720229691377,\n",
       "                              min_samples_leaf=0.09911477474368627, random_state=42) ,\n",
       "       RandomForestClassifier(max_depth=4, min_impurity_decrease=0.0057134542709857735,\n",
       "                              min_samples_leaf=0.05396642685408402, random_state=42)   ,\n",
       "       RandomForestClassifier(max_depth=9, min_impurity_decrease=0.07922920638808212,\n",
       "                              min_samples_leaf=0.09127448908840774, random_state=42) ,\n",
       "       GradientBoostingClassifier(max_depth=5,\n",
       "                                  min_impurity_decrease=0.09550374824651428,\n",
       "                                  min_samples_leaf=2, random_state=42)      ,\n",
       "       RandomForestClassifier(max_depth=3, min_impurity_decrease=0.046845003597436076,\n",
       "                              min_samples_leaf=19, random_state=42)                   ,\n",
       "       RandomForestClassifier(max_depth=3, min_impurity_decrease=0.06946777355237707,\n",
       "                              min_samples_leaf=12, random_state=42)                  ,\n",
       "       RandomForestClassifier(max_depth=1, min_impurity_decrease=0.05734608784704678,\n",
       "                              min_samples_leaf=3, random_state=42)                   ,\n",
       "       RandomForestClassifier(max_depth=9, min_impurity_decrease=0.0584929509717995,\n",
       "                              min_samples_leaf=0.08740742307127981, random_state=42),\n",
       "       RandomForestClassifier(max_depth=6, min_impurity_decrease=0.055005582830151625,\n",
       "                              min_samples_leaf=0.04126437127063178, random_state=42)  ,\n",
       "       GradientBoostingClassifier(max_depth=5,\n",
       "                                  min_impurity_decrease=0.061018657421711406,\n",
       "                                  min_samples_leaf=0.0184254829570062,\n",
       "                                  random_state=42)                           ,\n",
       "       GradientBoostingClassifier(max_depth=9,\n",
       "                                  min_impurity_decrease=0.0090480586108592,\n",
       "                                  min_samples_leaf=15, random_state=42)    ,\n",
       "       GradientBoostingClassifier(max_depth=7,\n",
       "                                  min_impurity_decrease=0.01064691468533947,\n",
       "                                  min_samples_leaf=0.030616068760760153,\n",
       "                                  random_state=42)                          ,\n",
       "       GradientBoostingClassifier(criterion='mae', max_depth=10,\n",
       "                                  min_impurity_decrease=0.012756975249179259,\n",
       "                                  min_samples_leaf=0.0816689698160887,\n",
       "                                  random_state=42)                           ,\n",
       "       RandomForestClassifier(max_depth=6, min_impurity_decrease=0.07624645961430665,\n",
       "                              min_samples_leaf=16, random_state=42)                  ,\n",
       "       RandomForestClassifier(max_depth=1, min_impurity_decrease=0.0765575518672402,\n",
       "                              min_samples_leaf=0.002786869169499229, random_state=42),\n",
       "       RandomForestClassifier(max_depth=2, min_impurity_decrease=0.07659482213568435,\n",
       "                              min_samples_leaf=0.021516552892838305, random_state=42),\n",
       "       GradientBoostingClassifier(max_depth=7,\n",
       "                                  min_impurity_decrease=0.08882240524469076,\n",
       "                                  min_samples_leaf=0.01006008345730206,\n",
       "                                  random_state=42)                          ,\n",
       "       GradientBoostingClassifier(max_depth=9,\n",
       "                                  min_impurity_decrease=0.050043884398391726,\n",
       "                                  min_samples_leaf=0.0176915160432772,\n",
       "                                  random_state=42)                           ,\n",
       "       GradientBoostingClassifier(criterion='mae', max_depth=2,\n",
       "                                  min_impurity_decrease=0.005789636377472218,\n",
       "                                  min_samples_leaf=0.019232770096208253,\n",
       "                                  random_state=42)                           ,\n",
       "       GradientBoostingClassifier(criterion='mae', max_depth=9,\n",
       "                                  min_impurity_decrease=0.007652401162686584,\n",
       "                                  min_samples_leaf=0.04913603206950019,\n",
       "                                  random_state=42)                           ,\n",
       "       GradientBoostingClassifier(criterion='mae', max_depth=2,\n",
       "                                  min_impurity_decrease=0.009395032232542344,\n",
       "                                  min_samples_leaf=0.015075026303399252,\n",
       "                                  random_state=42)                           ,\n",
       "       RandomForestClassifier(max_depth=2, min_impurity_decrease=0.08200164756557284,\n",
       "                              min_samples_leaf=0.04428589789590069, random_state=42) ,\n",
       "       RandomForestClassifier(max_depth=2, min_impurity_decrease=0.08739032986756995,\n",
       "                              min_samples_leaf=5, random_state=42)                   ,\n",
       "       RandomForestClassifier(max_depth=6, min_impurity_decrease=0.08427453652476721,\n",
       "                              min_samples_leaf=5, random_state=42)                   ,\n",
       "       RandomForestClassifier(max_depth=10, min_impurity_decrease=0.08684593759696062,\n",
       "                              min_samples_leaf=18, random_state=42)                   ,\n",
       "       RandomForestClassifier(max_depth=3, min_impurity_decrease=0.08595708134086784,\n",
       "                              min_samples_leaf=10, random_state=42)                  ,\n",
       "       GradientBoostingClassifier(min_impurity_decrease=0.058026224624177426,\n",
       "                                  min_samples_leaf=0.011626119768218623,\n",
       "                                  random_state=42)                           ,\n",
       "       GradientBoostingClassifier(max_depth=4,\n",
       "                                  min_impurity_decrease=0.0408983128959978,\n",
       "                                  min_samples_leaf=14, random_state=42)    ,\n",
       "       GradientBoostingClassifier(max_depth=10,\n",
       "                                  min_impurity_decrease=0.033128710619956724,\n",
       "                                  min_samples_leaf=0.051087114450934404,\n",
       "                                  random_state=42)                           ,\n",
       "       RandomForestClassifier(max_depth=7, min_impurity_decrease=0.08996298936263812,\n",
       "                              min_samples_leaf=5, random_state=42)                   ,\n",
       "       GradientBoostingClassifier(criterion='mae', max_depth=8,\n",
       "                                  min_impurity_decrease=0.04566818870551777,\n",
       "                                  min_samples_leaf=0.09472331172175931,\n",
       "                                  random_state=42)                          ,\n",
       "       GradientBoostingClassifier(criterion='mae', max_depth=5,\n",
       "                                  min_impurity_decrease=0.061429910435605695,\n",
       "                                  min_samples_leaf=5, random_state=42)       ,\n",
       "       GradientBoostingClassifier(criterion='mae', max_depth=7,\n",
       "                                  min_impurity_decrease=0.08649724810239136,\n",
       "                                  min_samples_leaf=6, random_state=42)      ,\n",
       "       GradientBoostingClassifier(criterion='mae', max_depth=6,\n",
       "                                  min_impurity_decrease=0.0851443124254907,\n",
       "                                  min_samples_leaf=0.09005537055530752,\n",
       "                                  random_state=42)                         ,\n",
       "       GradientBoostingClassifier(criterion='mae', max_depth=1,\n",
       "                                  min_impurity_decrease=0.09439998272450437,\n",
       "                                  min_samples_leaf=0.06140101254245574,\n",
       "                                  random_state=42)                          ,\n",
       "       GradientBoostingClassifier(criterion='mae', max_depth=5,\n",
       "                                  min_impurity_decrease=0.05464712108806835,\n",
       "                                  min_samples_leaf=0.03275763237961029,\n",
       "                                  random_state=42)                          ,\n",
       "       GradientBoostingClassifier(criterion='mae', max_depth=8,\n",
       "                                  min_impurity_decrease=0.060781790708738806,\n",
       "                                  min_samples_leaf=7, random_state=42)       ,\n",
       "       GradientBoostingClassifier(criterion='mae', max_depth=2,\n",
       "                                  min_impurity_decrease=0.06505956445129697,\n",
       "                                  min_samples_leaf=0.07433574989648019,\n",
       "                                  random_state=42)                          ,\n",
       "       GradientBoostingClassifier(criterion='mae', max_depth=6,\n",
       "                                  min_impurity_decrease=0.08455460999729411,\n",
       "                                  random_state=42)                          ,\n",
       "       GradientBoostingClassifier(criterion='mae', max_depth=2,\n",
       "                                  min_impurity_decrease=0.07596523130608432,\n",
       "                                  min_samples_leaf=0.004609410840873129,\n",
       "                                  random_state=42)                          ,\n",
       "       GradientBoostingClassifier(criterion='mae', max_depth=2,\n",
       "                                  min_impurity_decrease=0.09007747581174966,\n",
       "                                  min_samples_leaf=0.014055871062478109,\n",
       "                                  random_state=42)                          ,\n",
       "       GradientBoostingClassifier(criterion='mae',\n",
       "                                  min_impurity_decrease=0.05260931149978533,\n",
       "                                  min_samples_leaf=13, random_state=42)     ,\n",
       "       GradientBoostingClassifier(criterion='mae', max_depth=1,\n",
       "                                  min_impurity_decrease=0.09184577170587968,\n",
       "                                  min_samples_leaf=0.014776061969411013,\n",
       "                                  random_state=42)                          ,\n",
       "       GradientBoostingClassifier(criterion='mae', max_depth=7,\n",
       "                                  min_impurity_decrease=0.09187990218231061,\n",
       "                                  min_samples_leaf=0.07636420416823472,\n",
       "                                  random_state=42)                          ,\n",
       "       GradientBoostingClassifier(criterion='mae', max_depth=1,\n",
       "                                  min_impurity_decrease=0.07597454615619266,\n",
       "                                  min_samples_leaf=5, random_state=42)      ,\n",
       "       GradientBoostingClassifier(criterion='mae',\n",
       "                                  min_impurity_decrease=0.0895372418151616,\n",
       "                                  min_samples_leaf=6, random_state=42)     ,\n",
       "       GradientBoostingClassifier(criterion='mae', max_depth=5,\n",
       "                                  min_impurity_decrease=0.07186420880163008,\n",
       "                                  min_samples_leaf=14, random_state=42)     ,\n",
       "       GradientBoostingClassifier(criterion='mae', max_depth=4,\n",
       "                                  min_impurity_decrease=0.06843239755922374,\n",
       "                                  min_samples_leaf=7, random_state=42)      ,\n",
       "       GradientBoostingClassifier(criterion='mae', max_depth=2,\n",
       "                                  min_impurity_decrease=0.04822602926598618,\n",
       "                                  min_samples_leaf=3, random_state=42)      ,\n",
       "       GradientBoostingClassifier(criterion='mae', max_depth=4,\n",
       "                                  min_impurity_decrease=0.038601703250459904,\n",
       "                                  min_samples_leaf=0.03338720773571143,\n",
       "                                  random_state=42)                           ,\n",
       "       GradientBoostingClassifier(max_depth=5,\n",
       "                                  min_impurity_decrease=0.06970274079792224,\n",
       "                                  min_samples_leaf=16, random_state=42)     ,\n",
       "       GradientBoostingClassifier(max_depth=2,\n",
       "                                  min_impurity_decrease=0.035086202829575655,\n",
       "                                  min_samples_leaf=0.0026072864821461315,\n",
       "                                  random_state=42)                           ,\n",
       "       GradientBoostingClassifier(max_depth=4,\n",
       "                                  min_impurity_decrease=0.00458417261436066,\n",
       "                                  min_samples_leaf=0.04403981877627565,\n",
       "                                  random_state=42)                          ,\n",
       "       RandomForestClassifier(max_depth=10, min_impurity_decrease=0.09852366225615253,\n",
       "                              min_samples_leaf=5, random_state=42)                    ,\n",
       "       GradientBoostingClassifier(max_depth=5,\n",
       "                                  min_impurity_decrease=0.044820431523457514,\n",
       "                                  min_samples_leaf=18, random_state=42)      ],\n",
       "      dtype=object)"
      ]
     },
     "execution_count": 29,
     "metadata": {},
     "output_type": "execute_result"
    }
   ],
   "source": [
    "models_nth[np.argsort(eval_val_nth[:, 3])[::-1]]"
   ]
  },
  {
   "cell_type": "code",
   "execution_count": 30,
   "id": "0e4e8481",
   "metadata": {
    "scrolled": true
   },
   "outputs": [
    {
     "data": {
      "text/plain": [
       "array([[0.80701754, 0.54054054, 0.8       , 0.64516129],\n",
       "       [0.83333333, 0.60714286, 0.68      , 0.64150943],\n",
       "       [0.83333333, 0.60714286, 0.68      , 0.64150943],\n",
       "       [0.79824561, 0.52631579, 0.8       , 0.63492063],\n",
       "       [0.79824561, 0.52631579, 0.8       , 0.63492063],\n",
       "       [0.79824561, 0.52631579, 0.8       , 0.63492063],\n",
       "       [0.79824561, 0.52631579, 0.8       , 0.63492063],\n",
       "       [0.79824561, 0.52631579, 0.8       , 0.63492063],\n",
       "       [0.79824561, 0.52631579, 0.8       , 0.63492063],\n",
       "       [0.80701754, 0.54285714, 0.76      , 0.63333333],\n",
       "       [0.80701754, 0.54285714, 0.76      , 0.63333333],\n",
       "       [0.79824561, 0.52777778, 0.76      , 0.62295082],\n",
       "       [0.79824561, 0.52777778, 0.76      , 0.62295082],\n",
       "       [0.78947368, 0.51351351, 0.76      , 0.61290323],\n",
       "       [0.78947368, 0.51351351, 0.76      , 0.61290323],\n",
       "       [0.78947368, 0.51351351, 0.76      , 0.61290323],\n",
       "       [0.79824561, 0.52941176, 0.72      , 0.61016949],\n",
       "       [0.78070175, 0.5       , 0.76      , 0.6031746 ],\n",
       "       [0.78070175, 0.5       , 0.76      , 0.6031746 ],\n",
       "       [0.78947368, 0.51428571, 0.72      , 0.6       ],\n",
       "       [0.76315789, 0.47619048, 0.8       , 0.59701493],\n",
       "       [0.77192982, 0.48717949, 0.76      , 0.59375   ],\n",
       "       [0.77192982, 0.48717949, 0.76      , 0.59375   ],\n",
       "       [0.78070175, 0.5       , 0.72      , 0.59016393],\n",
       "       [0.75438596, 0.46511628, 0.8       , 0.58823529],\n",
       "       [0.75438596, 0.46341463, 0.76      , 0.57575758],\n",
       "       [0.72807018, 0.43478261, 0.8       , 0.56338028],\n",
       "       [0.72807018, 0.43478261, 0.8       , 0.56338028],\n",
       "       [0.72807018, 0.43478261, 0.8       , 0.56338028],\n",
       "       [0.75438596, 0.46153846, 0.72      , 0.5625    ],\n",
       "       [0.73684211, 0.44186047, 0.76      , 0.55882353],\n",
       "       [0.73684211, 0.44186047, 0.76      , 0.55882353],\n",
       "       [0.71929825, 0.42553191, 0.8       , 0.55555556],\n",
       "       [0.71929825, 0.42553191, 0.8       , 0.55555556],\n",
       "       [0.71929825, 0.42553191, 0.8       , 0.55555556],\n",
       "       [0.71929825, 0.42553191, 0.8       , 0.55555556],\n",
       "       [0.72807018, 0.43181818, 0.76      , 0.55072464],\n",
       "       [0.72807018, 0.43181818, 0.76      , 0.55072464],\n",
       "       [0.79824561, 0.53846154, 0.56      , 0.54901961],\n",
       "       [0.78070175, 0.5       , 0.6       , 0.54545455],\n",
       "       [0.71929825, 0.42222222, 0.76      , 0.54285714],\n",
       "       [0.71929825, 0.42222222, 0.76      , 0.54285714],\n",
       "       [0.71929825, 0.42222222, 0.76      , 0.54285714],\n",
       "       [0.71929825, 0.42222222, 0.76      , 0.54285714],\n",
       "       [0.71929825, 0.42222222, 0.76      , 0.54285714],\n",
       "       [0.70175439, 0.40816327, 0.8       , 0.54054054],\n",
       "       [0.74561404, 0.44736842, 0.68      , 0.53968254],\n",
       "       [0.68421053, 0.39622642, 0.84      , 0.53846154],\n",
       "       [0.78947368, 0.51851852, 0.56      , 0.53846154],\n",
       "       [0.71052632, 0.41304348, 0.76      , 0.53521127],\n",
       "       [0.69298246, 0.4       , 0.8       , 0.53333333],\n",
       "       [0.70175439, 0.40425532, 0.76      , 0.52777778],\n",
       "       [0.70175439, 0.40425532, 0.76      , 0.52777778],\n",
       "       [0.69298246, 0.39583333, 0.76      , 0.52054795],\n",
       "       [0.78947368, 0.52      , 0.52      , 0.52      ],\n",
       "       [0.78947368, 0.52      , 0.52      , 0.52      ],\n",
       "       [0.78947368, 0.52      , 0.52      , 0.52      ],\n",
       "       [0.71929825, 0.41463415, 0.68      , 0.51515152],\n",
       "       [0.64912281, 0.36842105, 0.84      , 0.51219512],\n",
       "       [0.64912281, 0.36842105, 0.84      , 0.51219512],\n",
       "       [0.64912281, 0.36842105, 0.84      , 0.51219512],\n",
       "       [0.78070175, 0.5       , 0.52      , 0.50980392],\n",
       "       [0.76315789, 0.46666667, 0.56      , 0.50909091],\n",
       "       [0.75438596, 0.44827586, 0.52      , 0.48148148],\n",
       "       [0.75438596, 0.44827586, 0.52      , 0.48148148],\n",
       "       [0.75438596, 0.44827586, 0.52      , 0.48148148],\n",
       "       [0.59649123, 0.33333333, 0.84      , 0.47727273],\n",
       "       [0.59649123, 0.33333333, 0.84      , 0.47727273],\n",
       "       [0.59649123, 0.33333333, 0.84      , 0.47727273],\n",
       "       [0.59649123, 0.33333333, 0.84      , 0.47727273],\n",
       "       [0.59649123, 0.33333333, 0.84      , 0.47727273],\n",
       "       [0.74561404, 0.43333333, 0.52      , 0.47272727],\n",
       "       [0.74561404, 0.43333333, 0.52      , 0.47272727],\n",
       "       [0.78070175, 0.5       , 0.44      , 0.46808511],\n",
       "       [0.57017544, 0.31818182, 0.84      , 0.46153846],\n",
       "       [0.54385965, 0.30985915, 0.88      , 0.45833333],\n",
       "       [0.54385965, 0.30985915, 0.88      , 0.45833333],\n",
       "       [0.54385965, 0.30985915, 0.88      , 0.45833333],\n",
       "       [0.54385965, 0.30985915, 0.88      , 0.45833333],\n",
       "       [0.54385965, 0.30985915, 0.88      , 0.45833333],\n",
       "       [0.54385965, 0.30985915, 0.88      , 0.45833333],\n",
       "       [0.54385965, 0.30985915, 0.88      , 0.45833333],\n",
       "       [0.54385965, 0.30985915, 0.88      , 0.45833333],\n",
       "       [0.54385965, 0.30985915, 0.88      , 0.45833333],\n",
       "       [0.54385965, 0.30985915, 0.88      , 0.45833333],\n",
       "       [0.54385965, 0.30985915, 0.88      , 0.45833333],\n",
       "       [0.54385965, 0.30985915, 0.88      , 0.45833333],\n",
       "       [0.54385965, 0.30985915, 0.88      , 0.45833333],\n",
       "       [0.54385965, 0.30985915, 0.88      , 0.45833333],\n",
       "       [0.54385965, 0.30985915, 0.88      , 0.45833333],\n",
       "       [0.54385965, 0.30985915, 0.88      , 0.45833333],\n",
       "       [0.54385965, 0.30985915, 0.88      , 0.45833333],\n",
       "       [0.54385965, 0.30985915, 0.88      , 0.45833333],\n",
       "       [0.54385965, 0.30985915, 0.88      , 0.45833333],\n",
       "       [0.54385965, 0.30985915, 0.88      , 0.45833333],\n",
       "       [0.74561404, 0.42857143, 0.48      , 0.45283019],\n",
       "       [0.71929825, 0.39393939, 0.52      , 0.44827586],\n",
       "       [0.73684211, 0.40740741, 0.44      , 0.42307692],\n",
       "       [0.40350877, 0.25842697, 0.92      , 0.40350877],\n",
       "       [0.73684211, 0.4       , 0.4       , 0.4       ]])"
      ]
     },
     "execution_count": 30,
     "metadata": {},
     "output_type": "execute_result"
    }
   ],
   "source": [
    "eval_val_nth[np.argsort(eval_val_nth[:, 3])[::-1]]"
   ]
  },
  {
   "cell_type": "code",
   "execution_count": null,
   "id": "1645d3db",
   "metadata": {},
   "outputs": [],
   "source": []
  },
  {
   "cell_type": "code",
   "execution_count": null,
   "id": "81ad1c06",
   "metadata": {},
   "outputs": [],
   "source": []
  },
  {
   "cell_type": "code",
   "execution_count": null,
   "id": "4f8d093b",
   "metadata": {},
   "outputs": [],
   "source": []
  },
  {
   "cell_type": "markdown",
   "id": "fee9345d",
   "metadata": {},
   "source": [
    "### Final Evaluation on the best model"
   ]
  },
  {
   "cell_type": "code",
   "execution_count": 31,
   "id": "453e2b81",
   "metadata": {},
   "outputs": [],
   "source": [
    "# model evaluation process \n",
    "# input: image infomation (dataframe), model\n",
    "# output: -\n",
    "\n",
    "def evaluate_final(df, model): \n",
    "    # training_size is ratio of training data for train-test split (float)\n",
    "    # param is set of parameter for model training (dict)\n",
    "    \n",
    "    X_test = df.drop('label', axis=1)\n",
    "    y_test = df['label']\n",
    "    \n",
    "    X_test = X_test.reset_index().drop('index', axis=1)\n",
    "    y_test = y_test.reset_index().drop('index', axis=1)\n",
    "    y_pred_prob = model.predict_proba(X_test)\n",
    "    y_pred = model.predict(X_test)\n",
    "    \n",
    "    for i in range(len(y_pred_prob)):\n",
    "        print('Actual: {} | Predicted: {} | Prob class 1: {}'.format(y_test.iloc[i]['label'], y_pred[i], y_pred_prob[i][1]))\n",
    "        \n",
    "    print('Confusion Matrix')\n",
    "    print(confusion_matrix(y_test, y_pred))\n",
    "    print('Accuracy: {:.4f}'.format(accuracy_score(y_test, y_pred)))\n",
    "    print('Precision: {:.4f}'.format(precision_score(y_test, y_pred)))\n",
    "    print('Recall: {:.4f}'.format(recall_score(y_test, y_pred)))\n",
    "    "
   ]
  },
  {
   "cell_type": "code",
   "execution_count": 32,
   "id": "4d7a2c11",
   "metadata": {},
   "outputs": [],
   "source": [
    "# pick the best model of the last generation\n",
    "best_model = models_nth[list(np.argsort(eval_val_nth[:, 3])[::-1])][0]"
   ]
  },
  {
   "cell_type": "code",
   "execution_count": 33,
   "id": "25f383c9",
   "metadata": {},
   "outputs": [
    {
     "name": "stdout",
     "output_type": "stream",
     "text": [
      "Actual: 0 | Predicted: 0 | Prob class 1: 0.3647786726797529\n",
      "Actual: 0 | Predicted: 0 | Prob class 1: 0.49550547165699155\n",
      "Actual: 0 | Predicted: 1 | Prob class 1: 0.6010647378982577\n",
      "Actual: 0 | Predicted: 0 | Prob class 1: 0.4673766983177701\n",
      "Actual: 0 | Predicted: 0 | Prob class 1: 0.38365528642396574\n",
      "Actual: 0 | Predicted: 0 | Prob class 1: 0.4525497933532968\n",
      "Actual: 0 | Predicted: 0 | Prob class 1: 0.32768273558174044\n",
      "Actual: 0 | Predicted: 1 | Prob class 1: 0.5520647564447259\n",
      "Actual: 0 | Predicted: 0 | Prob class 1: 0.29539904142777457\n",
      "Actual: 0 | Predicted: 0 | Prob class 1: 0.3124790915128204\n",
      "Actual: 0 | Predicted: 0 | Prob class 1: 0.3833966168607887\n",
      "Actual: 0 | Predicted: 0 | Prob class 1: 0.46350557515324486\n",
      "Actual: 0 | Predicted: 0 | Prob class 1: 0.3948864355151241\n",
      "Actual: 0 | Predicted: 1 | Prob class 1: 0.5319966221197678\n",
      "Actual: 0 | Predicted: 0 | Prob class 1: 0.3855922418771611\n",
      "Actual: 0 | Predicted: 1 | Prob class 1: 0.5450791128800404\n",
      "Actual: 0 | Predicted: 0 | Prob class 1: 0.3020564875689715\n",
      "Actual: 0 | Predicted: 0 | Prob class 1: 0.39516452066404656\n",
      "Actual: 0 | Predicted: 1 | Prob class 1: 0.5092781949414943\n",
      "Actual: 0 | Predicted: 0 | Prob class 1: 0.3028056878739297\n",
      "Actual: 0 | Predicted: 0 | Prob class 1: 0.4552686277120204\n",
      "Actual: 0 | Predicted: 0 | Prob class 1: 0.36983473402238265\n",
      "Actual: 0 | Predicted: 0 | Prob class 1: 0.4347511479324859\n",
      "Actual: 0 | Predicted: 1 | Prob class 1: 0.5326930885225267\n",
      "Actual: 0 | Predicted: 1 | Prob class 1: 0.6762414056088548\n",
      "Actual: 0 | Predicted: 0 | Prob class 1: 0.48786775339240657\n",
      "Actual: 0 | Predicted: 0 | Prob class 1: 0.27149590409316227\n",
      "Actual: 0 | Predicted: 0 | Prob class 1: 0.281473263408566\n",
      "Actual: 0 | Predicted: 0 | Prob class 1: 0.30721048373528653\n",
      "Actual: 0 | Predicted: 1 | Prob class 1: 0.6184007552301009\n",
      "Actual: 0 | Predicted: 0 | Prob class 1: 0.29482093079070076\n",
      "Actual: 0 | Predicted: 0 | Prob class 1: 0.3796451127973508\n",
      "Actual: 0 | Predicted: 0 | Prob class 1: 0.4698311670813298\n",
      "Actual: 0 | Predicted: 0 | Prob class 1: 0.4438790635583774\n",
      "Actual: 0 | Predicted: 0 | Prob class 1: 0.49944682068445817\n",
      "Actual: 0 | Predicted: 0 | Prob class 1: 0.4073904524935644\n",
      "Actual: 0 | Predicted: 0 | Prob class 1: 0.48305156495091567\n",
      "Actual: 0 | Predicted: 0 | Prob class 1: 0.3179848746334082\n",
      "Actual: 0 | Predicted: 0 | Prob class 1: 0.46010343176914764\n",
      "Actual: 0 | Predicted: 0 | Prob class 1: 0.3192390260457038\n",
      "Actual: 0 | Predicted: 0 | Prob class 1: 0.4240172404298216\n",
      "Actual: 0 | Predicted: 0 | Prob class 1: 0.3477087714824624\n",
      "Actual: 0 | Predicted: 0 | Prob class 1: 0.3259008383905391\n",
      "Actual: 0 | Predicted: 0 | Prob class 1: 0.358160427575826\n",
      "Actual: 0 | Predicted: 0 | Prob class 1: 0.46160706135490714\n",
      "Actual: 0 | Predicted: 1 | Prob class 1: 0.5027136731666436\n",
      "Actual: 0 | Predicted: 0 | Prob class 1: 0.35688092154406\n",
      "Actual: 0 | Predicted: 0 | Prob class 1: 0.35315481553336964\n",
      "Actual: 0 | Predicted: 1 | Prob class 1: 0.5977984298621646\n",
      "Actual: 0 | Predicted: 0 | Prob class 1: 0.44311524021546267\n",
      "Actual: 0 | Predicted: 0 | Prob class 1: 0.29933445615515025\n",
      "Actual: 0 | Predicted: 1 | Prob class 1: 0.6153948331789634\n",
      "Actual: 0 | Predicted: 0 | Prob class 1: 0.36533877010419824\n",
      "Actual: 0 | Predicted: 0 | Prob class 1: 0.43384996672401427\n",
      "Actual: 0 | Predicted: 0 | Prob class 1: 0.3180882112029119\n",
      "Actual: 0 | Predicted: 0 | Prob class 1: 0.4429795833085049\n",
      "Actual: 1 | Predicted: 1 | Prob class 1: 0.5674236648501504\n",
      "Actual: 1 | Predicted: 1 | Prob class 1: 0.6941377500600828\n",
      "Actual: 1 | Predicted: 1 | Prob class 1: 0.7608047618222833\n",
      "Actual: 1 | Predicted: 1 | Prob class 1: 0.7421701602602526\n",
      "Actual: 1 | Predicted: 1 | Prob class 1: 0.6738725220093886\n",
      "Actual: 1 | Predicted: 1 | Prob class 1: 0.6434997020523539\n",
      "Actual: 1 | Predicted: 1 | Prob class 1: 0.7709866674998338\n",
      "Actual: 1 | Predicted: 1 | Prob class 1: 0.6737214880358552\n",
      "Actual: 1 | Predicted: 0 | Prob class 1: 0.4603681641547252\n",
      "Actual: 1 | Predicted: 1 | Prob class 1: 0.7436483045724056\n",
      "Actual: 1 | Predicted: 1 | Prob class 1: 0.6230920041552077\n",
      "Actual: 1 | Predicted: 1 | Prob class 1: 0.5175514596558818\n",
      "Actual: 1 | Predicted: 0 | Prob class 1: 0.33658711415547077\n",
      "Actual: 1 | Predicted: 1 | Prob class 1: 0.6251856875207529\n",
      "Actual: 1 | Predicted: 1 | Prob class 1: 0.6668406048134911\n",
      "Actual: 1 | Predicted: 1 | Prob class 1: 0.6733351254406351\n",
      "Actual: 1 | Predicted: 1 | Prob class 1: 0.7203960578749583\n",
      "Actual: 1 | Predicted: 1 | Prob class 1: 0.7358356419384714\n",
      "Actual: 1 | Predicted: 1 | Prob class 1: 0.5909457654654073\n",
      "Actual: 1 | Predicted: 1 | Prob class 1: 0.6744329530970772\n",
      "Actual: 1 | Predicted: 1 | Prob class 1: 0.5358396609852488\n",
      "Actual: 1 | Predicted: 0 | Prob class 1: 0.366336772545855\n",
      "Actual: 1 | Predicted: 0 | Prob class 1: 0.35266569894701716\n",
      "Actual: 1 | Predicted: 1 | Prob class 1: 0.5492290979887896\n",
      "Actual: 1 | Predicted: 1 | Prob class 1: 0.6124966892082705\n",
      "Actual: 1 | Predicted: 1 | Prob class 1: 0.6168610528183253\n",
      "Actual: 1 | Predicted: 0 | Prob class 1: 0.3501012721241991\n",
      "Actual: 1 | Predicted: 0 | Prob class 1: 0.315373237236629\n",
      "Actual: 1 | Predicted: 1 | Prob class 1: 0.5579821205015325\n",
      "Actual: 1 | Predicted: 1 | Prob class 1: 0.5697071751705718\n",
      "Actual: 1 | Predicted: 1 | Prob class 1: 0.6158531918863867\n",
      "Actual: 1 | Predicted: 0 | Prob class 1: 0.3841946660009558\n",
      "Actual: 1 | Predicted: 1 | Prob class 1: 0.5911180019578197\n",
      "Actual: 1 | Predicted: 0 | Prob class 1: 0.42792527895183696\n",
      "Actual: 1 | Predicted: 0 | Prob class 1: 0.36980428632891843\n",
      "Actual: 1 | Predicted: 1 | Prob class 1: 0.5327550489054045\n",
      "Actual: 1 | Predicted: 1 | Prob class 1: 0.529827872135262\n",
      "Actual: 1 | Predicted: 0 | Prob class 1: 0.30231410331787095\n",
      "Actual: 1 | Predicted: 1 | Prob class 1: 0.6275499015048662\n",
      "Actual: 1 | Predicted: 1 | Prob class 1: 0.632635580562667\n",
      "Actual: 1 | Predicted: 1 | Prob class 1: 0.5295743857435464\n",
      "Actual: 1 | Predicted: 1 | Prob class 1: 0.5459898523223946\n",
      "Actual: 1 | Predicted: 1 | Prob class 1: 0.6680552552309784\n",
      "Actual: 0 | Predicted: 0 | Prob class 1: 0.3855787237760544\n",
      "Actual: 0 | Predicted: 0 | Prob class 1: 0.47757294577749404\n",
      "Actual: 0 | Predicted: 0 | Prob class 1: 0.41517887231384276\n",
      "Actual: 0 | Predicted: 0 | Prob class 1: 0.4424828711175721\n",
      "Actual: 0 | Predicted: 0 | Prob class 1: 0.46072147322678925\n",
      "Actual: 0 | Predicted: 0 | Prob class 1: 0.3519903611906763\n",
      "Actual: 0 | Predicted: 0 | Prob class 1: 0.3430361651679879\n",
      "Actual: 0 | Predicted: 0 | Prob class 1: 0.3699250857270565\n",
      "Actual: 0 | Predicted: 0 | Prob class 1: 0.38355378082703395\n",
      "Actual: 0 | Predicted: 0 | Prob class 1: 0.49729346216441317\n",
      "Actual: 0 | Predicted: 0 | Prob class 1: 0.42413404416864814\n",
      "Actual: 0 | Predicted: 0 | Prob class 1: 0.4925573180155574\n",
      "Actual: 0 | Predicted: 0 | Prob class 1: 0.31912261886841714\n",
      "Actual: 0 | Predicted: 0 | Prob class 1: 0.4472882127089367\n",
      "Actual: 0 | Predicted: 1 | Prob class 1: 0.583159899655141\n",
      "Actual: 0 | Predicted: 0 | Prob class 1: 0.4718716499326212\n",
      "Actual: 0 | Predicted: 0 | Prob class 1: 0.4499201101286923\n",
      "Actual: 0 | Predicted: 1 | Prob class 1: 0.6431883349143374\n",
      "Actual: 0 | Predicted: 1 | Prob class 1: 0.5339347003488704\n",
      "Actual: 0 | Predicted: 0 | Prob class 1: 0.4934085089707538\n",
      "Actual: 0 | Predicted: 1 | Prob class 1: 0.7236696082152423\n",
      "Actual: 0 | Predicted: 1 | Prob class 1: 0.5453405363401624\n",
      "Actual: 0 | Predicted: 0 | Prob class 1: 0.2747879426944929\n",
      "Actual: 0 | Predicted: 0 | Prob class 1: 0.3685357114796053\n",
      "Actual: 0 | Predicted: 0 | Prob class 1: 0.29780656960168334\n",
      "Actual: 0 | Predicted: 0 | Prob class 1: 0.3756651350626949\n",
      "Actual: 0 | Predicted: 1 | Prob class 1: 0.5701843820099066\n",
      "Actual: 0 | Predicted: 0 | Prob class 1: 0.41415131909183217\n",
      "Actual: 0 | Predicted: 0 | Prob class 1: 0.3208891354123517\n",
      "Actual: 0 | Predicted: 0 | Prob class 1: 0.3170633070213052\n",
      "Actual: 0 | Predicted: 0 | Prob class 1: 0.36575922021738383\n",
      "Actual: 0 | Predicted: 0 | Prob class 1: 0.4415254883691129\n",
      "Actual: 0 | Predicted: 0 | Prob class 1: 0.43376581559178434\n",
      "Actual: 0 | Predicted: 0 | Prob class 1: 0.36703871609063365\n",
      "Actual: 0 | Predicted: 0 | Prob class 1: 0.3394208613158179\n",
      "Actual: 0 | Predicted: 0 | Prob class 1: 0.31132482462810146\n",
      "Actual: 0 | Predicted: 0 | Prob class 1: 0.3663549830237297\n",
      "Actual: 0 | Predicted: 0 | Prob class 1: 0.3739065308925501\n",
      "Actual: 0 | Predicted: 0 | Prob class 1: 0.38617588912358536\n",
      "Actual: 0 | Predicted: 0 | Prob class 1: 0.4884035547647765\n",
      "Actual: 0 | Predicted: 0 | Prob class 1: 0.37205944404802627\n",
      "Actual: 0 | Predicted: 1 | Prob class 1: 0.5448624406070445\n",
      "Actual: 0 | Predicted: 0 | Prob class 1: 0.40984718232524003\n",
      "Actual: 0 | Predicted: 0 | Prob class 1: 0.4280512629641795\n",
      "Actual: 0 | Predicted: 0 | Prob class 1: 0.30809419601090665\n",
      "Actual: 0 | Predicted: 0 | Prob class 1: 0.31607584856554927\n",
      "Actual: 0 | Predicted: 0 | Prob class 1: 0.46439661788567027\n",
      "Actual: 0 | Predicted: 0 | Prob class 1: 0.4724957912321574\n",
      "Actual: 0 | Predicted: 0 | Prob class 1: 0.4306068475955848\n",
      "Actual: 0 | Predicted: 0 | Prob class 1: 0.33773512157524954\n",
      "Actual: 0 | Predicted: 0 | Prob class 1: 0.345927639815445\n",
      "Actual: 0 | Predicted: 0 | Prob class 1: 0.39494600724031836\n",
      "Actual: 0 | Predicted: 0 | Prob class 1: 0.3376058732954771\n",
      "Confusion Matrix\n",
      "[[91 18]\n",
      " [10 33]]\n",
      "Accuracy: 0.8158\n",
      "Precision: 0.6471\n",
      "Recall: 0.7674\n"
     ]
    }
   ],
   "source": [
    "evaluate_final(df_test, best_model)"
   ]
  },
  {
   "cell_type": "markdown",
   "id": "057e67a6",
   "metadata": {},
   "source": [
    "### Save model and parameter setting of model"
   ]
  },
  {
   "cell_type": "code",
   "execution_count": 34,
   "id": "5b170e3d",
   "metadata": {},
   "outputs": [],
   "source": [
    "# model\n",
    "filename = 'checkpoints/best_model.sav'\n",
    "pickle.dump(best_model, open(filename, 'wb'))"
   ]
  },
  {
   "cell_type": "code",
   "execution_count": 35,
   "id": "9595ad35",
   "metadata": {},
   "outputs": [],
   "source": [
    "# parameter setting\n",
    "f = open('checkpoints/best_model.txt', 'w')\n",
    "f.writelines('{}\\n'.format(params_nth[(np.argsort(eval_val_nth[:, 3])[::-1])][0]))\n",
    "f.close()"
   ]
  },
  {
   "cell_type": "code",
   "execution_count": null,
   "id": "b30261a5",
   "metadata": {},
   "outputs": [],
   "source": []
  }
 ],
 "metadata": {
  "kernelspec": {
   "display_name": "Python 3",
   "language": "python",
   "name": "python3"
  },
  "language_info": {
   "codemirror_mode": {
    "name": "ipython",
    "version": 3
   },
   "file_extension": ".py",
   "mimetype": "text/x-python",
   "name": "python",
   "nbconvert_exporter": "python",
   "pygments_lexer": "ipython3",
   "version": "3.8.8"
  }
 },
 "nbformat": 4,
 "nbformat_minor": 5
}
