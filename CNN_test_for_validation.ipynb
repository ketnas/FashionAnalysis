{
  "cells": [
    {
      "cell_type": "markdown",
      "metadata": {
        "id": "llXMxW0WA36R"
      },
      "source": [
        "# Import libraries"
      ],
      "id": "llXMxW0WA36R"
    },
    {
      "cell_type": "code",
      "execution_count": 1,
      "metadata": {
        "id": "89d762e3"
      },
      "outputs": [],
      "source": [
        "import matplotlib.pyplot as plt\n",
        "import numpy as np\n",
        "import os\n",
        "import PIL\n",
        "import pathlib\n",
        "import cv2\n",
        "import tensorflow as tf\n",
        "import random \n",
        "\n",
        "from imblearn.over_sampling import SMOTE\n",
        "from sklearn.metrics import confusion_matrix\n",
        "from sklearn.metrics import *\n",
        "\n",
        "from tensorflow import keras\n",
        "from tensorflow.keras import layers\n",
        "from tensorflow.keras.models import Sequential"
      ],
      "id": "89d762e3"
    },
    {
      "cell_type": "markdown",
      "metadata": {
        "id": "5bdde8fa"
      },
      "source": [
        "# Explore the images from image preparation"
      ],
      "id": "5bdde8fa"
    },
    {
      "cell_type": "code",
      "execution_count": 2,
      "metadata": {
        "colab": {
          "base_uri": "https://localhost:8080/"
        },
        "id": "Ye2XYjYFKyCI",
        "outputId": "c4f2e482-fd0d-49f5-c2b5-2aa7d71875c0"
      },
      "outputs": [
        {
          "output_type": "stream",
          "name": "stdout",
          "text": [
            "Drive already mounted at /content/gdrive; to attempt to forcibly remount, call drive.mount(\"/content/gdrive\", force_remount=True).\n"
          ]
        }
      ],
      "source": [
        "from google.colab import drive\n",
        "drive.mount('/content/gdrive')"
      ],
      "id": "Ye2XYjYFKyCI"
    },
    {
      "cell_type": "code",
      "execution_count": 3,
      "metadata": {
        "colab": {
          "base_uri": "https://localhost:8080/"
        },
        "id": "SuIA5iRLK4E5",
        "outputId": "28b2c594-effd-4af4-c2c5-d5d3e1e00951"
      },
      "outputs": [
        {
          "output_type": "stream",
          "name": "stdout",
          "text": [
            "gdrive/MyDrive/NewThesis_Poonyawat_Woottisart/val_dataset_filtered\n"
          ]
        }
      ],
      "source": [
        "# img_loc = 'C:/Users/Asus/Documents/Thesis/Me/Dataset'\n",
        "# Root directory of the project\n",
        "ROOT_DIR = os.path.abspath(\"../\")\n",
        "img_loc = \"gdrive/MyDrive/NewThesis_Poonyawat_Woottisart/val_dataset_filtered\"\n",
        "print(img_loc)"
      ],
      "id": "SuIA5iRLK4E5"
    },
    {
      "cell_type": "code",
      "execution_count": 4,
      "metadata": {
        "id": "c1fcb72e"
      },
      "outputs": [],
      "source": [
        "data_dir = pathlib.Path(img_loc)"
      ],
      "id": "c1fcb72e"
    },
    {
      "cell_type": "code",
      "execution_count": 5,
      "metadata": {
        "colab": {
          "base_uri": "https://localhost:8080/"
        },
        "id": "nC-aW96TM5_x",
        "outputId": "5e7141ea-2689-45ea-88cb-8adedc7ee8e1"
      },
      "outputs": [
        {
          "output_type": "execute_result",
          "data": {
            "text/plain": [
              "PosixPath('gdrive/MyDrive/NewThesis_Poonyawat_Woottisart/val_dataset_filtered')"
            ]
          },
          "metadata": {},
          "execution_count": 5
        }
      ],
      "source": [
        "data_dir"
      ],
      "id": "nC-aW96TM5_x"
    },
    {
      "cell_type": "code",
      "execution_count": 6,
      "metadata": {
        "id": "183bdaec"
      },
      "outputs": [],
      "source": [
        "# img_eu_loc = img_loc + '/european-street-fashion-output'\n",
        "# img_jp_loc = img_loc + '/harajuku-kawaii-street-fashion-output'\n",
        "# img_th_loc = img_loc + '/thai-street-fashion-output'\n",
        "\n",
        "img_jp_loc = img_loc + '/ha-output/test'\n",
        "img_th_loc = img_loc + '/th-output/test'"
      ],
      "id": "183bdaec"
    },
    {
      "cell_type": "code",
      "execution_count": 7,
      "metadata": {
        "colab": {
          "base_uri": "https://localhost:8080/",
          "height": 35
        },
        "id": "247821e6",
        "outputId": "96bdc1e3-89eb-4d13-8470-c556eb45e072"
      },
      "outputs": [
        {
          "output_type": "execute_result",
          "data": {
            "text/plain": [
              "'gdrive/MyDrive/NewThesis_Poonyawat_Woottisart/val_dataset_filtered/ha-output/test'"
            ],
            "application/vnd.google.colaboratory.intrinsic+json": {
              "type": "string"
            }
          },
          "metadata": {},
          "execution_count": 7
        }
      ],
      "source": [
        "img_jp_loc"
      ],
      "id": "247821e6"
    },
    {
      "cell_type": "code",
      "execution_count": 8,
      "metadata": {
        "id": "9bb81c80"
      },
      "outputs": [],
      "source": [
        "dim_i_list = []\n",
        "dim_j_list = []\n",
        "img_list = []\n",
        "label_list = []\n",
        "idx = 0"
      ],
      "id": "9bb81c80"
    },
    {
      "cell_type": "markdown",
      "metadata": {
        "id": "0254cb96"
      },
      "source": [
        "#### THAI"
      ],
      "id": "0254cb96"
    },
    {
      "cell_type": "code",
      "execution_count": 9,
      "metadata": {
        "colab": {
          "base_uri": "https://localhost:8080/"
        },
        "id": "ffb1f37b",
        "outputId": "8110c801-3cc2-4f5a-b8a1-3cbbeebbe2d0"
      },
      "outputs": [
        {
          "output_type": "stream",
          "name": "stdout",
          "text": [
            "gdrive/MyDrive/NewThesis_Poonyawat_Woottisart/val_dataset_filtered/th-output/test/test00000.png: (1076, 978, 3) - 0\n",
            "gdrive/MyDrive/NewThesis_Poonyawat_Woottisart/val_dataset_filtered/th-output/test/test00002.png: (1033, 633, 3) - 1\n",
            "gdrive/MyDrive/NewThesis_Poonyawat_Woottisart/val_dataset_filtered/th-output/test/test00001.png: (701, 240, 3) - 2\n",
            "gdrive/MyDrive/NewThesis_Poonyawat_Woottisart/val_dataset_filtered/th-output/test/test00007.png: (951, 375, 3) - 3\n",
            "gdrive/MyDrive/NewThesis_Poonyawat_Woottisart/val_dataset_filtered/th-output/test/test00008.png: (637, 272, 3) - 4\n",
            "gdrive/MyDrive/NewThesis_Poonyawat_Woottisart/val_dataset_filtered/th-output/test/test00004.png: (563, 562, 3) - 5\n",
            "gdrive/MyDrive/NewThesis_Poonyawat_Woottisart/val_dataset_filtered/th-output/test/test00005.png: (563, 562, 3) - 6\n",
            "gdrive/MyDrive/NewThesis_Poonyawat_Woottisart/val_dataset_filtered/th-output/test/test00009.png: (903, 342, 3) - 7\n",
            "gdrive/MyDrive/NewThesis_Poonyawat_Woottisart/val_dataset_filtered/th-output/test/test00010.png: (707, 335, 3) - 8\n",
            "gdrive/MyDrive/NewThesis_Poonyawat_Woottisart/val_dataset_filtered/th-output/test/test00011.png: (928, 300, 3) - 9\n",
            "gdrive/MyDrive/NewThesis_Poonyawat_Woottisart/val_dataset_filtered/th-output/test/test00012.png: (1036, 771, 3) - 10\n",
            "gdrive/MyDrive/NewThesis_Poonyawat_Woottisart/val_dataset_filtered/th-output/test/test00014.png: (967, 297, 3) - 11\n",
            "gdrive/MyDrive/NewThesis_Poonyawat_Woottisart/val_dataset_filtered/th-output/test/test00015.png: (1212, 394, 3) - 12\n",
            "gdrive/MyDrive/NewThesis_Poonyawat_Woottisart/val_dataset_filtered/th-output/test/test00016.png: (575, 190, 3) - 13\n",
            "gdrive/MyDrive/NewThesis_Poonyawat_Woottisart/val_dataset_filtered/th-output/test/test00013.png: (967, 297, 3) - 14\n",
            "gdrive/MyDrive/NewThesis_Poonyawat_Woottisart/val_dataset_filtered/th-output/test/test00018.png: (850, 302, 3) - 15\n",
            "gdrive/MyDrive/NewThesis_Poonyawat_Woottisart/val_dataset_filtered/th-output/test/test00019.png: (850, 302, 3) - 16\n",
            "gdrive/MyDrive/NewThesis_Poonyawat_Woottisart/val_dataset_filtered/th-output/test/test00017.png: (805, 269, 3) - 17\n",
            "gdrive/MyDrive/NewThesis_Poonyawat_Woottisart/val_dataset_filtered/th-output/test/test00021.png: (1294, 805, 3) - 18\n",
            "gdrive/MyDrive/NewThesis_Poonyawat_Woottisart/val_dataset_filtered/th-output/test/test00045.png: (968, 454, 3) - 19\n",
            "gdrive/MyDrive/NewThesis_Poonyawat_Woottisart/val_dataset_filtered/th-output/test/test00049.png: (691, 283, 3) - 20\n",
            "gdrive/MyDrive/NewThesis_Poonyawat_Woottisart/val_dataset_filtered/th-output/test/test00051.png: (1250, 643, 3) - 21\n",
            "gdrive/MyDrive/NewThesis_Poonyawat_Woottisart/val_dataset_filtered/th-output/test/test00058.png: (1051, 355, 3) - 22\n",
            "gdrive/MyDrive/NewThesis_Poonyawat_Woottisart/val_dataset_filtered/th-output/test/test00057.png: (969, 498, 3) - 23\n",
            "gdrive/MyDrive/NewThesis_Poonyawat_Woottisart/val_dataset_filtered/th-output/test/test00061.png: (1027, 380, 3) - 24\n",
            "gdrive/MyDrive/NewThesis_Poonyawat_Woottisart/val_dataset_filtered/th-output/test/test00059.png: (680, 452, 3) - 25\n",
            "gdrive/MyDrive/NewThesis_Poonyawat_Woottisart/val_dataset_filtered/th-output/test/test00065.png: (846, 690, 3) - 26\n",
            "gdrive/MyDrive/NewThesis_Poonyawat_Woottisart/val_dataset_filtered/th-output/test/test00064.png: (1022, 623, 3) - 27\n",
            "gdrive/MyDrive/NewThesis_Poonyawat_Woottisart/val_dataset_filtered/th-output/test/test00070.png: (960, 358, 3) - 28\n",
            "gdrive/MyDrive/NewThesis_Poonyawat_Woottisart/val_dataset_filtered/th-output/test/test00071.png: (611, 307, 3) - 29\n",
            "gdrive/MyDrive/NewThesis_Poonyawat_Woottisart/val_dataset_filtered/th-output/test/test00075.png: (730, 717, 3) - 30\n",
            "gdrive/MyDrive/NewThesis_Poonyawat_Woottisart/val_dataset_filtered/th-output/test/test00081.png: (668, 342, 3) - 31\n",
            "gdrive/MyDrive/NewThesis_Poonyawat_Woottisart/val_dataset_filtered/th-output/test/test00080.png: (769, 846, 3) - 32\n",
            "gdrive/MyDrive/NewThesis_Poonyawat_Woottisart/val_dataset_filtered/th-output/test/test00082.png: (994, 624, 3) - 33\n",
            "gdrive/MyDrive/NewThesis_Poonyawat_Woottisart/val_dataset_filtered/th-output/test/test00083.png: (666, 242, 3) - 34\n",
            "gdrive/MyDrive/NewThesis_Poonyawat_Woottisart/val_dataset_filtered/th-output/test/test00086.png: (1042, 594, 3) - 35\n",
            "gdrive/MyDrive/NewThesis_Poonyawat_Woottisart/val_dataset_filtered/th-output/test/test00088.png: (1199, 464, 3) - 36\n",
            "gdrive/MyDrive/NewThesis_Poonyawat_Woottisart/val_dataset_filtered/th-output/test/test00090.png: (1301, 667, 3) - 37\n",
            "gdrive/MyDrive/NewThesis_Poonyawat_Woottisart/val_dataset_filtered/th-output/test/test00093.png: (1054, 264, 3) - 38\n",
            "gdrive/MyDrive/NewThesis_Poonyawat_Woottisart/val_dataset_filtered/th-output/test/test00096.png: (1116, 434, 3) - 39\n",
            "gdrive/MyDrive/NewThesis_Poonyawat_Woottisart/val_dataset_filtered/th-output/test/test00095.png: (345, 132, 3) - 40\n",
            "gdrive/MyDrive/NewThesis_Poonyawat_Woottisart/val_dataset_filtered/th-output/test/test00097.png: (1173, 538, 3) - 41\n",
            "gdrive/MyDrive/NewThesis_Poonyawat_Woottisart/val_dataset_filtered/th-output/test/test00094.png: (345, 132, 3) - 42\n",
            "gdrive/MyDrive/NewThesis_Poonyawat_Woottisart/val_dataset_filtered/th-output/test/test00098.png: (948, 409, 3) - 43\n",
            "gdrive/MyDrive/NewThesis_Poonyawat_Woottisart/val_dataset_filtered/th-output/test/test00099.png: (894, 391, 3) - 44\n",
            "gdrive/MyDrive/NewThesis_Poonyawat_Woottisart/val_dataset_filtered/th-output/test/test00101.png: (1215, 458, 3) - 45\n",
            "gdrive/MyDrive/NewThesis_Poonyawat_Woottisart/val_dataset_filtered/th-output/test/test00100.png: (956, 390, 3) - 46\n",
            "gdrive/MyDrive/NewThesis_Poonyawat_Woottisart/val_dataset_filtered/th-output/test/test00104.png: (876, 571, 3) - 47\n",
            "gdrive/MyDrive/NewThesis_Poonyawat_Woottisart/val_dataset_filtered/th-output/test/test00103.png: (478, 362, 3) - 48\n",
            "gdrive/MyDrive/NewThesis_Poonyawat_Woottisart/val_dataset_filtered/th-output/test/test00102.png: (944, 458, 3) - 49\n",
            "gdrive/MyDrive/NewThesis_Poonyawat_Woottisart/val_dataset_filtered/th-output/test/test00106.png: (478, 321, 3) - 50\n",
            "gdrive/MyDrive/NewThesis_Poonyawat_Woottisart/val_dataset_filtered/th-output/test/test00108.png: (1026, 691, 3) - 51\n",
            "gdrive/MyDrive/NewThesis_Poonyawat_Woottisart/val_dataset_filtered/th-output/test/test00110.png: (1198, 649, 3) - 52\n",
            "gdrive/MyDrive/NewThesis_Poonyawat_Woottisart/val_dataset_filtered/th-output/test/test00109.png: (1005, 296, 3) - 53\n",
            "gdrive/MyDrive/NewThesis_Poonyawat_Woottisart/val_dataset_filtered/th-output/test/test00113.png: (962, 276, 3) - 54\n",
            "gdrive/MyDrive/NewThesis_Poonyawat_Woottisart/val_dataset_filtered/th-output/test/test00112.png: (908, 471, 3) - 55\n",
            "gdrive/MyDrive/NewThesis_Poonyawat_Woottisart/val_dataset_filtered/th-output/test/test00111.png: (908, 813, 3) - 56\n",
            "gdrive/MyDrive/NewThesis_Poonyawat_Woottisart/val_dataset_filtered/th-output/test/test00115.png: (1209, 532, 3) - 57\n",
            "gdrive/MyDrive/NewThesis_Poonyawat_Woottisart/val_dataset_filtered/th-output/test/test00114.png: (1041, 554, 3) - 58\n",
            "gdrive/MyDrive/NewThesis_Poonyawat_Woottisart/val_dataset_filtered/th-output/test/test00116.png: (1135, 499, 3) - 59\n",
            "gdrive/MyDrive/NewThesis_Poonyawat_Woottisart/val_dataset_filtered/th-output/test/test00117.png: (1008, 341, 3) - 60\n",
            "gdrive/MyDrive/NewThesis_Poonyawat_Woottisart/val_dataset_filtered/th-output/test/test00120.png: (576, 603, 3) - 61\n",
            "gdrive/MyDrive/NewThesis_Poonyawat_Woottisart/val_dataset_filtered/th-output/test/test00119.png: (969, 425, 3) - 62\n",
            "gdrive/MyDrive/NewThesis_Poonyawat_Woottisart/val_dataset_filtered/th-output/test/test00118.png: (969, 425, 3) - 63\n",
            "gdrive/MyDrive/NewThesis_Poonyawat_Woottisart/val_dataset_filtered/th-output/test/test00121.png: (1020, 512, 3) - 64\n",
            "gdrive/MyDrive/NewThesis_Poonyawat_Woottisart/val_dataset_filtered/th-output/test/test00124.png: (1063, 894, 3) - 65\n",
            "gdrive/MyDrive/NewThesis_Poonyawat_Woottisart/val_dataset_filtered/th-output/test/test00123.png: (1010, 397, 3) - 66\n",
            "gdrive/MyDrive/NewThesis_Poonyawat_Woottisart/val_dataset_filtered/th-output/test/test00125.png: (1131, 606, 3) - 67\n",
            "gdrive/MyDrive/NewThesis_Poonyawat_Woottisart/val_dataset_filtered/th-output/test/test00128.png: (967, 259, 3) - 68\n",
            "gdrive/MyDrive/NewThesis_Poonyawat_Woottisart/val_dataset_filtered/th-output/test/test00129.png: (967, 259, 3) - 69\n",
            "gdrive/MyDrive/NewThesis_Poonyawat_Woottisart/val_dataset_filtered/th-output/test/test00126.png: (935, 470, 3) - 70\n",
            "gdrive/MyDrive/NewThesis_Poonyawat_Woottisart/val_dataset_filtered/th-output/test/test00127.png: (967, 259, 3) - 71\n",
            "gdrive/MyDrive/NewThesis_Poonyawat_Woottisart/val_dataset_filtered/th-output/test/test00132.png: (1325, 742, 3) - 72\n",
            "gdrive/MyDrive/NewThesis_Poonyawat_Woottisart/val_dataset_filtered/th-output/test/test00131.png: (1096, 464, 3) - 73\n",
            "gdrive/MyDrive/NewThesis_Poonyawat_Woottisart/val_dataset_filtered/th-output/test/test00136.png: (1275, 844, 3) - 74\n",
            "gdrive/MyDrive/NewThesis_Poonyawat_Woottisart/val_dataset_filtered/th-output/test/test00135.png: (1040, 776, 3) - 75\n",
            "gdrive/MyDrive/NewThesis_Poonyawat_Woottisart/val_dataset_filtered/th-output/test/test00134.png: (967, 303, 3) - 76\n",
            "gdrive/MyDrive/NewThesis_Poonyawat_Woottisart/val_dataset_filtered/th-output/test/test00133.png: (967, 303, 3) - 77\n",
            "gdrive/MyDrive/NewThesis_Poonyawat_Woottisart/val_dataset_filtered/th-output/test/test00137.png: (1034, 542, 3) - 78\n",
            "gdrive/MyDrive/NewThesis_Poonyawat_Woottisart/val_dataset_filtered/th-output/test/test00142.png: (1000, 851, 3) - 79\n",
            "gdrive/MyDrive/NewThesis_Poonyawat_Woottisart/val_dataset_filtered/th-output/test/test00143.png: (1086, 368, 3) - 80\n",
            "gdrive/MyDrive/NewThesis_Poonyawat_Woottisart/val_dataset_filtered/th-output/test/test00145.png: (1110, 672, 3) - 81\n",
            "gdrive/MyDrive/NewThesis_Poonyawat_Woottisart/val_dataset_filtered/th-output/test/test00147.png: (1073, 875, 3) - 82\n",
            "gdrive/MyDrive/NewThesis_Poonyawat_Woottisart/val_dataset_filtered/th-output/test/test00148.png: (1067, 351, 3) - 83\n",
            "gdrive/MyDrive/NewThesis_Poonyawat_Woottisart/val_dataset_filtered/th-output/test/test00149.png: (1114, 820, 3) - 84\n",
            "gdrive/MyDrive/NewThesis_Poonyawat_Woottisart/val_dataset_filtered/th-output/test/test00150.png: (901, 330, 3) - 85\n",
            "gdrive/MyDrive/NewThesis_Poonyawat_Woottisart/val_dataset_filtered/th-output/test/test00151.png: (1076, 500, 3) - 86\n",
            "gdrive/MyDrive/NewThesis_Poonyawat_Woottisart/val_dataset_filtered/th-output/test/test00155.png: (606, 382, 3) - 87\n",
            "gdrive/MyDrive/NewThesis_Poonyawat_Woottisart/val_dataset_filtered/th-output/test/test00154.png: (1197, 396, 3) - 88\n",
            "gdrive/MyDrive/NewThesis_Poonyawat_Woottisart/val_dataset_filtered/th-output/test/test00153.png: (927, 253, 3) - 89\n",
            "gdrive/MyDrive/NewThesis_Poonyawat_Woottisart/val_dataset_filtered/th-output/test/test00159.png: (867, 225, 3) - 90\n",
            "gdrive/MyDrive/NewThesis_Poonyawat_Woottisart/val_dataset_filtered/th-output/test/test00157.png: (1038, 283, 3) - 91\n",
            "gdrive/MyDrive/NewThesis_Poonyawat_Woottisart/val_dataset_filtered/th-output/test/test00158.png: (1038, 283, 3) - 92\n",
            "gdrive/MyDrive/NewThesis_Poonyawat_Woottisart/val_dataset_filtered/th-output/test/test00156.png: (1077, 615, 3) - 93\n",
            "gdrive/MyDrive/NewThesis_Poonyawat_Woottisart/val_dataset_filtered/th-output/test/test00162.png: (997, 497, 3) - 94\n",
            "gdrive/MyDrive/NewThesis_Poonyawat_Woottisart/val_dataset_filtered/th-output/test/test00160.png: (857, 449, 3) - 95\n",
            "gdrive/MyDrive/NewThesis_Poonyawat_Woottisart/val_dataset_filtered/th-output/test/test00161.png: (857, 449, 3) - 96\n",
            "gdrive/MyDrive/NewThesis_Poonyawat_Woottisart/val_dataset_filtered/th-output/test/test00166.png: (532, 208, 3) - 97\n",
            "gdrive/MyDrive/NewThesis_Poonyawat_Woottisart/val_dataset_filtered/th-output/test/test00163.png: (926, 256, 3) - 98\n",
            "gdrive/MyDrive/NewThesis_Poonyawat_Woottisart/val_dataset_filtered/th-output/test/test00168.png: (704, 325, 3) - 99\n",
            "gdrive/MyDrive/NewThesis_Poonyawat_Woottisart/val_dataset_filtered/th-output/test/test00167.png: (704, 325, 3) - 100\n",
            "gdrive/MyDrive/NewThesis_Poonyawat_Woottisart/val_dataset_filtered/th-output/test/test00164.png: (926, 256, 3) - 101\n",
            "gdrive/MyDrive/NewThesis_Poonyawat_Woottisart/val_dataset_filtered/th-output/test/test00170.png: (1057, 287, 3) - 102\n",
            "gdrive/MyDrive/NewThesis_Poonyawat_Woottisart/val_dataset_filtered/th-output/test/test00169.png: (1222, 484, 3) - 103\n",
            "gdrive/MyDrive/NewThesis_Poonyawat_Woottisart/val_dataset_filtered/th-output/test/test00172.png: (751, 220, 3) - 104\n",
            "gdrive/MyDrive/NewThesis_Poonyawat_Woottisart/val_dataset_filtered/th-output/test/test00171.png: (1057, 287, 3) - 105\n",
            "gdrive/MyDrive/NewThesis_Poonyawat_Woottisart/val_dataset_filtered/th-output/test/test00174.png: (1000, 605, 3) - 106\n",
            "gdrive/MyDrive/NewThesis_Poonyawat_Woottisart/val_dataset_filtered/th-output/test/test00173.png: (1249, 560, 3) - 107\n",
            "gdrive/MyDrive/NewThesis_Poonyawat_Woottisart/val_dataset_filtered/th-output/test/test00175.png: (942, 327, 3) - 108\n",
            "gdrive/MyDrive/NewThesis_Poonyawat_Woottisart/val_dataset_filtered/th-output/test/test00176.png: (1144, 394, 3) - 109\n",
            "gdrive/MyDrive/NewThesis_Poonyawat_Woottisart/val_dataset_filtered/th-output/test/test00177.png: (1084, 719, 3) - 110\n",
            "gdrive/MyDrive/NewThesis_Poonyawat_Woottisart/val_dataset_filtered/th-output/test/test00178.png: (1187, 778, 3) - 111\n",
            "gdrive/MyDrive/NewThesis_Poonyawat_Woottisart/val_dataset_filtered/th-output/test/test00181.png: (942, 389, 3) - 112\n",
            "gdrive/MyDrive/NewThesis_Poonyawat_Woottisart/val_dataset_filtered/th-output/test/test00180.png: (1179, 323, 3) - 113\n",
            "gdrive/MyDrive/NewThesis_Poonyawat_Woottisart/val_dataset_filtered/th-output/test/test00179.png: (1179, 323, 3) - 114\n",
            "gdrive/MyDrive/NewThesis_Poonyawat_Woottisart/val_dataset_filtered/th-output/test/test00182.png: (1104, 504, 3) - 115\n",
            "gdrive/MyDrive/NewThesis_Poonyawat_Woottisart/val_dataset_filtered/th-output/test/test00185.png: (1247, 498, 3) - 116\n",
            "gdrive/MyDrive/NewThesis_Poonyawat_Woottisart/val_dataset_filtered/th-output/test/test00183.png: (1104, 504, 3) - 117\n",
            "gdrive/MyDrive/NewThesis_Poonyawat_Woottisart/val_dataset_filtered/th-output/test/test00187.png: (999, 540, 3) - 118\n",
            "gdrive/MyDrive/NewThesis_Poonyawat_Woottisart/val_dataset_filtered/th-output/test/test00186.png: (558, 175, 3) - 119\n",
            "gdrive/MyDrive/NewThesis_Poonyawat_Woottisart/val_dataset_filtered/th-output/test/test00188.png: (1150, 321, 3) - 120\n",
            "gdrive/MyDrive/NewThesis_Poonyawat_Woottisart/val_dataset_filtered/th-output/test/test00189.png: (643, 898, 3) - 121\n",
            "gdrive/MyDrive/NewThesis_Poonyawat_Woottisart/val_dataset_filtered/th-output/test/test00190.png: (454, 168, 3) - 122\n",
            "gdrive/MyDrive/NewThesis_Poonyawat_Woottisart/val_dataset_filtered/th-output/test/test00192.png: (647, 598, 3) - 123\n",
            "gdrive/MyDrive/NewThesis_Poonyawat_Woottisart/val_dataset_filtered/th-output/test/test00191.png: (994, 804, 3) - 124\n",
            "gdrive/MyDrive/NewThesis_Poonyawat_Woottisart/val_dataset_filtered/th-output/test/test00195.png: (1010, 283, 3) - 125\n",
            "gdrive/MyDrive/NewThesis_Poonyawat_Woottisart/val_dataset_filtered/th-output/test/test00194.png: (1010, 283, 3) - 126\n",
            "gdrive/MyDrive/NewThesis_Poonyawat_Woottisart/val_dataset_filtered/th-output/test/test00193.png: (1040, 572, 3) - 127\n",
            "gdrive/MyDrive/NewThesis_Poonyawat_Woottisart/val_dataset_filtered/th-output/test/test00197.png: (1034, 578, 3) - 128\n",
            "gdrive/MyDrive/NewThesis_Poonyawat_Woottisart/val_dataset_filtered/th-output/test/test00198.png: (1166, 401, 3) - 129\n",
            "gdrive/MyDrive/NewThesis_Poonyawat_Woottisart/val_dataset_filtered/th-output/test/test00196.png: (1320, 466, 3) - 130\n",
            "gdrive/MyDrive/NewThesis_Poonyawat_Woottisart/val_dataset_filtered/th-output/test/test00200.png: (1096, 358, 3) - 131\n",
            "gdrive/MyDrive/NewThesis_Poonyawat_Woottisart/val_dataset_filtered/th-output/test/test00201.png: (1276, 618, 3) - 132\n",
            "gdrive/MyDrive/NewThesis_Poonyawat_Woottisart/val_dataset_filtered/th-output/test/test00202.png: (1176, 329, 3) - 133\n",
            "gdrive/MyDrive/NewThesis_Poonyawat_Woottisart/val_dataset_filtered/th-output/test/test00204.png: (643, 639, 3) - 134\n",
            "gdrive/MyDrive/NewThesis_Poonyawat_Woottisart/val_dataset_filtered/th-output/test/test00206.png: (943, 756, 3) - 135\n",
            "gdrive/MyDrive/NewThesis_Poonyawat_Woottisart/val_dataset_filtered/th-output/test/test00208.png: (947, 699, 3) - 136\n",
            "gdrive/MyDrive/NewThesis_Poonyawat_Woottisart/val_dataset_filtered/th-output/test/test00207.png: (1067, 1005, 3) - 137\n",
            "gdrive/MyDrive/NewThesis_Poonyawat_Woottisart/val_dataset_filtered/th-output/test/test00209.png: (720, 279, 3) - 138\n",
            "gdrive/MyDrive/NewThesis_Poonyawat_Woottisart/val_dataset_filtered/th-output/test/test00210.png: (412, 137, 3) - 139\n",
            "gdrive/MyDrive/NewThesis_Poonyawat_Woottisart/val_dataset_filtered/th-output/test/test00212.png: (769, 387, 3) - 140\n",
            "gdrive/MyDrive/NewThesis_Poonyawat_Woottisart/val_dataset_filtered/th-output/test/test00211.png: (722, 417, 3) - 141\n",
            "gdrive/MyDrive/NewThesis_Poonyawat_Woottisart/val_dataset_filtered/th-output/test/test00213.png: (656, 269, 3) - 142\n",
            "gdrive/MyDrive/NewThesis_Poonyawat_Woottisart/val_dataset_filtered/th-output/test/test00214.png: (793, 436, 3) - 143\n",
            "gdrive/MyDrive/NewThesis_Poonyawat_Woottisart/val_dataset_filtered/th-output/test/test00216.png: (750, 617, 3) - 144\n",
            "gdrive/MyDrive/NewThesis_Poonyawat_Woottisart/val_dataset_filtered/th-output/test/test00215.png: (488, 300, 3) - 145\n",
            "gdrive/MyDrive/NewThesis_Poonyawat_Woottisart/val_dataset_filtered/th-output/test/test00218.png: (649, 363, 3) - 146\n",
            "gdrive/MyDrive/NewThesis_Poonyawat_Woottisart/val_dataset_filtered/th-output/test/test00217.png: (649, 363, 3) - 147\n",
            "gdrive/MyDrive/NewThesis_Poonyawat_Woottisart/val_dataset_filtered/th-output/test/test00220.png: (371, 311, 3) - 148\n",
            "gdrive/MyDrive/NewThesis_Poonyawat_Woottisart/val_dataset_filtered/th-output/test/test00219.png: (371, 311, 3) - 149\n",
            "gdrive/MyDrive/NewThesis_Poonyawat_Woottisart/val_dataset_filtered/th-output/test/test00221.png: (895, 339, 3) - 150\n",
            "gdrive/MyDrive/NewThesis_Poonyawat_Woottisart/val_dataset_filtered/th-output/test/test00223.png: (765, 398, 3) - 151\n",
            "gdrive/MyDrive/NewThesis_Poonyawat_Woottisart/val_dataset_filtered/th-output/test/test00222.png: (765, 398, 3) - 152\n",
            "gdrive/MyDrive/NewThesis_Poonyawat_Woottisart/val_dataset_filtered/th-output/test/test00235.png: (849, 263, 3) - 153\n",
            "gdrive/MyDrive/NewThesis_Poonyawat_Woottisart/val_dataset_filtered/th-output/test/test00236.png: (956, 942, 3) - 154\n",
            "gdrive/MyDrive/NewThesis_Poonyawat_Woottisart/val_dataset_filtered/th-output/test/test00234.png: (559, 174, 3) - 155\n",
            "gdrive/MyDrive/NewThesis_Poonyawat_Woottisart/val_dataset_filtered/th-output/test/test00237.png: (953, 370, 3) - 156\n",
            "gdrive/MyDrive/NewThesis_Poonyawat_Woottisart/val_dataset_filtered/th-output/test/test00238.png: (445, 536, 3) - 157\n",
            "gdrive/MyDrive/NewThesis_Poonyawat_Woottisart/val_dataset_filtered/th-output/test/test00239.png: (792, 485, 3) - 158\n",
            "gdrive/MyDrive/NewThesis_Poonyawat_Woottisart/val_dataset_filtered/th-output/test/test00240.png: (387, 250, 3) - 159\n",
            "gdrive/MyDrive/NewThesis_Poonyawat_Woottisart/val_dataset_filtered/th-output/test/test00241.png: (387, 250, 3) - 160\n",
            "gdrive/MyDrive/NewThesis_Poonyawat_Woottisart/val_dataset_filtered/th-output/test/test00243.png: (950, 340, 3) - 161\n",
            "gdrive/MyDrive/NewThesis_Poonyawat_Woottisart/val_dataset_filtered/th-output/test/test00242.png: (950, 340, 3) - 162\n",
            "gdrive/MyDrive/NewThesis_Poonyawat_Woottisart/val_dataset_filtered/th-output/test/test00248.png: (814, 256, 3) - 163\n",
            "gdrive/MyDrive/NewThesis_Poonyawat_Woottisart/val_dataset_filtered/th-output/test/test00247.png: (627, 171, 3) - 164\n",
            "gdrive/MyDrive/NewThesis_Poonyawat_Woottisart/val_dataset_filtered/th-output/test/test00246.png: (698, 405, 3) - 165\n",
            "gdrive/MyDrive/NewThesis_Poonyawat_Woottisart/val_dataset_filtered/th-output/test/test00250.png: (865, 572, 3) - 166\n",
            "gdrive/MyDrive/NewThesis_Poonyawat_Woottisart/val_dataset_filtered/th-output/test/test00249.png: (970, 696, 3) - 167\n",
            "gdrive/MyDrive/NewThesis_Poonyawat_Woottisart/val_dataset_filtered/th-output/test/test00251.png: (853, 280, 3) - 168\n",
            "gdrive/MyDrive/NewThesis_Poonyawat_Woottisart/val_dataset_filtered/th-output/test/test00256.png: (553, 449, 3) - 169\n",
            "gdrive/MyDrive/NewThesis_Poonyawat_Woottisart/val_dataset_filtered/th-output/test/test00253.png: (997, 286, 3) - 170\n",
            "gdrive/MyDrive/NewThesis_Poonyawat_Woottisart/val_dataset_filtered/th-output/test/test00258.png: (745, 201, 3) - 171\n",
            "gdrive/MyDrive/NewThesis_Poonyawat_Woottisart/val_dataset_filtered/th-output/test/test00257.png: (409, 218, 3) - 172\n",
            "gdrive/MyDrive/NewThesis_Poonyawat_Woottisart/val_dataset_filtered/th-output/test/test00260.png: (845, 260, 3) - 173\n",
            "gdrive/MyDrive/NewThesis_Poonyawat_Woottisart/val_dataset_filtered/th-output/test/test00262.png: (696, 544, 3) - 174\n",
            "gdrive/MyDrive/NewThesis_Poonyawat_Woottisart/val_dataset_filtered/th-output/test/test00261.png: (696, 544, 3) - 175\n",
            "gdrive/MyDrive/NewThesis_Poonyawat_Woottisart/val_dataset_filtered/th-output/test/test00263.png: (1118, 406, 3) - 176\n",
            "gdrive/MyDrive/NewThesis_Poonyawat_Woottisart/val_dataset_filtered/th-output/test/test00264.png: (1034, 315, 3) - 177\n",
            "gdrive/MyDrive/NewThesis_Poonyawat_Woottisart/val_dataset_filtered/th-output/test/test00266.png: (823, 293, 3) - 178\n",
            "gdrive/MyDrive/NewThesis_Poonyawat_Woottisart/val_dataset_filtered/th-output/test/test00265.png: (1131, 272, 3) - 179\n",
            "gdrive/MyDrive/NewThesis_Poonyawat_Woottisart/val_dataset_filtered/th-output/test/test00269.png: (1159, 374, 3) - 180\n",
            "gdrive/MyDrive/NewThesis_Poonyawat_Woottisart/val_dataset_filtered/th-output/test/test00267.png: (1140, 467, 3) - 181\n",
            "gdrive/MyDrive/NewThesis_Poonyawat_Woottisart/val_dataset_filtered/th-output/test/test00270.png: (883, 652, 3) - 182\n",
            "gdrive/MyDrive/NewThesis_Poonyawat_Woottisart/val_dataset_filtered/th-output/test/test00268.png: (1115, 543, 3) - 183\n",
            "gdrive/MyDrive/NewThesis_Poonyawat_Woottisart/val_dataset_filtered/th-output/test/test00271.png: (812, 291, 3) - 184\n",
            "gdrive/MyDrive/NewThesis_Poonyawat_Woottisart/val_dataset_filtered/th-output/test/test00272.png: (1149, 433, 3) - 185\n",
            "gdrive/MyDrive/NewThesis_Poonyawat_Woottisart/val_dataset_filtered/th-output/test/test00273.png: (1207, 578, 3) - 186\n",
            "gdrive/MyDrive/NewThesis_Poonyawat_Woottisart/val_dataset_filtered/th-output/test/test00274.png: (1026, 302, 3) - 187\n",
            "gdrive/MyDrive/NewThesis_Poonyawat_Woottisart/val_dataset_filtered/th-output/test/test00275.png: (1058, 234, 3) - 188\n",
            "gdrive/MyDrive/NewThesis_Poonyawat_Woottisart/val_dataset_filtered/th-output/test/test00276.png: (1180, 553, 3) - 189\n",
            "gdrive/MyDrive/NewThesis_Poonyawat_Woottisart/val_dataset_filtered/th-output/test/test00277.png: (993, 696, 3) - 190\n",
            "gdrive/MyDrive/NewThesis_Poonyawat_Woottisart/val_dataset_filtered/th-output/test/test00279.png: (983, 867, 3) - 191\n",
            "gdrive/MyDrive/NewThesis_Poonyawat_Woottisart/val_dataset_filtered/th-output/test/test00278.png: (1149, 909, 3) - 192\n",
            "gdrive/MyDrive/NewThesis_Poonyawat_Woottisart/val_dataset_filtered/th-output/test/test00281.png: (1000, 524, 3) - 193\n",
            "gdrive/MyDrive/NewThesis_Poonyawat_Woottisart/val_dataset_filtered/th-output/test/test00280.png: (964, 414, 3) - 194\n",
            "gdrive/MyDrive/NewThesis_Poonyawat_Woottisart/val_dataset_filtered/th-output/test/test00282.png: (863, 604, 3) - 195\n",
            "gdrive/MyDrive/NewThesis_Poonyawat_Woottisart/val_dataset_filtered/th-output/test/test00285.png: (968, 378, 3) - 196\n",
            "gdrive/MyDrive/NewThesis_Poonyawat_Woottisart/val_dataset_filtered/th-output/test/test00283.png: (786, 602, 3) - 197\n",
            "gdrive/MyDrive/NewThesis_Poonyawat_Woottisart/val_dataset_filtered/th-output/test/test00286.png: (1072, 614, 3) - 198\n",
            "gdrive/MyDrive/NewThesis_Poonyawat_Woottisart/val_dataset_filtered/th-output/test/test00287.png: (954, 284, 3) - 199\n",
            "gdrive/MyDrive/NewThesis_Poonyawat_Woottisart/val_dataset_filtered/th-output/test/test00288.png: (900, 339, 3) - 200\n",
            "gdrive/MyDrive/NewThesis_Poonyawat_Woottisart/val_dataset_filtered/th-output/test/test00290.png: (777, 726, 3) - 201\n",
            "gdrive/MyDrive/NewThesis_Poonyawat_Woottisart/val_dataset_filtered/th-output/test/test00292.png: (1106, 458, 3) - 202\n",
            "gdrive/MyDrive/NewThesis_Poonyawat_Woottisart/val_dataset_filtered/th-output/test/test00293.png: (1106, 458, 3) - 203\n",
            "gdrive/MyDrive/NewThesis_Poonyawat_Woottisart/val_dataset_filtered/th-output/test/test00291.png: (1074, 541, 3) - 204\n",
            "gdrive/MyDrive/NewThesis_Poonyawat_Woottisart/val_dataset_filtered/th-output/test/test00297.png: (943, 667, 3) - 205\n",
            "gdrive/MyDrive/NewThesis_Poonyawat_Woottisart/val_dataset_filtered/th-output/test/test00298.png: (1030, 577, 3) - 206\n",
            "gdrive/MyDrive/NewThesis_Poonyawat_Woottisart/val_dataset_filtered/th-output/test/test00299.png: (1024, 258, 3) - 207\n",
            "gdrive/MyDrive/NewThesis_Poonyawat_Woottisart/val_dataset_filtered/th-output/test/test00305.png: (1168, 303, 3) - 208\n",
            "gdrive/MyDrive/NewThesis_Poonyawat_Woottisart/val_dataset_filtered/th-output/test/test00303.png: (1213, 430, 3) - 209\n",
            "gdrive/MyDrive/NewThesis_Poonyawat_Woottisart/val_dataset_filtered/th-output/test/test00312.png: (1017, 262, 3) - 210\n",
            "gdrive/MyDrive/NewThesis_Poonyawat_Woottisart/val_dataset_filtered/th-output/test/test00306.png: (639, 298, 3) - 211\n",
            "gdrive/MyDrive/NewThesis_Poonyawat_Woottisart/val_dataset_filtered/th-output/test/test00311.png: (1017, 262, 3) - 212\n",
            "gdrive/MyDrive/NewThesis_Poonyawat_Woottisart/val_dataset_filtered/th-output/test/test00315.png: (800, 311, 3) - 213\n",
            "gdrive/MyDrive/NewThesis_Poonyawat_Woottisart/val_dataset_filtered/th-output/test/test00313.png: (696, 710, 3) - 214\n",
            "gdrive/MyDrive/NewThesis_Poonyawat_Woottisart/val_dataset_filtered/th-output/test/test00314.png: (1242, 318, 3) - 215\n",
            "gdrive/MyDrive/NewThesis_Poonyawat_Woottisart/val_dataset_filtered/th-output/test/test00316.png: (1146, 442, 3) - 216\n",
            "gdrive/MyDrive/NewThesis_Poonyawat_Woottisart/val_dataset_filtered/th-output/test/test00317.png: (827, 631, 3) - 217\n",
            "gdrive/MyDrive/NewThesis_Poonyawat_Woottisart/val_dataset_filtered/th-output/test/test00318.png: (838, 792, 3) - 218\n",
            "gdrive/MyDrive/NewThesis_Poonyawat_Woottisart/val_dataset_filtered/th-output/test/test00320.png: (1172, 627, 3) - 219\n",
            "gdrive/MyDrive/NewThesis_Poonyawat_Woottisart/val_dataset_filtered/th-output/test/test00321.png: (984, 457, 3) - 220\n",
            "gdrive/MyDrive/NewThesis_Poonyawat_Woottisart/val_dataset_filtered/th-output/test/test00319.png: (758, 197, 3) - 221\n"
          ]
        }
      ],
      "source": [
        "for img_name in list(os.listdir(img_th_loc)):\n",
        "    img_loc = '{}/{}'.format(img_th_loc, img_name)\n",
        "    img = cv2.imread(img_loc)\n",
        "    print('{}: {} - {}'.format(img_loc, img.shape, idx))\n",
        "    dim_i_list.append(img.shape[0])\n",
        "    dim_j_list.append(img.shape[1])\n",
        "    img_list.append(img)\n",
        "    label_list.append(0)\n",
        "    idx = idx+1"
      ],
      "id": "ffb1f37b"
    },
    {
      "cell_type": "markdown",
      "metadata": {
        "id": "810aedca"
      },
      "source": [
        "#### KAWAII"
      ],
      "id": "810aedca"
    },
    {
      "cell_type": "code",
      "execution_count": 10,
      "metadata": {
        "colab": {
          "base_uri": "https://localhost:8080/"
        },
        "id": "a2fc6563",
        "outputId": "82fa1632-c0d5-4741-e470-1e35e7daee60"
      },
      "outputs": [
        {
          "output_type": "stream",
          "name": "stdout",
          "text": [
            "gdrive/MyDrive/NewThesis_Poonyawat_Woottisart/val_dataset_filtered/ha-output/test/test00000.png: (466, 172, 3) - 222\n",
            "gdrive/MyDrive/NewThesis_Poonyawat_Woottisart/val_dataset_filtered/ha-output/test/test00001.png: (831, 288, 3) - 223\n",
            "gdrive/MyDrive/NewThesis_Poonyawat_Woottisart/val_dataset_filtered/ha-output/test/test00004.png: (820, 349, 3) - 224\n",
            "gdrive/MyDrive/NewThesis_Poonyawat_Woottisart/val_dataset_filtered/ha-output/test/test00007.png: (721, 430, 3) - 225\n",
            "gdrive/MyDrive/NewThesis_Poonyawat_Woottisart/val_dataset_filtered/ha-output/test/test00002.png: (831, 288, 3) - 226\n",
            "gdrive/MyDrive/NewThesis_Poonyawat_Woottisart/val_dataset_filtered/ha-output/test/test00008.png: (702, 379, 3) - 227\n",
            "gdrive/MyDrive/NewThesis_Poonyawat_Woottisart/val_dataset_filtered/ha-output/test/test00012.png: (698, 396, 3) - 228\n",
            "gdrive/MyDrive/NewThesis_Poonyawat_Woottisart/val_dataset_filtered/ha-output/test/test00011.png: (552, 547, 3) - 229\n",
            "gdrive/MyDrive/NewThesis_Poonyawat_Woottisart/val_dataset_filtered/ha-output/test/test00013.png: (663, 182, 3) - 230\n",
            "gdrive/MyDrive/NewThesis_Poonyawat_Woottisart/val_dataset_filtered/ha-output/test/test00018.png: (820, 322, 3) - 231\n",
            "gdrive/MyDrive/NewThesis_Poonyawat_Woottisart/val_dataset_filtered/ha-output/test/test00015.png: (830, 305, 3) - 232\n",
            "gdrive/MyDrive/NewThesis_Poonyawat_Woottisart/val_dataset_filtered/ha-output/test/test00016.png: (830, 305, 3) - 233\n",
            "gdrive/MyDrive/NewThesis_Poonyawat_Woottisart/val_dataset_filtered/ha-output/test/test00014.png: (820, 322, 3) - 234\n",
            "gdrive/MyDrive/NewThesis_Poonyawat_Woottisart/val_dataset_filtered/ha-output/test/test00022.png: (673, 296, 3) - 235\n",
            "gdrive/MyDrive/NewThesis_Poonyawat_Woottisart/val_dataset_filtered/ha-output/test/test00019.png: (722, 308, 3) - 236\n",
            "gdrive/MyDrive/NewThesis_Poonyawat_Woottisart/val_dataset_filtered/ha-output/test/test00021.png: (707, 367, 3) - 237\n",
            "gdrive/MyDrive/NewThesis_Poonyawat_Woottisart/val_dataset_filtered/ha-output/test/test00020.png: (707, 367, 3) - 238\n",
            "gdrive/MyDrive/NewThesis_Poonyawat_Woottisart/val_dataset_filtered/ha-output/test/test00023.png: (798, 296, 3) - 239\n",
            "gdrive/MyDrive/NewThesis_Poonyawat_Woottisart/val_dataset_filtered/ha-output/test/test00025.png: (788, 364, 3) - 240\n",
            "gdrive/MyDrive/NewThesis_Poonyawat_Woottisart/val_dataset_filtered/ha-output/test/test00024.png: (788, 364, 3) - 241\n",
            "gdrive/MyDrive/NewThesis_Poonyawat_Woottisart/val_dataset_filtered/ha-output/test/test00029.png: (774, 253, 3) - 242\n",
            "gdrive/MyDrive/NewThesis_Poonyawat_Woottisart/val_dataset_filtered/ha-output/test/test00030.png: (807, 346, 3) - 243\n",
            "gdrive/MyDrive/NewThesis_Poonyawat_Woottisart/val_dataset_filtered/ha-output/test/test00027.png: (835, 283, 3) - 244\n",
            "gdrive/MyDrive/NewThesis_Poonyawat_Woottisart/val_dataset_filtered/ha-output/test/test00028.png: (592, 287, 3) - 245\n",
            "gdrive/MyDrive/NewThesis_Poonyawat_Woottisart/val_dataset_filtered/ha-output/test/test00026.png: (835, 283, 3) - 246\n",
            "gdrive/MyDrive/NewThesis_Poonyawat_Woottisart/val_dataset_filtered/ha-output/test/test00031.png: (656, 308, 3) - 247\n",
            "gdrive/MyDrive/NewThesis_Poonyawat_Woottisart/val_dataset_filtered/ha-output/test/test00036.png: (806, 239, 3) - 248\n",
            "gdrive/MyDrive/NewThesis_Poonyawat_Woottisart/val_dataset_filtered/ha-output/test/test00035.png: (806, 239, 3) - 249\n",
            "gdrive/MyDrive/NewThesis_Poonyawat_Woottisart/val_dataset_filtered/ha-output/test/test00032.png: (858, 269, 3) - 250\n",
            "gdrive/MyDrive/NewThesis_Poonyawat_Woottisart/val_dataset_filtered/ha-output/test/test00033.png: (858, 269, 3) - 251\n",
            "gdrive/MyDrive/NewThesis_Poonyawat_Woottisart/val_dataset_filtered/ha-output/test/test00046.png: (867, 199, 3) - 252\n",
            "gdrive/MyDrive/NewThesis_Poonyawat_Woottisart/val_dataset_filtered/ha-output/test/test00037.png: (799, 288, 3) - 253\n",
            "gdrive/MyDrive/NewThesis_Poonyawat_Woottisart/val_dataset_filtered/ha-output/test/test00042.png: (706, 356, 3) - 254\n",
            "gdrive/MyDrive/NewThesis_Poonyawat_Woottisart/val_dataset_filtered/ha-output/test/test00045.png: (538, 156, 3) - 255\n",
            "gdrive/MyDrive/NewThesis_Poonyawat_Woottisart/val_dataset_filtered/ha-output/test/test00043.png: (706, 356, 3) - 256\n",
            "gdrive/MyDrive/NewThesis_Poonyawat_Woottisart/val_dataset_filtered/ha-output/test/test00051.png: (898, 315, 3) - 257\n",
            "gdrive/MyDrive/NewThesis_Poonyawat_Woottisart/val_dataset_filtered/ha-output/test/test00050.png: (898, 315, 3) - 258\n",
            "gdrive/MyDrive/NewThesis_Poonyawat_Woottisart/val_dataset_filtered/ha-output/test/test00048.png: (725, 337, 3) - 259\n",
            "gdrive/MyDrive/NewThesis_Poonyawat_Woottisart/val_dataset_filtered/ha-output/test/test00047.png: (722, 298, 3) - 260\n",
            "gdrive/MyDrive/NewThesis_Poonyawat_Woottisart/val_dataset_filtered/ha-output/test/test00060.png: (712, 284, 3) - 261\n",
            "gdrive/MyDrive/NewThesis_Poonyawat_Woottisart/val_dataset_filtered/ha-output/test/test00059.png: (732, 619, 3) - 262\n",
            "gdrive/MyDrive/NewThesis_Poonyawat_Woottisart/val_dataset_filtered/ha-output/test/test00058.png: (832, 361, 3) - 263\n",
            "gdrive/MyDrive/NewThesis_Poonyawat_Woottisart/val_dataset_filtered/ha-output/test/test00057.png: (626, 307, 3) - 264\n",
            "gdrive/MyDrive/NewThesis_Poonyawat_Woottisart/val_dataset_filtered/ha-output/test/test00055.png: (846, 367, 3) - 265\n",
            "gdrive/MyDrive/NewThesis_Poonyawat_Woottisart/val_dataset_filtered/ha-output/test/test00054.png: (846, 367, 3) - 266\n",
            "gdrive/MyDrive/NewThesis_Poonyawat_Woottisart/val_dataset_filtered/ha-output/test/test00072.png: (838, 342, 3) - 267\n",
            "gdrive/MyDrive/NewThesis_Poonyawat_Woottisart/val_dataset_filtered/ha-output/test/test00062.png: (668, 221, 3) - 268\n",
            "gdrive/MyDrive/NewThesis_Poonyawat_Woottisart/val_dataset_filtered/ha-output/test/test00063.png: (691, 289, 3) - 269\n",
            "gdrive/MyDrive/NewThesis_Poonyawat_Woottisart/val_dataset_filtered/ha-output/test/test00061.png: (650, 270, 3) - 270\n",
            "gdrive/MyDrive/NewThesis_Poonyawat_Woottisart/val_dataset_filtered/ha-output/test/test00078.png: (708, 378, 3) - 271\n",
            "gdrive/MyDrive/NewThesis_Poonyawat_Woottisart/val_dataset_filtered/ha-output/test/test00073.png: (769, 289, 3) - 272\n",
            "gdrive/MyDrive/NewThesis_Poonyawat_Woottisart/val_dataset_filtered/ha-output/test/test00077.png: (809, 261, 3) - 273\n",
            "gdrive/MyDrive/NewThesis_Poonyawat_Woottisart/val_dataset_filtered/ha-output/test/test00088.png: (708, 379, 3) - 274\n",
            "gdrive/MyDrive/NewThesis_Poonyawat_Woottisart/val_dataset_filtered/ha-output/test/test00090.png: (586, 303, 3) - 275\n",
            "gdrive/MyDrive/NewThesis_Poonyawat_Woottisart/val_dataset_filtered/ha-output/test/test00080.png: (792, 263, 3) - 276\n",
            "gdrive/MyDrive/NewThesis_Poonyawat_Woottisart/val_dataset_filtered/ha-output/test/test00089.png: (845, 313, 3) - 277\n",
            "gdrive/MyDrive/NewThesis_Poonyawat_Woottisart/val_dataset_filtered/ha-output/test/test00087.png: (816, 273, 3) - 278\n",
            "gdrive/MyDrive/NewThesis_Poonyawat_Woottisart/val_dataset_filtered/ha-output/test/test00094.png: (714, 307, 3) - 279\n",
            "gdrive/MyDrive/NewThesis_Poonyawat_Woottisart/val_dataset_filtered/ha-output/test/test00091.png: (749, 414, 3) - 280\n",
            "gdrive/MyDrive/NewThesis_Poonyawat_Woottisart/val_dataset_filtered/ha-output/test/test00093.png: (782, 552, 3) - 281\n",
            "gdrive/MyDrive/NewThesis_Poonyawat_Woottisart/val_dataset_filtered/ha-output/test/test00092.png: (904, 353, 3) - 282\n",
            "gdrive/MyDrive/NewThesis_Poonyawat_Woottisart/val_dataset_filtered/ha-output/test/test00095.png: (714, 307, 3) - 283\n",
            "gdrive/MyDrive/NewThesis_Poonyawat_Woottisart/val_dataset_filtered/ha-output/test/test00105.png: (807, 282, 3) - 284\n",
            "gdrive/MyDrive/NewThesis_Poonyawat_Woottisart/val_dataset_filtered/ha-output/test/test00099.png: (794, 344, 3) - 285\n",
            "gdrive/MyDrive/NewThesis_Poonyawat_Woottisart/val_dataset_filtered/ha-output/test/test00102.png: (869, 277, 3) - 286\n",
            "gdrive/MyDrive/NewThesis_Poonyawat_Woottisart/val_dataset_filtered/ha-output/test/test00101.png: (869, 277, 3) - 287\n",
            "gdrive/MyDrive/NewThesis_Poonyawat_Woottisart/val_dataset_filtered/ha-output/test/test00108.png: (714, 336, 3) - 288\n",
            "gdrive/MyDrive/NewThesis_Poonyawat_Woottisart/val_dataset_filtered/ha-output/test/test00114.png: (826, 287, 3) - 289\n",
            "gdrive/MyDrive/NewThesis_Poonyawat_Woottisart/val_dataset_filtered/ha-output/test/test00113.png: (722, 356, 3) - 290\n",
            "gdrive/MyDrive/NewThesis_Poonyawat_Woottisart/val_dataset_filtered/ha-output/test/test00106.png: (651, 301, 3) - 291\n",
            "gdrive/MyDrive/NewThesis_Poonyawat_Woottisart/val_dataset_filtered/ha-output/test/test00115.png: (688, 646, 3) - 292\n",
            "gdrive/MyDrive/NewThesis_Poonyawat_Woottisart/val_dataset_filtered/ha-output/test/test00120.png: (804, 398, 3) - 293\n",
            "gdrive/MyDrive/NewThesis_Poonyawat_Woottisart/val_dataset_filtered/ha-output/test/test00116.png: (785, 239, 3) - 294\n",
            "gdrive/MyDrive/NewThesis_Poonyawat_Woottisart/val_dataset_filtered/ha-output/test/test00118.png: (846, 276, 3) - 295\n",
            "gdrive/MyDrive/NewThesis_Poonyawat_Woottisart/val_dataset_filtered/ha-output/test/test00117.png: (785, 239, 3) - 296\n",
            "gdrive/MyDrive/NewThesis_Poonyawat_Woottisart/val_dataset_filtered/ha-output/test/test00119.png: (846, 276, 3) - 297\n",
            "gdrive/MyDrive/NewThesis_Poonyawat_Woottisart/val_dataset_filtered/ha-output/test/test00121.png: (872, 305, 3) - 298\n",
            "gdrive/MyDrive/NewThesis_Poonyawat_Woottisart/val_dataset_filtered/ha-output/test/test00129.png: (570, 284, 3) - 299\n",
            "gdrive/MyDrive/NewThesis_Poonyawat_Woottisart/val_dataset_filtered/ha-output/test/test00122.png: (872, 305, 3) - 300\n",
            "gdrive/MyDrive/NewThesis_Poonyawat_Woottisart/val_dataset_filtered/ha-output/test/test00131.png: (743, 386, 3) - 301\n",
            "gdrive/MyDrive/NewThesis_Poonyawat_Woottisart/val_dataset_filtered/ha-output/test/test00138.png: (805, 279, 3) - 302\n",
            "gdrive/MyDrive/NewThesis_Poonyawat_Woottisart/val_dataset_filtered/ha-output/test/test00137.png: (674, 361, 3) - 303\n",
            "gdrive/MyDrive/NewThesis_Poonyawat_Woottisart/val_dataset_filtered/ha-output/test/test00136.png: (674, 361, 3) - 304\n",
            "gdrive/MyDrive/NewThesis_Poonyawat_Woottisart/val_dataset_filtered/ha-output/test/test00141.png: (796, 277, 3) - 305\n",
            "gdrive/MyDrive/NewThesis_Poonyawat_Woottisart/val_dataset_filtered/ha-output/test/test00140.png: (671, 320, 3) - 306\n",
            "gdrive/MyDrive/NewThesis_Poonyawat_Woottisart/val_dataset_filtered/ha-output/test/test00139.png: (708, 379, 3) - 307\n",
            "gdrive/MyDrive/NewThesis_Poonyawat_Woottisart/val_dataset_filtered/ha-output/test/test00142.png: (837, 312, 3) - 308\n",
            "gdrive/MyDrive/NewThesis_Poonyawat_Woottisart/val_dataset_filtered/ha-output/test/test00145.png: (699, 458, 3) - 309\n",
            "gdrive/MyDrive/NewThesis_Poonyawat_Woottisart/val_dataset_filtered/ha-output/test/test00143.png: (838, 339, 3) - 310\n",
            "gdrive/MyDrive/NewThesis_Poonyawat_Woottisart/val_dataset_filtered/ha-output/test/test00155.png: (814, 303, 3) - 311\n",
            "gdrive/MyDrive/NewThesis_Poonyawat_Woottisart/val_dataset_filtered/ha-output/test/test00156.png: (822, 526, 3) - 312\n",
            "gdrive/MyDrive/NewThesis_Poonyawat_Woottisart/val_dataset_filtered/ha-output/test/test00159.png: (813, 350, 3) - 313\n",
            "gdrive/MyDrive/NewThesis_Poonyawat_Woottisart/val_dataset_filtered/ha-output/test/test00161.png: (699, 268, 3) - 314\n",
            "gdrive/MyDrive/NewThesis_Poonyawat_Woottisart/val_dataset_filtered/ha-output/test/test00162.png: (867, 252, 3) - 315\n",
            "gdrive/MyDrive/NewThesis_Poonyawat_Woottisart/val_dataset_filtered/ha-output/test/test00160.png: (720, 269, 3) - 316\n",
            "gdrive/MyDrive/NewThesis_Poonyawat_Woottisart/val_dataset_filtered/ha-output/test/test00164.png: (810, 298, 3) - 317\n",
            "gdrive/MyDrive/NewThesis_Poonyawat_Woottisart/val_dataset_filtered/ha-output/test/test00171.png: (779, 336, 3) - 318\n",
            "gdrive/MyDrive/NewThesis_Poonyawat_Woottisart/val_dataset_filtered/ha-output/test/test00166.png: (707, 378, 3) - 319\n",
            "gdrive/MyDrive/NewThesis_Poonyawat_Woottisart/val_dataset_filtered/ha-output/test/test00167.png: (707, 378, 3) - 320\n",
            "gdrive/MyDrive/NewThesis_Poonyawat_Woottisart/val_dataset_filtered/ha-output/test/test00169.png: (730, 315, 3) - 321\n",
            "gdrive/MyDrive/NewThesis_Poonyawat_Woottisart/val_dataset_filtered/ha-output/test/test00170.png: (730, 315, 3) - 322\n",
            "gdrive/MyDrive/NewThesis_Poonyawat_Woottisart/val_dataset_filtered/ha-output/test/test00165.png: (810, 298, 3) - 323\n",
            "gdrive/MyDrive/NewThesis_Poonyawat_Woottisart/val_dataset_filtered/ha-output/test/test00179.png: (724, 263, 3) - 324\n",
            "gdrive/MyDrive/NewThesis_Poonyawat_Woottisart/val_dataset_filtered/ha-output/test/test00177.png: (776, 342, 3) - 325\n",
            "gdrive/MyDrive/NewThesis_Poonyawat_Woottisart/val_dataset_filtered/ha-output/test/test00172.png: (814, 303, 3) - 326\n",
            "gdrive/MyDrive/NewThesis_Poonyawat_Woottisart/val_dataset_filtered/ha-output/test/test00174.png: (898, 375, 3) - 327\n",
            "gdrive/MyDrive/NewThesis_Poonyawat_Woottisart/val_dataset_filtered/ha-output/test/test00178.png: (776, 342, 3) - 328\n"
          ]
        }
      ],
      "source": [
        "for img_name in list(os.listdir(img_jp_loc)):\n",
        "    img_loc = '{}/{}'.format(img_jp_loc, img_name)\n",
        "    img = cv2.imread(img_loc)\n",
        "    print('{}: {} - {}'.format(img_loc, img.shape, idx))\n",
        "    dim_i_list.append(img.shape[0])\n",
        "    dim_j_list.append(img.shape[1])\n",
        "    img_list.append(img)\n",
        "    label_list.append(1)\n",
        "    idx = idx+1"
      ],
      "id": "a2fc6563"
    },
    {
      "cell_type": "code",
      "execution_count": 11,
      "metadata": {
        "colab": {
          "base_uri": "https://localhost:8080/"
        },
        "id": "44ff630e",
        "outputId": "4ef00c3e-dc29-4302-ae2f-287dd803db26"
      },
      "outputs": [
        {
          "output_type": "execute_result",
          "data": {
            "text/plain": [
              "(869.9969604863222, 201.16249534849754)"
            ]
          },
          "metadata": {},
          "execution_count": 11
        }
      ],
      "source": [
        "np.mean(dim_i_list), np.std(dim_i_list)"
      ],
      "id": "44ff630e"
    },
    {
      "cell_type": "code",
      "execution_count": 12,
      "metadata": {
        "colab": {
          "base_uri": "https://localhost:8080/"
        },
        "id": "82cee4a3",
        "outputId": "2ff7d5fb-01de-4fa8-ccda-befa29e46fd7"
      },
      "outputs": [
        {
          "output_type": "execute_result",
          "data": {
            "text/plain": [
              "(410.30699088145894, 172.27780274576506)"
            ]
          },
          "metadata": {},
          "execution_count": 12
        }
      ],
      "source": [
        "np.mean(dim_j_list), np.std(dim_j_list)"
      ],
      "id": "82cee4a3"
    },
    {
      "cell_type": "code",
      "execution_count": 13,
      "metadata": {
        "colab": {
          "base_uri": "https://localhost:8080/"
        },
        "id": "6e8d0821",
        "outputId": "097e4133-eb2d-4e39-f8aa-c3528674eae4"
      },
      "outputs": [
        {
          "output_type": "execute_result",
          "data": {
            "text/plain": [
              "329"
            ]
          },
          "metadata": {},
          "execution_count": 13
        }
      ],
      "source": [
        "len(dim_i_list)"
      ],
      "id": "6e8d0821"
    },
    {
      "cell_type": "markdown",
      "source": [
        "### From testing set"
      ],
      "metadata": {
        "id": "ZqYzwbKJzf9Z"
      },
      "id": "ZqYzwbKJzf9Z"
    },
    {
      "cell_type": "code",
      "source": [
        "img_loc = \"gdrive/MyDrive/NewThesis_Poonyawat_Woottisart/Dataset_Filtered_new\"\n",
        "img_eu_loc = img_loc + '/european-street-fashion-output'\n",
        "img_jp_loc = img_loc + '/harajuku-kawaii-street-fashion-output'\n",
        "img_th_loc = img_loc + '/thai-street-fashion-output'"
      ],
      "metadata": {
        "id": "vObyfmdZzlRu"
      },
      "id": "vObyfmdZzlRu",
      "execution_count": 14,
      "outputs": []
    },
    {
      "cell_type": "code",
      "execution_count": 15,
      "metadata": {
        "id": "b51afc89",
        "colab": {
          "base_uri": "https://localhost:8080/"
        },
        "outputId": "74f99212-b638-4285-8ee9-8442d0b5748e"
      },
      "outputs": [
        {
          "output_type": "stream",
          "name": "stdout",
          "text": [
            "gdrive/MyDrive/NewThesis_Poonyawat_Woottisart/Dataset_Filtered_new/thai-street-fashion-output/test_00066.png\n",
            "gdrive/MyDrive/NewThesis_Poonyawat_Woottisart/Dataset_Filtered_new/harajuku-kawaii-street-fashion-output/test_00011.png\n",
            "gdrive/MyDrive/NewThesis_Poonyawat_Woottisart/Dataset_Filtered_new/european-street-fashion-output/test_00000.png\n"
          ]
        }
      ],
      "source": [
        "img_list_test = []\n",
        "# TH\n",
        "img_name = 'test_00066.png'\n",
        "img_loc = '{}/{}'.format(img_th_loc, img_name)\n",
        "img = cv2.imread(img_loc)\n",
        "img = cv2.cvtColor(img, cv2.COLOR_BGR2RGB)\n",
        "print('{}'.format(img_loc))\n",
        "img_list_test.append(img)\n",
        "# JP\n",
        "img_name = 'test_00011.png'\n",
        "img_loc = '{}/{}'.format(img_jp_loc, img_name)\n",
        "img = cv2.imread(img_loc)\n",
        "img = cv2.cvtColor(img, cv2.COLOR_BGR2RGB)\n",
        "print('{}'.format(img_loc))\n",
        "img_list_test.append(img)\n",
        "# EU\n",
        "img_name = 'test_00000.png'\n",
        "img_loc = '{}/{}'.format(img_eu_loc, img_name)\n",
        "img = cv2.imread(img_loc)\n",
        "img = cv2.cvtColor(img, cv2.COLOR_BGR2RGB)\n",
        "print('{}'.format(img_loc))\n",
        "img_list_test.append(img)"
      ],
      "id": "b51afc89"
    },
    {
      "cell_type": "code",
      "source": [
        "import skimage.io\n",
        "skimage.io.imshow(img_list_test[0])"
      ],
      "metadata": {
        "colab": {
          "base_uri": "https://localhost:8080/",
          "height": 314
        },
        "id": "GPV2xb2303aL",
        "outputId": "6b0eb5d1-fae3-430a-ec14-d8c8b089233b"
      },
      "id": "GPV2xb2303aL",
      "execution_count": 16,
      "outputs": [
        {
          "output_type": "execute_result",
          "data": {
            "text/plain": [
              "<matplotlib.image.AxesImage at 0x7fbd56e2d050>"
            ]
          },
          "metadata": {},
          "execution_count": 16
        },
        {
          "output_type": "display_data",
          "data": {
            "text/plain": [
              "<Figure size 432x288 with 1 Axes>"
            ],
            "image/png": "[encoded data removed]"
          },
          "metadata": {
            "needs_background": "light"
          }
        }
      ]
    },
    {
      "cell_type": "markdown",
      "metadata": {
        "id": "ECmk6mpY_Gil"
      },
      "source": [
        "# Image Scaling"
      ],
      "id": "ECmk6mpY_Gil"
    },
    {
      "cell_type": "code",
      "execution_count": 17,
      "metadata": {
        "id": "dfafcd73"
      },
      "outputs": [],
      "source": [
        "h = 420\n",
        "w = 240\n",
        "\n",
        "img_scaling = [np.zeros(shape=(h, w, 3)) for i in range(len(img_list))]\n",
        "img_scaling_test = [np.zeros(shape=(h, w, 3)) for i in range(len(img_list_test))]\n",
        "for i in range(len(img_list)):\n",
        "    img_scaling[i] = cv2.resize(img_list[i], dsize=(w, h), interpolation = cv2.INTER_CUBIC)\n",
        "for i in range(len(img_list_test)):\n",
        "    img_scaling_test[i] = cv2.resize(img_list_test[i], dsize=(w, h), interpolation = cv2.INTER_CUBIC)"
      ],
      "id": "dfafcd73"
    },
    {
      "cell_type": "code",
      "execution_count": 18,
      "metadata": {
        "colab": {
          "base_uri": "https://localhost:8080/"
        },
        "id": "f4dc8ad9",
        "outputId": "5b24fe68-6627-4f45-a84d-05c4b3a4825c"
      },
      "outputs": [
        {
          "output_type": "execute_result",
          "data": {
            "text/plain": [
              "(329, 329)"
            ]
          },
          "metadata": {},
          "execution_count": 18
        }
      ],
      "source": [
        "len(img_scaling), len(label_list)"
      ],
      "id": "f4dc8ad9"
    },
    {
      "cell_type": "code",
      "execution_count": 19,
      "metadata": {
        "id": "JcCewjsVBwQh"
      },
      "outputs": [],
      "source": [
        "sample_test_jp = img_scaling[239]\n",
        "sample_test_th = img_scaling[129]\n",
        "\n",
        "\n",
        "sample_test_th_test = img_scaling[0]\n",
        "sample_test_jp_test = img_scaling[1]\n",
        "sample_test_eu_test = img_scaling[2]"
      ],
      "id": "JcCewjsVBwQh"
    },
    {
      "cell_type": "code",
      "execution_count": 20,
      "metadata": {
        "colab": {
          "base_uri": "https://localhost:8080/"
        },
        "id": "ef89240f",
        "outputId": "801cf02b-9388-4497-c299-b29592b812b3"
      },
      "outputs": [
        {
          "output_type": "execute_result",
          "data": {
            "text/plain": [
              "(329, 420, 240, 3)"
            ]
          },
          "metadata": {},
          "execution_count": 20
        }
      ],
      "source": [
        "len(img_scaling), len(img_scaling[0]), len(img_scaling[0][0]), len(img_scaling[0][0][0])"
      ],
      "id": "ef89240f"
    },
    {
      "cell_type": "code",
      "execution_count": 20,
      "metadata": {
        "id": "4ca64f76"
      },
      "outputs": [],
      "source": [
        ""
      ],
      "id": "4ca64f76"
    },
    {
      "cell_type": "markdown",
      "metadata": {
        "id": "KLVNjdGLBqTf"
      },
      "source": [
        "# Functions"
      ],
      "id": "KLVNjdGLBqTf"
    },
    {
      "cell_type": "code",
      "execution_count": 21,
      "metadata": {
        "id": "0fedef05"
      },
      "outputs": [],
      "source": [
        "# network creating from given parameter\n",
        "# input: \n",
        "#       number of layers in network (integer), \n",
        "#       list of infomation for each layer (list of dictionaries), \n",
        "#       list of number of nodes for each dense layer (list of integer(s)), \n",
        "#       (optional) list of pooling type for each layer (list of string)\n",
        "# output: \n",
        "#       network topology\n",
        "\n",
        "def gen_network(n_layers, layers_list, dense_layer_node_list, pooling_set=None): \n",
        "    \n",
        "    # layer_list = list of layers those combined with n_node, padding, activation_fn\n",
        "    \n",
        "    return_network = [layers.Rescaling(1./255, input_shape=(h, w, 3))]\n",
        "    \n",
        "    # Convolutional Neural Network\n",
        "    \n",
        "    for i in range(n_layers):\n",
        "        temp_conv = layers.Conv2D(layers_list[i]['n_node'], 3, padding=layers_list[i]['padding'], activation=layers_list[i]['activ_fn'])\n",
        "        return_network.append(temp_conv)\n",
        "        if(pooling_set==None):\n",
        "            temp_pooling = layers.MaxPooling2D()\n",
        "        return_network.append(temp_pooling)\n",
        "    \n",
        "    # Dense Layer\n",
        "    \n",
        "    return_network.append(layers.Flatten())\n",
        "    \n",
        "    for n_node_dense in dense_layer_node_list:\n",
        "        temp_dense = layers.Dense(n_node_dense, activation='relu')\n",
        "        return_network.append(temp_dense)\n",
        "        \n",
        "    return_network.append(layers.Dense(2))\n",
        "    \n",
        "    return return_network"
      ],
      "id": "0fedef05"
    },
    {
      "cell_type": "code",
      "execution_count": 22,
      "metadata": {
        "id": "UvowazGoatzI"
      },
      "outputs": [],
      "source": [
        "# get model and model parameter from checkpoint\n",
        "# input: filename (string)\n",
        "# output: set of model parameters, model\n",
        "\n",
        "def get_prev_model(filename):\n",
        "\n",
        "    f = open('gdrive/MyDrive/Colab Notebooks/checkpoints/{}.txt'.format(filename), 'r')\n",
        "\n",
        "    paramList = []\n",
        "\n",
        "    for line in f:\n",
        "        tmp = line.replace('\\\\n', '')\n",
        "        paramList.append(line)\n",
        "\n",
        "    f.close()\n",
        "\n",
        "    tmp = paramList[1].strip('][').split(', ')\n",
        "    paramList[1] = [None for i in range(len(tmp))]\n",
        "    for i in range(len(tmp)):\n",
        "        if(i%3==0):\n",
        "            paramList[1][i] = tmp[i].split(': ')[1].replace('}', '')\n",
        "        else:\n",
        "            paramList[1][i] = tmp[i].split(': ')[1].replace('}', '').split('\\'')[1]\n",
        "    paramList[1][-1] = paramList[1][-1].split(']')[0]\n",
        "\n",
        "    tmp = []\n",
        "    idx = 0\n",
        "    while(idx<len(paramList[1])):\n",
        "        tmp.append({'n_node': int(paramList[1][idx]), 'padding': paramList[1][idx+1], 'activ_fn': paramList[1][idx+2]})\n",
        "        idx = idx+3\n",
        "    paramList[1] = tmp.copy()\n",
        "\n",
        "    tmp = paramList[2].strip('][').split(', ')\n",
        "    paramList[2] = []\n",
        "    for i in range(len(tmp)-1):\n",
        "        paramList[2].append(int(tmp[0]))\n",
        "    paramList[2].append(int(tmp[-1].split(']')[0]))\n",
        "\n",
        "    param_prev = np.array([int(paramList[0]), paramList[1], paramList[2]])\n",
        "\n",
        "    net = gen_network(n_layers=int(paramList[0]), layers_list=paramList[1], dense_layer_node_list=paramList[2])\n",
        "    model_prev = Sequential(net)\n",
        "    model_prev.compile(optimizer='adam',\n",
        "                  loss=tf.keras.losses.SparseCategoricalCrossentropy(from_logits=True),\n",
        "                  metrics=['binary_accuracy'])\n",
        "    model_prev.load_weights('gdrive/MyDrive/Colab Notebooks/checkpoints/{}'.format(filename))\n",
        "\n",
        "    return param_prev, model_prev"
      ],
      "id": "UvowazGoatzI"
    },
    {
      "cell_type": "markdown",
      "metadata": {
        "id": "i0wEYLaaUMGU"
      },
      "source": [
        "# Run"
      ],
      "id": "i0wEYLaaUMGU"
    },
    {
      "cell_type": "code",
      "execution_count": 23,
      "metadata": {
        "id": "RbgAWaGKU0m5",
        "colab": {
          "base_uri": "https://localhost:8080/"
        },
        "outputId": "18d37bac-09c5-45f9-c062-452c6de70a4c"
      },
      "outputs": [
        {
          "output_type": "stream",
          "name": "stderr",
          "text": [
            "/usr/local/lib/python3.7/dist-packages/ipykernel_launcher.py:39: VisibleDeprecationWarning: Creating an ndarray from ragged nested sequences (which is a list-or-tuple of lists-or-tuples-or ndarrays with different lengths or shapes) is deprecated. If you meant to do this, you must specify 'dtype=object' when creating the ndarray.\n"
          ]
        }
      ],
      "source": [
        "best_param, best_model = get_prev_model('best_model')"
      ],
      "id": "RbgAWaGKU0m5"
    },
    {
      "cell_type": "markdown",
      "metadata": {
        "id": "g76j9n49U1Qr"
      },
      "source": [
        "# Final Evaluation"
      ],
      "id": "g76j9n49U1Qr"
    },
    {
      "cell_type": "code",
      "execution_count": 24,
      "metadata": {
        "id": "tv8OWj1AVRCZ"
      },
      "outputs": [],
      "source": [
        "# model evaluation process \n",
        "# input: model, list of testing images (list of image arrays), list of labels (list of integers (classes))\n",
        "# output: -\n",
        "\n",
        "def evaluate_final(model, x_test, y_test):\n",
        "    # model.evaluate(x_test, y_test, verbose=2)\n",
        "\n",
        "    probability_model = tf.keras.Sequential([\n",
        "                                             model,\n",
        "                                             tf.keras.layers.Softmax()])\n",
        "    x_test = np.array(x_test, ndmin=4)\n",
        "    pred_prob = probability_model(x_test).numpy()\n",
        "    \n",
        "    pred_class = []\n",
        "    for i in range(len(pred_prob)):\n",
        "        pred_class.append(np.where(pred_prob[i][0]>pred_prob[i][1], 0, 1))\n",
        "        print('Actual: {} | Predicted: {} | Prob class 1: {}'.format(y_test[i], pred_class[i], pred_prob[i][1]))\n",
        "    print(confusion_matrix(y_test, pred_class))\n",
        "    acc_score = accuracy_score(y_test, pred_class)\n",
        "    prec_score = precision_score(y_test, pred_class)\n",
        "    rec_score = recall_score(y_test, pred_class)\n",
        "    print('accuracy_score: {}'.format(acc_score))\n",
        "    print('precision_score: {}'.format(prec_score))\n",
        "    print('recall_score: {}'.format(rec_score))\n",
        "\n",
        "    if((prec_score==0)&(rec_score==0)):\n",
        "        f1_score = 0\n",
        "    else:\n",
        "        f1_score = 2*prec_score*rec_score/(prec_score+rec_score)\n"
      ],
      "id": "tv8OWj1AVRCZ"
    },
    {
      "cell_type": "code",
      "source": [
        "best_model.summary()"
      ],
      "metadata": {
        "colab": {
          "base_uri": "https://localhost:8080/"
        },
        "id": "r4N7dczUCr0j",
        "outputId": "59dcf67a-6adc-4dec-9791-33cf09ba391f"
      },
      "id": "r4N7dczUCr0j",
      "execution_count": 25,
      "outputs": [
        {
          "output_type": "stream",
          "name": "stdout",
          "text": [
            "Model: \"sequential\"\n",
            "_________________________________________________________________\n",
            " Layer (type)                Output Shape              Param #   \n",
            "=================================================================\n",
            " rescaling (Rescaling)       (None, 420, 240, 3)       0         \n",
            "                                                                 \n",
            " conv2d (Conv2D)             (None, 420, 240, 8)       224       \n",
            "                                                                 \n",
            " max_pooling2d (MaxPooling2D  (None, 210, 120, 8)      0         \n",
            " )                                                               \n",
            "                                                                 \n",
            " conv2d_1 (Conv2D)           (None, 210, 120, 4)       292       \n",
            "                                                                 \n",
            " max_pooling2d_1 (MaxPooling  (None, 105, 60, 4)       0         \n",
            " 2D)                                                             \n",
            "                                                                 \n",
            " conv2d_2 (Conv2D)           (None, 105, 60, 12)       444       \n",
            "                                                                 \n",
            " max_pooling2d_2 (MaxPooling  (None, 52, 30, 12)       0         \n",
            " 2D)                                                             \n",
            "                                                                 \n",
            " conv2d_3 (Conv2D)           (None, 52, 30, 12)        1308      \n",
            "                                                                 \n",
            " max_pooling2d_3 (MaxPooling  (None, 26, 15, 12)       0         \n",
            " 2D)                                                             \n",
            "                                                                 \n",
            " conv2d_4 (Conv2D)           (None, 26, 15, 8)         872       \n",
            "                                                                 \n",
            " max_pooling2d_4 (MaxPooling  (None, 13, 7, 8)         0         \n",
            " 2D)                                                             \n",
            "                                                                 \n",
            " flatten (Flatten)           (None, 728)               0         \n",
            "                                                                 \n",
            " dense (Dense)               (None, 2)                 1458      \n",
            "                                                                 \n",
            " dense_1 (Dense)             (None, 2)                 6         \n",
            "                                                                 \n",
            "=================================================================\n",
            "Total params: 4,604\n",
            "Trainable params: 4,604\n",
            "Non-trainable params: 0\n",
            "_________________________________________________________________\n"
          ]
        }
      ]
    },
    {
      "cell_type": "code",
      "execution_count": 26,
      "metadata": {
        "id": "gOoqLKtRfzZ-",
        "colab": {
          "base_uri": "https://localhost:8080/"
        },
        "outputId": "5db55f37-f969-4658-dce3-9a94db9fc4d7"
      },
      "outputs": [
        {
          "output_type": "stream",
          "name": "stdout",
          "text": [
            "Actual: 0 | Predicted: 0 | Prob class 1: 0.3522656261920929\n",
            "Actual: 0 | Predicted: 0 | Prob class 1: 0.35245281457901\n",
            "Actual: 0 | Predicted: 0 | Prob class 1: 0.41387316584587097\n",
            "Actual: 0 | Predicted: 1 | Prob class 1: 0.5999691486358643\n",
            "Actual: 0 | Predicted: 0 | Prob class 1: 0.48481008410453796\n",
            "Actual: 0 | Predicted: 0 | Prob class 1: 0.4612838625907898\n",
            "Actual: 0 | Predicted: 0 | Prob class 1: 0.3576144576072693\n",
            "Actual: 0 | Predicted: 0 | Prob class 1: 0.3522656261920929\n",
            "Actual: 0 | Predicted: 1 | Prob class 1: 0.5294602513313293\n",
            "Actual: 0 | Predicted: 0 | Prob class 1: 0.40619567036628723\n",
            "Actual: 0 | Predicted: 0 | Prob class 1: 0.3522656261920929\n",
            "Actual: 0 | Predicted: 0 | Prob class 1: 0.44647324085235596\n",
            "Actual: 0 | Predicted: 0 | Prob class 1: 0.4146122634410858\n",
            "Actual: 0 | Predicted: 1 | Prob class 1: 0.5114571452140808\n",
            "Actual: 0 | Predicted: 0 | Prob class 1: 0.3522656261920929\n",
            "Actual: 0 | Predicted: 0 | Prob class 1: 0.3522656261920929\n",
            "Actual: 0 | Predicted: 0 | Prob class 1: 0.3522656261920929\n",
            "Actual: 0 | Predicted: 0 | Prob class 1: 0.38072118163108826\n",
            "Actual: 0 | Predicted: 0 | Prob class 1: 0.3522656261920929\n",
            "Actual: 0 | Predicted: 0 | Prob class 1: 0.4110073745250702\n",
            "Actual: 0 | Predicted: 0 | Prob class 1: 0.41195619106292725\n",
            "Actual: 0 | Predicted: 0 | Prob class 1: 0.45030921697616577\n",
            "Actual: 0 | Predicted: 0 | Prob class 1: 0.3522656261920929\n",
            "Actual: 0 | Predicted: 0 | Prob class 1: 0.3675555884838104\n",
            "Actual: 0 | Predicted: 0 | Prob class 1: 0.3848346471786499\n",
            "Actual: 0 | Predicted: 0 | Prob class 1: 0.3522656261920929\n",
            "Actual: 0 | Predicted: 0 | Prob class 1: 0.3522656261920929\n",
            "Actual: 0 | Predicted: 0 | Prob class 1: 0.3522656261920929\n",
            "Actual: 0 | Predicted: 0 | Prob class 1: 0.4049430191516876\n",
            "Actual: 0 | Predicted: 0 | Prob class 1: 0.3522656261920929\n",
            "Actual: 0 | Predicted: 0 | Prob class 1: 0.3522656261920929\n",
            "Actual: 0 | Predicted: 0 | Prob class 1: 0.3522656261920929\n",
            "Actual: 0 | Predicted: 0 | Prob class 1: 0.3522656261920929\n",
            "Actual: 0 | Predicted: 0 | Prob class 1: 0.3522656261920929\n",
            "Actual: 0 | Predicted: 0 | Prob class 1: 0.35266485810279846\n",
            "Actual: 0 | Predicted: 0 | Prob class 1: 0.3522656261920929\n",
            "Actual: 0 | Predicted: 0 | Prob class 1: 0.3810283839702606\n",
            "Actual: 0 | Predicted: 1 | Prob class 1: 0.6653591990470886\n",
            "Actual: 0 | Predicted: 1 | Prob class 1: 0.6854948997497559\n",
            "Actual: 0 | Predicted: 0 | Prob class 1: 0.4937286972999573\n",
            "Actual: 0 | Predicted: 0 | Prob class 1: 0.3522656261920929\n",
            "Actual: 0 | Predicted: 0 | Prob class 1: 0.44281265139579773\n",
            "Actual: 0 | Predicted: 1 | Prob class 1: 0.6827542781829834\n",
            "Actual: 0 | Predicted: 0 | Prob class 1: 0.3938700258731842\n",
            "Actual: 0 | Predicted: 0 | Prob class 1: 0.3901297152042389\n",
            "Actual: 0 | Predicted: 1 | Prob class 1: 0.728611409664154\n",
            "Actual: 0 | Predicted: 1 | Prob class 1: 0.602122962474823\n",
            "Actual: 0 | Predicted: 1 | Prob class 1: 0.7735103964805603\n",
            "Actual: 0 | Predicted: 1 | Prob class 1: 0.7313459515571594\n",
            "Actual: 0 | Predicted: 0 | Prob class 1: 0.3522656261920929\n",
            "Actual: 0 | Predicted: 1 | Prob class 1: 0.8452403545379639\n",
            "Actual: 0 | Predicted: 0 | Prob class 1: 0.39332878589630127\n",
            "Actual: 0 | Predicted: 0 | Prob class 1: 0.3522656261920929\n",
            "Actual: 0 | Predicted: 1 | Prob class 1: 0.549518883228302\n",
            "Actual: 0 | Predicted: 0 | Prob class 1: 0.3522656261920929\n",
            "Actual: 0 | Predicted: 0 | Prob class 1: 0.3522656261920929\n",
            "Actual: 0 | Predicted: 0 | Prob class 1: 0.3522656261920929\n",
            "Actual: 0 | Predicted: 0 | Prob class 1: 0.3522656261920929\n",
            "Actual: 0 | Predicted: 0 | Prob class 1: 0.37230628728866577\n",
            "Actual: 0 | Predicted: 0 | Prob class 1: 0.3522656261920929\n",
            "Actual: 0 | Predicted: 0 | Prob class 1: 0.3522656261920929\n",
            "Actual: 0 | Predicted: 0 | Prob class 1: 0.4351327419281006\n",
            "Actual: 0 | Predicted: 0 | Prob class 1: 0.35394078493118286\n",
            "Actual: 0 | Predicted: 1 | Prob class 1: 0.55625981092453\n",
            "Actual: 0 | Predicted: 0 | Prob class 1: 0.3522656261920929\n",
            "Actual: 0 | Predicted: 0 | Prob class 1: 0.37366732954978943\n",
            "Actual: 0 | Predicted: 0 | Prob class 1: 0.3522656261920929\n",
            "Actual: 0 | Predicted: 0 | Prob class 1: 0.422533243894577\n",
            "Actual: 0 | Predicted: 0 | Prob class 1: 0.3522656261920929\n",
            "Actual: 0 | Predicted: 0 | Prob class 1: 0.3522656261920929\n",
            "Actual: 0 | Predicted: 0 | Prob class 1: 0.45275819301605225\n",
            "Actual: 0 | Predicted: 0 | Prob class 1: 0.3522656261920929\n",
            "Actual: 0 | Predicted: 0 | Prob class 1: 0.3522656261920929\n",
            "Actual: 0 | Predicted: 0 | Prob class 1: 0.3522656261920929\n",
            "Actual: 0 | Predicted: 0 | Prob class 1: 0.3522656261920929\n",
            "Actual: 0 | Predicted: 0 | Prob class 1: 0.3522656261920929\n",
            "Actual: 0 | Predicted: 0 | Prob class 1: 0.3612508177757263\n",
            "Actual: 0 | Predicted: 0 | Prob class 1: 0.3522656261920929\n",
            "Actual: 0 | Predicted: 1 | Prob class 1: 0.7268233299255371\n",
            "Actual: 0 | Predicted: 0 | Prob class 1: 0.44332072138786316\n",
            "Actual: 0 | Predicted: 0 | Prob class 1: 0.3522656261920929\n",
            "Actual: 0 | Predicted: 0 | Prob class 1: 0.4601820707321167\n",
            "Actual: 0 | Predicted: 0 | Prob class 1: 0.3522656261920929\n",
            "Actual: 0 | Predicted: 1 | Prob class 1: 0.8120911121368408\n",
            "Actual: 0 | Predicted: 0 | Prob class 1: 0.3522656261920929\n",
            "Actual: 0 | Predicted: 0 | Prob class 1: 0.3522656261920929\n",
            "Actual: 0 | Predicted: 0 | Prob class 1: 0.3778185546398163\n",
            "Actual: 0 | Predicted: 0 | Prob class 1: 0.42059409618377686\n",
            "Actual: 0 | Predicted: 0 | Prob class 1: 0.4006340503692627\n",
            "Actual: 0 | Predicted: 0 | Prob class 1: 0.3522656261920929\n",
            "Actual: 0 | Predicted: 0 | Prob class 1: 0.4106310307979584\n",
            "Actual: 0 | Predicted: 0 | Prob class 1: 0.4722696542739868\n",
            "Actual: 0 | Predicted: 0 | Prob class 1: 0.3936198353767395\n",
            "Actual: 0 | Predicted: 0 | Prob class 1: 0.4339010417461395\n",
            "Actual: 0 | Predicted: 1 | Prob class 1: 0.5665979385375977\n",
            "Actual: 0 | Predicted: 1 | Prob class 1: 0.5260303616523743\n",
            "Actual: 0 | Predicted: 0 | Prob class 1: 0.3522656261920929\n",
            "Actual: 0 | Predicted: 1 | Prob class 1: 0.7458867430686951\n",
            "Actual: 0 | Predicted: 1 | Prob class 1: 0.7605469822883606\n",
            "Actual: 0 | Predicted: 0 | Prob class 1: 0.3522656261920929\n",
            "Actual: 0 | Predicted: 1 | Prob class 1: 0.638360321521759\n",
            "Actual: 0 | Predicted: 0 | Prob class 1: 0.37428879737854004\n",
            "Actual: 0 | Predicted: 0 | Prob class 1: 0.3601720333099365\n",
            "Actual: 0 | Predicted: 1 | Prob class 1: 0.8246175646781921\n",
            "Actual: 0 | Predicted: 0 | Prob class 1: 0.3553706705570221\n",
            "Actual: 0 | Predicted: 0 | Prob class 1: 0.44489529728889465\n",
            "Actual: 0 | Predicted: 0 | Prob class 1: 0.3522656261920929\n",
            "Actual: 0 | Predicted: 0 | Prob class 1: 0.41273069381713867\n",
            "Actual: 0 | Predicted: 0 | Prob class 1: 0.40213897824287415\n",
            "Actual: 0 | Predicted: 1 | Prob class 1: 0.8127341866493225\n",
            "Actual: 0 | Predicted: 0 | Prob class 1: 0.3522656261920929\n",
            "Actual: 0 | Predicted: 0 | Prob class 1: 0.3522656261920929\n",
            "Actual: 0 | Predicted: 0 | Prob class 1: 0.3522656261920929\n",
            "Actual: 0 | Predicted: 0 | Prob class 1: 0.3522656261920929\n",
            "Actual: 0 | Predicted: 0 | Prob class 1: 0.3522656261920929\n",
            "Actual: 0 | Predicted: 0 | Prob class 1: 0.3522656261920929\n",
            "Actual: 0 | Predicted: 0 | Prob class 1: 0.3522656261920929\n",
            "Actual: 0 | Predicted: 0 | Prob class 1: 0.3522656261920929\n",
            "Actual: 0 | Predicted: 0 | Prob class 1: 0.3522656261920929\n",
            "Actual: 0 | Predicted: 1 | Prob class 1: 0.6163880825042725\n",
            "Actual: 0 | Predicted: 1 | Prob class 1: 0.5772635340690613\n",
            "Actual: 0 | Predicted: 0 | Prob class 1: 0.3522656261920929\n",
            "Actual: 0 | Predicted: 0 | Prob class 1: 0.3522656261920929\n",
            "Actual: 0 | Predicted: 1 | Prob class 1: 0.6515841484069824\n",
            "Actual: 0 | Predicted: 0 | Prob class 1: 0.3522656261920929\n",
            "Actual: 0 | Predicted: 0 | Prob class 1: 0.3522656261920929\n",
            "Actual: 0 | Predicted: 0 | Prob class 1: 0.3522656261920929\n",
            "Actual: 0 | Predicted: 0 | Prob class 1: 0.3647189140319824\n",
            "Actual: 0 | Predicted: 0 | Prob class 1: 0.3522656261920929\n",
            "Actual: 0 | Predicted: 0 | Prob class 1: 0.3522656261920929\n",
            "Actual: 0 | Predicted: 0 | Prob class 1: 0.4321136474609375\n",
            "Actual: 0 | Predicted: 0 | Prob class 1: 0.3522656261920929\n",
            "Actual: 0 | Predicted: 0 | Prob class 1: 0.3522656261920929\n",
            "Actual: 0 | Predicted: 0 | Prob class 1: 0.3588504195213318\n",
            "Actual: 0 | Predicted: 0 | Prob class 1: 0.4341632127761841\n",
            "Actual: 0 | Predicted: 1 | Prob class 1: 0.7145325541496277\n",
            "Actual: 0 | Predicted: 0 | Prob class 1: 0.3522656261920929\n",
            "Actual: 0 | Predicted: 0 | Prob class 1: 0.36908718943595886\n",
            "Actual: 0 | Predicted: 0 | Prob class 1: 0.3522656261920929\n",
            "Actual: 0 | Predicted: 0 | Prob class 1: 0.3522656261920929\n",
            "Actual: 0 | Predicted: 1 | Prob class 1: 0.5625219345092773\n",
            "Actual: 0 | Predicted: 0 | Prob class 1: 0.3888789117336273\n",
            "Actual: 0 | Predicted: 0 | Prob class 1: 0.4000854194164276\n",
            "Actual: 0 | Predicted: 1 | Prob class 1: 0.5727254152297974\n",
            "Actual: 0 | Predicted: 0 | Prob class 1: 0.4090230166912079\n",
            "Actual: 0 | Predicted: 1 | Prob class 1: 0.6979278922080994\n",
            "Actual: 0 | Predicted: 0 | Prob class 1: 0.35245615243911743\n",
            "Actual: 0 | Predicted: 0 | Prob class 1: 0.3522656261920929\n",
            "Actual: 0 | Predicted: 0 | Prob class 1: 0.4352496564388275\n",
            "Actual: 0 | Predicted: 0 | Prob class 1: 0.3943431079387665\n",
            "Actual: 0 | Predicted: 0 | Prob class 1: 0.3522656261920929\n",
            "Actual: 0 | Predicted: 0 | Prob class 1: 0.3522656261920929\n",
            "Actual: 0 | Predicted: 0 | Prob class 1: 0.464482843875885\n",
            "Actual: 0 | Predicted: 0 | Prob class 1: 0.4705371856689453\n",
            "Actual: 0 | Predicted: 1 | Prob class 1: 0.5072577595710754\n",
            "Actual: 0 | Predicted: 1 | Prob class 1: 0.716551661491394\n",
            "Actual: 0 | Predicted: 0 | Prob class 1: 0.42351609468460083\n",
            "Actual: 0 | Predicted: 0 | Prob class 1: 0.3522656261920929\n",
            "Actual: 0 | Predicted: 0 | Prob class 1: 0.42755424976348877\n",
            "Actual: 0 | Predicted: 0 | Prob class 1: 0.4434921145439148\n",
            "Actual: 0 | Predicted: 0 | Prob class 1: 0.3522656261920929\n",
            "Actual: 0 | Predicted: 1 | Prob class 1: 0.6246650218963623\n",
            "Actual: 0 | Predicted: 0 | Prob class 1: 0.3522656261920929\n",
            "Actual: 0 | Predicted: 0 | Prob class 1: 0.3522656261920929\n",
            "Actual: 0 | Predicted: 1 | Prob class 1: 0.6663753986358643\n",
            "Actual: 0 | Predicted: 0 | Prob class 1: 0.3522656261920929\n",
            "Actual: 0 | Predicted: 0 | Prob class 1: 0.4229126572608948\n",
            "Actual: 0 | Predicted: 0 | Prob class 1: 0.4011457860469818\n",
            "Actual: 0 | Predicted: 0 | Prob class 1: 0.3522656261920929\n",
            "Actual: 0 | Predicted: 0 | Prob class 1: 0.3522656261920929\n",
            "Actual: 0 | Predicted: 1 | Prob class 1: 0.762168288230896\n",
            "Actual: 0 | Predicted: 0 | Prob class 1: 0.3522656261920929\n",
            "Actual: 0 | Predicted: 0 | Prob class 1: 0.3522656261920929\n",
            "Actual: 0 | Predicted: 0 | Prob class 1: 0.400521844625473\n",
            "Actual: 0 | Predicted: 0 | Prob class 1: 0.42409732937812805\n",
            "Actual: 0 | Predicted: 0 | Prob class 1: 0.3845667243003845\n",
            "Actual: 0 | Predicted: 0 | Prob class 1: 0.3522656261920929\n",
            "Actual: 0 | Predicted: 0 | Prob class 1: 0.3522656261920929\n",
            "Actual: 0 | Predicted: 0 | Prob class 1: 0.3522656261920929\n",
            "Actual: 0 | Predicted: 0 | Prob class 1: 0.3522656261920929\n",
            "Actual: 0 | Predicted: 0 | Prob class 1: 0.3522656261920929\n",
            "Actual: 0 | Predicted: 1 | Prob class 1: 0.8221247792243958\n",
            "Actual: 0 | Predicted: 0 | Prob class 1: 0.37009289860725403\n",
            "Actual: 0 | Predicted: 0 | Prob class 1: 0.4312446117401123\n",
            "Actual: 0 | Predicted: 0 | Prob class 1: 0.45061129331588745\n",
            "Actual: 0 | Predicted: 1 | Prob class 1: 0.5329663157463074\n",
            "Actual: 0 | Predicted: 0 | Prob class 1: 0.3522656261920929\n",
            "Actual: 0 | Predicted: 0 | Prob class 1: 0.3522656261920929\n",
            "Actual: 0 | Predicted: 0 | Prob class 1: 0.35292497277259827\n",
            "Actual: 0 | Predicted: 0 | Prob class 1: 0.3522656261920929\n",
            "Actual: 0 | Predicted: 0 | Prob class 1: 0.3522656261920929\n",
            "Actual: 0 | Predicted: 0 | Prob class 1: 0.3522656261920929\n",
            "Actual: 0 | Predicted: 1 | Prob class 1: 0.8992820978164673\n",
            "Actual: 0 | Predicted: 0 | Prob class 1: 0.426259309053421\n",
            "Actual: 0 | Predicted: 0 | Prob class 1: 0.3522656261920929\n",
            "Actual: 0 | Predicted: 0 | Prob class 1: 0.44771504402160645\n",
            "Actual: 0 | Predicted: 0 | Prob class 1: 0.3522656261920929\n",
            "Actual: 0 | Predicted: 1 | Prob class 1: 0.5229367017745972\n",
            "Actual: 0 | Predicted: 0 | Prob class 1: 0.3522656261920929\n",
            "Actual: 0 | Predicted: 0 | Prob class 1: 0.3522656261920929\n",
            "Actual: 0 | Predicted: 0 | Prob class 1: 0.3738137185573578\n",
            "Actual: 0 | Predicted: 0 | Prob class 1: 0.3522656261920929\n",
            "Actual: 0 | Predicted: 0 | Prob class 1: 0.3522656261920929\n",
            "Actual: 0 | Predicted: 0 | Prob class 1: 0.3522656261920929\n",
            "Actual: 0 | Predicted: 0 | Prob class 1: 0.4125945270061493\n",
            "Actual: 0 | Predicted: 0 | Prob class 1: 0.3522656261920929\n",
            "Actual: 0 | Predicted: 0 | Prob class 1: 0.3522656261920929\n",
            "Actual: 0 | Predicted: 0 | Prob class 1: 0.3539258539676666\n",
            "Actual: 0 | Predicted: 0 | Prob class 1: 0.39384472370147705\n",
            "Actual: 0 | Predicted: 0 | Prob class 1: 0.35262811183929443\n",
            "Actual: 0 | Predicted: 0 | Prob class 1: 0.3522656261920929\n",
            "Actual: 0 | Predicted: 0 | Prob class 1: 0.4167006015777588\n",
            "Actual: 0 | Predicted: 0 | Prob class 1: 0.35665443539619446\n",
            "Actual: 0 | Predicted: 0 | Prob class 1: 0.3522656261920929\n",
            "Actual: 0 | Predicted: 0 | Prob class 1: 0.3645251393318176\n",
            "Actual: 0 | Predicted: 0 | Prob class 1: 0.48269325494766235\n",
            "Actual: 0 | Predicted: 0 | Prob class 1: 0.3522656261920929\n",
            "Actual: 0 | Predicted: 0 | Prob class 1: 0.37430933117866516\n",
            "Actual: 0 | Predicted: 0 | Prob class 1: 0.3654024600982666\n",
            "Actual: 0 | Predicted: 0 | Prob class 1: 0.3522656261920929\n",
            "Actual: 0 | Predicted: 0 | Prob class 1: 0.3569556772708893\n",
            "Actual: 0 | Predicted: 1 | Prob class 1: 0.8557304739952087\n",
            "Actual: 1 | Predicted: 1 | Prob class 1: 0.7882339358329773\n",
            "Actual: 1 | Predicted: 1 | Prob class 1: 0.6586249470710754\n",
            "Actual: 1 | Predicted: 1 | Prob class 1: 0.7995648980140686\n",
            "Actual: 1 | Predicted: 0 | Prob class 1: 0.4080742299556732\n",
            "Actual: 1 | Predicted: 0 | Prob class 1: 0.3757266104221344\n",
            "Actual: 1 | Predicted: 1 | Prob class 1: 0.6929181218147278\n",
            "Actual: 1 | Predicted: 0 | Prob class 1: 0.4047563970088959\n",
            "Actual: 1 | Predicted: 0 | Prob class 1: 0.39576423168182373\n",
            "Actual: 1 | Predicted: 0 | Prob class 1: 0.4552799165248871\n",
            "Actual: 1 | Predicted: 1 | Prob class 1: 0.9836680293083191\n",
            "Actual: 1 | Predicted: 1 | Prob class 1: 0.9993945360183716\n",
            "Actual: 1 | Predicted: 1 | Prob class 1: 0.8805174827575684\n",
            "Actual: 1 | Predicted: 1 | Prob class 1: 0.9836680293083191\n",
            "Actual: 1 | Predicted: 1 | Prob class 1: 0.9878842234611511\n",
            "Actual: 1 | Predicted: 1 | Prob class 1: 0.9079245328903198\n",
            "Actual: 1 | Predicted: 0 | Prob class 1: 0.42093560099601746\n",
            "Actual: 1 | Predicted: 1 | Prob class 1: 0.9050707817077637\n",
            "Actual: 1 | Predicted: 1 | Prob class 1: 0.9296293258666992\n",
            "Actual: 1 | Predicted: 1 | Prob class 1: 0.6451892852783203\n",
            "Actual: 1 | Predicted: 1 | Prob class 1: 0.6451892852783203\n",
            "Actual: 1 | Predicted: 1 | Prob class 1: 0.9999597072601318\n",
            "Actual: 1 | Predicted: 1 | Prob class 1: 0.9708994626998901\n",
            "Actual: 1 | Predicted: 0 | Prob class 1: 0.3988650441169739\n",
            "Actual: 1 | Predicted: 0 | Prob class 1: 0.3522656261920929\n",
            "Actual: 1 | Predicted: 1 | Prob class 1: 0.945728600025177\n",
            "Actual: 1 | Predicted: 0 | Prob class 1: 0.35542410612106323\n",
            "Actual: 1 | Predicted: 1 | Prob class 1: 0.7351677417755127\n",
            "Actual: 1 | Predicted: 1 | Prob class 1: 0.9327546954154968\n",
            "Actual: 1 | Predicted: 0 | Prob class 1: 0.3522656261920929\n",
            "Actual: 1 | Predicted: 1 | Prob class 1: 0.815053403377533\n",
            "Actual: 1 | Predicted: 1 | Prob class 1: 0.9496515989303589\n",
            "Actual: 1 | Predicted: 0 | Prob class 1: 0.4298197627067566\n",
            "Actual: 1 | Predicted: 0 | Prob class 1: 0.4750933349132538\n",
            "Actual: 1 | Predicted: 1 | Prob class 1: 0.9993402361869812\n",
            "Actual: 1 | Predicted: 1 | Prob class 1: 0.8658196330070496\n",
            "Actual: 1 | Predicted: 1 | Prob class 1: 0.5004507899284363\n",
            "Actual: 1 | Predicted: 1 | Prob class 1: 0.8589698076248169\n",
            "Actual: 1 | Predicted: 0 | Prob class 1: 0.41893693804740906\n",
            "Actual: 1 | Predicted: 0 | Prob class 1: 0.3522656261920929\n",
            "Actual: 1 | Predicted: 1 | Prob class 1: 0.8969253301620483\n",
            "Actual: 1 | Predicted: 0 | Prob class 1: 0.49898090958595276\n",
            "Actual: 1 | Predicted: 1 | Prob class 1: 0.9999817609786987\n",
            "Actual: 1 | Predicted: 1 | Prob class 1: 0.8047764897346497\n",
            "Actual: 1 | Predicted: 1 | Prob class 1: 0.5379341244697571\n",
            "Actual: 1 | Predicted: 0 | Prob class 1: 0.3522656261920929\n",
            "Actual: 1 | Predicted: 1 | Prob class 1: 0.6294988393783569\n",
            "Actual: 1 | Predicted: 1 | Prob class 1: 0.8874939680099487\n",
            "Actual: 1 | Predicted: 1 | Prob class 1: 0.5780557990074158\n",
            "Actual: 1 | Predicted: 1 | Prob class 1: 0.6765432953834534\n",
            "Actual: 1 | Predicted: 1 | Prob class 1: 0.6812584400177002\n",
            "Actual: 1 | Predicted: 1 | Prob class 1: 0.9474863409996033\n",
            "Actual: 1 | Predicted: 1 | Prob class 1: 0.9992295503616333\n",
            "Actual: 1 | Predicted: 0 | Prob class 1: 0.3721955716609955\n",
            "Actual: 1 | Predicted: 0 | Prob class 1: 0.3522656261920929\n",
            "Actual: 1 | Predicted: 1 | Prob class 1: 0.9999306201934814\n",
            "Actual: 1 | Predicted: 0 | Prob class 1: 0.3522656261920929\n",
            "Actual: 1 | Predicted: 1 | Prob class 1: 0.6429439783096313\n",
            "Actual: 1 | Predicted: 1 | Prob class 1: 0.9425842761993408\n",
            "Actual: 1 | Predicted: 1 | Prob class 1: 0.5970931053161621\n",
            "Actual: 1 | Predicted: 1 | Prob class 1: 0.861030638217926\n",
            "Actual: 1 | Predicted: 1 | Prob class 1: 0.9688939452171326\n",
            "Actual: 1 | Predicted: 1 | Prob class 1: 0.914848268032074\n",
            "Actual: 1 | Predicted: 1 | Prob class 1: 0.5972189903259277\n",
            "Actual: 1 | Predicted: 1 | Prob class 1: 0.9573632478713989\n",
            "Actual: 1 | Predicted: 1 | Prob class 1: 0.6058844923973083\n",
            "Actual: 1 | Predicted: 1 | Prob class 1: 0.7511247992515564\n",
            "Actual: 1 | Predicted: 1 | Prob class 1: 0.9337000846862793\n",
            "Actual: 1 | Predicted: 1 | Prob class 1: 0.999953031539917\n",
            "Actual: 1 | Predicted: 1 | Prob class 1: 0.8103106617927551\n",
            "Actual: 1 | Predicted: 0 | Prob class 1: 0.47191810607910156\n",
            "Actual: 1 | Predicted: 1 | Prob class 1: 0.5340229868888855\n",
            "Actual: 1 | Predicted: 1 | Prob class 1: 0.9491130113601685\n",
            "Actual: 1 | Predicted: 0 | Prob class 1: 0.38729503750801086\n",
            "Actual: 1 | Predicted: 0 | Prob class 1: 0.3522656261920929\n",
            "Actual: 1 | Predicted: 1 | Prob class 1: 0.852938711643219\n",
            "Actual: 1 | Predicted: 1 | Prob class 1: 0.883790135383606\n",
            "Actual: 1 | Predicted: 1 | Prob class 1: 0.7209030389785767\n",
            "Actual: 1 | Predicted: 0 | Prob class 1: 0.37733325362205505\n",
            "Actual: 1 | Predicted: 1 | Prob class 1: 0.6386727094650269\n",
            "Actual: 1 | Predicted: 1 | Prob class 1: 0.9817330837249756\n",
            "Actual: 1 | Predicted: 1 | Prob class 1: 0.9465029835700989\n",
            "Actual: 1 | Predicted: 1 | Prob class 1: 0.9129411578178406\n",
            "Actual: 1 | Predicted: 1 | Prob class 1: 0.9951565861701965\n",
            "Actual: 1 | Predicted: 1 | Prob class 1: 0.9747936129570007\n",
            "Actual: 1 | Predicted: 1 | Prob class 1: 0.6997780203819275\n",
            "Actual: 1 | Predicted: 0 | Prob class 1: 0.3721955716609955\n",
            "Actual: 1 | Predicted: 1 | Prob class 1: 0.5756726264953613\n",
            "Actual: 1 | Predicted: 1 | Prob class 1: 0.9971334934234619\n",
            "Actual: 1 | Predicted: 1 | Prob class 1: 0.687539279460907\n",
            "Actual: 1 | Predicted: 1 | Prob class 1: 0.8079490065574646\n",
            "Actual: 1 | Predicted: 1 | Prob class 1: 0.9790063500404358\n",
            "Actual: 1 | Predicted: 1 | Prob class 1: 0.668649435043335\n",
            "Actual: 1 | Predicted: 0 | Prob class 1: 0.3522656261920929\n",
            "Actual: 1 | Predicted: 0 | Prob class 1: 0.47558993101119995\n",
            "Actual: 1 | Predicted: 0 | Prob class 1: 0.3522656261920929\n",
            "Actual: 1 | Predicted: 1 | Prob class 1: 0.6437730193138123\n",
            "Actual: 1 | Predicted: 1 | Prob class 1: 0.9821265339851379\n",
            "Actual: 1 | Predicted: 0 | Prob class 1: 0.4884735345840454\n",
            "Actual: 1 | Predicted: 1 | Prob class 1: 0.8015835285186768\n",
            "Actual: 1 | Predicted: 1 | Prob class 1: 0.9996187686920166\n",
            "Actual: 1 | Predicted: 1 | Prob class 1: 0.9988248944282532\n",
            "Actual: 1 | Predicted: 1 | Prob class 1: 0.5847340226173401\n",
            "Actual: 1 | Predicted: 0 | Prob class 1: 0.40866658091545105\n",
            "Actual: 1 | Predicted: 1 | Prob class 1: 0.6442817449569702\n",
            "Actual: 1 | Predicted: 1 | Prob class 1: 0.8079490065574646\n",
            "Actual: 1 | Predicted: 1 | Prob class 1: 0.5891785025596619\n",
            "Actual: 1 | Predicted: 1 | Prob class 1: 0.5197341442108154\n",
            "[[183  39]\n",
            " [ 29  78]]\n",
            "accuracy_score: 0.7933130699088146\n",
            "precision_score: 0.6666666666666666\n",
            "recall_score: 0.7289719626168224\n"
          ]
        }
      ],
      "source": [
        "evaluate_final(best_model, img_scaling, label_list)"
      ],
      "id": "gOoqLKtRfzZ-"
    },
    {
      "cell_type": "markdown",
      "source": [
        "# Example result from model (Testing Set)"
      ],
      "metadata": {
        "id": "9PFWjtsQtdFs"
      },
      "id": "9PFWjtsQtdFs"
    },
    {
      "cell_type": "code",
      "source": [
        "probability_model = tf.keras.Sequential([\n",
        "                                         best_model,\n",
        "                                         tf.keras.layers.Softmax()])"
      ],
      "metadata": {
        "id": "kzuRaC_5z17H"
      },
      "id": "kzuRaC_5z17H",
      "execution_count": 27,
      "outputs": []
    },
    {
      "cell_type": "code",
      "source": [
        "prediction_jp_test = probability_model(sample_test_jp_test.reshape(1, h, w, 3)).numpy()\n",
        "prediction_th_test = probability_model(sample_test_th_test.reshape(1, h, w, 3)).numpy()\n",
        "prediction_eu_test = probability_model(sample_test_eu_test.reshape(1, h, w, 3)).numpy()"
      ],
      "metadata": {
        "id": "wWSiYdNJz3c4"
      },
      "id": "wWSiYdNJz3c4",
      "execution_count": 35,
      "outputs": []
    },
    {
      "cell_type": "code",
      "source": [
        "prediction_jp_test"
      ],
      "metadata": {
        "colab": {
          "base_uri": "https://localhost:8080/"
        },
        "id": "InCVKoGjtY85",
        "outputId": "434345ca-c8d0-4a86-a78e-b018684c3e1c"
      },
      "execution_count": 36,
      "outputs": [
        {
          "output_type": "execute_result",
          "data": {
            "text/plain": [
              "array([[0.6475471, 0.3524529]], dtype=float32)"
            ]
          },
          "metadata": {},
          "execution_count": 36
        }
      ],
      "id": "InCVKoGjtY85"
    },
    {
      "cell_type": "code",
      "source": [
        "prediction_th_test"
      ],
      "metadata": {
        "colab": {
          "base_uri": "https://localhost:8080/"
        },
        "id": "ivzBbwVKxohT",
        "outputId": "0d57da95-adad-4a60-dc7b-35ef3b5eb749"
      },
      "execution_count": 37,
      "outputs": [
        {
          "output_type": "execute_result",
          "data": {
            "text/plain": [
              "array([[0.64773434, 0.35226563]], dtype=float32)"
            ]
          },
          "metadata": {},
          "execution_count": 37
        }
      ],
      "id": "ivzBbwVKxohT"
    },
    {
      "cell_type": "code",
      "source": [
        "prediction_eu_test"
      ],
      "metadata": {
        "colab": {
          "base_uri": "https://localhost:8080/"
        },
        "id": "fcfMxFpUxoj7",
        "outputId": "d8593b98-73ca-480a-a97a-114496f69da2"
      },
      "execution_count": 38,
      "outputs": [
        {
          "output_type": "execute_result",
          "data": {
            "text/plain": [
              "array([[0.5861268, 0.4138732]], dtype=float32)"
            ]
          },
          "metadata": {},
          "execution_count": 38
        }
      ],
      "id": "fcfMxFpUxoj7"
    },
    {
      "cell_type": "markdown",
      "metadata": {
        "id": "skzH9G-GVVQk"
      },
      "source": [
        "# Example result from model (Validation Set)"
      ],
      "id": "skzH9G-GVVQk"
    },
    {
      "cell_type": "code",
      "execution_count": 32,
      "metadata": {
        "id": "AcwJB_gwFy-i"
      },
      "outputs": [],
      "source": [
        "\n",
        "\n",
        "prediction_jp = probability_model(sample_test_jp.reshape(1, h, w, 3)).numpy()\n",
        "prediction_th = probability_model(sample_test_th.reshape(1, h, w, 3)).numpy()"
      ],
      "id": "AcwJB_gwFy-i"
    },
    {
      "cell_type": "code",
      "execution_count": 33,
      "metadata": {
        "id": "lIDZAhd_IsD8",
        "colab": {
          "base_uri": "https://localhost:8080/"
        },
        "outputId": "a16a495c-48f4-404c-bd24-86e7a9292f03"
      },
      "outputs": [
        {
          "output_type": "execute_result",
          "data": {
            "text/plain": [
              "array([[0.07037066, 0.9296293 ]], dtype=float32)"
            ]
          },
          "metadata": {},
          "execution_count": 33
        }
      ],
      "source": [
        "prediction_jp"
      ],
      "id": "lIDZAhd_IsD8"
    },
    {
      "cell_type": "code",
      "execution_count": 34,
      "metadata": {
        "id": "NfPBayZ6Jm8s",
        "colab": {
          "base_uri": "https://localhost:8080/"
        },
        "outputId": "b158f037-818a-4e4c-9569-aee9c18862ff"
      },
      "outputs": [
        {
          "output_type": "execute_result",
          "data": {
            "text/plain": [
              "array([[0.64773434, 0.35226563]], dtype=float32)"
            ]
          },
          "metadata": {},
          "execution_count": 34
        }
      ],
      "source": [
        "prediction_th"
      ],
      "id": "NfPBayZ6Jm8s"
    },
    {
      "cell_type": "code",
      "execution_count": 34,
      "metadata": {
        "id": "dI70qgVCHYyG"
      },
      "outputs": [],
      "source": [
        ""
      ],
      "id": "dI70qgVCHYyG"
    }
  ],
  "metadata": {
    "accelerator": "GPU",
    "colab": {
      "collapsed_sections": [
        "llXMxW0WA36R"
      ],
      "machine_shape": "hm",
      "name": "CNN_test_for_validation.ipynb",
      "provenance": [],
      "toc_visible": true
    },
    "kernelspec": {
      "display_name": "Python 3",
      "language": "python",
      "name": "python3"
    },
    "language_info": {
      "codemirror_mode": {
        "name": "ipython",
        "version": 3
      },
      "file_extension": ".py",
      "mimetype": "text/x-python",
      "name": "python",
      "nbconvert_exporter": "python",
      "pygments_lexer": "ipython3",
      "version": "3.8.8"
    }
  },
  "nbformat": 4,
  "nbformat_minor": 5
}